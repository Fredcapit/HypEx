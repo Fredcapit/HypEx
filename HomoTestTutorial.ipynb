{
 "cells": [
  {
   "cell_type": "code",
   "execution_count": 1,
   "id": "initial_id",
   "metadata": {
    "ExecuteTime": {
     "end_time": "2024-06-03T12:57:39.124354200Z",
     "start_time": "2024-06-03T12:57:39.045085600Z"
    },
    "collapsed": true
   },
   "outputs": [],
   "source": [
    "from hypex.experiments.homogeneity import HOMOGENEITY_TEST\n",
    "from hypex.dataset import Dataset, ExperimentData, InfoRole, TreatmentRole, TargetRole"
   ]
  },
  {
   "cell_type": "code",
   "execution_count": 2,
   "id": "e5ff36358b012e1",
   "metadata": {
    "ExecuteTime": {
     "end_time": "2024-06-03T12:57:39.491179500Z",
     "start_time": "2024-06-03T12:57:39.137672600Z"
    },
    "collapsed": false
   },
   "outputs": [
    {
     "data": {
      "text/plain": [
       "      user_id  signup_month  treat  pre_spends  post_spends   age gender  \\\n",
       "0           0             0      0       488.0   414.444444   NaN      M   \n",
       "1           1             8      1       512.5   462.222222  26.0    NaN   \n",
       "2           2             7      1       483.0   479.444444  25.0      M   \n",
       "3           3             0      0       501.5   424.333333  39.0      M   \n",
       "4           4             1      1       543.0   514.555556  18.0      F   \n",
       "...       ...           ...    ...         ...          ...   ...    ...   \n",
       "9995     9995            10      1       538.5   450.444444  42.0      M   \n",
       "9996     9996             0      0       500.5   430.888889  26.0      F   \n",
       "9997     9997             3      1       473.0   534.111111  22.0      F   \n",
       "9998     9998             2      1       495.0   523.222222  67.0      F   \n",
       "9999     9999             7      1       508.0   475.888889  38.0      F   \n",
       "\n",
       "        industry  \n",
       "0     E-commerce  \n",
       "1     E-commerce  \n",
       "2      Logistics  \n",
       "3     E-commerce  \n",
       "4     E-commerce  \n",
       "...          ...  \n",
       "9995   Logistics  \n",
       "9996   Logistics  \n",
       "9997  E-commerce  \n",
       "9998  E-commerce  \n",
       "9999  E-commerce  \n",
       "\n",
       "[10000 rows x 8 columns]"
      ]
     },
     "execution_count": 2,
     "metadata": {},
     "output_type": "execute_result"
    }
   ],
   "source": [
    "data = Dataset(\n",
    "    roles={\n",
    "        \"user_id\": InfoRole(int),\n",
    "        \"treat\": TreatmentRole(int),\n",
    "        \"pre_spends\": TargetRole(float),\n",
    "        \"post_spends\": TargetRole(float),\n",
    "        \"gender\": TargetRole(str)\n",
    "    }, data=\"data.csv\",\n",
    ")\n",
    "data"
   ]
  },
  {
   "cell_type": "code",
   "execution_count": 3,
   "id": "d189239c9e91906a",
   "metadata": {
    "ExecuteTime": {
     "end_time": "2024-06-03T12:57:40.388281600Z",
     "start_time": "2024-06-03T12:57:39.391916600Z"
    },
    "collapsed": false
   },
   "outputs": [],
   "source": [
    "test = HOMOGENEITY_TEST\n",
    "ed = ExperimentData(data)\n",
    "result = test.execute(ed)"
   ]
  },
  {
   "cell_type": "code",
   "execution_count": 4,
   "id": "7aed86e8d7adc8b7",
   "metadata": {
    "ExecuteTime": {
     "end_time": "2024-06-03T12:57:40.479111600Z",
     "start_time": "2024-06-03T12:57:40.395279600Z"
    },
    "collapsed": false
   },
   "outputs": [
    {
     "data": {
      "text/plain": [
       "{'GroupSizes┴┴pre_spends':    control size  test size  control size %  test size %\n",
       " 1          4936       5064           49.36        50.64,\n",
       " 'GroupDifference┴┴pre_spends':    control mean   test mean  difference  difference %\n",
       " 1    484.911973  489.220379    4.308406      0.888492,\n",
       " 'TTest┴┴pre_spends':         p-value  statistic  pass\n",
       " 1  2.315047e-30 -11.489293  True,\n",
       " 'KSTest┴┴pre_spends':         p-value  statistic  pass\n",
       " 1  1.559150e-13   0.077573  True,\n",
       " 'GroupSizes┴┴post_spends':    control size  test size  control size %  test size %\n",
       " 1          4936       5064           49.36        50.64,\n",
       " 'GroupDifference┴┴post_spends':    control mean   test mean  difference  difference %\n",
       " 1    420.046619  483.470664   63.424045     15.099287,\n",
       " 'TTest┴┴post_spends':    p-value   statistic  pass\n",
       " 1      0.0 -135.560001  True,\n",
       " 'KSTest┴┴post_spends':    p-value  statistic  pass\n",
       " 1      0.0     0.8959  True,\n",
       " 'GroupSizes┴┴gender':    control size  test size  control size %  test size %\n",
       " 1          4936       5064           49.36        50.64,\n",
       " 'Chi2Test┴┴gender':     p-value  statistic   pass\n",
       " 1  0.351553   0.867843  False,\n",
       " 'OneAAStatAnalyzer┴┴':    mean TTest p-value  mean TTest pass  mean KSTest p-value  mean KSTest pass  \\\n",
       " 0        1.157524e-30              1.0         7.795751e-14               1.0   \n",
       " \n",
       "    mean Chi2Test p-value  mean Chi2Test pass  mean test score  \n",
       " 0               0.351553                 0.0         0.140621  }"
      ]
     },
     "execution_count": 4,
     "metadata": {},
     "output_type": "execute_result"
    }
   ],
   "source": [
    "result.analysis_tables"
   ]
  },
  {
   "cell_type": "code",
   "execution_count": 5,
   "id": "9eb77e1762ac427",
   "metadata": {
    "ExecuteTime": {
     "end_time": "2024-06-03T12:57:40.523159600Z",
     "start_time": "2024-06-03T12:57:40.484124300Z"
    },
    "collapsed": false
   },
   "outputs": [
    {
     "data": {
      "text/plain": [
       "{'pre_spends GroupDifference control mean 1': 484.91197325769855,\n",
       " 'pre_spends GroupDifference test mean 1': 489.2203791469194,\n",
       " 'pre_spends GroupDifference difference 1': 4.3084058892208645,\n",
       " 'pre_spends GroupDifference difference % 1': 0.8884923711568682,\n",
       " 'post_spends GroupDifference control mean 1': 420.04661894471457,\n",
       " 'post_spends GroupDifference test mean 1': 483.470664384764,\n",
       " 'post_spends GroupDifference difference 1': 63.42404544004944,\n",
       " 'post_spends GroupDifference difference % 1': 15.099287217068902,\n",
       " 'pre_spends GroupSizes control size 1': 4936,\n",
       " 'pre_spends GroupSizes test size 1': 5064,\n",
       " 'pre_spends GroupSizes control size % 1': 49.36,\n",
       " 'pre_spends GroupSizes test size % 1': 50.63999999999999,\n",
       " 'pre_spends TTest p-value 1': 2.3150474758856975e-30,\n",
       " 'pre_spends TTest pass 1': 'NOT OK',\n",
       " 'post_spends TTest p-value 1': 0.0,\n",
       " 'post_spends TTest pass 1': 'NOT OK',\n",
       " 'pre_spends KSTest p-value 1': 1.5591501637482305e-13,\n",
       " 'pre_spends KSTest pass 1': 'NOT OK',\n",
       " 'post_spends KSTest p-value 1': 0.0,\n",
       " 'post_spends KSTest pass 1': 'NOT OK',\n",
       " 'gender Chi2Test p-value 1': 0.3515532777335355,\n",
       " 'gender Chi2Test pass 1': 'OK',\n",
       " 'mean TTest p-value': 1.1575237379428487e-30,\n",
       " 'mean TTest pass': 'NOT OK',\n",
       " 'mean KSTest p-value': 7.795750818741153e-14,\n",
       " 'mean KSTest pass': 'NOT OK',\n",
       " 'mean Chi2Test p-value': 0.3515532777335355,\n",
       " 'mean Chi2Test pass': 'OK',\n",
       " 'mean test score': 0.1406213110934454}"
      ]
     },
     "execution_count": 5,
     "metadata": {},
     "output_type": "execute_result"
    }
   ],
   "source": [
    "from hypex.reporters.homo import HomoDictReporter\n",
    "from hypex.reporters.homo import HomoDatasetReporter\n",
    "\n",
    "HomoDictReporter().report(result)"
   ]
  },
  {
   "cell_type": "code",
   "execution_count": 6,
   "id": "5e8a6372",
   "metadata": {},
   "outputs": [
    {
     "data": {
      "text/plain": [
       "       feature group TTest pass  TTest p-value KSTest pass  KSTest p-value  \\\n",
       "0   pre_spends     1     NOT OK   2.315047e-30      NOT OK    1.559150e-13   \n",
       "1  post_spends     1     NOT OK   0.000000e+00      NOT OK    0.000000e+00   \n",
       "2       gender     1        NaN            NaN         NaN             NaN   \n",
       "\n",
       "  Chi2Test pass  Chi2Test p-value  \n",
       "0           NaN               NaN  \n",
       "1           NaN               NaN  \n",
       "2            OK          0.351553  "
      ]
     },
     "execution_count": 6,
     "metadata": {},
     "output_type": "execute_result"
    }
   ],
   "source": [
    "HomoDatasetReporter().report(result)"
   ]
  },
  {
   "cell_type": "code",
   "execution_count": null,
   "id": "6e053507",
   "metadata": {},
   "outputs": [],
   "source": []
  }
 ],
 "metadata": {
  "kernelspec": {
   "display_name": "Python 3",
   "language": "python",
   "name": "python3"
  },
  "language_info": {
   "codemirror_mode": {
    "name": "ipython",
    "version": 3
   },
   "file_extension": ".py",
   "mimetype": "text/x-python",
   "name": "python",
   "nbconvert_exporter": "python",
   "pygments_lexer": "ipython3",
   "version": "3.10.11"
  }
 },
 "nbformat": 4,
 "nbformat_minor": 5
}

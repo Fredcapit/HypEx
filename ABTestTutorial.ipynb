{
 "cells": [
  {
   "cell_type": "code",
   "execution_count": 1,
   "id": "initial_id",
   "metadata": {
    "ExecuteTime": {
     "end_time": "2024-06-18T15:26:12.487222400Z",
     "start_time": "2024-06-18T15:26:11.153332700Z"
    },
    "collapsed": true
   },
   "outputs": [],
   "source": [
    "from hypex.dataset import Dataset, ExperimentData, InfoRole, TreatmentRole, TargetRole\n",
    "from hypex.reporters.ab import ABDatasetReporter\n",
    "from hypex.experiments.ab import AB_TEST "
   ]
  },
  {
   "cell_type": "code",
   "execution_count": 2,
   "id": "904175ab484d1690",
   "metadata": {
    "ExecuteTime": {
     "end_time": "2024-06-18T15:26:12.533848Z",
     "start_time": "2024-06-18T15:26:12.491464600Z"
    },
    "collapsed": false
   },
   "outputs": [
    {
     "data": {
      "text/plain": [
       "      user_id  signup_month  treat  pre_spends  post_spends   age gender  \\\n",
       "0           0             0      0       488.0   414.444444   NaN      M   \n",
       "1           1             8      1       512.5   462.222222  26.0    NaN   \n",
       "2           2             7      1       483.0   479.444444  25.0      M   \n",
       "3           3             0      0       501.5   424.333333  39.0      M   \n",
       "4           4             1      1       543.0   514.555556  18.0      F   \n",
       "...       ...           ...    ...         ...          ...   ...    ...   \n",
       "9995     9995            10      1       538.5   450.444444  42.0      M   \n",
       "9996     9996             0      0       500.5   430.888889  26.0      F   \n",
       "9997     9997             3      1       473.0   534.111111  22.0      F   \n",
       "9998     9998             2      1       495.0   523.222222  67.0      F   \n",
       "9999     9999             7      1       508.0   475.888889  38.0      F   \n",
       "\n",
       "        industry  \n",
       "0     E-commerce  \n",
       "1     E-commerce  \n",
       "2      Logistics  \n",
       "3     E-commerce  \n",
       "4     E-commerce  \n",
       "...          ...  \n",
       "9995   Logistics  \n",
       "9996   Logistics  \n",
       "9997  E-commerce  \n",
       "9998  E-commerce  \n",
       "9999  E-commerce  \n",
       "\n",
       "[10000 rows x 8 columns]"
      ]
     },
     "execution_count": 2,
     "metadata": {},
     "output_type": "execute_result"
    }
   ],
   "source": [
    "data = Dataset(\n",
    "    roles={\n",
    "        \"user_id\": InfoRole(int),\n",
    "        \"treat\": TreatmentRole(),\n",
    "        \"pre_spends\": TargetRole(),\n",
    "        \"post_spends\": TargetRole(), \n",
    "        \"gender\": TargetRole(str)\n",
    "    }, data=\"data.csv\",\n",
    ")\n",
    "data"
   ]
  },
  {
   "cell_type": "code",
   "execution_count": 3,
   "id": "a78151eca524b974",
   "metadata": {
    "ExecuteTime": {
     "end_time": "2024-06-18T15:26:12.578260700Z",
     "start_time": "2024-06-18T15:26:12.535850500Z"
    },
    "collapsed": false
   },
   "outputs": [
    {
     "data": {
      "text/plain": [
       "{'user_id': Info(<class 'int'>),\n",
       " 'treat': Treatment(<class 'int'>),\n",
       " 'pre_spends': Target(<class 'float'>),\n",
       " 'post_spends': Target(<class 'float'>),\n",
       " 'gender': Target(<class 'str'>),\n",
       " 'signup_month': Feature(<class 'int'>),\n",
       " 'age': Feature(<class 'float'>),\n",
       " 'industry': Feature(<class 'str'>)}"
      ]
     },
     "execution_count": 3,
     "metadata": {},
     "output_type": "execute_result"
    }
   ],
   "source": [
    "data.roles"
   ]
  },
  {
   "cell_type": "code",
   "execution_count": 4,
   "id": "a40f5762f0b37a0a",
   "metadata": {
    "ExecuteTime": {
     "end_time": "2024-06-18T15:26:12.830919500Z",
     "start_time": "2024-06-18T15:26:12.552510800Z"
    },
    "collapsed": false
   },
   "outputs": [],
   "source": [
    "test = AB_TEST\n",
    "ed = ExperimentData(data)\n",
    "result = test.execute(ed)"
   ]
  },
  {
   "cell_type": "code",
   "execution_count": 5,
   "id": "89a8898c35681e97",
   "metadata": {
    "ExecuteTime": {
     "end_time": "2024-06-18T15:26:12.866430400Z",
     "start_time": "2024-06-18T15:26:12.835104Z"
    },
    "collapsed": false
   },
   "outputs": [
    {
     "data": {
      "text/plain": [
       "{'GroupSizes┴┴':    control size  test size  control size %  test size %\n",
       " 0          4936       5064           49.36        50.64,\n",
       " 'GroupDifference┴┴pre_spends':    control mean   test mean  difference  difference %\n",
       " 0    484.911973  489.220379    4.308406      0.888492,\n",
       " 'TTest┴┴pre_spends':         p-value  statistic  pass\n",
       " 0  2.315047e-30 -11.489293  True,\n",
       " 'UTest┴┴pre_spends':         p-value   statistic  pass\n",
       " 0  7.624263e-12  11509971.0  True,\n",
       " 'GroupDifference┴┴post_spends':    control mean   test mean  difference  difference %\n",
       " 0    420.046619  483.470664   63.424045     15.099287,\n",
       " 'TTest┴┴post_spends':    p-value   statistic  pass\n",
       " 0      0.0 -135.560001  True,\n",
       " 'UTest┴┴post_spends':    p-value  statistic  pass\n",
       " 0      0.0   408754.5  True,\n",
       " 'Chi2Test┴┴gender':     p-value  statistic   pass\n",
       " 0  0.351553   0.867843  False,\n",
       " 'ABAnalyzer┴┴MultiTest':   accepted hypothesis\n",
       " 0                 [2],\n",
       " 'ABAnalyzer┴┴':    TTest p-value  TTest pass  UTest p-value  UTest pass\n",
       " 0   1.157524e-30         1.0   3.812131e-12         1.0}"
      ]
     },
     "execution_count": 5,
     "metadata": {},
     "output_type": "execute_result"
    }
   ],
   "source": [
    "result.analysis_tables"
   ]
  },
  {
   "cell_type": "code",
   "execution_count": 7,
   "id": "4936140f9c373dd3",
   "metadata": {
    "ExecuteTime": {
     "end_time": "2024-06-18T15:26:12.901946200Z",
     "start_time": "2024-06-18T15:26:12.865429200Z"
    },
    "collapsed": false
   },
   "outputs": [
    {
     "data": {
      "text/plain": [
       "       feature group TTest pass  TTest p-value UTest pass  UTest p-value  \\\n",
       "0   pre_spends     0     NOT OK   2.315047e-30     NOT OK   7.624263e-12   \n",
       "1  post_spends     0     NOT OK   0.000000e+00     NOT OK   0.000000e+00   \n",
       "2       gender     0        NaN            NaN        NaN            NaN   \n",
       "\n",
       "  Chi2Test pass  Chi2Test p-value  \n",
       "0           NaN               NaN  \n",
       "1           NaN               NaN  \n",
       "2            OK          0.351553  "
      ]
     },
     "execution_count": 7,
     "metadata": {},
     "output_type": "execute_result"
    }
   ],
   "source": [
    "\n",
    "report = ABDatasetReporter(front=False).report(result)\n",
    "report"
   ]
  },
  {
   "cell_type": "code",
   "execution_count": null,
   "id": "da4b0e95",
   "metadata": {},
   "outputs": [],
   "source": []
  }
 ],
 "metadata": {
  "kernelspec": {
   "display_name": "Python 3",
   "language": "python",
   "name": "python3"
  },
  "language_info": {
   "codemirror_mode": {
    "name": "ipython",
    "version": 3
   },
   "file_extension": ".py",
   "mimetype": "text/x-python",
   "name": "python",
   "nbconvert_exporter": "python",
   "pygments_lexer": "ipython3",
   "version": "3.10.11"
  }
 },
 "nbformat": 4,
 "nbformat_minor": 5
}

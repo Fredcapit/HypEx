{
 "cells": [
  {
   "cell_type": "code",
   "execution_count": 1,
   "metadata": {
    "ExecuteTime": {
     "end_time": "2024-06-04T15:48:58.209705200Z",
     "start_time": "2024-06-04T15:48:55.872937600Z"
    },
    "metadata": {}
   },
   "outputs": [
    {
     "name": "stderr",
     "output_type": "stream",
     "text": [
      "c:\\Python312\\Lib\\site-packages\\tqdm\\auto.py:21: TqdmWarning: IProgress not found. Please update jupyter and ipywidgets. See https://ipywidgets.readthedocs.io/en/stable/user_install.html\n",
      "  from .autonotebook import tqdm as notebook_tqdm\n"
     ]
    }
   ],
   "source": [
    "from hypex.dataset import Dataset, ExperimentData, InfoRole, TreatmentRole, TargetRole, StratificationRole\n",
    "from hypex.experiments.aa import ONE_AA_TEST, ONE_AA_TEST_WITH_STRATIFICATION\n",
    "from hypex.reporters import OneAADictReporter"
   ]
  },
  {
   "cell_type": "code",
   "execution_count": 2,
   "metadata": {
    "ExecuteTime": {
     "end_time": "2024-06-04T15:48:58.307419Z",
     "start_time": "2024-06-04T15:48:58.211719200Z"
    },
    "metadata": {}
   },
   "outputs": [],
   "source": [
    "data = Dataset(\n",
    "    roles={\n",
    "        \"user_id\": InfoRole(int),\n",
    "        \"treat\": TreatmentRole(int),\n",
    "        \"pre_spends\": TargetRole(),\n",
    "        \"post_spends\": TargetRole(),\n",
    "        \"gender\": StratificationRole(str)\n",
    "    }, data=\"data.csv\",\n",
    ")"
   ]
  },
  {
   "cell_type": "code",
   "execution_count": 3,
   "metadata": {
    "ExecuteTime": {
     "end_time": "2024-06-04T15:48:58.960999200Z",
     "start_time": "2024-06-04T15:48:58.344927200Z"
    },
    "metadata": {}
   },
   "outputs": [
    {
     "name": "stderr",
     "output_type": "stream",
     "text": [
      "c:\\Projects\\HypEx\\hypex\\dataset\\backends\\pandas_backend.py:196: FutureWarning: Setting an item of incompatible dtype is deprecated and will raise in a future error of pandas. Value '[0. 0.]' has dtype incompatible with bool, please explicitly cast to a compatible dtype first.\n",
      "  self.data.loc[:, column_name] = self.data[column_name].astype(type_name)\n",
      "c:\\Projects\\HypEx\\hypex\\dataset\\backends\\pandas_backend.py:196: FutureWarning: Setting an item of incompatible dtype is deprecated and will raise in a future error of pandas. Value '[0. 0.]' has dtype incompatible with bool, please explicitly cast to a compatible dtype first.\n",
      "  self.data.loc[:, column_name] = self.data[column_name].astype(type_name)\n"
     ]
    },
    {
     "data": {
      "text/plain": [
       "{'splitter_id': 'AASplitter┴┴',\n",
       " 'pre_spends GroupDifference control mean 0': 487.1765,\n",
       " 'pre_spends GroupDifference test mean 0': 487.011,\n",
       " 'pre_spends GroupDifference difference 0': -0.1654999999999518,\n",
       " 'pre_spends GroupDifference difference % 0': -0.03397126092903324,\n",
       " 'post_spends GroupDifference control mean 0': 452.6158,\n",
       " 'post_spends GroupDifference test mean 0': 451.7133111111112,\n",
       " 'post_spends GroupDifference difference 0': -0.9024888888887972,\n",
       " 'post_spends GroupDifference difference % 0': -0.19939403107200881,\n",
       " 'GroupSizes control size 0': 5000,\n",
       " 'GroupSizes test size 0': 5000,\n",
       " 'GroupSizes control size % 0': 50.0,\n",
       " 'GroupSizes test size % 0': 50.0,\n",
       " 'pre_spends TTest p-value 0': 0.6610358204172231,\n",
       " 'pre_spends TTest pass 0': 'OK',\n",
       " 'post_spends TTest p-value 0': 0.25215966959716907,\n",
       " 'post_spends TTest pass 0': 'OK',\n",
       " 'pre_spends KSTest p-value 0': 0.8772886704265563,\n",
       " 'pre_spends KSTest pass 0': 'OK',\n",
       " 'post_spends KSTest p-value 0': 0.27001861264689325,\n",
       " 'post_spends KSTest pass 0': 'OK',\n",
       " 'mean TTest p-value': 0.4565977450071961,\n",
       " 'mean TTest pass': 'OK',\n",
       " 'mean KSTest p-value': 0.5736536415367248,\n",
       " 'mean KSTest pass': 'OK',\n",
       " 'mean test score': 0.5346350093602152}"
      ]
     },
     "execution_count": 3,
     "metadata": {},
     "output_type": "execute_result"
    }
   ],
   "source": [
    "test = ONE_AA_TEST\n",
    "ed = ExperimentData(data)\n",
    "result = test.execute(ed)\n",
    "OneAADictReporter().report(result)"
   ]
  },
  {
   "cell_type": "code",
   "execution_count": 4,
   "metadata": {
    "ExecuteTime": {
     "end_time": "2024-06-04T15:48:58.983891Z",
     "start_time": "2024-06-04T15:48:58.972547200Z"
    },
    "collapsed": false
   },
   "outputs": [
    {
     "name": "stderr",
     "output_type": "stream",
     "text": [
      "c:\\Projects\\HypEx\\hypex\\dataset\\backends\\pandas_backend.py:196: FutureWarning: Setting an item of incompatible dtype is deprecated and will raise in a future error of pandas. Value '[0. 0.]' has dtype incompatible with bool, please explicitly cast to a compatible dtype first.\n",
      "  self.data.loc[:, column_name] = self.data[column_name].astype(type_name)\n",
      "c:\\Projects\\HypEx\\hypex\\dataset\\backends\\pandas_backend.py:196: FutureWarning: Setting an item of incompatible dtype is deprecated and will raise in a future error of pandas. Value '[0. 0.]' has dtype incompatible with bool, please explicitly cast to a compatible dtype first.\n",
      "  self.data.loc[:, column_name] = self.data[column_name].astype(type_name)\n",
      "c:\\Projects\\HypEx\\hypex\\dataset\\backends\\pandas_backend.py:196: FutureWarning: Setting an item of incompatible dtype is deprecated and will raise in a future error of pandas. Value '[0.]' has dtype incompatible with bool, please explicitly cast to a compatible dtype first.\n",
      "  self.data.loc[:, column_name] = self.data[column_name].astype(type_name)\n"
     ]
    },
    {
     "data": {
      "text/plain": [
       "{'splitter_id': 'AASplitterWithStratification┴┴',\n",
       " 'pre_spends GroupDifference control mean 0': 487.0372471632955,\n",
       " 'pre_spends GroupDifference test mean 0': 487.11229026244087,\n",
       " 'pre_spends GroupDifference difference 0': 0.07504309914537544,\n",
       " 'pre_spends GroupDifference difference % 0': 0.01540808215028111,\n",
       " 'post_spends GroupDifference control mean 0': 452.0496080688483,\n",
       " 'post_spends GroupDifference test mean 0': 452.1601096292047,\n",
       " 'post_spends GroupDifference difference 0': 0.11050156035645387,\n",
       " 'post_spends GroupDifference difference % 0': 0.02444456501766723,\n",
       " 'GroupSizes control size 0': 2027,\n",
       " 'GroupSizes test size 0': 6973,\n",
       " 'GroupSizes control size % 0': 22.522222222222222,\n",
       " 'GroupSizes test size % 0': 77.47777777777777,\n",
       " 'pre_spends TTest p-value 0': 0.8751712575235886,\n",
       " 'pre_spends TTest pass 0': 'OK',\n",
       " 'post_spends TTest p-value 0': 0.9114367174029483,\n",
       " 'post_spends TTest pass 0': 'OK',\n",
       " 'pre_spends KSTest p-value 0': 0.714274146810611,\n",
       " 'pre_spends KSTest pass 0': 'OK',\n",
       " 'post_spends KSTest p-value 0': 0.9944234353464615,\n",
       " 'post_spends KSTest pass 0': 'OK',\n",
       " 'gender Chi2Test p-value 0': 0.27412212233613176,\n",
       " 'gender Chi2Test pass 0': 'OK',\n",
       " 'mean TTest p-value': 0.8933039874632684,\n",
       " 'mean TTest pass': 'OK',\n",
       " 'mean KSTest p-value': 0.8543487910785362,\n",
       " 'mean KSTest pass': 'OK',\n",
       " 'mean Chi2Test p-value': 0.27412212233613176,\n",
       " 'mean Chi2Test pass': 'OK',\n",
       " 'mean test score': 0.6300491628585208}"
      ]
     },
     "execution_count": 4,
     "metadata": {},
     "output_type": "execute_result"
    }
   ],
   "source": [
    "test = ONE_AA_TEST_WITH_STRATIFICATION\n",
    "data = data.dropna(subset=[\"gender\"])\n",
    "ed = ExperimentData(data)\n",
    "result = test.execute(ed)\n",
    "OneAADictReporter().report(result)"
   ]
  },
  {
   "cell_type": "code",
   "execution_count": null,
   "metadata": {},
   "outputs": [],
   "source": []
  }
 ],
 "metadata": {
  "kernelspec": {
   "display_name": "Python 3",
   "language": "python",
   "name": "python3"
  },
  "language_info": {
   "codemirror_mode": {
    "name": "ipython",
    "version": 3
   },
   "file_extension": ".py",
   "mimetype": "text/x-python",
   "name": "python",
   "nbconvert_exporter": "python",
   "pygments_lexer": "ipython3",
   "version": "3.12.3"
  }
 },
 "nbformat": 4,
 "nbformat_minor": 2
}

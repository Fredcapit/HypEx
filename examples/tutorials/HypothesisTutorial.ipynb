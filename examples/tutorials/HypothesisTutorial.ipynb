{
 "cells": [
  {
   "cell_type": "code",
   "execution_count": 1,
   "id": "initial_id",
   "metadata": {
    "collapsed": true,
    "ExecuteTime": {
     "end_time": "2024-05-02T14:23:22.933240Z",
     "start_time": "2024-05-02T14:23:21.416427800Z"
    }
   },
   "outputs": [
    {
     "ename": "FileNotFoundError",
     "evalue": "[Errno 2] No such file or directory: 'scheme.json'",
     "output_type": "error",
     "traceback": [
      "\u001B[1;31m---------------------------------------------------------------------------\u001B[0m",
      "\u001B[1;31mFileNotFoundError\u001B[0m                         Traceback (most recent call last)",
      "Cell \u001B[1;32mIn[1], line 3\u001B[0m\n\u001B[0;32m      1\u001B[0m \u001B[38;5;28;01mfrom\u001B[39;00m \u001B[38;5;21;01mhypex\u001B[39;00m\u001B[38;5;21;01m.\u001B[39;00m\u001B[38;5;21;01mhypotheses\u001B[39;00m\u001B[38;5;21;01m.\u001B[39;00m\u001B[38;5;21;01mhypothesis\u001B[39;00m \u001B[38;5;28;01mimport\u001B[39;00m Hypothesis\n\u001B[1;32m----> 3\u001B[0m ed, exp \u001B[38;5;241m=\u001B[39m \u001B[43mHypothesis\u001B[49m\u001B[43m(\u001B[49m\u001B[38;5;124;43m\"\u001B[39;49m\u001B[38;5;124;43mtest_config.json\u001B[39;49m\u001B[38;5;124;43m\"\u001B[39;49m\u001B[43m)\u001B[49m\u001B[38;5;241m.\u001B[39mexecute()\n",
      "File \u001B[1;32m~\\PycharmProjects\\HypEx\\hypex\\hypotheses\\hypothesis.py:17\u001B[0m, in \u001B[0;36mHypothesis.__init__\u001B[1;34m(self, config)\u001B[0m\n\u001B[0;32m     15\u001B[0m \u001B[38;5;28;01melse\u001B[39;00m:\n\u001B[0;32m     16\u001B[0m     opened_config \u001B[38;5;241m=\u001B[39m config\n\u001B[1;32m---> 17\u001B[0m \u001B[38;5;28;01mwith\u001B[39;00m \u001B[38;5;28;43mopen\u001B[39;49m\u001B[43m(\u001B[49m\u001B[38;5;124;43m\"\u001B[39;49m\u001B[38;5;124;43mscheme.json\u001B[39;49m\u001B[38;5;124;43m\"\u001B[39;49m\u001B[43m,\u001B[49m\u001B[43m \u001B[49m\u001B[38;5;124;43m\"\u001B[39;49m\u001B[38;5;124;43mrb\u001B[39;49m\u001B[38;5;124;43m\"\u001B[39;49m\u001B[43m)\u001B[49m \u001B[38;5;28;01mas\u001B[39;00m file:\n\u001B[0;32m     18\u001B[0m     \u001B[38;5;28mself\u001B[39m\u001B[38;5;241m.\u001B[39mscheme \u001B[38;5;241m=\u001B[39m json\u001B[38;5;241m.\u001B[39mload(file)\n\u001B[0;32m     19\u001B[0m \u001B[38;5;28mself\u001B[39m\u001B[38;5;241m.\u001B[39mconfig \u001B[38;5;241m=\u001B[39m opened_config\n",
      "\u001B[1;31mFileNotFoundError\u001B[0m: [Errno 2] No such file or directory: 'scheme.json'"
     ]
    }
   ],
   "source": [
    "from hypex.hypotheses.hypothesis import Hypothesis\n",
    "\n",
    "ed, exp = Hypothesis(\"test_config.json\").execute()"
   ]
  },
  {
   "cell_type": "code",
   "outputs": [],
   "source": [
    "ed.roles['user_id'].data_type"
   ],
   "metadata": {
    "collapsed": false,
    "ExecuteTime": {
     "end_time": "2024-05-02T14:23:22.947245900Z",
     "start_time": "2024-05-02T14:23:22.935560100Z"
    }
   },
   "id": "14322ef2fc5c5d86"
  },
  {
   "cell_type": "code",
   "outputs": [],
   "source": [
    "res = exp.execute(ed)"
   ],
   "metadata": {
    "collapsed": false,
    "ExecuteTime": {
     "start_time": "2024-05-02T14:23:22.941146500Z"
    }
   },
   "id": "ee654fb01152f23f"
  },
  {
   "cell_type": "code",
   "outputs": [],
   "source": [
    "exp.executors[1].executors[0].space"
   ],
   "metadata": {
    "collapsed": false,
    "ExecuteTime": {
     "start_time": "2024-05-02T14:23:22.943673700Z"
    }
   },
   "id": "8d3a0a6202b9b144"
  },
  {
   "cell_type": "code",
   "outputs": [],
   "source": [
    "res.analysis_tables"
   ],
   "metadata": {
    "collapsed": false,
    "ExecuteTime": {
     "end_time": "2024-05-02T14:23:22.974130800Z",
     "start_time": "2024-05-02T14:23:22.949730900Z"
    }
   },
   "id": "bafc4495e86251a5"
  },
  {
   "cell_type": "code",
   "outputs": [],
   "source": [
    "config = {\n",
    "    \"dataset\": {\n",
    "        \"path\": \"data.csv\",\n",
    "        \"columns\": [\n",
    "            {\n",
    "                \"name\": \"user_id\",\n",
    "                \"role\": \"Info\"\n",
    "            },\n",
    "            {\n",
    "                \"name\": \"treat\",\n",
    "                \"role\": \"Treatment\"\n",
    "            },\n",
    "            {\n",
    "                \"name\": \"pre_spends\",\n",
    "                \"role\": \"Target\"\n",
    "            },\n",
    "            {\n",
    "                \"name\": \"post_spends\",\n",
    "                \"role\": \"Target\"\n",
    "            }\n",
    "\n",
    "        ],\n",
    "        \"backend\": \"pandas\"\n",
    "    },\n",
    "    \"experiment\": {\n",
    "        \"AASplitter\": {\n",
    "            \"control_size\": 0.5,\n",
    "        },\n",
    "        \"OnRoleExperiment\": {\n",
    "            \"executors\": [{\n",
    "                \"GroupDifference\": {\n",
    "                    \"grouping_role\": \"Treatment\",\n",
    "                    \"space\": \"additional\"\n",
    "                }\n",
    "            }],\n",
    "            \"role\": \"Target\"\n",
    "        }\n",
    "    },\n",
    "    \"report\": {}\n",
    "}\n",
    "\n",
    "ed, exp = Hypothesis(config).execute()"
   ],
   "metadata": {
    "collapsed": false,
    "ExecuteTime": {
     "start_time": "2024-05-02T14:23:22.955703800Z"
    }
   },
   "id": "84e0312eab663448"
  },
  {
   "cell_type": "code",
   "outputs": [],
   "source": [
    "res = exp.execute(ed)"
   ],
   "metadata": {
    "collapsed": false,
    "ExecuteTime": {
     "start_time": "2024-05-02T14:23:22.958087600Z"
    }
   },
   "id": "1ff7c8df16d28135"
  },
  {
   "cell_type": "code",
   "outputs": [],
   "source": [
    "res.stats"
   ],
   "metadata": {
    "collapsed": false,
    "ExecuteTime": {
     "start_time": "2024-05-02T14:23:22.960457800Z"
    }
   },
   "id": "c9790d753127e805"
  }
 ],
 "metadata": {
  "kernelspec": {
   "display_name": "Python 3",
   "language": "python",
   "name": "python3"
  },
  "language_info": {
   "codemirror_mode": {
    "name": "ipython",
    "version": 2
   },
   "file_extension": ".py",
   "mimetype": "text/x-python",
   "name": "python",
   "nbconvert_exporter": "python",
   "pygments_lexer": "ipython2",
   "version": "2.7.6"
  }
 },
 "nbformat": 4,
 "nbformat_minor": 5
}

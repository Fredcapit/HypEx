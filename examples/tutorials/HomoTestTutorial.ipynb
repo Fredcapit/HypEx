{
 "cells": [
  {
   "cell_type": "code",
   "execution_count": 1,
   "id": "initial_id",
   "metadata": {
    "collapsed": true,
    "ExecuteTime": {
     "end_time": "2024-06-17T11:23:41.861318100Z",
     "start_time": "2024-06-17T11:23:39.004902Z"
    }
   },
   "outputs": [
    {
     "name": "stderr",
     "output_type": "stream",
     "text": [
      "C:\\Users\\User\\AppData\\Local\\Programs\\Python\\Python310\\lib\\site-packages\\tqdm\\auto.py:21: TqdmWarning: IProgress not found. Please update jupyter and ipywidgets. See https://ipywidgets.readthedocs.io/en/stable/user_install.html\n",
      "  from .autonotebook import tqdm as notebook_tqdm\n"
     ]
    }
   ],
   "source": [
    "from hypex.experiments.homogeneity import HOMOGENEITY_TEST\n",
    "from hypex.dataset import Dataset, ExperimentData, InfoRole, TreatmentRole, TargetRole"
   ]
  },
  {
   "cell_type": "code",
   "outputs": [
    {
     "data": {
      "text/plain": "      user_id  signup_month  treat  pre_spends  post_spends   age gender  \\\n0           0             0      0       488.0   414.444444   NaN      M   \n1           1             8      1       512.5   462.222222  26.0    NaN   \n2           2             7      1       483.0   479.444444  25.0      M   \n3           3             0      0       501.5   424.333333  39.0      M   \n4           4             1      1       543.0   514.555556  18.0      F   \n...       ...           ...    ...         ...          ...   ...    ...   \n9995     9995            10      1       538.5   450.444444  42.0      M   \n9996     9996             0      0       500.5   430.888889  26.0      F   \n9997     9997             3      1       473.0   534.111111  22.0      F   \n9998     9998             2      1       495.0   523.222222  67.0      F   \n9999     9999             7      1       508.0   475.888889  38.0      F   \n\n        industry  \n0     E-commerce  \n1     E-commerce  \n2      Logistics  \n3     E-commerce  \n4     E-commerce  \n...          ...  \n9995   Logistics  \n9996   Logistics  \n9997  E-commerce  \n9998  E-commerce  \n9999  E-commerce  \n\n[10000 rows x 8 columns]"
     },
     "execution_count": 2,
     "metadata": {},
     "output_type": "execute_result"
    }
   ],
   "source": [
    "data = Dataset(\n",
    "    roles={\n",
    "        \"user_id\": InfoRole(int),\n",
    "        \"treat\": TreatmentRole(int),\n",
    "        \"pre_spends\": TargetRole(),\n",
    "        \"post_spends\": TargetRole()\n",
    "    }, data=\"data.csv\",\n",
    ")\n",
    "data"
   ],
   "metadata": {
    "collapsed": false,
    "ExecuteTime": {
     "end_time": "2024-06-17T11:23:41.939448500Z",
     "start_time": "2024-06-17T11:23:41.867062300Z"
    }
   },
   "id": "e5ff36358b012e1",
   "execution_count": 2
  },
  {
   "cell_type": "code",
   "outputs": [],
   "source": [
    "test = HOMOGENEITY_TEST\n",
    "ed = ExperimentData(data)\n",
    "result = test.execute(ed)"
   ],
   "metadata": {
    "collapsed": false,
    "ExecuteTime": {
     "end_time": "2024-06-17T11:23:42.532532900Z",
     "start_time": "2024-06-17T11:23:41.943463200Z"
    }
   },
   "id": "d189239c9e91906a",
   "execution_count": 3
  },
  {
   "cell_type": "code",
   "outputs": [
    {
     "data": {
      "text/plain": "{'GroupSizes┴┴':    control size  test size  control size %  test size %\n 1          4936       5064           49.36        50.64,\n 'GroupDifference┴┴':    control mean   test mean  difference  difference %\n 1    420.046619  483.470664   63.424045     15.099287,\n 'TTest┴┴':          p-value   statistic  pass\n TTest┴┴      0.0 -135.560001  True,\n 'KSTest┴┴':           p-value  statistic  pass\n KSTest┴┴      0.0     0.8959  True,\n 'OneAAStatAnalyzer┴┴':    TTest p-value  TTest pass  KSTest p-value  KSTest pass  mean test score\n 0            0.0         1.0             0.0          1.0              0.0}"
     },
     "execution_count": 4,
     "metadata": {},
     "output_type": "execute_result"
    }
   ],
   "source": [
    "result.analysis_tables"
   ],
   "metadata": {
    "collapsed": false,
    "ExecuteTime": {
     "end_time": "2024-06-17T11:23:42.571985300Z",
     "start_time": "2024-06-17T11:23:42.535546200Z"
    }
   },
   "id": "7aed86e8d7adc8b7",
   "execution_count": 4
  },
  {
   "cell_type": "code",
   "outputs": [
    {
     "ename": "KeyboardInterrupt",
     "evalue": "",
     "output_type": "error",
     "traceback": [
      "\u001B[1;31m---------------------------------------------------------------------------\u001B[0m",
      "\u001B[1;31mKeyboardInterrupt\u001B[0m                         Traceback (most recent call last)",
      "Cell \u001B[1;32mIn[8], line 3\u001B[0m\n\u001B[0;32m      1\u001B[0m \u001B[38;5;28;01mfrom\u001B[39;00m \u001B[38;5;21;01mhypex\u001B[39;00m\u001B[38;5;21;01m.\u001B[39;00m\u001B[38;5;21;01mreporters\u001B[39;00m\u001B[38;5;21;01m.\u001B[39;00m\u001B[38;5;21;01mhomo\u001B[39;00m \u001B[38;5;28;01mimport\u001B[39;00m HomoReporter\n\u001B[1;32m----> 3\u001B[0m \u001B[43mHomoReporter\u001B[49m\u001B[43m(\u001B[49m\u001B[43m)\u001B[49m\u001B[38;5;241;43m.\u001B[39;49m\u001B[43mreport\u001B[49m\u001B[43m(\u001B[49m\u001B[43mresult\u001B[49m\u001B[43m)\u001B[49m\n",
      "File \u001B[1;32m~\\PycharmProjects\\HypEx\\hypex\\reporters\\homo.py:10\u001B[0m, in \u001B[0;36mHomoReporter.report\u001B[1;34m(self, data)\u001B[0m\n\u001B[0;32m      9\u001B[0m \u001B[38;5;28;01mdef\u001B[39;00m \u001B[38;5;21mreport\u001B[39m(\u001B[38;5;28mself\u001B[39m, data: ExperimentData) \u001B[38;5;241m-\u001B[39m\u001B[38;5;241m>\u001B[39m Dict[\u001B[38;5;28mstr\u001B[39m, Any]:\n\u001B[1;32m---> 10\u001B[0m     \u001B[38;5;28;01mreturn\u001B[39;00m \u001B[38;5;28;43mself\u001B[39;49m\u001B[38;5;241;43m.\u001B[39;49m\u001B[43mextract_data_from_analysis_tables\u001B[49m\u001B[43m(\u001B[49m\u001B[43mdata\u001B[49m\u001B[43m)\u001B[49m\n",
      "File \u001B[1;32m~\\PycharmProjects\\HypEx\\hypex\\reporters\\aa.py:45\u001B[0m, in \u001B[0;36mAADictReporter.extract_data_from_analysis_tables\u001B[1;34m(self, data)\u001B[0m\n\u001B[0;32m     43\u001B[0m \u001B[38;5;28;01mdef\u001B[39;00m \u001B[38;5;21mextract_data_from_analysis_tables\u001B[39m(\u001B[38;5;28mself\u001B[39m, data: ExperimentData) \u001B[38;5;241m-\u001B[39m\u001B[38;5;241m>\u001B[39m Dict[\u001B[38;5;28mstr\u001B[39m, Any]:\n\u001B[0;32m     44\u001B[0m     result \u001B[38;5;241m=\u001B[39m {}\n\u001B[1;32m---> 45\u001B[0m     result\u001B[38;5;241m.\u001B[39mupdate(\u001B[38;5;28;43mself\u001B[39;49m\u001B[38;5;241;43m.\u001B[39;49m\u001B[43mextract_group_difference\u001B[49m\u001B[43m(\u001B[49m\u001B[43mdata\u001B[49m\u001B[43m)\u001B[49m)\n\u001B[0;32m     46\u001B[0m     result\u001B[38;5;241m.\u001B[39mupdate(\u001B[38;5;28mself\u001B[39m\u001B[38;5;241m.\u001B[39mextract_group_sizes(data))\n\u001B[0;32m     47\u001B[0m     result\u001B[38;5;241m.\u001B[39mupdate(\u001B[38;5;28mself\u001B[39m\u001B[38;5;241m.\u001B[39mextract_analyzer_data(data))\n",
      "File \u001B[1;32m~\\PycharmProjects\\HypEx\\hypex\\reporters\\aa.py:25\u001B[0m, in \u001B[0;36mAADictReporter.extract_group_difference\u001B[1;34m(self, data)\u001B[0m\n\u001B[0;32m     21\u001B[0m \u001B[38;5;28;01mdef\u001B[39;00m \u001B[38;5;21mextract_group_difference\u001B[39m(\u001B[38;5;28mself\u001B[39m, data: ExperimentData) \u001B[38;5;241m-\u001B[39m\u001B[38;5;241m>\u001B[39m Dict[\u001B[38;5;28mstr\u001B[39m, Any]:\n\u001B[0;32m     22\u001B[0m     group_difference_ids \u001B[38;5;241m=\u001B[39m data\u001B[38;5;241m.\u001B[39mget_ids(GroupDifference)[GroupDifference][\n\u001B[0;32m     23\u001B[0m         ExperimentDataEnum\u001B[38;5;241m.\u001B[39manalysis_tables\u001B[38;5;241m.\u001B[39mvalue\n\u001B[0;32m     24\u001B[0m     ]\n\u001B[1;32m---> 25\u001B[0m     \u001B[38;5;28;01mreturn\u001B[39;00m \u001B[38;5;28;43mself\u001B[39;49m\u001B[38;5;241;43m.\u001B[39;49m\u001B[43m_extract_from_comparators\u001B[49m\u001B[43m(\u001B[49m\u001B[43mdata\u001B[49m\u001B[43m,\u001B[49m\u001B[43m \u001B[49m\u001B[43mgroup_difference_ids\u001B[49m\u001B[43m)\u001B[49m\n",
      "File \u001B[1;32m~\\PycharmProjects\\HypEx\\hypex\\reporters\\abstract.py:40\u001B[0m, in \u001B[0;36mDictReporter._extract_from_comparators\u001B[1;34m(self, data, comparator_ids)\u001B[0m\n\u001B[0;32m     38\u001B[0m result \u001B[38;5;241m=\u001B[39m {}\n\u001B[0;32m     39\u001B[0m \u001B[38;5;28;01mfor\u001B[39;00m comparator_id \u001B[38;5;129;01min\u001B[39;00m comparator_ids:\n\u001B[1;32m---> 40\u001B[0m     result\u001B[38;5;241m.\u001B[39mupdate(\u001B[38;5;28;43mself\u001B[39;49m\u001B[38;5;241;43m.\u001B[39;49m\u001B[43m_extract_from_comparator\u001B[49m\u001B[43m(\u001B[49m\u001B[43mdata\u001B[49m\u001B[43m,\u001B[49m\u001B[43m \u001B[49m\u001B[43mcomparator_id\u001B[49m\u001B[43m)\u001B[49m)\n\u001B[0;32m     41\u001B[0m \u001B[38;5;28;01mreturn\u001B[39;00m result\n",
      "File \u001B[1;32m~\\PycharmProjects\\HypEx\\hypex\\reporters\\abstract.py:27\u001B[0m, in \u001B[0;36mDictReporter._extract_from_comparator\u001B[1;34m(self, data, comparator_id)\u001B[0m\n\u001B[0;32m     25\u001B[0m result \u001B[38;5;241m=\u001B[39m {}\n\u001B[0;32m     26\u001B[0m field \u001B[38;5;241m=\u001B[39m comparator_id[comparator_id\u001B[38;5;241m.\u001B[39mrfind(ID_SPLIT_SYMBOL) \u001B[38;5;241m+\u001B[39m \u001B[38;5;241m1\u001B[39m :]\n\u001B[1;32m---> 27\u001B[0m sep \u001B[38;5;241m=\u001B[39m \u001B[38;5;124m\"\u001B[39m\u001B[38;5;124m \u001B[39m\u001B[38;5;124m\"\u001B[39m \u001B[38;5;28;01mif\u001B[39;00m \u001B[38;5;28;43mself\u001B[39;49m\u001B[38;5;241m.\u001B[39mfront \u001B[38;5;28;01melse\u001B[39;00m ID_SPLIT_SYMBOL\n\u001B[0;32m     28\u001B[0m analysis_dict \u001B[38;5;241m=\u001B[39m data\u001B[38;5;241m.\u001B[39manalysis_tables[comparator_id]\u001B[38;5;241m.\u001B[39mto_dict()[\u001B[38;5;124m\"\u001B[39m\u001B[38;5;124mdata\u001B[39m\u001B[38;5;124m\"\u001B[39m]\n\u001B[0;32m     29\u001B[0m \u001B[38;5;28;01mfor\u001B[39;00m i, index_value \u001B[38;5;129;01min\u001B[39;00m \u001B[38;5;28menumerate\u001B[39m(analysis_dict[\u001B[38;5;124m\"\u001B[39m\u001B[38;5;124mindex\u001B[39m\u001B[38;5;124m\"\u001B[39m]):\n",
      "File \u001B[1;32m~\\PycharmProjects\\HypEx\\hypex\\reporters\\abstract.py:27\u001B[0m, in \u001B[0;36mDictReporter._extract_from_comparator\u001B[1;34m(self, data, comparator_id)\u001B[0m\n\u001B[0;32m     25\u001B[0m result \u001B[38;5;241m=\u001B[39m {}\n\u001B[0;32m     26\u001B[0m field \u001B[38;5;241m=\u001B[39m comparator_id[comparator_id\u001B[38;5;241m.\u001B[39mrfind(ID_SPLIT_SYMBOL) \u001B[38;5;241m+\u001B[39m \u001B[38;5;241m1\u001B[39m :]\n\u001B[1;32m---> 27\u001B[0m sep \u001B[38;5;241m=\u001B[39m \u001B[38;5;124m\"\u001B[39m\u001B[38;5;124m \u001B[39m\u001B[38;5;124m\"\u001B[39m \u001B[38;5;28;01mif\u001B[39;00m \u001B[38;5;28;43mself\u001B[39;49m\u001B[38;5;241m.\u001B[39mfront \u001B[38;5;28;01melse\u001B[39;00m ID_SPLIT_SYMBOL\n\u001B[0;32m     28\u001B[0m analysis_dict \u001B[38;5;241m=\u001B[39m data\u001B[38;5;241m.\u001B[39manalysis_tables[comparator_id]\u001B[38;5;241m.\u001B[39mto_dict()[\u001B[38;5;124m\"\u001B[39m\u001B[38;5;124mdata\u001B[39m\u001B[38;5;124m\"\u001B[39m]\n\u001B[0;32m     29\u001B[0m \u001B[38;5;28;01mfor\u001B[39;00m i, index_value \u001B[38;5;129;01min\u001B[39;00m \u001B[38;5;28menumerate\u001B[39m(analysis_dict[\u001B[38;5;124m\"\u001B[39m\u001B[38;5;124mindex\u001B[39m\u001B[38;5;124m\"\u001B[39m]):\n",
      "File \u001B[1;32m_pydevd_bundle\\pydevd_cython_win32_310_64.pyx:1187\u001B[0m, in \u001B[0;36m_pydevd_bundle.pydevd_cython_win32_310_64.SafeCallWrapper.__call__\u001B[1;34m()\u001B[0m\n",
      "File \u001B[1;32m_pydevd_bundle\\pydevd_cython_win32_310_64.pyx:627\u001B[0m, in \u001B[0;36m_pydevd_bundle.pydevd_cython_win32_310_64.PyDBFrame.trace_dispatch\u001B[1;34m()\u001B[0m\n",
      "File \u001B[1;32m_pydevd_bundle\\pydevd_cython_win32_310_64.pyx:1103\u001B[0m, in \u001B[0;36m_pydevd_bundle.pydevd_cython_win32_310_64.PyDBFrame.trace_dispatch\u001B[1;34m()\u001B[0m\n",
      "File \u001B[1;32m_pydevd_bundle\\pydevd_cython_win32_310_64.pyx:1065\u001B[0m, in \u001B[0;36m_pydevd_bundle.pydevd_cython_win32_310_64.PyDBFrame.trace_dispatch\u001B[1;34m()\u001B[0m\n",
      "File \u001B[1;32m_pydevd_bundle\\pydevd_cython_win32_310_64.pyx:585\u001B[0m, in \u001B[0;36m_pydevd_bundle.pydevd_cython_win32_310_64.PyDBFrame.do_wait_suspend\u001B[1;34m()\u001B[0m\n",
      "File \u001B[1;32mC:\\Program Files\\JetBrains\\PyCharm 2023.3.3\\plugins\\python\\helpers\\pydev\\pydevd.py:1184\u001B[0m, in \u001B[0;36mPyDB.do_wait_suspend\u001B[1;34m(self, thread, frame, event, arg, send_suspend_message, is_unhandled_exception)\u001B[0m\n\u001B[0;32m   1181\u001B[0m         from_this_thread\u001B[38;5;241m.\u001B[39mappend(frame_id)\n\u001B[0;32m   1183\u001B[0m \u001B[38;5;28;01mwith\u001B[39;00m \u001B[38;5;28mself\u001B[39m\u001B[38;5;241m.\u001B[39m_threads_suspended_single_notification\u001B[38;5;241m.\u001B[39mnotify_thread_suspended(thread_id, stop_reason):\n\u001B[1;32m-> 1184\u001B[0m     \u001B[38;5;28;43mself\u001B[39;49m\u001B[38;5;241;43m.\u001B[39;49m\u001B[43m_do_wait_suspend\u001B[49m\u001B[43m(\u001B[49m\u001B[43mthread\u001B[49m\u001B[43m,\u001B[49m\u001B[43m \u001B[49m\u001B[43mframe\u001B[49m\u001B[43m,\u001B[49m\u001B[43m \u001B[49m\u001B[43mevent\u001B[49m\u001B[43m,\u001B[49m\u001B[43m \u001B[49m\u001B[43marg\u001B[49m\u001B[43m,\u001B[49m\u001B[43m \u001B[49m\u001B[43msuspend_type\u001B[49m\u001B[43m,\u001B[49m\u001B[43m \u001B[49m\u001B[43mfrom_this_thread\u001B[49m\u001B[43m)\u001B[49m\n",
      "File \u001B[1;32mC:\\Program Files\\JetBrains\\PyCharm 2023.3.3\\plugins\\python\\helpers\\pydev\\pydevd.py:1199\u001B[0m, in \u001B[0;36mPyDB._do_wait_suspend\u001B[1;34m(self, thread, frame, event, arg, suspend_type, from_this_thread)\u001B[0m\n\u001B[0;32m   1196\u001B[0m             \u001B[38;5;28mself\u001B[39m\u001B[38;5;241m.\u001B[39m_call_mpl_hook()\n\u001B[0;32m   1198\u001B[0m         \u001B[38;5;28mself\u001B[39m\u001B[38;5;241m.\u001B[39mprocess_internal_commands()\n\u001B[1;32m-> 1199\u001B[0m         \u001B[43mtime\u001B[49m\u001B[38;5;241;43m.\u001B[39;49m\u001B[43msleep\u001B[49m\u001B[43m(\u001B[49m\u001B[38;5;241;43m0.01\u001B[39;49m\u001B[43m)\u001B[49m\n\u001B[0;32m   1201\u001B[0m \u001B[38;5;28mself\u001B[39m\u001B[38;5;241m.\u001B[39mcancel_async_evaluation(get_current_thread_id(thread), \u001B[38;5;28mstr\u001B[39m(\u001B[38;5;28mid\u001B[39m(frame)))\n\u001B[0;32m   1203\u001B[0m \u001B[38;5;66;03m# process any stepping instructions\u001B[39;00m\n",
      "\u001B[1;31mKeyboardInterrupt\u001B[0m: "
     ]
    }
   ],
   "source": [
    "from hypex.reporters.homo import HomoReporter\n",
    "\n",
    "HomoReporter().report(result)"
   ],
   "metadata": {
    "collapsed": false,
    "ExecuteTime": {
     "end_time": "2024-06-17T11:29:19.282334500Z",
     "start_time": "2024-06-17T11:27:14.127368400Z"
    }
   },
   "id": "9eb77e1762ac427",
   "execution_count": 8
  }
 ],
 "metadata": {
  "kernelspec": {
   "display_name": "Python 3",
   "language": "python",
   "name": "python3"
  },
  "language_info": {
   "codemirror_mode": {
    "name": "ipython",
    "version": 2
   },
   "file_extension": ".py",
   "mimetype": "text/x-python",
   "name": "python",
   "nbconvert_exporter": "python",
   "pygments_lexer": "ipython2",
   "version": "2.7.6"
  }
 },
 "nbformat": 4,
 "nbformat_minor": 5
}

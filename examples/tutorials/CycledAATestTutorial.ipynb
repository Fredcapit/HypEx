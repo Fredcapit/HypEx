{
 "cells": [
  {
   "cell_type": "code",
   "id": "f890151fc64fd3fa",
   "metadata": {
    "collapsed": false,
    "ExecuteTime": {
     "end_time": "2024-07-04T14:04:34.250647Z",
     "start_time": "2024-07-04T14:04:34.245005Z"
    }
   },
   "source": [
    "import pandas as pd\n",
    "import warnings\n",
    "\n",
    "warnings.simplefilter(action='ignore', category=pd.errors.PerformanceWarning)\n",
    "\n",
    "from hypex.dataset import Dataset, ExperimentData, InfoRole, TreatmentRole, TargetRole\n",
    "from hypex.experiments.aa import AA_TEST, AA_TEST_WITH_STRATIFICATION\n",
    "from hypex.splitters import AASplitter\n",
    "from hypex.reporters.aa import AAPassedReporter, AABestSplitReporter"
   ],
   "outputs": [],
   "execution_count": 29
  },
  {
   "metadata": {},
   "cell_type": "markdown",
   "source": [
    "# Creation of a new test dataset with synthetic data. \n",
    "\n",
    "It is important to mark the data fields by assigning the appropriate roles:\n",
    "- FeatureRole: a role for columns that contain features or predictor variables. Our split will be based on them. Applied by default if the role is not specified for the column.\n",
    "- TreatmentRole: a role for columns that show the treatment or intervention.\n",
    "- TargetRole: a role for columns that show the target or outcome variable.\n",
    "- InfoRole: a role for columns that contain information about the data, such as user IDs. "
   ],
   "id": "7f3f236f4f76dada"
  },
  {
   "cell_type": "code",
   "id": "70e663c02efb6980",
   "metadata": {
    "collapsed": false,
    "ExecuteTime": {
     "end_time": "2024-07-04T14:04:34.344455Z",
     "start_time": "2024-07-04T14:04:34.300059Z"
    }
   },
   "source": [
    "data = Dataset(\n",
    "    roles={\n",
    "        \"user_id\": InfoRole(int),\n",
    "        \"treat\": TreatmentRole(int),\n",
    "        \"pre_spends\": TargetRole(),\n",
    "        \"post_spends\": TargetRole(),\n",
    "        \"gender\": TargetRole()\n",
    "    }, data=\"data.csv\",\n",
    ")\n",
    "# data"
   ],
   "outputs": [],
   "execution_count": 30
  },
  {
   "metadata": {},
   "cell_type": "markdown",
   "source": [
    "# Cycled AA test\n",
    "Then we create the test pipeline, experiment data, with which it will work and run it. We select one of the pre-assembled pipelines, in our case AA_TEST, or create a custom one. We can also adjust some of the preset parameters of the experiment by assigning them to the respective params of the experiment. I.e. here we set the range of the random states we want to run our AA test for. Then we run the experiment on our prepared dataset, wrapped into ExperimentData. "
   ],
   "id": "2599b03ed6f783f1"
  },
  {
   "cell_type": "code",
   "id": "initial_id",
   "metadata": {
    "collapsed": true,
    "ExecuteTime": {
     "end_time": "2024-07-04T14:04:38.566495Z",
     "start_time": "2024-07-04T14:04:34.352215Z"
    }
   },
   "source": [
    "aa = AA_TEST\n",
    "aa.executors[0].params[AASplitter]= {\"random_states\": range(10)}\n",
    "res = aa.execute(ExperimentData(data))\n",
    "res"
   ],
   "outputs": [
    {
     "data": {
      "text/plain": [
       "<hypex.dataset.dataset.ExperimentData at 0x7f457ea60220>"
      ]
     },
     "execution_count": 31,
     "metadata": {},
     "output_type": "execute_result"
    }
   ],
   "execution_count": 31
  },
  {
   "metadata": {},
   "cell_type": "markdown",
   "source": [
    "# Experiment results\n",
    "To show the report with the summary of the test, we run the report method of the reporter, associated with the respective test type, AA test in our case."
   ],
   "id": "c0ef4db9b7599ce9"
  },
  {
   "metadata": {},
   "cell_type": "markdown",
   "source": "AAPassedReporter shows the results of the number of tests (OK / NOT OK) for the different random states.",
   "id": "11f13c4451b0bc37"
  },
  {
   "cell_type": "code",
   "id": "d04bae6250621c19",
   "metadata": {
    "collapsed": false,
    "ExecuteTime": {
     "end_time": "2024-07-04T14:04:38.631683Z",
     "start_time": "2024-07-04T14:04:38.569113Z"
    }
   },
   "source": "AAPassedReporter().report(res)",
   "outputs": [
    {
     "name": "stderr",
     "output_type": "stream",
     "text": [
      "/home/tony_montana/job/HypEx/hypex/dataset/backends/pandas_backend.py:476: FutureWarning: Downcasting behavior in `replace` is deprecated and will be removed in a future version. To retain the old behavior, explicitly call `result.infer_objects(copy=False)`. To opt-in to the future behavior, set `pd.set_option('future.no_silent_downcasting', True)`\n",
      "  return self.data.replace(to_replace=to_replace, value=value, regex=regex)\n"
     ]
    },
    {
     "data": {
      "text/plain": [
       "  Chi2Test aa test TTest aa test KSTest aa test TTest best split  \\\n",
       "0           NOT OK           NaN            NaN              NaN   \n",
       "1              NaN        NOT OK         NOT OK               OK   \n",
       "2              NaN            OK         NOT OK               OK   \n",
       "\n",
       "  KSTest best split Chi2Test best split  result      feature group  \n",
       "0               NaN                  OK  NOT OK       gender     0  \n",
       "1                OK                 NaN  NOT OK  post_spends     0  \n",
       "2                OK                 NaN      OK   pre_spends     0  "
      ]
     },
     "execution_count": 32,
     "metadata": {},
     "output_type": "execute_result"
    }
   ],
   "execution_count": 32
  },
  {
   "metadata": {},
   "cell_type": "markdown",
   "source": "AABestSplitReporter returns the dataset with the best split among the ones covered by the cycled AA test.",
   "id": "b79d909dbac54d28"
  },
  {
   "metadata": {
    "ExecuteTime": {
     "end_time": "2024-07-04T14:04:38.698247Z",
     "start_time": "2024-07-04T14:04:38.637903Z"
    }
   },
   "cell_type": "code",
   "source": "AABestSplitReporter().report(res)",
   "id": "858c337e98bce8e7",
   "outputs": [
    {
     "data": {
      "text/plain": [
       "      user_id  signup_month  treat  pre_spends  post_spends   age gender  \\\n",
       "0           0             0      0       488.0   414.444444   NaN      M   \n",
       "1           1             8      1       512.5   462.222222  26.0    NaN   \n",
       "2           2             7      1       483.0   479.444444  25.0      M   \n",
       "3           3             0      0       501.5   424.333333  39.0      M   \n",
       "4           4             1      1       543.0   514.555556  18.0      F   \n",
       "...       ...           ...    ...         ...          ...   ...    ...   \n",
       "9995     9995            10      1       538.5   450.444444  42.0      M   \n",
       "9996     9996             0      0       500.5   430.888889  26.0      F   \n",
       "9997     9997             3      1       473.0   534.111111  22.0      F   \n",
       "9998     9998             2      1       495.0   523.222222  67.0      F   \n",
       "9999     9999             7      1       508.0   475.888889  38.0      F   \n",
       "\n",
       "        industry    split  \n",
       "0     E-commerce  control  \n",
       "1     E-commerce     test  \n",
       "2      Logistics  control  \n",
       "3     E-commerce  control  \n",
       "4     E-commerce     test  \n",
       "...          ...      ...  \n",
       "9995   Logistics     test  \n",
       "9996   Logistics  control  \n",
       "9997  E-commerce  control  \n",
       "9998  E-commerce     test  \n",
       "9999  E-commerce     test  \n",
       "\n",
       "[10000 rows x 9 columns]"
      ]
     },
     "execution_count": 33,
     "metadata": {},
     "output_type": "execute_result"
    }
   ],
   "execution_count": 33
  },
  {
   "metadata": {},
   "cell_type": "markdown",
   "source": "Then we repeat that for the AA test with stratification, also setting the share of the control group in the splits, we expect our test to generate.",
   "id": "66fd1ce0e14a57f6"
  },
  {
   "metadata": {
    "ExecuteTime": {
     "end_time": "2024-07-04T14:04:42.292162Z",
     "start_time": "2024-07-04T14:04:38.709138Z"
    }
   },
   "cell_type": "code",
   "source": [
    "aa = AA_TEST_WITH_STRATIFICATION\n",
    "aa.executors[0].params[AASplitter]= {\"random_states\": range(10), \"control_size\": [0.3]}\n",
    "res = aa.execute(ExperimentData(data))\n",
    "res"
   ],
   "id": "9fdfd25db25b34e7",
   "outputs": [
    {
     "data": {
      "text/plain": [
       "<hypex.dataset.dataset.ExperimentData at 0x7f458101ea70>"
      ]
     },
     "execution_count": 34,
     "metadata": {},
     "output_type": "execute_result"
    }
   ],
   "execution_count": 34
  },
  {
   "metadata": {
    "ExecuteTime": {
     "end_time": "2024-07-04T14:04:42.351102Z",
     "start_time": "2024-07-04T14:04:42.294866Z"
    }
   },
   "cell_type": "code",
   "source": "AAPassedReporter().report(res)",
   "id": "95d3a4bdea461eb9",
   "outputs": [
    {
     "name": "stderr",
     "output_type": "stream",
     "text": [
      "/home/tony_montana/job/HypEx/hypex/dataset/backends/pandas_backend.py:476: FutureWarning: Downcasting behavior in `replace` is deprecated and will be removed in a future version. To retain the old behavior, explicitly call `result.infer_objects(copy=False)`. To opt-in to the future behavior, set `pd.set_option('future.no_silent_downcasting', True)`\n",
      "  return self.data.replace(to_replace=to_replace, value=value, regex=regex)\n"
     ]
    },
    {
     "data": {
      "text/plain": [
       "  Chi2Test aa test TTest aa test KSTest aa test TTest best split  \\\n",
       "0           NOT OK           NaN            NaN              NaN   \n",
       "1              NaN        NOT OK         NOT OK               OK   \n",
       "2              NaN        NOT OK         NOT OK               OK   \n",
       "\n",
       "  KSTest best split Chi2Test best split  result      feature group  \n",
       "0               NaN                  OK  NOT OK       gender     0  \n",
       "1                OK                 NaN  NOT OK  post_spends     0  \n",
       "2                OK                 NaN  NOT OK   pre_spends     0  "
      ]
     },
     "execution_count": 35,
     "metadata": {},
     "output_type": "execute_result"
    }
   ],
   "execution_count": 35
  },
  {
   "metadata": {
    "ExecuteTime": {
     "end_time": "2024-07-04T14:04:42.433896Z",
     "start_time": "2024-07-04T14:04:42.353826Z"
    }
   },
   "cell_type": "code",
   "source": "AABestSplitReporter().report(res)",
   "id": "e4f15d3003ff8473",
   "outputs": [
    {
     "data": {
      "text/plain": [
       "      user_id  signup_month  treat  pre_spends  post_spends   age gender  \\\n",
       "0           0             0      0       488.0   414.444444   NaN      M   \n",
       "1           1             8      1       512.5   462.222222  26.0    NaN   \n",
       "2           2             7      1       483.0   479.444444  25.0      M   \n",
       "3           3             0      0       501.5   424.333333  39.0      M   \n",
       "4           4             1      1       543.0   514.555556  18.0      F   \n",
       "...       ...           ...    ...         ...          ...   ...    ...   \n",
       "9995     9995            10      1       538.5   450.444444  42.0      M   \n",
       "9996     9996             0      0       500.5   430.888889  26.0      F   \n",
       "9997     9997             3      1       473.0   534.111111  22.0      F   \n",
       "9998     9998             2      1       495.0   523.222222  67.0      F   \n",
       "9999     9999             7      1       508.0   475.888889  38.0      F   \n",
       "\n",
       "        industry    split  \n",
       "0     E-commerce     test  \n",
       "1     E-commerce  control  \n",
       "2      Logistics  control  \n",
       "3     E-commerce     test  \n",
       "4     E-commerce     test  \n",
       "...          ...      ...  \n",
       "9995   Logistics  control  \n",
       "9996   Logistics     test  \n",
       "9997  E-commerce     test  \n",
       "9998  E-commerce     test  \n",
       "9999  E-commerce     test  \n",
       "\n",
       "[10000 rows x 9 columns]"
      ]
     },
     "execution_count": 36,
     "metadata": {},
     "output_type": "execute_result"
    }
   ],
   "execution_count": 36
  }
 ],
 "metadata": {
  "kernelspec": {
   "display_name": "Python 3",
   "language": "python",
   "name": "python3"
  },
  "language_info": {
   "codemirror_mode": {
    "name": "ipython",
    "version": 3
   },
   "file_extension": ".py",
   "mimetype": "text/x-python",
   "name": "python",
   "nbconvert_exporter": "python",
   "pygments_lexer": "ipython3",
   "version": "3.10.13"
  }
 },
 "nbformat": 4,
 "nbformat_minor": 5
}

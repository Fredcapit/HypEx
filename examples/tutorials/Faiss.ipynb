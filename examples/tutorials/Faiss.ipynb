{
 "cells": [
  {
   "cell_type": "code",
   "execution_count": 64,
   "id": "initial_id",
   "metadata": {
    "collapsed": true,
    "ExecuteTime": {
     "end_time": "2024-07-04T13:31:34.455082Z",
     "start_time": "2024-07-04T13:31:34.392932700Z"
    }
   },
   "outputs": [],
   "source": [
    "from hypex.dataset import Dataset, ExperimentData, InfoRole, TreatmentRole, TargetRole \n",
    "from hypex.experiments.twin_search import MATCHING"
   ]
  },
  {
   "cell_type": "code",
   "outputs": [
    {
     "data": {
      "text/plain": "      user_id  signup_month  treat  pre_spends  post_spends   age gender  \\\n0           0             0      0       488.0   414.444444   NaN      M   \n1           1             8      1       512.5   462.222222  26.0    NaN   \n2           2             7      1       483.0   479.444444  25.0      M   \n3           3             0      0       501.5   424.333333  39.0      M   \n4           4             1      1       543.0   514.555556  18.0      F   \n...       ...           ...    ...         ...          ...   ...    ...   \n9995     9995            10      1       538.5   450.444444  42.0      M   \n9996     9996             0      0       500.5   430.888889  26.0      F   \n9997     9997             3      1       473.0   534.111111  22.0      F   \n9998     9998             2      1       495.0   523.222222  67.0      F   \n9999     9999             7      1       508.0   475.888889  38.0      F   \n\n        industry  \n0     E-commerce  \n1     E-commerce  \n2      Logistics  \n3     E-commerce  \n4     E-commerce  \n...          ...  \n9995   Logistics  \n9996   Logistics  \n9997  E-commerce  \n9998  E-commerce  \n9999  E-commerce  \n\n[10000 rows x 8 columns]"
     },
     "execution_count": 65,
     "metadata": {},
     "output_type": "execute_result"
    }
   ],
   "source": [
    "data = Dataset(\n",
    "    roles={\n",
    "        \"user_id\": InfoRole(int),\n",
    "        \"treat\": TreatmentRole(int), \n",
    "        \"post_spends\": TargetRole(float)\n",
    "    }, data=\"data.csv\",\n",
    ")\n",
    "data"
   ],
   "metadata": {
    "collapsed": false,
    "ExecuteTime": {
     "end_time": "2024-07-04T13:31:34.480509200Z",
     "start_time": "2024-07-04T13:31:34.407069100Z"
    }
   },
   "id": "8abf891fc6804315",
   "execution_count": 65
  },
  {
   "cell_type": "code",
   "outputs": [
    {
     "data": {
      "text/plain": "{'user_id': Info(<class 'int'>),\n 'treat': Treatment(<class 'int'>),\n 'post_spends': Target(<class 'float'>),\n 'signup_month': Feature(<class 'int'>),\n 'pre_spends': Feature(<class 'float'>),\n 'age': Feature(<class 'float'>),\n 'gender': Feature(<class 'str'>),\n 'industry': Feature(<class 'str'>)}"
     },
     "execution_count": 66,
     "metadata": {},
     "output_type": "execute_result"
    }
   ],
   "source": [
    "data.roles"
   ],
   "metadata": {
    "collapsed": false,
    "ExecuteTime": {
     "end_time": "2024-07-04T13:31:34.511967800Z",
     "start_time": "2024-07-04T13:31:34.466116600Z"
    }
   },
   "id": "4ae8c654db6f5f85",
   "execution_count": 66
  },
  {
   "cell_type": "code",
   "outputs": [
    {
     "data": {
      "text/plain": "     user_id  signup_month  treat  pre_spends  post_spends   age  gender  \\\nsum        0             0      0           0            0  1000    1000   \n\n     industry  \nsum         0  "
     },
     "execution_count": 67,
     "metadata": {},
     "output_type": "execute_result"
    }
   ],
   "source": [
    "data.isna().sum()"
   ],
   "metadata": {
    "collapsed": false,
    "ExecuteTime": {
     "end_time": "2024-07-04T13:31:34.564358600Z",
     "start_time": "2024-07-04T13:31:34.481507900Z"
    }
   },
   "id": "96f1683580db8a0b",
   "execution_count": 67
  },
  {
   "cell_type": "code",
   "outputs": [],
   "source": [
    "test = MATCHING\n",
    "result = test.execute(ExperimentData(data))"
   ],
   "metadata": {
    "collapsed": false,
    "ExecuteTime": {
     "end_time": "2024-07-04T13:31:35.476172500Z",
     "start_time": "2024-07-04T13:31:34.563360700Z"
    }
   },
   "id": "bc7e472bbb7c2a5d",
   "execution_count": 68
  },
  {
   "cell_type": "code",
   "outputs": [
    {
     "data": {
      "text/plain": "{\"MatchingMetrics┴┴['post_spends', 'FaissNearestNeighbors||post_spends_matched']\": {'ATT': 261.64133416136207,\n  'ATC': 320.8816326530612,\n  'ATE': 288.96070885793563}}"
     },
     "execution_count": 69,
     "metadata": {},
     "output_type": "execute_result"
    }
   ],
   "source": [
    "result.variables"
   ],
   "metadata": {
    "collapsed": false,
    "ExecuteTime": {
     "end_time": "2024-07-04T13:31:35.546013700Z",
     "start_time": "2024-07-04T13:31:35.480186400Z"
    }
   },
   "id": "d98c94a8b8a763e9",
   "execution_count": 69
  },
  {
   "cell_type": "code",
   "outputs": [
    {
     "data": {
      "text/plain": "{\"MahalanobisDistance┴┴['signup_month', 'pre_spends', 'age']\": {'control':         0          1         2\n  0     NaN        NaN       NaN\n  3     0.0  36.929974  3.254733\n  12    0.0  34.757623  3.442269\n  13    0.0  37.445447  4.191827\n  14    0.0  36.598598  5.111848\n  ...   ...        ...       ...\n  9988  0.0  36.929974  2.467274\n  9990  NaN        NaN       NaN\n  9991  0.0  35.530832  3.523547\n  9992  0.0  36.193584  2.529632\n  9996  0.0  36.856335  2.323176\n  \n  [4294 rows x 3 columns],\n  'test':              0          1         2\n  1     4.293461  37.909827  2.303881\n  2     3.756778  35.716248  2.208865\n  5     3.220095  35.952757  3.576048\n  8     2.146730  34.363881  5.139179\n  9     2.146730  34.695257  4.284285\n  ...        ...        ...       ...\n  9981  3.220095  36.983703  4.090079\n  9993  2.683413  34.127372  5.060565\n  9997  1.610048  34.894946  2.000059\n  9998  1.073365  36.493776  5.245584\n  9999  3.756778  37.557224  3.162571\n  \n  [3675 rows x 3 columns]}}"
     },
     "execution_count": 70,
     "metadata": {},
     "output_type": "execute_result"
    }
   ],
   "source": [
    "result.groups"
   ],
   "metadata": {
    "collapsed": false,
    "ExecuteTime": {
     "end_time": "2024-07-04T13:31:35.547008500Z",
     "start_time": "2024-07-04T13:31:35.512490300Z"
    }
   },
   "id": "209df4313b764ca5",
   "execution_count": 70
  },
  {
   "cell_type": "code",
   "outputs": [
    {
     "data": {
      "text/plain": "      user_id  signup_month  treat  pre_spends  post_spends   age gender  \\\n0           0             0      0       488.0   414.444444   NaN      M   \n1           1             8      1       512.5   462.222222  26.0    NaN   \n2           2             7      1       483.0   479.444444  25.0      M   \n3           3             0      0       501.5   424.333333  39.0      M   \n5           5             6      1       486.5   486.555556  44.0      M   \n...       ...           ...    ...         ...          ...   ...    ...   \n9993     9993             5      1       462.0   509.888889  65.0      F   \n9996     9996             0      0       500.5   430.888889  26.0      F   \n9997     9997             3      1       473.0   534.111111  22.0      F   \n9998     9998             2      1       495.0   523.222222  67.0      F   \n9999     9999             7      1       508.0   475.888889  38.0      F   \n\n        industry  \n0     E-commerce  \n1     E-commerce  \n2      Logistics  \n3     E-commerce  \n5     E-commerce  \n...          ...  \n9993  E-commerce  \n9996   Logistics  \n9997  E-commerce  \n9998  E-commerce  \n9999  E-commerce  \n\n[7969 rows x 8 columns]"
     },
     "execution_count": 71,
     "metadata": {},
     "output_type": "execute_result"
    }
   ],
   "source": [
    "result.ds"
   ],
   "metadata": {
    "collapsed": false,
    "ExecuteTime": {
     "end_time": "2024-07-04T13:31:49.362295400Z",
     "start_time": "2024-07-04T13:31:49.303876700Z"
    }
   },
   "id": "98d2027c0d3de8b2",
   "execution_count": 71
  }
 ],
 "metadata": {
  "kernelspec": {
   "display_name": "Python 3",
   "language": "python",
   "name": "python3"
  },
  "language_info": {
   "codemirror_mode": {
    "name": "ipython",
    "version": 2
   },
   "file_extension": ".py",
   "mimetype": "text/x-python",
   "name": "python",
   "nbconvert_exporter": "python",
   "pygments_lexer": "ipython2",
   "version": "2.7.6"
  }
 },
 "nbformat": 4,
 "nbformat_minor": 5
}

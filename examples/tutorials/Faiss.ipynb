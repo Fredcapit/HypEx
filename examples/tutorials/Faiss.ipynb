{
 "cells": [
  {
   "cell_type": "code",
   "execution_count": 8,
   "id": "initial_id",
   "metadata": {
    "collapsed": true,
    "ExecuteTime": {
     "end_time": "2024-07-02T12:18:14.205453Z",
     "start_time": "2024-07-02T12:18:14.104196800Z"
    }
   },
   "outputs": [],
   "source": [
    "from hypex.dataset import Dataset, ExperimentData, InfoRole, TreatmentRole, TargetRole \n",
    "from hypex.experiments.twin_search import TWIN_SEARCH"
   ]
  },
  {
   "cell_type": "code",
   "outputs": [
    {
     "data": {
      "text/plain": "      user_id  signup_month  treat  pre_spends  post_spends   age gender  \\\n0           0             0      0       488.0   414.444444   NaN      M   \n1           1             8      1       512.5   462.222222  26.0    NaN   \n2           2             7      1       483.0   479.444444  25.0      M   \n3           3             0      0       501.5   424.333333  39.0      M   \n4           4             1      1       543.0   514.555556  18.0      F   \n...       ...           ...    ...         ...          ...   ...    ...   \n9995     9995            10      1       538.5   450.444444  42.0      M   \n9996     9996             0      0       500.5   430.888889  26.0      F   \n9997     9997             3      1       473.0   534.111111  22.0      F   \n9998     9998             2      1       495.0   523.222222  67.0      F   \n9999     9999             7      1       508.0   475.888889  38.0      F   \n\n        industry  \n0     E-commerce  \n1     E-commerce  \n2      Logistics  \n3     E-commerce  \n4     E-commerce  \n...          ...  \n9995   Logistics  \n9996   Logistics  \n9997  E-commerce  \n9998  E-commerce  \n9999  E-commerce  \n\n[10000 rows x 8 columns]"
     },
     "execution_count": 9,
     "metadata": {},
     "output_type": "execute_result"
    }
   ],
   "source": [
    "data = Dataset(\n",
    "    roles={\n",
    "        \"user_id\": InfoRole(int),\n",
    "        \"treat\": TreatmentRole(int),\n",
    "        \"gender\": InfoRole(), \n",
    "        \"industry\": InfoRole(), \n",
    "        \"post_spends\": TargetRole(float)\n",
    "    }, data=\"data.csv\",\n",
    ")\n",
    "data"
   ],
   "metadata": {
    "collapsed": false,
    "ExecuteTime": {
     "end_time": "2024-07-02T12:18:14.232945900Z",
     "start_time": "2024-07-02T12:18:14.127499600Z"
    }
   },
   "id": "8abf891fc6804315",
   "execution_count": 9
  },
  {
   "cell_type": "code",
   "outputs": [
    {
     "data": {
      "text/plain": "{'user_id': Info(<class 'int'>),\n 'treat': Treatment(<class 'int'>),\n 'gender': Info(<class 'str'>),\n 'industry': Info(<class 'str'>),\n 'post_spends': Target(<class 'float'>),\n 'signup_month': Feature(<class 'int'>),\n 'pre_spends': Feature(<class 'float'>),\n 'age': Feature(<class 'float'>)}"
     },
     "execution_count": 10,
     "metadata": {},
     "output_type": "execute_result"
    }
   ],
   "source": [
    "data.roles"
   ],
   "metadata": {
    "collapsed": false,
    "ExecuteTime": {
     "end_time": "2024-07-02T12:18:14.279230200Z",
     "start_time": "2024-07-02T12:18:14.218057300Z"
    }
   },
   "id": "4ae8c654db6f5f85",
   "execution_count": 10
  },
  {
   "cell_type": "code",
   "outputs": [
    {
     "data": {
      "text/plain": "     user_id  signup_month  treat  pre_spends  post_spends   age  gender  \\\nsum        0             0      0           0            0  1000    1000   \n\n     industry  \nsum         0  "
     },
     "execution_count": 11,
     "metadata": {},
     "output_type": "execute_result"
    }
   ],
   "source": [
    "data.isna().sum()"
   ],
   "metadata": {
    "collapsed": false,
    "ExecuteTime": {
     "end_time": "2024-07-02T12:18:14.374158100Z",
     "start_time": "2024-07-02T12:18:14.247725Z"
    }
   },
   "id": "96f1683580db8a0b",
   "execution_count": 11
  },
  {
   "cell_type": "code",
   "outputs": [
    {
     "ename": "KeyboardInterrupt",
     "evalue": "",
     "output_type": "error",
     "traceback": [
      "\u001B[1;31m---------------------------------------------------------------------------\u001B[0m",
      "\u001B[1;31mKeyboardInterrupt\u001B[0m                         Traceback (most recent call last)",
      "Cell \u001B[1;32mIn[15], line 2\u001B[0m\n\u001B[0;32m      1\u001B[0m test \u001B[38;5;241m=\u001B[39m TWIN_SEARCH\n\u001B[1;32m----> 2\u001B[0m result \u001B[38;5;241m=\u001B[39m \u001B[43mtest\u001B[49m\u001B[38;5;241;43m.\u001B[39;49m\u001B[43mexecute\u001B[49m\u001B[43m(\u001B[49m\u001B[43mExperimentData\u001B[49m\u001B[43m(\u001B[49m\u001B[43mdata\u001B[49m\u001B[43m)\u001B[49m\u001B[43m)\u001B[49m\n",
      "File \u001B[1;32m~\\PycharmProjects\\HypEx\\hypex\\experiments\\base.py:71\u001B[0m, in \u001B[0;36mExperiment.execute\u001B[1;34m(self, data)\u001B[0m\n\u001B[0;32m     69\u001B[0m \u001B[38;5;28;01mfor\u001B[39;00m executor \u001B[38;5;129;01min\u001B[39;00m \u001B[38;5;28mself\u001B[39m\u001B[38;5;241m.\u001B[39mexecutors:\n\u001B[0;32m     70\u001B[0m     executor\u001B[38;5;241m.\u001B[39mkey \u001B[38;5;241m=\u001B[39m \u001B[38;5;28mself\u001B[39m\u001B[38;5;241m.\u001B[39mkey\n\u001B[1;32m---> 71\u001B[0m     experiment_data \u001B[38;5;241m=\u001B[39m \u001B[43mexecutor\u001B[49m\u001B[38;5;241;43m.\u001B[39;49m\u001B[43mexecute\u001B[49m\u001B[43m(\u001B[49m\u001B[43mexperiment_data\u001B[49m\u001B[43m)\u001B[49m\n\u001B[0;32m     72\u001B[0m \u001B[38;5;28;01mreturn\u001B[39;00m experiment_data\n",
      "File \u001B[1;32m~\\PycharmProjects\\HypEx\\hypex\\ml\\faiss.py:81\u001B[0m, in \u001B[0;36mFaissNearestNeighbors.execute\u001B[1;34m(self, data)\u001B[0m\n\u001B[0;32m     76\u001B[0m \u001B[38;5;28;01mif\u001B[39;00m \u001B[38;5;28mlen\u001B[39m(distances_keys[MahalanobisDistance][\u001B[38;5;124m\"\u001B[39m\u001B[38;5;124mgroups\u001B[39m\u001B[38;5;124m\"\u001B[39m]) \u001B[38;5;241m>\u001B[39m \u001B[38;5;241m0\u001B[39m:\n\u001B[0;32m     77\u001B[0m     grouping_data \u001B[38;5;241m=\u001B[39m \u001B[38;5;28mlist\u001B[39m(\n\u001B[0;32m     78\u001B[0m         data\u001B[38;5;241m.\u001B[39mgroups[distances_keys[MahalanobisDistance][\u001B[38;5;124m\"\u001B[39m\u001B[38;5;124mgroups\u001B[39m\u001B[38;5;124m\"\u001B[39m][\u001B[38;5;241m0\u001B[39m]]\u001B[38;5;241m.\u001B[39mitems()\n\u001B[0;32m     79\u001B[0m     )\n\u001B[0;32m     80\u001B[0m compare_result \u001B[38;5;241m=\u001B[39m \u001B[38;5;28mself\u001B[39m\u001B[38;5;241m.\u001B[39mcalc(\n\u001B[1;32m---> 81\u001B[0m     data\u001B[38;5;241m=\u001B[39m\u001B[43mdata\u001B[49m\u001B[38;5;241m.\u001B[39mds,\n\u001B[0;32m     82\u001B[0m     group_field\u001B[38;5;241m=\u001B[39mgroup_field,\n\u001B[0;32m     83\u001B[0m     grouping_data\u001B[38;5;241m=\u001B[39mgrouping_data,\n\u001B[0;32m     84\u001B[0m     features_fields\u001B[38;5;241m=\u001B[39mfeatures_fields,\n\u001B[0;32m     85\u001B[0m     n_neighbors\u001B[38;5;241m=\u001B[39m\u001B[38;5;28mself\u001B[39m\u001B[38;5;241m.\u001B[39mn_neighbors,\n\u001B[0;32m     86\u001B[0m     two_sides\u001B[38;5;241m=\u001B[39m\u001B[38;5;28mself\u001B[39m\u001B[38;5;241m.\u001B[39mtwo_sides,\n\u001B[0;32m     87\u001B[0m )\n\u001B[0;32m     88\u001B[0m matched_target \u001B[38;5;241m=\u001B[39m Dataset\u001B[38;5;241m.\u001B[39mcreate_empty()\n\u001B[0;32m     90\u001B[0m target_field \u001B[38;5;241m=\u001B[39m data\u001B[38;5;241m.\u001B[39mds\u001B[38;5;241m.\u001B[39msearch_columns(TargetRole())[\u001B[38;5;241m0\u001B[39m]\n",
      "File \u001B[1;32m~\\PycharmProjects\\HypEx\\hypex\\ml\\faiss.py:81\u001B[0m, in \u001B[0;36mFaissNearestNeighbors.execute\u001B[1;34m(self, data)\u001B[0m\n\u001B[0;32m     76\u001B[0m \u001B[38;5;28;01mif\u001B[39;00m \u001B[38;5;28mlen\u001B[39m(distances_keys[MahalanobisDistance][\u001B[38;5;124m\"\u001B[39m\u001B[38;5;124mgroups\u001B[39m\u001B[38;5;124m\"\u001B[39m]) \u001B[38;5;241m>\u001B[39m \u001B[38;5;241m0\u001B[39m:\n\u001B[0;32m     77\u001B[0m     grouping_data \u001B[38;5;241m=\u001B[39m \u001B[38;5;28mlist\u001B[39m(\n\u001B[0;32m     78\u001B[0m         data\u001B[38;5;241m.\u001B[39mgroups[distances_keys[MahalanobisDistance][\u001B[38;5;124m\"\u001B[39m\u001B[38;5;124mgroups\u001B[39m\u001B[38;5;124m\"\u001B[39m][\u001B[38;5;241m0\u001B[39m]]\u001B[38;5;241m.\u001B[39mitems()\n\u001B[0;32m     79\u001B[0m     )\n\u001B[0;32m     80\u001B[0m compare_result \u001B[38;5;241m=\u001B[39m \u001B[38;5;28mself\u001B[39m\u001B[38;5;241m.\u001B[39mcalc(\n\u001B[1;32m---> 81\u001B[0m     data\u001B[38;5;241m=\u001B[39m\u001B[43mdata\u001B[49m\u001B[38;5;241m.\u001B[39mds,\n\u001B[0;32m     82\u001B[0m     group_field\u001B[38;5;241m=\u001B[39mgroup_field,\n\u001B[0;32m     83\u001B[0m     grouping_data\u001B[38;5;241m=\u001B[39mgrouping_data,\n\u001B[0;32m     84\u001B[0m     features_fields\u001B[38;5;241m=\u001B[39mfeatures_fields,\n\u001B[0;32m     85\u001B[0m     n_neighbors\u001B[38;5;241m=\u001B[39m\u001B[38;5;28mself\u001B[39m\u001B[38;5;241m.\u001B[39mn_neighbors,\n\u001B[0;32m     86\u001B[0m     two_sides\u001B[38;5;241m=\u001B[39m\u001B[38;5;28mself\u001B[39m\u001B[38;5;241m.\u001B[39mtwo_sides,\n\u001B[0;32m     87\u001B[0m )\n\u001B[0;32m     88\u001B[0m matched_target \u001B[38;5;241m=\u001B[39m Dataset\u001B[38;5;241m.\u001B[39mcreate_empty()\n\u001B[0;32m     90\u001B[0m target_field \u001B[38;5;241m=\u001B[39m data\u001B[38;5;241m.\u001B[39mds\u001B[38;5;241m.\u001B[39msearch_columns(TargetRole())[\u001B[38;5;241m0\u001B[39m]\n",
      "File \u001B[1;32m_pydevd_bundle\\pydevd_cython_win32_310_64.pyx:1187\u001B[0m, in \u001B[0;36m_pydevd_bundle.pydevd_cython_win32_310_64.SafeCallWrapper.__call__\u001B[1;34m()\u001B[0m\n",
      "File \u001B[1;32m_pydevd_bundle\\pydevd_cython_win32_310_64.pyx:627\u001B[0m, in \u001B[0;36m_pydevd_bundle.pydevd_cython_win32_310_64.PyDBFrame.trace_dispatch\u001B[1;34m()\u001B[0m\n",
      "File \u001B[1;32m_pydevd_bundle\\pydevd_cython_win32_310_64.pyx:1103\u001B[0m, in \u001B[0;36m_pydevd_bundle.pydevd_cython_win32_310_64.PyDBFrame.trace_dispatch\u001B[1;34m()\u001B[0m\n",
      "File \u001B[1;32m_pydevd_bundle\\pydevd_cython_win32_310_64.pyx:1065\u001B[0m, in \u001B[0;36m_pydevd_bundle.pydevd_cython_win32_310_64.PyDBFrame.trace_dispatch\u001B[1;34m()\u001B[0m\n",
      "File \u001B[1;32m_pydevd_bundle\\pydevd_cython_win32_310_64.pyx:585\u001B[0m, in \u001B[0;36m_pydevd_bundle.pydevd_cython_win32_310_64.PyDBFrame.do_wait_suspend\u001B[1;34m()\u001B[0m\n",
      "File \u001B[1;32mC:\\Program Files\\JetBrains\\PyCharm 2023.3.3\\plugins\\python\\helpers\\pydev\\pydevd.py:1184\u001B[0m, in \u001B[0;36mPyDB.do_wait_suspend\u001B[1;34m(self, thread, frame, event, arg, send_suspend_message, is_unhandled_exception)\u001B[0m\n\u001B[0;32m   1181\u001B[0m         from_this_thread\u001B[38;5;241m.\u001B[39mappend(frame_id)\n\u001B[0;32m   1183\u001B[0m \u001B[38;5;28;01mwith\u001B[39;00m \u001B[38;5;28mself\u001B[39m\u001B[38;5;241m.\u001B[39m_threads_suspended_single_notification\u001B[38;5;241m.\u001B[39mnotify_thread_suspended(thread_id, stop_reason):\n\u001B[1;32m-> 1184\u001B[0m     \u001B[38;5;28;43mself\u001B[39;49m\u001B[38;5;241;43m.\u001B[39;49m\u001B[43m_do_wait_suspend\u001B[49m\u001B[43m(\u001B[49m\u001B[43mthread\u001B[49m\u001B[43m,\u001B[49m\u001B[43m \u001B[49m\u001B[43mframe\u001B[49m\u001B[43m,\u001B[49m\u001B[43m \u001B[49m\u001B[43mevent\u001B[49m\u001B[43m,\u001B[49m\u001B[43m \u001B[49m\u001B[43marg\u001B[49m\u001B[43m,\u001B[49m\u001B[43m \u001B[49m\u001B[43msuspend_type\u001B[49m\u001B[43m,\u001B[49m\u001B[43m \u001B[49m\u001B[43mfrom_this_thread\u001B[49m\u001B[43m)\u001B[49m\n",
      "File \u001B[1;32mC:\\Program Files\\JetBrains\\PyCharm 2023.3.3\\plugins\\python\\helpers\\pydev\\pydevd.py:1199\u001B[0m, in \u001B[0;36mPyDB._do_wait_suspend\u001B[1;34m(self, thread, frame, event, arg, suspend_type, from_this_thread)\u001B[0m\n\u001B[0;32m   1196\u001B[0m             \u001B[38;5;28mself\u001B[39m\u001B[38;5;241m.\u001B[39m_call_mpl_hook()\n\u001B[0;32m   1198\u001B[0m         \u001B[38;5;28mself\u001B[39m\u001B[38;5;241m.\u001B[39mprocess_internal_commands()\n\u001B[1;32m-> 1199\u001B[0m         \u001B[43mtime\u001B[49m\u001B[38;5;241;43m.\u001B[39;49m\u001B[43msleep\u001B[49m\u001B[43m(\u001B[49m\u001B[38;5;241;43m0.01\u001B[39;49m\u001B[43m)\u001B[49m\n\u001B[0;32m   1201\u001B[0m \u001B[38;5;28mself\u001B[39m\u001B[38;5;241m.\u001B[39mcancel_async_evaluation(get_current_thread_id(thread), \u001B[38;5;28mstr\u001B[39m(\u001B[38;5;28mid\u001B[39m(frame)))\n\u001B[0;32m   1203\u001B[0m \u001B[38;5;66;03m# process any stepping instructions\u001B[39;00m\n",
      "\u001B[1;31mKeyboardInterrupt\u001B[0m: "
     ]
    }
   ],
   "source": [
    "test = TWIN_SEARCH\n",
    "result = test.execute(ExperimentData(data))"
   ],
   "metadata": {
    "collapsed": false,
    "ExecuteTime": {
     "end_time": "2024-07-02T12:18:42.673530100Z",
     "start_time": "2024-07-02T12:18:22.005513100Z"
    }
   },
   "id": "bc7e472bbb7c2a5d",
   "execution_count": 15
  },
  {
   "cell_type": "code",
   "outputs": [
    {
     "data": {
      "text/plain": "{\"MatchingMetrics┴┴['post_spends', 'FaissNearestNeighbors||post_spends_matched']\": {'ATT': 209.90982351881865,\n  'ATC': 268.1156310338775,\n  'ATE': 239.38524444444445}}"
     },
     "execution_count": 13,
     "metadata": {},
     "output_type": "execute_result"
    }
   ],
   "source": [
    "result.variables"
   ],
   "metadata": {
    "collapsed": false,
    "ExecuteTime": {
     "end_time": "2024-07-02T12:18:15.063794100Z",
     "start_time": "2024-07-02T12:18:15.047932Z"
    }
   },
   "id": "d98c94a8b8a763e9",
   "execution_count": 13
  },
  {
   "cell_type": "code",
   "outputs": [
    {
     "data": {
      "text/plain": "{\"MahalanobisDistance┴┴['signup_month', 'pre_spends', 'age']\": {'control':                  0          1         2\n  0              NaN        NaN       NaN\n  3    -1.126267e-14  27.785702  2.616863\n  10             NaN        NaN       NaN\n  12   -1.060016e-14  26.151249  2.813128\n  13   -1.141988e-14  28.173539  3.477311\n  ...            ...        ...       ...\n  9990           NaN        NaN       NaN\n  9991 -1.083597e-14  26.733004  2.880053\n  9992 -1.103809e-14  27.231650  1.954639\n  9994 -1.091457e-14  26.926922  4.600173\n  9996 -1.124021e-14  27.730297  1.756859\n  \n  [4936 rows x 3 columns],\n  'test':              0          1         2\n  1     3.602511  29.381883  1.784220\n  2     3.152197  27.624089  1.712582\n  4     0.450314  30.208358  1.234122\n  5     2.701883  27.694667  2.966353\n  6     4.953452  28.145154  1.924302\n  ...        ...        ...       ...\n  9993  2.251569  26.213900  4.350351\n  9995  4.503138  31.069099  2.851137\n  9997  1.350941  26.576676  1.500160\n  9998  0.900628  27.672249  4.475160\n  9999  3.152197  29.009219  2.574360\n  \n  [5064 rows x 3 columns]}}"
     },
     "execution_count": 14,
     "metadata": {},
     "output_type": "execute_result"
    }
   ],
   "source": [
    "result.groups"
   ],
   "metadata": {
    "collapsed": false,
    "ExecuteTime": {
     "end_time": "2024-07-02T12:18:15.105511200Z",
     "start_time": "2024-07-02T12:18:15.063794100Z"
    }
   },
   "id": "209df4313b764ca5",
   "execution_count": 14
  }
 ],
 "metadata": {
  "kernelspec": {
   "display_name": "Python 3",
   "language": "python",
   "name": "python3"
  },
  "language_info": {
   "codemirror_mode": {
    "name": "ipython",
    "version": 2
   },
   "file_extension": ".py",
   "mimetype": "text/x-python",
   "name": "python",
   "nbconvert_exporter": "python",
   "pygments_lexer": "ipython2",
   "version": "2.7.6"
  }
 },
 "nbformat": 4,
 "nbformat_minor": 5
}

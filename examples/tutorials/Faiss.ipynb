{
 "cells": [
  {
   "cell_type": "code",
   "execution_count": 10,
   "id": "initial_id",
   "metadata": {
    "collapsed": true,
    "ExecuteTime": {
     "end_time": "2024-07-03T10:03:55.354261Z",
     "start_time": "2024-07-03T10:03:55.325086100Z"
    }
   },
   "outputs": [],
   "source": [
    "from hypex.dataset import Dataset, ExperimentData, InfoRole, TreatmentRole, TargetRole \n",
    "from hypex.experiments.twin_search import TWIN_SEARCH"
   ]
  },
  {
   "cell_type": "code",
   "outputs": [
    {
     "data": {
      "text/plain": "      user_id  signup_month  treat  pre_spends  post_spends   age gender  \\\n0           0             0      0       488.0   414.444444   NaN      M   \n1           1             8      1       512.5   462.222222  26.0    NaN   \n2           2             7      1       483.0   479.444444  25.0      M   \n3           3             0      0       501.5   424.333333  39.0      M   \n4           4             1      1       543.0   514.555556  18.0      F   \n...       ...           ...    ...         ...          ...   ...    ...   \n9995     9995            10      1       538.5   450.444444  42.0      M   \n9996     9996             0      0       500.5   430.888889  26.0      F   \n9997     9997             3      1       473.0   534.111111  22.0      F   \n9998     9998             2      1       495.0   523.222222  67.0      F   \n9999     9999             7      1       508.0   475.888889  38.0      F   \n\n        industry  \n0     E-commerce  \n1     E-commerce  \n2      Logistics  \n3     E-commerce  \n4     E-commerce  \n...          ...  \n9995   Logistics  \n9996   Logistics  \n9997  E-commerce  \n9998  E-commerce  \n9999  E-commerce  \n\n[10000 rows x 8 columns]"
     },
     "execution_count": 11,
     "metadata": {},
     "output_type": "execute_result"
    }
   ],
   "source": [
    "data = Dataset(\n",
    "    roles={\n",
    "        \"user_id\": InfoRole(int),\n",
    "        \"treat\": TreatmentRole(int),\n",
    "        \"gender\": InfoRole(), \n",
    "        \"industry\": InfoRole(), \n",
    "        \"post_spends\": TargetRole(float)\n",
    "    }, data=\"data.csv\",\n",
    ")\n",
    "data"
   ],
   "metadata": {
    "collapsed": false,
    "ExecuteTime": {
     "end_time": "2024-07-03T10:03:55.393905900Z",
     "start_time": "2024-07-03T10:03:55.334472Z"
    }
   },
   "id": "8abf891fc6804315",
   "execution_count": 11
  },
  {
   "cell_type": "code",
   "outputs": [
    {
     "data": {
      "text/plain": "{'user_id': Info(<class 'int'>),\n 'treat': Treatment(<class 'int'>),\n 'gender': Info(<class 'str'>),\n 'industry': Info(<class 'str'>),\n 'post_spends': Target(<class 'float'>),\n 'signup_month': Feature(<class 'int'>),\n 'pre_spends': Feature(<class 'float'>),\n 'age': Feature(<class 'float'>)}"
     },
     "execution_count": 12,
     "metadata": {},
     "output_type": "execute_result"
    }
   ],
   "source": [
    "data.roles"
   ],
   "metadata": {
    "collapsed": false,
    "ExecuteTime": {
     "end_time": "2024-07-03T10:03:55.417162100Z",
     "start_time": "2024-07-03T10:03:55.392894100Z"
    }
   },
   "id": "4ae8c654db6f5f85",
   "execution_count": 12
  },
  {
   "cell_type": "code",
   "outputs": [
    {
     "data": {
      "text/plain": "     user_id  signup_month  treat  pre_spends  post_spends   age  gender  \\\nsum        0             0      0           0            0  1000    1000   \n\n     industry  \nsum         0  "
     },
     "execution_count": 13,
     "metadata": {},
     "output_type": "execute_result"
    }
   ],
   "source": [
    "data.isna().sum()"
   ],
   "metadata": {
    "collapsed": false,
    "ExecuteTime": {
     "end_time": "2024-07-03T10:03:55.501432Z",
     "start_time": "2024-07-03T10:03:55.413770100Z"
    }
   },
   "id": "96f1683580db8a0b",
   "execution_count": 13
  },
  {
   "cell_type": "code",
   "outputs": [],
   "source": [
    "test = TWIN_SEARCH\n",
    "result = test.execute(ExperimentData(data))"
   ],
   "metadata": {
    "collapsed": false,
    "ExecuteTime": {
     "end_time": "2024-07-03T10:03:56.454345600Z",
     "start_time": "2024-07-03T10:03:55.504575Z"
    }
   },
   "id": "bc7e472bbb7c2a5d",
   "execution_count": 14
  },
  {
   "cell_type": "code",
   "outputs": [
    {
     "data": {
      "text/plain": "{\"MatchingMetrics┴┴['post_spends', 'FaissNearestNeighbors||post_spends_matched']\": {'ATT': 209.90982351881865,\n  'ATC': 268.1156310338775,\n  'ATE': 239.38524444444445}}"
     },
     "execution_count": 15,
     "metadata": {},
     "output_type": "execute_result"
    }
   ],
   "source": [
    "result.variables"
   ],
   "metadata": {
    "collapsed": false,
    "ExecuteTime": {
     "end_time": "2024-07-03T10:03:56.504318600Z",
     "start_time": "2024-07-03T10:03:56.455357500Z"
    }
   },
   "id": "d98c94a8b8a763e9",
   "execution_count": 15
  },
  {
   "cell_type": "code",
   "outputs": [
    {
     "data": {
      "text/plain": "{\"MahalanobisDistance┴┴['signup_month', 'pre_spends', 'age']\": {'control':                  0          1         2\n  0              NaN        NaN       NaN\n  3    -1.126267e-14  27.785702  2.616863\n  10             NaN        NaN       NaN\n  12   -1.060016e-14  26.151249  2.813128\n  13   -1.141988e-14  28.173539  3.477311\n  ...            ...        ...       ...\n  9990           NaN        NaN       NaN\n  9991 -1.083597e-14  26.733004  2.880053\n  9992 -1.103809e-14  27.231650  1.954639\n  9994 -1.091457e-14  26.926922  4.600173\n  9996 -1.124021e-14  27.730297  1.756859\n  \n  [4936 rows x 3 columns],\n  'test':              0          1         2\n  1     3.602511  29.381883  1.784220\n  2     3.152197  27.624089  1.712582\n  4     0.450314  30.208358  1.234122\n  5     2.701883  27.694667  2.966353\n  6     4.953452  28.145154  1.924302\n  ...        ...        ...       ...\n  9993  2.251569  26.213900  4.350351\n  9995  4.503138  31.069099  2.851137\n  9997  1.350941  26.576676  1.500160\n  9998  0.900628  27.672249  4.475160\n  9999  3.152197  29.009219  2.574360\n  \n  [5064 rows x 3 columns]}}"
     },
     "execution_count": 16,
     "metadata": {},
     "output_type": "execute_result"
    }
   ],
   "source": [
    "result.groups"
   ],
   "metadata": {
    "collapsed": false,
    "ExecuteTime": {
     "end_time": "2024-07-03T10:03:56.647421300Z",
     "start_time": "2024-07-03T10:03:56.489721300Z"
    }
   },
   "id": "209df4313b764ca5",
   "execution_count": 16
  }
 ],
 "metadata": {
  "kernelspec": {
   "display_name": "Python 3",
   "language": "python",
   "name": "python3"
  },
  "language_info": {
   "codemirror_mode": {
    "name": "ipython",
    "version": 2
   },
   "file_extension": ".py",
   "mimetype": "text/x-python",
   "name": "python",
   "nbconvert_exporter": "python",
   "pygments_lexer": "ipython2",
   "version": "2.7.6"
  }
 },
 "nbformat": 4,
 "nbformat_minor": 5
}

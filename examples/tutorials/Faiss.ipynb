{
 "cells": [
  {
   "cell_type": "code",
   "execution_count": 1,
   "id": "initial_id",
   "metadata": {
    "collapsed": true,
    "ExecuteTime": {
     "end_time": "2024-06-25T10:41:29.957934500Z",
     "start_time": "2024-06-25T10:41:28.420432700Z"
    }
   },
   "outputs": [],
   "source": [
    "from hypex.dataset import Dataset, ExperimentData, InfoRole, TreatmentRole, TargetRole\n",
    "from hypex.ml.faiss import FaissNearestNeighbors "
   ]
  },
  {
   "cell_type": "code",
   "outputs": [
    {
     "data": {
      "text/plain": "      user_id  signup_month  treat  pre_spends  post_spends   age gender  \\\n0           0             0      0       488.0   414.444444   NaN      M   \n1           1             8      1       512.5   462.222222  26.0    NaN   \n2           2             7      1       483.0   479.444444  25.0      M   \n3           3             0      0       501.5   424.333333  39.0      M   \n4           4             1      1       543.0   514.555556  18.0      F   \n...       ...           ...    ...         ...          ...   ...    ...   \n9995     9995            10      1       538.5   450.444444  42.0      M   \n9996     9996             0      0       500.5   430.888889  26.0      F   \n9997     9997             3      1       473.0   534.111111  22.0      F   \n9998     9998             2      1       495.0   523.222222  67.0      F   \n9999     9999             7      1       508.0   475.888889  38.0      F   \n\n        industry  \n0     E-commerce  \n1     E-commerce  \n2      Logistics  \n3     E-commerce  \n4     E-commerce  \n...          ...  \n9995   Logistics  \n9996   Logistics  \n9997  E-commerce  \n9998  E-commerce  \n9999  E-commerce  \n\n[10000 rows x 8 columns]"
     },
     "execution_count": 2,
     "metadata": {},
     "output_type": "execute_result"
    }
   ],
   "source": [
    "data = Dataset(\n",
    "    roles={\n",
    "        \"user_id\": InfoRole(int),\n",
    "        \"treat\": TreatmentRole(int),\n",
    "        \"gender\": InfoRole(), \n",
    "        \"industry\": InfoRole()\n",
    "    }, data=\"data.csv\",\n",
    ")\n",
    "data"
   ],
   "metadata": {
    "collapsed": false,
    "ExecuteTime": {
     "end_time": "2024-06-25T10:41:30.035579500Z",
     "start_time": "2024-06-25T10:41:29.960152100Z"
    }
   },
   "id": "8abf891fc6804315",
   "execution_count": 2
  },
  {
   "cell_type": "code",
   "outputs": [
    {
     "data": {
      "text/plain": "{'user_id': Info(<class 'int'>),\n 'treat': Treatment(<class 'int'>),\n 'gender': Info(<class 'str'>),\n 'industry': Info(<class 'str'>),\n 'signup_month': Feature(<class 'int'>),\n 'pre_spends': Feature(<class 'float'>),\n 'post_spends': Feature(<class 'float'>),\n 'age': Feature(<class 'float'>)}"
     },
     "execution_count": 3,
     "metadata": {},
     "output_type": "execute_result"
    }
   ],
   "source": [
    "data.roles"
   ],
   "metadata": {
    "collapsed": false,
    "ExecuteTime": {
     "end_time": "2024-06-25T10:41:30.086674700Z",
     "start_time": "2024-06-25T10:41:30.034579300Z"
    }
   },
   "id": "4ae8c654db6f5f85",
   "execution_count": 3
  },
  {
   "cell_type": "code",
   "outputs": [],
   "source": [
    "from hypex.comparators.distances import MahalanobisDistance\n",
    "\n",
    "test_maha = MahalanobisDistance(grouping_role=TreatmentRole()) \n",
    "res_maha = test_maha.execute(ExperimentData(data)) "
   ],
   "metadata": {
    "collapsed": false,
    "ExecuteTime": {
     "end_time": "2024-06-25T10:42:26.674767100Z",
     "start_time": "2024-06-25T10:42:26.542441800Z"
    }
   },
   "id": "6944da0393763b7d",
   "execution_count": 13
  },
  {
   "cell_type": "code",
   "outputs": [
    {
     "data": {
      "text/plain": "{\"MahalanobisDistance┴┴['signup_month', 'pre_spends', 'post_spends', 'age']\": {'control':                  0          1          2         3\n  0              NaN        NaN        NaN       NaN\n  3    -4.260553e-17  27.785702  57.098665  2.154735\n  10             NaN        NaN        NaN       NaN\n  12   -4.254975e-17  26.151249  56.739974  2.353910\n  13   -4.259438e-17  28.173539  57.153914  3.014764\n  ...            ...        ...        ...       ...\n  9990           NaN        NaN        NaN       NaN\n  9991 -4.236010e-17  26.733004  56.611141  2.421879\n  9992 -4.257207e-17  27.231650  56.959249  1.493617\n  9994 -4.254975e-17  26.926922  56.877790  4.139897\n  9996 -4.326375e-17  27.730297  57.894674  1.288258\n  \n  [4936 rows x 4 columns],\n  'test':              0          1          2         3\n  1     3.602511  29.381883  71.667727  1.204128\n  2     3.152197  27.624089  72.268996  1.127620\n  4     0.450314  30.208358  69.823313  0.668942\n  5     2.701883  27.694667  71.952193  2.383996\n  6     4.953452  28.145154  71.575536  1.344960\n  ...        ...        ...        ...       ...\n  9993  2.251569  26.213900  73.353901  3.756693\n  9995  4.503138  31.069099  72.926673  2.260888\n  9997  1.350941  26.576676  73.988938  0.901268\n  9998  0.900628  27.672249  71.641568  3.895367\n  9999  3.152197  29.009219  72.078024  1.990972\n  \n  [5064 rows x 4 columns]}}"
     },
     "execution_count": 14,
     "metadata": {},
     "output_type": "execute_result"
    }
   ],
   "source": [
    "res_maha.groups"
   ],
   "metadata": {
    "collapsed": false,
    "ExecuteTime": {
     "end_time": "2024-06-25T10:42:27.333499700Z",
     "start_time": "2024-06-25T10:42:27.296246300Z"
    }
   },
   "id": "2559a959c77a4160",
   "execution_count": 14
  },
  {
   "cell_type": "code",
   "outputs": [],
   "source": [
    "test = FaissNearestNeighbors(grouping_role=TreatmentRole(), two_sides=True) \n",
    "result = test.execute(res_maha)"
   ],
   "metadata": {
    "collapsed": false,
    "ExecuteTime": {
     "end_time": "2024-06-25T10:42:29.449608700Z",
     "start_time": "2024-06-25T10:42:29.181969900Z"
    }
   },
   "id": "bc7e472bbb7c2a5d",
   "execution_count": 15
  },
  {
   "cell_type": "code",
   "outputs": [
    {
     "data": {
      "text/plain": "{'FaissNearestNeighbors┴┴': array([       4931,  1908874354,  -954437177, -1908874354,           0,\n         1431655765,   477218588,   954437177,  -477218588, -1431655765,\n               4810, -1681010624,        4995,        5007,        5032,\n               5053,        4969])}"
     },
     "execution_count": 17,
     "metadata": {},
     "output_type": "execute_result"
    }
   ],
   "source": [
    "result.additional_fields"
   ],
   "metadata": {
    "collapsed": false,
    "ExecuteTime": {
     "end_time": "2024-06-25T10:42:39.663694700Z",
     "start_time": "2024-06-25T10:42:39.635647500Z"
    }
   },
   "id": "d98c94a8b8a763e9",
   "execution_count": 17
  },
  {
   "cell_type": "code",
   "outputs": [],
   "source": [
    "# TODO check with different neighbours number\n",
    "res = FaissNearestNeighbors.calc(data, features_fields=['signup_month', 'pre_spends', 'post_spends', 'age'], group_field='treat', n_neighbors=3)"
   ],
   "metadata": {
    "collapsed": false,
    "ExecuteTime": {
     "end_time": "2024-06-25T10:41:30.891402300Z",
     "start_time": "2024-06-25T10:41:30.519835Z"
    }
   },
   "id": "eb2700d96241dbf1",
   "execution_count": 8
  },
  {
   "cell_type": "code",
   "outputs": [
    {
     "data": {
      "text/plain": "      matched_indexes_0  matched_indexes_1  matched_indexes_2\n0                  2131               2266                507\n1                  4915               2183               1850\n2                  1784               2131                529\n3                  4595               2131               2618\n4                  3397               3908               1720\n...                 ...                ...                ...\n5059               2522               2618               3243\n5060                529               2705               2551\n5061               2522               1909               1461\n5062               2618               1110                244\n5063               2131               4298                608\n\n[5064 rows x 3 columns]"
     },
     "execution_count": 9,
     "metadata": {},
     "output_type": "execute_result"
    }
   ],
   "source": [
    "res"
   ],
   "metadata": {
    "collapsed": false,
    "ExecuteTime": {
     "end_time": "2024-06-25T10:41:30.914440700Z",
     "start_time": "2024-06-25T10:41:30.894443300Z"
    }
   },
   "id": "9618e0ab26ebffb7",
   "execution_count": 9
  }
 ],
 "metadata": {
  "kernelspec": {
   "display_name": "Python 3",
   "language": "python",
   "name": "python3"
  },
  "language_info": {
   "codemirror_mode": {
    "name": "ipython",
    "version": 2
   },
   "file_extension": ".py",
   "mimetype": "text/x-python",
   "name": "python",
   "nbconvert_exporter": "python",
   "pygments_lexer": "ipython2",
   "version": "2.7.6"
  }
 },
 "nbformat": 4,
 "nbformat_minor": 5
}

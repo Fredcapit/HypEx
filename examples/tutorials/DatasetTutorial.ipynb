{
 "cells": [
  {
   "cell_type": "code",
   "execution_count": 1,
   "id": "initial_id",
   "metadata": {
    "collapsed": true,
    "ExecuteTime": {
     "end_time": "2024-06-04T14:04:20.589456Z",
     "start_time": "2024-06-04T14:04:19.269042600Z"
    }
   },
   "outputs": [],
   "source": [
    "import pandas as pd\n",
    "\n",
    "from hypex.dataset.dataset import Dataset, ExperimentData\n",
    "from hypex.dataset.roles import *"
   ]
  },
  {
   "cell_type": "markdown",
   "id": "17fbe750",
   "metadata": {},
   "source": [
    "# Dataset\n",
    "\n"
   ]
  },
  {
   "cell_type": "code",
   "outputs": [
    {
     "data": {
      "text/plain": "   a    b\n0  1  4.0\n1  2  5.0\n2  3  6.0"
     },
     "execution_count": 2,
     "metadata": {},
     "output_type": "execute_result"
    }
   ],
   "source": [
    "df = pd.DataFrame({'a': [1, 2, 3], 'b': [4, 5, 6]})\n",
    "\n",
    "ds = Dataset({'a': TargetRole(), 'b': TargetRole(float)}, data=df)\n",
    "ds"
   ],
   "metadata": {
    "collapsed": false,
    "ExecuteTime": {
     "end_time": "2024-06-04T14:04:20.653093200Z",
     "start_time": "2024-06-04T14:04:20.591566800Z"
    }
   },
   "id": "d62d93cc5561f412",
   "execution_count": 2
  },
  {
   "cell_type": "code",
   "outputs": [
    {
     "data": {
      "text/plain": "{'a': Target(<class 'int'>), 'b': Target(<class 'float'>)}"
     },
     "execution_count": 3,
     "metadata": {},
     "output_type": "execute_result"
    }
   ],
   "source": [
    "ds.roles"
   ],
   "metadata": {
    "collapsed": false,
    "ExecuteTime": {
     "end_time": "2024-06-04T14:04:20.655449400Z",
     "start_time": "2024-06-04T14:04:20.640166Z"
    }
   },
   "id": "6546578e36d2522d",
   "execution_count": 3
  },
  {
   "cell_type": "code",
   "outputs": [
    {
     "data": {
      "text/plain": "['a']"
     },
     "execution_count": 4,
     "metadata": {},
     "output_type": "execute_result"
    }
   ],
   "source": [
    "ds.search_columns(TargetRole(), search_types=[int])"
   ],
   "metadata": {
    "collapsed": false,
    "ExecuteTime": {
     "end_time": "2024-06-04T14:04:20.779600Z",
     "start_time": "2024-06-04T14:04:20.657575200Z"
    }
   },
   "id": "243c84fd545c9117",
   "execution_count": 4
  },
  {
   "cell_type": "code",
   "outputs": [
    {
     "data": {
      "text/plain": "   a\n0  1\n1  2\n2  3"
     },
     "execution_count": 5,
     "metadata": {},
     "output_type": "execute_result"
    }
   ],
   "source": [
    "ds['a']"
   ],
   "metadata": {
    "collapsed": false,
    "ExecuteTime": {
     "end_time": "2024-06-04T14:04:20.810446600Z",
     "start_time": "2024-06-04T14:04:20.700763200Z"
    }
   },
   "id": "994ca789a6524c3a",
   "execution_count": 5
  },
  {
   "cell_type": "code",
   "outputs": [
    {
     "data": {
      "text/plain": "     a    b\nmin  1  4.0"
     },
     "execution_count": 6,
     "metadata": {},
     "output_type": "execute_result"
    }
   ],
   "source": [
    "ds.min()"
   ],
   "metadata": {
    "collapsed": false,
    "ExecuteTime": {
     "end_time": "2024-06-04T14:04:20.896073900Z",
     "start_time": "2024-06-04T14:04:20.734796800Z"
    }
   },
   "id": "d2a69656d09fda08",
   "execution_count": 6
  },
  {
   "cell_type": "code",
   "outputs": [
    {
     "data": {
      "text/plain": "     1\na  2.0\nb  5.0"
     },
     "execution_count": 7,
     "metadata": {},
     "output_type": "execute_result"
    }
   ],
   "source": [
    "ds[1]"
   ],
   "metadata": {
    "collapsed": false,
    "ExecuteTime": {
     "end_time": "2024-06-04T14:04:20.931116700Z",
     "start_time": "2024-06-04T14:04:20.766530400Z"
    }
   },
   "id": "e156b5587bc08370",
   "execution_count": 7
  },
  {
   "cell_type": "code",
   "outputs": [
    {
     "data": {
      "text/plain": "   1\na  2"
     },
     "execution_count": 8,
     "metadata": {},
     "output_type": "execute_result"
    }
   ],
   "source": [
    "ds['a'][1]"
   ],
   "metadata": {
    "collapsed": false,
    "ExecuteTime": {
     "end_time": "2024-06-04T14:04:20.959540200Z",
     "start_time": "2024-06-04T14:04:20.801889100Z"
    }
   },
   "id": "8973eeface0fac20",
   "execution_count": 8
  },
  {
   "cell_type": "code",
   "outputs": [
    {
     "data": {
      "text/plain": "    a    b\n0 NaN  4.0\n1 NaN  NaN\n2 NaN  NaN",
      "text/html": "<div>\n<style scoped>\n    .dataframe tbody tr th:only-of-type {\n        vertical-align: middle;\n    }\n\n    .dataframe tbody tr th {\n        vertical-align: top;\n    }\n\n    .dataframe thead th {\n        text-align: right;\n    }\n</style>\n<table border=\"1\" class=\"dataframe\">\n  <thead>\n    <tr style=\"text-align: right;\">\n      <th></th>\n      <th>a</th>\n      <th>b</th>\n    </tr>\n  </thead>\n  <tbody>\n    <tr>\n      <th>0</th>\n      <td>NaN</td>\n      <td>4.0</td>\n    </tr>\n    <tr>\n      <th>1</th>\n      <td>NaN</td>\n      <td>NaN</td>\n    </tr>\n    <tr>\n      <th>2</th>\n      <td>NaN</td>\n      <td>NaN</td>\n    </tr>\n  </tbody>\n</table>\n</div>"
     },
     "execution_count": 9,
     "metadata": {},
     "output_type": "execute_result"
    }
   ],
   "source": [
    "ds.data[ds.data[['a', 'b']] == 4]"
   ],
   "metadata": {
    "collapsed": false,
    "ExecuteTime": {
     "end_time": "2024-06-04T14:04:21.027239400Z",
     "start_time": "2024-06-04T14:04:20.828815500Z"
    }
   },
   "id": "dc77d7f3be4de04c",
   "execution_count": 9
  },
  {
   "cell_type": "code",
   "outputs": [
    {
     "data": {
      "text/plain": "    a    b\n0 NaN  4.0\n1 NaN  NaN\n2 NaN  NaN"
     },
     "execution_count": 10,
     "metadata": {},
     "output_type": "execute_result"
    }
   ],
   "source": [
    "ds[ds[['a', 'b']] == 4]"
   ],
   "metadata": {
    "collapsed": false,
    "ExecuteTime": {
     "end_time": "2024-06-04T14:04:21.065981700Z",
     "start_time": "2024-06-04T14:04:20.876700500Z"
    }
   },
   "id": "a7227bd576d1cc6d",
   "execution_count": 10
  },
  {
   "cell_type": "code",
   "outputs": [
    {
     "data": {
      "text/plain": "   a    b  c\n0  1  4.0  7\n1  2  5.0  8\n2  3  6.0  9"
     },
     "execution_count": 11,
     "metadata": {},
     "output_type": "execute_result"
    }
   ],
   "source": [
    "ds.add_column([7, 8, 9], {'c': TargetRole(int)})\n",
    "ds"
   ],
   "metadata": {
    "collapsed": false,
    "ExecuteTime": {
     "end_time": "2024-06-04T14:04:21.091540Z",
     "start_time": "2024-06-04T14:04:20.907902200Z"
    }
   },
   "id": "9904c0182a9497ca",
   "execution_count": 11
  },
  {
   "cell_type": "code",
   "outputs": [
    {
     "data": {
      "text/plain": "   a\n0  2\n1  4\n2  6"
     },
     "execution_count": 12,
     "metadata": {},
     "output_type": "execute_result"
    }
   ],
   "source": [
    "ds['a'].map(lambda x: x * 2)"
   ],
   "metadata": {
    "collapsed": false,
    "ExecuteTime": {
     "end_time": "2024-06-04T14:04:21.116775800Z",
     "start_time": "2024-06-04T14:04:20.937539400Z"
    }
   },
   "id": "fb1f19b7d8748ede",
   "execution_count": 12
  },
  {
   "cell_type": "code",
   "outputs": [
    {
     "data": {
      "text/plain": "{'a': array([1, 2, 3], dtype=int64),\n 'b': array([4., 5., 6.]),\n 'c': array([7, 8, 9], dtype=int64)}"
     },
     "execution_count": 13,
     "metadata": {},
     "output_type": "execute_result"
    }
   ],
   "source": [
    "ds.unique()"
   ],
   "metadata": {
    "collapsed": false,
    "ExecuteTime": {
     "end_time": "2024-06-04T14:04:21.223259900Z",
     "start_time": "2024-06-04T14:04:20.983162300Z"
    }
   },
   "id": "a90d7ac62c8f4d50",
   "execution_count": 13
  },
  {
   "cell_type": "code",
   "outputs": [
    {
     "data": {
      "text/plain": "    new\n0  15.0\n1  17.0\n2  19.0"
     },
     "execution_count": 14,
     "metadata": {},
     "output_type": "execute_result"
    }
   ],
   "source": [
    "ds.apply(func=lambda x: x['a'] + x['c'] + 7, role={\"new\": InfoRole()}, axis=1)"
   ],
   "metadata": {
    "collapsed": false,
    "ExecuteTime": {
     "end_time": "2024-06-04T14:04:21.259279300Z",
     "start_time": "2024-06-04T14:04:21.017312500Z"
    }
   },
   "id": "df920b127dc678dc",
   "execution_count": 14
  },
  {
   "cell_type": "code",
   "outputs": [
    {
     "name": "stdout",
     "output_type": "stream",
     "text": [
      "{'a': Target(<class 'int'>), 'b': Target(<class 'float'>), 'c': Target(<class 'int'>)}\n"
     ]
    }
   ],
   "source": [
    "print(ds.roles)"
   ],
   "metadata": {
    "collapsed": false,
    "ExecuteTime": {
     "end_time": "2024-06-04T14:04:21.301968200Z",
     "start_time": "2024-06-04T14:04:21.052978100Z"
    }
   },
   "id": "3845bd47a4f4853d",
   "execution_count": 15
  },
  {
   "cell_type": "code",
   "outputs": [
    {
     "data": {
      "text/plain": "   a    b  c   new\n0  1  4.0  7  15.0\n1  2  5.0  8  17.0\n2  3  6.0  9  19.0"
     },
     "execution_count": 16,
     "metadata": {},
     "output_type": "execute_result"
    }
   ],
   "source": [
    "ds.add_column(ds.apply(func=lambda x: x['a'] + x['c'] + 7, role={\"new\": InfoRole()}, axis=1))\n",
    "ds"
   ],
   "metadata": {
    "collapsed": false,
    "ExecuteTime": {
     "end_time": "2024-06-04T14:04:21.306965900Z",
     "start_time": "2024-06-04T14:04:21.087540700Z"
    }
   },
   "id": "d8970e778f0f4448",
   "execution_count": 16
  },
  {
   "cell_type": "code",
   "outputs": [
    {
     "data": {
      "text/plain": "{'a': Target(<class 'int'>),\n 'b': Target(<class 'float'>),\n 'c': Target(<class 'int'>),\n 'new': Info(<class 'float'>)}"
     },
     "execution_count": 17,
     "metadata": {},
     "output_type": "execute_result"
    }
   ],
   "source": [
    "ds.roles"
   ],
   "metadata": {
    "collapsed": false,
    "ExecuteTime": {
     "end_time": "2024-06-04T14:04:21.362972400Z",
     "start_time": "2024-06-04T14:04:21.113776900Z"
    }
   },
   "id": "fc481e8de1882c03",
   "execution_count": 17
  },
  {
   "cell_type": "code",
   "outputs": [],
   "source": [
    "ds.add_column([7, 8, 9], {'f': TargetRole(int)}, index=[2, 0, 1])"
   ],
   "metadata": {
    "collapsed": false,
    "ExecuteTime": {
     "end_time": "2024-06-04T14:04:21.365974600Z",
     "start_time": "2024-06-04T14:04:21.144229Z"
    }
   },
   "id": "ee6e13c96f86ffed",
   "execution_count": 18
  },
  {
   "cell_type": "code",
   "outputs": [
    {
     "data": {
      "text/plain": "   a    b  c   new  f\n0  1  4.0  7  15.0  8\n1  2  5.0  8  17.0  9\n2  3  6.0  9  19.0  7"
     },
     "execution_count": 19,
     "metadata": {},
     "output_type": "execute_result"
    }
   ],
   "source": [
    "ds"
   ],
   "metadata": {
    "collapsed": false,
    "ExecuteTime": {
     "end_time": "2024-06-04T14:04:21.479934100Z",
     "start_time": "2024-06-04T14:04:21.171744300Z"
    }
   },
   "id": "128c0acf047ffc64",
   "execution_count": 19
  },
  {
   "cell_type": "code",
   "outputs": [
    {
     "name": "stderr",
     "output_type": "stream",
     "text": [
      "C:\\Users\\User\\PycharmProjects\\HypEx\\hypex\\dataset\\dataset.py:100: SyntaxWarning: Column must be added by add_column\n",
      "  warnings.warn(\"Column must be added by add_column\", category=SyntaxWarning)\n"
     ]
    },
    {
     "data": {
      "text/plain": "   a    b  c   new  f  e\n0  1  4.0  7  15.0  8  1\n1  2  5.0  8  17.0  9  2\n2  3  6.0  9  19.0  7  3"
     },
     "execution_count": 20,
     "metadata": {},
     "output_type": "execute_result"
    }
   ],
   "source": [
    "ds['e'] = [1, 2, 3]\n",
    "ds"
   ],
   "metadata": {
    "collapsed": false,
    "ExecuteTime": {
     "end_time": "2024-06-04T14:04:21.484691Z",
     "start_time": "2024-06-04T14:04:21.203262300Z"
    }
   },
   "id": "90c9e7fc06b8472e",
   "execution_count": 20
  },
  {
   "cell_type": "code",
   "outputs": [
    {
     "data": {
      "text/plain": "   a    b  c   new  f  e\n0  1  4.0  7  15.0  8  1\n1  2  5.0  8  17.0  9  2\n2  3  6.0  9  19.0  7  3"
     },
     "execution_count": 21,
     "metadata": {},
     "output_type": "execute_result"
    }
   ],
   "source": [
    "ds['a'][1] = 1\n",
    "ds"
   ],
   "metadata": {
    "collapsed": false,
    "ExecuteTime": {
     "end_time": "2024-06-04T14:04:21.541207700Z",
     "start_time": "2024-06-04T14:04:21.240744300Z"
    }
   },
   "id": "b036d6de0a00ad8",
   "execution_count": 21
  },
  {
   "cell_type": "code",
   "outputs": [
    {
     "data": {
      "text/plain": "       a      b      c    new      f      e\n0  False  False  False  False   True  False\n1  False  False   True  False  False  False\n2   True  False  False  False  False   True"
     },
     "execution_count": 22,
     "metadata": {},
     "output_type": "execute_result"
    }
   ],
   "source": [
    "ds.isin([3, 8])"
   ],
   "metadata": {
    "collapsed": false,
    "ExecuteTime": {
     "end_time": "2024-06-04T14:04:21.567426400Z",
     "start_time": "2024-06-04T14:04:21.268290500Z"
    }
   },
   "id": "c27dce96fef8ed56",
   "execution_count": 22
  },
  {
   "cell_type": "code",
   "outputs": [
    {
     "data": {
      "text/plain": "{'a': Target(<class 'int'>),\n 'b': Target(<class 'float'>),\n 'c': Target(<class 'int'>),\n 'new': Info(<class 'float'>),\n 'f': Target(<class 'int'>),\n 'e': Info(None)}"
     },
     "execution_count": 23,
     "metadata": {},
     "output_type": "execute_result"
    }
   ],
   "source": [
    "ds.roles"
   ],
   "metadata": {
    "collapsed": false,
    "ExecuteTime": {
     "end_time": "2024-06-04T14:04:21.608354800Z",
     "start_time": "2024-06-04T14:04:21.315758900Z"
    }
   },
   "id": "86adbae2c4f153a4",
   "execution_count": 23
  },
  {
   "cell_type": "code",
   "outputs": [
    {
     "name": "stdout",
     "output_type": "stream",
     "text": [
      "[(1,         a    b    c   new    f    e\n",
      "mean  1.0  4.0  7.0  15.0  8.0  1.0), (2,         a    b    c   new    f    e\n",
      "mean  2.0  5.0  8.0  17.0  9.0  2.0), (3,         a    b    c   new    f    e\n",
      "mean  3.0  6.0  9.0  19.0  7.0  3.0)]\n"
     ]
    }
   ],
   "source": [
    "groups_func = ds.groupby('a', func='mean')\n",
    "print(groups_func)"
   ],
   "metadata": {
    "collapsed": false,
    "ExecuteTime": {
     "end_time": "2024-06-04T14:04:21.624985300Z",
     "start_time": "2024-06-04T14:04:21.362972400Z"
    }
   },
   "id": "298d0e9eb0e93232",
   "execution_count": 24
  },
  {
   "cell_type": "code",
   "outputs": [
    {
     "name": "stdout",
     "output_type": "stream",
     "text": [
      "[(1,    a    b  c   new  f  e\n",
      "0  1  4.0  7  15.0  8  1), (2,    a    b  c   new  f  e\n",
      "1  2  5.0  8  17.0  9  2), (3,    a    b  c   new  f  e\n",
      "2  3  6.0  9  19.0  7  3)]\n"
     ]
    }
   ],
   "source": [
    "groups = ds.groupby('a')\n",
    "print(groups)"
   ],
   "metadata": {
    "collapsed": false,
    "ExecuteTime": {
     "end_time": "2024-06-04T14:04:21.817571400Z",
     "start_time": "2024-06-04T14:04:21.452393400Z"
    }
   },
   "id": "3692a9da2cca79fa",
   "execution_count": 25
  },
  {
   "cell_type": "code",
   "outputs": [
    {
     "name": "stdout",
     "output_type": "stream",
     "text": [
      "[(1,         e\n",
      "mean  1.0\n",
      "var   NaN), (2,         e\n",
      "mean  2.0\n",
      "var   NaN), (3,         e\n",
      "mean  3.0\n",
      "var   NaN)]\n"
     ]
    }
   ],
   "source": [
    "groups_func_fields = ds.groupby('a', func=['mean', 'var'], fields_list='e')\n",
    "print(groups_func_fields)"
   ],
   "metadata": {
    "collapsed": false,
    "ExecuteTime": {
     "end_time": "2024-06-04T14:04:21.894451700Z",
     "start_time": "2024-06-04T14:04:21.483696600Z"
    }
   },
   "id": "676c931b395d054c",
   "execution_count": 26
  },
  {
   "cell_type": "code",
   "outputs": [
    {
     "data": {
      "text/plain": "        a     b     c   new     f    e\nsum   6.0  15.0  24.0  51.0  24.0  6.0\nmean  2.0   5.0   8.0  17.0   8.0  2.0"
     },
     "execution_count": 27,
     "metadata": {},
     "output_type": "execute_result"
    }
   ],
   "source": [
    "ds.agg(['sum', 'mean'])"
   ],
   "metadata": {
    "collapsed": false,
    "ExecuteTime": {
     "end_time": "2024-06-04T14:04:21.922538200Z",
     "start_time": "2024-06-04T14:04:21.547210200Z"
    }
   },
   "id": "464acaad9c35c0b9",
   "execution_count": 27
  },
  {
   "cell_type": "code",
   "outputs": [
    {
     "data": {
      "text/plain": "        a    b    c   new    f    e\nmean  2.0  5.0  8.0  17.0  8.0  2.0"
     },
     "execution_count": 28,
     "metadata": {},
     "output_type": "execute_result"
    }
   ],
   "source": [
    "ds.mean()"
   ],
   "metadata": {
    "collapsed": false,
    "ExecuteTime": {
     "end_time": "2024-06-04T14:04:21.978079600Z",
     "start_time": "2024-06-04T14:04:21.602356300Z"
    }
   },
   "id": "8ddda807bea6a4d0",
   "execution_count": 28
  },
  {
   "cell_type": "code",
   "outputs": [],
   "source": [
    "ds_empty = Dataset.create_empty()"
   ],
   "metadata": {
    "collapsed": false,
    "ExecuteTime": {
     "end_time": "2024-06-04T14:04:21.981459300Z",
     "start_time": "2024-06-04T14:04:21.641670700Z"
    }
   },
   "id": "2cb4974f8918f263",
   "execution_count": 29
  },
  {
   "cell_type": "code",
   "outputs": [
    {
     "data": {
      "text/plain": "Index([], dtype='object')"
     },
     "execution_count": 30,
     "metadata": {},
     "output_type": "execute_result"
    }
   ],
   "source": [
    "ds_empty.columns"
   ],
   "metadata": {
    "collapsed": false,
    "ExecuteTime": {
     "end_time": "2024-06-04T14:04:21.986705800Z",
     "start_time": "2024-06-04T14:04:21.656109300Z"
    }
   },
   "id": "d4391fdaa3654cc0",
   "execution_count": 30
  },
  {
   "cell_type": "code",
   "outputs": [
    {
     "data": {
      "text/plain": "Empty DataFrame\nColumns: []\nIndex: []"
     },
     "execution_count": 31,
     "metadata": {},
     "output_type": "execute_result"
    }
   ],
   "source": [
    "ds_empty.backend"
   ],
   "metadata": {
    "collapsed": false,
    "ExecuteTime": {
     "end_time": "2024-06-04T14:04:22.106248300Z",
     "start_time": "2024-06-04T14:04:21.672483700Z"
    }
   },
   "id": "fafc1d29ad660762",
   "execution_count": 31
  },
  {
   "cell_type": "code",
   "outputs": [],
   "source": [
    "ds_from_dict = Dataset.from_dict({'a': [1, 2], 'b': [3, 4]}, {'a': TargetRole(), 'b': InfoRole()})"
   ],
   "metadata": {
    "collapsed": false,
    "ExecuteTime": {
     "end_time": "2024-06-04T14:04:22.108847900Z",
     "start_time": "2024-06-04T14:04:21.702524500Z"
    }
   },
   "id": "6bd53eb114a3facf",
   "execution_count": 32
  },
  {
   "cell_type": "code",
   "outputs": [
    {
     "data": {
      "text/plain": "   a  b\n0  1  3\n1  2  4"
     },
     "execution_count": 33,
     "metadata": {},
     "output_type": "execute_result"
    }
   ],
   "source": [
    "ds_from_dict"
   ],
   "metadata": {
    "collapsed": false,
    "ExecuteTime": {
     "end_time": "2024-06-04T14:04:22.151241400Z",
     "start_time": "2024-06-04T14:04:21.715808200Z"
    }
   },
   "id": "7f97f4ca4db12c8",
   "execution_count": 33
  },
  {
   "cell_type": "code",
   "outputs": [
    {
     "data": {
      "text/plain": "{'a': Target(None), 'b': Info(None)}"
     },
     "execution_count": 34,
     "metadata": {},
     "output_type": "execute_result"
    }
   ],
   "source": [
    "ds_from_dict.roles"
   ],
   "metadata": {
    "collapsed": false,
    "ExecuteTime": {
     "end_time": "2024-06-04T14:04:22.154360800Z",
     "start_time": "2024-06-04T14:04:21.731456400Z"
    }
   },
   "id": "f84e59b392c1733e",
   "execution_count": 34
  },
  {
   "cell_type": "code",
   "outputs": [
    {
     "data": {
      "text/plain": "   a    b  c   new  f  e\n0  1  4.0  7  15.0  8  1\n1  2  5.0  8  17.0  9  2\n2  3  6.0  9  19.0  7  3"
     },
     "execution_count": 35,
     "metadata": {},
     "output_type": "execute_result"
    }
   ],
   "source": [
    "ds"
   ],
   "metadata": {
    "collapsed": false,
    "ExecuteTime": {
     "end_time": "2024-06-04T14:04:22.155416800Z",
     "start_time": "2024-06-04T14:04:21.748374500Z"
    }
   },
   "id": "520e132c1b89ba91",
   "execution_count": 35
  },
  {
   "cell_type": "code",
   "outputs": [
    {
     "data": {
      "text/plain": "   a    b  c   new  f  e\n0  1  4.0  7  15.0  8  1\n1  2  5.0  8  17.0  9  2\n2  3  6.0  9  19.0  7  3\n0  1  4.0  7  15.0  8  1\n1  2  5.0  8  17.0  9  2\n2  3  6.0  9  19.0  7  3"
     },
     "execution_count": 36,
     "metadata": {},
     "output_type": "execute_result"
    }
   ],
   "source": [
    "ds.append(ds)"
   ],
   "metadata": {
    "collapsed": false,
    "ExecuteTime": {
     "end_time": "2024-06-04T14:04:22.169824700Z",
     "start_time": "2024-06-04T14:04:21.764541600Z"
    }
   },
   "id": "db7750a4a24492ef",
   "execution_count": 36
  },
  {
   "cell_type": "code",
   "outputs": [
    {
     "data": {
      "text/plain": "{'a': Target(None), 'b': Info(None)}"
     },
     "metadata": {},
     "output_type": "display_data"
    },
    {
     "data": {
      "text/plain": "   V  B\n0  1  3\n1  2  4"
     },
     "execution_count": 37,
     "metadata": {},
     "output_type": "execute_result"
    }
   ],
   "source": [
    "display(ds_from_dict.roles)\n",
    "ds_from_dict.rename({'b': 'B', 'a': 'V'})"
   ],
   "metadata": {
    "collapsed": false,
    "ExecuteTime": {
     "end_time": "2024-06-04T14:04:22.172823Z",
     "start_time": "2024-06-04T14:04:21.795305700Z"
    }
   },
   "id": "4804ad51ce834889",
   "execution_count": 37
  },
  {
   "cell_type": "markdown",
   "source": [
    "# Eperiment Data"
   ],
   "metadata": {
    "collapsed": false
   },
   "id": "6228fd7283c1c424"
  },
  {
   "cell_type": "code",
   "outputs": [],
   "source": [
    "ed = ExperimentData(ds)"
   ],
   "metadata": {
    "collapsed": false,
    "ExecuteTime": {
     "end_time": "2024-06-04T14:04:22.190937700Z",
     "start_time": "2024-06-04T14:04:21.832476600Z"
    }
   },
   "id": "dc8b08a641e66fbe",
   "execution_count": 38
  },
  {
   "cell_type": "code",
   "outputs": [
    {
     "data": {
      "text/plain": "Empty DataFrame\nColumns: []\nIndex: [0, 1, 2]"
     },
     "execution_count": 39,
     "metadata": {},
     "output_type": "execute_result"
    }
   ],
   "source": [
    "ed.additional_fields"
   ],
   "metadata": {
    "collapsed": false,
    "ExecuteTime": {
     "end_time": "2024-06-04T14:04:22.197323400Z",
     "start_time": "2024-06-04T14:04:21.861513500Z"
    }
   },
   "id": "6789d27ac86f5291",
   "execution_count": 39
  },
  {
   "cell_type": "code",
   "outputs": [
    {
     "data": {
      "text/plain": "Empty DataFrame\nColumns: []\nIndex: [0, 1, 2]"
     },
     "execution_count": 40,
     "metadata": {},
     "output_type": "execute_result"
    }
   ],
   "source": [
    "ed.additional_fields.loc[:, :]"
   ],
   "metadata": {
    "collapsed": false,
    "ExecuteTime": {
     "end_time": "2024-06-04T14:04:22.213542500Z",
     "start_time": "2024-06-04T14:04:21.876152100Z"
    }
   },
   "id": "d36cf89d2e5ed478",
   "execution_count": 40
  },
  {
   "cell_type": "code",
   "outputs": [],
   "source": [],
   "metadata": {
    "collapsed": false,
    "ExecuteTime": {
     "end_time": "2024-06-04T14:04:22.219640Z",
     "start_time": "2024-06-04T14:04:21.910540100Z"
    }
   },
   "id": "25f98c7a1ddf8797",
   "execution_count": 40
  }
 ],
 "metadata": {
  "hide_input": false,
  "kernelspec": {
   "display_name": "Python 3 (ipykernel)",
   "language": "python",
   "name": "python3"
  },
  "language_info": {
   "codemirror_mode": {
    "name": "ipython",
    "version": 3
   },
   "file_extension": ".py",
   "mimetype": "text/x-python",
   "name": "python",
   "nbconvert_exporter": "python",
   "pygments_lexer": "ipython3",
   "version": "3.10.11"
  },
  "nbTranslate": {
   "displayLangs": [
    "*"
   ],
   "hotkey": "alt-t",
   "langInMainMenu": true,
   "sourceLang": "en",
   "targetLang": "fr",
   "useGoogleTranslate": true
  },
  "toc": {
   "base_numbering": 1,
   "nav_menu": {},
   "number_sections": true,
   "sideBar": true,
   "skip_h1_title": false,
   "title_cell": "Table of Contents",
   "title_sidebar": "Contents",
   "toc_cell": false,
   "toc_position": {},
   "toc_section_display": true,
   "toc_window_display": false
  },
  "varInspector": {
   "cols": {
    "lenName": 16,
    "lenType": 16,
    "lenVar": 40
   },
   "kernels_config": {
    "python": {
     "delete_cmd_postfix": "",
     "delete_cmd_prefix": "del ",
     "library": "var_list.py",
     "varRefreshCmd": "print(var_dic_list())"
    },
    "r": {
     "delete_cmd_postfix": ") ",
     "delete_cmd_prefix": "rm(",
     "library": "var_list.r",
     "varRefreshCmd": "cat(var_dic_list()) "
    }
   },
   "types_to_exclude": [
    "module",
    "function",
    "builtin_function_or_method",
    "instance",
    "_Feature"
   ],
   "window_display": false
  }
 },
 "nbformat": 4,
 "nbformat_minor": 5
}

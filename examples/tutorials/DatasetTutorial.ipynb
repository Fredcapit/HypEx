{
 "cells": [
  {
   "cell_type": "code",
   "execution_count": 1,
   "id": "initial_id",
   "metadata": {
    "collapsed": true,
    "ExecuteTime": {
     "end_time": "2024-05-30T10:34:39.856168200Z",
     "start_time": "2024-05-30T10:34:39.273299300Z"
    }
   },
   "outputs": [],
   "source": [
    "import pandas as pd\n",
    "\n",
    "from hypex.dataset.dataset import Dataset, ExperimentData\n",
    "from hypex.dataset.roles import *"
   ]
  },
  {
   "cell_type": "markdown",
   "id": "17fbe750",
   "metadata": {},
   "source": [
    "# Dataset\n",
    "\n"
   ]
  },
  {
   "cell_type": "code",
   "execution_count": 2,
   "id": "522c2e109efc0c17",
   "metadata": {
    "ExecuteTime": {
     "end_time": "2024-05-30T10:34:39.924130900Z",
     "start_time": "2024-05-30T10:34:39.858550500Z"
    }
   },
   "outputs": [
    {
     "data": {
      "text/plain": "   a  b\n0  1  4\n1  2  5\n2  3  6"
     },
     "execution_count": 2,
     "metadata": {},
     "output_type": "execute_result"
    }
   ],
   "source": [
    "df = pd.DataFrame({'a': [1, 2, 3], 'b': [4, 5, 6]})\n",
    "\n",
    "ds = Dataset({'a': TargetRole(), 'b': PreTargetRole()}, data=df)\n",
    "ds"
   ]
  },
  {
   "cell_type": "code",
   "execution_count": 3,
   "id": "97e2c6fb26889ad5",
   "metadata": {
    "collapsed": false,
    "ExecuteTime": {
     "end_time": "2024-05-30T10:34:39.926139900Z",
     "start_time": "2024-05-30T10:34:39.888765100Z"
    }
   },
   "outputs": [
    {
     "data": {
      "text/plain": "{'a': Target(<class 'int'>), 'b': PreTarget(<class 'int'>)}"
     },
     "execution_count": 3,
     "metadata": {},
     "output_type": "execute_result"
    }
   ],
   "source": [
    "ds.roles"
   ]
  },
  {
   "cell_type": "code",
   "execution_count": 4,
   "id": "7f22c159be791753",
   "metadata": {
    "ExecuteTime": {
     "end_time": "2024-05-30T10:34:39.971194500Z",
     "start_time": "2024-05-30T10:34:39.909842300Z"
    }
   },
   "outputs": [
    {
     "data": {
      "text/plain": "   a\n0  1\n1  2\n2  3"
     },
     "execution_count": 4,
     "metadata": {},
     "output_type": "execute_result"
    }
   ],
   "source": [
    "ds['a']"
   ]
  },
  {
   "cell_type": "code",
   "execution_count": 5,
   "id": "f9b16547f83f3c67",
   "metadata": {
    "collapsed": false,
    "ExecuteTime": {
     "end_time": "2024-05-30T10:34:39.987622800Z",
     "start_time": "2024-05-30T10:34:39.934621700Z"
    }
   },
   "outputs": [
    {
     "data": {
      "text/plain": "     a  b\nmin  1  4"
     },
     "execution_count": 5,
     "metadata": {},
     "output_type": "execute_result"
    }
   ],
   "source": [
    "ds.min()"
   ]
  },
  {
   "cell_type": "code",
   "execution_count": 6,
   "id": "86544b832e1c6601",
   "metadata": {
    "ExecuteTime": {
     "end_time": "2024-05-30T10:34:40.052475300Z",
     "start_time": "2024-05-30T10:34:39.949762400Z"
    }
   },
   "outputs": [
    {
     "data": {
      "text/plain": "   1\na  2\nb  5"
     },
     "execution_count": 6,
     "metadata": {},
     "output_type": "execute_result"
    }
   ],
   "source": [
    "ds[1]"
   ]
  },
  {
   "cell_type": "code",
   "execution_count": 7,
   "id": "6e6fcf0c4100061",
   "metadata": {
    "ExecuteTime": {
     "end_time": "2024-05-30T10:34:40.058880100Z",
     "start_time": "2024-05-30T10:34:39.965505400Z"
    }
   },
   "outputs": [
    {
     "data": {
      "text/plain": "   1\na  2"
     },
     "execution_count": 7,
     "metadata": {},
     "output_type": "execute_result"
    }
   ],
   "source": [
    "ds['a'][1]"
   ]
  },
  {
   "cell_type": "code",
   "execution_count": 8,
   "id": "3195bc0a0edad5b1",
   "metadata": {
    "collapsed": false,
    "ExecuteTime": {
     "end_time": "2024-05-30T10:34:40.126408600Z",
     "start_time": "2024-05-30T10:34:39.985612300Z"
    }
   },
   "outputs": [
    {
     "data": {
      "text/plain": "   a  b  c\n0  1  4  7\n1  2  5  8\n2  3  6  9"
     },
     "execution_count": 8,
     "metadata": {},
     "output_type": "execute_result"
    }
   ],
   "source": [
    "ds.add_column([7, 8, 9], {'c': TargetRole(int)})\n",
    "ds"
   ]
  },
  {
   "cell_type": "code",
   "execution_count": 9,
   "id": "92e4adcdd645c65e",
   "metadata": {
    "collapsed": false,
    "ExecuteTime": {
     "end_time": "2024-05-30T10:34:40.129407400Z",
     "start_time": "2024-05-30T10:34:40.013974700Z"
    }
   },
   "outputs": [
    {
     "data": {
      "text/plain": "   a\n0  2\n1  4\n2  6"
     },
     "execution_count": 9,
     "metadata": {},
     "output_type": "execute_result"
    }
   ],
   "source": [
    "ds['a'].map(lambda x: x * 2)"
   ]
  },
  {
   "cell_type": "code",
   "execution_count": 10,
   "id": "4d33df616d3992a7",
   "metadata": {
    "collapsed": false,
    "ExecuteTime": {
     "end_time": "2024-05-30T10:34:40.212978700Z",
     "start_time": "2024-05-30T10:34:40.032392200Z"
    }
   },
   "outputs": [
    {
     "data": {
      "text/plain": "{'a': array([1, 2, 3], dtype=int64),\n 'b': array([4, 5, 6], dtype=int64),\n 'c': array([7, 8, 9], dtype=int64)}"
     },
     "execution_count": 10,
     "metadata": {},
     "output_type": "execute_result"
    }
   ],
   "source": [
    "ds.unique()"
   ]
  },
  {
   "cell_type": "code",
   "execution_count": 11,
   "id": "982af7e32259e293",
   "metadata": {
    "collapsed": false,
    "ExecuteTime": {
     "end_time": "2024-05-30T10:34:40.257005Z",
     "start_time": "2024-05-30T10:34:40.047371100Z"
    }
   },
   "outputs": [
    {
     "data": {
      "text/plain": "   new\n0   15\n1   17\n2   19"
     },
     "execution_count": 11,
     "metadata": {},
     "output_type": "execute_result"
    }
   ],
   "source": [
    "ds.apply(func=lambda x: x['a'] + x['c'] + 7, role={\"new\": InfoRole()}, axis=1)"
   ]
  },
  {
   "cell_type": "code",
   "execution_count": 12,
   "id": "97529b0fa1c80368",
   "metadata": {
    "collapsed": false,
    "ExecuteTime": {
     "end_time": "2024-05-30T10:34:40.280959800Z",
     "start_time": "2024-05-30T10:34:40.078638400Z"
    }
   },
   "outputs": [
    {
     "name": "stdout",
     "output_type": "stream",
     "text": [
      "{'a': Target(<class 'int'>), 'b': PreTarget(<class 'int'>), 'c': Target(<class 'int'>)}\n"
     ]
    }
   ],
   "source": [
    "print(ds.roles)"
   ]
  },
  {
   "cell_type": "code",
   "execution_count": 13,
   "id": "9c2299476750f8",
   "metadata": {
    "collapsed": false,
    "ExecuteTime": {
     "end_time": "2024-05-30T10:34:40.300988800Z",
     "start_time": "2024-05-30T10:34:40.131661600Z"
    }
   },
   "outputs": [
    {
     "data": {
      "text/plain": "   a  b  c  new\n0  1  4  7   15\n1  2  5  8   17\n2  3  6  9   19"
     },
     "execution_count": 13,
     "metadata": {},
     "output_type": "execute_result"
    }
   ],
   "source": [
    "ds.add_column(ds.apply(func=lambda x: x['a'] + x['c'] + 7, role={\"new\": InfoRole()}, axis=1))\n",
    "ds"
   ]
  },
  {
   "cell_type": "code",
   "execution_count": 14,
   "id": "3a0fe3e476ec0675",
   "metadata": {
    "collapsed": false,
    "ExecuteTime": {
     "end_time": "2024-05-30T10:34:40.315840500Z",
     "start_time": "2024-05-30T10:34:40.155343900Z"
    }
   },
   "outputs": [
    {
     "data": {
      "text/plain": "{'a': Target(<class 'int'>),\n 'b': PreTarget(<class 'int'>),\n 'c': Target(<class 'int'>),\n 'new': Info(<class 'int'>)}"
     },
     "execution_count": 14,
     "metadata": {},
     "output_type": "execute_result"
    }
   ],
   "source": [
    "ds.roles"
   ]
  },
  {
   "cell_type": "code",
   "execution_count": 15,
   "id": "e022d46391e83503",
   "metadata": {
    "collapsed": false,
    "ExecuteTime": {
     "end_time": "2024-05-30T10:34:40.394448700Z",
     "start_time": "2024-05-30T10:34:40.171121700Z"
    }
   },
   "outputs": [],
   "source": [
    "ds.add_column([7, 8, 9], {'f': TargetRole(int)}, index=[2, 0, 1])"
   ]
  },
  {
   "cell_type": "code",
   "execution_count": 16,
   "id": "1fe33a91ff7e247f",
   "metadata": {
    "collapsed": false,
    "ExecuteTime": {
     "end_time": "2024-05-30T10:34:40.396755100Z",
     "start_time": "2024-05-30T10:34:40.183400700Z"
    }
   },
   "outputs": [
    {
     "data": {
      "text/plain": "   a  b  c  new  f\n0  1  4  7   15  8\n1  2  5  8   17  9\n2  3  6  9   19  7"
     },
     "execution_count": 16,
     "metadata": {},
     "output_type": "execute_result"
    }
   ],
   "source": [
    "ds"
   ]
  },
  {
   "cell_type": "code",
   "execution_count": 17,
   "id": "55eaa1d07e6541d4",
   "metadata": {
    "collapsed": false,
    "ExecuteTime": {
     "end_time": "2024-05-30T10:34:40.428612100Z",
     "start_time": "2024-05-30T10:34:40.200755400Z"
    }
   },
   "outputs": [
    {
     "name": "stderr",
     "output_type": "stream",
     "text": [
      "C:\\Users\\User\\PycharmProjects\\HypEx\\hypex\\dataset\\dataset.py:98: SyntaxWarning: Column must be added by add_column\n",
      "  warnings.warn(\"Column must be added by add_column\", category=SyntaxWarning)\n"
     ]
    },
    {
     "data": {
      "text/plain": "   a  b  c  new  f  e\n0  1  4  7   15  8  1\n1  2  5  8   17  9  2\n2  3  6  9   19  7  3"
     },
     "execution_count": 17,
     "metadata": {},
     "output_type": "execute_result"
    }
   ],
   "source": [
    "ds['e'] = [1, 2, 3]\n",
    "ds"
   ]
  },
  {
   "cell_type": "code",
   "execution_count": 18,
   "id": "33a3e6dbe408808e",
   "metadata": {
    "collapsed": false,
    "ExecuteTime": {
     "end_time": "2024-05-30T10:34:40.450391Z",
     "start_time": "2024-05-30T10:34:40.217035700Z"
    }
   },
   "outputs": [
    {
     "data": {
      "text/plain": "   a  b  c  new  f  e\n0  1  4  7   15  8  1\n1  2  5  8   17  9  2\n2  3  6  9   19  7  3"
     },
     "execution_count": 18,
     "metadata": {},
     "output_type": "execute_result"
    }
   ],
   "source": [
    "ds['a'][1] = 1\n",
    "ds"
   ]
  },
  {
   "cell_type": "code",
   "execution_count": 19,
   "id": "24738ec2c91c2169",
   "metadata": {
    "collapsed": false,
    "ExecuteTime": {
     "end_time": "2024-05-30T10:34:40.452391400Z",
     "start_time": "2024-05-30T10:34:40.231086800Z"
    }
   },
   "outputs": [
    {
     "data": {
      "text/plain": "       a      b      c    new      f      e\n0  False  False  False  False   True  False\n1  False  False   True  False  False  False\n2   True  False  False  False  False   True"
     },
     "execution_count": 19,
     "metadata": {},
     "output_type": "execute_result"
    }
   ],
   "source": [
    "ds.isin([3, 8])"
   ]
  },
  {
   "cell_type": "code",
   "execution_count": 20,
   "id": "d91ae2042d25f671",
   "metadata": {
    "collapsed": false,
    "ExecuteTime": {
     "end_time": "2024-05-30T10:34:40.471024Z",
     "start_time": "2024-05-30T10:34:40.249008700Z"
    }
   },
   "outputs": [
    {
     "data": {
      "text/plain": "{'a': Target(<class 'int'>),\n 'b': PreTarget(<class 'int'>),\n 'c': Target(<class 'int'>),\n 'new': Info(<class 'int'>),\n 'f': Target(<class 'int'>),\n 'e': Info(None)}"
     },
     "execution_count": 20,
     "metadata": {},
     "output_type": "execute_result"
    }
   ],
   "source": [
    "ds.roles"
   ]
  },
  {
   "cell_type": "code",
   "execution_count": 21,
   "id": "1fa206cbf2ceb2de",
   "metadata": {
    "collapsed": false,
    "ExecuteTime": {
     "end_time": "2024-05-30T10:34:40.488263400Z",
     "start_time": "2024-05-30T10:34:40.264005500Z"
    }
   },
   "outputs": [
    {
     "name": "stdout",
     "output_type": "stream",
     "text": [
      "[(1,         a    b    c   new    f    e\n",
      "mean  1.0  4.0  7.0  15.0  8.0  1.0), (2,         a    b    c   new    f    e\n",
      "mean  2.0  5.0  8.0  17.0  9.0  2.0), (3,         a    b    c   new    f    e\n",
      "mean  3.0  6.0  9.0  19.0  7.0  3.0)]\n"
     ]
    }
   ],
   "source": [
    "groups_func = ds.groupby('a', func='mean')\n",
    "print(groups_func)"
   ]
  },
  {
   "cell_type": "code",
   "execution_count": 22,
   "id": "70b1e4c4f436512",
   "metadata": {
    "collapsed": false,
    "ExecuteTime": {
     "end_time": "2024-05-30T10:34:40.670548700Z",
     "start_time": "2024-05-30T10:34:40.355583600Z"
    }
   },
   "outputs": [
    {
     "name": "stdout",
     "output_type": "stream",
     "text": [
      "[(1,    a  b  c  new  f  e\n",
      "0  1  4  7   15  8  1), (2,    a  b  c  new  f  e\n",
      "1  2  5  8   17  9  2), (3,    a  b  c  new  f  e\n",
      "2  3  6  9   19  7  3)]\n"
     ]
    }
   ],
   "source": [
    "groups = ds.groupby('a')\n",
    "print(groups)"
   ]
  },
  {
   "cell_type": "code",
   "execution_count": 23,
   "id": "2046ae2f89c1102d",
   "metadata": {
    "collapsed": false,
    "ExecuteTime": {
     "end_time": "2024-05-30T10:34:40.737288400Z",
     "start_time": "2024-05-30T10:34:40.404237200Z"
    }
   },
   "outputs": [
    {
     "name": "stdout",
     "output_type": "stream",
     "text": [
      "[(1,         e\n",
      "mean  1.0\n",
      "var   NaN), (2,         e\n",
      "mean  2.0\n",
      "var   NaN), (3,         e\n",
      "mean  3.0\n",
      "var   NaN)]\n"
     ]
    }
   ],
   "source": [
    "groups_func_fields = ds.groupby('a', func=['mean', 'var'], fields_list='e')\n",
    "print(groups_func_fields)"
   ]
  },
  {
   "cell_type": "code",
   "execution_count": 24,
   "id": "d38e12aa12d36ab7",
   "metadata": {
    "collapsed": false,
    "ExecuteTime": {
     "end_time": "2024-05-30T10:34:40.778426800Z",
     "start_time": "2024-05-30T10:34:40.448393600Z"
    }
   },
   "outputs": [
    {
     "data": {
      "text/plain": "        a     b     c   new     f    e\nsum   6.0  15.0  24.0  51.0  24.0  6.0\nmean  2.0   5.0   8.0  17.0   8.0  2.0"
     },
     "execution_count": 24,
     "metadata": {},
     "output_type": "execute_result"
    }
   ],
   "source": [
    "ds.agg(['sum', 'mean'])"
   ]
  },
  {
   "cell_type": "code",
   "execution_count": 25,
   "id": "3ef763e65ccc52e7",
   "metadata": {
    "collapsed": false,
    "ExecuteTime": {
     "end_time": "2024-05-30T10:34:40.782249400Z",
     "start_time": "2024-05-30T10:34:40.493834400Z"
    }
   },
   "outputs": [
    {
     "data": {
      "text/plain": "        a    b    c   new    f    e\nmean  2.0  5.0  8.0  17.0  8.0  2.0"
     },
     "execution_count": 25,
     "metadata": {},
     "output_type": "execute_result"
    }
   ],
   "source": [
    "ds.mean()"
   ]
  },
  {
   "cell_type": "code",
   "execution_count": 26,
   "id": "d9f59b67ef932e42",
   "metadata": {
    "collapsed": false,
    "ExecuteTime": {
     "end_time": "2024-05-30T10:34:40.786371900Z",
     "start_time": "2024-05-30T10:34:40.528010100Z"
    }
   },
   "outputs": [],
   "source": [
    "ds_empty = Dataset.create_empty()"
   ]
  },
  {
   "cell_type": "code",
   "execution_count": 27,
   "id": "8e65e8bf25bcb53b",
   "metadata": {
    "collapsed": false,
    "ExecuteTime": {
     "end_time": "2024-05-30T10:34:40.939077300Z",
     "start_time": "2024-05-30T10:34:40.540391400Z"
    }
   },
   "outputs": [
    {
     "data": {
      "text/plain": "Index([], dtype='object')"
     },
     "execution_count": 27,
     "metadata": {},
     "output_type": "execute_result"
    }
   ],
   "source": [
    "ds_empty.columns"
   ]
  },
  {
   "cell_type": "code",
   "execution_count": 28,
   "id": "f5578fea81e79c4c",
   "metadata": {
    "collapsed": false,
    "ExecuteTime": {
     "end_time": "2024-05-30T10:34:40.943079600Z",
     "start_time": "2024-05-30T10:34:40.562908400Z"
    }
   },
   "outputs": [
    {
     "data": {
      "text/plain": "Empty DataFrame\nColumns: []\nIndex: []"
     },
     "execution_count": 28,
     "metadata": {},
     "output_type": "execute_result"
    }
   ],
   "source": [
    "ds_empty.backend"
   ]
  },
  {
   "cell_type": "code",
   "execution_count": 29,
   "id": "c1af9da76c0d1092",
   "metadata": {
    "collapsed": false,
    "ExecuteTime": {
     "end_time": "2024-05-30T10:34:40.969290300Z",
     "start_time": "2024-05-30T10:34:40.585541Z"
    }
   },
   "outputs": [],
   "source": [
    "ds_from_dict = Dataset.from_dict({'a': [1, 2], 'b': [3, 4]}, {'a': TargetRole(), 'b': InfoRole()})"
   ]
  },
  {
   "cell_type": "code",
   "execution_count": 30,
   "id": "f741a7a185949c1f",
   "metadata": {
    "collapsed": false,
    "ExecuteTime": {
     "end_time": "2024-05-30T10:34:40.988732900Z",
     "start_time": "2024-05-30T10:34:40.607350Z"
    }
   },
   "outputs": [
    {
     "data": {
      "text/plain": "   a  b\n0  1  3\n1  2  4"
     },
     "execution_count": 30,
     "metadata": {},
     "output_type": "execute_result"
    }
   ],
   "source": [
    "ds_from_dict"
   ]
  },
  {
   "cell_type": "code",
   "execution_count": 31,
   "id": "b1819a6579d2216a",
   "metadata": {
    "collapsed": false,
    "ExecuteTime": {
     "end_time": "2024-05-30T10:34:41.001093600Z",
     "start_time": "2024-05-30T10:34:40.632019300Z"
    }
   },
   "outputs": [
    {
     "data": {
      "text/plain": "{'a': Target(None), 'b': Info(None)}"
     },
     "execution_count": 31,
     "metadata": {},
     "output_type": "execute_result"
    }
   ],
   "source": [
    "ds_from_dict.roles"
   ]
  },
  {
   "cell_type": "code",
   "execution_count": 32,
   "id": "5a33f7b721b7191",
   "metadata": {
    "collapsed": false,
    "ExecuteTime": {
     "end_time": "2024-05-30T10:34:41.007426400Z",
     "start_time": "2024-05-30T10:34:40.668549300Z"
    }
   },
   "outputs": [
    {
     "data": {
      "text/plain": "   a  b  c  new  f  e\n0  1  4  7   15  8  1\n1  2  5  8   17  9  2\n2  3  6  9   19  7  3"
     },
     "execution_count": 32,
     "metadata": {},
     "output_type": "execute_result"
    }
   ],
   "source": [
    "ds"
   ]
  },
  {
   "cell_type": "code",
   "execution_count": 33,
   "id": "ca058bb6efc5083f",
   "metadata": {
    "collapsed": false,
    "ExecuteTime": {
     "end_time": "2024-05-30T10:34:41.028267100Z",
     "start_time": "2024-05-30T10:34:40.699431300Z"
    }
   },
   "outputs": [
    {
     "data": {
      "text/plain": "   a  b  c  new  f  e\n0  1  4  7   15  8  1\n1  2  5  8   17  9  2\n2  3  6  9   19  7  3\n0  1  4  7   15  8  1\n1  2  5  8   17  9  2\n2  3  6  9   19  7  3"
     },
     "execution_count": 33,
     "metadata": {},
     "output_type": "execute_result"
    }
   ],
   "source": [
    "ds.append(ds)"
   ]
  },
  {
   "cell_type": "code",
   "execution_count": 34,
   "id": "dd6a39a2ddd38217",
   "metadata": {
    "collapsed": false,
    "ExecuteTime": {
     "end_time": "2024-05-30T10:34:41.033762700Z",
     "start_time": "2024-05-30T10:34:40.726340300Z"
    }
   },
   "outputs": [
    {
     "data": {
      "text/plain": "{'a': Target(None), 'b': Info(None)}"
     },
     "execution_count": 34,
     "metadata": {},
     "output_type": "execute_result"
    }
   ],
   "source": [
    "ds_from_dict.roles"
   ]
  },
  {
   "cell_type": "code",
   "execution_count": 35,
   "id": "b589035d",
   "metadata": {
    "ExecuteTime": {
     "end_time": "2024-05-30T10:34:41.049489300Z",
     "start_time": "2024-05-30T10:34:40.741618900Z"
    }
   },
   "outputs": [
    {
     "data": {
      "text/plain": "   V  B\n0  1  3\n1  2  4"
     },
     "execution_count": 35,
     "metadata": {},
     "output_type": "execute_result"
    }
   ],
   "source": [
    "ds_from_dict.rename({'b': 'B', 'a': 'V'})"
   ]
  },
  {
   "cell_type": "markdown",
   "id": "46249c33e39f1d63",
   "metadata": {
    "collapsed": false
   },
   "source": [
    "# Eperiment Data"
   ]
  },
  {
   "cell_type": "code",
   "execution_count": 36,
   "id": "9481bf629070a745",
   "metadata": {
    "collapsed": false,
    "ExecuteTime": {
     "end_time": "2024-05-30T10:34:41.070173600Z",
     "start_time": "2024-05-30T10:34:40.771944800Z"
    }
   },
   "outputs": [],
   "source": [
    "ed = ExperimentData(ds)"
   ]
  },
  {
   "cell_type": "code",
   "execution_count": 37,
   "id": "bda9d8e1a98f0d32",
   "metadata": {
    "collapsed": false,
    "ExecuteTime": {
     "end_time": "2024-05-30T10:34:41.076319200Z",
     "start_time": "2024-05-30T10:34:40.787372100Z"
    }
   },
   "outputs": [
    {
     "data": {
      "text/plain": "Empty DataFrame\nColumns: []\nIndex: [0, 1, 2]"
     },
     "execution_count": 37,
     "metadata": {},
     "output_type": "execute_result"
    }
   ],
   "source": [
    "ed.additional_fields"
   ]
  },
  {
   "cell_type": "code",
   "execution_count": 38,
   "id": "60d26bb9b16cdc69",
   "metadata": {
    "collapsed": false,
    "ExecuteTime": {
     "end_time": "2024-05-30T10:34:41.276713900Z",
     "start_time": "2024-05-30T10:34:40.805589400Z"
    }
   },
   "outputs": [
    {
     "data": {
      "text/plain": "Empty DataFrame\nColumns: []\nIndex: [0, 1, 2]"
     },
     "execution_count": 38,
     "metadata": {},
     "output_type": "execute_result"
    }
   ],
   "source": [
    "ed.additional_fields.loc[:, :]"
   ]
  },
  {
   "cell_type": "code",
   "execution_count": 38,
   "id": "408859630a51c6",
   "metadata": {
    "collapsed": false,
    "ExecuteTime": {
     "end_time": "2024-05-30T10:34:41.280712500Z",
     "start_time": "2024-05-30T10:34:40.835673400Z"
    }
   },
   "outputs": [],
   "source": []
  }
 ],
 "metadata": {
  "hide_input": false,
  "kernelspec": {
   "display_name": "Python 3 (ipykernel)",
   "language": "python",
   "name": "python3"
  },
  "language_info": {
   "codemirror_mode": {
    "name": "ipython",
    "version": 3
   },
   "file_extension": ".py",
   "mimetype": "text/x-python",
   "name": "python",
   "nbconvert_exporter": "python",
   "pygments_lexer": "ipython3",
   "version": "3.10.13"
  },
  "nbTranslate": {
   "displayLangs": [
    "*"
   ],
   "hotkey": "alt-t",
   "langInMainMenu": true,
   "sourceLang": "en",
   "targetLang": "fr",
   "useGoogleTranslate": true
  },
  "toc": {
   "base_numbering": 1,
   "nav_menu": {},
   "number_sections": true,
   "sideBar": true,
   "skip_h1_title": false,
   "title_cell": "Table of Contents",
   "title_sidebar": "Contents",
   "toc_cell": false,
   "toc_position": {},
   "toc_section_display": true,
   "toc_window_display": false
  },
  "varInspector": {
   "cols": {
    "lenName": 16,
    "lenType": 16,
    "lenVar": 40
   },
   "kernels_config": {
    "python": {
     "delete_cmd_postfix": "",
     "delete_cmd_prefix": "del ",
     "library": "var_list.py",
     "varRefreshCmd": "print(var_dic_list())"
    },
    "r": {
     "delete_cmd_postfix": ") ",
     "delete_cmd_prefix": "rm(",
     "library": "var_list.r",
     "varRefreshCmd": "cat(var_dic_list()) "
    }
   },
   "types_to_exclude": [
    "module",
    "function",
    "builtin_function_or_method",
    "instance",
    "_Feature"
   ],
   "window_display": false
  }
 },
 "nbformat": 4,
 "nbformat_minor": 5
}

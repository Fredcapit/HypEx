{
 "cells": [
  {
   "cell_type": "code",
   "execution_count": 1,
   "id": "initial_id",
   "metadata": {
    "ExecuteTime": {
     "end_time": "2024-06-18T15:27:28.550600200Z",
     "start_time": "2024-06-18T15:27:27.820901500Z"
    },
    "collapsed": true
   },
   "outputs": [],
   "source": [
    "import pandas as pd\n",
    "\n",
    "from hypex.dataset.dataset import Dataset, ExperimentData\n",
    "from hypex.dataset.roles import *"
   ]
  },
  {
   "cell_type": "markdown",
   "id": "17fbe750",
   "metadata": {},
   "source": [
    "# Dataset\n",
    "\n"
   ]
  },
  {
   "cell_type": "code",
   "execution_count": 2,
   "id": "d62d93cc5561f412",
   "metadata": {
    "ExecuteTime": {
     "end_time": "2024-06-18T15:27:28.625477600Z",
     "start_time": "2024-06-18T15:27:28.560624300Z"
    },
    "collapsed": false
   },
   "outputs": [
    {
     "data": {
      "text/plain": [
       "   a  b\n",
       "0  1  4\n",
       "1  2  5\n",
       "2  3  6"
      ]
     },
     "execution_count": 2,
     "metadata": {},
     "output_type": "execute_result"
    }
   ],
   "source": [
    "df = pd.DataFrame({'a': [1, 2, 3], 'b': [4, 5, 6]})\n",
    "\n",
    "ds = Dataset({'a': TargetRole(), 'b': TargetRole(float)}, data=df)\n",
    "ds"
   ]
  },
  {
   "cell_type": "code",
   "execution_count": 3,
   "id": "6546578e36d2522d",
   "metadata": {
    "ExecuteTime": {
     "end_time": "2024-06-18T15:27:28.627990900Z",
     "start_time": "2024-06-18T15:27:28.583456500Z"
    },
    "collapsed": false
   },
   "outputs": [
    {
     "data": {
      "text/plain": [
       "{'a': Target(<class 'int'>), 'b': Target(<class 'float'>)}"
      ]
     },
     "execution_count": 3,
     "metadata": {},
     "output_type": "execute_result"
    }
   ],
   "source": [
    "ds.roles"
   ]
  },
  {
   "cell_type": "code",
   "execution_count": 4,
   "id": "243c84fd545c9117",
   "metadata": {
    "ExecuteTime": {
     "end_time": "2024-06-18T15:27:28.645812300Z",
     "start_time": "2024-06-18T15:27:28.599011800Z"
    },
    "collapsed": false
   },
   "outputs": [
    {
     "data": {
      "text/plain": [
       "['a']"
      ]
     },
     "execution_count": 4,
     "metadata": {},
     "output_type": "execute_result"
    }
   ],
   "source": [
    "ds.search_columns(TargetRole(), search_types=[int])"
   ]
  },
  {
   "cell_type": "code",
   "execution_count": 5,
   "id": "994ca789a6524c3a",
   "metadata": {
    "ExecuteTime": {
     "end_time": "2024-06-18T15:27:28.723847400Z",
     "start_time": "2024-06-18T15:27:28.615319600Z"
    },
    "collapsed": false
   },
   "outputs": [
    {
     "data": {
      "text/plain": [
       "   a\n",
       "0  1\n",
       "1  2\n",
       "2  3"
      ]
     },
     "execution_count": 5,
     "metadata": {},
     "output_type": "execute_result"
    }
   ],
   "source": [
    "ds['a']"
   ]
  },
  {
   "cell_type": "code",
   "execution_count": 6,
   "id": "d2a69656d09fda08",
   "metadata": {
    "ExecuteTime": {
     "end_time": "2024-06-18T15:27:28.784762200Z",
     "start_time": "2024-06-18T15:27:28.650812900Z"
    },
    "collapsed": false
   },
   "outputs": [
    {
     "data": {
      "text/plain": [
       "     a  b\n",
       "min  1  4"
      ]
     },
     "execution_count": 6,
     "metadata": {},
     "output_type": "execute_result"
    }
   ],
   "source": [
    "ds.min()"
   ]
  },
  {
   "cell_type": "code",
   "execution_count": 7,
   "id": "e156b5587bc08370",
   "metadata": {
    "ExecuteTime": {
     "end_time": "2024-06-18T15:27:28.806253700Z",
     "start_time": "2024-06-18T15:27:28.677971900Z"
    },
    "collapsed": false
   },
   "outputs": [
    {
     "data": {
      "text/plain": [
       "   1\n",
       "a  2\n",
       "b  5"
      ]
     },
     "execution_count": 7,
     "metadata": {},
     "output_type": "execute_result"
    }
   ],
   "source": [
    "ds[1]"
   ]
  },
  {
   "cell_type": "code",
   "execution_count": 8,
   "id": "8973eeface0fac20",
   "metadata": {
    "ExecuteTime": {
     "end_time": "2024-06-18T15:27:28.809255300Z",
     "start_time": "2024-06-18T15:27:28.706591800Z"
    },
    "collapsed": false
   },
   "outputs": [
    {
     "data": {
      "text/plain": [
       "   1\n",
       "a  2"
      ]
     },
     "execution_count": 8,
     "metadata": {},
     "output_type": "execute_result"
    }
   ],
   "source": [
    "ds['a'][1]"
   ]
  },
  {
   "cell_type": "code",
   "execution_count": 9,
   "id": "dc77d7f3be4de04c",
   "metadata": {
    "ExecuteTime": {
     "end_time": "2024-06-18T15:27:28.831275100Z",
     "start_time": "2024-06-18T15:27:28.723847400Z"
    },
    "collapsed": false
   },
   "outputs": [
    {
     "data": {
      "text/html": [
       "<div>\n",
       "<style scoped>\n",
       "    .dataframe tbody tr th:only-of-type {\n",
       "        vertical-align: middle;\n",
       "    }\n",
       "\n",
       "    .dataframe tbody tr th {\n",
       "        vertical-align: top;\n",
       "    }\n",
       "\n",
       "    .dataframe thead th {\n",
       "        text-align: right;\n",
       "    }\n",
       "</style>\n",
       "<table border=\"1\" class=\"dataframe\">\n",
       "  <thead>\n",
       "    <tr style=\"text-align: right;\">\n",
       "      <th></th>\n",
       "      <th>a</th>\n",
       "      <th>b</th>\n",
       "    </tr>\n",
       "  </thead>\n",
       "  <tbody>\n",
       "    <tr>\n",
       "      <th>0</th>\n",
       "      <td>NaN</td>\n",
       "      <td>4.0</td>\n",
       "    </tr>\n",
       "    <tr>\n",
       "      <th>1</th>\n",
       "      <td>NaN</td>\n",
       "      <td>NaN</td>\n",
       "    </tr>\n",
       "    <tr>\n",
       "      <th>2</th>\n",
       "      <td>NaN</td>\n",
       "      <td>NaN</td>\n",
       "    </tr>\n",
       "  </tbody>\n",
       "</table>\n",
       "</div>"
      ],
      "text/plain": [
       "    a    b\n",
       "0 NaN  4.0\n",
       "1 NaN  NaN\n",
       "2 NaN  NaN"
      ]
     },
     "execution_count": 9,
     "metadata": {},
     "output_type": "execute_result"
    }
   ],
   "source": [
    "ds.data[ds.data[['a', 'b']] == 4]"
   ]
  },
  {
   "cell_type": "code",
   "execution_count": 10,
   "id": "a7227bd576d1cc6d",
   "metadata": {
    "ExecuteTime": {
     "end_time": "2024-06-18T15:27:28.915930900Z",
     "start_time": "2024-06-18T15:27:28.757654200Z"
    },
    "collapsed": false
   },
   "outputs": [
    {
     "data": {
      "text/plain": [
       "    a    b\n",
       "0 NaN  4.0\n",
       "1 NaN  NaN\n",
       "2 NaN  NaN"
      ]
     },
     "execution_count": 10,
     "metadata": {},
     "output_type": "execute_result"
    }
   ],
   "source": [
    "ds[ds[['a', 'b']] == 4]"
   ]
  },
  {
   "cell_type": "code",
   "execution_count": 11,
   "id": "9904c0182a9497ca",
   "metadata": {
    "ExecuteTime": {
     "end_time": "2024-06-18T15:27:28.943052100Z",
     "start_time": "2024-06-18T15:27:28.787764400Z"
    },
    "collapsed": false
   },
   "outputs": [
    {
     "data": {
      "text/plain": [
       "   a  b  c\n",
       "0  1  4  7\n",
       "1  2  5  8\n",
       "2  3  6  9"
      ]
     },
     "execution_count": 11,
     "metadata": {},
     "output_type": "execute_result"
    }
   ],
   "source": [
    "ds.add_column([7, 8, 9], {'c': TargetRole(int)})\n",
    "ds"
   ]
  },
  {
   "cell_type": "code",
   "execution_count": 12,
   "id": "fb1f19b7d8748ede",
   "metadata": {
    "ExecuteTime": {
     "end_time": "2024-06-18T15:27:28.977203800Z",
     "start_time": "2024-06-18T15:27:28.821745400Z"
    },
    "collapsed": false
   },
   "outputs": [
    {
     "data": {
      "text/plain": [
       "   a\n",
       "0  2\n",
       "1  4\n",
       "2  6"
      ]
     },
     "execution_count": 12,
     "metadata": {},
     "output_type": "execute_result"
    }
   ],
   "source": [
    "ds['a'].map(lambda x: x * 2)"
   ]
  },
  {
   "cell_type": "code",
   "execution_count": 13,
   "id": "a90d7ac62c8f4d50",
   "metadata": {
    "ExecuteTime": {
     "end_time": "2024-06-18T15:27:28.980852600Z",
     "start_time": "2024-06-18T15:27:28.850488700Z"
    },
    "collapsed": false
   },
   "outputs": [
    {
     "data": {
      "text/plain": [
       "{'a': array([1, 2, 3]), 'b': array([4, 5, 6]), 'c': array([7, 8, 9])}"
      ]
     },
     "execution_count": 13,
     "metadata": {},
     "output_type": "execute_result"
    }
   ],
   "source": [
    "ds.unique()"
   ]
  },
  {
   "cell_type": "code",
   "execution_count": 14,
   "id": "df920b127dc678dc",
   "metadata": {
    "ExecuteTime": {
     "end_time": "2024-06-18T15:27:29.108794800Z",
     "start_time": "2024-06-18T15:27:28.864998Z"
    },
    "collapsed": false
   },
   "outputs": [
    {
     "data": {
      "text/plain": [
       "   new\n",
       "0   15\n",
       "1   17\n",
       "2   19"
      ]
     },
     "execution_count": 14,
     "metadata": {},
     "output_type": "execute_result"
    }
   ],
   "source": [
    "ds.apply(func=lambda x: x['a'] + x['c'] + 7, role={\"new\": InfoRole()}, axis=1)"
   ]
  },
  {
   "cell_type": "code",
   "execution_count": 15,
   "id": "3845bd47a4f4853d",
   "metadata": {
    "ExecuteTime": {
     "end_time": "2024-06-18T15:27:29.139585Z",
     "start_time": "2024-06-18T15:27:28.882399Z"
    },
    "collapsed": false
   },
   "outputs": [
    {
     "name": "stdout",
     "output_type": "stream",
     "text": [
      "{'a': Target(<class 'int'>), 'b': Target(<class 'float'>), 'c': Target(<class 'int'>)}\n"
     ]
    }
   ],
   "source": [
    "print(ds.roles)"
   ]
  },
  {
   "cell_type": "code",
   "execution_count": 16,
   "id": "d8970e778f0f4448",
   "metadata": {
    "ExecuteTime": {
     "end_time": "2024-06-18T15:27:29.162502300Z",
     "start_time": "2024-06-18T15:27:28.928840500Z"
    },
    "collapsed": false
   },
   "outputs": [
    {
     "data": {
      "text/plain": [
       "   a  b  c  new\n",
       "0  1  4  7   15\n",
       "1  2  5  8   17\n",
       "2  3  6  9   19"
      ]
     },
     "execution_count": 16,
     "metadata": {},
     "output_type": "execute_result"
    }
   ],
   "source": [
    "ds.add_column(ds.apply(func=lambda x: x['a'] + x['c'] + 7, role={\"new\": InfoRole()}, axis=1))\n",
    "ds"
   ]
  },
  {
   "cell_type": "code",
   "execution_count": 17,
   "id": "fc481e8de1882c03",
   "metadata": {
    "ExecuteTime": {
     "end_time": "2024-06-18T15:27:29.165713500Z",
     "start_time": "2024-06-18T15:27:28.960012100Z"
    },
    "collapsed": false
   },
   "outputs": [
    {
     "data": {
      "text/plain": [
       "{'a': Target(<class 'int'>),\n",
       " 'b': Target(<class 'float'>),\n",
       " 'c': Target(<class 'int'>),\n",
       " 'new': Info(<class 'int'>)}"
      ]
     },
     "execution_count": 17,
     "metadata": {},
     "output_type": "execute_result"
    }
   ],
   "source": [
    "ds.roles"
   ]
  },
  {
   "cell_type": "code",
   "execution_count": 18,
   "id": "ee6e13c96f86ffed",
   "metadata": {
    "ExecuteTime": {
     "end_time": "2024-06-18T15:27:29.220733300Z",
     "start_time": "2024-06-18T15:27:28.975201400Z"
    },
    "collapsed": false
   },
   "outputs": [],
   "source": [
    "ds.add_column([7, 8, 9], {'f': TargetRole(int)}, index=[2, 0, 1])"
   ]
  },
  {
   "cell_type": "code",
   "execution_count": 19,
   "id": "128c0acf047ffc64",
   "metadata": {
    "ExecuteTime": {
     "end_time": "2024-06-18T15:27:29.225259900Z",
     "start_time": "2024-06-18T15:27:29.006910900Z"
    },
    "collapsed": false
   },
   "outputs": [
    {
     "data": {
      "text/plain": [
       "   a  b  c  new  f\n",
       "0  1  4  7   15  8\n",
       "1  2  5  8   17  9\n",
       "2  3  6  9   19  7"
      ]
     },
     "execution_count": 19,
     "metadata": {},
     "output_type": "execute_result"
    }
   ],
   "source": [
    "ds"
   ]
  },
  {
   "cell_type": "code",
   "execution_count": 20,
   "id": "90c9e7fc06b8472e",
   "metadata": {
    "ExecuteTime": {
     "end_time": "2024-06-18T15:27:29.356937Z",
     "start_time": "2024-06-18T15:27:29.022117500Z"
    },
    "collapsed": false
   },
   "outputs": [
    {
     "name": "stderr",
     "output_type": "stream",
     "text": [
      "/workspaces/HypEx/hypex/dataset/dataset.py:102: SyntaxWarning: Column must be added by add_column\n",
      "  warnings.warn(\"Column must be added by add_column\", category=SyntaxWarning)\n"
     ]
    },
    {
     "data": {
      "text/plain": [
       "   a  b  c  new  f  e\n",
       "0  1  4  7   15  8  1\n",
       "1  2  5  8   17  9  2\n",
       "2  3  6  9   19  7  3"
      ]
     },
     "execution_count": 20,
     "metadata": {},
     "output_type": "execute_result"
    }
   ],
   "source": [
    "ds['e'] = [1, 2, 3]\n",
    "ds"
   ]
  },
  {
   "cell_type": "code",
   "execution_count": 21,
   "id": "b036d6de0a00ad8",
   "metadata": {
    "ExecuteTime": {
     "end_time": "2024-06-18T15:27:29.361178700Z",
     "start_time": "2024-06-18T15:27:29.054631400Z"
    },
    "collapsed": false
   },
   "outputs": [
    {
     "data": {
      "text/plain": [
       "   a  b  c  new  f  e\n",
       "0  1  4  7   15  8  1\n",
       "1  2  5  8   17  9  2\n",
       "2  3  6  9   19  7  3"
      ]
     },
     "execution_count": 21,
     "metadata": {},
     "output_type": "execute_result"
    }
   ],
   "source": [
    "ds['a'][1] = 1\n",
    "ds"
   ]
  },
  {
   "cell_type": "code",
   "execution_count": 22,
   "id": "c27dce96fef8ed56",
   "metadata": {
    "ExecuteTime": {
     "end_time": "2024-06-18T15:27:29.406984700Z",
     "start_time": "2024-06-18T15:27:29.084585700Z"
    },
    "collapsed": false
   },
   "outputs": [
    {
     "data": {
      "text/plain": [
       "       a      b      c    new      f      e\n",
       "0  False  False  False  False   True  False\n",
       "1  False  False   True  False  False  False\n",
       "2   True  False  False  False  False   True"
      ]
     },
     "execution_count": 22,
     "metadata": {},
     "output_type": "execute_result"
    }
   ],
   "source": [
    "ds.isin([3, 8])"
   ]
  },
  {
   "cell_type": "code",
   "execution_count": 23,
   "id": "86adbae2c4f153a4",
   "metadata": {
    "ExecuteTime": {
     "end_time": "2024-06-18T15:27:29.430207300Z",
     "start_time": "2024-06-18T15:27:29.122607400Z"
    },
    "collapsed": false
   },
   "outputs": [
    {
     "data": {
      "text/plain": [
       "{'a': Target(<class 'int'>),\n",
       " 'b': Target(<class 'float'>),\n",
       " 'c': Target(<class 'int'>),\n",
       " 'new': Info(<class 'int'>),\n",
       " 'f': Target(<class 'int'>),\n",
       " 'e': Info(None)}"
      ]
     },
     "execution_count": 23,
     "metadata": {},
     "output_type": "execute_result"
    }
   ],
   "source": [
    "ds.roles"
   ]
  },
  {
   "cell_type": "code",
   "execution_count": 24,
   "id": "298d0e9eb0e93232",
   "metadata": {
    "ExecuteTime": {
     "end_time": "2024-06-18T15:27:29.457207500Z",
     "start_time": "2024-06-18T15:27:29.152022300Z"
    },
    "collapsed": false
   },
   "outputs": [
    {
     "name": "stdout",
     "output_type": "stream",
     "text": [
      "[(1,         a    b    c   new    f    e\n",
      "mean  1.0  4.0  7.0  15.0  8.0  1.0), (2,         a    b    c   new    f    e\n",
      "mean  2.0  5.0  8.0  17.0  9.0  2.0), (3,         a    b    c   new    f    e\n",
      "mean  3.0  6.0  9.0  19.0  7.0  3.0)]\n"
     ]
    }
   ],
   "source": [
    "groups_func = ds.groupby('a', func='mean')\n",
    "print(groups_func)"
   ]
  },
  {
   "cell_type": "code",
   "execution_count": 25,
   "id": "3692a9da2cca79fa",
   "metadata": {
    "ExecuteTime": {
     "end_time": "2024-06-18T15:27:29.573013400Z",
     "start_time": "2024-06-18T15:27:29.253446100Z"
    },
    "collapsed": false
   },
   "outputs": [
    {
     "name": "stdout",
     "output_type": "stream",
     "text": [
      "[(1,    a  b  c  new  f  e\n",
      "0  1  4  7   15  8  1), (2,    a  b  c  new  f  e\n",
      "1  2  5  8   17  9  2), (3,    a  b  c  new  f  e\n",
      "2  3  6  9   19  7  3)]\n"
     ]
    }
   ],
   "source": [
    "groups = ds.groupby('a')\n",
    "print(groups)"
   ]
  },
  {
   "cell_type": "code",
   "execution_count": 26,
   "id": "676c931b395d054c",
   "metadata": {
    "ExecuteTime": {
     "end_time": "2024-06-18T15:27:29.641228600Z",
     "start_time": "2024-06-18T15:27:29.305131600Z"
    },
    "collapsed": false
   },
   "outputs": [
    {
     "name": "stdout",
     "output_type": "stream",
     "text": [
      "[(1,         e\n",
      "mean  1.0\n",
      "var   NaN), (2,         e\n",
      "mean  2.0\n",
      "var   NaN), (3,         e\n",
      "mean  3.0\n",
      "var   NaN)]\n"
     ]
    }
   ],
   "source": [
    "groups_func_fields = ds.groupby('a', func=['mean', 'var'], fields_list='e')\n",
    "print(groups_func_fields)"
   ]
  },
  {
   "cell_type": "code",
   "execution_count": 27,
   "id": "464acaad9c35c0b9",
   "metadata": {
    "ExecuteTime": {
     "end_time": "2024-06-18T15:27:29.686232100Z",
     "start_time": "2024-06-18T15:27:29.374341900Z"
    },
    "collapsed": false
   },
   "outputs": [
    {
     "data": {
      "text/plain": [
       "        a     b     c   new     f    e\n",
       "sum   6.0  15.0  24.0  51.0  24.0  6.0\n",
       "mean  2.0   5.0   8.0  17.0   8.0  2.0"
      ]
     },
     "execution_count": 27,
     "metadata": {},
     "output_type": "execute_result"
    }
   ],
   "source": [
    "ds.agg(['sum', 'mean'])"
   ]
  },
  {
   "cell_type": "code",
   "execution_count": 28,
   "id": "8ddda807bea6a4d0",
   "metadata": {
    "ExecuteTime": {
     "end_time": "2024-06-18T15:27:29.708307300Z",
     "start_time": "2024-06-18T15:27:29.420682Z"
    },
    "collapsed": false
   },
   "outputs": [
    {
     "data": {
      "text/plain": [
       "        a    b    c   new    f    e\n",
       "mean  2.0  5.0  8.0  17.0  8.0  2.0"
      ]
     },
     "execution_count": 28,
     "metadata": {},
     "output_type": "execute_result"
    }
   ],
   "source": [
    "ds.mean()"
   ]
  },
  {
   "cell_type": "code",
   "execution_count": 29,
   "id": "2cb4974f8918f263",
   "metadata": {
    "ExecuteTime": {
     "end_time": "2024-06-18T15:27:29.711937800Z",
     "start_time": "2024-06-18T15:27:29.461208Z"
    },
    "collapsed": false
   },
   "outputs": [],
   "source": [
    "ds_empty = Dataset.create_empty()"
   ]
  },
  {
   "cell_type": "code",
   "execution_count": 30,
   "id": "d4391fdaa3654cc0",
   "metadata": {
    "ExecuteTime": {
     "end_time": "2024-06-18T15:27:29.834021800Z",
     "start_time": "2024-06-18T15:27:29.476712900Z"
    },
    "collapsed": false
   },
   "outputs": [
    {
     "data": {
      "text/plain": [
       "Index([], dtype='object')"
      ]
     },
     "execution_count": 30,
     "metadata": {},
     "output_type": "execute_result"
    }
   ],
   "source": [
    "ds_empty.columns"
   ]
  },
  {
   "cell_type": "code",
   "execution_count": 31,
   "id": "fafc1d29ad660762",
   "metadata": {
    "ExecuteTime": {
     "end_time": "2024-06-18T15:27:29.837023800Z",
     "start_time": "2024-06-18T15:27:29.513615700Z"
    },
    "collapsed": false
   },
   "outputs": [
    {
     "data": {
      "text/plain": [
       "Empty DataFrame\n",
       "Columns: []\n",
       "Index: []"
      ]
     },
     "execution_count": 31,
     "metadata": {},
     "output_type": "execute_result"
    }
   ],
   "source": [
    "ds_empty.backend"
   ]
  },
  {
   "cell_type": "code",
   "execution_count": 32,
   "id": "6bd53eb114a3facf",
   "metadata": {
    "ExecuteTime": {
     "end_time": "2024-06-18T15:27:29.870177200Z",
     "start_time": "2024-06-18T15:27:29.540018500Z"
    },
    "collapsed": false
   },
   "outputs": [],
   "source": [
    "ds_from_dict = Dataset.from_dict({'a': [1, 2], 'b': [3, 4]}, {'a': TargetRole(), 'b': InfoRole()})"
   ]
  },
  {
   "cell_type": "code",
   "execution_count": 33,
   "id": "7f97f4ca4db12c8",
   "metadata": {
    "ExecuteTime": {
     "end_time": "2024-06-18T15:27:29.893450Z",
     "start_time": "2024-06-18T15:27:29.573013400Z"
    },
    "collapsed": false
   },
   "outputs": [
    {
     "data": {
      "text/plain": [
       "   a  b\n",
       "0  1  3\n",
       "1  2  4"
      ]
     },
     "execution_count": 33,
     "metadata": {},
     "output_type": "execute_result"
    }
   ],
   "source": [
    "ds_from_dict"
   ]
  },
  {
   "cell_type": "code",
   "execution_count": 34,
   "id": "f84e59b392c1733e",
   "metadata": {
    "ExecuteTime": {
     "end_time": "2024-06-18T15:27:29.932993600Z",
     "start_time": "2024-06-18T15:27:29.604016200Z"
    },
    "collapsed": false
   },
   "outputs": [
    {
     "data": {
      "text/plain": [
       "{'a': Target(None), 'b': Info(None)}"
      ]
     },
     "execution_count": 34,
     "metadata": {},
     "output_type": "execute_result"
    }
   ],
   "source": [
    "ds_from_dict.roles"
   ]
  },
  {
   "cell_type": "code",
   "execution_count": 35,
   "id": "520e132c1b89ba91",
   "metadata": {
    "ExecuteTime": {
     "end_time": "2024-06-18T15:27:29.939991200Z",
     "start_time": "2024-06-18T15:27:29.668228900Z"
    },
    "collapsed": false
   },
   "outputs": [
    {
     "data": {
      "text/plain": [
       "   a  b  c  new  f  e\n",
       "0  1  4  7   15  8  1\n",
       "1  2  5  8   17  9  2\n",
       "2  3  6  9   19  7  3"
      ]
     },
     "execution_count": 35,
     "metadata": {},
     "output_type": "execute_result"
    }
   ],
   "source": [
    "ds"
   ]
  },
  {
   "cell_type": "code",
   "execution_count": 36,
   "id": "db7750a4a24492ef",
   "metadata": {
    "ExecuteTime": {
     "end_time": "2024-06-18T15:27:29.956683300Z",
     "start_time": "2024-06-18T15:27:29.702230400Z"
    },
    "collapsed": false
   },
   "outputs": [
    {
     "data": {
      "text/plain": [
       "   a  b  c  new  f  e\n",
       "0  1  4  7   15  8  1\n",
       "1  2  5  8   17  9  2\n",
       "2  3  6  9   19  7  3\n",
       "0  1  4  7   15  8  1\n",
       "1  2  5  8   17  9  2\n",
       "2  3  6  9   19  7  3"
      ]
     },
     "execution_count": 36,
     "metadata": {},
     "output_type": "execute_result"
    }
   ],
   "source": [
    "ds.append(ds)"
   ]
  },
  {
   "cell_type": "code",
   "execution_count": 37,
   "id": "4804ad51ce834889",
   "metadata": {
    "ExecuteTime": {
     "end_time": "2024-06-18T15:27:30.058849200Z",
     "start_time": "2024-06-18T15:27:29.761495Z"
    },
    "collapsed": false
   },
   "outputs": [
    {
     "data": {
      "text/plain": [
       "{'a': Target(None), 'b': Info(None)}"
      ]
     },
     "metadata": {},
     "output_type": "display_data"
    },
    {
     "data": {
      "text/plain": [
       "   V  B\n",
       "0  1  3\n",
       "1  2  4"
      ]
     },
     "execution_count": 37,
     "metadata": {},
     "output_type": "execute_result"
    }
   ],
   "source": [
    "display(ds_from_dict.roles)\n",
    "ds_from_dict.rename({'b': 'B', 'a': 'V'})"
   ]
  },
  {
   "cell_type": "markdown",
   "id": "6228fd7283c1c424",
   "metadata": {
    "collapsed": false
   },
   "source": [
    "# Eperiment Data"
   ]
  },
  {
   "cell_type": "code",
   "execution_count": 38,
   "id": "dc8b08a641e66fbe",
   "metadata": {
    "ExecuteTime": {
     "end_time": "2024-06-18T15:27:30.085763900Z",
     "start_time": "2024-06-18T15:27:29.822500300Z"
    },
    "collapsed": false
   },
   "outputs": [],
   "source": [
    "ed = ExperimentData(ds)"
   ]
  },
  {
   "cell_type": "code",
   "execution_count": 39,
   "id": "6789d27ac86f5291",
   "metadata": {
    "ExecuteTime": {
     "end_time": "2024-06-18T15:27:30.101864100Z",
     "start_time": "2024-06-18T15:27:29.872197900Z"
    },
    "collapsed": false
   },
   "outputs": [
    {
     "data": {
      "text/plain": [
       "Empty DataFrame\n",
       "Columns: []\n",
       "Index: [0, 1, 2]"
      ]
     },
     "execution_count": 39,
     "metadata": {},
     "output_type": "execute_result"
    }
   ],
   "source": [
    "ed.additional_fields"
   ]
  },
  {
   "cell_type": "code",
   "execution_count": 40,
   "id": "d36cf89d2e5ed478",
   "metadata": {
    "ExecuteTime": {
     "end_time": "2024-06-18T15:27:30.125573300Z",
     "start_time": "2024-06-18T15:27:29.918464400Z"
    },
    "collapsed": false
   },
   "outputs": [
    {
     "data": {
      "text/plain": [
       "Empty DataFrame\n",
       "Columns: []\n",
       "Index: [0, 1, 2]"
      ]
     },
     "execution_count": 40,
     "metadata": {},
     "output_type": "execute_result"
    }
   ],
   "source": [
    "ed.additional_fields.loc[:, :]"
   ]
  }
 ],
 "metadata": {
  "hide_input": false,
  "kernelspec": {
   "display_name": "Python 3 (ipykernel)",
   "language": "python",
   "name": "python3"
  },
  "language_info": {
   "codemirror_mode": {
    "name": "ipython",
    "version": 3
   },
   "file_extension": ".py",
   "mimetype": "text/x-python",
   "name": "python",
   "nbconvert_exporter": "python",
   "pygments_lexer": "ipython3",
   "version": "3.10.13"
  },
  "nbTranslate": {
   "displayLangs": [
    "*"
   ],
   "hotkey": "alt-t",
   "langInMainMenu": true,
   "sourceLang": "en",
   "targetLang": "fr",
   "useGoogleTranslate": true
  },
  "toc": {
   "base_numbering": 1,
   "nav_menu": {},
   "number_sections": true,
   "sideBar": true,
   "skip_h1_title": false,
   "title_cell": "Table of Contents",
   "title_sidebar": "Contents",
   "toc_cell": false,
   "toc_position": {},
   "toc_section_display": true,
   "toc_window_display": false
  },
  "varInspector": {
   "cols": {
    "lenName": 16,
    "lenType": 16,
    "lenVar": 40
   },
   "kernels_config": {
    "python": {
     "delete_cmd_postfix": "",
     "delete_cmd_prefix": "del ",
     "library": "var_list.py",
     "varRefreshCmd": "print(var_dic_list())"
    },
    "r": {
     "delete_cmd_postfix": ") ",
     "delete_cmd_prefix": "rm(",
     "library": "var_list.r",
     "varRefreshCmd": "cat(var_dic_list()) "
    }
   },
   "types_to_exclude": [
    "module",
    "function",
    "builtin_function_or_method",
    "instance",
    "_Feature"
   ],
   "window_display": false
  }
 },
 "nbformat": 4,
 "nbformat_minor": 5
}

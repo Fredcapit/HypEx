{
 "cells": [
  {
   "cell_type": "code",
   "id": "initial_id",
   "metadata": {
    "collapsed": true,
    "ExecuteTime": {
     "end_time": "2024-07-23T10:48:04.173021Z",
     "start_time": "2024-07-23T10:48:04.168683Z"
    }
   },
   "source": [
    "import copy\n",
    "\n",
    "import pandas as pd\n",
    "\n",
    "from hypex.dataset.dataset import Dataset, ExperimentData\n",
    "from hypex.dataset.roles import TargetRole, InfoRole, FeatureRole"
   ],
   "outputs": [],
   "execution_count": 212
  },
  {
   "cell_type": "markdown",
   "id": "17fbe750",
   "metadata": {},
   "source": [
    "# Dataset and ExperimentData tutorial\n",
    "\n",
    "In this tutorial, we will look on Dataset and ExperimentData classes. This is key classes for working with data in Hypex."
   ]
  },
  {
   "cell_type": "markdown",
   "id": "1fab4946fe7c773d",
   "metadata": {},
   "source": [
    "### Create Dataset\n",
    "Initializes a new instance of the Dataset class.\n",
    "\n",
    "Args:\n",
    "* __roles__: A dictionary mapping roles to their corresponding column names and types. Roles are used to mark up data by their intended purpose. There are different types of roles that have different meanings in different contexts.\n",
    "* __data__: The data to be used for the dataset. Can be either a pandas DataFrame or a file path. Defaults to None.\n",
    "* __backend__: The backend to be used for the dataset. Defaults to None, but None is a `pandas`.\n"
   ]
  },
  {
   "cell_type": "code",
   "id": "9a7283d7",
   "metadata": {
    "ExecuteTime": {
     "end_time": "2024-07-23T10:48:04.550598Z",
     "start_time": "2024-07-23T10:48:04.542860Z"
    }
   },
   "source": [
    "ds = Dataset({'a': TargetRole(), 'b': TargetRole(float)})\n",
    "ds"
   ],
   "outputs": [
    {
     "data": {
      "text/plain": [
       "Empty DataFrame\n",
       "Columns: []\n",
       "Index: []"
      ]
     },
     "execution_count": 213,
     "metadata": {},
     "output_type": "execute_result"
    }
   ],
   "execution_count": 213
  },
  {
   "cell_type": "code",
   "id": "d62d93cc5561f412",
   "metadata": {
    "collapsed": false,
    "ExecuteTime": {
     "end_time": "2024-07-23T10:48:04.661699Z",
     "start_time": "2024-07-23T10:48:04.647388Z"
    }
   },
   "source": [
    "df = pd.DataFrame({'a': [1, 2, 3], 'b': [4, 5, 6]})\n",
    "\n",
    "ds = Dataset({'a': TargetRole(), 'b': TargetRole(float)}, data=df)\n",
    "ds"
   ],
   "outputs": [
    {
     "data": {
      "text/plain": [
       "   a    b\n",
       "0  1  4.0\n",
       "1  2  5.0\n",
       "2  3  6.0"
      ]
     },
     "execution_count": 214,
     "metadata": {},
     "output_type": "execute_result"
    }
   ],
   "execution_count": 214
  },
  {
   "cell_type": "code",
   "id": "6546578e36d2522d",
   "metadata": {
    "collapsed": false,
    "ExecuteTime": {
     "end_time": "2024-07-23T10:48:04.741473Z",
     "start_time": "2024-07-23T10:48:04.734338Z"
    }
   },
   "source": [
    "ds.roles"
   ],
   "outputs": [
    {
     "data": {
      "text/plain": [
       "{'a': Target(<class 'int'>), 'b': Target(<class 'float'>)}"
      ]
     },
     "execution_count": 215,
     "metadata": {},
     "output_type": "execute_result"
    }
   ],
   "execution_count": 215
  },
  {
   "cell_type": "markdown",
   "id": "90940f464fc1cfc4",
   "metadata": {},
   "source": [
    "#### Create empty\n",
    "Create an empty Dataset with same arguments as the Dataset constructor, but without any data. Additional you can pass index for creating empty Dataset with defined index and size."
   ]
  },
  {
   "cell_type": "code",
   "id": "2cb4974f8918f263",
   "metadata": {
    "collapsed": false,
    "ExecuteTime": {
     "end_time": "2024-07-23T10:48:04.785820Z",
     "start_time": "2024-07-23T10:48:04.777450Z"
    }
   },
   "source": [
    "ds_empty = Dataset.create_empty()\n",
    "ds_empty"
   ],
   "outputs": [
    {
     "data": {
      "text/plain": [
       "Empty DataFrame\n",
       "Columns: []\n",
       "Index: []"
      ]
     },
     "execution_count": 216,
     "metadata": {},
     "output_type": "execute_result"
    }
   ],
   "execution_count": 216
  },
  {
   "cell_type": "code",
   "id": "8e502633",
   "metadata": {
    "ExecuteTime": {
     "end_time": "2024-07-23T10:48:04.840111Z",
     "start_time": "2024-07-23T10:48:04.830483Z"
    }
   },
   "source": [
    "ds_empty = Dataset.create_empty(roles={'a': TargetRole(), 'b': TargetRole(float)}, index=range(7))\n",
    "ds_empty"
   ],
   "outputs": [
    {
     "data": {
      "text/plain": [
       "     a    b\n",
       "0  NaN  NaN\n",
       "1  NaN  NaN\n",
       "2  NaN  NaN\n",
       "3  NaN  NaN\n",
       "4  NaN  NaN\n",
       "5  NaN  NaN\n",
       "6  NaN  NaN"
      ]
     },
     "execution_count": 217,
     "metadata": {},
     "output_type": "execute_result"
    }
   ],
   "execution_count": 217
  },
  {
   "cell_type": "markdown",
   "id": "f84cc3be41f971cc",
   "metadata": {},
   "source": [
    "### Backend\n",
    "Backend in HypEx is a class that adapts the data storage, navigation, transformation and calculation for the Dataset from original framework. You can access it via `Dataset.backend` property."
   ]
  },
  {
   "cell_type": "code",
   "id": "c1e520dd",
   "metadata": {
    "ExecuteTime": {
     "end_time": "2024-07-23T10:48:04.869976Z",
     "start_time": "2024-07-23T10:48:04.863621Z"
    }
   },
   "source": [
    "type(ds.backend)"
   ],
   "outputs": [
    {
     "data": {
      "text/plain": [
       "hypex.dataset.backends.pandas_backend.PandasDataset"
      ]
     },
     "execution_count": 218,
     "metadata": {},
     "output_type": "execute_result"
    }
   ],
   "execution_count": 218
  },
  {
   "cell_type": "code",
   "id": "fdcedbbf",
   "metadata": {
    "ExecuteTime": {
     "end_time": "2024-07-23T10:48:04.899121Z",
     "start_time": "2024-07-23T10:48:04.892229Z"
    }
   },
   "source": [
    "ds.backend"
   ],
   "outputs": [
    {
     "data": {
      "text/plain": [
       "   a    b\n",
       "0  1  4.0\n",
       "1  2  5.0\n",
       "2  3  6.0"
      ]
     },
     "execution_count": 219,
     "metadata": {},
     "output_type": "execute_result"
    }
   ],
   "execution_count": 219
  },
  {
   "cell_type": "markdown",
   "id": "7902bbc1",
   "metadata": {},
   "source": [
    "For accessing the data of the backend object, you can use `Dataset.data` property."
   ]
  },
  {
   "cell_type": "code",
   "id": "fafc1d29ad660762",
   "metadata": {
    "ExecuteTime": {
     "end_time": "2024-07-23T10:48:05.003802Z",
     "start_time": "2024-07-23T10:48:04.995983Z"
    }
   },
   "source": [
    "type(ds.data)"
   ],
   "outputs": [
    {
     "data": {
      "text/plain": [
       "pandas.core.frame.DataFrame"
      ]
     },
     "execution_count": 220,
     "metadata": {},
     "output_type": "execute_result"
    }
   ],
   "execution_count": 220
  },
  {
   "cell_type": "code",
   "id": "b04a8f4b",
   "metadata": {
    "ExecuteTime": {
     "end_time": "2024-07-23T10:48:05.092025Z",
     "start_time": "2024-07-23T10:48:05.083533Z"
    }
   },
   "source": [
    "ds.data"
   ],
   "outputs": [
    {
     "data": {
      "text/plain": [
       "   a    b\n",
       "0  1  4.0\n",
       "1  2  5.0\n",
       "2  3  6.0"
      ],
      "text/html": [
       "<div>\n",
       "<style scoped>\n",
       "    .dataframe tbody tr th:only-of-type {\n",
       "        vertical-align: middle;\n",
       "    }\n",
       "\n",
       "    .dataframe tbody tr th {\n",
       "        vertical-align: top;\n",
       "    }\n",
       "\n",
       "    .dataframe thead th {\n",
       "        text-align: right;\n",
       "    }\n",
       "</style>\n",
       "<table border=\"1\" class=\"dataframe\">\n",
       "  <thead>\n",
       "    <tr style=\"text-align: right;\">\n",
       "      <th></th>\n",
       "      <th>a</th>\n",
       "      <th>b</th>\n",
       "    </tr>\n",
       "  </thead>\n",
       "  <tbody>\n",
       "    <tr>\n",
       "      <th>0</th>\n",
       "      <td>1</td>\n",
       "      <td>4.0</td>\n",
       "    </tr>\n",
       "    <tr>\n",
       "      <th>1</th>\n",
       "      <td>2</td>\n",
       "      <td>5.0</td>\n",
       "    </tr>\n",
       "    <tr>\n",
       "      <th>2</th>\n",
       "      <td>3</td>\n",
       "      <td>6.0</td>\n",
       "    </tr>\n",
       "  </tbody>\n",
       "</table>\n",
       "</div>"
      ]
     },
     "execution_count": 221,
     "metadata": {},
     "output_type": "execute_result"
    }
   ],
   "execution_count": 221
  },
  {
   "cell_type": "markdown",
   "id": "dd883379f7d23af4",
   "metadata": {},
   "source": [
    "## Dataset Methods\n",
    "\n",
    "In the current version of HypEx, when implementing functions, we orienton Pandas, so most functions work the same way. Here we will focus on those features that are significantly different from Pandas."
   ]
  },
  {
   "cell_type": "markdown",
   "id": "8e5498236fa4d635",
   "metadata": {},
   "source": [
    "### From dict\n",
    "It staticmethod allow you can use to create a Dataset object from a dict. This method work with two types of dicts.\n"
   ]
  },
  {
   "cell_type": "markdown",
   "id": "495cf961",
   "metadata": {},
   "source": [
    "First way:"
   ]
  },
  {
   "cell_type": "code",
   "id": "6bd53eb114a3facf",
   "metadata": {
    "ExecuteTime": {
     "end_time": "2024-07-23T10:48:05.146246Z",
     "start_time": "2024-07-23T10:48:05.135233Z"
    }
   },
   "source": [
    "ds_from_dict = Dataset.from_dict({'a': [1, 2], 'b': [3, 4]}, {'a': TargetRole(), 'b': InfoRole()})\n",
    "ds_from_dict"
   ],
   "outputs": [
    {
     "data": {
      "text/plain": [
       "   a  b\n",
       "0  1  3\n",
       "1  2  4"
      ]
     },
     "execution_count": 222,
     "metadata": {},
     "output_type": "execute_result"
    }
   ],
   "execution_count": 222
  },
  {
   "cell_type": "markdown",
   "id": "157c8c55",
   "metadata": {},
   "source": [
    "Second way:"
   ]
  },
  {
   "cell_type": "code",
   "id": "1c14ccf4",
   "metadata": {
    "ExecuteTime": {
     "end_time": "2024-07-23T10:48:05.248200Z",
     "start_time": "2024-07-23T10:48:05.236224Z"
    }
   },
   "source": [
    "ds_from_dict = Dataset.from_dict([{'a': 1, 'b': 3}, {'a': 2, 'b': 4}], {'a': TargetRole(), 'b': InfoRole()})\n",
    "ds_from_dict"
   ],
   "outputs": [
    {
     "data": {
      "text/plain": [
       "   a  b\n",
       "0  1  3\n",
       "1  2  4"
      ]
     },
     "execution_count": 223,
     "metadata": {},
     "output_type": "execute_result"
    }
   ],
   "execution_count": 223
  },
  {
   "cell_type": "markdown",
   "id": "c380164d6b4e5a67",
   "metadata": {},
   "source": [
    "### Search Columns\n",
    "This method allow you can use to search columns in a Dataset object by role and types."
   ]
  },
  {
   "cell_type": "code",
   "id": "243c84fd545c9117",
   "metadata": {
    "ExecuteTime": {
     "end_time": "2024-07-23T10:48:05.317393Z",
     "start_time": "2024-07-23T10:48:05.308744Z"
    }
   },
   "source": [
    "columns_found = ds.search_columns(TargetRole(), search_types=[int])\n",
    "columns_found"
   ],
   "outputs": [
    {
     "data": {
      "text/plain": [
       "['a']"
      ]
     },
     "execution_count": 224,
     "metadata": {},
     "output_type": "execute_result"
    }
   ],
   "execution_count": 224
  },
  {
   "cell_type": "code",
   "id": "994ca789a6524c3a",
   "metadata": {
    "ExecuteTime": {
     "end_time": "2024-07-23T10:48:05.578736Z",
     "start_time": "2024-07-23T10:48:05.569192Z"
    }
   },
   "source": [
    "ds[columns_found]"
   ],
   "outputs": [
    {
     "data": {
      "text/plain": [
       "   a\n",
       "0  1\n",
       "1  2\n",
       "2  3"
      ]
     },
     "execution_count": 225,
     "metadata": {},
     "output_type": "execute_result"
    }
   ],
   "execution_count": 225
  },
  {
   "cell_type": "markdown",
   "id": "51cd55cc07aa03a2",
   "metadata": {},
   "source": [
    "### Simple math methods"
   ]
  },
  {
   "cell_type": "code",
   "id": "8ddda807bea6a4d0",
   "metadata": {
    "ExecuteTime": {
     "end_time": "2024-07-23T10:48:05.660676Z",
     "start_time": "2024-07-23T10:48:05.648259Z"
    }
   },
   "source": [
    "ds.mean()"
   ],
   "outputs": [
    {
     "data": {
      "text/plain": [
       "        a    b\n",
       "mean  2.0  5.0"
      ]
     },
     "execution_count": 226,
     "metadata": {},
     "output_type": "execute_result"
    }
   ],
   "execution_count": 226
  },
  {
   "cell_type": "code",
   "id": "6c1f07840882c24",
   "metadata": {
    "ExecuteTime": {
     "end_time": "2024-07-23T10:48:05.729152Z",
     "start_time": "2024-07-23T10:48:05.718805Z"
    }
   },
   "source": [
    "ds.count()"
   ],
   "outputs": [
    {
     "data": {
      "text/plain": [
       "       a  b\n",
       "count  3  3"
      ]
     },
     "execution_count": 227,
     "metadata": {},
     "output_type": "execute_result"
    }
   ],
   "execution_count": 227
  },
  {
   "cell_type": "code",
   "id": "9546b82c94140a3b",
   "metadata": {
    "ExecuteTime": {
     "end_time": "2024-07-23T10:48:05.787772Z",
     "start_time": "2024-07-23T10:48:05.776289Z"
    }
   },
   "source": [
    "ds.log()"
   ],
   "outputs": [
    {
     "data": {
      "text/plain": [
       "          a         b\n",
       "0  0.000000  1.386294\n",
       "1  0.693147  1.609438\n",
       "2  1.098612  1.791759"
      ]
     },
     "execution_count": 228,
     "metadata": {},
     "output_type": "execute_result"
    }
   ],
   "execution_count": 228
  },
  {
   "cell_type": "code",
   "id": "d2a69656d09fda08",
   "metadata": {
    "ExecuteTime": {
     "end_time": "2024-07-23T10:48:05.841165Z",
     "start_time": "2024-07-23T10:48:05.830558Z"
    }
   },
   "source": [
    "ds.min()"
   ],
   "outputs": [
    {
     "data": {
      "text/plain": [
       "     a    b\n",
       "min  1  4.0"
      ]
     },
     "execution_count": 229,
     "metadata": {},
     "output_type": "execute_result"
    }
   ],
   "execution_count": 229
  },
  {
   "cell_type": "markdown",
   "id": "2e996a6fa66ee1a1",
   "metadata": {},
   "source": [
    "### Get and item\n",
    "Getting items and navigation work in a very similar way to Pandas. With the difference that the Dataset objects are always returned."
   ]
  },
  {
   "cell_type": "code",
   "id": "e156b5587bc08370",
   "metadata": {
    "ExecuteTime": {
     "end_time": "2024-07-23T10:48:05.890076Z",
     "start_time": "2024-07-23T10:48:05.881065Z"
    }
   },
   "source": [
    "ds[1]"
   ],
   "outputs": [
    {
     "data": {
      "text/plain": [
       "     1\n",
       "a  2.0\n",
       "b  5.0"
      ]
     },
     "execution_count": 230,
     "metadata": {},
     "output_type": "execute_result"
    }
   ],
   "execution_count": 230
  },
  {
   "cell_type": "code",
   "id": "8973eeface0fac20",
   "metadata": {
    "ExecuteTime": {
     "end_time": "2024-07-23T10:48:05.993758Z",
     "start_time": "2024-07-23T10:48:05.980387Z"
    }
   },
   "source": [
    "ds['a'][1]"
   ],
   "outputs": [
    {
     "data": {
      "text/plain": [
       "   1\n",
       "a  2"
      ]
     },
     "execution_count": 231,
     "metadata": {},
     "output_type": "execute_result"
    }
   ],
   "execution_count": 231
  },
  {
   "cell_type": "code",
   "id": "a7227bd576d1cc6d",
   "metadata": {
    "ExecuteTime": {
     "end_time": "2024-07-23T10:48:06.085969Z",
     "start_time": "2024-07-23T10:48:06.062362Z"
    }
   },
   "source": [
    "ds[ds[['a', 'b']] == 4]"
   ],
   "outputs": [
    {
     "data": {
      "text/plain": [
       "    a    b\n",
       "0 NaN  4.0\n",
       "1 NaN  NaN\n",
       "2 NaN  NaN"
      ]
     },
     "execution_count": 232,
     "metadata": {},
     "output_type": "execute_result"
    }
   ],
   "execution_count": 232
  },
  {
   "cell_type": "markdown",
   "id": "f99a9978",
   "metadata": {},
   "source": [
    "There is also a practical possibility to set data in this way, but it is limited and this is the wrong way. The main problem is that the markup of the new data is not defined, as indicated by the corresponding warning."
   ]
  },
  {
   "cell_type": "code",
   "id": "a9cc2e4c",
   "metadata": {
    "ExecuteTime": {
     "end_time": "2024-07-23T10:48:06.201314Z",
     "start_time": "2024-07-23T10:48:06.194923Z"
    }
   },
   "source": [
    "ds['c'] = [-3, -7, -9]"
   ],
   "outputs": [
    {
     "name": "stderr",
     "output_type": "stream",
     "text": [
      "/home/tony_katkov/job/HypEx/hypex/dataset/dataset.py:104: SyntaxWarning: Column must be added by add_column\n",
      "  warnings.warn(\"Column must be added by add_column\", category=SyntaxWarning)\n"
     ]
    }
   ],
   "execution_count": 233
  },
  {
   "cell_type": "markdown",
   "id": "49f7630956d01734",
   "metadata": {},
   "source": [
    "### Add column\n",
    "It is right way to add a column to the dataset."
   ]
  },
  {
   "cell_type": "code",
   "id": "9904c0182a9497ca",
   "metadata": {
    "ExecuteTime": {
     "end_time": "2024-07-23T10:48:06.238334Z",
     "start_time": "2024-07-23T10:48:06.228854Z"
    }
   },
   "source": [
    "ds.add_column([7, 8, 9], {'c': TargetRole(int)})\n",
    "ds"
   ],
   "outputs": [
    {
     "data": {
      "text/plain": [
       "   a    b  c\n",
       "0  1  4.0  7\n",
       "1  2  5.0  8\n",
       "2  3  6.0  9"
      ]
     },
     "execution_count": 234,
     "metadata": {},
     "output_type": "execute_result"
    }
   ],
   "execution_count": 234
  },
  {
   "cell_type": "markdown",
   "id": "d64ef20b59548deb",
   "metadata": {},
   "source": [
    "### Apply\n",
    "\n",
    "The Dataset apply function works similarly to the apply function in the pandas library, but it requires additional information about the roles in the Dataset created in this way."
   ]
  },
  {
   "cell_type": "code",
   "id": "fb1f19b7d8748ede",
   "metadata": {
    "ExecuteTime": {
     "end_time": "2024-07-23T10:48:06.311065Z",
     "start_time": "2024-07-23T10:48:06.298096Z"
    }
   },
   "source": [
    "ds.apply(lambda x: x ** 2 , role={'a': TargetRole(int), 'b': TargetRole(float), 'c': TargetRole(float)})"
   ],
   "outputs": [
    {
     "data": {
      "text/plain": [
       "   a     b     c\n",
       "0  1  16.0  49.0\n",
       "1  4  25.0  64.0\n",
       "2  9  36.0  81.0"
      ]
     },
     "execution_count": 235,
     "metadata": {},
     "output_type": "execute_result"
    }
   ],
   "execution_count": 235
  },
  {
   "cell_type": "markdown",
   "id": "e9587d50f5f8e9a6",
   "metadata": {},
   "source": [
    "### Group by\n",
    "\n",
    "Groupby method works in 2 modes:\n",
    "\n",
    "- The first mode is to group by a fields and to get the agg function of the inner Dataset.\n",
    "- The second mode is to group by a fields and returns `Tuple[group_key, sub_dataset]`"
   ]
  },
  {
   "cell_type": "code",
   "id": "298d0e9eb0e93232",
   "metadata": {
    "ExecuteTime": {
     "end_time": "2024-07-23T10:48:06.401170Z",
     "start_time": "2024-07-23T10:48:06.359863Z"
    }
   },
   "source": [
    "groups_func = ds.groupby('a', func='mean')\n",
    "groups_func"
   ],
   "outputs": [
    {
     "data": {
      "text/plain": [
       "[(1,\n",
       "          a    b    c\n",
       "  mean  1.0  4.0  7.0),\n",
       " (2,\n",
       "          a    b    c\n",
       "  mean  2.0  5.0  8.0),\n",
       " (3,\n",
       "          a    b    c\n",
       "  mean  3.0  6.0  9.0)]"
      ]
     },
     "execution_count": 236,
     "metadata": {},
     "output_type": "execute_result"
    }
   ],
   "execution_count": 236
  },
  {
   "cell_type": "code",
   "id": "3692a9da2cca79fa",
   "metadata": {
    "ExecuteTime": {
     "end_time": "2024-07-23T10:48:06.512619Z",
     "start_time": "2024-07-23T10:48:06.477730Z"
    }
   },
   "source": [
    "groups = ds.groupby('a')\n",
    "groups"
   ],
   "outputs": [
    {
     "data": {
      "text/plain": [
       "[(1,\n",
       "     a    b  c\n",
       "  0  1  4.0  7),\n",
       " (2,\n",
       "     a    b  c\n",
       "  1  2  5.0  8),\n",
       " (3,\n",
       "     a    b  c\n",
       "  2  3  6.0  9)]"
      ]
     },
     "execution_count": 237,
     "metadata": {},
     "output_type": "execute_result"
    }
   ],
   "execution_count": 237
  },
  {
   "cell_type": "code",
   "id": "676c931b395d054c",
   "metadata": {
    "ExecuteTime": {
     "end_time": "2024-07-23T10:48:06.550868Z",
     "start_time": "2024-07-23T10:48:06.546301Z"
    }
   },
   "source": [
    "# groups_func_fields = ds.groupby('a', func=['mean', 'var'], fields_list='e')\n",
    "# groups_func_fields"
   ],
   "outputs": [],
   "execution_count": 238
  },
  {
   "cell_type": "markdown",
   "id": "afa4aae9e20280d7",
   "metadata": {},
   "source": [
    "### Transpose\n",
    "Specificity of the transpose function is rteset roles in new Dataset, so function have argument `roles`. Default is `roles=None`. In this case, the all roles are FeatureRole."
   ]
  },
  {
   "cell_type": "code",
   "id": "566e45ce7bb4be98",
   "metadata": {
    "ExecuteTime": {
     "end_time": "2024-07-23T10:48:06.667247Z",
     "start_time": "2024-07-23T10:48:06.650793Z"
    }
   },
   "source": [
    "ds.transpose({'one': FeatureRole(), '2': InfoRole(), 'III': InfoRole()})"
   ],
   "outputs": [
    {
     "data": {
      "text/plain": [
       "   one    2  III\n",
       "a  1.0  2.0  3.0\n",
       "b  4.0  5.0  6.0\n",
       "c  7.0  8.0  9.0"
      ]
     },
     "execution_count": 239,
     "metadata": {},
     "output_type": "execute_result"
    }
   ],
   "execution_count": 239
  },
  {
   "cell_type": "code",
   "id": "52271a04f3e51084",
   "metadata": {
    "ExecuteTime": {
     "end_time": "2024-07-23T10:48:06.744002Z",
     "start_time": "2024-07-23T10:48:06.726880Z"
    }
   },
   "source": [
    "ds.transpose()"
   ],
   "outputs": [
    {
     "data": {
      "text/plain": [
       "     0    1    2\n",
       "a  1.0  2.0  3.0\n",
       "b  4.0  5.0  6.0\n",
       "c  7.0  8.0  9.0"
      ]
     },
     "execution_count": 240,
     "metadata": {},
     "output_type": "execute_result"
    }
   ],
   "execution_count": 240
  },
  {
   "cell_type": "code",
   "id": "4ec26e50e3ed905f",
   "metadata": {
    "ExecuteTime": {
     "end_time": "2024-07-23T10:48:06.783816Z",
     "start_time": "2024-07-23T10:48:06.772547Z"
    }
   },
   "source": [
    "ds.transpose().roles"
   ],
   "outputs": [
    {
     "data": {
      "text/plain": [
       "{0: Feature(<class 'float'>),\n",
       " 1: Feature(<class 'float'>),\n",
       " 2: Feature(<class 'float'>)}"
      ]
     },
     "execution_count": 241,
     "metadata": {},
     "output_type": "execute_result"
    }
   ],
   "execution_count": 241
  },
  {
   "cell_type": "code",
   "id": "2278eb13",
   "metadata": {
    "ExecuteTime": {
     "end_time": "2024-07-23T10:48:06.836160Z",
     "start_time": "2024-07-23T10:48:06.822273Z"
    }
   },
   "source": [
    "ds.transpose(['one', '2', 'III'])"
   ],
   "outputs": [
    {
     "data": {
      "text/plain": [
       "   one    2  III\n",
       "a  1.0  2.0  3.0\n",
       "b  4.0  5.0  6.0\n",
       "c  7.0  8.0  9.0"
      ]
     },
     "execution_count": 242,
     "metadata": {},
     "output_type": "execute_result"
    }
   ],
   "execution_count": 242
  },
  {
   "cell_type": "markdown",
   "id": "ea33279e47df315f",
   "metadata": {},
   "source": [
    "### Shuffle\n",
    "Shuffles the dataset rows of the dataset."
   ]
  },
  {
   "cell_type": "code",
   "id": "49df742a55637972",
   "metadata": {
    "ExecuteTime": {
     "end_time": "2024-07-23T10:48:06.928550Z",
     "start_time": "2024-07-23T10:48:06.917Z"
    }
   },
   "source": [
    "ds.shuffle()"
   ],
   "outputs": [
    {
     "data": {
      "text/plain": [
       "   a    b  c\n",
       "2  3  6.0  9\n",
       "1  2  5.0  8\n",
       "0  1  4.0  7"
      ]
     },
     "execution_count": 243,
     "metadata": {},
     "output_type": "execute_result"
    }
   ],
   "execution_count": 243
  },
  {
   "cell_type": "code",
   "id": "25dab75ddaebc1d4",
   "metadata": {
    "ExecuteTime": {
     "end_time": "2024-07-23T10:48:07.028971Z",
     "start_time": "2024-07-23T10:48:07.018505Z"
    }
   },
   "source": [
    "ds.shuffle()"
   ],
   "outputs": [
    {
     "data": {
      "text/plain": [
       "   a    b  c\n",
       "0  1  4.0  7\n",
       "2  3  6.0  9\n",
       "1  2  5.0  8"
      ]
     },
     "execution_count": 244,
     "metadata": {},
     "output_type": "execute_result"
    }
   ],
   "execution_count": 244
  },
  {
   "cell_type": "code",
   "id": "d519d58268db5ac1",
   "metadata": {
    "ExecuteTime": {
     "end_time": "2024-07-23T10:48:07.090688Z",
     "start_time": "2024-07-23T10:48:07.076853Z"
    }
   },
   "source": [
    "ds.shuffle(random_state=42)"
   ],
   "outputs": [
    {
     "data": {
      "text/plain": [
       "   a    b  c\n",
       "0  1  4.0  7\n",
       "1  2  5.0  8\n",
       "2  3  6.0  9"
      ]
     },
     "execution_count": 245,
     "metadata": {},
     "output_type": "execute_result"
    }
   ],
   "execution_count": 245
  },
  {
   "cell_type": "markdown",
   "id": "49c3228070c35a20",
   "metadata": {},
   "source": [
    "### Replace\n",
    "As Pandas, but types are required atention."
   ]
  },
  {
   "cell_type": "code",
   "id": "7fe184cb9855a4fe",
   "metadata": {
    "ExecuteTime": {
     "end_time": "2024-07-23T10:48:07.185833Z",
     "start_time": "2024-07-23T10:48:07.166418Z"
    }
   },
   "source": [
    "dsr = copy.deepcopy(ds)\n",
    "dsr.replace(2, 15)"
   ],
   "outputs": [
    {
     "data": {
      "text/plain": [
       "    a    b  c\n",
       "0   1  4.0  7\n",
       "1  15  5.0  8\n",
       "2   3  6.0  9"
      ]
     },
     "execution_count": 246,
     "metadata": {},
     "output_type": "execute_result"
    }
   ],
   "execution_count": 246
  },
  {
   "cell_type": "code",
   "id": "3587ea17",
   "metadata": {
    "ExecuteTime": {
     "end_time": "2024-07-23T10:48:07.214169Z",
     "start_time": "2024-07-23T10:48:07.199270Z"
    }
   },
   "source": [
    "# dsr.replace(1, \"a\") raise ValueError\n",
    "dsr.roles['a'] = TargetRole(str)\n",
    "dsr.replace(1, \"a\")"
   ],
   "outputs": [
    {
     "data": {
      "text/plain": [
       "   a    b  c\n",
       "0  a  4.0  7\n",
       "1  2  5.0  8\n",
       "2  3  6.0  9"
      ]
     },
     "execution_count": 247,
     "metadata": {},
     "output_type": "execute_result"
    }
   ],
   "execution_count": 247
  },
  {
   "cell_type": "markdown",
   "id": "a9ab1d759040d4c2",
   "metadata": {},
   "source": [
    "### Append\n",
    "Append method adds a new row to the end of the dataset."
   ]
  },
  {
   "cell_type": "code",
   "id": "db7750a4a24492ef",
   "metadata": {
    "collapsed": false,
    "ExecuteTime": {
     "end_time": "2024-07-23T10:48:07.313049Z",
     "start_time": "2024-07-23T10:48:07.293801Z"
    }
   },
   "source": [
    "ds.append(ds)"
   ],
   "outputs": [
    {
     "data": {
      "text/plain": [
       "   a    b  c\n",
       "0  1  4.0  7\n",
       "1  2  5.0  8\n",
       "2  3  6.0  9\n",
       "0  1  4.0  7\n",
       "1  2  5.0  8\n",
       "2  3  6.0  9"
      ]
     },
     "execution_count": 248,
     "metadata": {},
     "output_type": "execute_result"
    }
   ],
   "execution_count": 248
  },
  {
   "cell_type": "code",
   "id": "5457c610",
   "metadata": {
    "ExecuteTime": {
     "end_time": "2024-07-23T10:48:07.369058Z",
     "start_time": "2024-07-23T10:48:07.347657Z"
    }
   },
   "source": [
    "ds.shuffle().append(other=ds, index=True)"
   ],
   "outputs": [
    {
     "data": {
      "text/plain": [
       "   a    b  c\n",
       "0  1  4.0  7\n",
       "1  2  5.0  8\n",
       "2  3  6.0  9\n",
       "3  1  4.0  7\n",
       "4  2  5.0  8\n",
       "5  3  6.0  9"
      ]
     },
     "execution_count": 249,
     "metadata": {},
     "output_type": "execute_result"
    }
   ],
   "execution_count": 249
  },
  {
   "cell_type": "code",
   "id": "6ad2decf",
   "metadata": {
    "ExecuteTime": {
     "end_time": "2024-07-23T10:48:07.505710Z",
     "start_time": "2024-07-23T10:48:07.480540Z"
    }
   },
   "source": [
    "ds.shuffle().append(other=[ds]*2, index=True)"
   ],
   "outputs": [
    {
     "data": {
      "text/plain": [
       "   a    b  c\n",
       "0  2  5.0  8\n",
       "1  3  6.0  9\n",
       "2  1  4.0  7\n",
       "3  1  4.0  7\n",
       "4  2  5.0  8\n",
       "5  3  6.0  9\n",
       "6  1  4.0  7\n",
       "7  2  5.0  8\n",
       "8  3  6.0  9"
      ]
     },
     "execution_count": 250,
     "metadata": {},
     "output_type": "execute_result"
    }
   ],
   "execution_count": 250
  },
  {
   "cell_type": "markdown",
   "id": "6228fd7283c1c424",
   "metadata": {
    "collapsed": false
   },
   "source": [
    "# Eperiment Data\n",
    "\n",
    "ExperimentData is structure that contains: \n",
    "* `ds` - researched dataset\n",
    "* `additional_fields` - additional fields that may be added to the dataset by merge on index: column - is state id of executor\n",
    "* `variables` - it is results of executors that will be returned by once value: key - is state id of executor\n",
    "* `analysis_tables` - dictionary of tables from executors: key - is state id of executor, value - is table from executor\n",
    "* `groups` - cache of splitted data for optimisation of calculation"
   ]
  },
  {
   "cell_type": "code",
   "id": "dc8b08a641e66fbe",
   "metadata": {
    "collapsed": false,
    "ExecuteTime": {
     "end_time": "2024-07-23T10:48:07.612724Z",
     "start_time": "2024-07-23T10:48:07.607596Z"
    }
   },
   "source": [
    "ed = ExperimentData(ds)"
   ],
   "outputs": [],
   "execution_count": 251
  },
  {
   "cell_type": "code",
   "id": "fa3fdeed",
   "metadata": {
    "ExecuteTime": {
     "end_time": "2024-07-23T10:48:07.700932Z",
     "start_time": "2024-07-23T10:48:07.692679Z"
    }
   },
   "source": [
    "ed.ds"
   ],
   "outputs": [
    {
     "data": {
      "text/plain": [
       "   a    b  c\n",
       "0  1  4.0  7\n",
       "1  2  5.0  8\n",
       "2  3  6.0  9"
      ]
     },
     "execution_count": 252,
     "metadata": {},
     "output_type": "execute_result"
    }
   ],
   "execution_count": 252
  },
  {
   "cell_type": "code",
   "id": "0643ec77",
   "metadata": {
    "ExecuteTime": {
     "end_time": "2024-07-23T10:48:07.787048Z",
     "start_time": "2024-07-23T10:48:07.778336Z"
    }
   },
   "source": [
    "ed.additional_fields"
   ],
   "outputs": [
    {
     "data": {
      "text/plain": [
       "Empty DataFrame\n",
       "Columns: []\n",
       "Index: [0, 1, 2]"
      ]
     },
     "execution_count": 253,
     "metadata": {},
     "output_type": "execute_result"
    }
   ],
   "execution_count": 253
  },
  {
   "cell_type": "code",
   "id": "017a0abe",
   "metadata": {
    "ExecuteTime": {
     "end_time": "2024-07-23T10:48:07.834969Z",
     "start_time": "2024-07-23T10:48:07.828917Z"
    }
   },
   "source": [
    "ed.variables"
   ],
   "outputs": [
    {
     "data": {
      "text/plain": [
       "{}"
      ]
     },
     "execution_count": 254,
     "metadata": {},
     "output_type": "execute_result"
    }
   ],
   "execution_count": 254
  },
  {
   "cell_type": "code",
   "id": "6a76f93b",
   "metadata": {
    "ExecuteTime": {
     "end_time": "2024-07-23T10:48:07.870751Z",
     "start_time": "2024-07-23T10:48:07.864244Z"
    }
   },
   "source": [
    "ed.analysis_tables"
   ],
   "outputs": [
    {
     "data": {
      "text/plain": [
       "{}"
      ]
     },
     "execution_count": 255,
     "metadata": {},
     "output_type": "execute_result"
    }
   ],
   "execution_count": 255
  },
  {
   "cell_type": "code",
   "id": "56d5362c",
   "metadata": {
    "ExecuteTime": {
     "end_time": "2024-07-23T10:48:07.890719Z",
     "start_time": "2024-07-23T10:48:07.885258Z"
    }
   },
   "source": [
    "ed.groups"
   ],
   "outputs": [
    {
     "data": {
      "text/plain": [
       "{}"
      ]
     },
     "execution_count": 256,
     "metadata": {},
     "output_type": "execute_result"
    }
   ],
   "execution_count": 256
  }
 ],
 "metadata": {
  "hide_input": false,
  "kernelspec": {
   "display_name": "Python 3 (ipykernel)",
   "language": "python",
   "name": "python3"
  },
  "language_info": {
   "codemirror_mode": {
    "name": "ipython",
    "version": 3
   },
   "file_extension": ".py",
   "mimetype": "text/x-python",
   "name": "python",
   "nbconvert_exporter": "python",
   "pygments_lexer": "ipython3",
   "version": "3.8.10"
  },
  "nbTranslate": {
   "displayLangs": [
    "*"
   ],
   "hotkey": "alt-t",
   "langInMainMenu": true,
   "sourceLang": "en",
   "targetLang": "fr",
   "useGoogleTranslate": true
  },
  "toc": {
   "base_numbering": 1,
   "nav_menu": {},
   "number_sections": true,
   "sideBar": true,
   "skip_h1_title": false,
   "title_cell": "Table of Contents",
   "title_sidebar": "Contents",
   "toc_cell": false,
   "toc_position": {},
   "toc_section_display": true,
   "toc_window_display": false
  },
  "varInspector": {
   "cols": {
    "lenName": 16,
    "lenType": 16,
    "lenVar": 40
   },
   "kernels_config": {
    "python": {
     "delete_cmd_postfix": "",
     "delete_cmd_prefix": "del ",
     "library": "var_list.py",
     "varRefreshCmd": "print(var_dic_list())"
    },
    "r": {
     "delete_cmd_postfix": ") ",
     "delete_cmd_prefix": "rm(",
     "library": "var_list.r",
     "varRefreshCmd": "cat(var_dic_list()) "
    }
   },
   "types_to_exclude": [
    "module",
    "function",
    "builtin_function_or_method",
    "instance",
    "_Feature"
   ],
   "window_display": false
  }
 },
 "nbformat": 4,
 "nbformat_minor": 5
}

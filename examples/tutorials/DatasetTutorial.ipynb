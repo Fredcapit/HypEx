{
 "cells": [
  {
   "cell_type": "code",
   "execution_count": 1,
   "id": "initial_id",
   "metadata": {
    "collapsed": true,
    "ExecuteTime": {
     "end_time": "2024-07-19T14:00:55.597478700Z",
     "start_time": "2024-07-19T14:00:54.431160100Z"
    }
   },
   "outputs": [],
   "source": [
    "import copy\n",
    "\n",
    "import pandas as pd\n",
    "\n",
    "from hypex.dataset.dataset import Dataset, ExperimentData\n",
    "from hypex.dataset.roles import TargetRole, InfoRole, FeatureRole"
   ]
  },
  {
   "cell_type": "markdown",
   "id": "17fbe750",
   "metadata": {},
   "source": [
    "# Dataset and ExperimentData tutorial\n",
    "\n",
    "In this tutorial, we will look on Dataset and ExperimentData classes. This is key classes for working with data in Hypex."
   ]
  },
  {
   "cell_type": "markdown",
   "id": "1fab4946fe7c773d",
   "metadata": {},
   "source": [
    "### Create Dataset\n",
    "Initializes a new instance of the Dataset class.\n",
    "\n",
    "Args:\n",
    "* __roles__: A dictionary mapping roles to their corresponding column names and types. Roles are used to mark up data by their intended purpose. There are different types of roles that have different meanings in different contexts.\n",
    "* __data__: The data to be used for the dataset. Can be either a pandas DataFrame or a file path. Defaults to None.\n",
    "* __backend__: The backend to be used for the dataset. Defaults to None, but None is a `pandas`.\n"
   ]
  },
  {
   "cell_type": "code",
   "execution_count": 2,
   "id": "9a7283d7",
   "metadata": {
    "ExecuteTime": {
     "end_time": "2024-07-19T14:00:55.802948Z",
     "start_time": "2024-07-19T14:00:55.446815500Z"
    }
   },
   "outputs": [
    {
     "data": {
      "text/plain": "Empty DataFrame\nColumns: []\nIndex: []"
     },
     "execution_count": 2,
     "metadata": {},
     "output_type": "execute_result"
    }
   ],
   "source": [
    "ds = Dataset({'a': TargetRole(), 'b': TargetRole(float)})\n",
    "ds"
   ]
  },
  {
   "cell_type": "code",
   "execution_count": 3,
   "id": "d62d93cc5561f412",
   "metadata": {
    "collapsed": false,
    "ExecuteTime": {
     "end_time": "2024-07-19T14:00:55.839453200Z",
     "start_time": "2024-07-19T14:00:55.469950600Z"
    }
   },
   "outputs": [
    {
     "data": {
      "text/plain": "   a    b\n0  1  4.0\n1  2  5.0\n2  3  6.0"
     },
     "execution_count": 3,
     "metadata": {},
     "output_type": "execute_result"
    }
   ],
   "source": [
    "df = pd.DataFrame({'a': [1, 2, 3], 'b': [4, 5, 6]})\n",
    "\n",
    "ds = Dataset({'a': TargetRole(), 'b': TargetRole(float)}, data=df)\n",
    "ds"
   ]
  },
  {
   "cell_type": "code",
   "execution_count": 4,
   "id": "6546578e36d2522d",
   "metadata": {
    "collapsed": false,
    "ExecuteTime": {
     "end_time": "2024-07-19T14:00:55.843307Z",
     "start_time": "2024-07-19T14:00:55.505496100Z"
    }
   },
   "outputs": [
    {
     "data": {
      "text/plain": "{'a': Target(<class 'int'>), 'b': Target(<class 'float'>)}"
     },
     "execution_count": 4,
     "metadata": {},
     "output_type": "execute_result"
    }
   ],
   "source": [
    "ds.roles"
   ]
  },
  {
   "cell_type": "markdown",
   "id": "90940f464fc1cfc4",
   "metadata": {},
   "source": [
    "#### Create empty\n",
    "Create an empty Dataset with same arguments as the Dataset constructor, but without any data. Additional you can pass index for creating empty Dataset with defined index and size."
   ]
  },
  {
   "cell_type": "code",
   "execution_count": 5,
   "id": "2cb4974f8918f263",
   "metadata": {
    "collapsed": false,
    "ExecuteTime": {
     "end_time": "2024-07-19T14:00:55.867910400Z",
     "start_time": "2024-07-19T14:00:55.523120900Z"
    }
   },
   "outputs": [
    {
     "data": {
      "text/plain": "Empty DataFrame\nColumns: []\nIndex: []"
     },
     "execution_count": 5,
     "metadata": {},
     "output_type": "execute_result"
    }
   ],
   "source": [
    "ds_empty = Dataset.create_empty()\n",
    "ds_empty"
   ]
  },
  {
   "cell_type": "code",
   "execution_count": 6,
   "id": "8e502633",
   "metadata": {
    "ExecuteTime": {
     "end_time": "2024-07-19T14:00:55.891362200Z",
     "start_time": "2024-07-19T14:00:55.552309200Z"
    }
   },
   "outputs": [
    {
     "data": {
      "text/plain": "     a    b\n0  NaN  NaN\n1  NaN  NaN\n2  NaN  NaN\n3  NaN  NaN\n4  NaN  NaN\n5  NaN  NaN\n6  NaN  NaN"
     },
     "execution_count": 6,
     "metadata": {},
     "output_type": "execute_result"
    }
   ],
   "source": [
    "ds_empty = Dataset.create_empty(roles={'a': TargetRole(), 'b': TargetRole(float)}, index=range(7))\n",
    "ds_empty"
   ]
  },
  {
   "cell_type": "markdown",
   "id": "f84cc3be41f971cc",
   "metadata": {},
   "source": [
    "### Backend\n",
    "Backend in HypEx is a class that adapts the data storage, navigation, transformation and calculation for the Dataset from original framework. You can access it via `Dataset.backend` property."
   ]
  },
  {
   "cell_type": "code",
   "execution_count": 7,
   "id": "c1e520dd",
   "metadata": {
    "ExecuteTime": {
     "end_time": "2024-07-19T14:00:55.910348900Z",
     "start_time": "2024-07-19T14:00:55.585603900Z"
    }
   },
   "outputs": [
    {
     "data": {
      "text/plain": "hypex.dataset.backends.pandas_backend.PandasDataset"
     },
     "execution_count": 7,
     "metadata": {},
     "output_type": "execute_result"
    }
   ],
   "source": [
    "type(ds.backend)"
   ]
  },
  {
   "cell_type": "code",
   "execution_count": 8,
   "id": "fdcedbbf",
   "metadata": {
    "ExecuteTime": {
     "end_time": "2024-07-19T14:00:55.931499100Z",
     "start_time": "2024-07-19T14:00:55.615452600Z"
    }
   },
   "outputs": [
    {
     "data": {
      "text/plain": "   a    b\n0  1  4.0\n1  2  5.0\n2  3  6.0"
     },
     "execution_count": 8,
     "metadata": {},
     "output_type": "execute_result"
    }
   ],
   "source": [
    "ds.backend"
   ]
  },
  {
   "cell_type": "markdown",
   "id": "7902bbc1",
   "metadata": {},
   "source": [
    "For accessing the data of the backend object, you can use `Dataset.data` property."
   ]
  },
  {
   "cell_type": "code",
   "execution_count": 9,
   "id": "fafc1d29ad660762",
   "metadata": {
    "ExecuteTime": {
     "end_time": "2024-07-19T14:00:55.965047800Z",
     "start_time": "2024-07-19T14:00:55.653420200Z"
    }
   },
   "outputs": [
    {
     "data": {
      "text/plain": "pandas.core.frame.DataFrame"
     },
     "execution_count": 9,
     "metadata": {},
     "output_type": "execute_result"
    }
   ],
   "source": [
    "type(ds.data)"
   ]
  },
  {
   "cell_type": "code",
   "execution_count": 10,
   "id": "b04a8f4b",
   "metadata": {
    "ExecuteTime": {
     "end_time": "2024-07-19T14:00:56.214614300Z",
     "start_time": "2024-07-19T14:00:55.694467800Z"
    }
   },
   "outputs": [
    {
     "data": {
      "text/plain": "   a    b\n0  1  4.0\n1  2  5.0\n2  3  6.0",
      "text/html": "<div>\n<style scoped>\n    .dataframe tbody tr th:only-of-type {\n        vertical-align: middle;\n    }\n\n    .dataframe tbody tr th {\n        vertical-align: top;\n    }\n\n    .dataframe thead th {\n        text-align: right;\n    }\n</style>\n<table border=\"1\" class=\"dataframe\">\n  <thead>\n    <tr style=\"text-align: right;\">\n      <th></th>\n      <th>a</th>\n      <th>b</th>\n    </tr>\n  </thead>\n  <tbody>\n    <tr>\n      <th>0</th>\n      <td>1</td>\n      <td>4.0</td>\n    </tr>\n    <tr>\n      <th>1</th>\n      <td>2</td>\n      <td>5.0</td>\n    </tr>\n    <tr>\n      <th>2</th>\n      <td>3</td>\n      <td>6.0</td>\n    </tr>\n  </tbody>\n</table>\n</div>"
     },
     "execution_count": 10,
     "metadata": {},
     "output_type": "execute_result"
    }
   ],
   "source": [
    "ds.data"
   ]
  },
  {
   "cell_type": "markdown",
   "id": "dd883379f7d23af4",
   "metadata": {},
   "source": [
    "## Dataset Methods\n",
    "\n",
    "In the current version of HypEx, when implementing functions, we orienton Pandas, so most functions work the same way. Here we will focus on those features that are significantly different from Pandas."
   ]
  },
  {
   "cell_type": "markdown",
   "id": "8e5498236fa4d635",
   "metadata": {},
   "source": [
    "### From dict\n",
    "It staticmethod allow you can use to create a Dataset object from a dict. This method work with two types of dicts.\n"
   ]
  },
  {
   "cell_type": "markdown",
   "id": "495cf961",
   "metadata": {},
   "source": [
    "First way:"
   ]
  },
  {
   "cell_type": "code",
   "execution_count": 11,
   "id": "6bd53eb114a3facf",
   "metadata": {
    "ExecuteTime": {
     "end_time": "2024-07-19T14:00:56.217967100Z",
     "start_time": "2024-07-19T14:00:55.740387600Z"
    }
   },
   "outputs": [
    {
     "data": {
      "text/plain": "   a  b\n0  1  3\n1  2  4"
     },
     "execution_count": 11,
     "metadata": {},
     "output_type": "execute_result"
    }
   ],
   "source": [
    "ds_from_dict = Dataset.from_dict({'a': [1, 2], 'b': [3, 4]}, {'a': TargetRole(), 'b': InfoRole()})\n",
    "ds_from_dict"
   ]
  },
  {
   "cell_type": "markdown",
   "id": "157c8c55",
   "metadata": {},
   "source": [
    "Second way:"
   ]
  },
  {
   "cell_type": "code",
   "execution_count": 12,
   "id": "1c14ccf4",
   "metadata": {
    "ExecuteTime": {
     "end_time": "2024-07-19T14:00:56.276528800Z",
     "start_time": "2024-07-19T14:00:55.770409700Z"
    }
   },
   "outputs": [
    {
     "data": {
      "text/plain": "   a  b\n0  1  3\n1  2  4"
     },
     "execution_count": 12,
     "metadata": {},
     "output_type": "execute_result"
    }
   ],
   "source": [
    "ds_from_dict = Dataset.from_dict([{'a': 1, 'b': 3}, {'a': 2, 'b': 4}], {'a': TargetRole(), 'b': InfoRole()})\n",
    "ds_from_dict"
   ]
  },
  {
   "cell_type": "markdown",
   "id": "c380164d6b4e5a67",
   "metadata": {},
   "source": [
    "### Search Columns\n",
    "This method allow you can use to search columns in a Dataset object by role and types."
   ]
  },
  {
   "cell_type": "code",
   "execution_count": 13,
   "id": "243c84fd545c9117",
   "metadata": {
    "ExecuteTime": {
     "end_time": "2024-07-19T14:00:56.322288600Z",
     "start_time": "2024-07-19T14:00:55.835450100Z"
    }
   },
   "outputs": [
    {
     "data": {
      "text/plain": "['a']"
     },
     "execution_count": 13,
     "metadata": {},
     "output_type": "execute_result"
    }
   ],
   "source": [
    "columns_found = ds.search_columns(TargetRole(), search_types=[int])\n",
    "columns_found"
   ]
  },
  {
   "cell_type": "code",
   "execution_count": 14,
   "id": "994ca789a6524c3a",
   "metadata": {
    "ExecuteTime": {
     "end_time": "2024-07-19T14:00:56.344180800Z",
     "start_time": "2024-07-19T14:00:55.883922400Z"
    }
   },
   "outputs": [
    {
     "data": {
      "text/plain": "   a\n0  1\n1  2\n2  3"
     },
     "execution_count": 14,
     "metadata": {},
     "output_type": "execute_result"
    }
   ],
   "source": [
    "ds[columns_found]"
   ]
  },
  {
   "cell_type": "markdown",
   "id": "51cd55cc07aa03a2",
   "metadata": {},
   "source": [
    "### Simple math methods"
   ]
  },
  {
   "cell_type": "code",
   "execution_count": 15,
   "id": "8ddda807bea6a4d0",
   "metadata": {
    "ExecuteTime": {
     "end_time": "2024-07-19T14:00:56.367455700Z",
     "start_time": "2024-07-19T14:00:55.927150300Z"
    }
   },
   "outputs": [
    {
     "data": {
      "text/plain": "        a    b\nmean  2.0  5.0"
     },
     "execution_count": 15,
     "metadata": {},
     "output_type": "execute_result"
    }
   ],
   "source": [
    "ds.mean()"
   ]
  },
  {
   "cell_type": "code",
   "execution_count": 16,
   "id": "6c1f07840882c24",
   "metadata": {
    "ExecuteTime": {
     "end_time": "2024-07-19T14:00:56.393515700Z",
     "start_time": "2024-07-19T14:00:55.957069600Z"
    }
   },
   "outputs": [
    {
     "data": {
      "text/plain": "       a  b\ncount  3  3"
     },
     "execution_count": 16,
     "metadata": {},
     "output_type": "execute_result"
    }
   ],
   "source": [
    "ds.count()"
   ]
  },
  {
   "cell_type": "code",
   "execution_count": 17,
   "id": "9546b82c94140a3b",
   "metadata": {
    "ExecuteTime": {
     "end_time": "2024-07-19T14:00:56.694573800Z",
     "start_time": "2024-07-19T14:00:56.019276300Z"
    }
   },
   "outputs": [
    {
     "data": {
      "text/plain": "          a         b\n0  0.000000  1.386294\n1  0.693147  1.609438\n2  1.098612  1.791759"
     },
     "execution_count": 17,
     "metadata": {},
     "output_type": "execute_result"
    }
   ],
   "source": [
    "ds.log()"
   ]
  },
  {
   "cell_type": "code",
   "execution_count": 18,
   "id": "d2a69656d09fda08",
   "metadata": {
    "ExecuteTime": {
     "end_time": "2024-07-19T14:00:56.699874300Z",
     "start_time": "2024-07-19T14:00:56.051368900Z"
    }
   },
   "outputs": [
    {
     "data": {
      "text/plain": "     a    b\nmin  1  4.0"
     },
     "execution_count": 18,
     "metadata": {},
     "output_type": "execute_result"
    }
   ],
   "source": [
    "ds.min()"
   ]
  },
  {
   "cell_type": "markdown",
   "id": "2e996a6fa66ee1a1",
   "metadata": {},
   "source": [
    "### Get and item\n",
    "Getting items and navigation work in a very similar way to Pandas. With the difference that the Dataset objects are always returned."
   ]
  },
  {
   "cell_type": "code",
   "execution_count": 19,
   "id": "e156b5587bc08370",
   "metadata": {
    "ExecuteTime": {
     "end_time": "2024-07-19T14:00:56.740289600Z",
     "start_time": "2024-07-19T14:00:56.084961800Z"
    }
   },
   "outputs": [
    {
     "data": {
      "text/plain": "     1\na  2.0\nb  5.0"
     },
     "execution_count": 19,
     "metadata": {},
     "output_type": "execute_result"
    }
   ],
   "source": [
    "ds[1]"
   ]
  },
  {
   "cell_type": "code",
   "execution_count": 20,
   "id": "8973eeface0fac20",
   "metadata": {
    "ExecuteTime": {
     "end_time": "2024-07-19T14:00:56.786852200Z",
     "start_time": "2024-07-19T14:00:56.146092Z"
    }
   },
   "outputs": [
    {
     "data": {
      "text/plain": "   1\na  2"
     },
     "execution_count": 20,
     "metadata": {},
     "output_type": "execute_result"
    }
   ],
   "source": [
    "ds['a'][1]"
   ]
  },
  {
   "cell_type": "code",
   "execution_count": 21,
   "id": "a7227bd576d1cc6d",
   "metadata": {
    "ExecuteTime": {
     "end_time": "2024-07-19T14:00:56.790860300Z",
     "start_time": "2024-07-19T14:00:56.177237900Z"
    }
   },
   "outputs": [
    {
     "data": {
      "text/plain": "    a    b\n0 NaN  4.0\n1 NaN  NaN\n2 NaN  NaN"
     },
     "execution_count": 21,
     "metadata": {},
     "output_type": "execute_result"
    }
   ],
   "source": [
    "ds[ds[['a', 'b']] == 4]"
   ]
  },
  {
   "cell_type": "markdown",
   "id": "f99a9978",
   "metadata": {},
   "source": [
    "There is also a practical possibility to set data in this way, but it is limited and this is the wrong way. The main problem is that the markup of the new data is not defined, as indicated by the corresponding warning."
   ]
  },
  {
   "cell_type": "code",
   "execution_count": 22,
   "id": "a9cc2e4c",
   "metadata": {
    "ExecuteTime": {
     "end_time": "2024-07-19T14:00:56.852193400Z",
     "start_time": "2024-07-19T14:00:56.210405900Z"
    }
   },
   "outputs": [
    {
     "name": "stderr",
     "output_type": "stream",
     "text": [
      "C:\\Users\\User\\PycharmProjects\\HypEx\\hypex\\dataset\\dataset.py:104: SyntaxWarning: Column must be added by add_column\n",
      "  warnings.warn(\"Column must be added by add_column\", category=SyntaxWarning)\n"
     ]
    }
   ],
   "source": [
    "ds['c'] = [-3, -7, -9]"
   ]
  },
  {
   "cell_type": "markdown",
   "id": "49f7630956d01734",
   "metadata": {},
   "source": [
    "### Add column\n",
    "It is right way to add a column to the dataset."
   ]
  },
  {
   "cell_type": "code",
   "execution_count": 23,
   "id": "9904c0182a9497ca",
   "metadata": {
    "ExecuteTime": {
     "end_time": "2024-07-19T14:00:56.903336Z",
     "start_time": "2024-07-19T14:00:56.260959800Z"
    }
   },
   "outputs": [
    {
     "data": {
      "text/plain": "   a    b  c\n0  1  4.0  7\n1  2  5.0  8\n2  3  6.0  9"
     },
     "execution_count": 23,
     "metadata": {},
     "output_type": "execute_result"
    }
   ],
   "source": [
    "ds.add_column([7, 8, 9], {'c': TargetRole(int)})\n",
    "ds"
   ]
  },
  {
   "cell_type": "markdown",
   "id": "d64ef20b59548deb",
   "metadata": {},
   "source": [
    "### Apply\n",
    "\n",
    "The Dataset apply function works similarly to the apply function in the pandas library, but it requires additional information about the roles in the Dataset created in this way."
   ]
  },
  {
   "cell_type": "code",
   "execution_count": 24,
   "id": "fb1f19b7d8748ede",
   "metadata": {
    "ExecuteTime": {
     "end_time": "2024-07-19T14:00:56.946896300Z",
     "start_time": "2024-07-19T14:00:56.294295800Z"
    }
   },
   "outputs": [
    {
     "data": {
      "text/plain": "   a     b     c\n0  1  16.0  49.0\n1  4  25.0  64.0\n2  9  36.0  81.0"
     },
     "execution_count": 24,
     "metadata": {},
     "output_type": "execute_result"
    }
   ],
   "source": [
    "ds.apply(lambda x: x ** 2 , role={'a': TargetRole(int), 'b': TargetRole(float), 'c': TargetRole(float)})"
   ]
  },
  {
   "cell_type": "markdown",
   "id": "e9587d50f5f8e9a6",
   "metadata": {},
   "source": [
    "### Group by\n",
    "\n",
    "Groupby method works in 2 modes:\n",
    "\n",
    "- The first mode is to group by a fields and to get the agg function of the inner Dataset.\n",
    "- The second mode is to group by a fields and returns `Tuple[group_key, sub_dataset]`"
   ]
  },
  {
   "cell_type": "code",
   "execution_count": 25,
   "id": "298d0e9eb0e93232",
   "metadata": {
    "ExecuteTime": {
     "end_time": "2024-07-19T14:00:57.102279900Z",
     "start_time": "2024-07-19T14:00:56.339227Z"
    }
   },
   "outputs": [
    {
     "data": {
      "text/plain": "[(1,\n          a    b    c\n  mean  1.0  4.0  7.0),\n (2,\n          a    b    c\n  mean  2.0  5.0  8.0),\n (3,\n          a    b    c\n  mean  3.0  6.0  9.0)]"
     },
     "execution_count": 25,
     "metadata": {},
     "output_type": "execute_result"
    }
   ],
   "source": [
    "groups_func = ds.groupby('a', func='mean')\n",
    "groups_func"
   ]
  },
  {
   "cell_type": "code",
   "execution_count": 26,
   "id": "3692a9da2cca79fa",
   "metadata": {
    "ExecuteTime": {
     "end_time": "2024-07-19T14:00:57.442766100Z",
     "start_time": "2024-07-19T14:00:56.427426300Z"
    }
   },
   "outputs": [
    {
     "data": {
      "text/plain": "[(1,\n     a    b  c\n  0  1  4.0  7),\n (2,\n     a    b  c\n  1  2  5.0  8),\n (3,\n     a    b  c\n  2  3  6.0  9)]"
     },
     "execution_count": 26,
     "metadata": {},
     "output_type": "execute_result"
    }
   ],
   "source": [
    "groups = ds.groupby('a')\n",
    "groups"
   ]
  },
  {
   "cell_type": "code",
   "execution_count": 27,
   "id": "676c931b395d054c",
   "metadata": {
    "ExecuteTime": {
     "end_time": "2024-07-19T14:01:03.365218400Z",
     "start_time": "2024-07-19T14:00:56.471717Z"
    }
   },
   "outputs": [
    {
     "ename": "KeyError",
     "evalue": "'e'",
     "output_type": "error",
     "traceback": [
      "\u001B[1;31m---------------------------------------------------------------------------\u001B[0m",
      "\u001B[1;31mKeyError\u001B[0m                                  Traceback (most recent call last)",
      "File \u001B[1;32m~\\AppData\\Local\\Programs\\Python\\Python310\\lib\\site-packages\\pandas\\core\\indexes\\base.py:3790\u001B[0m, in \u001B[0;36mIndex.get_loc\u001B[1;34m(self, key)\u001B[0m\n\u001B[0;32m   3789\u001B[0m \u001B[38;5;28;01mtry\u001B[39;00m:\n\u001B[1;32m-> 3790\u001B[0m     \u001B[38;5;28;01mreturn\u001B[39;00m \u001B[38;5;28;43mself\u001B[39;49m\u001B[38;5;241;43m.\u001B[39;49m\u001B[43m_engine\u001B[49m\u001B[38;5;241;43m.\u001B[39;49m\u001B[43mget_loc\u001B[49m\u001B[43m(\u001B[49m\u001B[43mcasted_key\u001B[49m\u001B[43m)\u001B[49m\n\u001B[0;32m   3791\u001B[0m \u001B[38;5;28;01mexcept\u001B[39;00m \u001B[38;5;167;01mKeyError\u001B[39;00m \u001B[38;5;28;01mas\u001B[39;00m err:\n",
      "File \u001B[1;32mindex.pyx:152\u001B[0m, in \u001B[0;36mpandas._libs.index.IndexEngine.get_loc\u001B[1;34m()\u001B[0m\n",
      "File \u001B[1;32mindex.pyx:181\u001B[0m, in \u001B[0;36mpandas._libs.index.IndexEngine.get_loc\u001B[1;34m()\u001B[0m\n",
      "File \u001B[1;32mpandas\\_libs\\hashtable_class_helper.pxi:7080\u001B[0m, in \u001B[0;36mpandas._libs.hashtable.PyObjectHashTable.get_item\u001B[1;34m()\u001B[0m\n",
      "File \u001B[1;32mpandas\\_libs\\hashtable_class_helper.pxi:7088\u001B[0m, in \u001B[0;36mpandas._libs.hashtable.PyObjectHashTable.get_item\u001B[1;34m()\u001B[0m\n",
      "\u001B[1;31mKeyError\u001B[0m: 'e'",
      "\nThe above exception was the direct cause of the following exception:\n",
      "\u001B[1;31mKeyError\u001B[0m                                  Traceback (most recent call last)",
      "Cell \u001B[1;32mIn[27], line 1\u001B[0m\n\u001B[1;32m----> 1\u001B[0m groups_func_fields \u001B[38;5;241m=\u001B[39m \u001B[43mds\u001B[49m\u001B[38;5;241;43m.\u001B[39;49m\u001B[43mgroupby\u001B[49m\u001B[43m(\u001B[49m\u001B[38;5;124;43m'\u001B[39;49m\u001B[38;5;124;43ma\u001B[39;49m\u001B[38;5;124;43m'\u001B[39;49m\u001B[43m,\u001B[49m\u001B[43m \u001B[49m\u001B[43mfunc\u001B[49m\u001B[38;5;241;43m=\u001B[39;49m\u001B[43m[\u001B[49m\u001B[38;5;124;43m'\u001B[39;49m\u001B[38;5;124;43mmean\u001B[39;49m\u001B[38;5;124;43m'\u001B[39;49m\u001B[43m,\u001B[49m\u001B[43m \u001B[49m\u001B[38;5;124;43m'\u001B[39;49m\u001B[38;5;124;43mvar\u001B[39;49m\u001B[38;5;124;43m'\u001B[39;49m\u001B[43m]\u001B[49m\u001B[43m,\u001B[49m\u001B[43m \u001B[49m\u001B[43mfields_list\u001B[49m\u001B[38;5;241;43m=\u001B[39;49m\u001B[38;5;124;43m'\u001B[39;49m\u001B[38;5;124;43me\u001B[39;49m\u001B[38;5;124;43m'\u001B[39;49m\u001B[43m)\u001B[49m\n\u001B[0;32m      2\u001B[0m groups_func_fields\n",
      "File \u001B[1;32m~\\PycharmProjects\\HypEx\\hypex\\dataset\\dataset.py:365\u001B[0m, in \u001B[0;36mDataset.groupby\u001B[1;34m(self, by, func, fields_list, **kwargs)\u001B[0m\n\u001B[0;32m    361\u001B[0m \u001B[38;5;28;01mif\u001B[39;00m fields_list:\n\u001B[0;32m    362\u001B[0m     fields_list \u001B[38;5;241m=\u001B[39m (\n\u001B[0;32m    363\u001B[0m         fields_list \u001B[38;5;28;01mif\u001B[39;00m \u001B[38;5;28misinstance\u001B[39m(fields_list, Iterable) \u001B[38;5;28;01melse\u001B[39;00m [fields_list]\n\u001B[0;32m    364\u001B[0m     )\n\u001B[1;32m--> 365\u001B[0m     datasets \u001B[38;5;241m=\u001B[39m [(i, data[fields_list]) \u001B[38;5;28;01mfor\u001B[39;00m i, data \u001B[38;5;129;01min\u001B[39;00m datasets]\n\u001B[0;32m    366\u001B[0m \u001B[38;5;28;01mif\u001B[39;00m func:\n\u001B[0;32m    367\u001B[0m     datasets \u001B[38;5;241m=\u001B[39m [(i, data\u001B[38;5;241m.\u001B[39magg(func)) \u001B[38;5;28;01mfor\u001B[39;00m i, data \u001B[38;5;129;01min\u001B[39;00m datasets]\n",
      "File \u001B[1;32m~\\PycharmProjects\\HypEx\\hypex\\dataset\\dataset.py:365\u001B[0m, in \u001B[0;36m<listcomp>\u001B[1;34m(.0)\u001B[0m\n\u001B[0;32m    361\u001B[0m \u001B[38;5;28;01mif\u001B[39;00m fields_list:\n\u001B[0;32m    362\u001B[0m     fields_list \u001B[38;5;241m=\u001B[39m (\n\u001B[0;32m    363\u001B[0m         fields_list \u001B[38;5;28;01mif\u001B[39;00m \u001B[38;5;28misinstance\u001B[39m(fields_list, Iterable) \u001B[38;5;28;01melse\u001B[39;00m [fields_list]\n\u001B[0;32m    364\u001B[0m     )\n\u001B[1;32m--> 365\u001B[0m     datasets \u001B[38;5;241m=\u001B[39m [(i, \u001B[43mdata\u001B[49m\u001B[43m[\u001B[49m\u001B[43mfields_list\u001B[49m\u001B[43m]\u001B[49m) \u001B[38;5;28;01mfor\u001B[39;00m i, data \u001B[38;5;129;01min\u001B[39;00m datasets]\n\u001B[0;32m    366\u001B[0m \u001B[38;5;28;01mif\u001B[39;00m func:\n\u001B[0;32m    367\u001B[0m     datasets \u001B[38;5;241m=\u001B[39m [(i, data\u001B[38;5;241m.\u001B[39magg(func)) \u001B[38;5;28;01mfor\u001B[39;00m i, data \u001B[38;5;129;01min\u001B[39;00m datasets]\n",
      "File \u001B[1;32m~\\PycharmProjects\\HypEx\\hypex\\dataset\\dataset.py:95\u001B[0m, in \u001B[0;36mDataset.__getitem__\u001B[1;34m(self, item)\u001B[0m\n\u001B[0;32m     84\u001B[0m items \u001B[38;5;241m=\u001B[39m (\n\u001B[0;32m     85\u001B[0m     [item] \u001B[38;5;28;01mif\u001B[39;00m \u001B[38;5;28misinstance\u001B[39m(item, \u001B[38;5;28mstr\u001B[39m) \u001B[38;5;129;01mor\u001B[39;00m \u001B[38;5;129;01mnot\u001B[39;00m \u001B[38;5;28misinstance\u001B[39m(item, Iterable) \u001B[38;5;28;01melse\u001B[39;00m item\n\u001B[0;32m     86\u001B[0m )\n\u001B[0;32m     87\u001B[0m roles: Dict \u001B[38;5;241m=\u001B[39m {\n\u001B[0;32m     88\u001B[0m     column: (\n\u001B[0;32m     89\u001B[0m         \u001B[38;5;28mself\u001B[39m\u001B[38;5;241m.\u001B[39mroles[column]\n\u001B[1;32m   (...)\u001B[0m\n\u001B[0;32m     93\u001B[0m     \u001B[38;5;28;01mfor\u001B[39;00m column \u001B[38;5;129;01min\u001B[39;00m items\n\u001B[0;32m     94\u001B[0m }\n\u001B[1;32m---> 95\u001B[0m result \u001B[38;5;241m=\u001B[39m Dataset(data\u001B[38;5;241m=\u001B[39m\u001B[38;5;28;43mself\u001B[39;49m\u001B[38;5;241;43m.\u001B[39;49m\u001B[43m_backend\u001B[49m\u001B[38;5;241;43m.\u001B[39;49m\u001B[38;5;21;43m__getitem__\u001B[39;49m\u001B[43m(\u001B[49m\u001B[43mitem\u001B[49m\u001B[43m)\u001B[49m, roles\u001B[38;5;241m=\u001B[39mroles)\n\u001B[0;32m     96\u001B[0m result\u001B[38;5;241m.\u001B[39mtmp_roles \u001B[38;5;241m=\u001B[39m \u001B[38;5;28mself\u001B[39m\u001B[38;5;241m.\u001B[39mtmp_roles\n\u001B[0;32m     97\u001B[0m \u001B[38;5;28;01mreturn\u001B[39;00m result\n",
      "File \u001B[1;32m~\\PycharmProjects\\HypEx\\hypex\\dataset\\backends\\pandas_backend.py:53\u001B[0m, in \u001B[0;36mPandasNavigation.__getitem__\u001B[1;34m(self, item)\u001B[0m\n\u001B[0;32m     51\u001B[0m     \u001B[38;5;28;01mreturn\u001B[39;00m \u001B[38;5;28mself\u001B[39m\u001B[38;5;241m.\u001B[39mdata\u001B[38;5;241m.\u001B[39miloc[item]\n\u001B[0;32m     52\u001B[0m \u001B[38;5;28;01mif\u001B[39;00m \u001B[38;5;28misinstance\u001B[39m(item, (\u001B[38;5;28mstr\u001B[39m, \u001B[38;5;28mlist\u001B[39m)):\n\u001B[1;32m---> 53\u001B[0m     \u001B[38;5;28;01mreturn\u001B[39;00m \u001B[38;5;28;43mself\u001B[39;49m\u001B[38;5;241;43m.\u001B[39;49m\u001B[43mdata\u001B[49m\u001B[43m[\u001B[49m\u001B[43mitem\u001B[49m\u001B[43m]\u001B[49m\n\u001B[0;32m     54\u001B[0m \u001B[38;5;28;01mif\u001B[39;00m \u001B[38;5;28misinstance\u001B[39m(item, pd\u001B[38;5;241m.\u001B[39mDataFrame):\n\u001B[0;32m     55\u001B[0m     \u001B[38;5;28;01mif\u001B[39;00m \u001B[38;5;28mlen\u001B[39m(item\u001B[38;5;241m.\u001B[39mcolumns) \u001B[38;5;241m==\u001B[39m \u001B[38;5;241m1\u001B[39m:\n",
      "File \u001B[1;32m~\\AppData\\Local\\Programs\\Python\\Python310\\lib\\site-packages\\pandas\\core\\frame.py:3893\u001B[0m, in \u001B[0;36mDataFrame.__getitem__\u001B[1;34m(self, key)\u001B[0m\n\u001B[0;32m   3891\u001B[0m \u001B[38;5;28;01mif\u001B[39;00m \u001B[38;5;28mself\u001B[39m\u001B[38;5;241m.\u001B[39mcolumns\u001B[38;5;241m.\u001B[39mnlevels \u001B[38;5;241m>\u001B[39m \u001B[38;5;241m1\u001B[39m:\n\u001B[0;32m   3892\u001B[0m     \u001B[38;5;28;01mreturn\u001B[39;00m \u001B[38;5;28mself\u001B[39m\u001B[38;5;241m.\u001B[39m_getitem_multilevel(key)\n\u001B[1;32m-> 3893\u001B[0m indexer \u001B[38;5;241m=\u001B[39m \u001B[38;5;28;43mself\u001B[39;49m\u001B[38;5;241;43m.\u001B[39;49m\u001B[43mcolumns\u001B[49m\u001B[38;5;241;43m.\u001B[39;49m\u001B[43mget_loc\u001B[49m\u001B[43m(\u001B[49m\u001B[43mkey\u001B[49m\u001B[43m)\u001B[49m\n\u001B[0;32m   3894\u001B[0m \u001B[38;5;28;01mif\u001B[39;00m is_integer(indexer):\n\u001B[0;32m   3895\u001B[0m     indexer \u001B[38;5;241m=\u001B[39m [indexer]\n",
      "File \u001B[1;32m~\\AppData\\Local\\Programs\\Python\\Python310\\lib\\site-packages\\pandas\\core\\indexes\\base.py:3797\u001B[0m, in \u001B[0;36mIndex.get_loc\u001B[1;34m(self, key)\u001B[0m\n\u001B[0;32m   3792\u001B[0m     \u001B[38;5;28;01mif\u001B[39;00m \u001B[38;5;28misinstance\u001B[39m(casted_key, \u001B[38;5;28mslice\u001B[39m) \u001B[38;5;129;01mor\u001B[39;00m (\n\u001B[0;32m   3793\u001B[0m         \u001B[38;5;28misinstance\u001B[39m(casted_key, abc\u001B[38;5;241m.\u001B[39mIterable)\n\u001B[0;32m   3794\u001B[0m         \u001B[38;5;129;01mand\u001B[39;00m \u001B[38;5;28many\u001B[39m(\u001B[38;5;28misinstance\u001B[39m(x, \u001B[38;5;28mslice\u001B[39m) \u001B[38;5;28;01mfor\u001B[39;00m x \u001B[38;5;129;01min\u001B[39;00m casted_key)\n\u001B[0;32m   3795\u001B[0m     ):\n\u001B[0;32m   3796\u001B[0m         \u001B[38;5;28;01mraise\u001B[39;00m InvalidIndexError(key)\n\u001B[1;32m-> 3797\u001B[0m     \u001B[38;5;28;01mraise\u001B[39;00m \u001B[38;5;167;01mKeyError\u001B[39;00m(key) \u001B[38;5;28;01mfrom\u001B[39;00m \u001B[38;5;21;01merr\u001B[39;00m\n\u001B[0;32m   3798\u001B[0m \u001B[38;5;28;01mexcept\u001B[39;00m \u001B[38;5;167;01mTypeError\u001B[39;00m:\n\u001B[0;32m   3799\u001B[0m     \u001B[38;5;66;03m# If we have a listlike key, _check_indexing_error will raise\u001B[39;00m\n\u001B[0;32m   3800\u001B[0m     \u001B[38;5;66;03m#  InvalidIndexError. Otherwise we fall through and re-raise\u001B[39;00m\n\u001B[0;32m   3801\u001B[0m     \u001B[38;5;66;03m#  the TypeError.\u001B[39;00m\n\u001B[0;32m   3802\u001B[0m     \u001B[38;5;28mself\u001B[39m\u001B[38;5;241m.\u001B[39m_check_indexing_error(key)\n",
      "\u001B[1;31mKeyError\u001B[0m: 'e'"
     ]
    }
   ],
   "source": [
    "groups_func_fields = ds.groupby('a', func=['mean', 'var'], fields_list='e')\n",
    "groups_func_fields"
   ]
  },
  {
   "cell_type": "markdown",
   "id": "afa4aae9e20280d7",
   "metadata": {},
   "source": [
    "### Transpose\n",
    "Specificity of the transpose function is rteset roles in new Dataset, so function have argument `roles`. Default is `roles=None`. In this case, the all roles are FeatureRole."
   ]
  },
  {
   "cell_type": "code",
   "execution_count": null,
   "id": "566e45ce7bb4be98",
   "metadata": {
    "ExecuteTime": {
     "end_time": "2024-07-19T14:01:03.615826800Z",
     "start_time": "2024-07-19T14:01:03.373216900Z"
    }
   },
   "outputs": [],
   "source": [
    "ds.transpose({'one': FeatureRole(), '2': InfoRole(), 'III': InfoRole()})"
   ]
  },
  {
   "cell_type": "code",
   "execution_count": null,
   "id": "52271a04f3e51084",
   "metadata": {
    "ExecuteTime": {
     "start_time": "2024-07-19T14:01:03.563278Z"
    }
   },
   "outputs": [],
   "source": [
    "ds.transpose()"
   ]
  },
  {
   "cell_type": "code",
   "execution_count": null,
   "id": "4ec26e50e3ed905f",
   "metadata": {
    "ExecuteTime": {
     "start_time": "2024-07-19T14:01:03.587279200Z"
    }
   },
   "outputs": [],
   "source": [
    "ds.transpose().roles"
   ]
  },
  {
   "cell_type": "code",
   "execution_count": null,
   "id": "2278eb13",
   "metadata": {
    "ExecuteTime": {
     "start_time": "2024-07-19T14:01:03.599291400Z"
    }
   },
   "outputs": [],
   "source": [
    "ds.transpose(['one', '2', 'III'])"
   ]
  },
  {
   "cell_type": "markdown",
   "id": "ea33279e47df315f",
   "metadata": {},
   "source": [
    "### Shuffle\n",
    "Shuffles the dataset rows of the dataset."
   ]
  },
  {
   "cell_type": "code",
   "execution_count": null,
   "id": "49df742a55637972",
   "metadata": {
    "ExecuteTime": {
     "end_time": "2024-07-19T14:01:03.654824200Z",
     "start_time": "2024-07-19T14:01:03.616833700Z"
    }
   },
   "outputs": [],
   "source": [
    "ds.shuffle()"
   ]
  },
  {
   "cell_type": "code",
   "execution_count": null,
   "id": "25dab75ddaebc1d4",
   "metadata": {
    "ExecuteTime": {
     "start_time": "2024-07-19T14:01:03.634825700Z"
    }
   },
   "outputs": [],
   "source": [
    "ds.shuffle()"
   ]
  },
  {
   "cell_type": "code",
   "execution_count": null,
   "id": "d519d58268db5ac1",
   "metadata": {
    "ExecuteTime": {
     "start_time": "2024-07-19T14:01:03.647825300Z"
    }
   },
   "outputs": [],
   "source": [
    "ds.shuffle(random_state=42)"
   ]
  },
  {
   "cell_type": "markdown",
   "id": "49c3228070c35a20",
   "metadata": {},
   "source": [
    "### Replace\n",
    "As Pandas, but types are required atention."
   ]
  },
  {
   "cell_type": "code",
   "execution_count": null,
   "id": "7fe184cb9855a4fe",
   "metadata": {
    "ExecuteTime": {
     "end_time": "2024-07-19T14:01:03.671829600Z",
     "start_time": "2024-07-19T14:01:03.664839100Z"
    }
   },
   "outputs": [],
   "source": [
    "dsr = copy.deepcopy(ds)\n",
    "dsr.replace(2, 15)"
   ]
  },
  {
   "cell_type": "code",
   "execution_count": null,
   "id": "3587ea17",
   "metadata": {
    "ExecuteTime": {
     "end_time": "2024-07-19T14:01:03.679827200Z",
     "start_time": "2024-07-19T14:01:03.672828900Z"
    }
   },
   "outputs": [],
   "source": [
    "# dsr.replace(1, \"a\") raise ValueError\n",
    "dsr.roles['e'] = TargetRole(str)\n",
    "dsr.replace(1, \"a\")"
   ]
  },
  {
   "cell_type": "markdown",
   "id": "a9ab1d759040d4c2",
   "metadata": {},
   "source": [
    "### Append\n",
    "Append method adds a new row to the end of the dataset."
   ]
  },
  {
   "cell_type": "code",
   "execution_count": null,
   "id": "db7750a4a24492ef",
   "metadata": {
    "collapsed": false,
    "ExecuteTime": {
     "end_time": "2024-07-19T14:01:03.685828600Z",
     "start_time": "2024-07-19T14:01:03.681825500Z"
    }
   },
   "outputs": [],
   "source": [
    "ds.append(ds)"
   ]
  },
  {
   "cell_type": "code",
   "execution_count": null,
   "id": "5457c610",
   "metadata": {
    "ExecuteTime": {
     "end_time": "2024-07-19T14:01:03.699852300Z",
     "start_time": "2024-07-19T14:01:03.687823700Z"
    }
   },
   "outputs": [],
   "source": [
    "ds.shuffle().append(other=ds, index=True)"
   ]
  },
  {
   "cell_type": "code",
   "execution_count": null,
   "id": "6ad2decf",
   "metadata": {
    "ExecuteTime": {
     "start_time": "2024-07-19T14:01:03.697853Z"
    }
   },
   "outputs": [],
   "source": [
    "ds.shuffle().append(other=[ds]*2, index=True)"
   ]
  },
  {
   "cell_type": "markdown",
   "id": "6228fd7283c1c424",
   "metadata": {
    "collapsed": false
   },
   "source": [
    "# Eperiment Data\n",
    "\n",
    "ExperimentData is structure that contains: \n",
    "* `ds` - researched dataset\n",
    "* `additional_fields` - additional fields that may be added to the dataset by merge on index: column - is state id of executor\n",
    "* `variables` - it is results of executors that will be returned by once value: key - is state id of executor\n",
    "* `analysis_tables` - dictionary of tables from executors: key - is state id of executor, value - is table from executor\n",
    "* `groups` - cache of splitted data for optimisation of calculation"
   ]
  },
  {
   "cell_type": "code",
   "execution_count": null,
   "id": "dc8b08a641e66fbe",
   "metadata": {
    "collapsed": false,
    "ExecuteTime": {
     "end_time": "2024-07-19T14:01:03.728687500Z",
     "start_time": "2024-07-19T14:01:03.715379400Z"
    }
   },
   "outputs": [],
   "source": [
    "ed = ExperimentData(ds)"
   ]
  },
  {
   "cell_type": "code",
   "execution_count": null,
   "id": "fa3fdeed",
   "metadata": {
    "ExecuteTime": {
     "end_time": "2024-07-19T14:01:03.749758500Z",
     "start_time": "2024-07-19T14:01:03.737292100Z"
    }
   },
   "outputs": [],
   "source": [
    "ed.ds"
   ]
  },
  {
   "cell_type": "code",
   "execution_count": null,
   "id": "0643ec77",
   "metadata": {
    "ExecuteTime": {
     "start_time": "2024-07-19T14:01:03.755757Z"
    }
   },
   "outputs": [],
   "source": [
    "ed.additional_fields"
   ]
  },
  {
   "cell_type": "code",
   "execution_count": null,
   "id": "017a0abe",
   "metadata": {
    "ExecuteTime": {
     "end_time": "2024-07-19T14:01:03.760757800Z",
     "start_time": "2024-07-19T14:01:03.757755700Z"
    }
   },
   "outputs": [],
   "source": [
    "ed.variables"
   ]
  },
  {
   "cell_type": "code",
   "execution_count": null,
   "id": "6a76f93b",
   "metadata": {
    "ExecuteTime": {
     "end_time": "2024-07-19T14:01:03.773758800Z",
     "start_time": "2024-07-19T14:01:03.766759700Z"
    }
   },
   "outputs": [],
   "source": [
    "ed.analysis_tables"
   ]
  },
  {
   "cell_type": "code",
   "execution_count": null,
   "id": "56d5362c",
   "metadata": {
    "ExecuteTime": {
     "start_time": "2024-07-19T14:01:03.770758700Z"
    }
   },
   "outputs": [],
   "source": [
    "ed.groups"
   ]
  }
 ],
 "metadata": {
  "hide_input": false,
  "kernelspec": {
   "display_name": "Python 3 (ipykernel)",
   "language": "python",
   "name": "python3"
  },
  "language_info": {
   "codemirror_mode": {
    "name": "ipython",
    "version": 3
   },
   "file_extension": ".py",
   "mimetype": "text/x-python",
   "name": "python",
   "nbconvert_exporter": "python",
   "pygments_lexer": "ipython3",
   "version": "3.8.10"
  },
  "nbTranslate": {
   "displayLangs": [
    "*"
   ],
   "hotkey": "alt-t",
   "langInMainMenu": true,
   "sourceLang": "en",
   "targetLang": "fr",
   "useGoogleTranslate": true
  },
  "toc": {
   "base_numbering": 1,
   "nav_menu": {},
   "number_sections": true,
   "sideBar": true,
   "skip_h1_title": false,
   "title_cell": "Table of Contents",
   "title_sidebar": "Contents",
   "toc_cell": false,
   "toc_position": {},
   "toc_section_display": true,
   "toc_window_display": false
  },
  "varInspector": {
   "cols": {
    "lenName": 16,
    "lenType": 16,
    "lenVar": 40
   },
   "kernels_config": {
    "python": {
     "delete_cmd_postfix": "",
     "delete_cmd_prefix": "del ",
     "library": "var_list.py",
     "varRefreshCmd": "print(var_dic_list())"
    },
    "r": {
     "delete_cmd_postfix": ") ",
     "delete_cmd_prefix": "rm(",
     "library": "var_list.r",
     "varRefreshCmd": "cat(var_dic_list()) "
    }
   },
   "types_to_exclude": [
    "module",
    "function",
    "builtin_function_or_method",
    "instance",
    "_Feature"
   ],
   "window_display": false
  }
 },
 "nbformat": 4,
 "nbformat_minor": 5
}

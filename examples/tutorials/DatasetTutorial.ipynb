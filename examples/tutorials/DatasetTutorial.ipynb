{
 "cells": [
  {
   "cell_type": "code",
   "execution_count": 173,
   "id": "initial_id",
   "metadata": {
    "collapsed": true,
    "ExecuteTime": {
     "end_time": "2024-06-04T13:19:22.039054100Z",
     "start_time": "2024-06-04T13:19:21.715047300Z"
    }
   },
   "outputs": [],
   "source": [
    "import pandas as pd\n",
    "\n",
    "from hypex.dataset.dataset import Dataset, ExperimentData\n",
    "from hypex.dataset.roles import *"
   ]
  },
  {
   "cell_type": "markdown",
   "id": "17fbe750",
   "metadata": {},
   "source": [
    "# Dataset\n",
    "\n"
   ]
  },
  {
   "cell_type": "code",
   "outputs": [
    {
     "data": {
      "text/plain": "   a    b\n0  1  4.0\n1  2  5.0\n2  3  6.0"
     },
     "execution_count": 174,
     "metadata": {},
     "output_type": "execute_result"
    }
   ],
   "source": [
    "df = pd.DataFrame({'a': [1, 2, 3], 'b': [4, 5, 6]})\n",
    "\n",
    "ds = Dataset({'a': TargetRole(), 'b': TargetRole(float)}, data=df)\n",
    "ds"
   ],
   "metadata": {
    "collapsed": false,
    "ExecuteTime": {
     "end_time": "2024-06-04T13:19:22.204646700Z",
     "start_time": "2024-06-04T13:19:22.029476700Z"
    }
   },
   "id": "d62d93cc5561f412",
   "execution_count": 174
  },
  {
   "cell_type": "code",
   "outputs": [
    {
     "data": {
      "text/plain": "{'a': Target(<class 'int'>), 'b': Target(<class 'float'>)}"
     },
     "execution_count": 175,
     "metadata": {},
     "output_type": "execute_result"
    }
   ],
   "source": [
    "ds.roles"
   ],
   "metadata": {
    "collapsed": false,
    "ExecuteTime": {
     "end_time": "2024-06-04T13:19:22.235070200Z",
     "start_time": "2024-06-04T13:19:22.119447Z"
    }
   },
   "id": "6546578e36d2522d",
   "execution_count": 175
  },
  {
   "cell_type": "code",
   "outputs": [
    {
     "data": {
      "text/plain": "['a']"
     },
     "execution_count": 176,
     "metadata": {},
     "output_type": "execute_result"
    }
   ],
   "source": [
    "ds.search_columns(TargetRole(), search_types=[int])"
   ],
   "metadata": {
    "collapsed": false,
    "ExecuteTime": {
     "end_time": "2024-06-04T13:19:22.312521500Z",
     "start_time": "2024-06-04T13:19:22.219258700Z"
    }
   },
   "id": "243c84fd545c9117",
   "execution_count": 176
  },
  {
   "cell_type": "code",
   "outputs": [
    {
     "data": {
      "text/plain": "   a\n0  1\n1  2\n2  3"
     },
     "execution_count": 177,
     "metadata": {},
     "output_type": "execute_result"
    }
   ],
   "source": [
    "ds['a']"
   ],
   "metadata": {
    "collapsed": false,
    "ExecuteTime": {
     "end_time": "2024-06-04T13:19:22.370522200Z",
     "start_time": "2024-06-04T13:19:22.266896200Z"
    }
   },
   "id": "994ca789a6524c3a",
   "execution_count": 177
  },
  {
   "cell_type": "code",
   "outputs": [
    {
     "data": {
      "text/plain": "     a    b\nmin  1  4.0"
     },
     "execution_count": 178,
     "metadata": {},
     "output_type": "execute_result"
    }
   ],
   "source": [
    "ds.min()"
   ],
   "metadata": {
    "collapsed": false,
    "ExecuteTime": {
     "end_time": "2024-06-04T13:19:22.491892800Z",
     "start_time": "2024-06-04T13:19:22.351409400Z"
    }
   },
   "id": "d2a69656d09fda08",
   "execution_count": 178
  },
  {
   "cell_type": "code",
   "outputs": [
    {
     "data": {
      "text/plain": "     1\na  2.0\nb  5.0"
     },
     "execution_count": 179,
     "metadata": {},
     "output_type": "execute_result"
    }
   ],
   "source": [
    "ds[1]"
   ],
   "metadata": {
    "collapsed": false,
    "ExecuteTime": {
     "end_time": "2024-06-04T13:19:22.617045500Z",
     "start_time": "2024-06-04T13:19:22.458615200Z"
    }
   },
   "id": "e156b5587bc08370",
   "execution_count": 179
  },
  {
   "cell_type": "code",
   "outputs": [
    {
     "data": {
      "text/plain": "   1\na  2"
     },
     "execution_count": 180,
     "metadata": {},
     "output_type": "execute_result"
    }
   ],
   "source": [
    "ds['a'][1]"
   ],
   "metadata": {
    "collapsed": false,
    "ExecuteTime": {
     "end_time": "2024-06-04T13:19:22.674522500Z",
     "start_time": "2024-06-04T13:19:22.534261100Z"
    }
   },
   "id": "8973eeface0fac20",
   "execution_count": 180
  },
  {
   "cell_type": "code",
   "outputs": [
    {
     "data": {
      "text/plain": "   a    b\n0  1  4.0"
     },
     "execution_count": 181,
     "metadata": {},
     "output_type": "execute_result"
    }
   ],
   "source": [
    "ds[ds['a'] == 1]"
   ],
   "metadata": {
    "collapsed": false,
    "ExecuteTime": {
     "end_time": "2024-06-04T13:19:22.800341400Z",
     "start_time": "2024-06-04T13:19:22.669477200Z"
    }
   },
   "id": "a7227bd576d1cc6d",
   "execution_count": 181
  },
  {
   "cell_type": "code",
   "outputs": [
    {
     "data": {
      "text/plain": "   a    b  c\n0  1  4.0  7\n1  2  5.0  8\n2  3  6.0  9"
     },
     "execution_count": 182,
     "metadata": {},
     "output_type": "execute_result"
    }
   ],
   "source": [
    "ds.add_column([7, 8, 9], {'c': TargetRole(int)})\n",
    "ds"
   ],
   "metadata": {
    "collapsed": false,
    "ExecuteTime": {
     "end_time": "2024-06-04T13:19:22.897970500Z",
     "start_time": "2024-06-04T13:19:22.777821500Z"
    }
   },
   "id": "9904c0182a9497ca",
   "execution_count": 182
  },
  {
   "cell_type": "code",
   "outputs": [
    {
     "data": {
      "text/plain": "   a\n0  2\n1  4\n2  6"
     },
     "execution_count": 183,
     "metadata": {},
     "output_type": "execute_result"
    }
   ],
   "source": [
    "ds['a'].map(lambda x: x * 2)"
   ],
   "metadata": {
    "collapsed": false,
    "ExecuteTime": {
     "end_time": "2024-06-04T13:19:22.949772900Z",
     "start_time": "2024-06-04T13:19:22.835469700Z"
    }
   },
   "id": "fb1f19b7d8748ede",
   "execution_count": 183
  },
  {
   "cell_type": "code",
   "outputs": [
    {
     "data": {
      "text/plain": "{'a': array([1, 2, 3], dtype=int64),\n 'b': array([4., 5., 6.]),\n 'c': array([7, 8, 9], dtype=int64)}"
     },
     "execution_count": 184,
     "metadata": {},
     "output_type": "execute_result"
    }
   ],
   "source": [
    "ds.unique()"
   ],
   "metadata": {
    "collapsed": false,
    "ExecuteTime": {
     "end_time": "2024-06-04T13:19:23.030364800Z",
     "start_time": "2024-06-04T13:19:22.927347800Z"
    }
   },
   "id": "a90d7ac62c8f4d50",
   "execution_count": 184
  },
  {
   "cell_type": "code",
   "outputs": [
    {
     "data": {
      "text/plain": "    new\n0  15.0\n1  17.0\n2  19.0"
     },
     "execution_count": 185,
     "metadata": {},
     "output_type": "execute_result"
    }
   ],
   "source": [
    "ds.apply(func=lambda x: x['a'] + x['c'] + 7, role={\"new\": InfoRole()}, axis=1)"
   ],
   "metadata": {
    "collapsed": false,
    "ExecuteTime": {
     "end_time": "2024-06-04T13:19:23.123974200Z",
     "start_time": "2024-06-04T13:19:23.009881600Z"
    }
   },
   "id": "df920b127dc678dc",
   "execution_count": 185
  },
  {
   "cell_type": "code",
   "outputs": [
    {
     "name": "stdout",
     "output_type": "stream",
     "text": [
      "{'a': Target(<class 'int'>), 'b': Target(<class 'float'>), 'c': Target(<class 'int'>)}\n"
     ]
    }
   ],
   "source": [
    "print(ds.roles)"
   ],
   "metadata": {
    "collapsed": false,
    "ExecuteTime": {
     "end_time": "2024-06-04T13:19:23.209052700Z",
     "start_time": "2024-06-04T13:19:23.081329Z"
    }
   },
   "id": "3845bd47a4f4853d",
   "execution_count": 186
  },
  {
   "cell_type": "code",
   "outputs": [
    {
     "data": {
      "text/plain": "   a    b  c   new\n0  1  4.0  7  15.0\n1  2  5.0  8  17.0\n2  3  6.0  9  19.0"
     },
     "execution_count": 187,
     "metadata": {},
     "output_type": "execute_result"
    }
   ],
   "source": [
    "ds.add_column(ds.apply(func=lambda x: x['a'] + x['c'] + 7, role={\"new\": InfoRole()}, axis=1))\n",
    "ds"
   ],
   "metadata": {
    "collapsed": false,
    "ExecuteTime": {
     "end_time": "2024-06-04T13:19:23.312641900Z",
     "start_time": "2024-06-04T13:19:23.203054900Z"
    }
   },
   "id": "d8970e778f0f4448",
   "execution_count": 187
  },
  {
   "cell_type": "code",
   "outputs": [
    {
     "data": {
      "text/plain": "{'a': Target(<class 'int'>),\n 'b': Target(<class 'float'>),\n 'c': Target(<class 'int'>),\n 'new': Info(<class 'float'>)}"
     },
     "execution_count": 188,
     "metadata": {},
     "output_type": "execute_result"
    }
   ],
   "source": [
    "ds.roles"
   ],
   "metadata": {
    "collapsed": false,
    "ExecuteTime": {
     "end_time": "2024-06-04T13:19:23.337866100Z",
     "start_time": "2024-06-04T13:19:23.296638500Z"
    }
   },
   "id": "fc481e8de1882c03",
   "execution_count": 188
  },
  {
   "cell_type": "code",
   "outputs": [],
   "source": [
    "ds.add_column([7, 8, 9], {'f': TargetRole(int)}, index=[2, 0, 1])"
   ],
   "metadata": {
    "collapsed": false,
    "ExecuteTime": {
     "end_time": "2024-06-04T13:19:23.463175600Z",
     "start_time": "2024-06-04T13:19:23.342867800Z"
    }
   },
   "id": "ee6e13c96f86ffed",
   "execution_count": 189
  },
  {
   "cell_type": "code",
   "outputs": [
    {
     "data": {
      "text/plain": "   a    b  c   new  f\n0  1  4.0  7  15.0  8\n1  2  5.0  8  17.0  9\n2  3  6.0  9  19.0  7"
     },
     "execution_count": 190,
     "metadata": {},
     "output_type": "execute_result"
    }
   ],
   "source": [
    "ds"
   ],
   "metadata": {
    "collapsed": false,
    "ExecuteTime": {
     "end_time": "2024-06-04T13:19:23.535836600Z",
     "start_time": "2024-06-04T13:19:23.438842700Z"
    }
   },
   "id": "128c0acf047ffc64",
   "execution_count": 190
  },
  {
   "cell_type": "code",
   "outputs": [
    {
     "name": "stderr",
     "output_type": "stream",
     "text": [
      "C:\\Users\\User\\PycharmProjects\\HypEx\\hypex\\dataset\\dataset.py:100: SyntaxWarning: Column must be added by add_column\n",
      "  warnings.warn(\"Column must be added by add_column\", category=SyntaxWarning)\n"
     ]
    },
    {
     "data": {
      "text/plain": "   a    b  c   new  f  e\n0  1  4.0  7  15.0  8  1\n1  2  5.0  8  17.0  9  2\n2  3  6.0  9  19.0  7  3"
     },
     "execution_count": 191,
     "metadata": {},
     "output_type": "execute_result"
    }
   ],
   "source": [
    "ds['e'] = [1, 2, 3]\n",
    "ds"
   ],
   "metadata": {
    "collapsed": false,
    "ExecuteTime": {
     "end_time": "2024-06-04T13:19:23.655144100Z",
     "start_time": "2024-06-04T13:19:23.507497700Z"
    }
   },
   "id": "90c9e7fc06b8472e",
   "execution_count": 191
  },
  {
   "cell_type": "code",
   "outputs": [
    {
     "data": {
      "text/plain": "   a    b  c   new  f  e\n0  1  4.0  7  15.0  8  1\n1  2  5.0  8  17.0  9  2\n2  3  6.0  9  19.0  7  3"
     },
     "execution_count": 192,
     "metadata": {},
     "output_type": "execute_result"
    }
   ],
   "source": [
    "ds['a'][1] = 1\n",
    "ds"
   ],
   "metadata": {
    "collapsed": false,
    "ExecuteTime": {
     "end_time": "2024-06-04T13:19:23.734903400Z",
     "start_time": "2024-06-04T13:19:23.590003200Z"
    }
   },
   "id": "b036d6de0a00ad8",
   "execution_count": 192
  },
  {
   "cell_type": "code",
   "outputs": [
    {
     "data": {
      "text/plain": "       a      b      c    new      f      e\n0  False  False  False  False   True  False\n1  False  False   True  False  False  False\n2   True  False  False  False  False   True"
     },
     "execution_count": 193,
     "metadata": {},
     "output_type": "execute_result"
    }
   ],
   "source": [
    "ds.isin([3, 8])"
   ],
   "metadata": {
    "collapsed": false,
    "ExecuteTime": {
     "end_time": "2024-06-04T13:19:23.898782400Z",
     "start_time": "2024-06-04T13:19:23.720902200Z"
    }
   },
   "id": "c27dce96fef8ed56",
   "execution_count": 193
  },
  {
   "cell_type": "code",
   "outputs": [
    {
     "data": {
      "text/plain": "{'a': Target(<class 'int'>),\n 'b': Target(<class 'float'>),\n 'c': Target(<class 'int'>),\n 'new': Info(<class 'float'>),\n 'f': Target(<class 'int'>),\n 'e': Info(None)}"
     },
     "execution_count": 194,
     "metadata": {},
     "output_type": "execute_result"
    }
   ],
   "source": [
    "ds.roles"
   ],
   "metadata": {
    "collapsed": false,
    "ExecuteTime": {
     "end_time": "2024-06-04T13:19:23.999748400Z",
     "start_time": "2024-06-04T13:19:23.892780500Z"
    }
   },
   "id": "86adbae2c4f153a4",
   "execution_count": 194
  },
  {
   "cell_type": "code",
   "outputs": [
    {
     "name": "stdout",
     "output_type": "stream",
     "text": [
      "[(1,         a    b    c   new    f    e\n",
      "mean  1.0  4.0  7.0  15.0  8.0  1.0), (2,         a    b    c   new    f    e\n",
      "mean  2.0  5.0  8.0  17.0  9.0  2.0), (3,         a    b    c   new    f    e\n",
      "mean  3.0  6.0  9.0  19.0  7.0  3.0)]\n"
     ]
    }
   ],
   "source": [
    "groups_func = ds.groupby('a', func='mean')\n",
    "print(groups_func)"
   ],
   "metadata": {
    "collapsed": false,
    "ExecuteTime": {
     "end_time": "2024-06-04T13:19:24.152505800Z",
     "start_time": "2024-06-04T13:19:23.937493600Z"
    }
   },
   "id": "298d0e9eb0e93232",
   "execution_count": 195
  },
  {
   "cell_type": "code",
   "outputs": [
    {
     "name": "stdout",
     "output_type": "stream",
     "text": [
      "[(1,    a    b  c   new  f  e\n",
      "0  1  4.0  7  15.0  8  1), (2,    a    b  c   new  f  e\n",
      "1  2  5.0  8  17.0  9  2), (3,    a    b  c   new  f  e\n",
      "2  3  6.0  9  19.0  7  3)]\n"
     ]
    }
   ],
   "source": [
    "groups = ds.groupby('a')\n",
    "print(groups)"
   ],
   "metadata": {
    "collapsed": false,
    "ExecuteTime": {
     "end_time": "2024-06-04T13:19:24.324254200Z",
     "start_time": "2024-06-04T13:19:24.115933900Z"
    }
   },
   "id": "3692a9da2cca79fa",
   "execution_count": 196
  },
  {
   "cell_type": "code",
   "outputs": [
    {
     "name": "stdout",
     "output_type": "stream",
     "text": [
      "[(1,         e\n",
      "mean  1.0\n",
      "var   NaN), (2,         e\n",
      "mean  2.0\n",
      "var   NaN), (3,         e\n",
      "mean  3.0\n",
      "var   NaN)]\n"
     ]
    }
   ],
   "source": [
    "groups_func_fields = ds.groupby('a', func=['mean', 'var'], fields_list='e')\n",
    "print(groups_func_fields)"
   ],
   "metadata": {
    "collapsed": false,
    "ExecuteTime": {
     "end_time": "2024-06-04T13:19:24.374286100Z",
     "start_time": "2024-06-04T13:19:24.189576100Z"
    }
   },
   "id": "676c931b395d054c",
   "execution_count": 197
  },
  {
   "cell_type": "code",
   "outputs": [
    {
     "data": {
      "text/plain": "        a     b     c   new     f    e\nsum   6.0  15.0  24.0  51.0  24.0  6.0\nmean  2.0   5.0   8.0  17.0   8.0  2.0"
     },
     "execution_count": 198,
     "metadata": {},
     "output_type": "execute_result"
    }
   ],
   "source": [
    "ds.agg(['sum', 'mean'])"
   ],
   "metadata": {
    "collapsed": false,
    "ExecuteTime": {
     "end_time": "2024-06-04T13:19:24.433976700Z",
     "start_time": "2024-06-04T13:19:24.280428300Z"
    }
   },
   "id": "464acaad9c35c0b9",
   "execution_count": 198
  },
  {
   "cell_type": "code",
   "outputs": [
    {
     "data": {
      "text/plain": "        a    b    c   new    f    e\nmean  2.0  5.0  8.0  17.0  8.0  2.0"
     },
     "execution_count": 199,
     "metadata": {},
     "output_type": "execute_result"
    }
   ],
   "source": [
    "ds.mean()"
   ],
   "metadata": {
    "collapsed": false,
    "ExecuteTime": {
     "end_time": "2024-06-04T13:19:24.515541400Z",
     "start_time": "2024-06-04T13:19:24.345372700Z"
    }
   },
   "id": "8ddda807bea6a4d0",
   "execution_count": 199
  },
  {
   "cell_type": "code",
   "outputs": [],
   "source": [
    "ds_empty = Dataset.create_empty()"
   ],
   "metadata": {
    "collapsed": false,
    "ExecuteTime": {
     "end_time": "2024-06-04T13:19:24.561039500Z",
     "start_time": "2024-06-04T13:19:24.436976Z"
    }
   },
   "id": "2cb4974f8918f263",
   "execution_count": 200
  },
  {
   "cell_type": "code",
   "outputs": [
    {
     "data": {
      "text/plain": "Index([], dtype='object')"
     },
     "execution_count": 201,
     "metadata": {},
     "output_type": "execute_result"
    }
   ],
   "source": [
    "ds_empty.columns"
   ],
   "metadata": {
    "collapsed": false,
    "ExecuteTime": {
     "end_time": "2024-06-04T13:19:24.686510200Z",
     "start_time": "2024-06-04T13:19:24.547458500Z"
    }
   },
   "id": "d4391fdaa3654cc0",
   "execution_count": 201
  },
  {
   "cell_type": "code",
   "outputs": [
    {
     "data": {
      "text/plain": "Empty DataFrame\nColumns: []\nIndex: []"
     },
     "execution_count": 202,
     "metadata": {},
     "output_type": "execute_result"
    }
   ],
   "source": [
    "ds_empty.backend"
   ],
   "metadata": {
    "collapsed": false,
    "ExecuteTime": {
     "end_time": "2024-06-04T13:19:24.804321100Z",
     "start_time": "2024-06-04T13:19:24.673975600Z"
    }
   },
   "id": "fafc1d29ad660762",
   "execution_count": 202
  },
  {
   "cell_type": "code",
   "outputs": [],
   "source": [
    "ds_from_dict = Dataset.from_dict({'a': [1, 2], 'b': [3, 4]}, {'a': TargetRole(), 'b': InfoRole()})"
   ],
   "metadata": {
    "collapsed": false,
    "ExecuteTime": {
     "end_time": "2024-06-04T13:19:24.866707100Z",
     "start_time": "2024-06-04T13:19:24.738233100Z"
    }
   },
   "id": "6bd53eb114a3facf",
   "execution_count": 203
  },
  {
   "cell_type": "code",
   "outputs": [
    {
     "data": {
      "text/plain": "   a  b\n0  1  3\n1  2  4"
     },
     "execution_count": 204,
     "metadata": {},
     "output_type": "execute_result"
    }
   ],
   "source": [
    "ds_from_dict"
   ],
   "metadata": {
    "collapsed": false,
    "ExecuteTime": {
     "end_time": "2024-06-04T13:19:24.942549300Z",
     "start_time": "2024-06-04T13:19:24.850177Z"
    }
   },
   "id": "7f97f4ca4db12c8",
   "execution_count": 204
  },
  {
   "cell_type": "code",
   "outputs": [
    {
     "data": {
      "text/plain": "{'a': Target(None), 'b': Info(None)}"
     },
     "execution_count": 205,
     "metadata": {},
     "output_type": "execute_result"
    }
   ],
   "source": [
    "ds_from_dict.roles"
   ],
   "metadata": {
    "collapsed": false,
    "ExecuteTime": {
     "end_time": "2024-06-04T13:19:25.178690900Z",
     "start_time": "2024-06-04T13:19:24.948577100Z"
    }
   },
   "id": "f84e59b392c1733e",
   "execution_count": 205
  },
  {
   "cell_type": "code",
   "outputs": [
    {
     "data": {
      "text/plain": "   a    b  c   new  f  e\n0  1  4.0  7  15.0  8  1\n1  2  5.0  8  17.0  9  2\n2  3  6.0  9  19.0  7  3"
     },
     "execution_count": 206,
     "metadata": {},
     "output_type": "execute_result"
    }
   ],
   "source": [
    "ds"
   ],
   "metadata": {
    "collapsed": false,
    "ExecuteTime": {
     "end_time": "2024-06-04T13:19:25.323057500Z",
     "start_time": "2024-06-04T13:19:25.119055300Z"
    }
   },
   "id": "520e132c1b89ba91",
   "execution_count": 206
  },
  {
   "cell_type": "code",
   "outputs": [
    {
     "data": {
      "text/plain": "   a    b  c   new  f  e\n0  1  4.0  7  15.0  8  1\n1  2  5.0  8  17.0  9  2\n2  3  6.0  9  19.0  7  3\n0  1  4.0  7  15.0  8  1\n1  2  5.0  8  17.0  9  2\n2  3  6.0  9  19.0  7  3"
     },
     "execution_count": 207,
     "metadata": {},
     "output_type": "execute_result"
    }
   ],
   "source": [
    "ds.append(ds)"
   ],
   "metadata": {
    "collapsed": false,
    "ExecuteTime": {
     "end_time": "2024-06-04T13:19:25.347080200Z",
     "start_time": "2024-06-04T13:19:25.235829800Z"
    }
   },
   "id": "db7750a4a24492ef",
   "execution_count": 207
  },
  {
   "cell_type": "code",
   "outputs": [
    {
     "data": {
      "text/plain": "{'a': Target(None), 'b': Info(None)}"
     },
     "metadata": {},
     "output_type": "display_data"
    },
    {
     "data": {
      "text/plain": "   V  B\n0  1  3\n1  2  4"
     },
     "execution_count": 208,
     "metadata": {},
     "output_type": "execute_result"
    }
   ],
   "source": [
    "display(ds_from_dict.roles)\n",
    "ds_from_dict.rename({'b': 'B', 'a': 'V'})"
   ],
   "metadata": {
    "collapsed": false,
    "ExecuteTime": {
     "end_time": "2024-06-04T13:19:25.465869900Z",
     "start_time": "2024-06-04T13:19:25.334058200Z"
    }
   },
   "id": "4804ad51ce834889",
   "execution_count": 208
  },
  {
   "cell_type": "markdown",
   "source": [
    "# Eperiment Data"
   ],
   "metadata": {
    "collapsed": false
   },
   "id": "6228fd7283c1c424"
  },
  {
   "cell_type": "code",
   "outputs": [],
   "source": [
    "ed = ExperimentData(ds)"
   ],
   "metadata": {
    "collapsed": false,
    "ExecuteTime": {
     "end_time": "2024-06-04T13:19:25.558622100Z",
     "start_time": "2024-06-04T13:19:25.455866600Z"
    }
   },
   "id": "dc8b08a641e66fbe",
   "execution_count": 209
  },
  {
   "cell_type": "code",
   "outputs": [
    {
     "data": {
      "text/plain": "Empty DataFrame\nColumns: []\nIndex: [0, 1, 2]"
     },
     "execution_count": 210,
     "metadata": {},
     "output_type": "execute_result"
    }
   ],
   "source": [
    "ed.additional_fields"
   ],
   "metadata": {
    "collapsed": false,
    "ExecuteTime": {
     "end_time": "2024-06-04T13:19:25.604217Z",
     "start_time": "2024-06-04T13:19:25.498482600Z"
    }
   },
   "id": "6789d27ac86f5291",
   "execution_count": 210
  },
  {
   "cell_type": "code",
   "outputs": [
    {
     "data": {
      "text/plain": "Empty DataFrame\nColumns: []\nIndex: [0, 1, 2]"
     },
     "execution_count": 211,
     "metadata": {},
     "output_type": "execute_result"
    }
   ],
   "source": [
    "ed.additional_fields.loc[:, :]"
   ],
   "metadata": {
    "collapsed": false,
    "ExecuteTime": {
     "end_time": "2024-06-04T13:19:25.689905700Z",
     "start_time": "2024-06-04T13:19:25.593217800Z"
    }
   },
   "id": "d36cf89d2e5ed478",
   "execution_count": 211
  },
  {
   "cell_type": "code",
   "outputs": [],
   "source": [],
   "metadata": {
    "collapsed": false,
    "ExecuteTime": {
     "end_time": "2024-06-04T13:19:25.735791800Z",
     "start_time": "2024-06-04T13:19:25.671131700Z"
    }
   },
   "id": "25f98c7a1ddf8797",
   "execution_count": 211
  }
 ],
 "metadata": {
  "hide_input": false,
  "kernelspec": {
   "display_name": "Python 3 (ipykernel)",
   "language": "python",
   "name": "python3"
  },
  "language_info": {
   "codemirror_mode": {
    "name": "ipython",
    "version": 3
   },
   "file_extension": ".py",
   "mimetype": "text/x-python",
   "name": "python",
   "nbconvert_exporter": "python",
   "pygments_lexer": "ipython3",
   "version": "3.10.11"
  },
  "nbTranslate": {
   "displayLangs": [
    "*"
   ],
   "hotkey": "alt-t",
   "langInMainMenu": true,
   "sourceLang": "en",
   "targetLang": "fr",
   "useGoogleTranslate": true
  },
  "toc": {
   "base_numbering": 1,
   "nav_menu": {},
   "number_sections": true,
   "sideBar": true,
   "skip_h1_title": false,
   "title_cell": "Table of Contents",
   "title_sidebar": "Contents",
   "toc_cell": false,
   "toc_position": {},
   "toc_section_display": true,
   "toc_window_display": false
  },
  "varInspector": {
   "cols": {
    "lenName": 16,
    "lenType": 16,
    "lenVar": 40
   },
   "kernels_config": {
    "python": {
     "delete_cmd_postfix": "",
     "delete_cmd_prefix": "del ",
     "library": "var_list.py",
     "varRefreshCmd": "print(var_dic_list())"
    },
    "r": {
     "delete_cmd_postfix": ") ",
     "delete_cmd_prefix": "rm(",
     "library": "var_list.r",
     "varRefreshCmd": "cat(var_dic_list()) "
    }
   },
   "types_to_exclude": [
    "module",
    "function",
    "builtin_function_or_method",
    "instance",
    "_Feature"
   ],
   "window_display": false
  }
 },
 "nbformat": 4,
 "nbformat_minor": 5
}

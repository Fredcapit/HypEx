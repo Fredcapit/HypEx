{
 "cells": [
  {
   "cell_type": "code",
   "execution_count": 1,
   "id": "initial_id",
   "metadata": {
    "ExecuteTime": {
     "end_time": "2024-05-21T13:54:57.041371700Z",
     "start_time": "2024-05-21T13:54:54.530614300Z"
    },
    "collapsed": true
   },
   "outputs": [],
   "source": [
    "import pandas as pd\n",
    "\n",
    "from hypex.dataset.dataset import Dataset, ExperimentData\n",
    "from hypex.dataset.roles import *"
   ]
  },
  {
   "cell_type": "markdown",
   "id": "17fbe750",
   "metadata": {},
   "source": [
    "# Dataset\n",
    "\n"
   ]
  },
  {
   "cell_type": "code",
   "execution_count": 2,
   "id": "522c2e109efc0c17",
   "metadata": {
    "ExecuteTime": {
     "end_time": "2024-05-21T13:54:57.180121Z",
     "start_time": "2024-05-21T13:54:57.041371700Z"
    }
   },
   "outputs": [
    {
     "data": {
      "text/plain": [
       "   a  b\n",
       "0  1  4\n",
       "1  2  5\n",
       "2  3  6"
      ]
     },
     "execution_count": 2,
     "metadata": {},
     "output_type": "execute_result"
    }
   ],
   "source": [
    "df = pd.DataFrame({'a': [1, 2, 3], 'b': [4, 5, 6]})\n",
    "\n",
    "ds = Dataset({'a': TargetRole(), 'b': PreTargetRole()}, data=df)\n",
    "ds"
   ]
  },
  {
   "cell_type": "code",
   "execution_count": 3,
   "id": "97e2c6fb26889ad5",
   "metadata": {
    "ExecuteTime": {
     "end_time": "2024-05-21T13:54:57.253526600Z",
     "start_time": "2024-05-21T13:54:57.179117600Z"
    },
    "collapsed": false
   },
   "outputs": [
    {
     "data": {
      "text/plain": [
       "{'a': Target(<class 'int'>), 'b': PreTarget(<class 'int'>)}"
      ]
     },
     "execution_count": 3,
     "metadata": {},
     "output_type": "execute_result"
    }
   ],
   "source": [
    "ds.roles"
   ]
  },
  {
   "cell_type": "code",
   "execution_count": 4,
   "id": "7f22c159be791753",
   "metadata": {
    "ExecuteTime": {
     "end_time": "2024-05-21T13:54:57.370045400Z",
     "start_time": "2024-05-21T13:54:57.202648400Z"
    }
   },
   "outputs": [
    {
     "data": {
      "text/plain": [
       "   a\n",
       "0  1\n",
       "1  2\n",
       "2  3"
      ]
     },
     "execution_count": 4,
     "metadata": {},
     "output_type": "execute_result"
    }
   ],
   "source": [
    "ds['a']"
   ]
  },
  {
   "cell_type": "code",
   "execution_count": 5,
   "id": "f9b16547f83f3c67",
   "metadata": {
    "ExecuteTime": {
     "end_time": "2024-05-21T13:54:57.407245800Z",
     "start_time": "2024-05-21T13:54:57.237736500Z"
    },
    "collapsed": false
   },
   "outputs": [
    {
     "data": {
      "text/plain": [
       "     a  b\n",
       "min  1  4"
      ]
     },
     "execution_count": 5,
     "metadata": {},
     "output_type": "execute_result"
    }
   ],
   "source": [
    "ds.min()"
   ]
  },
  {
   "cell_type": "code",
   "execution_count": 6,
   "id": "86544b832e1c6601",
   "metadata": {
    "ExecuteTime": {
     "end_time": "2024-05-21T13:54:57.544315800Z",
     "start_time": "2024-05-21T13:54:57.263997Z"
    }
   },
   "outputs": [
    {
     "data": {
      "text/plain": [
       "   1\n",
       "a  2\n",
       "b  5"
      ]
     },
     "execution_count": 6,
     "metadata": {},
     "output_type": "execute_result"
    }
   ],
   "source": [
    "ds[1]"
   ]
  },
  {
   "cell_type": "code",
   "execution_count": 7,
   "id": "6e6fcf0c4100061",
   "metadata": {
    "ExecuteTime": {
     "end_time": "2024-05-21T13:54:57.549315900Z",
     "start_time": "2024-05-21T13:54:57.295766400Z"
    }
   },
   "outputs": [
    {
     "data": {
      "text/plain": [
       "   1\n",
       "a  2"
      ]
     },
     "execution_count": 7,
     "metadata": {},
     "output_type": "execute_result"
    }
   ],
   "source": [
    "ds['a'][1]"
   ]
  },
  {
   "cell_type": "code",
   "execution_count": 8,
   "id": "3195bc0a0edad5b1",
   "metadata": {
    "ExecuteTime": {
     "end_time": "2024-05-21T13:54:57.581937200Z",
     "start_time": "2024-05-21T13:54:57.326183900Z"
    },
    "collapsed": false
   },
   "outputs": [
    {
     "data": {
      "text/plain": [
       "   a  b  c\n",
       "0  1  4  7\n",
       "1  2  5  8\n",
       "2  3  6  9"
      ]
     },
     "execution_count": 8,
     "metadata": {},
     "output_type": "execute_result"
    }
   ],
   "source": [
    "ds.add_column([7, 8, 9], {'c': TargetRole(int)})\n",
    "ds"
   ]
  },
  {
   "cell_type": "code",
   "execution_count": 9,
   "id": "92e4adcdd645c65e",
   "metadata": {
    "ExecuteTime": {
     "end_time": "2024-05-21T13:54:57.706230500Z",
     "start_time": "2024-05-21T13:54:57.357711500Z"
    },
    "collapsed": false
   },
   "outputs": [
    {
     "data": {
      "text/plain": [
       "   a\n",
       "0  2\n",
       "1  4\n",
       "2  6"
      ]
     },
     "execution_count": 9,
     "metadata": {},
     "output_type": "execute_result"
    }
   ],
   "source": [
    "ds['a'].map(lambda x: x * 2)"
   ]
  },
  {
   "cell_type": "code",
   "execution_count": 10,
   "id": "4d33df616d3992a7",
   "metadata": {
    "ExecuteTime": {
     "end_time": "2024-05-21T13:54:57.718062400Z",
     "start_time": "2024-05-21T13:54:57.394554900Z"
    },
    "collapsed": false
   },
   "outputs": [
    {
     "data": {
      "text/plain": [
       "{'a': array([1, 2, 3]), 'b': array([4, 5, 6]), 'c': array([7, 8, 9])}"
      ]
     },
     "execution_count": 10,
     "metadata": {},
     "output_type": "execute_result"
    }
   ],
   "source": [
    "ds.unique()"
   ]
  },
  {
   "cell_type": "code",
   "execution_count": 11,
   "id": "982af7e32259e293",
   "metadata": {
    "ExecuteTime": {
     "end_time": "2024-05-21T13:54:57.722453900Z",
     "start_time": "2024-05-21T13:54:57.418743800Z"
    },
    "collapsed": false
   },
   "outputs": [
    {
     "data": {
      "text/plain": [
       "   new\n",
       "0   15\n",
       "1   17\n",
       "2   19"
      ]
     },
     "execution_count": 11,
     "metadata": {},
     "output_type": "execute_result"
    }
   ],
   "source": [
    "ds.apply(func=lambda x: x['a'] + x['c'] + 7, role={\"new\": InfoRole()}, axis=1)"
   ]
  },
  {
   "cell_type": "code",
   "execution_count": 12,
   "id": "97529b0fa1c80368",
   "metadata": {
    "ExecuteTime": {
     "end_time": "2024-05-21T13:54:57.945236100Z",
     "start_time": "2024-05-21T13:54:57.452462300Z"
    },
    "collapsed": false
   },
   "outputs": [
    {
     "name": "stdout",
     "output_type": "stream",
     "text": [
      "{'a': Target(<class 'int'>), 'b': PreTarget(<class 'int'>), 'c': Target(<class 'int'>)}\n"
     ]
    }
   ],
   "source": [
    "print(ds.roles)"
   ]
  },
  {
   "cell_type": "code",
   "execution_count": 13,
   "id": "9c2299476750f8",
   "metadata": {
    "ExecuteTime": {
     "end_time": "2024-05-21T13:54:57.949445Z",
     "start_time": "2024-05-21T13:54:57.482700500Z"
    },
    "collapsed": false
   },
   "outputs": [
    {
     "data": {
      "text/plain": [
       "   a  b  c  new\n",
       "0  1  4  7   15\n",
       "1  2  5  8   17\n",
       "2  3  6  9   19"
      ]
     },
     "execution_count": 13,
     "metadata": {},
     "output_type": "execute_result"
    }
   ],
   "source": [
    "ds.add_column(ds.apply(func=lambda x: x['a'] + x['c'] + 7, role={\"new\": InfoRole()}, axis=1))\n",
    "ds"
   ]
  },
  {
   "cell_type": "code",
   "execution_count": 14,
   "id": "3a0fe3e476ec0675",
   "metadata": {
    "ExecuteTime": {
     "end_time": "2024-05-21T13:54:57.991937500Z",
     "start_time": "2024-05-21T13:54:57.514816Z"
    },
    "collapsed": false
   },
   "outputs": [
    {
     "data": {
      "text/plain": [
       "{'a': Target(<class 'int'>),\n",
       " 'b': PreTarget(<class 'int'>),\n",
       " 'c': Target(<class 'int'>),\n",
       " 'new': Info(<class 'int'>)}"
      ]
     },
     "execution_count": 14,
     "metadata": {},
     "output_type": "execute_result"
    }
   ],
   "source": [
    "ds.roles"
   ]
  },
  {
   "cell_type": "code",
   "execution_count": 15,
   "id": "e022d46391e83503",
   "metadata": {
    "ExecuteTime": {
     "end_time": "2024-05-21T13:54:58.027533100Z",
     "start_time": "2024-05-21T13:54:57.546314200Z"
    },
    "collapsed": false
   },
   "outputs": [],
   "source": [
    "ds.add_column([7, 8, 9], {'f': TargetRole(int)}, index=[2, 0, 1])"
   ]
  },
  {
   "cell_type": "code",
   "execution_count": 16,
   "id": "1fe33a91ff7e247f",
   "metadata": {
    "ExecuteTime": {
     "end_time": "2024-05-21T13:54:58.058013700Z",
     "start_time": "2024-05-21T13:54:57.576731200Z"
    },
    "collapsed": false
   },
   "outputs": [
    {
     "data": {
      "text/plain": [
       "   a  b  c  new  f\n",
       "0  1  4  7   15  8\n",
       "1  2  5  8   17  9\n",
       "2  3  6  9   19  7"
      ]
     },
     "execution_count": 16,
     "metadata": {},
     "output_type": "execute_result"
    }
   ],
   "source": [
    "ds"
   ]
  },
  {
   "cell_type": "code",
   "execution_count": 17,
   "id": "55eaa1d07e6541d4",
   "metadata": {
    "ExecuteTime": {
     "end_time": "2024-05-21T13:54:58.111730700Z",
     "start_time": "2024-05-21T13:54:57.683443500Z"
    },
    "collapsed": false
   },
   "outputs": [
    {
     "name": "stderr",
     "output_type": "stream",
     "text": [
      "/workspaces/HypEx/hypex/dataset/dataset.py:99: SyntaxWarning: Column must be added by add_column\n",
      "  warnings.warn(\"Column must be added by add_column\", category=SyntaxWarning)\n"
     ]
    },
    {
     "data": {
      "text/plain": [
       "   a  b  c  new  f  e\n",
       "0  1  4  7   15  8  1\n",
       "1  2  5  8   17  9  2\n",
       "2  3  6  9   19  7  3"
      ]
     },
     "execution_count": 17,
     "metadata": {},
     "output_type": "execute_result"
    }
   ],
   "source": [
    "ds['e'] = [1, 2, 3]\n",
    "ds"
   ]
  },
  {
   "cell_type": "code",
   "execution_count": 18,
   "id": "33a3e6dbe408808e",
   "metadata": {
    "ExecuteTime": {
     "end_time": "2024-05-21T13:54:58.175982500Z",
     "start_time": "2024-05-21T13:54:57.718062400Z"
    },
    "collapsed": false
   },
   "outputs": [
    {
     "data": {
      "text/plain": [
       "   a  b  c  new  f  e\n",
       "0  1  4  7   15  8  1\n",
       "1  2  5  8   17  9  2\n",
       "2  3  6  9   19  7  3"
      ]
     },
     "execution_count": 18,
     "metadata": {},
     "output_type": "execute_result"
    }
   ],
   "source": [
    "ds['a'][1] = 1\n",
    "ds"
   ]
  },
  {
   "cell_type": "code",
   "execution_count": 19,
   "id": "24738ec2c91c2169",
   "metadata": {
    "ExecuteTime": {
     "end_time": "2024-05-21T13:54:58.381409300Z",
     "start_time": "2024-05-21T13:54:57.749640700Z"
    },
    "collapsed": false
   },
   "outputs": [
    {
     "data": {
      "text/plain": [
       "       a      b      c    new      f      e\n",
       "0  False  False  False  False   True  False\n",
       "1  False  False   True  False  False  False\n",
       "2   True  False  False  False  False   True"
      ]
     },
     "execution_count": 19,
     "metadata": {},
     "output_type": "execute_result"
    }
   ],
   "source": [
    "ds.isin([3, 8])"
   ]
  },
  {
   "cell_type": "code",
   "execution_count": 20,
   "id": "d91ae2042d25f671",
   "metadata": {
    "ExecuteTime": {
     "end_time": "2024-05-21T13:54:58.384411800Z",
     "start_time": "2024-05-21T13:54:57.794810300Z"
    },
    "collapsed": false
   },
   "outputs": [
    {
     "data": {
      "text/plain": [
       "{'a': Target(<class 'int'>),\n",
       " 'b': PreTarget(<class 'int'>),\n",
       " 'c': Target(<class 'int'>),\n",
       " 'new': Info(<class 'int'>),\n",
       " 'f': Target(<class 'int'>),\n",
       " 'e': Info(None)}"
      ]
     },
     "execution_count": 20,
     "metadata": {},
     "output_type": "execute_result"
    }
   ],
   "source": [
    "ds.roles"
   ]
  },
  {
   "cell_type": "code",
   "execution_count": 21,
   "id": "1fa206cbf2ceb2de",
   "metadata": {
    "ExecuteTime": {
     "end_time": "2024-05-21T13:54:58.439951900Z",
     "start_time": "2024-05-21T13:54:57.812988700Z"
    },
    "collapsed": false
   },
   "outputs": [
    {
     "name": "stdout",
     "output_type": "stream",
     "text": [
      "[(1,         a    b    c   new    f    e\n",
      "mean  1.0  4.0  7.0  15.0  8.0  1.0), (2,         a    b    c   new    f    e\n",
      "mean  2.0  5.0  8.0  17.0  9.0  2.0), (3,         a    b    c   new    f    e\n",
      "mean  3.0  6.0  9.0  19.0  7.0  3.0)]\n"
     ]
    }
   ],
   "source": [
    "groups_func = ds.groupby('a', func='mean')\n",
    "print(groups_func)"
   ]
  },
  {
   "cell_type": "code",
   "execution_count": 22,
   "id": "70b1e4c4f436512",
   "metadata": {
    "ExecuteTime": {
     "end_time": "2024-05-21T13:54:58.471386500Z",
     "start_time": "2024-05-21T13:54:57.922262100Z"
    },
    "collapsed": false
   },
   "outputs": [
    {
     "name": "stdout",
     "output_type": "stream",
     "text": [
      "[(1,    a  b  c  new  f  e\n",
      "0  1  4  7   15  8  1), (2,    a  b  c  new  f  e\n",
      "1  2  5  8   17  9  2), (3,    a  b  c  new  f  e\n",
      "2  3  6  9   19  7  3)]\n"
     ]
    }
   ],
   "source": [
    "groups = ds.groupby('a')\n",
    "print(groups)"
   ]
  },
  {
   "cell_type": "code",
   "execution_count": 23,
   "id": "2046ae2f89c1102d",
   "metadata": {
    "ExecuteTime": {
     "end_time": "2024-05-21T13:55:51.358282500Z",
     "start_time": "2024-05-21T13:55:51.210352400Z"
    },
    "collapsed": false
   },
   "outputs": [
    {
     "name": "stdout",
     "output_type": "stream",
     "text": [
      "[(1,         e\n",
      "mean  1.0\n",
      "var   NaN), (2,         e\n",
      "mean  2.0\n",
      "var   NaN), (3,         e\n",
      "mean  3.0\n",
      "var   NaN)]\n"
     ]
    }
   ],
   "source": [
    "groups_func_fields = ds.groupby('a', func=['mean', 'var'], fields_list='e')\n",
    "print(groups_func_fields)"
   ]
  },
  {
   "cell_type": "code",
   "execution_count": 24,
   "id": "d38e12aa12d36ab7",
   "metadata": {
    "ExecuteTime": {
     "end_time": "2024-05-21T13:54:58.561875500Z",
     "start_time": "2024-05-21T13:54:58.051730100Z"
    },
    "collapsed": false
   },
   "outputs": [
    {
     "data": {
      "text/plain": [
       "        a     b     c   new     f    e\n",
       "sum   6.0  15.0  24.0  51.0  24.0  6.0\n",
       "mean  2.0   5.0   8.0  17.0   8.0  2.0"
      ]
     },
     "execution_count": 24,
     "metadata": {},
     "output_type": "execute_result"
    }
   ],
   "source": [
    "ds.agg(['sum', 'mean'])"
   ]
  },
  {
   "cell_type": "code",
   "execution_count": 25,
   "id": "3ef763e65ccc52e7",
   "metadata": {
    "ExecuteTime": {
     "end_time": "2024-05-21T13:54:58.569861700Z",
     "start_time": "2024-05-21T13:54:58.107433900Z"
    },
    "collapsed": false
   },
   "outputs": [
    {
     "data": {
      "text/plain": [
       "        a    b    c   new    f    e\n",
       "mean  2.0  5.0  8.0  17.0  8.0  2.0"
      ]
     },
     "execution_count": 25,
     "metadata": {},
     "output_type": "execute_result"
    }
   ],
   "source": [
    "ds.mean()"
   ]
  },
  {
   "cell_type": "code",
   "execution_count": 26,
   "id": "d9f59b67ef932e42",
   "metadata": {
    "ExecuteTime": {
     "end_time": "2024-05-21T13:54:58.591007700Z",
     "start_time": "2024-05-21T13:54:58.155295400Z"
    },
    "collapsed": false
   },
   "outputs": [],
   "source": [
    "ds_empty = Dataset.create_empty()"
   ]
  },
  {
   "cell_type": "code",
   "execution_count": 27,
   "id": "8e65e8bf25bcb53b",
   "metadata": {
    "ExecuteTime": {
     "end_time": "2024-05-21T13:54:58.822554800Z",
     "start_time": "2024-05-21T13:54:58.183210900Z"
    },
    "collapsed": false
   },
   "outputs": [
    {
     "data": {
      "text/plain": [
       "Index([], dtype='object')"
      ]
     },
     "execution_count": 27,
     "metadata": {},
     "output_type": "execute_result"
    }
   ],
   "source": [
    "ds_empty.columns"
   ]
  },
  {
   "cell_type": "code",
   "execution_count": 28,
   "id": "f5578fea81e79c4c",
   "metadata": {
    "ExecuteTime": {
     "end_time": "2024-05-21T13:54:58.826635100Z",
     "start_time": "2024-05-21T13:54:58.227792400Z"
    },
    "collapsed": false
   },
   "outputs": [
    {
     "data": {
      "text/plain": [
       "Empty DataFrame\n",
       "Columns: []\n",
       "Index: []"
      ]
     },
     "execution_count": 28,
     "metadata": {},
     "output_type": "execute_result"
    }
   ],
   "source": [
    "ds_empty.backend"
   ]
  },
  {
   "cell_type": "code",
   "execution_count": 29,
   "id": "c1af9da76c0d1092",
   "metadata": {
    "ExecuteTime": {
     "end_time": "2024-05-21T13:54:58.864809500Z",
     "start_time": "2024-05-21T13:54:58.264346100Z"
    },
    "collapsed": false
   },
   "outputs": [],
   "source": [
    "ds_from_dict = Dataset.from_dict({'a': [1, 2], 'b': [3, 4]}, {'a': TargetRole(), 'b': InfoRole()})"
   ]
  },
  {
   "cell_type": "code",
   "execution_count": 30,
   "id": "f741a7a185949c1f",
   "metadata": {
    "ExecuteTime": {
     "end_time": "2024-05-21T13:54:58.889283700Z",
     "start_time": "2024-05-21T13:54:58.292153100Z"
    },
    "collapsed": false
   },
   "outputs": [
    {
     "data": {
      "text/plain": [
       "   a  b\n",
       "0  1  3\n",
       "1  2  4"
      ]
     },
     "execution_count": 30,
     "metadata": {},
     "output_type": "execute_result"
    }
   ],
   "source": [
    "ds_from_dict"
   ]
  },
  {
   "cell_type": "code",
   "execution_count": 31,
   "id": "b1819a6579d2216a",
   "metadata": {
    "ExecuteTime": {
     "end_time": "2024-05-21T13:54:58.893779600Z",
     "start_time": "2024-05-21T13:54:58.324474700Z"
    },
    "collapsed": false
   },
   "outputs": [
    {
     "data": {
      "text/plain": [
       "{'a': Target(None), 'b': Info(None)}"
      ]
     },
     "execution_count": 31,
     "metadata": {},
     "output_type": "execute_result"
    }
   ],
   "source": [
    "ds_from_dict.roles"
   ]
  },
  {
   "cell_type": "code",
   "execution_count": 32,
   "id": "5a33f7b721b7191",
   "metadata": {
    "ExecuteTime": {
     "end_time": "2024-05-21T13:54:58.916096700Z",
     "start_time": "2024-05-21T13:54:58.356007100Z"
    },
    "collapsed": false
   },
   "outputs": [
    {
     "data": {
      "text/plain": [
       "   a  b  c  new  f  e\n",
       "0  1  4  7   15  8  1\n",
       "1  2  5  8   17  9  2\n",
       "2  3  6  9   19  7  3"
      ]
     },
     "execution_count": 32,
     "metadata": {},
     "output_type": "execute_result"
    }
   ],
   "source": [
    "ds"
   ]
  },
  {
   "cell_type": "code",
   "execution_count": 33,
   "id": "ca058bb6efc5083f",
   "metadata": {
    "ExecuteTime": {
     "end_time": "2024-05-21T13:54:58.944903900Z",
     "start_time": "2024-05-21T13:54:58.387409900Z"
    },
    "collapsed": false
   },
   "outputs": [
    {
     "data": {
      "text/plain": [
       "   a  b  c  new  f  e\n",
       "0  1  4  7   15  8  1\n",
       "1  2  5  8   17  9  2\n",
       "2  3  6  9   19  7  3\n",
       "0  1  4  7   15  8  1\n",
       "1  2  5  8   17  9  2\n",
       "2  3  6  9   19  7  3"
      ]
     },
     "execution_count": 33,
     "metadata": {},
     "output_type": "execute_result"
    }
   ],
   "source": [
    "ds.append(ds)"
   ]
  },
  {
   "cell_type": "code",
   "execution_count": 34,
   "id": "dd6a39a2ddd38217",
   "metadata": {
    "ExecuteTime": {
     "end_time": "2024-05-21T13:54:58.985917800Z",
     "start_time": "2024-05-21T13:54:58.417951Z"
    },
    "collapsed": false
   },
   "outputs": [
    {
     "data": {
      "text/plain": [
       "{'a': Target(None), 'b': Info(None)}"
      ]
     },
     "execution_count": 34,
     "metadata": {},
     "output_type": "execute_result"
    }
   ],
   "source": [
    "ds_from_dict.roles"
   ]
  },
  {
   "cell_type": "code",
   "execution_count": 40,
   "id": "b589035d",
   "metadata": {},
   "outputs": [
    {
     "data": {
      "text/plain": [
       "   V  B\n",
       "0  1  3\n",
       "1  2  4"
      ]
     },
     "execution_count": 40,
     "metadata": {},
     "output_type": "execute_result"
    }
   ],
   "source": [
    "ds_from_dict.rename({'a': 'V', 'b': 'B'})"
   ]
  },
  {
   "cell_type": "markdown",
   "id": "46249c33e39f1d63",
   "metadata": {
    "collapsed": false
   },
   "source": [
    "# Eperiment Data"
   ]
  },
  {
   "cell_type": "code",
   "execution_count": 36,
   "id": "9481bf629070a745",
   "metadata": {
    "ExecuteTime": {
     "end_time": "2024-05-21T13:54:59.007636300Z",
     "start_time": "2024-05-21T13:54:58.451395Z"
    },
    "collapsed": false
   },
   "outputs": [],
   "source": [
    "ed = ExperimentData(ds)"
   ]
  },
  {
   "cell_type": "code",
   "execution_count": 37,
   "id": "bda9d8e1a98f0d32",
   "metadata": {
    "ExecuteTime": {
     "end_time": "2024-05-21T13:54:59.032410600Z",
     "start_time": "2024-05-21T13:54:58.481704900Z"
    },
    "collapsed": false
   },
   "outputs": [
    {
     "data": {
      "text/plain": [
       "Empty DataFrame\n",
       "Columns: []\n",
       "Index: [0, 1, 2]"
      ]
     },
     "execution_count": 37,
     "metadata": {},
     "output_type": "execute_result"
    }
   ],
   "source": [
    "ed.additional_fields"
   ]
  },
  {
   "cell_type": "code",
   "execution_count": 38,
   "id": "60d26bb9b16cdc69",
   "metadata": {
    "ExecuteTime": {
     "end_time": "2024-05-21T13:54:59.036405300Z",
     "start_time": "2024-05-21T13:54:58.516531900Z"
    },
    "collapsed": false
   },
   "outputs": [
    {
     "data": {
      "text/plain": [
       "Empty DataFrame\n",
       "Columns: []\n",
       "Index: [0, 1, 2]"
      ]
     },
     "execution_count": 38,
     "metadata": {},
     "output_type": "execute_result"
    }
   ],
   "source": [
    "ed.additional_fields.loc[:, :]"
   ]
  },
  {
   "cell_type": "code",
   "execution_count": null,
   "id": "408859630a51c6",
   "metadata": {
    "ExecuteTime": {
     "end_time": "2024-05-21T13:54:59.057402600Z",
     "start_time": "2024-05-21T13:54:58.559866200Z"
    },
    "collapsed": false
   },
   "outputs": [],
   "source": []
  }
 ],
 "metadata": {
  "hide_input": false,
  "kernelspec": {
   "display_name": "Python 3 (ipykernel)",
   "language": "python",
   "name": "python3"
  },
  "language_info": {
   "codemirror_mode": {
    "name": "ipython",
    "version": 3
   },
   "file_extension": ".py",
   "mimetype": "text/x-python",
   "name": "python",
   "nbconvert_exporter": "python",
   "pygments_lexer": "ipython3",
   "version": "3.10.13"
  },
  "nbTranslate": {
   "displayLangs": [
    "*"
   ],
   "hotkey": "alt-t",
   "langInMainMenu": true,
   "sourceLang": "en",
   "targetLang": "fr",
   "useGoogleTranslate": true
  },
  "toc": {
   "base_numbering": 1,
   "nav_menu": {},
   "number_sections": true,
   "sideBar": true,
   "skip_h1_title": false,
   "title_cell": "Table of Contents",
   "title_sidebar": "Contents",
   "toc_cell": false,
   "toc_position": {},
   "toc_section_display": true,
   "toc_window_display": false
  },
  "varInspector": {
   "cols": {
    "lenName": 16,
    "lenType": 16,
    "lenVar": 40
   },
   "kernels_config": {
    "python": {
     "delete_cmd_postfix": "",
     "delete_cmd_prefix": "del ",
     "library": "var_list.py",
     "varRefreshCmd": "print(var_dic_list())"
    },
    "r": {
     "delete_cmd_postfix": ") ",
     "delete_cmd_prefix": "rm(",
     "library": "var_list.r",
     "varRefreshCmd": "cat(var_dic_list()) "
    }
   },
   "types_to_exclude": [
    "module",
    "function",
    "builtin_function_or_method",
    "instance",
    "_Feature"
   ],
   "window_display": false
  }
 },
 "nbformat": 4,
 "nbformat_minor": 5
}

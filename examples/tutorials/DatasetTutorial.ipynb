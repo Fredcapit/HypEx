{
 "cells": [
  {
   "cell_type": "code",
   "execution_count": 1,
   "id": "initial_id",
   "metadata": {
    "collapsed": true,
    "ExecuteTime": {
     "end_time": "2024-07-01T08:32:08.047264500Z",
     "start_time": "2024-07-01T08:32:06.589137500Z"
    }
   },
   "outputs": [],
   "source": [
    "import pandas as pd\n",
    "\n",
    "from hypex.dataset.dataset import Dataset, ExperimentData\n",
    "from hypex.dataset.roles import *"
   ]
  },
  {
   "cell_type": "markdown",
   "id": "17fbe750",
   "metadata": {},
   "source": [
    "# Dataset\n",
    "\n"
   ]
  },
  {
   "cell_type": "code",
   "execution_count": 2,
   "id": "d62d93cc5561f412",
   "metadata": {
    "collapsed": false,
    "ExecuteTime": {
     "end_time": "2024-07-01T08:32:08.115976100Z",
     "start_time": "2024-07-01T08:32:08.055279900Z"
    }
   },
   "outputs": [
    {
     "data": {
      "text/plain": "   a    b\n0  1  4.0\n1  2  5.0\n2  3  6.0"
     },
     "execution_count": 2,
     "metadata": {},
     "output_type": "execute_result"
    }
   ],
   "source": [
    "df = pd.DataFrame({'a': [1, 2, 3], 'b': [4, 5, 6]})\n",
    "\n",
    "ds = Dataset({'a': TargetRole(), 'b': TargetRole(float)}, data=df)\n",
    "ds"
   ]
  },
  {
   "cell_type": "code",
   "execution_count": 3,
   "id": "6546578e36d2522d",
   "metadata": {
    "collapsed": false,
    "ExecuteTime": {
     "end_time": "2024-07-01T08:32:08.211701800Z",
     "start_time": "2024-07-01T08:32:08.104451300Z"
    }
   },
   "outputs": [
    {
     "data": {
      "text/plain": "{'a': Target(<class 'int'>), 'b': Target(<class 'float'>)}"
     },
     "execution_count": 3,
     "metadata": {},
     "output_type": "execute_result"
    }
   ],
   "source": [
    "ds.roles"
   ]
  },
  {
   "cell_type": "code",
   "execution_count": 4,
   "id": "243c84fd545c9117",
   "metadata": {
    "collapsed": false,
    "ExecuteTime": {
     "end_time": "2024-07-01T08:32:08.216256Z",
     "start_time": "2024-07-01T08:32:08.136393600Z"
    }
   },
   "outputs": [
    {
     "data": {
      "text/plain": "['a']"
     },
     "execution_count": 4,
     "metadata": {},
     "output_type": "execute_result"
    }
   ],
   "source": [
    "ds.search_columns(TargetRole(), search_types=[int])"
   ]
  },
  {
   "cell_type": "code",
   "execution_count": 5,
   "id": "994ca789a6524c3a",
   "metadata": {
    "collapsed": false,
    "ExecuteTime": {
     "end_time": "2024-07-01T08:32:08.309620100Z",
     "start_time": "2024-07-01T08:32:08.173392Z"
    }
   },
   "outputs": [
    {
     "data": {
      "text/plain": "   a\n0  1\n1  2\n2  3"
     },
     "execution_count": 5,
     "metadata": {},
     "output_type": "execute_result"
    }
   ],
   "source": [
    "ds['a']"
   ]
  },
  {
   "cell_type": "code",
   "execution_count": 6,
   "id": "d2a69656d09fda08",
   "metadata": {
    "collapsed": false,
    "ExecuteTime": {
     "end_time": "2024-07-01T08:32:08.315252200Z",
     "start_time": "2024-07-01T08:32:08.223258600Z"
    }
   },
   "outputs": [
    {
     "data": {
      "text/plain": "     a    b\nmin  1  4.0"
     },
     "execution_count": 6,
     "metadata": {},
     "output_type": "execute_result"
    }
   ],
   "source": [
    "ds.min()"
   ]
  },
  {
   "cell_type": "code",
   "execution_count": 7,
   "id": "e156b5587bc08370",
   "metadata": {
    "collapsed": false,
    "ExecuteTime": {
     "end_time": "2024-07-01T08:32:08.390542200Z",
     "start_time": "2024-07-01T08:32:08.253535400Z"
    }
   },
   "outputs": [
    {
     "data": {
      "text/plain": "     1\na  2.0\nb  5.0"
     },
     "execution_count": 7,
     "metadata": {},
     "output_type": "execute_result"
    }
   ],
   "source": [
    "ds[1]"
   ]
  },
  {
   "cell_type": "code",
   "execution_count": 8,
   "id": "8973eeface0fac20",
   "metadata": {
    "collapsed": false,
    "ExecuteTime": {
     "end_time": "2024-07-01T08:32:08.415240400Z",
     "start_time": "2024-07-01T08:32:08.288523400Z"
    }
   },
   "outputs": [
    {
     "data": {
      "text/plain": "   1\na  2"
     },
     "execution_count": 8,
     "metadata": {},
     "output_type": "execute_result"
    }
   ],
   "source": [
    "ds['a'][1]"
   ]
  },
  {
   "cell_type": "code",
   "execution_count": 9,
   "id": "dc77d7f3be4de04c",
   "metadata": {
    "collapsed": false,
    "ExecuteTime": {
     "end_time": "2024-07-01T08:32:08.432056400Z",
     "start_time": "2024-07-01T08:32:08.319776100Z"
    }
   },
   "outputs": [
    {
     "data": {
      "text/plain": "    a    b\n0 NaN  4.0\n1 NaN  NaN\n2 NaN  NaN",
      "text/html": "<div>\n<style scoped>\n    .dataframe tbody tr th:only-of-type {\n        vertical-align: middle;\n    }\n\n    .dataframe tbody tr th {\n        vertical-align: top;\n    }\n\n    .dataframe thead th {\n        text-align: right;\n    }\n</style>\n<table border=\"1\" class=\"dataframe\">\n  <thead>\n    <tr style=\"text-align: right;\">\n      <th></th>\n      <th>a</th>\n      <th>b</th>\n    </tr>\n  </thead>\n  <tbody>\n    <tr>\n      <th>0</th>\n      <td>NaN</td>\n      <td>4.0</td>\n    </tr>\n    <tr>\n      <th>1</th>\n      <td>NaN</td>\n      <td>NaN</td>\n    </tr>\n    <tr>\n      <th>2</th>\n      <td>NaN</td>\n      <td>NaN</td>\n    </tr>\n  </tbody>\n</table>\n</div>"
     },
     "execution_count": 9,
     "metadata": {},
     "output_type": "execute_result"
    }
   ],
   "source": [
    "ds.data[ds.data[['a', 'b']] == 4]"
   ]
  },
  {
   "cell_type": "code",
   "execution_count": 10,
   "id": "a7227bd576d1cc6d",
   "metadata": {
    "collapsed": false,
    "ExecuteTime": {
     "end_time": "2024-07-01T08:32:08.490657900Z",
     "start_time": "2024-07-01T08:32:08.348089900Z"
    }
   },
   "outputs": [
    {
     "data": {
      "text/plain": "    a    b\n0 NaN  4.0\n1 NaN  NaN\n2 NaN  NaN"
     },
     "execution_count": 10,
     "metadata": {},
     "output_type": "execute_result"
    }
   ],
   "source": [
    "ds[ds[['a', 'b']] == 4]"
   ]
  },
  {
   "cell_type": "code",
   "execution_count": 11,
   "id": "9904c0182a9497ca",
   "metadata": {
    "collapsed": false,
    "ExecuteTime": {
     "end_time": "2024-07-01T08:32:08.526187900Z",
     "start_time": "2024-07-01T08:32:08.380543800Z"
    }
   },
   "outputs": [
    {
     "data": {
      "text/plain": "   a    b  c\n0  1  4.0  7\n1  2  5.0  8\n2  3  6.0  9"
     },
     "execution_count": 11,
     "metadata": {},
     "output_type": "execute_result"
    }
   ],
   "source": [
    "ds.add_column([7, 8, 9], {'c': TargetRole(int)})\n",
    "ds"
   ]
  },
  {
   "cell_type": "code",
   "execution_count": 12,
   "id": "fb1f19b7d8748ede",
   "metadata": {
    "collapsed": false,
    "ExecuteTime": {
     "end_time": "2024-07-01T08:32:08.547430800Z",
     "start_time": "2024-07-01T08:32:08.394556600Z"
    }
   },
   "outputs": [
    {
     "data": {
      "text/plain": "   a\n0  2\n1  4\n2  6"
     },
     "execution_count": 12,
     "metadata": {},
     "output_type": "execute_result"
    }
   ],
   "source": [
    "ds['a'].map(lambda x: x * 2)"
   ]
  },
  {
   "cell_type": "code",
   "execution_count": 13,
   "id": "a90d7ac62c8f4d50",
   "metadata": {
    "collapsed": false,
    "ExecuteTime": {
     "end_time": "2024-07-01T08:32:08.568464200Z",
     "start_time": "2024-07-01T08:32:08.426726Z"
    }
   },
   "outputs": [
    {
     "data": {
      "text/plain": "{'a': array([1, 2, 3]),\n 'b': array([4., 5., 6.]),\n 'c': array([7, 8, 9], dtype=int64)}"
     },
     "execution_count": 13,
     "metadata": {},
     "output_type": "execute_result"
    }
   ],
   "source": [
    "ds.unique()"
   ]
  },
  {
   "cell_type": "code",
   "execution_count": 14,
   "id": "df920b127dc678dc",
   "metadata": {
    "collapsed": false,
    "ExecuteTime": {
     "end_time": "2024-07-01T08:32:08.683683400Z",
     "start_time": "2024-07-01T08:32:08.447288100Z"
    }
   },
   "outputs": [
    {
     "data": {
      "text/plain": "    new\n0  15.0\n1  17.0\n2  19.0"
     },
     "execution_count": 14,
     "metadata": {},
     "output_type": "execute_result"
    }
   ],
   "source": [
    "ds.apply(func=lambda x: x['a'] + x['c'] + 7, role={\"new\": InfoRole()}, axis=1)"
   ]
  },
  {
   "cell_type": "code",
   "execution_count": 15,
   "id": "3845bd47a4f4853d",
   "metadata": {
    "collapsed": false,
    "ExecuteTime": {
     "end_time": "2024-07-01T08:32:08.684685800Z",
     "start_time": "2024-07-01T08:32:08.471598100Z"
    }
   },
   "outputs": [
    {
     "name": "stdout",
     "output_type": "stream",
     "text": [
      "{'a': Target(<class 'int'>), 'b': Target(<class 'float'>), 'c': Target(<class 'int'>)}\n"
     ]
    }
   ],
   "source": [
    "print(ds.roles)"
   ]
  },
  {
   "cell_type": "code",
   "execution_count": 16,
   "id": "d8970e778f0f4448",
   "metadata": {
    "collapsed": false,
    "ExecuteTime": {
     "end_time": "2024-07-01T08:32:08.724280600Z",
     "start_time": "2024-07-01T08:32:08.489654300Z"
    }
   },
   "outputs": [
    {
     "data": {
      "text/plain": "   a    b  c   new\n0  1  4.0  7  15.0\n1  2  5.0  8  17.0\n2  3  6.0  9  19.0"
     },
     "execution_count": 16,
     "metadata": {},
     "output_type": "execute_result"
    }
   ],
   "source": [
    "ds.add_column(ds.apply(func=lambda x: x['a'] + x['c'] + 7, role={\"new\": InfoRole()}, axis=1))\n",
    "ds"
   ]
  },
  {
   "cell_type": "code",
   "execution_count": 17,
   "id": "fc481e8de1882c03",
   "metadata": {
    "collapsed": false,
    "ExecuteTime": {
     "end_time": "2024-07-01T08:32:08.746179100Z",
     "start_time": "2024-07-01T08:32:08.520522900Z"
    }
   },
   "outputs": [
    {
     "data": {
      "text/plain": "{'a': Target(<class 'int'>),\n 'b': Target(<class 'float'>),\n 'c': Target(<class 'int'>),\n 'new': Info(<class 'float'>)}"
     },
     "execution_count": 17,
     "metadata": {},
     "output_type": "execute_result"
    }
   ],
   "source": [
    "ds.roles"
   ]
  },
  {
   "cell_type": "code",
   "execution_count": 18,
   "id": "ee6e13c96f86ffed",
   "metadata": {
    "collapsed": false,
    "ExecuteTime": {
     "end_time": "2024-07-01T08:32:08.762115800Z",
     "start_time": "2024-07-01T08:32:08.537435400Z"
    }
   },
   "outputs": [
    {
     "data": {
      "text/plain": "   a    b  c   new  f\n0  1  4.0  7  15.0  8\n1  2  5.0  8  17.0  9\n2  3  6.0  9  19.0  7"
     },
     "execution_count": 18,
     "metadata": {},
     "output_type": "execute_result"
    }
   ],
   "source": [
    "ds.add_column([7, 8, 9], {'f': TargetRole(int)}, index=[2, 0, 1])"
   ]
  },
  {
   "cell_type": "code",
   "execution_count": 19,
   "id": "128c0acf047ffc64",
   "metadata": {
    "collapsed": false,
    "ExecuteTime": {
     "end_time": "2024-07-01T08:32:08.773804200Z",
     "start_time": "2024-07-01T08:32:08.550432600Z"
    }
   },
   "outputs": [
    {
     "data": {
      "text/plain": "   a    b  c   new  f\n0  1  4.0  7  15.0  8\n1  2  5.0  8  17.0  9\n2  3  6.0  9  19.0  7"
     },
     "execution_count": 19,
     "metadata": {},
     "output_type": "execute_result"
    }
   ],
   "source": [
    "ds"
   ]
  },
  {
   "cell_type": "code",
   "execution_count": 20,
   "id": "90c9e7fc06b8472e",
   "metadata": {
    "collapsed": false,
    "ExecuteTime": {
     "end_time": "2024-07-01T08:32:08.782806700Z",
     "start_time": "2024-07-01T08:32:08.568464200Z"
    }
   },
   "outputs": [
    {
     "name": "stderr",
     "output_type": "stream",
     "text": [
      "C:\\Users\\User\\PycharmProjects\\HypEx\\hypex\\dataset\\dataset.py:102: SyntaxWarning: Column must be added by add_column\n",
      "  warnings.warn(\"Column must be added by add_column\", category=SyntaxWarning)\n"
     ]
    },
    {
     "data": {
      "text/plain": "   a    b  c   new  f  e\n0  1  4.0  7  15.0  8  1\n1  2  5.0  8  17.0  9  2\n2  3  6.0  9  19.0  7  3"
     },
     "execution_count": 20,
     "metadata": {},
     "output_type": "execute_result"
    }
   ],
   "source": [
    "ds['e'] = [1, 2, 3]\n",
    "ds"
   ]
  },
  {
   "cell_type": "code",
   "execution_count": 21,
   "id": "b036d6de0a00ad8",
   "metadata": {
    "collapsed": false,
    "ExecuteTime": {
     "end_time": "2024-07-01T08:32:08.794942500Z",
     "start_time": "2024-07-01T08:32:08.599380200Z"
    }
   },
   "outputs": [
    {
     "data": {
      "text/plain": "   a    b  c   new  f  e\n0  1  4.0  7  15.0  8  1\n1  2  5.0  8  17.0  9  2\n2  3  6.0  9  19.0  7  3"
     },
     "execution_count": 21,
     "metadata": {},
     "output_type": "execute_result"
    }
   ],
   "source": [
    "ds['a'][1] = 1\n",
    "ds"
   ]
  },
  {
   "cell_type": "code",
   "execution_count": 22,
   "id": "c27dce96fef8ed56",
   "metadata": {
    "collapsed": false,
    "ExecuteTime": {
     "end_time": "2024-07-01T08:32:08.915219300Z",
     "start_time": "2024-07-01T08:32:08.616014600Z"
    }
   },
   "outputs": [
    {
     "data": {
      "text/plain": "       a      b      c    new      f      e\n0  False  False  False  False   True  False\n1  False  False   True  False  False  False\n2   True  False  False  False  False   True"
     },
     "execution_count": 22,
     "metadata": {},
     "output_type": "execute_result"
    }
   ],
   "source": [
    "ds.isin([3, 8])"
   ]
  },
  {
   "cell_type": "code",
   "execution_count": 23,
   "id": "86adbae2c4f153a4",
   "metadata": {
    "collapsed": false,
    "ExecuteTime": {
     "end_time": "2024-07-01T08:32:08.960279Z",
     "start_time": "2024-07-01T08:32:08.646017700Z"
    }
   },
   "outputs": [
    {
     "data": {
      "text/plain": "{'a': Target(<class 'int'>),\n 'b': Target(<class 'float'>),\n 'c': Target(<class 'int'>),\n 'new': Info(<class 'float'>),\n 'f': Target(<class 'int'>),\n 'e': Info(None)}"
     },
     "execution_count": 23,
     "metadata": {},
     "output_type": "execute_result"
    }
   ],
   "source": [
    "ds.roles"
   ]
  },
  {
   "cell_type": "code",
   "execution_count": 24,
   "id": "298d0e9eb0e93232",
   "metadata": {
    "collapsed": false,
    "ExecuteTime": {
     "end_time": "2024-07-01T08:32:09.151794700Z",
     "start_time": "2024-07-01T08:32:08.662074700Z"
    }
   },
   "outputs": [
    {
     "name": "stdout",
     "output_type": "stream",
     "text": [
      "[(1,         a    b    c   new    f    e\n",
      "mean  1.0  4.0  7.0  15.0  8.0  1.0), (2,         a    b    c   new    f    e\n",
      "mean  2.0  5.0  8.0  17.0  9.0  2.0), (3,         a    b    c   new    f    e\n",
      "mean  3.0  6.0  9.0  19.0  7.0  3.0)]\n"
     ]
    }
   ],
   "source": [
    "groups_func = ds.groupby('a', func='mean')\n",
    "print(groups_func)"
   ]
  },
  {
   "cell_type": "code",
   "execution_count": 25,
   "id": "3692a9da2cca79fa",
   "metadata": {
    "collapsed": false,
    "ExecuteTime": {
     "end_time": "2024-07-01T08:32:09.269001600Z",
     "start_time": "2024-07-01T08:32:08.818650500Z"
    }
   },
   "outputs": [
    {
     "name": "stdout",
     "output_type": "stream",
     "text": [
      "[(1,    a    b  c   new  f  e\n",
      "0  1  4.0  7  15.0  8  1), (2,    a    b  c   new  f  e\n",
      "1  2  5.0  8  17.0  9  2), (3,    a    b  c   new  f  e\n",
      "2  3  6.0  9  19.0  7  3)]\n"
     ]
    }
   ],
   "source": [
    "groups = ds.groupby('a')\n",
    "print(groups)"
   ]
  },
  {
   "cell_type": "code",
   "execution_count": 26,
   "id": "676c931b395d054c",
   "metadata": {
    "collapsed": false,
    "ExecuteTime": {
     "end_time": "2024-07-01T08:32:09.314398700Z",
     "start_time": "2024-07-01T08:32:08.900301Z"
    }
   },
   "outputs": [
    {
     "name": "stdout",
     "output_type": "stream",
     "text": [
      "[(1,         e\n",
      "mean  1.0\n",
      "var   NaN), (2,         e\n",
      "mean  2.0\n",
      "var   NaN), (3,         e\n",
      "mean  3.0\n",
      "var   NaN)]\n"
     ]
    }
   ],
   "source": [
    "groups_func_fields = ds.groupby('a', func=['mean', 'var'], fields_list='e')\n",
    "print(groups_func_fields)"
   ]
  },
  {
   "cell_type": "code",
   "execution_count": 27,
   "id": "464acaad9c35c0b9",
   "metadata": {
    "collapsed": false,
    "ExecuteTime": {
     "end_time": "2024-07-01T08:32:09.328869700Z",
     "start_time": "2024-07-01T08:32:08.989290400Z"
    }
   },
   "outputs": [
    {
     "data": {
      "text/plain": "        a     b     c   new     f    e\nsum   6.0  15.0  24.0  51.0  24.0  6.0\nmean  2.0   5.0   8.0  17.0   8.0  2.0"
     },
     "execution_count": 27,
     "metadata": {},
     "output_type": "execute_result"
    }
   ],
   "source": [
    "ds.agg(['sum', 'mean'])"
   ]
  },
  {
   "cell_type": "code",
   "execution_count": 28,
   "id": "8ddda807bea6a4d0",
   "metadata": {
    "collapsed": false,
    "ExecuteTime": {
     "end_time": "2024-07-01T08:32:09.333156900Z",
     "start_time": "2024-07-01T08:32:09.089486700Z"
    }
   },
   "outputs": [
    {
     "data": {
      "text/plain": "        a    b    c   new    f    e\nmean  2.0  5.0  8.0  17.0  8.0  2.0"
     },
     "execution_count": 28,
     "metadata": {},
     "output_type": "execute_result"
    }
   ],
   "source": [
    "ds.mean()"
   ]
  },
  {
   "cell_type": "code",
   "execution_count": 29,
   "id": "2cb4974f8918f263",
   "metadata": {
    "collapsed": false,
    "ExecuteTime": {
     "end_time": "2024-07-01T08:32:09.356189100Z",
     "start_time": "2024-07-01T08:32:09.143805900Z"
    }
   },
   "outputs": [],
   "source": [
    "ds_empty = Dataset.create_empty()"
   ]
  },
  {
   "cell_type": "code",
   "execution_count": 30,
   "id": "d4391fdaa3654cc0",
   "metadata": {
    "collapsed": false,
    "ExecuteTime": {
     "end_time": "2024-07-01T08:32:09.368359900Z",
     "start_time": "2024-07-01T08:32:09.159977500Z"
    }
   },
   "outputs": [
    {
     "data": {
      "text/plain": "Index([], dtype='object')"
     },
     "execution_count": 30,
     "metadata": {},
     "output_type": "execute_result"
    }
   ],
   "source": [
    "ds_empty.columns"
   ]
  },
  {
   "cell_type": "code",
   "execution_count": 31,
   "id": "fafc1d29ad660762",
   "metadata": {
    "collapsed": false,
    "ExecuteTime": {
     "end_time": "2024-07-01T08:32:09.466280100Z",
     "start_time": "2024-07-01T08:32:09.178646500Z"
    }
   },
   "outputs": [
    {
     "data": {
      "text/plain": "Empty DataFrame\nColumns: []\nIndex: []"
     },
     "execution_count": 31,
     "metadata": {},
     "output_type": "execute_result"
    }
   ],
   "source": [
    "ds_empty.backend"
   ]
  },
  {
   "cell_type": "code",
   "execution_count": 32,
   "id": "6bd53eb114a3facf",
   "metadata": {
    "collapsed": false,
    "ExecuteTime": {
     "end_time": "2024-07-01T08:32:09.498043700Z",
     "start_time": "2024-07-01T08:32:09.221938300Z"
    }
   },
   "outputs": [],
   "source": [
    "ds_from_dict = Dataset.from_dict({'a': [1, 2], 'b': [3, 4]}, {'a': TargetRole(), 'b': InfoRole()})"
   ]
  },
  {
   "cell_type": "code",
   "execution_count": 33,
   "id": "7f97f4ca4db12c8",
   "metadata": {
    "collapsed": false,
    "ExecuteTime": {
     "end_time": "2024-07-01T08:32:09.521578300Z",
     "start_time": "2024-07-01T08:32:09.253157700Z"
    }
   },
   "outputs": [
    {
     "data": {
      "text/plain": "   a  b\n0  1  3\n1  2  4"
     },
     "execution_count": 33,
     "metadata": {},
     "output_type": "execute_result"
    }
   ],
   "source": [
    "ds_from_dict"
   ]
  },
  {
   "cell_type": "code",
   "execution_count": 34,
   "id": "f84e59b392c1733e",
   "metadata": {
    "collapsed": false,
    "ExecuteTime": {
     "end_time": "2024-07-01T08:32:09.539556Z",
     "start_time": "2024-07-01T08:32:09.301879600Z"
    }
   },
   "outputs": [
    {
     "data": {
      "text/plain": "{'a': Target(None), 'b': Info(None)}"
     },
     "execution_count": 34,
     "metadata": {},
     "output_type": "execute_result"
    }
   ],
   "source": [
    "ds_from_dict.roles"
   ]
  },
  {
   "cell_type": "code",
   "execution_count": 35,
   "id": "520e132c1b89ba91",
   "metadata": {
    "collapsed": false,
    "ExecuteTime": {
     "end_time": "2024-07-01T08:32:09.563552900Z",
     "start_time": "2024-07-01T08:32:09.317419700Z"
    }
   },
   "outputs": [
    {
     "data": {
      "text/plain": "   a    b  c   new  f  e\n0  1  4.0  7  15.0  8  1\n1  2  5.0  8  17.0  9  2\n2  3  6.0  9  19.0  7  3"
     },
     "execution_count": 35,
     "metadata": {},
     "output_type": "execute_result"
    }
   ],
   "source": [
    "ds"
   ]
  },
  {
   "cell_type": "code",
   "execution_count": 36,
   "id": "db7750a4a24492ef",
   "metadata": {
    "collapsed": false,
    "ExecuteTime": {
     "end_time": "2024-07-01T08:32:09.590553600Z",
     "start_time": "2024-07-01T08:32:09.349157Z"
    }
   },
   "outputs": [
    {
     "data": {
      "text/plain": "   a    b  c   new  f  e\n0  1  4.0  7  15.0  8  1\n1  2  5.0  8  17.0  9  2\n2  3  6.0  9  19.0  7  3\n0  1  4.0  7  15.0  8  1\n1  2  5.0  8  17.0  9  2\n2  3  6.0  9  19.0  7  3"
     },
     "execution_count": 36,
     "metadata": {},
     "output_type": "execute_result"
    }
   ],
   "source": [
    "ds.append(ds)"
   ]
  },
  {
   "cell_type": "code",
   "outputs": [
    {
     "data": {
      "text/plain": "   a    b  c   new  f  e\n2  3  6.0  9  19.0  7  3"
     },
     "execution_count": 37,
     "metadata": {},
     "output_type": "execute_result"
    }
   ],
   "source": [
    "ds.drop([0, 1], axis=0)"
   ],
   "metadata": {
    "collapsed": false,
    "ExecuteTime": {
     "end_time": "2024-07-01T08:32:09.699912500Z",
     "start_time": "2024-07-01T08:32:09.398154900Z"
    }
   },
   "id": "e25170f40c143bb5",
   "execution_count": 37
  },
  {
   "cell_type": "code",
   "execution_count": 38,
   "id": "4804ad51ce834889",
   "metadata": {
    "collapsed": false,
    "ExecuteTime": {
     "end_time": "2024-07-01T08:32:09.720836900Z",
     "start_time": "2024-07-01T08:32:09.441603400Z"
    }
   },
   "outputs": [
    {
     "data": {
      "text/plain": "{'a': Target(None), 'b': Info(None)}"
     },
     "metadata": {},
     "output_type": "display_data"
    },
    {
     "data": {
      "text/plain": "   V  B\n0  1  3\n1  2  4"
     },
     "execution_count": 38,
     "metadata": {},
     "output_type": "execute_result"
    }
   ],
   "source": [
    "display(ds_from_dict.roles)\n",
    "ds_from_dict.rename({'b': 'B', 'a': 'V'})"
   ]
  },
  {
   "cell_type": "markdown",
   "id": "6228fd7283c1c424",
   "metadata": {
    "collapsed": false
   },
   "source": [
    "# Eperiment Data"
   ]
  },
  {
   "cell_type": "code",
   "execution_count": 39,
   "id": "dc8b08a641e66fbe",
   "metadata": {
    "collapsed": false,
    "ExecuteTime": {
     "end_time": "2024-07-01T08:32:09.723259100Z",
     "start_time": "2024-07-01T08:32:09.474306200Z"
    }
   },
   "outputs": [],
   "source": [
    "ed = ExperimentData(ds)"
   ]
  },
  {
   "cell_type": "code",
   "execution_count": 40,
   "id": "6789d27ac86f5291",
   "metadata": {
    "collapsed": false,
    "ExecuteTime": {
     "end_time": "2024-07-01T08:32:09.734129800Z",
     "start_time": "2024-07-01T08:32:09.488578800Z"
    }
   },
   "outputs": [
    {
     "data": {
      "text/plain": "Empty DataFrame\nColumns: []\nIndex: [0, 1, 2]"
     },
     "execution_count": 40,
     "metadata": {},
     "output_type": "execute_result"
    }
   ],
   "source": [
    "ed.additional_fields"
   ]
  },
  {
   "cell_type": "code",
   "execution_count": 41,
   "id": "d36cf89d2e5ed478",
   "metadata": {
    "collapsed": false,
    "ExecuteTime": {
     "end_time": "2024-07-01T08:32:09.747474400Z",
     "start_time": "2024-07-01T08:32:09.513581500Z"
    }
   },
   "outputs": [
    {
     "data": {
      "text/plain": "Empty DataFrame\nColumns: []\nIndex: [0, 1, 2]"
     },
     "execution_count": 41,
     "metadata": {},
     "output_type": "execute_result"
    }
   ],
   "source": [
    "ed.additional_fields.loc[:, :]"
   ]
  },
  {
   "cell_type": "code",
   "outputs": [],
   "source": [],
   "metadata": {
    "collapsed": false,
    "ExecuteTime": {
     "end_time": "2024-07-01T08:32:09.750724500Z",
     "start_time": "2024-07-01T08:32:09.535022500Z"
    }
   },
   "id": "4e02406f51a7fd51",
   "execution_count": 41
  },
  {
   "cell_type": "code",
   "outputs": [],
   "source": [
    "s = pd.Series([1, 2, 3, 4, 5], index=[0, 2, 3, 4, 5]) \n",
    "s = Dataset(roles={}, data=pd.DataFrame(s)) "
   ],
   "metadata": {
    "collapsed": false,
    "ExecuteTime": {
     "end_time": "2024-07-01T08:48:11.318026100Z",
     "start_time": "2024-07-01T08:48:11.238662Z"
    }
   },
   "id": "c583d881a6cbf1eb",
   "execution_count": 62
  },
  {
   "cell_type": "code",
   "outputs": [],
   "source": [
    "s = s.reindex(range(min(s.index), max(s.index)+1), fill_value=0.1)"
   ],
   "metadata": {
    "collapsed": false,
    "ExecuteTime": {
     "end_time": "2024-07-01T08:48:12.421721800Z",
     "start_time": "2024-07-01T08:48:12.382151500Z"
    }
   },
   "id": "f5a04e7e41a5b451",
   "execution_count": 63
  },
  {
   "cell_type": "code",
   "outputs": [
    {
     "data": {
      "text/plain": "[1, 0, 2, 3, 4, 5]"
     },
     "execution_count": 69,
     "metadata": {},
     "output_type": "execute_result"
    }
   ],
   "source": [
    "list(map(lambda x: x[0], s.get_values()))"
   ],
   "metadata": {
    "collapsed": false,
    "ExecuteTime": {
     "end_time": "2024-07-01T08:48:46.172932Z",
     "start_time": "2024-07-01T08:48:46.125205900Z"
    }
   },
   "id": "3d1c94dd202e7607",
   "execution_count": 69
  },
  {
   "cell_type": "code",
   "outputs": [
    {
     "data": {
      "text/plain": "   0\n1  0\n0  1\n2  2\n4  4\n5  5"
     },
     "execution_count": 68,
     "metadata": {},
     "output_type": "execute_result"
    }
   ],
   "source": [
    "s.iloc[[1, 0, 2, 4, 5]]"
   ],
   "metadata": {
    "collapsed": false,
    "ExecuteTime": {
     "end_time": "2024-07-01T08:48:42.334857200Z",
     "start_time": "2024-07-01T08:48:42.229325400Z"
    }
   },
   "id": "451fe62635ea344b",
   "execution_count": 68
  },
  {
   "cell_type": "code",
   "outputs": [
    {
     "data": {
      "text/plain": "   0\n1  0\n0  1\n2  2\n3  3\n4  4\n5  5"
     },
     "execution_count": 70,
     "metadata": {},
     "output_type": "execute_result"
    }
   ],
   "source": [
    "s.iloc[list(map(lambda x: x[0], s.get_values()))]"
   ],
   "metadata": {
    "collapsed": false,
    "ExecuteTime": {
     "end_time": "2024-07-01T08:48:54.939596800Z",
     "start_time": "2024-07-01T08:48:54.891182600Z"
    }
   },
   "id": "1b7d055abab1a81f",
   "execution_count": 70
  }
 ],
 "metadata": {
  "hide_input": false,
  "kernelspec": {
   "display_name": "Python 3 (ipykernel)",
   "language": "python",
   "name": "python3"
  },
  "language_info": {
   "codemirror_mode": {
    "name": "ipython",
    "version": 3
   },
   "file_extension": ".py",
   "mimetype": "text/x-python",
   "name": "python",
   "nbconvert_exporter": "python",
   "pygments_lexer": "ipython3",
   "version": "3.10.13"
  },
  "nbTranslate": {
   "displayLangs": [
    "*"
   ],
   "hotkey": "alt-t",
   "langInMainMenu": true,
   "sourceLang": "en",
   "targetLang": "fr",
   "useGoogleTranslate": true
  },
  "toc": {
   "base_numbering": 1,
   "nav_menu": {},
   "number_sections": true,
   "sideBar": true,
   "skip_h1_title": false,
   "title_cell": "Table of Contents",
   "title_sidebar": "Contents",
   "toc_cell": false,
   "toc_position": {},
   "toc_section_display": true,
   "toc_window_display": false
  },
  "varInspector": {
   "cols": {
    "lenName": 16,
    "lenType": 16,
    "lenVar": 40
   },
   "kernels_config": {
    "python": {
     "delete_cmd_postfix": "",
     "delete_cmd_prefix": "del ",
     "library": "var_list.py",
     "varRefreshCmd": "print(var_dic_list())"
    },
    "r": {
     "delete_cmd_postfix": ") ",
     "delete_cmd_prefix": "rm(",
     "library": "var_list.r",
     "varRefreshCmd": "cat(var_dic_list()) "
    }
   },
   "types_to_exclude": [
    "module",
    "function",
    "builtin_function_or_method",
    "instance",
    "_Feature"
   ],
   "window_display": false
  }
 },
 "nbformat": 4,
 "nbformat_minor": 5
}

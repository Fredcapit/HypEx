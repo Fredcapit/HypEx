{
 "cells": [
  {
   "cell_type": "code",
   "id": "initial_id",
   "metadata": {
    "collapsed": true,
    "ExecuteTime": {
     "end_time": "2024-07-03T06:57:22.901912Z",
     "start_time": "2024-07-03T06:57:22.555004Z"
    }
   },
   "source": [
    "import copy\n",
    "\n",
    "import numpy as np\n",
    "import pandas as pd\n",
    "\n",
    "from hypex.dataset.dataset import Dataset, ExperimentData\n",
    "from hypex.dataset.roles import *"
   ],
   "outputs": [],
   "execution_count": 1
  },
  {
   "cell_type": "markdown",
   "id": "17fbe750",
   "metadata": {},
   "source": [
    "# Dataset\n",
    "\n"
   ]
  },
  {
   "metadata": {},
   "cell_type": "markdown",
   "source": [
    "### Create Dataset\n",
    "    Initializes a new instance of the Dataset class.\n",
    "\n",
    "        Args:\n",
    "            roles (Union[Dict[ABCRole, Union[List[Union[str, int]], str, int]], Dict[Union[str, int], ABCRole]]): A dictionary mapping roles to their corresponding column names or types.\n",
    "            data (Optional[Union[pd.DataFrame, str]]): The data to be used for the dataset. Can be either a pandas DataFrame or a file path. Defaults to None.\n",
    "            backend (Optional[BackendsEnum]): The backend to be used for the dataset. Defaults to None.\n",
    "\n",
    "        Returns:\n",
    "            Dataset: The newly created Dataset."
   ],
   "id": "1fab4946fe7c773d"
  },
  {
   "cell_type": "code",
   "id": "d62d93cc5561f412",
   "metadata": {
    "collapsed": false,
    "ExecuteTime": {
     "end_time": "2024-07-03T06:57:23.004430Z",
     "start_time": "2024-07-03T06:57:22.970189Z"
    }
   },
   "source": [
    "df = pd.DataFrame({'a': [1, 2, 3], 'b': [4, 5, 6]})\n",
    "\n",
    "ds = Dataset({'a': TargetRole(), 'b': TargetRole(float)}, data=df)\n",
    "ds"
   ],
   "outputs": [
    {
     "data": {
      "text/plain": [
       "   a  b\n",
       "0  1  4\n",
       "1  2  5\n",
       "2  3  6"
      ]
     },
     "execution_count": 2,
     "metadata": {},
     "output_type": "execute_result"
    }
   ],
   "execution_count": 2
  },
  {
   "metadata": {},
   "cell_type": "markdown",
   "source": [
    "### Roles\n",
    "    Returns the roles of the dataset."
   ],
   "id": "f3e8cb7c8642408c"
  },
  {
   "cell_type": "code",
   "id": "6546578e36d2522d",
   "metadata": {
    "collapsed": false,
    "ExecuteTime": {
     "end_time": "2024-07-03T06:57:23.014139Z",
     "start_time": "2024-07-03T06:57:23.007575Z"
    }
   },
   "source": [
    "ds.roles"
   ],
   "outputs": [
    {
     "data": {
      "text/plain": [
       "{'a': Target(<class 'int'>), 'b': Target(<class 'float'>)}"
      ]
     },
     "execution_count": 3,
     "metadata": {},
     "output_type": "execute_result"
    }
   ],
   "execution_count": 3
  },
  {
   "metadata": {},
   "cell_type": "markdown",
   "source": [
    "### Create empty\n",
    "    Creates an empty Dataset.\n",
    "        Parameters:\n",
    "            backend (BackendsEnum, optional): The backend to use for the Dataset. Defaults to BackendsEnum.pandas.\n",
    "            roles (dict, optional): The roles to assign to the Dataset. Defaults to None.\n",
    "            index (list, optional): The index to use for the Dataset. Defaults to None.\n",
    "        Returns:\n",
    "            Dataset: The newly created empty Dataset."
   ],
   "id": "90940f464fc1cfc4"
  },
  {
   "cell_type": "code",
   "id": "2cb4974f8918f263",
   "metadata": {
    "collapsed": false,
    "ExecuteTime": {
     "end_time": "2024-07-03T06:57:25.483410Z",
     "start_time": "2024-07-03T06:57:25.478771Z"
    }
   },
   "source": [
    "ds_empty = Dataset.create_empty()"
   ],
   "outputs": [],
   "execution_count": 39
  },
  {
   "metadata": {},
   "cell_type": "markdown",
   "source": [
    "### Columns\n",
    "    A property to access the columns in the dataset."
   ],
   "id": "55651d8d498301e7"
  },
  {
   "cell_type": "code",
   "id": "d4391fdaa3654cc0",
   "metadata": {
    "collapsed": false,
    "ExecuteTime": {
     "end_time": "2024-07-03T06:57:25.520746Z",
     "start_time": "2024-07-03T06:57:25.514440Z"
    }
   },
   "source": [
    "ds_empty.columns"
   ],
   "outputs": [
    {
     "data": {
      "text/plain": [
       "Index([], dtype='object')"
      ]
     },
     "execution_count": 40,
     "metadata": {},
     "output_type": "execute_result"
    }
   ],
   "execution_count": 40
  },
  {
   "metadata": {},
   "cell_type": "markdown",
   "source": [
    "### Index\n",
    "    Returns the index of the dataset.\n",
    "\n",
    "        Returns:\n",
    "            Any: The index of the dataset."
   ],
   "id": "4ed91cacb4b2ac9"
  },
  {
   "metadata": {},
   "cell_type": "code",
   "outputs": [
    {
     "data": {
      "text/plain": [
       "RangeIndex(start=0, stop=3, step=1)"
      ]
     },
     "execution_count": 6,
     "metadata": {},
     "output_type": "execute_result"
    }
   ],
   "execution_count": 6,
   "source": "ds.index",
   "id": "ee23ab227e55c3f0"
  },
  {
   "metadata": {},
   "cell_type": "markdown",
   "source": [
    "### Backend\n",
    "    Returns the backend object associated with this instance of the dataset.\n",
    "\n",
    "        Returns:\n",
    "            Backend: The backend object.\n"
   ],
   "id": "f84cc3be41f971cc"
  },
  {
   "metadata": {},
   "cell_type": "code",
   "outputs": [
    {
     "data": {
      "text/plain": [
       "Empty DataFrame\n",
       "Columns: []\n",
       "Index: []"
      ]
     },
     "execution_count": 41,
     "metadata": {},
     "output_type": "execute_result"
    }
   ],
   "execution_count": 41,
   "source": "ds_empty.backend",
   "id": "fafc1d29ad660762"
  },
  {
   "metadata": {},
   "cell_type": "markdown",
   "source": [
    "### Data\n",
    "    Provides the direct access to the data of the _backend object.\n",
    "\n",
    "    Returns:\n",
    "        Any: The data property of the _backend object.\n"
   ],
   "id": "7f623373bd8d24fe"
  },
  {
   "metadata": {},
   "cell_type": "code",
   "outputs": [
    {
     "data": {
      "text/plain": [
       "pandas.core.frame.DataFrame"
      ]
     },
     "execution_count": 7,
     "metadata": {},
     "output_type": "execute_result"
    }
   ],
   "execution_count": 7,
   "source": "type(ds.data)",
   "id": "42bd63636b0c0eb6"
  },
  {
   "metadata": {},
   "cell_type": "code",
   "outputs": [
    {
     "data": {
      "text/plain": [
       "   a  b\n",
       "0  1  4\n",
       "1  2  5\n",
       "2  3  6"
      ],
      "text/html": [
       "<div>\n",
       "<style scoped>\n",
       "    .dataframe tbody tr th:only-of-type {\n",
       "        vertical-align: middle;\n",
       "    }\n",
       "\n",
       "    .dataframe tbody tr th {\n",
       "        vertical-align: top;\n",
       "    }\n",
       "\n",
       "    .dataframe thead th {\n",
       "        text-align: right;\n",
       "    }\n",
       "</style>\n",
       "<table border=\"1\" class=\"dataframe\">\n",
       "  <thead>\n",
       "    <tr style=\"text-align: right;\">\n",
       "      <th></th>\n",
       "      <th>a</th>\n",
       "      <th>b</th>\n",
       "    </tr>\n",
       "  </thead>\n",
       "  <tbody>\n",
       "    <tr>\n",
       "      <th>0</th>\n",
       "      <td>1</td>\n",
       "      <td>4</td>\n",
       "    </tr>\n",
       "    <tr>\n",
       "      <th>1</th>\n",
       "      <td>2</td>\n",
       "      <td>5</td>\n",
       "    </tr>\n",
       "    <tr>\n",
       "      <th>2</th>\n",
       "      <td>3</td>\n",
       "      <td>6</td>\n",
       "    </tr>\n",
       "  </tbody>\n",
       "</table>\n",
       "</div>"
      ]
     },
     "execution_count": 8,
     "metadata": {},
     "output_type": "execute_result"
    }
   ],
   "execution_count": 8,
   "source": "ds.data",
   "id": "a5856534b35b4cc7"
  },
  {
   "metadata": {},
   "cell_type": "markdown",
   "source": "# Dataset Methods",
   "id": "dd883379f7d23af4"
  },
  {
   "metadata": {},
   "cell_type": "markdown",
   "source": [
    "### From dict\n",
    "    Create a new `Dataset` object from a dictionary of data and roles.\n",
    "        Args:\n",
    "            data (FromDictTypes): The data to be converted into a `Dataset`.\n",
    "            roles (Union[Dict[ABCRole, Union[List[Union[str, int]], str, int]], Dict[Union[str, int], ABCRole]]):\n",
    "                A dictionary mapping roles to column names or indices.\n",
    "            backend (BackendsEnum, optional): The backend to use for the `Dataset`. Defaults to `BackendsEnum.pandas`.\n",
    "            index (Any, optional): The index to use for the `Dataset`. Defaults to None.\n",
    "        Returns:\n",
    "            Dataset: A new `Dataset` object created from the data and roles.\n"
   ],
   "id": "8e5498236fa4d635"
  },
  {
   "metadata": {},
   "cell_type": "code",
   "outputs": [],
   "execution_count": 42,
   "source": "ds_from_dict = Dataset.from_dict({'a': [1, 2], 'b': [3, 4]}, {'a': TargetRole(), 'b': InfoRole()})",
   "id": "6bd53eb114a3facf"
  },
  {
   "metadata": {},
   "cell_type": "code",
   "outputs": [
    {
     "data": {
      "text/plain": [
       "   a  b\n",
       "0  1  3\n",
       "1  2  4"
      ]
     },
     "execution_count": 43,
     "metadata": {},
     "output_type": "execute_result"
    }
   ],
   "execution_count": 43,
   "source": "ds_from_dict",
   "id": "7f97f4ca4db12c8"
  },
  {
   "metadata": {},
   "cell_type": "code",
   "outputs": [
    {
     "data": {
      "text/plain": [
       "{'a': Target(None), 'b': Info(None)}"
      ]
     },
     "execution_count": 44,
     "metadata": {},
     "output_type": "execute_result"
    }
   ],
   "execution_count": 44,
   "source": "ds_from_dict.roles",
   "id": "f84e59b392c1733e"
  },
  {
   "metadata": {},
   "cell_type": "code",
   "outputs": [
    {
     "data": {
      "text/plain": [
       "   a  b  c  new  f  e\n",
       "0  1  4  7   15  8  1\n",
       "1  2  5  8   17  9  2\n",
       "2  3  6  9   19  7  3"
      ]
     },
     "execution_count": 45,
     "metadata": {},
     "output_type": "execute_result"
    }
   ],
   "execution_count": 45,
   "source": "ds",
   "id": "520e132c1b89ba91"
  },
  {
   "metadata": {},
   "cell_type": "markdown",
   "source": [
    "### Search Columns\n",
    "    Searches for columns in the dataset based on the given roles.\n",
    "\n",
    "    Args:\n",
    "        roles (Union[ABCRole, Iterable[ABCRole]]): The roles to search for.\n",
    "        tmp_role (bool, optional): Whether to search in temporary roles. Defaults to False.\n",
    "        search_types (Optional[List], optional): The types to search for. Defaults to None.\n",
    "    \n",
    "    Returns:\n",
    "        List[str]: A list of column names matching the given roles."
   ],
   "id": "c380164d6b4e5a67"
  },
  {
   "metadata": {},
   "cell_type": "code",
   "outputs": [
    {
     "data": {
      "text/plain": [
       "['a']"
      ]
     },
     "execution_count": 4,
     "metadata": {},
     "output_type": "execute_result"
    }
   ],
   "execution_count": 4,
   "source": "ds.search_columns(TargetRole(), search_types=[int])",
   "id": "243c84fd545c9117"
  },
  {
   "metadata": {},
   "cell_type": "code",
   "outputs": [
    {
     "data": {
      "text/plain": [
       "   a\n",
       "0  1\n",
       "1  2\n",
       "2  3"
      ]
     },
     "execution_count": 5,
     "metadata": {},
     "output_type": "execute_result"
    }
   ],
   "execution_count": 5,
   "source": "ds['a']",
   "id": "994ca789a6524c3a"
  },
  {
   "metadata": {},
   "cell_type": "markdown",
   "source": [
    "### Min\n",
    "\n",
    "    Calculate the minimum value in the dataset.\n",
    "        \n",
    "        Returns:\n",
    "            The minimum value after data aggregation."
   ],
   "id": "5bbbb67fe27f039a"
  },
  {
   "metadata": {},
   "cell_type": "code",
   "outputs": [
    {
     "data": {
      "text/plain": [
       "     a  b\n",
       "min  1  4"
      ]
     },
     "execution_count": 9,
     "metadata": {},
     "output_type": "execute_result"
    }
   ],
   "execution_count": 9,
   "source": "ds.min()",
   "id": "d2a69656d09fda08"
  },
  {
   "metadata": {},
   "cell_type": "markdown",
   "source": [
    "### Getitem\n",
    "    Retrieves an item from the dataset based on the specified index and returns a new Dataset object containing the retrieved data along with the corresponding roles.\n",
    "        \n",
    "        Parameters:\n",
    "            item: The index or indices to locate the item(s) in the dataset.\n",
    "            \n",
    "        Returns:\n",
    "            Dataset: A new Dataset object containing the retrieved data and roles."
   ],
   "id": "2e996a6fa66ee1a1"
  },
  {
   "metadata": {},
   "cell_type": "code",
   "outputs": [
    {
     "data": {
      "text/plain": [
       "   1\n",
       "a  2\n",
       "b  5"
      ]
     },
     "execution_count": 10,
     "metadata": {},
     "output_type": "execute_result"
    }
   ],
   "execution_count": 10,
   "source": "ds[1]",
   "id": "e156b5587bc08370"
  },
  {
   "metadata": {},
   "cell_type": "code",
   "outputs": [
    {
     "data": {
      "text/plain": [
       "   1\n",
       "a  2"
      ]
     },
     "execution_count": 11,
     "metadata": {},
     "output_type": "execute_result"
    }
   ],
   "execution_count": 11,
   "source": "ds['a'][1]",
   "id": "8973eeface0fac20"
  },
  {
   "metadata": {},
   "cell_type": "code",
   "outputs": [
    {
     "data": {
      "text/plain": [
       "    a    b\n",
       "0 NaN  4.0\n",
       "1 NaN  NaN\n",
       "2 NaN  NaN"
      ],
      "text/html": [
       "<div>\n",
       "<style scoped>\n",
       "    .dataframe tbody tr th:only-of-type {\n",
       "        vertical-align: middle;\n",
       "    }\n",
       "\n",
       "    .dataframe tbody tr th {\n",
       "        vertical-align: top;\n",
       "    }\n",
       "\n",
       "    .dataframe thead th {\n",
       "        text-align: right;\n",
       "    }\n",
       "</style>\n",
       "<table border=\"1\" class=\"dataframe\">\n",
       "  <thead>\n",
       "    <tr style=\"text-align: right;\">\n",
       "      <th></th>\n",
       "      <th>a</th>\n",
       "      <th>b</th>\n",
       "    </tr>\n",
       "  </thead>\n",
       "  <tbody>\n",
       "    <tr>\n",
       "      <th>0</th>\n",
       "      <td>NaN</td>\n",
       "      <td>4.0</td>\n",
       "    </tr>\n",
       "    <tr>\n",
       "      <th>1</th>\n",
       "      <td>NaN</td>\n",
       "      <td>NaN</td>\n",
       "    </tr>\n",
       "    <tr>\n",
       "      <th>2</th>\n",
       "      <td>NaN</td>\n",
       "      <td>NaN</td>\n",
       "    </tr>\n",
       "  </tbody>\n",
       "</table>\n",
       "</div>"
      ]
     },
     "execution_count": 12,
     "metadata": {},
     "output_type": "execute_result"
    }
   ],
   "execution_count": 12,
   "source": "ds.data[ds.data[['a', 'b']] == 4]",
   "id": "dc77d7f3be4de04c"
  },
  {
   "metadata": {},
   "cell_type": "code",
   "outputs": [
    {
     "data": {
      "text/plain": [
       "    a    b\n",
       "0 NaN  4.0\n",
       "1 NaN  NaN\n",
       "2 NaN  NaN"
      ]
     },
     "execution_count": 13,
     "metadata": {},
     "output_type": "execute_result"
    }
   ],
   "execution_count": 13,
   "source": "ds[ds[['a', 'b']] == 4]",
   "id": "a7227bd576d1cc6d"
  },
  {
   "metadata": {},
   "cell_type": "markdown",
   "source": [
    "### Add column\n",
    "\n",
    "    Adds a new column to the dataset.\n",
    "        Args:\n",
    "            data (Union[Dataset, Any]): The data to be added as a column. If `role` is not provided, `data`\n",
    "                must be an instance of `Dataset`. Otherwise, it can be any type of data.\n",
    "            role (Optional[Dict[str, ABCRole]]): The role of the column. If not provided, the roles from\n",
    "                `data` will be updated. Defaults to None.\n",
    "            index (Optional[Iterable[Hashable]]): The index of the column. Defaults to None.\n",
    "        Returns:\n",
    "            Dataset: The updated dataset with the new column added.\n",
    "        Raises:\n",
    "            ValueError: If `role` is not provided and `data` is not an instance of `Dataset`.\n"
   ],
   "id": "49f7630956d01734"
  },
  {
   "metadata": {},
   "cell_type": "code",
   "outputs": [
    {
     "data": {
      "text/plain": [
       "   a  b  c\n",
       "0  1  4  7\n",
       "1  2  5  8\n",
       "2  3  6  9"
      ]
     },
     "execution_count": 14,
     "metadata": {},
     "output_type": "execute_result"
    }
   ],
   "execution_count": 14,
   "source": [
    "ds.add_column([7, 8, 9], {'c': TargetRole(int)})\n",
    "ds"
   ],
   "id": "9904c0182a9497ca"
  },
  {
   "metadata": {},
   "cell_type": "markdown",
   "source": [
    "### Map\n",
    "    Apply a function to each element of the dataset.\n",
    "        Args:\n",
    "            func (Callable): The function to apply to each element.\n",
    "            na_action (Optional[str]): The action to take when encountering missing values.\n",
    "                Defaults to None.\n",
    "            **kwargs: Additional keyword arguments to pass to the function.\n",
    "        Returns:\n",
    "            Dataset: A new dataset with the function applied to each element.\n"
   ],
   "id": "d64ef20b59548deb"
  },
  {
   "metadata": {},
   "cell_type": "code",
   "outputs": [
    {
     "data": {
      "text/plain": [
       "   a\n",
       "0  2\n",
       "1  4\n",
       "2  6"
      ]
     },
     "execution_count": 15,
     "metadata": {},
     "output_type": "execute_result"
    }
   ],
   "execution_count": 15,
   "source": "ds['a'].map(lambda x: x * 2)",
   "id": "fb1f19b7d8748ede"
  },
  {
   "metadata": {},
   "cell_type": "markdown",
   "source": [
    "### Unique\n",
    "    Returns the unique values in the dataset.\n",
    "        Returns:\n",
    "            Any: The unique values in the dataset.\n",
    "        "
   ],
   "id": "e93a1aa4b9b40093"
  },
  {
   "metadata": {},
   "cell_type": "code",
   "outputs": [
    {
     "data": {
      "text/plain": [
       "{'a': array([1, 2, 3]), 'b': array([4, 5, 6]), 'c': array([7, 8, 9])}"
      ]
     },
     "execution_count": 16,
     "metadata": {},
     "output_type": "execute_result"
    }
   ],
   "execution_count": 16,
   "source": "ds.unique()",
   "id": "a90d7ac62c8f4d50"
  },
  {
   "metadata": {},
   "cell_type": "markdown",
   "source": [
    "### Num of unique\n",
    "    Returns a dictionary containing the number of unique values for each column in the dataset.\n",
    "\n",
    "        Args:\n",
    "            dropna (bool, optional): If True, rows with missing values are not counted. Defaults to False.\n",
    "\n",
    "        Returns:\n",
    "            Dict[FieldKeyTypes, int]: A dictionary where the keys are the column names and the values are the number of unique values in each column."
   ],
   "id": "b53d440dc884acfb"
  },
  {
   "metadata": {},
   "cell_type": "code",
   "outputs": [
    {
     "data": {
      "text/plain": [
       "{'a': 3, 'b': 3, 'c': 3}"
      ]
     },
     "execution_count": 17,
     "metadata": {},
     "output_type": "execute_result"
    }
   ],
   "execution_count": 17,
   "source": "ds.nunique()",
   "id": "db8b2ac893f94832"
  },
  {
   "metadata": {},
   "cell_type": "markdown",
   "source": [
    "### Apply\n",
    "    Apply a function to a specific column of the dataset.\n",
    "        Args:\n",
    "            func (Callable): The function to be applied.\n",
    "            role (Dict[FieldKeyTypes, ABCRole]): A dictionary mapping column names to their roles.\n",
    "            axis (int, optional): The axis along which the function is applied. Defaults to 0.\n",
    "            **kwargs: Additional keyword arguments to be passed to the function.\n",
    "        Returns:\n",
    "            Dataset: A new dataset with the applied function.\n",
    "        "
   ],
   "id": "8d6d0a465b56f9e7"
  },
  {
   "metadata": {},
   "cell_type": "code",
   "outputs": [
    {
     "data": {
      "text/plain": [
       "   new\n",
       "0   15\n",
       "1   17\n",
       "2   19"
      ]
     },
     "execution_count": 18,
     "metadata": {},
     "output_type": "execute_result"
    }
   ],
   "execution_count": 18,
   "source": "ds.apply(func=lambda x: x['a'] + x['c'] + 7, role={\"new\": InfoRole()}, axis=1)",
   "id": "df920b127dc678dc"
  },
  {
   "metadata": {},
   "cell_type": "code",
   "outputs": [
    {
     "name": "stdout",
     "output_type": "stream",
     "text": [
      "{'a': Target(<class 'int'>), 'b': Target(<class 'float'>), 'c': Target(<class 'int'>)}\n"
     ]
    }
   ],
   "execution_count": 19,
   "source": "print(ds.roles)",
   "id": "3845bd47a4f4853d"
  },
  {
   "metadata": {},
   "cell_type": "code",
   "outputs": [
    {
     "data": {
      "text/plain": [
       "   a  b  c  new\n",
       "0  1  4  7   15\n",
       "1  2  5  8   17\n",
       "2  3  6  9   19"
      ]
     },
     "execution_count": 20,
     "metadata": {},
     "output_type": "execute_result"
    }
   ],
   "execution_count": 20,
   "source": [
    "ds.add_column(ds.apply(func=lambda x: x['a'] + x['c'] + 7, role={\"new\": InfoRole()}, axis=1))\n",
    "ds"
   ],
   "id": "d8970e778f0f4448"
  },
  {
   "metadata": {},
   "cell_type": "code",
   "outputs": [
    {
     "data": {
      "text/plain": [
       "{'a': Target(<class 'int'>),\n",
       " 'b': Target(<class 'float'>),\n",
       " 'c': Target(<class 'int'>),\n",
       " 'new': Info(<class 'int'>)}"
      ]
     },
     "execution_count": 21,
     "metadata": {},
     "output_type": "execute_result"
    }
   ],
   "execution_count": 21,
   "source": "ds.roles",
   "id": "fc481e8de1882c03"
  },
  {
   "metadata": {},
   "cell_type": "code",
   "outputs": [
    {
     "data": {
      "text/plain": [
       "   a  b  c  new  f\n",
       "0  1  4  7   15  8\n",
       "1  2  5  8   17  9\n",
       "2  3  6  9   19  7"
      ]
     },
     "execution_count": 22,
     "metadata": {},
     "output_type": "execute_result"
    }
   ],
   "execution_count": 22,
   "source": "ds.add_column([7, 8, 9], {'f': TargetRole(int)}, index=[2, 0, 1])",
   "id": "ee6e13c96f86ffed"
  },
  {
   "metadata": {},
   "cell_type": "code",
   "outputs": [
    {
     "data": {
      "text/plain": [
       "   a  b  c  new  f\n",
       "0  1  4  7   15  8\n",
       "1  2  5  8   17  9\n",
       "2  3  6  9   19  7"
      ]
     },
     "execution_count": 23,
     "metadata": {},
     "output_type": "execute_result"
    }
   ],
   "execution_count": 23,
   "source": "ds",
   "id": "128c0acf047ffc64"
  },
  {
   "metadata": {},
   "cell_type": "code",
   "outputs": [
    {
     "name": "stderr",
     "output_type": "stream",
     "text": [
      "/home/tony_katkov/job/HypEx/hypex/dataset/dataset.py:104: SyntaxWarning: Column must be added by add_column\n",
      "  warnings.warn(\"Column must be added by add_column\", category=SyntaxWarning)\n"
     ]
    },
    {
     "data": {
      "text/plain": [
       "   a  b  c  new  f  e\n",
       "0  1  4  7   15  8  1\n",
       "1  2  5  8   17  9  2\n",
       "2  3  6  9   19  7  3"
      ]
     },
     "execution_count": 24,
     "metadata": {},
     "output_type": "execute_result"
    }
   ],
   "execution_count": 24,
   "source": [
    "ds['e'] = [1, 2, 3]\n",
    "ds"
   ],
   "id": "90c9e7fc06b8472e"
  },
  {
   "metadata": {},
   "cell_type": "markdown",
   "source": [
    "### Set item\n",
    "    A method to set an item in the Dataset object using a key and value.\n",
    "\n",
    "        Parameters:\n",
    "            key (str): The key to identify the item in the Dataset.\n",
    "            value (Any): The value to be set for the key. If the value is a Dataset, its data attribute is used.\n",
    "\n",
    "        Returns:\n",
    "            None\n"
   ],
   "id": "3d78a4e02fc8ef07"
  },
  {
   "metadata": {},
   "cell_type": "code",
   "outputs": [
    {
     "data": {
      "text/plain": [
       "   a  b  c  new  f  e\n",
       "0  1  4  7   15  8  1\n",
       "1  2  5  8   17  9  2\n",
       "2  3  6  9   19  7  3"
      ]
     },
     "execution_count": 25,
     "metadata": {},
     "output_type": "execute_result"
    }
   ],
   "execution_count": 25,
   "source": [
    "ds['a'][1] = 1\n",
    "ds"
   ],
   "id": "b036d6de0a00ad8"
  },
  {
   "metadata": {},
   "cell_type": "markdown",
   "source": [
    "### Is in\n",
    "    Returns a new Dataset object with the same roles as the current Dataset, but with the data filtered to only include rows where the values in the columns match any of the values in the given iterable.\n",
    "\n",
    "        Args:\n",
    "            values (Iterable): An iterable of values to match against.\n",
    "\n",
    "        Returns:\n",
    "            Dataset: A new Dataset object with the filtered data."
   ],
   "id": "785fc079c3b3c6ae"
  },
  {
   "metadata": {},
   "cell_type": "code",
   "outputs": [
    {
     "data": {
      "text/plain": [
       "       a      b      c    new      f      e\n",
       "0  False  False  False  False   True  False\n",
       "1  False  False   True  False  False  False\n",
       "2   True  False  False  False  False   True"
      ]
     },
     "execution_count": 26,
     "metadata": {},
     "output_type": "execute_result"
    }
   ],
   "execution_count": 26,
   "source": "ds.isin([3, 8])",
   "id": "c27dce96fef8ed56"
  },
  {
   "metadata": {},
   "cell_type": "code",
   "outputs": [
    {
     "data": {
      "text/plain": [
       "{'a': Target(<class 'int'>),\n",
       " 'b': Target(<class 'float'>),\n",
       " 'c': Target(<class 'int'>),\n",
       " 'new': Info(<class 'int'>),\n",
       " 'f': Target(<class 'int'>),\n",
       " 'e': Info(None)}"
      ]
     },
     "execution_count": 27,
     "metadata": {},
     "output_type": "execute_result"
    }
   ],
   "execution_count": 27,
   "source": "ds.roles",
   "id": "86adbae2c4f153a4"
  },
  {
   "metadata": {},
   "cell_type": "markdown",
   "source": [
    "### Groupby\n",
    "    Groups the data in the Dataset object by the specified column(s) and applies optional aggregation functions.\n",
    "        Parameters:\n",
    "            by (Any): The column(s) to group the data by.\n",
    "            func (Optional[Union[str, List]]): The aggregation function(s) to apply to each group. Defaults to None.\n",
    "            fields_list (Optional[Union[str, List]]): The columns to include in each group. Defaults to None.\n",
    "            **kwargs: Additional keyword arguments to pass to the underlying backend's groupby method.\n",
    "        Returns:\n",
    "            List[Tuple[Any, Dataset]]: A list of tuples, where each tuple contains the group key and the corresponding Dataset object.\n",
    "        Note:\n",
    "            - If `fields_list` is provided, only the specified columns will be included in each group.\n",
    "            - If `func` is provided, the aggregation function(s) will be applied to each group.\n",
    "            - The `tmp_roles` attribute of each Dataset object in the returned list will be set to the `tmp_roles` attribute of the original Dataset object.\n",
    "       "
   ],
   "id": "e9587d50f5f8e9a6"
  },
  {
   "metadata": {},
   "cell_type": "code",
   "outputs": [
    {
     "name": "stdout",
     "output_type": "stream",
     "text": [
      "[(1,         a    b    c   new    f    e\n",
      "mean  1.0  4.0  7.0  15.0  8.0  1.0), (2,         a    b    c   new    f    e\n",
      "mean  2.0  5.0  8.0  17.0  9.0  2.0), (3,         a    b    c   new    f    e\n",
      "mean  3.0  6.0  9.0  19.0  7.0  3.0)]\n"
     ]
    }
   ],
   "execution_count": 28,
   "source": [
    "groups_func = ds.groupby('a', func='mean')\n",
    "print(groups_func)"
   ],
   "id": "298d0e9eb0e93232"
  },
  {
   "metadata": {},
   "cell_type": "code",
   "outputs": [
    {
     "name": "stdout",
     "output_type": "stream",
     "text": [
      "[(1,    a  b  c  new  f  e\n",
      "0  1  4  7   15  8  1), (2,    a  b  c  new  f  e\n",
      "1  2  5  8   17  9  2), (3,    a  b  c  new  f  e\n",
      "2  3  6  9   19  7  3)]\n"
     ]
    }
   ],
   "execution_count": 29,
   "source": [
    "groups = ds.groupby('a')\n",
    "print(groups)"
   ],
   "id": "3692a9da2cca79fa"
  },
  {
   "metadata": {},
   "cell_type": "code",
   "outputs": [
    {
     "name": "stdout",
     "output_type": "stream",
     "text": [
      "[(1,         e\n",
      "mean  1.0\n",
      "var   NaN), (2,         e\n",
      "mean  2.0\n",
      "var   NaN), (3,         e\n",
      "mean  3.0\n",
      "var   NaN)]\n"
     ]
    }
   ],
   "execution_count": 30,
   "source": [
    "groups_func_fields = ds.groupby('a', func=['mean', 'var'], fields_list='e')\n",
    "print(groups_func_fields)"
   ],
   "id": "676c931b395d054c"
  },
  {
   "metadata": {},
   "cell_type": "markdown",
   "source": [
    "### Sort\n",
    "    Sorts the data in the Dataset object based on the specified fields.\n",
    "\n",
    "        Parameters:\n",
    "            by (Optional[MultiFieldKeyTypes]): The fields to sort the data by. If None, the data will be sorted based on the index. Defaults to None.\n",
    "            ascending (bool): Whether to sort the data in ascending order. Defaults to True.\n",
    "            **kwargs: Additional keyword arguments to be passed to the sorting function.\n",
    "\n",
    "        Returns:\n",
    "            Dataset: A new Dataset object with the sorted data."
   ],
   "id": "a13d882d7b27070d"
  },
  {
   "metadata": {},
   "cell_type": "code",
   "outputs": [
    {
     "data": {
      "text/plain": [
       "   a  b  c  new  f  e\n",
       "2  3  6  9   19  7  3\n",
       "1  2  5  8   17  9  2\n",
       "0  1  4  7   15  8  1"
      ]
     },
     "execution_count": 31,
     "metadata": {},
     "output_type": "execute_result"
    }
   ],
   "execution_count": 31,
   "source": "ds.sort('a', ascending=False)",
   "id": "4a77c699991a27ed"
  },
  {
   "metadata": {},
   "cell_type": "markdown",
   "source": [
    "### Fillna\n",
    "    Fills missing values in the dataset with the specified values.\n",
    "        Args:\n",
    "            values (Union[int, Dict[FieldKeyTypes, FieldKeyTypes]]): The values to fill missing data with. If an integer is provided, all missing values will be filled with that integer. If a dictionary is provided, the keys represent the fields to fill missing data in, and the values represent the values to fill the missing data with.\n",
    "            method (Optional[str]): The method to use for filling missing data. Must be one of \"backfill\", \"bfill\", or \"ffill\". If not provided, missing data will be filled with the specified values.\n",
    "            **kwargs: Additional keyword arguments to be passed to the fillna function.\n",
    "        Returns:\n",
    "            Dataset: A new Dataset object with the filled data.\n",
    "        Raises:\n",
    "            NameError: If an unsupported fill method is provided.\n"
   ],
   "id": "ba0edbd20e1f15f3"
  },
  {
   "metadata": {},
   "cell_type": "code",
   "outputs": [
    {
     "data": {
      "text/plain": [
       "   a  b  c  new  f  e    g\n",
       "0  1  4  7   15  8  1  0.0\n",
       "1  2  5  8   17  9  2  NaN\n",
       "2  3  6  9   19  7  3  2.0"
      ]
     },
     "execution_count": 32,
     "metadata": {},
     "output_type": "execute_result"
    }
   ],
   "execution_count": 32,
   "source": [
    "fds = copy.deepcopy(ds)\n",
    "fds.add_column([0, np.NaN, 2], {'g': InfoRole(int)})\n",
    "fds"
   ],
   "id": "76fb0907554830cb"
  },
  {
   "metadata": {},
   "cell_type": "code",
   "outputs": [
    {
     "data": {
      "text/plain": [
       "   a  b  c  new  f  e     g\n",
       "0  1  4  7   15  8  1   0.0\n",
       "1  2  5  8   17  9  2  42.0\n",
       "2  3  6  9   19  7  3   2.0"
      ]
     },
     "execution_count": 33,
     "metadata": {},
     "output_type": "execute_result"
    }
   ],
   "execution_count": 33,
   "source": "fds.fillna(42)",
   "id": "1432829b8e53b829"
  },
  {
   "metadata": {},
   "cell_type": "markdown",
   "source": [
    "### Agg\n",
    "    Perform an aggregation operation using the specified function(s) on the dataset.\n",
    "        \n",
    "        Parameters:\n",
    "            func (Union[str, List]): The aggregation function or list of functions to apply.\n",
    "        \n",
    "        Returns:\n",
    "            The aggregated data after applying the specified function(s)."
   ],
   "id": "ed9dac0add5141c0"
  },
  {
   "metadata": {},
   "cell_type": "code",
   "outputs": [
    {
     "data": {
      "text/plain": [
       "        a     b     c   new     f    e\n",
       "sum   6.0  15.0  24.0  51.0  24.0  6.0\n",
       "mean  2.0   5.0   8.0  17.0   8.0  2.0"
      ]
     },
     "execution_count": 34,
     "metadata": {},
     "output_type": "execute_result"
    }
   ],
   "execution_count": 34,
   "source": "ds.agg(['sum', 'mean'])",
   "id": "464acaad9c35c0b9"
  },
  {
   "metadata": {},
   "cell_type": "markdown",
   "source": "### Simple math methods",
   "id": "51cd55cc07aa03a2"
  },
  {
   "metadata": {},
   "cell_type": "code",
   "outputs": [
    {
     "data": {
      "text/plain": [
       "        a    b    c   new    f    e\n",
       "mean  2.0  5.0  8.0  17.0  8.0  2.0"
      ]
     },
     "execution_count": 35,
     "metadata": {},
     "output_type": "execute_result"
    }
   ],
   "execution_count": 35,
   "source": "ds.mean()",
   "id": "8ddda807bea6a4d0"
  },
  {
   "metadata": {},
   "cell_type": "code",
   "outputs": [
    {
     "data": {
      "text/plain": [
       "       a  b  c  new  f  e\n",
       "count  3  3  3    3  3  3"
      ]
     },
     "execution_count": 36,
     "metadata": {},
     "output_type": "execute_result"
    }
   ],
   "execution_count": 36,
   "source": "ds.count()",
   "id": "6c1f07840882c24"
  },
  {
   "metadata": {},
   "cell_type": "code",
   "outputs": [
    {
     "data": {
      "text/plain": [
       "          a         b         c       new         f         e\n",
       "0  0.000000  1.386294  1.945910  2.708050  2.079442  0.000000\n",
       "1  0.693147  1.609438  2.079442  2.833213  2.197225  0.693147\n",
       "2  1.098612  1.791759  2.197225  2.944439  1.945910  1.098612"
      ]
     },
     "execution_count": 37,
     "metadata": {},
     "output_type": "execute_result"
    }
   ],
   "execution_count": 37,
   "source": "ds.log()",
   "id": "9546b82c94140a3b"
  },
  {
   "metadata": {},
   "cell_type": "markdown",
   "source": [
    "### Index max\n",
    "    Returns the index of the maximum value in each group of the dataset.\n",
    "        \n",
    "        Returns:\n",
    "            The result of calling `idxmax` on the `_backend` attribute of the dataset."
   ],
   "id": "b6a2ed3a1e12f5ec"
  },
  {
   "metadata": {},
   "cell_type": "code",
   "outputs": [
    {
     "data": {
      "text/plain": [
       "        a  b\n",
       "idxmax  2  2"
      ]
     },
     "execution_count": 38,
     "metadata": {},
     "output_type": "execute_result"
    }
   ],
   "execution_count": 38,
   "source": "ds[['a', 'b']].idxmax()",
   "id": "813b70d7798bae9d"
  },
  {
   "metadata": {},
   "cell_type": "markdown",
   "source": [
    "### Correlation\n",
    "    Calculate the correlation matrix of the dataset.\n",
    "        Parameters:\n",
    "            method (str, optional): The method to use for calculating the correlation. Defaults to \"pearson\".\n",
    "            numeric_only (bool, optional): Whether to calculate the correlation only for numeric columns. Defaults to False.\n",
    "        Returns:\n",
    "            Dataset: A new Dataset object with the correlation matrix."
   ],
   "id": "6dab81056a5a3ea6"
  },
  {
   "metadata": {},
   "cell_type": "code",
   "outputs": [
    {
     "data": {
      "text/plain": [
       "       a    b    c  new    f    e\n",
       "a    1.0  1.0  1.0  1.0  0.0  1.0\n",
       "b    1.0  1.0  1.0  1.0  0.0  1.0\n",
       "c    1.0  1.0  1.0  1.0  0.0  1.0\n",
       "new  1.0  1.0  1.0  1.0  0.0  1.0\n",
       "f    0.0 -0.5  0.0  0.0  1.0  0.0\n",
       "e    1.0  1.0  1.0  1.0  0.0  1.0"
      ]
     },
     "execution_count": 51,
     "metadata": {},
     "output_type": "execute_result"
    }
   ],
   "execution_count": 51,
   "source": "ds.corr()",
   "id": "afd79b10cc5f8b95"
  },
  {
   "metadata": {},
   "cell_type": "markdown",
   "source": [
    "### Quantile\n",
    "    Calculate the quantile of the data.\n",
    "        Args:\n",
    "            q (float, optional): The quantile to calculate. Defaults to 0.5.\n",
    "        Returns:\n",
    "            Dataset: A new Dataset object with the quantile values calculated."
   ],
   "id": "302b79fd7e7c2361"
  },
  {
   "metadata": {},
   "cell_type": "code",
   "outputs": [
    {
     "data": {
      "text/plain": [
       "            a    b    c   new    f    e\n",
       "quantile  1.6  4.6  7.6  16.2  7.6  1.6"
      ]
     },
     "execution_count": 53,
     "metadata": {},
     "output_type": "execute_result"
    }
   ],
   "execution_count": 53,
   "source": "ds.quantile(0.3)",
   "id": "f2203cd0c59f8c43"
  },
  {
   "metadata": {},
   "cell_type": "markdown",
   "source": [
    "### Select dtypes\n",
    "    Selects columns from the dataset based on the data types.\n",
    "        Args:\n",
    "            include (Any, optional): A list of data types to include. Defaults to None.\n",
    "            exclude (Any, optional): A list of data types to exclude. Defaults to None.\n",
    "        Returns:\n",
    "            Dataset: A new dataset with the selected columns and roles."
   ],
   "id": "b688c5d43a439e61"
  },
  {
   "metadata": {},
   "cell_type": "markdown",
   "source": [
    "### Merge\n",
    "    Merges this Dataset with another Dataset using specified columns or indices.\n",
    "        Parameters:\n",
    "            right: Dataset - The Dataset to merge with.\n",
    "            on: Optional[FieldKeyTypes] - Columns to join on from both Datasets.\n",
    "            left_on: Optional[FieldKeyTypes] - Columns from this Dataset to join on.\n",
    "            right_on: Optional[FieldKeyTypes] - Columns from the other Dataset to join on.\n",
    "            left_index: bool - Use the index from this Dataset as the merge key.\n",
    "            right_index: bool - Use the index from the other Dataset as the merge key.\n",
    "            suffixes: tuple[str, str] - Suffixes to append to overlapping column names.\n",
    "            how: Literal[\"left\", \"right\", \"outer\", \"inner\", \"cross\"] - Type of merge to perform.\n",
    "        Returns:\n",
    "            Dataset - A new Dataset resulting from the merge operation."
   ],
   "id": "ce0acb8b984ab108"
  },
  {
   "metadata": {},
   "cell_type": "code",
   "outputs": [
    {
     "data": {
      "text/plain": [
       "   a_x  b_x  c_x  new_x  f_x  e_x  a_y  b_y  c_y  new_y  f_y  e_y\n",
       "0    1    4    7     15    8    1    1    4    7     15    8    1\n",
       "1    2    5    8     17    9    2    2    5    8     17    9    2\n",
       "2    3    6    9     19    7    3    3    6    9     19    7    3"
      ]
     },
     "execution_count": 54,
     "metadata": {},
     "output_type": "execute_result"
    }
   ],
   "execution_count": 54,
   "source": "ds.merge(ds)",
   "id": "202793b1d6c2cb86"
  },
  {
   "metadata": {},
   "cell_type": "code",
   "outputs": [
    {
     "data": {
      "text/plain": [
       "   a  a_this  b_this  c_this  new_this  f_this  e_this  a_other  b_other  \\\n",
       "0  1       1       4       7        15       8       1        2        5   \n",
       "1  2       2       5       8        17       9       2        3        6   \n",
       "\n",
       "   c_other  new_other  f_other  e_other  \n",
       "0        8         17        9        2  \n",
       "1        9         19        7        3  "
      ]
     },
     "execution_count": 58,
     "metadata": {},
     "output_type": "execute_result"
    }
   ],
   "execution_count": 58,
   "source": "ds.merge(ds, left_on='a', right_index=True, suffixes=('_this', '_other'))",
   "id": "25cac49d6c054c51"
  },
  {
   "metadata": {},
   "cell_type": "markdown",
   "source": [
    "### Transpose\n",
    "    Transposes the dataset based on the specified roles.\n",
    "        Args:\n",
    "            roles (Optional[Union[Dict[Union[str, int], ABCRole], List]]): The roles to transpose the dataset. If a dictionary is provided, the keys are the roles to transpose and the values are the corresponding column names. If a list is provided, the roles are inferred from the column names. If not provided, the roles are inferred from the column names.\n",
    "        Returns:\n",
    "            Dataset: The transposed dataset."
   ],
   "id": "afa4aae9e20280d7"
  },
  {
   "metadata": {},
   "cell_type": "code",
   "outputs": [
    {
     "data": {
      "text/plain": [
       "     one   2  III\n",
       "a      1   2    3\n",
       "b      4   5    6\n",
       "c      7   8    9\n",
       "new   15  17   19\n",
       "f      8   9    7\n",
       "e      1   2    3"
      ]
     },
     "execution_count": 62,
     "metadata": {},
     "output_type": "execute_result"
    }
   ],
   "execution_count": 62,
   "source": "ds.transpose({'one': FeatureRole(), '2': InfoRole(), 'III': InfoRole()})",
   "id": "566e45ce7bb4be98"
  },
  {
   "metadata": {},
   "cell_type": "code",
   "outputs": [
    {
     "data": {
      "text/plain": [
       "      0   1   2\n",
       "a     1   2   3\n",
       "b     4   5   6\n",
       "c     7   8   9\n",
       "new  15  17  19\n",
       "f     8   9   7\n",
       "e     1   2   3"
      ]
     },
     "execution_count": 67,
     "metadata": {},
     "output_type": "execute_result"
    }
   ],
   "execution_count": 67,
   "source": "ds.transpose()",
   "id": "52271a04f3e51084"
  },
  {
   "metadata": {},
   "cell_type": "code",
   "outputs": [
    {
     "data": {
      "text/plain": [
       "{0: Feature(<class 'int'>),\n",
       " 1: Feature(<class 'int'>),\n",
       " 2: Feature(<class 'int'>)}"
      ]
     },
     "execution_count": 66,
     "metadata": {},
     "output_type": "execute_result"
    }
   ],
   "execution_count": 66,
   "source": "ds.transpose().roles",
   "id": "4ec26e50e3ed905f"
  },
  {
   "metadata": {},
   "cell_type": "markdown",
   "source": [
    "### Shuffle\n",
    "    Shuffles the dataset using the backend's shuffle method.\n",
    "        Parameters:\n",
    "            random_state (Optional[int]): Optional random state for reproducibility.\n",
    "        Returns:\n",
    "            Dataset: A new Dataset object with shuffled data."
   ],
   "id": "ea33279e47df315f"
  },
  {
   "metadata": {},
   "cell_type": "code",
   "outputs": [
    {
     "data": {
      "text/plain": [
       "   a  b  c  new  f  e\n",
       "1  2  5  8   17  9  2\n",
       "0  1  4  7   15  8  1\n",
       "2  3  6  9   19  7  3"
      ]
     },
     "execution_count": 79,
     "metadata": {},
     "output_type": "execute_result"
    }
   ],
   "execution_count": 79,
   "source": "ds.shuffle()",
   "id": "49df742a55637972"
  },
  {
   "metadata": {},
   "cell_type": "code",
   "outputs": [
    {
     "data": {
      "text/plain": [
       "   a  b  c  new  f  e\n",
       "2  3  6  9   19  7  3\n",
       "0  1  4  7   15  8  1\n",
       "1  2  5  8   17  9  2"
      ]
     },
     "execution_count": 81,
     "metadata": {},
     "output_type": "execute_result"
    }
   ],
   "execution_count": 81,
   "source": "ds.shuffle()",
   "id": "25dab75ddaebc1d4"
  },
  {
   "metadata": {},
   "cell_type": "code",
   "outputs": [
    {
     "data": {
      "text/plain": [
       "   a  b  c  new  f  e\n",
       "0  1  4  7   15  8  1\n",
       "1  2  5  8   17  9  2\n",
       "2  3  6  9   19  7  3"
      ]
     },
     "execution_count": 80,
     "metadata": {},
     "output_type": "execute_result"
    }
   ],
   "execution_count": 80,
   "source": "ds.shuffle(random_state=42)",
   "id": "d519d58268db5ac1"
  },
  {
   "metadata": {},
   "cell_type": "markdown",
   "source": [
    "### Rename\n",
    "    Renames the columns of the dataset based on the provided dictionary of names.\n",
    "        Args:\n",
    "            names (Dict[FieldKeyTypes, FieldKeyTypes]): A dictionary mapping old column names to new column names.\n",
    "        Returns:\n",
    "            Dataset: A new Dataset object with the renamed columns."
   ],
   "id": "20df92c0fe83967a"
  },
  {
   "metadata": {},
   "cell_type": "code",
   "outputs": [
    {
     "data": {
      "text/plain": [
       "   A  B  C  new  f  e\n",
       "0  1  4  7   15  8  1\n",
       "1  2  5  8   17  9  2\n",
       "2  3  6  9   19  7  3"
      ]
     },
     "execution_count": 68,
     "metadata": {},
     "output_type": "execute_result"
    }
   ],
   "execution_count": 68,
   "source": "ds.rename({'a': 'A', 'b': 'B', 'c': 'C'})",
   "id": "4e40f0067c34bc6f"
  },
  {
   "metadata": {},
   "cell_type": "markdown",
   "source": [
    "### Replace\n",
    "    Replaces values in the dataset.\n",
    "        Args:\n",
    "            to_replace (Any, optional): The value to be replaced. Defaults to None.\n",
    "            value (Any, optional): The new value. Defaults to None.\n",
    "            regex (bool, optional): Whether to use regular expressions. Defaults to False.\n",
    "        Returns:\n",
    "            Dataset: A new dataset with the replaced values."
   ],
   "id": "49c3228070c35a20"
  },
  {
   "metadata": {},
   "cell_type": "code",
   "outputs": [
    {
     "data": {
      "text/plain": [
       "    a  b  c  new  f   e\n",
       "0   1  4  7   15  8   1\n",
       "1  15  5  8   17  9  15\n",
       "2   3  6  9   19  7   3"
      ]
     },
     "execution_count": 90,
     "metadata": {},
     "output_type": "execute_result"
    }
   ],
   "execution_count": 90,
   "source": [
    "dsr = copy.deepcopy(ds)\n",
    "dsr.replace(2, 15)"
   ],
   "id": "7fe184cb9855a4fe"
  },
  {
   "metadata": {},
   "cell_type": "markdown",
   "source": [
    "### Append\n",
    "    Append the given `other` dataset to the current dataset.\n",
    "        Args:\n",
    "            other (Dataset or List[Dataset]): The dataset(s) to append.\n",
    "            index (bool, optional): Whether to append the dataset(s) to the current dataset.\n",
    "                Defaults to False.\n",
    "        Returns:\n",
    "            Dataset: The new dataset after appending.\n",
    "        Raises:\n",
    "            ConcatDataError: If the `other` dataset is not an instance of `Dataset`.\n",
    "            ConcatBackendError: If the backend of the `other` dataset is different from the current dataset."
   ],
   "id": "a9ab1d759040d4c2"
  },
  {
   "cell_type": "code",
   "id": "db7750a4a24492ef",
   "metadata": {
    "collapsed": false,
    "ExecuteTime": {
     "end_time": "2024-07-03T06:57:25.905569Z",
     "start_time": "2024-07-03T06:57:25.892815Z"
    }
   },
   "source": [
    "ds.append(ds)"
   ],
   "outputs": [
    {
     "data": {
      "text/plain": [
       "   a  b  c  new  f  e\n",
       "0  1  4  7   15  8  1\n",
       "1  2  5  8   17  9  2\n",
       "2  3  6  9   19  7  3\n",
       "0  1  4  7   15  8  1\n",
       "1  2  5  8   17  9  2\n",
       "2  3  6  9   19  7  3"
      ]
     },
     "execution_count": 46,
     "metadata": {},
     "output_type": "execute_result"
    }
   ],
   "execution_count": 46
  },
  {
   "cell_type": "code",
   "id": "4804ad51ce834889",
   "metadata": {
    "collapsed": false,
    "ExecuteTime": {
     "end_time": "2024-07-03T06:57:25.966452Z",
     "start_time": "2024-07-03T06:57:25.953946Z"
    }
   },
   "source": [
    "display(ds_from_dict.roles)\n",
    "ds_from_dict.rename({'b': 'B', 'a': 'V'})"
   ],
   "outputs": [
    {
     "data": {
      "text/plain": [
       "{'a': Target(None), 'b': Info(None)}"
      ]
     },
     "metadata": {},
     "output_type": "display_data"
    },
    {
     "data": {
      "text/plain": [
       "   V  B\n",
       "0  1  3\n",
       "1  2  4"
      ]
     },
     "execution_count": 47,
     "metadata": {},
     "output_type": "execute_result"
    }
   ],
   "execution_count": 47
  },
  {
   "cell_type": "markdown",
   "id": "6228fd7283c1c424",
   "metadata": {
    "collapsed": false
   },
   "source": [
    "# Eperiment Data"
   ]
  },
  {
   "cell_type": "code",
   "id": "dc8b08a641e66fbe",
   "metadata": {
    "collapsed": false,
    "ExecuteTime": {
     "end_time": "2024-07-03T06:57:26.005188Z",
     "start_time": "2024-07-03T06:57:25.998950Z"
    }
   },
   "source": [
    "ed = ExperimentData(ds)"
   ],
   "outputs": [],
   "execution_count": 48
  },
  {
   "cell_type": "code",
   "id": "6789d27ac86f5291",
   "metadata": {
    "collapsed": false,
    "ExecuteTime": {
     "end_time": "2024-07-03T06:57:26.071357Z",
     "start_time": "2024-07-03T06:57:26.063497Z"
    }
   },
   "source": [
    "ed.additional_fields"
   ],
   "outputs": [
    {
     "data": {
      "text/plain": [
       "Empty DataFrame\n",
       "Columns: []\n",
       "Index: [0, 1, 2]"
      ]
     },
     "execution_count": 49,
     "metadata": {},
     "output_type": "execute_result"
    }
   ],
   "execution_count": 49
  },
  {
   "cell_type": "code",
   "id": "d36cf89d2e5ed478",
   "metadata": {
    "collapsed": false,
    "ExecuteTime": {
     "end_time": "2024-07-03T06:57:26.136855Z",
     "start_time": "2024-07-03T06:57:26.128315Z"
    }
   },
   "source": [
    "ed.additional_fields.loc[:, :]"
   ],
   "outputs": [
    {
     "data": {
      "text/plain": [
       "Empty DataFrame\n",
       "Columns: []\n",
       "Index: [0, 1, 2]"
      ]
     },
     "execution_count": 50,
     "metadata": {},
     "output_type": "execute_result"
    }
   ],
   "execution_count": 50
  }
 ],
 "metadata": {
  "hide_input": false,
  "kernelspec": {
   "display_name": "Python 3 (ipykernel)",
   "language": "python",
   "name": "python3"
  },
  "language_info": {
   "codemirror_mode": {
    "name": "ipython",
    "version": 3
   },
   "file_extension": ".py",
   "mimetype": "text/x-python",
   "name": "python",
   "nbconvert_exporter": "python",
   "pygments_lexer": "ipython3",
   "version": "3.10.13"
  },
  "nbTranslate": {
   "displayLangs": [
    "*"
   ],
   "hotkey": "alt-t",
   "langInMainMenu": true,
   "sourceLang": "en",
   "targetLang": "fr",
   "useGoogleTranslate": true
  },
  "toc": {
   "base_numbering": 1,
   "nav_menu": {},
   "number_sections": true,
   "sideBar": true,
   "skip_h1_title": false,
   "title_cell": "Table of Contents",
   "title_sidebar": "Contents",
   "toc_cell": false,
   "toc_position": {},
   "toc_section_display": true,
   "toc_window_display": false
  },
  "varInspector": {
   "cols": {
    "lenName": 16,
    "lenType": 16,
    "lenVar": 40
   },
   "kernels_config": {
    "python": {
     "delete_cmd_postfix": "",
     "delete_cmd_prefix": "del ",
     "library": "var_list.py",
     "varRefreshCmd": "print(var_dic_list())"
    },
    "r": {
     "delete_cmd_postfix": ") ",
     "delete_cmd_prefix": "rm(",
     "library": "var_list.r",
     "varRefreshCmd": "cat(var_dic_list()) "
    }
   },
   "types_to_exclude": [
    "module",
    "function",
    "builtin_function_or_method",
    "instance",
    "_Feature"
   ],
   "window_display": false
  }
 },
 "nbformat": 4,
 "nbformat_minor": 5
}

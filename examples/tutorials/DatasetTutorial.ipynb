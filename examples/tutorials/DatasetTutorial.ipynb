{
 "cells": [
  {
   "cell_type": "code",
   "execution_count": 1,
   "id": "initial_id",
   "metadata": {
    "collapsed": true,
    "ExecuteTime": {
     "end_time": "2024-05-27T12:58:42.669588700Z",
     "start_time": "2024-05-27T12:58:41.523274400Z"
    }
   },
   "outputs": [],
   "source": [
    "import pandas as pd\n",
    "\n",
    "from hypex.dataset.dataset import Dataset, ExperimentData\n",
    "from hypex.dataset.roles import *"
   ]
  },
  {
   "cell_type": "markdown",
   "id": "17fbe750",
   "metadata": {},
   "source": [
    "# Dataset\n",
    "\n"
   ]
  },
  {
   "cell_type": "code",
   "outputs": [],
   "source": [
    "df = pd.DataFrame({'a': [1, 2, 3], 'b': [4, 5, 6]})\n",
    "\n",
    "ds = Dataset({'a': TargetRole(), 'b': TargetRole(float)}, data=df)\n",
    "ds"
   ],
   "metadata": {
    "collapsed": false
   },
   "id": "d62d93cc5561f412"
  },
  {
   "cell_type": "code",
   "outputs": [],
   "source": [
    "ds.roles\n",
    "ds.get_columns(TargetRole(), search_types=[int])\n",
    "ds.get_columns_by_type([float])"
   ],
   "metadata": {
    "collapsed": false
   },
   "id": "243c84fd545c9117"
  },
  {
   "cell_type": "code",
   "outputs": [],
   "source": [
    "ds['a']"
   ],
   "metadata": {
    "collapsed": false
   },
   "id": "994ca789a6524c3a"
  },
  {
   "cell_type": "code",
   "outputs": [],
   "source": [
    "ds.min()"
   ],
   "metadata": {
    "collapsed": false
   },
   "id": "d2a69656d09fda08"
  },
  {
   "cell_type": "code",
   "outputs": [],
   "source": [
    "ds[1]"
   ],
   "metadata": {
    "collapsed": false
   },
   "id": "e156b5587bc08370"
  },
  {
   "cell_type": "code",
   "outputs": [],
   "source": [
    "ds['a'][1]"
   ],
   "metadata": {
    "collapsed": false
   },
   "id": "8973eeface0fac20"
  },
  {
   "cell_type": "code",
   "outputs": [],
   "source": [
    "ds.add_column([7, 8, 9], {'c': TargetRole(int)})\n",
    "ds"
   ],
   "metadata": {
    "collapsed": false
   },
   "id": "9904c0182a9497ca"
  },
  {
   "cell_type": "code",
   "outputs": [],
   "source": [
    "ds['a'].map(lambda x: x * 2)"
   ],
   "metadata": {
    "collapsed": false
   },
   "id": "fb1f19b7d8748ede"
  },
  {
   "cell_type": "code",
   "outputs": [],
   "source": [
    "ds.unique()"
   ],
   "metadata": {
    "collapsed": false
   },
   "id": "a90d7ac62c8f4d50"
  },
  {
   "cell_type": "code",
   "outputs": [],
   "source": [
    "ds.apply(func=lambda x: x['a'] + x['c'] + 7, role={\"new\": InfoRole()}, axis=1)"
   ],
   "metadata": {
    "collapsed": false
   },
   "id": "df920b127dc678dc"
  },
  {
   "cell_type": "code",
   "outputs": [],
   "source": [
    "print(ds.roles)"
   ],
   "metadata": {
    "collapsed": false
   },
   "id": "3845bd47a4f4853d"
  },
  {
   "cell_type": "code",
   "outputs": [],
   "source": [
    "ds.add_column(ds.apply(func=lambda x: x['a'] + x['c'] + 7, role={\"new\": InfoRole()}, axis=1))\n",
    "ds"
   ],
   "metadata": {
    "collapsed": false
   },
   "id": "d8970e778f0f4448"
  },
  {
   "cell_type": "code",
   "outputs": [],
   "source": [
    "ds.roles"
   ],
   "metadata": {
    "collapsed": false
   },
   "id": "fc481e8de1882c03"
  },
  {
   "cell_type": "code",
   "outputs": [],
   "source": [
    "ds.add_column([7, 8, 9], {'f': TargetRole(int)}, index=[2, 0, 1])"
   ],
   "metadata": {
    "collapsed": false
   },
   "id": "ee6e13c96f86ffed"
  },
  {
   "cell_type": "code",
   "outputs": [],
   "source": [
    "ds"
   ],
   "metadata": {
    "collapsed": false
   },
   "id": "128c0acf047ffc64"
  },
  {
   "cell_type": "code",
   "outputs": [],
   "source": [
    "ds['e'] = [1, 2, 3]\n",
    "ds"
   ],
   "metadata": {
    "collapsed": false
   },
   "id": "90c9e7fc06b8472e"
  },
  {
   "cell_type": "code",
   "outputs": [],
   "source": [
    "ds['a'][1] = 1\n",
    "ds"
   ],
   "metadata": {
    "collapsed": false
   },
   "id": "b036d6de0a00ad8"
  },
  {
   "cell_type": "code",
   "outputs": [],
   "source": [
    "ds.isin([3, 8])"
   ],
   "metadata": {
    "collapsed": false
   },
   "id": "c27dce96fef8ed56"
  },
  {
   "cell_type": "code",
   "outputs": [],
   "source": [
    "ds.roles"
   ],
   "metadata": {
    "collapsed": false
   },
   "id": "86adbae2c4f153a4"
  },
  {
   "cell_type": "code",
   "outputs": [],
   "source": [
    "groups_func = ds.groupby('a', func='mean')\n",
    "print(groups_func)"
   ],
   "metadata": {
    "collapsed": false
   },
   "id": "298d0e9eb0e93232"
  },
  {
   "cell_type": "code",
   "outputs": [],
   "source": [
    "groups = ds.groupby('a')\n",
    "print(groups)"
   ],
   "metadata": {
    "collapsed": false
   },
   "id": "3692a9da2cca79fa"
  },
  {
   "cell_type": "code",
   "outputs": [],
   "source": [
    "groups_func_fields = ds.groupby('a', func=['mean', 'var'], fields_list='e')\n",
    "print(groups_func_fields)"
   ],
   "metadata": {
    "collapsed": false
   },
   "id": "676c931b395d054c"
  },
  {
   "cell_type": "code",
   "outputs": [],
   "source": [
    "ds.agg(['sum', 'mean'])"
   ],
   "metadata": {
    "collapsed": false
   },
   "id": "464acaad9c35c0b9"
  },
  {
   "cell_type": "code",
   "outputs": [],
   "source": [
    "ds.mean()"
   ],
   "metadata": {
    "collapsed": false
   },
   "id": "8ddda807bea6a4d0"
  },
  {
   "cell_type": "code",
   "outputs": [],
   "source": [
    "ds_empty = Dataset.create_empty()"
   ],
   "metadata": {
    "collapsed": false
   },
   "id": "2cb4974f8918f263"
  },
  {
   "cell_type": "code",
   "outputs": [],
   "source": [
    "ds_empty.columns"
   ],
   "metadata": {
    "collapsed": false
   },
   "id": "d4391fdaa3654cc0"
  },
  {
   "cell_type": "code",
   "outputs": [],
   "source": [
    "ds_empty.backend"
   ],
   "metadata": {
    "collapsed": false
   },
   "id": "fafc1d29ad660762"
  },
  {
   "cell_type": "code",
   "outputs": [],
   "source": [
    "ds_from_dict = Dataset.from_dict({'a': [1, 2], 'b': [3, 4]}, {'a': TargetRole(), 'b': InfoRole()})"
   ],
   "metadata": {
    "collapsed": false
   },
   "id": "6bd53eb114a3facf"
  },
  {
   "cell_type": "code",
   "outputs": [],
   "source": [
    "ds_from_dict"
   ],
   "metadata": {
    "collapsed": false
   },
   "id": "7f97f4ca4db12c8"
  },
  {
   "cell_type": "code",
   "outputs": [],
   "source": [
    "ds_from_dict.roles"
   ],
   "metadata": {
    "collapsed": false
   },
   "id": "f84e59b392c1733e"
  },
  {
   "cell_type": "code",
   "outputs": [],
   "source": [
    "ds"
   ],
   "metadata": {
    "collapsed": false
   },
   "id": "520e132c1b89ba91"
  },
  {
   "cell_type": "code",
   "outputs": [],
   "source": [
    "ds.append(ds)"
   ],
   "metadata": {
    "collapsed": false
   },
   "id": "db7750a4a24492ef"
  },
  {
   "cell_type": "code",
   "outputs": [],
   "source": [
    "display(ds_from_dict.roles)\n",
    "ds_from_dict.rename({'b': 'B', 'a': 'V'})"
   ],
   "metadata": {
    "collapsed": false
   },
   "id": "4804ad51ce834889"
  },
  {
   "cell_type": "markdown",
   "source": [
    "# Eperiment Data"
   ],
   "metadata": {
    "collapsed": false
   },
   "id": "6228fd7283c1c424"
  },
  {
   "cell_type": "code",
   "outputs": [],
   "source": [
    "ed = ExperimentData(ds)"
   ],
   "metadata": {
    "collapsed": false
   },
   "id": "dc8b08a641e66fbe"
  },
  {
   "cell_type": "code",
   "outputs": [],
   "source": [
    "ed.additional_fields"
   ],
   "metadata": {
    "collapsed": false
   },
   "id": "6789d27ac86f5291"
  },
  {
   "cell_type": "code",
   "outputs": [],
   "source": [
    "ed.additional_fields.loc[:, :]"
   ],
   "metadata": {
    "collapsed": false
   },
   "id": "d36cf89d2e5ed478"
  },
  {
   "cell_type": "code",
   "outputs": [],
   "source": [],
   "metadata": {
    "collapsed": false
   },
   "id": "25f98c7a1ddf8797"
  }
 ],
 "metadata": {
  "hide_input": false,
  "kernelspec": {
   "display_name": "Python 3 (ipykernel)",
   "language": "python",
   "name": "python3"
  },
  "language_info": {
   "codemirror_mode": {
    "name": "ipython",
    "version": 3
   },
   "file_extension": ".py",
   "mimetype": "text/x-python",
   "name": "python",
   "nbconvert_exporter": "python",
   "pygments_lexer": "ipython3",
   "version": "3.10.11"
  },
  "nbTranslate": {
   "displayLangs": [
    "*"
   ],
   "hotkey": "alt-t",
   "langInMainMenu": true,
   "sourceLang": "en",
   "targetLang": "fr",
   "useGoogleTranslate": true
  },
  "toc": {
   "base_numbering": 1,
   "nav_menu": {},
   "number_sections": true,
   "sideBar": true,
   "skip_h1_title": false,
   "title_cell": "Table of Contents",
   "title_sidebar": "Contents",
   "toc_cell": false,
   "toc_position": {},
   "toc_section_display": true,
   "toc_window_display": false
  },
  "varInspector": {
   "cols": {
    "lenName": 16,
    "lenType": 16,
    "lenVar": 40
   },
   "kernels_config": {
    "python": {
     "delete_cmd_postfix": "",
     "delete_cmd_prefix": "del ",
     "library": "var_list.py",
     "varRefreshCmd": "print(var_dic_list())"
    },
    "r": {
     "delete_cmd_postfix": ") ",
     "delete_cmd_prefix": "rm(",
     "library": "var_list.r",
     "varRefreshCmd": "cat(var_dic_list()) "
    }
   },
   "types_to_exclude": [
    "module",
    "function",
    "builtin_function_or_method",
    "instance",
    "_Feature"
   ],
   "window_display": false
  }
 },
 "nbformat": 4,
 "nbformat_minor": 5
}

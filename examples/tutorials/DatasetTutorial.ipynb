{
 "cells": [
  {
   "cell_type": "code",
   "execution_count": 1,
   "id": "initial_id",
   "metadata": {
    "ExecuteTime": {
     "end_time": "2024-07-03T06:57:22.901912Z",
     "start_time": "2024-07-03T06:57:22.555004Z"
    },
    "collapsed": true
   },
   "outputs": [],
   "source": [
    "import copy\n",
    "\n",
    "import numpy as np\n",
    "import pandas as pd\n",
    "\n",
    "from hypex.dataset.dataset import Dataset, ExperimentData\n",
    "from hypex.dataset.roles import TargetRole, InfoRole, FeatureRole"
   ]
  },
  {
   "cell_type": "markdown",
   "id": "17fbe750",
   "metadata": {},
   "source": [
    "# Dataset\n",
    "\n"
   ]
  },
  {
   "cell_type": "markdown",
   "id": "1fab4946fe7c773d",
   "metadata": {},
   "source": [
    "### Create Dataset\n",
    "    Dataset()\n",
    "    Initializes a new instance of the Dataset class.\n",
    "\n",
    "        Args:\n",
    "            roles (Union[Dict[ABCRole, Union[List[Union[str, int]], str, int]], Dict[Union[str, int], ABCRole]]): A dictionary mapping roles to their corresponding column names and types.\n",
    "            data (Optional[Union[pd.DataFrame, str]]): The data to be used for the dataset. Can be either a pandas DataFrame or a file path. Defaults to None.\n",
    "            backend (Optional[BackendsEnum]): The backend to be used for the dataset. Defaults to None.\n",
    "\n",
    "        Returns:\n",
    "            Dataset: The newly created Dataset."
   ]
  },
  {
   "cell_type": "code",
   "execution_count": 2,
   "id": "9a7283d7",
   "metadata": {},
   "outputs": [
    {
     "data": {
      "text/plain": [
       "Empty DataFrame\n",
       "Columns: []\n",
       "Index: []"
      ]
     },
     "execution_count": 2,
     "metadata": {},
     "output_type": "execute_result"
    }
   ],
   "source": [
    "ds = Dataset({'a': TargetRole(), 'b': TargetRole(float)})\n",
    "ds"
   ]
  },
  {
   "cell_type": "code",
   "execution_count": 3,
   "id": "d62d93cc5561f412",
   "metadata": {
    "ExecuteTime": {
     "end_time": "2024-07-03T06:57:23.004430Z",
     "start_time": "2024-07-03T06:57:22.970189Z"
    },
    "collapsed": false
   },
   "outputs": [
    {
     "data": {
      "text/plain": [
       "   a    b\n",
       "0  1  4.0\n",
       "1  2  5.0\n",
       "2  3  6.0"
      ]
     },
     "execution_count": 3,
     "metadata": {},
     "output_type": "execute_result"
    }
   ],
   "source": [
    "df = pd.DataFrame({'a': [1, 2, 3], 'b': [4, 5, 6]})\n",
    "\n",
    "ds = Dataset({'a': TargetRole(), 'b': TargetRole(float)}, data=df)\n",
    "ds"
   ]
  },
  {
   "cell_type": "markdown",
   "id": "f3e8cb7c8642408c",
   "metadata": {},
   "source": [
    "### Roles\n",
    "    Dataset.roles\n",
    "    Returns the roles of the dataset."
   ]
  },
  {
   "cell_type": "code",
   "execution_count": 4,
   "id": "6546578e36d2522d",
   "metadata": {
    "ExecuteTime": {
     "end_time": "2024-07-03T06:57:23.014139Z",
     "start_time": "2024-07-03T06:57:23.007575Z"
    },
    "collapsed": false
   },
   "outputs": [
    {
     "data": {
      "text/plain": [
       "{'a': Target(<class 'int'>), 'b': Target(<class 'float'>)}"
      ]
     },
     "execution_count": 4,
     "metadata": {},
     "output_type": "execute_result"
    }
   ],
   "source": [
    "ds.roles"
   ]
  },
  {
   "cell_type": "markdown",
   "id": "90940f464fc1cfc4",
   "metadata": {},
   "source": [
    "### Create empty\n",
    "    Dataset.create_empty()\n",
    "    Creates an empty Dataset.\n",
    "        Parameters:\n",
    "            backend (BackendsEnum, optional): The backend to use for the Dataset. Defaults to BackendsEnum.pandas.\n",
    "            roles (dict, optional): The roles to assign to the Dataset. Defaults to None.\n",
    "            index (list, optional): The index to use for the Dataset. Defaults to None.\n",
    "        Returns:\n",
    "            Dataset: The newly created empty Dataset."
   ]
  },
  {
   "cell_type": "code",
   "execution_count": 5,
   "id": "2cb4974f8918f263",
   "metadata": {
    "ExecuteTime": {
     "end_time": "2024-07-03T06:57:25.483410Z",
     "start_time": "2024-07-03T06:57:25.478771Z"
    },
    "collapsed": false
   },
   "outputs": [],
   "source": [
    "ds_empty = Dataset.create_empty()"
   ]
  },
  {
   "cell_type": "markdown",
   "id": "55651d8d498301e7",
   "metadata": {},
   "source": [
    "### Columns\n",
    "    Dataset.columns\n",
    "    A property to access the columns in the dataset."
   ]
  },
  {
   "cell_type": "code",
   "execution_count": 6,
   "id": "d4391fdaa3654cc0",
   "metadata": {
    "ExecuteTime": {
     "end_time": "2024-07-03T06:57:25.520746Z",
     "start_time": "2024-07-03T06:57:25.514440Z"
    },
    "collapsed": false
   },
   "outputs": [
    {
     "data": {
      "text/plain": [
       "Index([], dtype='object')"
      ]
     },
     "execution_count": 6,
     "metadata": {},
     "output_type": "execute_result"
    }
   ],
   "source": [
    "ds_empty.columns"
   ]
  },
  {
   "cell_type": "code",
   "execution_count": 7,
   "id": "47bd948b",
   "metadata": {},
   "outputs": [
    {
     "data": {
      "text/plain": [
       "Index(['a', 'b'], dtype='object')"
      ]
     },
     "execution_count": 7,
     "metadata": {},
     "output_type": "execute_result"
    }
   ],
   "source": [
    "ds.columns"
   ]
  },
  {
   "cell_type": "code",
   "execution_count": 8,
   "id": "22b340a1",
   "metadata": {},
   "outputs": [
    {
     "data": {
      "text/plain": [
       "'a'"
      ]
     },
     "execution_count": 8,
     "metadata": {},
     "output_type": "execute_result"
    }
   ],
   "source": [
    "ds.columns[0]"
   ]
  },
  {
   "cell_type": "markdown",
   "id": "4ed91cacb4b2ac9",
   "metadata": {},
   "source": [
    "### Index\n",
    "    Dataset.index\n",
    "    Returns the index of the dataset.\n",
    "\n",
    "        Returns:\n",
    "            Any: The index of the dataset."
   ]
  },
  {
   "cell_type": "code",
   "execution_count": 9,
   "id": "ee23ab227e55c3f0",
   "metadata": {},
   "outputs": [
    {
     "data": {
      "text/plain": [
       "RangeIndex(start=0, stop=3, step=1)"
      ]
     },
     "execution_count": 9,
     "metadata": {},
     "output_type": "execute_result"
    }
   ],
   "source": [
    "ds.index"
   ]
  },
  {
   "cell_type": "markdown",
   "id": "f84cc3be41f971cc",
   "metadata": {},
   "source": [
    "### Backend\n",
    "    Dataset.backend\n",
    "    Returns the backend object associated with this instance of the dataset.\n",
    "\n",
    "        Returns:\n",
    "            Backend: The backend object.\n"
   ]
  },
  {
   "cell_type": "code",
   "execution_count": 10,
   "id": "c1e520dd",
   "metadata": {},
   "outputs": [
    {
     "data": {
      "text/plain": [
       "hypex.dataset.backends.pandas_backend.PandasDataset"
      ]
     },
     "execution_count": 10,
     "metadata": {},
     "output_type": "execute_result"
    }
   ],
   "source": [
    "type(ds.backend)"
   ]
  },
  {
   "cell_type": "code",
   "execution_count": 11,
   "id": "fafc1d29ad660762",
   "metadata": {},
   "outputs": [
    {
     "data": {
      "text/plain": [
       "   a    b\n",
       "0  1  4.0\n",
       "1  2  5.0\n",
       "2  3  6.0"
      ]
     },
     "execution_count": 11,
     "metadata": {},
     "output_type": "execute_result"
    }
   ],
   "source": [
    "ds.backend"
   ]
  },
  {
   "cell_type": "markdown",
   "id": "7f623373bd8d24fe",
   "metadata": {},
   "source": [
    "### \n",
    "    Dataset.Data\n",
    "    Provides the direct access to the data of the backend object.\n",
    "\n",
    "    Returns:\n",
    "        Any: The data property of the backend object.\n"
   ]
  },
  {
   "cell_type": "code",
   "execution_count": 12,
   "id": "42bd63636b0c0eb6",
   "metadata": {},
   "outputs": [
    {
     "data": {
      "text/plain": [
       "pandas.core.frame.DataFrame"
      ]
     },
     "execution_count": 12,
     "metadata": {},
     "output_type": "execute_result"
    }
   ],
   "source": [
    "type(ds.data)"
   ]
  },
  {
   "cell_type": "code",
   "execution_count": 13,
   "id": "a5856534b35b4cc7",
   "metadata": {},
   "outputs": [
    {
     "data": {
      "text/html": [
       "<div>\n",
       "<style scoped>\n",
       "    .dataframe tbody tr th:only-of-type {\n",
       "        vertical-align: middle;\n",
       "    }\n",
       "\n",
       "    .dataframe tbody tr th {\n",
       "        vertical-align: top;\n",
       "    }\n",
       "\n",
       "    .dataframe thead th {\n",
       "        text-align: right;\n",
       "    }\n",
       "</style>\n",
       "<table border=\"1\" class=\"dataframe\">\n",
       "  <thead>\n",
       "    <tr style=\"text-align: right;\">\n",
       "      <th></th>\n",
       "      <th>a</th>\n",
       "      <th>b</th>\n",
       "    </tr>\n",
       "  </thead>\n",
       "  <tbody>\n",
       "    <tr>\n",
       "      <th>0</th>\n",
       "      <td>1</td>\n",
       "      <td>4.0</td>\n",
       "    </tr>\n",
       "    <tr>\n",
       "      <th>1</th>\n",
       "      <td>2</td>\n",
       "      <td>5.0</td>\n",
       "    </tr>\n",
       "    <tr>\n",
       "      <th>2</th>\n",
       "      <td>3</td>\n",
       "      <td>6.0</td>\n",
       "    </tr>\n",
       "  </tbody>\n",
       "</table>\n",
       "</div>"
      ],
      "text/plain": [
       "   a    b\n",
       "0  1  4.0\n",
       "1  2  5.0\n",
       "2  3  6.0"
      ]
     },
     "execution_count": 13,
     "metadata": {},
     "output_type": "execute_result"
    }
   ],
   "source": [
    "ds.data"
   ]
  },
  {
   "cell_type": "markdown",
   "id": "dd883379f7d23af4",
   "metadata": {},
   "source": [
    "# Dataset Methods"
   ]
  },
  {
   "cell_type": "markdown",
   "id": "8e5498236fa4d635",
   "metadata": {},
   "source": [
    "### From dict\n",
    "    Dataset.from_dict()\n",
    "    Create a new `Dataset` object from a dictionary of data and roles.\n",
    "        Args:\n",
    "            data (FromDictTypes): The data to be converted into a `Dataset`.\n",
    "            roles (Union[Dict[ABCRole, Union[List[Union[str, int]], str, int]], Dict[Union[str, int], ABCRole]]):\n",
    "                A dictionary mapping roles to column names or indices.\n",
    "            backend (BackendsEnum, optional): The backend to use for the `Dataset`. Defaults to `BackendsEnum.pandas`.\n",
    "            index (Any, optional): The index to use for the `Dataset`. Defaults to None.\n",
    "        Returns:\n",
    "            Dataset: A new `Dataset` object created from the data and roles.\n"
   ]
  },
  {
   "cell_type": "code",
   "execution_count": 14,
   "id": "6bd53eb114a3facf",
   "metadata": {},
   "outputs": [],
   "source": [
    "ds_from_dict = Dataset.from_dict({'a': [1, 2], 'b': [3, 4]}, {'a': TargetRole(), 'b': InfoRole()})"
   ]
  },
  {
   "cell_type": "code",
   "execution_count": 15,
   "id": "7f97f4ca4db12c8",
   "metadata": {},
   "outputs": [
    {
     "data": {
      "text/plain": [
       "   a  b\n",
       "0  1  3\n",
       "1  2  4"
      ]
     },
     "execution_count": 15,
     "metadata": {},
     "output_type": "execute_result"
    }
   ],
   "source": [
    "ds_from_dict"
   ]
  },
  {
   "cell_type": "code",
   "execution_count": 16,
   "id": "f84e59b392c1733e",
   "metadata": {},
   "outputs": [
    {
     "data": {
      "text/plain": [
       "{'a': Target(None), 'b': Info(None)}"
      ]
     },
     "execution_count": 16,
     "metadata": {},
     "output_type": "execute_result"
    }
   ],
   "source": [
    "ds_from_dict.roles"
   ]
  },
  {
   "cell_type": "code",
   "execution_count": 17,
   "id": "520e132c1b89ba91",
   "metadata": {},
   "outputs": [
    {
     "data": {
      "text/plain": [
       "   a    b\n",
       "0  1  4.0\n",
       "1  2  5.0\n",
       "2  3  6.0"
      ]
     },
     "execution_count": 17,
     "metadata": {},
     "output_type": "execute_result"
    }
   ],
   "source": [
    "ds"
   ]
  },
  {
   "cell_type": "markdown",
   "id": "c380164d6b4e5a67",
   "metadata": {},
   "source": [
    "### Search Columns\n",
    "    Dataset.search_columns()\n",
    "    Searches for columns in the dataset based on the given roles and data types.\n",
    "\n",
    "    Args:\n",
    "        roles (Union[ABCRole, Iterable[ABCRole]]): The roles to search for.\n",
    "        tmp_role (bool, optional): Whether to search in temporary roles. Defaults to False.\n",
    "        search_types (Optional[List], optional): The types to search for. Defaults to None.\n",
    "    \n",
    "    Returns:\n",
    "        List[str]: A list of column names matching the given roles."
   ]
  },
  {
   "cell_type": "code",
   "execution_count": 18,
   "id": "243c84fd545c9117",
   "metadata": {},
   "outputs": [
    {
     "data": {
      "text/plain": [
       "['a']"
      ]
     },
     "execution_count": 18,
     "metadata": {},
     "output_type": "execute_result"
    }
   ],
   "source": [
    "columns_found = ds.search_columns(TargetRole(), search_types=[int])\n",
    "columns_found"
   ]
  },
  {
   "cell_type": "code",
   "execution_count": 19,
   "id": "994ca789a6524c3a",
   "metadata": {},
   "outputs": [
    {
     "data": {
      "text/plain": [
       "   a\n",
       "0  1\n",
       "1  2\n",
       "2  3"
      ]
     },
     "execution_count": 19,
     "metadata": {},
     "output_type": "execute_result"
    }
   ],
   "source": [
    "ds[columns_found]"
   ]
  },
  {
   "cell_type": "markdown",
   "id": "51cd55cc07aa03a2",
   "metadata": {},
   "source": [
    "### Simple math methods"
   ]
  },
  {
   "cell_type": "code",
   "execution_count": 20,
   "id": "8ddda807bea6a4d0",
   "metadata": {},
   "outputs": [
    {
     "data": {
      "text/plain": [
       "        a    b\n",
       "mean  2.0  5.0"
      ]
     },
     "execution_count": 20,
     "metadata": {},
     "output_type": "execute_result"
    }
   ],
   "source": [
    "ds.mean()"
   ]
  },
  {
   "cell_type": "code",
   "execution_count": 21,
   "id": "6c1f07840882c24",
   "metadata": {},
   "outputs": [
    {
     "data": {
      "text/plain": [
       "       a  b\n",
       "count  3  3"
      ]
     },
     "execution_count": 21,
     "metadata": {},
     "output_type": "execute_result"
    }
   ],
   "source": [
    "ds.count()"
   ]
  },
  {
   "cell_type": "code",
   "execution_count": 22,
   "id": "9546b82c94140a3b",
   "metadata": {},
   "outputs": [
    {
     "data": {
      "text/plain": [
       "          a         b\n",
       "0  0.000000  1.386294\n",
       "1  0.693147  1.609438\n",
       "2  1.098612  1.791759"
      ]
     },
     "execution_count": 22,
     "metadata": {},
     "output_type": "execute_result"
    }
   ],
   "source": [
    "ds.log()"
   ]
  },
  {
   "cell_type": "code",
   "execution_count": 23,
   "id": "d2a69656d09fda08",
   "metadata": {},
   "outputs": [
    {
     "data": {
      "text/plain": [
       "     a    b\n",
       "min  1  4.0"
      ]
     },
     "execution_count": 23,
     "metadata": {},
     "output_type": "execute_result"
    }
   ],
   "source": [
    "ds.min()"
   ]
  },
  {
   "cell_type": "markdown",
   "id": "2e996a6fa66ee1a1",
   "metadata": {},
   "source": [
    "### Get item\n",
    "    Retrieves an item from the dataset based on the specified index and returns a new Dataset object containing the retrieved data along with the corresponding roles.\n",
    "        \n",
    "        Parameters:\n",
    "            item: The index or indices to locate the item(s) in the dataset.\n",
    "            \n",
    "        Returns:\n",
    "            Dataset: A new Dataset object containing the retrieved data and roles."
   ]
  },
  {
   "cell_type": "code",
   "execution_count": 24,
   "id": "e156b5587bc08370",
   "metadata": {},
   "outputs": [
    {
     "data": {
      "text/plain": [
       "     1\n",
       "a  2.0\n",
       "b  5.0"
      ]
     },
     "execution_count": 24,
     "metadata": {},
     "output_type": "execute_result"
    }
   ],
   "source": [
    "ds[1]"
   ]
  },
  {
   "cell_type": "code",
   "execution_count": 25,
   "id": "8973eeface0fac20",
   "metadata": {},
   "outputs": [
    {
     "data": {
      "text/plain": [
       "   1\n",
       "a  2"
      ]
     },
     "execution_count": 25,
     "metadata": {},
     "output_type": "execute_result"
    }
   ],
   "source": [
    "ds['a'][1]"
   ]
  },
  {
   "cell_type": "code",
   "execution_count": 26,
   "id": "dc77d7f3be4de04c",
   "metadata": {},
   "outputs": [
    {
     "data": {
      "text/html": [
       "<div>\n",
       "<style scoped>\n",
       "    .dataframe tbody tr th:only-of-type {\n",
       "        vertical-align: middle;\n",
       "    }\n",
       "\n",
       "    .dataframe tbody tr th {\n",
       "        vertical-align: top;\n",
       "    }\n",
       "\n",
       "    .dataframe thead th {\n",
       "        text-align: right;\n",
       "    }\n",
       "</style>\n",
       "<table border=\"1\" class=\"dataframe\">\n",
       "  <thead>\n",
       "    <tr style=\"text-align: right;\">\n",
       "      <th></th>\n",
       "      <th>a</th>\n",
       "      <th>b</th>\n",
       "    </tr>\n",
       "  </thead>\n",
       "  <tbody>\n",
       "    <tr>\n",
       "      <th>0</th>\n",
       "      <td>NaN</td>\n",
       "      <td>4.0</td>\n",
       "    </tr>\n",
       "    <tr>\n",
       "      <th>1</th>\n",
       "      <td>NaN</td>\n",
       "      <td>NaN</td>\n",
       "    </tr>\n",
       "    <tr>\n",
       "      <th>2</th>\n",
       "      <td>NaN</td>\n",
       "      <td>NaN</td>\n",
       "    </tr>\n",
       "  </tbody>\n",
       "</table>\n",
       "</div>"
      ],
      "text/plain": [
       "    a    b\n",
       "0 NaN  4.0\n",
       "1 NaN  NaN\n",
       "2 NaN  NaN"
      ]
     },
     "execution_count": 26,
     "metadata": {},
     "output_type": "execute_result"
    }
   ],
   "source": [
    "ds.data[ds.data[['a', 'b']] == 4]"
   ]
  },
  {
   "cell_type": "code",
   "execution_count": 27,
   "id": "a7227bd576d1cc6d",
   "metadata": {},
   "outputs": [
    {
     "data": {
      "text/plain": [
       "    a    b\n",
       "0 NaN  4.0\n",
       "1 NaN  NaN\n",
       "2 NaN  NaN"
      ]
     },
     "execution_count": 27,
     "metadata": {},
     "output_type": "execute_result"
    }
   ],
   "source": [
    "ds[ds[['a', 'b']] == 4]"
   ]
  },
  {
   "cell_type": "markdown",
   "id": "49f7630956d01734",
   "metadata": {},
   "source": [
    "### Add column\n",
    "    Dataset.add_column()\n",
    "    Adds a new column to the dataset. Overwrites the original data.\n",
    "        Args:\n",
    "            data (Union[Dataset, Any]): The data to be added as a column. If `role` is not provided, `data`\n",
    "                must be an instance of `Dataset`. Otherwise, it can be any type of data.\n",
    "            role (Optional[Dict[str, ABCRole]]): The role of the column. If not provided, the roles from\n",
    "                `data` will be updated. Defaults to None.\n",
    "            index (Optional[Iterable[Hashable]]): The index of the column. Defaults to None.\n",
    "        Returns:\n",
    "            Dataset: The updated dataset with the new column added.\n",
    "        Raises:\n",
    "            ValueError: If `role` is not provided and `data` is not an instance of `Dataset`.\n"
   ]
  },
  {
   "cell_type": "code",
   "execution_count": 28,
   "id": "9904c0182a9497ca",
   "metadata": {},
   "outputs": [
    {
     "data": {
      "text/plain": [
       "   a    b  c\n",
       "0  1  4.0  7\n",
       "1  2  5.0  8\n",
       "2  3  6.0  9"
      ]
     },
     "execution_count": 28,
     "metadata": {},
     "output_type": "execute_result"
    }
   ],
   "source": [
    "ds.add_column([7, 8, 9], {'c': TargetRole(int)})\n",
    "ds"
   ]
  },
  {
   "cell_type": "markdown",
   "id": "d64ef20b59548deb",
   "metadata": {},
   "source": [
    "### Map\n",
    "    Dataset.map()\n",
    "    Apply a function to each element of the dataset.\n",
    "        Args:\n",
    "            func (Callable): The function to apply to each element.\n",
    "            na_action (Optional[str]): The action to take when encountering missing values.\n",
    "                Defaults to None.\n",
    "            **kwargs: Additional keyword arguments to pass to the function.\n",
    "        Returns:\n",
    "            Dataset: A new dataset with the function applied to each element.\n"
   ]
  },
  {
   "cell_type": "code",
   "execution_count": 29,
   "id": "fb1f19b7d8748ede",
   "metadata": {},
   "outputs": [
    {
     "data": {
      "text/plain": [
       "   a\n",
       "0  2\n",
       "1  4\n",
       "2  6"
      ]
     },
     "execution_count": 29,
     "metadata": {},
     "output_type": "execute_result"
    }
   ],
   "source": [
    "ds['a'].map(lambda x: x * 2)"
   ]
  },
  {
   "cell_type": "markdown",
   "id": "e93a1aa4b9b40093",
   "metadata": {},
   "source": [
    "### Unique\n",
    "    Dataset.unique()\n",
    "    Returns a dictionary containing the unique values in each column of the dataset.\n",
    "        Returns:\n",
    "            Dict[str, List[Any]]: The unique values in the dataset.\n",
    "        "
   ]
  },
  {
   "cell_type": "code",
   "execution_count": 30,
   "id": "a90d7ac62c8f4d50",
   "metadata": {},
   "outputs": [
    {
     "data": {
      "text/plain": [
       "{'a': array([1, 2, 3]), 'b': array([4., 5., 6.]), 'c': array([7, 8, 9])}"
      ]
     },
     "execution_count": 30,
     "metadata": {},
     "output_type": "execute_result"
    }
   ],
   "source": [
    "ds.unique()"
   ]
  },
  {
   "cell_type": "markdown",
   "id": "b53d440dc884acfb",
   "metadata": {},
   "source": [
    "### Number of unique\n",
    "    Dataset.nunique()\n",
    "    Returns a dictionary containing the number of unique values for each column in the dataset.\n",
    "\n",
    "        Args:\n",
    "            dropna (bool, optional): If True, rows with missing values are not counted. Defaults to False.\n",
    "\n",
    "        Returns:\n",
    "            Dict[str, int]: A dictionary where the keys are the column names and the values are the number of unique values in each column."
   ]
  },
  {
   "cell_type": "code",
   "execution_count": 31,
   "id": "db8b2ac893f94832",
   "metadata": {},
   "outputs": [
    {
     "data": {
      "text/plain": [
       "{'a': 3, 'b': 3, 'c': 3}"
      ]
     },
     "execution_count": 31,
     "metadata": {},
     "output_type": "execute_result"
    }
   ],
   "source": [
    "ds.nunique()"
   ]
  },
  {
   "cell_type": "markdown",
   "id": "8d6d0a465b56f9e7",
   "metadata": {},
   "source": [
    "### Apply\n",
    "    Dataset.apply()\n",
    "    Apply a function to a specific column or row of the dataset.\n",
    "        Args:\n",
    "            func (Callable): The function to be applied.\n",
    "            role (Dict[FieldKeyTypes, ABCRole]): A dictionary mapping column names to their roles.\n",
    "            axis (int, optional): The axis along which the function is applied. Defaults to 0.\n",
    "                - 0: Apply the function to the rows of the dataset.\n",
    "                - 1: Apply the function to the columns of the dataset.\n",
    "            **kwargs: Additional keyword arguments to be passed to the function.\n",
    "        Returns:\n",
    "            Dataset: A new dataset with the applied function.\n",
    "        "
   ]
  },
  {
   "cell_type": "code",
   "execution_count": 32,
   "id": "d8970e778f0f4448",
   "metadata": {},
   "outputs": [
    {
     "data": {
      "text/plain": [
       "   a    b  c   new\n",
       "0  1  4.0  7  15.0\n",
       "1  2  5.0  8  17.0\n",
       "2  3  6.0  9  19.0"
      ]
     },
     "execution_count": 32,
     "metadata": {},
     "output_type": "execute_result"
    }
   ],
   "source": [
    "ds.add_column(ds.apply(func=lambda x: x['a'] + x['c'] + 7, role={\"new\": InfoRole()}, axis=1))\n",
    "ds"
   ]
  },
  {
   "cell_type": "code",
   "execution_count": 33,
   "id": "fc481e8de1882c03",
   "metadata": {},
   "outputs": [
    {
     "data": {
      "text/plain": [
       "{'a': Target(<class 'int'>),\n",
       " 'b': Target(<class 'float'>),\n",
       " 'c': Target(<class 'int'>),\n",
       " 'new': Info(<class 'float'>)}"
      ]
     },
     "execution_count": 33,
     "metadata": {},
     "output_type": "execute_result"
    }
   ],
   "source": [
    "ds.roles"
   ]
  },
  {
   "cell_type": "code",
   "execution_count": 34,
   "id": "ee6e13c96f86ffed",
   "metadata": {},
   "outputs": [
    {
     "data": {
      "text/plain": [
       "   a    b  c   new  f\n",
       "0  1  4.0  7  15.0  8\n",
       "1  2  5.0  8  17.0  9\n",
       "2  3  6.0  9  19.0  7"
      ]
     },
     "execution_count": 34,
     "metadata": {},
     "output_type": "execute_result"
    }
   ],
   "source": [
    "ds.add_column([7, 8, 9], {'f': TargetRole(int)}, index=[2, 0, 1])"
   ]
  },
  {
   "cell_type": "markdown",
   "id": "3d78a4e02fc8ef07",
   "metadata": {},
   "source": [
    "### Set item\n",
    "    A method to set an item in the Dataset object using a key and value.\n",
    "\n",
    "        Parameters:\n",
    "            key (str): The key to identify the item in the Dataset.\n",
    "            value (Any): The value to be set for the key. If the value is a Dataset, its data attribute is used.\n",
    "\n",
    "        Returns:\n",
    "            None\n"
   ]
  },
  {
   "cell_type": "code",
   "execution_count": 35,
   "id": "90c9e7fc06b8472e",
   "metadata": {},
   "outputs": [
    {
     "name": "stderr",
     "output_type": "stream",
     "text": [
      "/home/tony_katkov/job/HypEx/hypex/dataset/dataset.py:104: SyntaxWarning: Column must be added by add_column\n",
      "  warnings.warn(\"Column must be added by add_column\", category=SyntaxWarning)\n"
     ]
    },
    {
     "data": {
      "text/plain": [
       "   a    b  c   new  f  e\n",
       "0  1  4.0  7  15.0  8  1\n",
       "1  2  5.0  8  17.0  9  2\n",
       "2  3  6.0  9  19.0  7  3"
      ]
     },
     "execution_count": 35,
     "metadata": {},
     "output_type": "execute_result"
    }
   ],
   "source": [
    "ds['e'] = [1, 2, 3]\n",
    "ds"
   ]
  },
  {
   "cell_type": "code",
   "execution_count": 36,
   "id": "b036d6de0a00ad8",
   "metadata": {},
   "outputs": [
    {
     "data": {
      "text/plain": [
       "   a    b  c   new  f  e\n",
       "0  1  4.0  7  15.0  8  1\n",
       "1  2  5.0  8  17.0  9  2\n",
       "2  3  6.0  9  19.0  7  3"
      ]
     },
     "execution_count": 36,
     "metadata": {},
     "output_type": "execute_result"
    }
   ],
   "source": [
    "ds['a'][1] = 1\n",
    "ds"
   ]
  },
  {
   "cell_type": "markdown",
   "id": "785fc079c3b3c6ae",
   "metadata": {},
   "source": [
    "### Is in\n",
    "    Dataset.isin()\n",
    "    Returns a new Dataset object with the same roles as the current Dataset, but with the data filtered to only include rows where the values in the columns match any of the values in the given iterable.\n",
    "\n",
    "        Args:\n",
    "            values (Iterable): An iterable of values to match against.\n",
    "\n",
    "        Returns:\n",
    "            Dataset: A new Dataset object with the filtered data."
   ]
  },
  {
   "cell_type": "code",
   "execution_count": 37,
   "id": "c27dce96fef8ed56",
   "metadata": {},
   "outputs": [
    {
     "data": {
      "text/plain": [
       "       a      b      c    new      f      e\n",
       "0  False  False  False  False   True  False\n",
       "1  False  False   True  False  False  False\n",
       "2   True  False  False  False  False   True"
      ]
     },
     "execution_count": 37,
     "metadata": {},
     "output_type": "execute_result"
    }
   ],
   "source": [
    "ds.isin([3, 8])"
   ]
  },
  {
   "cell_type": "code",
   "execution_count": 38,
   "id": "86adbae2c4f153a4",
   "metadata": {},
   "outputs": [
    {
     "data": {
      "text/plain": [
       "{'a': Target(<class 'int'>),\n",
       " 'b': Target(<class 'float'>),\n",
       " 'c': Target(<class 'int'>),\n",
       " 'new': Info(<class 'float'>),\n",
       " 'f': Target(<class 'int'>),\n",
       " 'e': Info(None)}"
      ]
     },
     "execution_count": 38,
     "metadata": {},
     "output_type": "execute_result"
    }
   ],
   "source": [
    "ds.roles"
   ]
  },
  {
   "cell_type": "markdown",
   "id": "e9587d50f5f8e9a6",
   "metadata": {},
   "source": [
    "### Group by\n",
    "    Dataset.groupby()\n",
    "    Groups the data in the Dataset object by the specified column(s) and applies optional aggregation functions.\n",
    "        Parameters:\n",
    "            by (Any): The column(s) to group the data by.\n",
    "            func (Optional[Union[str, List]]): The aggregation function(s) to apply to each group. Defaults to None.\n",
    "            fields_list (Optional[Union[str, List]]): The columns to include in each group. Defaults to None.\n",
    "            **kwargs: Additional keyword arguments to pass to the underlying backend's groupby method.\n",
    "        Returns:\n",
    "            List[Tuple[Any, Dataset]]: A list of tuples, where each tuple contains the group key and the corresponding Dataset object.\n",
    "        Note:\n",
    "            - If `fields_list` is provided, only the specified columns will be included in each group.\n",
    "            - If `func` is provided, the aggregation function(s) will be applied to each group.\n",
    "            - The `tmp_roles` attribute of each Dataset object in the returned list will be set to the `tmp_roles` attribute of the original Dataset object.\n",
    "       "
   ]
  },
  {
   "cell_type": "code",
   "execution_count": 39,
   "id": "298d0e9eb0e93232",
   "metadata": {},
   "outputs": [
    {
     "name": "stdout",
     "output_type": "stream",
     "text": [
      "[(1,         a    b    c   new    f    e\n",
      "mean  1.0  4.0  7.0  15.0  8.0  1.0), (2,         a    b    c   new    f    e\n",
      "mean  2.0  5.0  8.0  17.0  9.0  2.0), (3,         a    b    c   new    f    e\n",
      "mean  3.0  6.0  9.0  19.0  7.0  3.0)]\n"
     ]
    }
   ],
   "source": [
    "groups_func = ds.groupby('a', func='mean')\n",
    "print(groups_func)"
   ]
  },
  {
   "cell_type": "code",
   "execution_count": 40,
   "id": "3692a9da2cca79fa",
   "metadata": {},
   "outputs": [
    {
     "name": "stdout",
     "output_type": "stream",
     "text": [
      "[(1,    a    b  c   new  f  e\n",
      "0  1  4.0  7  15.0  8  1), (2,    a    b  c   new  f  e\n",
      "1  2  5.0  8  17.0  9  2), (3,    a    b  c   new  f  e\n",
      "2  3  6.0  9  19.0  7  3)]\n"
     ]
    }
   ],
   "source": [
    "groups = ds.groupby('a')\n",
    "print(groups)"
   ]
  },
  {
   "cell_type": "code",
   "execution_count": 41,
   "id": "676c931b395d054c",
   "metadata": {},
   "outputs": [
    {
     "name": "stdout",
     "output_type": "stream",
     "text": [
      "[(1,         e\n",
      "mean  1.0\n",
      "var   NaN), (2,         e\n",
      "mean  2.0\n",
      "var   NaN), (3,         e\n",
      "mean  3.0\n",
      "var   NaN)]\n"
     ]
    }
   ],
   "source": [
    "groups_func_fields = ds.groupby('a', func=['mean', 'var'], fields_list='e')\n",
    "print(groups_func_fields)"
   ]
  },
  {
   "cell_type": "markdown",
   "id": "a13d882d7b27070d",
   "metadata": {},
   "source": [
    "### Sort\n",
    "    Dataset.sort()\n",
    "    Sorts the data in the Dataset object based on the specified fields.\n",
    "\n",
    "        Parameters:\n",
    "            by (Optional[MultiFieldKeyTypes]): The fields to sort the data by. If None, the data will be sorted based on the index. Defaults to None.\n",
    "            ascending (bool): Whether to sort the data in ascending order. Defaults to True.\n",
    "            **kwargs: Additional keyword arguments to be passed to the sorting function.\n",
    "\n",
    "        Returns:\n",
    "            Dataset: A new Dataset object with the sorted data."
   ]
  },
  {
   "cell_type": "code",
   "execution_count": 42,
   "id": "4a77c699991a27ed",
   "metadata": {},
   "outputs": [
    {
     "data": {
      "text/plain": [
       "   a    b  c   new  f  e\n",
       "2  3  6.0  9  19.0  7  3\n",
       "1  2  5.0  8  17.0  9  2\n",
       "0  1  4.0  7  15.0  8  1"
      ]
     },
     "execution_count": 42,
     "metadata": {},
     "output_type": "execute_result"
    }
   ],
   "source": [
    "ds.sort('a', ascending=False)"
   ]
  },
  {
   "cell_type": "markdown",
   "id": "ba0edbd20e1f15f3",
   "metadata": {},
   "source": [
    "### Fill nans\n",
    "    Dataset.fillna()\n",
    "    Fills missing values in the dataset with the specified values.\n",
    "        Args:\n",
    "            values (Union[int, Dict[FieldKeyTypes, FieldKeyTypes]]): The values to fill missing data with. If an integer is provided, all missing values will be filled with that integer. If a dictionary is provided, the keys represent the fields to fill missing data in, and the values represent the values to fill the missing data with.\n",
    "            method (Optional[str]): The method to use for filling missing data. Must be one of \"backfill\", \"bfill\", or \"ffill\". If not provided, missing data will be filled with the specified values.\n",
    "            **kwargs: Additional keyword arguments to be passed to the fillna function.\n",
    "        Returns:\n",
    "            Dataset: A new Dataset object with the filled data.\n",
    "        Raises:\n",
    "            NameError: If an unsupported fill method is provided.\n"
   ]
  },
  {
   "cell_type": "code",
   "execution_count": 43,
   "id": "76fb0907554830cb",
   "metadata": {},
   "outputs": [
    {
     "data": {
      "text/plain": [
       "   a    b  c   new  f  e    g\n",
       "0  1  4.0  7  15.0  8  1  0.0\n",
       "1  2  5.0  8  17.0  9  2  NaN\n",
       "2  3  6.0  9  19.0  7  3  2.0"
      ]
     },
     "execution_count": 43,
     "metadata": {},
     "output_type": "execute_result"
    }
   ],
   "source": [
    "fds = copy.deepcopy(ds)\n",
    "fds.add_column([0, np.NaN, 2], {'g': InfoRole(int)})\n",
    "fds"
   ]
  },
  {
   "cell_type": "code",
   "execution_count": 44,
   "id": "1432829b8e53b829",
   "metadata": {},
   "outputs": [
    {
     "data": {
      "text/plain": [
       "   a    b  c   new  f  e   g\n",
       "0  1  4.0  7  15.0  8  1   0\n",
       "1  2  5.0  8  17.0  9  2  42\n",
       "2  3  6.0  9  19.0  7  3   2"
      ]
     },
     "execution_count": 44,
     "metadata": {},
     "output_type": "execute_result"
    }
   ],
   "source": [
    "fds.fillna(42)"
   ]
  },
  {
   "cell_type": "markdown",
   "id": "ed9dac0add5141c0",
   "metadata": {},
   "source": [
    "### Aggregation\n",
    "    Dataset.agg()\n",
    "    Perform an aggregation operation using the specified function(s) on the dataset.\n",
    "        \n",
    "        Parameters:\n",
    "            func (Union[str, List]): The aggregation function or list of functions to apply.\n",
    "        \n",
    "        Returns:\n",
    "            The aggregated data after applying the specified function(s)."
   ]
  },
  {
   "cell_type": "code",
   "execution_count": 45,
   "id": "464acaad9c35c0b9",
   "metadata": {},
   "outputs": [
    {
     "data": {
      "text/plain": [
       "        a     b     c   new     f    e\n",
       "sum   6.0  15.0  24.0  51.0  24.0  6.0\n",
       "mean  2.0   5.0   8.0  17.0   8.0  2.0"
      ]
     },
     "execution_count": 45,
     "metadata": {},
     "output_type": "execute_result"
    }
   ],
   "source": [
    "ds.agg(['sum', 'mean'])"
   ]
  },
  {
   "cell_type": "markdown",
   "id": "b6a2ed3a1e12f5ec",
   "metadata": {},
   "source": [
    "### Index max\n",
    "    Dataset.idxmax()\n",
    "    Returns the index of the maximum value in each group of the dataset.\n",
    "        \n",
    "        Returns:\n",
    "            The dataset with the index of the maximum value in each group."
   ]
  },
  {
   "cell_type": "code",
   "execution_count": 46,
   "id": "813b70d7798bae9d",
   "metadata": {},
   "outputs": [
    {
     "data": {
      "text/plain": [
       "        a  b\n",
       "idxmax  2  2"
      ]
     },
     "execution_count": 46,
     "metadata": {},
     "output_type": "execute_result"
    }
   ],
   "source": [
    "ds[['a', 'b']].idxmax()"
   ]
  },
  {
   "cell_type": "markdown",
   "id": "6dab81056a5a3ea6",
   "metadata": {},
   "source": [
    "### Correlation\n",
    "    Dataset.corr()\n",
    "    Calculate the correlation matrix of the columns in the dataset with each other.\n",
    "        Parameters:\n",
    "            method (str, optional): The method to use for calculating the correlation. Defaults to \"pearson\".\n",
    "            numeric_only (bool, optional): Whether to calculate the correlation only for numeric columns. Defaults to False.\n",
    "        Returns:\n",
    "            Dataset: A new Dataset object with the correlation matrix."
   ]
  },
  {
   "cell_type": "code",
   "execution_count": 47,
   "id": "afd79b10cc5f8b95",
   "metadata": {},
   "outputs": [
    {
     "data": {
      "text/plain": [
       "     a    b  c  new  f  e\n",
       "a    1  1.0  1  1.0  0  1\n",
       "b    1  1.0  1  1.0  0  1\n",
       "c    1  1.0  1  1.0  0  1\n",
       "new  1  1.0  1  1.0  0  1\n",
       "f    0 -0.5  0 -0.5  1  0\n",
       "e    1  1.0  1  1.0  0  1"
      ]
     },
     "execution_count": 47,
     "metadata": {},
     "output_type": "execute_result"
    }
   ],
   "source": [
    "ds.corr()"
   ]
  },
  {
   "cell_type": "markdown",
   "id": "302b79fd7e7c2361",
   "metadata": {},
   "source": [
    "### Quantile\n",
    "    Dataset.quantile()\n",
    "    Calculate the quantile of the data.\n",
    "        Args:\n",
    "            q (float, optional): The quantile to calculate. Defaults to 0.5.\n",
    "        Returns:\n",
    "            Dataset: A new Dataset object with the quantile values calculated."
   ]
  },
  {
   "cell_type": "code",
   "execution_count": 48,
   "id": "f2203cd0c59f8c43",
   "metadata": {},
   "outputs": [
    {
     "data": {
      "text/plain": [
       "            a    b    c   new    f    e\n",
       "quantile  1.6  4.6  7.6  16.2  7.6  1.6"
      ]
     },
     "execution_count": 48,
     "metadata": {},
     "output_type": "execute_result"
    }
   ],
   "source": [
    "ds.quantile(0.3)"
   ]
  },
  {
   "cell_type": "markdown",
   "id": "b688c5d43a439e61",
   "metadata": {},
   "source": [
    "### Select dtypes\n",
    "    Dataset.select_dtypes()\n",
    "    Selects columns from the dataset based on the data types.\n",
    "        Args:\n",
    "            include (Any, optional): A list of data types to include. Defaults to None.\n",
    "            exclude (Any, optional): A list of data types to exclude. Defaults to None.\n",
    "        Returns:\n",
    "            Dataset: A new dataset with the selected columns and roles."
   ]
  },
  {
   "cell_type": "code",
   "execution_count": 49,
   "id": "46bf9b5e",
   "metadata": {},
   "outputs": [
    {
     "data": {
      "text/plain": [
       "   a  c  f  e\n",
       "0  1  7  8  1\n",
       "1  2  8  9  2\n",
       "2  3  9  7  3"
      ]
     },
     "execution_count": 49,
     "metadata": {},
     "output_type": "execute_result"
    }
   ],
   "source": [
    "ds.select_dtypes(include='int')"
   ]
  },
  {
   "cell_type": "code",
   "execution_count": 50,
   "id": "13f692c2",
   "metadata": {},
   "outputs": [
    {
     "data": {
      "text/plain": [
       "     b   new\n",
       "0  4.0  15.0\n",
       "1  5.0  17.0\n",
       "2  6.0  19.0"
      ]
     },
     "execution_count": 50,
     "metadata": {},
     "output_type": "execute_result"
    }
   ],
   "source": [
    "ds.select_dtypes(exclude='int')"
   ]
  },
  {
   "cell_type": "markdown",
   "id": "ce0acb8b984ab108",
   "metadata": {},
   "source": [
    "### Merge\n",
    "    Dataset.merge()\n",
    "    Merges this Dataset with another Dataset using specified columns or indices.\n",
    "        Parameters:\n",
    "            right: Dataset - The Dataset to merge with.\n",
    "            on: Optional[FieldKeyTypes] - Columns to join on from both Datasets.\n",
    "            left_on: Optional[FieldKeyTypes] - Columns from this Dataset to join on.\n",
    "            right_on: Optional[FieldKeyTypes] - Columns from the other Dataset to join on.\n",
    "            left_index: bool - Use the index from this Dataset as the merge key.\n",
    "            right_index: bool - Use the index from the other Dataset as the merge key.\n",
    "            suffixes: tuple[str, str] - Suffixes to append to overlapping column names.\n",
    "            how: Literal[\"left\", \"right\", \"outer\", \"inner\", \"cross\"] - Type of merge to perform.\n",
    "        Returns:\n",
    "            Dataset - A new Dataset resulting from the merge operation.\n",
    "        Note:\n",
    "            The merge operation is performed on the specified columns or indices. If no columns or indices are specified, the merge is performed on the indexes of both Datasets."
   ]
  },
  {
   "cell_type": "code",
   "execution_count": 51,
   "id": "202793b1d6c2cb86",
   "metadata": {},
   "outputs": [
    {
     "data": {
      "text/plain": [
       "   a_x  b_x  c_x  new_x  f_x  e_x  a_y  b_y  c_y  new_y  f_y  e_y\n",
       "0    1  4.0    7   15.0    8    1    1  4.0    7   15.0    8    1\n",
       "1    2  5.0    8   17.0    9    2    2  5.0    8   17.0    9    2\n",
       "2    3  6.0    9   19.0    7    3    3  6.0    9   19.0    7    3"
      ]
     },
     "execution_count": 51,
     "metadata": {},
     "output_type": "execute_result"
    }
   ],
   "source": [
    "ds.merge(ds)"
   ]
  },
  {
   "cell_type": "code",
   "execution_count": 52,
   "id": "25cac49d6c054c51",
   "metadata": {},
   "outputs": [
    {
     "data": {
      "text/plain": [
       "   a  a_this  b_this  c_this  new_this  f_this  e_this  a_other  b_other  \\\n",
       "0  1       1     4.0       7      15.0       8       1        2      5.0   \n",
       "1  2       2     5.0       8      17.0       9       2        3      6.0   \n",
       "\n",
       "   c_other  new_other  f_other  e_other  \n",
       "0        8       17.0        9        2  \n",
       "1        9       19.0        7        3  "
      ]
     },
     "execution_count": 52,
     "metadata": {},
     "output_type": "execute_result"
    }
   ],
   "source": [
    "ds.merge(ds, left_on='a', right_index=True, suffixes=('_this', '_other'))"
   ]
  },
  {
   "cell_type": "markdown",
   "id": "afa4aae9e20280d7",
   "metadata": {},
   "source": [
    "### Transpose\n",
    "    Dataset.transpose()\n",
    "    Transposes the dataset based and assignes the specified roles to the new columns.\n",
    "        Args:\n",
    "            roles (Optional[Union[Dict[Union[str, int], ABCRole], List]]): The roles to be assigned to the columns of the transposed dataset. \n",
    "                - If a dictionary is provided, the keys are the names of the columns and the values are the roles to be assigned.\n",
    "                - If a list is provided, he roles are set to default type - Feature, the new column names are taken from the provided list.\n",
    "                - If not provided, the roles are set to default type - Feature, the new column names are taken from the index of the original dataset.\n",
    "        Returns:\n",
    "            Dataset: The transposed dataset."
   ]
  },
  {
   "cell_type": "code",
   "execution_count": 53,
   "id": "566e45ce7bb4be98",
   "metadata": {},
   "outputs": [
    {
     "data": {
      "text/plain": [
       "      one     2   III\n",
       "a     1.0   2.0   3.0\n",
       "b     4.0   5.0   6.0\n",
       "c     7.0   8.0   9.0\n",
       "new  15.0  17.0  19.0\n",
       "f     8.0   9.0   7.0\n",
       "e     1.0   2.0   3.0"
      ]
     },
     "execution_count": 53,
     "metadata": {},
     "output_type": "execute_result"
    }
   ],
   "source": [
    "ds.transpose({'one': FeatureRole(), '2': InfoRole(), 'III': InfoRole()})"
   ]
  },
  {
   "cell_type": "code",
   "execution_count": 54,
   "id": "52271a04f3e51084",
   "metadata": {},
   "outputs": [
    {
     "data": {
      "text/plain": [
       "        0     1     2\n",
       "a     1.0   2.0   3.0\n",
       "b     4.0   5.0   6.0\n",
       "c     7.0   8.0   9.0\n",
       "new  15.0  17.0  19.0\n",
       "f     8.0   9.0   7.0\n",
       "e     1.0   2.0   3.0"
      ]
     },
     "execution_count": 54,
     "metadata": {},
     "output_type": "execute_result"
    }
   ],
   "source": [
    "ds.transpose()"
   ]
  },
  {
   "cell_type": "code",
   "execution_count": 55,
   "id": "4ec26e50e3ed905f",
   "metadata": {},
   "outputs": [
    {
     "data": {
      "text/plain": [
       "{0: Feature(<class 'float'>),\n",
       " 1: Feature(<class 'float'>),\n",
       " 2: Feature(<class 'float'>)}"
      ]
     },
     "execution_count": 55,
     "metadata": {},
     "output_type": "execute_result"
    }
   ],
   "source": [
    "ds.transpose().roles"
   ]
  },
  {
   "cell_type": "code",
   "execution_count": 56,
   "id": "2278eb13",
   "metadata": {},
   "outputs": [
    {
     "data": {
      "text/plain": [
       "      one     2   III\n",
       "a     1.0   2.0   3.0\n",
       "b     4.0   5.0   6.0\n",
       "c     7.0   8.0   9.0\n",
       "new  15.0  17.0  19.0\n",
       "f     8.0   9.0   7.0\n",
       "e     1.0   2.0   3.0"
      ]
     },
     "execution_count": 56,
     "metadata": {},
     "output_type": "execute_result"
    }
   ],
   "source": [
    "ds.transpose(['one', '2', 'III'])"
   ]
  },
  {
   "cell_type": "markdown",
   "id": "ea33279e47df315f",
   "metadata": {},
   "source": [
    "### Shuffle\n",
    "    Dataset.shuffle()\n",
    "    Shuffles the dataset rows of the dataset.\n",
    "        Parameters:\n",
    "            random_state (Optional[int]): Optional random state for reproducibility.\n",
    "        Returns:\n",
    "            Dataset: A new Dataset object with shuffled data."
   ]
  },
  {
   "cell_type": "code",
   "execution_count": 57,
   "id": "49df742a55637972",
   "metadata": {},
   "outputs": [
    {
     "data": {
      "text/plain": [
       "   a    b  c   new  f  e\n",
       "2  3  6.0  9  19.0  7  3\n",
       "0  1  4.0  7  15.0  8  1\n",
       "1  2  5.0  8  17.0  9  2"
      ]
     },
     "execution_count": 57,
     "metadata": {},
     "output_type": "execute_result"
    }
   ],
   "source": [
    "ds.shuffle()"
   ]
  },
  {
   "cell_type": "code",
   "execution_count": 58,
   "id": "25dab75ddaebc1d4",
   "metadata": {},
   "outputs": [
    {
     "data": {
      "text/plain": [
       "   a    b  c   new  f  e\n",
       "2  3  6.0  9  19.0  7  3\n",
       "0  1  4.0  7  15.0  8  1\n",
       "1  2  5.0  8  17.0  9  2"
      ]
     },
     "execution_count": 58,
     "metadata": {},
     "output_type": "execute_result"
    }
   ],
   "source": [
    "ds.shuffle()"
   ]
  },
  {
   "cell_type": "code",
   "execution_count": 59,
   "id": "d519d58268db5ac1",
   "metadata": {},
   "outputs": [
    {
     "data": {
      "text/plain": [
       "   a    b  c   new  f  e\n",
       "0  1  4.0  7  15.0  8  1\n",
       "1  2  5.0  8  17.0  9  2\n",
       "2  3  6.0  9  19.0  7  3"
      ]
     },
     "execution_count": 59,
     "metadata": {},
     "output_type": "execute_result"
    }
   ],
   "source": [
    "ds.shuffle(random_state=42)"
   ]
  },
  {
   "cell_type": "markdown",
   "id": "20df92c0fe83967a",
   "metadata": {},
   "source": [
    "### Rename\n",
    "    Dataset.rename()\n",
    "    Renames the columns of the dataset based on the provided dictionary of names.\n",
    "        Args:\n",
    "            names (Dict[FieldKeyTypes, FieldKeyTypes]): A dictionary mapping old column names to new column names.\n",
    "        Returns:\n",
    "            Dataset: A new Dataset object with the renamed columns."
   ]
  },
  {
   "cell_type": "code",
   "execution_count": 60,
   "id": "4e40f0067c34bc6f",
   "metadata": {},
   "outputs": [
    {
     "data": {
      "text/plain": [
       "   A    B  C   new  f  e\n",
       "0  1  4.0  7  15.0  8  1\n",
       "1  2  5.0  8  17.0  9  2\n",
       "2  3  6.0  9  19.0  7  3"
      ]
     },
     "execution_count": 60,
     "metadata": {},
     "output_type": "execute_result"
    }
   ],
   "source": [
    "ds.rename({'a': 'A', 'b': 'B', 'c': 'C'})"
   ]
  },
  {
   "cell_type": "markdown",
   "id": "49c3228070c35a20",
   "metadata": {},
   "source": [
    "### Replace\n",
    "    Dataset.replace()\n",
    "    Replaces values in the dataset.\n",
    "        Args:\n",
    "            to_replace (Any, optional): The value to be replaced. Defaults to None.\n",
    "            value (Any, optional): The new value. Defaults to None.\n",
    "            regex (bool, optional): Whether to use regular expressions. Defaults to False.\n",
    "        Returns:\n",
    "            Dataset: A new dataset with the replaced values."
   ]
  },
  {
   "cell_type": "code",
   "execution_count": 61,
   "id": "7fe184cb9855a4fe",
   "metadata": {},
   "outputs": [
    {
     "data": {
      "text/plain": [
       "    a    b  c   new  f   e\n",
       "0   1  4.0  7  15.0  8   1\n",
       "1  15  5.0  8  17.0  9  15\n",
       "2   3  6.0  9  19.0  7   3"
      ]
     },
     "execution_count": 61,
     "metadata": {},
     "output_type": "execute_result"
    }
   ],
   "source": [
    "dsr = copy.deepcopy(ds)\n",
    "dsr.replace(2, 15)"
   ]
  },
  {
   "cell_type": "markdown",
   "id": "a9ab1d759040d4c2",
   "metadata": {},
   "source": [
    "### Append\n",
    "    Dataset.append()\n",
    "    Append the given `other` dataset to the current dataset.\n",
    "        Args:\n",
    "            other (Dataset or List[Dataset]): The dataset(s) to append.\n",
    "            index (bool, optional): Whether to reset the index of the new dataset.\n",
    "                Defaults to False.\n",
    "        Returns:\n",
    "            Dataset: The new dataset after appending.\n",
    "        Raises:\n",
    "            ConcatDataError: If the `other` dataset is not an instance of `Dataset`.\n",
    "            ConcatBackendError: If the backend of the `other` dataset is different from the current dataset."
   ]
  },
  {
   "cell_type": "code",
   "execution_count": 62,
   "id": "db7750a4a24492ef",
   "metadata": {
    "ExecuteTime": {
     "end_time": "2024-07-03T06:57:25.905569Z",
     "start_time": "2024-07-03T06:57:25.892815Z"
    },
    "collapsed": false
   },
   "outputs": [
    {
     "data": {
      "text/plain": [
       "   a    b  c   new  f  e\n",
       "0  1  4.0  7  15.0  8  1\n",
       "1  2  5.0  8  17.0  9  2\n",
       "2  3  6.0  9  19.0  7  3\n",
       "0  1  4.0  7  15.0  8  1\n",
       "1  2  5.0  8  17.0  9  2\n",
       "2  3  6.0  9  19.0  7  3"
      ]
     },
     "execution_count": 62,
     "metadata": {},
     "output_type": "execute_result"
    }
   ],
   "source": [
    "ds.append(ds)"
   ]
  },
  {
   "cell_type": "code",
   "execution_count": 63,
   "id": "5457c610",
   "metadata": {},
   "outputs": [
    {
     "data": {
      "text/plain": [
       "   a    b  c   new  f  e\n",
       "0  1  4.0  7  15.0  8  1\n",
       "1  2  5.0  8  17.0  9  2\n",
       "2  3  6.0  9  19.0  7  3\n",
       "3  1  4.0  7  15.0  8  1\n",
       "4  2  5.0  8  17.0  9  2\n",
       "5  3  6.0  9  19.0  7  3"
      ]
     },
     "execution_count": 63,
     "metadata": {},
     "output_type": "execute_result"
    }
   ],
   "source": [
    "ds.shuffle().append(other=ds, index=True)"
   ]
  },
  {
   "cell_type": "markdown",
   "id": "6228fd7283c1c424",
   "metadata": {
    "collapsed": false
   },
   "source": [
    "# Eperiment Data"
   ]
  },
  {
   "cell_type": "code",
   "execution_count": 64,
   "id": "dc8b08a641e66fbe",
   "metadata": {
    "ExecuteTime": {
     "end_time": "2024-07-03T06:57:26.005188Z",
     "start_time": "2024-07-03T06:57:25.998950Z"
    },
    "collapsed": false
   },
   "outputs": [],
   "source": [
    "ed = ExperimentData(ds)"
   ]
  },
  {
   "cell_type": "code",
   "execution_count": 65,
   "id": "6789d27ac86f5291",
   "metadata": {
    "ExecuteTime": {
     "end_time": "2024-07-03T06:57:26.071357Z",
     "start_time": "2024-07-03T06:57:26.063497Z"
    },
    "collapsed": false
   },
   "outputs": [
    {
     "data": {
      "text/plain": [
       "Empty DataFrame\n",
       "Columns: []\n",
       "Index: [0, 1, 2]"
      ]
     },
     "execution_count": 65,
     "metadata": {},
     "output_type": "execute_result"
    }
   ],
   "source": [
    "ed.additional_fields"
   ]
  },
  {
   "cell_type": "code",
   "execution_count": 66,
   "id": "d36cf89d2e5ed478",
   "metadata": {
    "ExecuteTime": {
     "end_time": "2024-07-03T06:57:26.136855Z",
     "start_time": "2024-07-03T06:57:26.128315Z"
    },
    "collapsed": false
   },
   "outputs": [
    {
     "data": {
      "text/plain": [
       "Empty DataFrame\n",
       "Columns: []\n",
       "Index: [0, 1, 2]"
      ]
     },
     "execution_count": 66,
     "metadata": {},
     "output_type": "execute_result"
    }
   ],
   "source": [
    "ed.additional_fields.loc[:, :]"
   ]
  }
 ],
 "metadata": {
  "hide_input": false,
  "kernelspec": {
   "display_name": "Python 3 (ipykernel)",
   "language": "python",
   "name": "python3"
  },
  "language_info": {
   "codemirror_mode": {
    "name": "ipython",
    "version": 3
   },
   "file_extension": ".py",
   "mimetype": "text/x-python",
   "name": "python",
   "nbconvert_exporter": "python",
   "pygments_lexer": "ipython3",
   "version": "3.10.12"
  },
  "nbTranslate": {
   "displayLangs": [
    "*"
   ],
   "hotkey": "alt-t",
   "langInMainMenu": true,
   "sourceLang": "en",
   "targetLang": "fr",
   "useGoogleTranslate": true
  },
  "toc": {
   "base_numbering": 1,
   "nav_menu": {},
   "number_sections": true,
   "sideBar": true,
   "skip_h1_title": false,
   "title_cell": "Table of Contents",
   "title_sidebar": "Contents",
   "toc_cell": false,
   "toc_position": {},
   "toc_section_display": true,
   "toc_window_display": false
  },
  "varInspector": {
   "cols": {
    "lenName": 16,
    "lenType": 16,
    "lenVar": 40
   },
   "kernels_config": {
    "python": {
     "delete_cmd_postfix": "",
     "delete_cmd_prefix": "del ",
     "library": "var_list.py",
     "varRefreshCmd": "print(var_dic_list())"
    },
    "r": {
     "delete_cmd_postfix": ") ",
     "delete_cmd_prefix": "rm(",
     "library": "var_list.r",
     "varRefreshCmd": "cat(var_dic_list()) "
    }
   },
   "types_to_exclude": [
    "module",
    "function",
    "builtin_function_or_method",
    "instance",
    "_Feature"
   ],
   "window_display": false
  }
 },
 "nbformat": 4,
 "nbformat_minor": 5
}

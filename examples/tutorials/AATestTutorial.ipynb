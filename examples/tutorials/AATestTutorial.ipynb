{
 "cells": [
  {
   "cell_type": "code",
   "metadata": {
    "metadata": {},
    "ExecuteTime": {
     "end_time": "2024-07-04T12:23:33.198280Z",
     "start_time": "2024-07-04T12:23:33.194200Z"
    }
   },
   "source": [
    "from hypex.dataset import Dataset, ExperimentData, InfoRole, TreatmentRole, TargetRole\n",
    "from hypex.experiments.aa import ONE_AA_TEST\n",
    "from hypex.reporters.aa import AADatasetReporter"
   ],
   "outputs": [],
   "execution_count": 3
  },
  {
   "metadata": {},
   "cell_type": "markdown",
   "source": [
    "# Creation of a new test dataset with synthetic data. \n",
    "\n",
    "It is important to mark the data fields by assigning the appropriate roles:\n",
    "- FeatureRole: a role for columns that contain features or predictor variables. Our split will be based on them. Applied by default if the role is not specified for the column.\n",
    "- TreatmentRole: a role for columns that show the treatment or intervention.\n",
    "- TargetRole: a role for columns that show the target or outcome variable.\n",
    "- InfoRole: a role for columns that contain information about the data, such as user IDs. "
   ]
  },
  {
   "cell_type": "code",
   "metadata": {
    "metadata": {},
    "ExecuteTime": {
     "end_time": "2024-07-04T12:23:33.450885Z",
     "start_time": "2024-07-04T12:23:33.220302Z"
    }
   },
   "source": [
    "data = Dataset(\n",
    "    roles={\n",
    "        \"user_id\": InfoRole(float),\n",
    "        \"treat\": TreatmentRole(int),\n",
    "        \"pre_spends\": TargetRole(),\n",
    "        \"post_spends\": TargetRole()\n",
    "    }, data=\"data.csv\",\n",
    ")\n",
    "data"
   ],
   "outputs": [
    {
     "data": {
      "text/plain": [
       "      user_id  signup_month  treat  pre_spends  post_spends   age gender  \\\n",
       "0         0.0             0      0       488.0   414.444444   NaN      M   \n",
       "1         1.0             8      1       512.5   462.222222  26.0    NaN   \n",
       "2         2.0             7      1       483.0   479.444444  25.0      M   \n",
       "3         3.0             0      0       501.5   424.333333  39.0      M   \n",
       "4         4.0             1      1       543.0   514.555556  18.0      F   \n",
       "...       ...           ...    ...         ...          ...   ...    ...   \n",
       "9995   9995.0            10      1       538.5   450.444444  42.0      M   \n",
       "9996   9996.0             0      0       500.5   430.888889  26.0      F   \n",
       "9997   9997.0             3      1       473.0   534.111111  22.0      F   \n",
       "9998   9998.0             2      1       495.0   523.222222  67.0      F   \n",
       "9999   9999.0             7      1       508.0   475.888889  38.0      F   \n",
       "\n",
       "        industry  \n",
       "0     E-commerce  \n",
       "1     E-commerce  \n",
       "2      Logistics  \n",
       "3     E-commerce  \n",
       "4     E-commerce  \n",
       "...          ...  \n",
       "9995   Logistics  \n",
       "9996   Logistics  \n",
       "9997  E-commerce  \n",
       "9998  E-commerce  \n",
       "9999  E-commerce  \n",
       "\n",
       "[10000 rows x 8 columns]"
      ]
     },
     "execution_count": 4,
     "metadata": {},
     "output_type": "execute_result"
    }
   ],
   "execution_count": 4
  },
  {
   "metadata": {},
   "cell_type": "markdown",
   "source": [
    "# AA test\n",
    "Then we create the test pipeline, experiment data, with which it will work and run it. We select one of the pre-assembled pipelines, in our case ONE_AA_TEST, or create a custom one, then we wrap our prepared dataset into ExperimentData to be able to run experiments on it and then execute the test:"
   ]
  },
  {
   "cell_type": "code",
   "metadata": {
    "metadata": {},
    "ExecuteTime": {
     "end_time": "2024-07-04T12:23:34.122145Z",
     "start_time": "2024-07-04T12:23:33.453499Z"
    }
   },
   "source": [
    "test = ONE_AA_TEST\n",
    "ed = ExperimentData(data)\n",
    "result = test.execute(ed)"
   ],
   "outputs": [],
   "execution_count": 5
  },
  {
   "metadata": {},
   "cell_type": "markdown",
   "source": "We can access the results of the experiment directly with the property analysis_tables of our ExperimentDara: "
  },
  {
   "cell_type": "code",
   "metadata": {
    "collapsed": false,
    "ExecuteTime": {
     "end_time": "2024-07-04T12:23:34.158754Z",
     "start_time": "2024-07-04T12:23:34.124959Z"
    }
   },
   "source": [
    "result.analysis_tables"
   ],
   "outputs": [
    {
     "data": {
      "text/plain": [
       "{'GroupSizes┴┴':    control size  test size  control size %  test size %\n",
       " 0          5000       5000            50.0         50.0,\n",
       " 'GroupDifference┴┴pre_spends':    control mean  test mean  difference  difference %\n",
       " 0      487.1276   487.0599     -0.0677     -0.013898,\n",
       " 'TTest┴┴pre_spends':    p-value  statistic   pass\n",
       " 0  0.85765   0.179371  False,\n",
       " 'KSTest┴┴pre_spends':     p-value  statistic   pass\n",
       " 0  0.807376     0.0128  False,\n",
       " 'GroupDifference┴┴post_spends':    control mean  test mean  difference  difference %\n",
       " 0    451.647911   452.6812    1.033289      0.228782,\n",
       " 'TTest┴┴post_spends':     p-value  statistic   pass\n",
       " 0  0.189825  -1.311187  False,\n",
       " 'KSTest┴┴post_spends':     p-value  statistic   pass\n",
       " 0  0.406718     0.0178  False,\n",
       " 'OneAAStatAnalyzer┴┴':    mean TTest p-value  mean TTest pass  mean KSTest p-value  mean KSTest pass  \\\n",
       " 0            0.523737              0.0             0.607047               0.0   \n",
       " \n",
       "    mean test score  \n",
       " 0         0.579277  }"
      ]
     },
     "execution_count": 6,
     "metadata": {},
     "output_type": "execute_result"
    }
   ],
   "execution_count": 6
  },
  {
   "metadata": {},
   "cell_type": "markdown",
   "source": [
    "# Experiment results\n",
    "To show the report with the summary of the test we run the report method of the reporter, associated with the respective test type, AA test in our case:"
   ]
  },
  {
   "cell_type": "code",
   "metadata": {
    "collapsed": false,
    "ExecuteTime": {
     "end_time": "2024-07-04T12:23:34.188373Z",
     "start_time": "2024-07-04T12:23:34.162092Z"
    }
   },
   "source": "AADatasetReporter().report(result)",
   "outputs": [
    {
     "data": {
      "text/plain": [
       "       feature group TTest pass  TTest p-value KSTest pass  KSTest p-value\n",
       "0   pre_spends     0         OK       0.857650          OK        0.807376\n",
       "1  post_spends     0         OK       0.189825          OK        0.406718"
      ]
     },
     "execution_count": 7,
     "metadata": {},
     "output_type": "execute_result"
    }
   ],
   "execution_count": 7
  }
 ],
 "metadata": {
  "kernelspec": {
   "display_name": "Python 3",
   "language": "python",
   "name": "python3"
  },
  "language_info": {
   "codemirror_mode": {
    "name": "ipython",
    "version": 3
   },
   "file_extension": ".py",
   "mimetype": "text/x-python",
   "name": "python",
   "nbconvert_exporter": "python",
   "pygments_lexer": "ipython3",
   "version": "3.10.13"
  }
 },
 "nbformat": 4,
 "nbformat_minor": 2
}

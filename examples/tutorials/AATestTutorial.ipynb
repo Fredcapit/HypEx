{
 "cells": [
  {
   "cell_type": "markdown",
   "source": [
    "# AA test tutorial \n",
    "AA test is important part of randomized controlled experiment, for example AB test.\n",
    "\n",
    "The objectives of the AA test are to verify the assumption of uniformity of samples as a result of the applied partitioning method, to select the best partition from the available ones, and to verify the applicability of statistical criteria for checking uniformity.\n",
    "\n",
    "For example, there is a hypothesis about the absence of dependence of features on each other. If this hypothesis is not followed, the AA test will fail. "
   ],
   "metadata": {
    "collapsed": false
   },
   "id": "35b63454542e9139"
  },
  {
   "cell_type": "markdown",
   "source": [
    "<ul>\n",
    "  <li><a href=\"#creation-of-a-new-test-dataset-with-synthetic-data\">Creation of a new test dataset with synthetic data.\n",
    "  <li><a href=\"#one-split-of-aa-test\">One split of AA test.\n",
    "  <li><a href=\"#aa-test\">AA test.\n",
    "  <li><a href=\"#aa-test-with-stratification\">AA test with stratification.\n",
    "</ul>"
   ],
   "metadata": {
    "collapsed": false
   },
   "id": "d55e33194a3247f0"
  },
  {
   "cell_type": "code",
   "execution_count": 1,
   "id": "f890151fc64fd3fa",
   "metadata": {
    "collapsed": false,
    "ExecuteTime": {
     "end_time": "2024-07-19T13:47:50.665031100Z",
     "start_time": "2024-07-19T13:47:47.973903700Z"
    }
   },
   "outputs": [
    {
     "name": "stderr",
     "output_type": "stream",
     "text": [
      "C:\\Users\\User\\AppData\\Local\\Programs\\Python\\Python310\\lib\\site-packages\\tqdm\\auto.py:21: TqdmWarning: IProgress not found. Please update jupyter and ipywidgets. See https://ipywidgets.readthedocs.io/en/stable/user_install.html\n",
      "  from .autonotebook import tqdm as notebook_tqdm\n"
     ]
    }
   ],
   "source": [
    "from hypex.dataset import Dataset, InfoRole, TreatmentRole, TargetRole, StratificationRole\n",
    "from hypex.experiments.aa import AATest"
   ]
  },
  {
   "cell_type": "markdown",
   "source": [
    "## Creation of a new test dataset with synthetic data. \n",
    "\n",
    "It is important to mark the data fields by assigning the appropriate roles:\n",
    "- FeatureRole: a role for columns that contain features or predictor variables. Our split will be based on them. Applied by default if the role is not specified for the column.\n",
    "- TreatmentRole: a role for columns that show the treatment or intervention.\n",
    "- TargetRole: a role for columns that show the target or outcome variable.\n",
    "- InfoRole: a role for columns that contain information about the data, such as user IDs. "
   ],
   "metadata": {
    "collapsed": false
   },
   "id": "bd8ae5c13f2b538e"
  },
  {
   "cell_type": "code",
   "execution_count": 2,
   "id": "70e663c02efb6980",
   "metadata": {
    "collapsed": false,
    "ExecuteTime": {
     "end_time": "2024-07-19T13:47:50.713345300Z",
     "start_time": "2024-07-19T13:47:50.669620Z"
    }
   },
   "outputs": [],
   "source": [
    "data = Dataset(\n",
    "    roles={\n",
    "        \"user_id\": InfoRole(int),\n",
    "        \"treat\": TreatmentRole(int),\n",
    "        \"pre_spends\": TargetRole(),\n",
    "        \"post_spends\": TargetRole(),\n",
    "        \"gender\": StratificationRole(str)\n",
    "    }, data=\"data.csv\",\n",
    ")\n",
    "data"
   ]
  },
  {
   "cell_type": "markdown",
   "source": [
    "## AA test\n",
    "We can set number of iterations for simple execution. In this case random state is number of each iteration."
   ],
   "metadata": {
    "collapsed": false
   },
   "id": "fb03d99c85e1216d"
  },
  {
   "cell_type": "code",
   "execution_count": 10,
   "id": "initial_id",
   "metadata": {
    "collapsed": true,
    "ExecuteTime": {
     "end_time": "2024-07-19T13:48:30.362291600Z",
     "start_time": "2024-07-19T13:48:27.194516Z"
    }
   },
   "outputs": [],
   "source": [
    "aa = AATest(n_iterations=10)\n",
    "res = aa.execute(data)"
   ]
  },
  {
   "cell_type": "code",
   "execution_count": 11,
   "id": "41e9963a",
   "metadata": {
    "ExecuteTime": {
     "end_time": "2024-07-19T13:48:31.574182400Z",
     "start_time": "2024-07-19T13:48:31.556194700Z"
    }
   },
   "outputs": [
    {
     "data": {
      "text/plain": "  TTest aa test KSTest aa test TTest best split KSTest best split  result  \\\n0        NOT OK         NOT OK               OK                OK  NOT OK   \n1        NOT OK         NOT OK               OK                OK  NOT OK   \n\n       feature group  \n0  post_spends     0  \n1   pre_spends     0  "
     },
     "execution_count": 11,
     "metadata": {},
     "output_type": "execute_result"
    }
   ],
   "source": [
    "res.resume"
   ]
  },
  {
   "cell_type": "code",
   "execution_count": 12,
   "id": "50ae28a8",
   "metadata": {
    "ExecuteTime": {
     "end_time": "2024-07-19T13:48:33.996930100Z",
     "start_time": "2024-07-19T13:48:33.968546800Z"
    }
   },
   "outputs": [
    {
     "data": {
      "text/plain": "                       pass     score\npre_spends TTest 0    False  0.883269\npost_spends TTest 0   False  0.431422\npre_spends KSTest 0   False  0.827727\npost_spends KSTest 0  False  0.529392"
     },
     "execution_count": 12,
     "metadata": {},
     "output_type": "execute_result"
    }
   ],
   "source": [
    "res.aa_score"
   ]
  },
  {
   "cell_type": "code",
   "execution_count": 6,
   "id": "cc42c534",
   "metadata": {
    "ExecuteTime": {
     "end_time": "2024-07-19T13:48:04.027504600Z",
     "start_time": "2024-07-19T13:48:03.832303300Z"
    }
   },
   "outputs": [
    {
     "data": {
      "text/plain": "      user_id  signup_month  treat  pre_spends  post_spends   age gender  \\\n0           0             0      0       488.0   414.444444   NaN      M   \n1           1             8      1       512.5   462.222222  26.0    NaN   \n2           2             7      1       483.0   479.444444  25.0      M   \n3           3             0      0       501.5   424.333333  39.0      M   \n4           4             1      1       543.0   514.555556  18.0      F   \n...       ...           ...    ...         ...          ...   ...    ...   \n9995     9995            10      1       538.5   450.444444  42.0      M   \n9996     9996             0      0       500.5   430.888889  26.0      F   \n9997     9997             3      1       473.0   534.111111  22.0      F   \n9998     9998             2      1       495.0   523.222222  67.0      F   \n9999     9999             7      1       508.0   475.888889  38.0      F   \n\n        industry    split  \n0     E-commerce  control  \n1     E-commerce     test  \n2      Logistics     test  \n3     E-commerce  control  \n4     E-commerce  control  \n...          ...      ...  \n9995   Logistics  control  \n9996   Logistics  control  \n9997  E-commerce     test  \n9998  E-commerce     test  \n9999  E-commerce  control  \n\n[10000 rows x 9 columns]"
     },
     "execution_count": 6,
     "metadata": {},
     "output_type": "execute_result"
    }
   ],
   "source": [
    "res.best_split"
   ]
  },
  {
   "cell_type": "code",
   "execution_count": 7,
   "id": "18351884",
   "metadata": {
    "ExecuteTime": {
     "end_time": "2024-07-19T13:48:04.057921500Z",
     "start_time": "2024-07-19T13:48:03.980086600Z"
    }
   },
   "outputs": [
    {
     "data": {
      "text/plain": "       feature group TTest pass  TTest p-value KSTest pass  KSTest p-value\n0   pre_spends     0         OK       0.645746          OK        0.932542\n1  post_spends     0         OK       0.357727          OK        0.577046"
     },
     "execution_count": 7,
     "metadata": {},
     "output_type": "execute_result"
    }
   ],
   "source": [
    "res.best_split_statistic"
   ]
  },
  {
   "cell_type": "code",
   "execution_count": 8,
   "id": "0da18405",
   "metadata": {
    "ExecuteTime": {
     "end_time": "2024-07-19T13:48:04.122593500Z",
     "start_time": "2024-07-19T13:48:04.045396Z"
    }
   },
   "outputs": [
    {
     "data": {
      "text/plain": "        splitter_id  pre_spends GroupDifference control mean 0  \\\n0  AASplitter┴rs 0┴                                   486.8074   \n1  AASplitter┴rs 1┴                                   486.8542   \n2  AASplitter┴rs 2┴                                   487.1430   \n3  AASplitter┴rs 3┴                                   487.5133   \n4  AASplitter┴rs 4┴                                   486.9905   \n5  AASplitter┴rs 5┴                                   487.2922   \n6  AASplitter┴rs 6┴                                   486.8775   \n7  AASplitter┴rs 7┴                                   487.0070   \n8  AASplitter┴rs 8┴                                   486.7993   \n9  AASplitter┴rs 9┴                                   487.1140   \n\n   pre_spends GroupDifference test mean 0  \\\n0                                487.3801   \n1                                487.3333   \n2                                487.0445   \n3                                486.6742   \n4                                487.1970   \n5                                486.8953   \n6                                487.3100   \n7                                487.1805   \n8                                487.3882   \n9                                487.0735   \n\n   pre_spends GroupDifference difference 0  \\\n0                                   0.5727   \n1                                   0.4791   \n2                                  -0.0985   \n3                                  -0.8391   \n4                                   0.2065   \n5                                  -0.3969   \n6                                   0.4325   \n7                                   0.1735   \n8                                   0.5889   \n9                                  -0.0405   \n\n   pre_spends GroupDifference difference % 0  \\\n0                                   0.117644   \n1                                   0.098407   \n2                                  -0.020220   \n3                                  -0.172118   \n4                                   0.042403   \n5                                  -0.081450   \n6                                   0.088831   \n7                                   0.035626   \n8                                   0.120974   \n9                                  -0.008314   \n\n   post_spends GroupDifference control mean 0  \\\n0                                  451.724200   \n1                                  452.151400   \n2                                  451.504911   \n3                                  453.078778   \n4                                  451.916489   \n5                                  451.686889   \n6                                  451.627689   \n7                                  452.526978   \n8                                  451.924844   \n9                                  452.327511   \n\n   post_spends GroupDifference test mean 0  \\\n0                               452.604911   \n1                               452.177711   \n2                               452.824200   \n3                               451.250333   \n4                               452.412622   \n5                               452.642222   \n6                               452.701422   \n7                               451.802133   \n8                               452.404267   \n9                               452.001600   \n\n   post_spends GroupDifference difference 0  \\\n0                                  0.880711   \n1                                  0.026311   \n2                                  1.319289   \n3                                 -1.828444   \n4                                  0.496133   \n5                                  0.955333   \n6                                  1.073733   \n7                                 -0.724844   \n8                                  0.479422   \n9                                 -0.325911   \n\n   post_spends GroupDifference difference % 0  GroupSizes control size 0  ...  \\\n0                                    0.194967                       5000  ...   \n1                                    0.005819                       5000  ...   \n2                                    0.292198                       5000  ...   \n3                                   -0.403560                       5000  ...   \n4                                    0.109784                       5000  ...   \n5                                    0.211503                       5000  ...   \n6                                    0.237747                       5000  ...   \n7                                   -0.160177                       5000  ...   \n8                                    0.106085                       5000  ...   \n9                                   -0.072052                       5000  ...   \n\n   post_spends TTest pass 0  pre_spends KSTest p-value 0  \\\n0                     False                     0.023582   \n1                     False                     0.420964   \n2                     False                     0.727866   \n3                      True                     0.177727   \n4                     False                     0.660939   \n5                     False                     0.392763   \n6                     False                     0.170057   \n7                     False                     0.932542   \n8                     False                     0.023582   \n9                     False                     0.577046   \n\n   pre_spends KSTest pass 0  post_spends KSTest p-value 0  \\\n0                      True                      0.480675   \n1                     False                      0.560541   \n2                     False                      0.177727   \n3                     False                      0.083564   \n4                     False                      0.064626   \n5                     False                      0.406718   \n6                     False                      0.528005   \n7                     False                      0.577046   \n8                      True                      0.760472   \n9                     False                      0.480675   \n\n   post_spends KSTest pass 0  mean TTest p-value  mean TTest pass  \\\n0                      False            0.196474              0.0   \n1                      False            0.588834              0.0   \n2                      False            0.444120              0.0   \n3                      False            0.023258              1.0   \n4                      False            0.556661              0.0   \n5                      False            0.259216              0.0   \n6                      False            0.212447              0.0   \n7                      False            0.501737              0.0   \n8                      False            0.330834              0.0   \n9                      False            0.796888              0.0   \n\n   mean KSTest p-value  mean KSTest pass  mean test score  \n0             0.252129               0.5         0.233577  \n1             0.490752               0.0         0.523446  \n2             0.452796               0.0         0.449904  \n3             0.130645               0.0         0.094849  \n4             0.362782               0.0         0.427409  \n5             0.399740               0.0         0.352899  \n6             0.349031               0.0         0.303503  \n7             0.754794               0.0         0.670441  \n8             0.392027               0.5         0.371629  \n9             0.528860               0.0         0.618203  \n\n[10 rows x 26 columns]"
     },
     "execution_count": 8,
     "metadata": {},
     "output_type": "execute_result"
    }
   ],
   "source": [
    "res.experiments"
   ]
  },
  {
   "cell_type": "markdown",
   "source": [
    "# AA Test with random states\n",
    "\n",
    "We can set random states for each execution. In this case number of random states equals number of execution. "
   ],
   "metadata": {
    "collapsed": false
   },
   "id": "76c81d6d6570d58f"
  },
  {
   "cell_type": "code",
   "execution_count": 13,
   "id": "a6038ed8",
   "metadata": {
    "ExecuteTime": {
     "end_time": "2024-07-19T13:50:40.172955400Z",
     "start_time": "2024-07-19T13:50:34.479580100Z"
    }
   },
   "outputs": [],
   "source": [
    "aa = AATest(random_states=[56, 72, 2, 43])\n",
    "res = aa.execute(data)"
   ]
  },
  {
   "cell_type": "code",
   "outputs": [
    {
     "data": {
      "text/plain": "  TTest aa test KSTest aa test TTest best split KSTest best split  result  \\\n0        NOT OK         NOT OK               OK                OK  NOT OK   \n1        NOT OK         NOT OK               OK                OK  NOT OK   \n\n       feature group  \n0  post_spends     0  \n1   pre_spends     0  "
     },
     "execution_count": 14,
     "metadata": {},
     "output_type": "execute_result"
    }
   ],
   "source": [
    "res.resume"
   ],
   "metadata": {
    "collapsed": false,
    "ExecuteTime": {
     "end_time": "2024-07-19T13:53:23.581352Z",
     "start_time": "2024-07-19T13:53:23.529793100Z"
    }
   },
   "id": "6bebccfe9b91ae2e",
   "execution_count": 14
  },
  {
   "cell_type": "code",
   "outputs": [
    {
     "data": {
      "text/plain": "                       pass     score\npre_spends TTest 0    False  0.652500\npost_spends TTest 0   False  0.645896\npre_spends KSTest 0   False  0.605599\npost_spends KSTest 0  False  0.533713"
     },
     "execution_count": 15,
     "metadata": {},
     "output_type": "execute_result"
    }
   ],
   "source": [
    "res.aa_score"
   ],
   "metadata": {
    "collapsed": false,
    "ExecuteTime": {
     "end_time": "2024-07-19T13:53:48.267703900Z",
     "start_time": "2024-07-19T13:53:48.229148200Z"
    }
   },
   "id": "2a6d8f9df6978913",
   "execution_count": 15
  },
  {
   "cell_type": "code",
   "outputs": [
    {
     "data": {
      "text/plain": "      user_id  signup_month  treat  pre_spends  post_spends   age gender  \\\n0           0             0      0       488.0   414.444444   NaN      M   \n1           1             8      1       512.5   462.222222  26.0    NaN   \n2           2             7      1       483.0   479.444444  25.0      M   \n3           3             0      0       501.5   424.333333  39.0      M   \n4           4             1      1       543.0   514.555556  18.0      F   \n...       ...           ...    ...         ...          ...   ...    ...   \n9995     9995            10      1       538.5   450.444444  42.0      M   \n9996     9996             0      0       500.5   430.888889  26.0      F   \n9997     9997             3      1       473.0   534.111111  22.0      F   \n9998     9998             2      1       495.0   523.222222  67.0      F   \n9999     9999             7      1       508.0   475.888889  38.0      F   \n\n        industry    split  \n0     E-commerce  control  \n1     E-commerce     test  \n2      Logistics  control  \n3     E-commerce     test  \n4     E-commerce  control  \n...          ...      ...  \n9995   Logistics     test  \n9996   Logistics  control  \n9997  E-commerce     test  \n9998  E-commerce     test  \n9999  E-commerce  control  \n\n[10000 rows x 9 columns]"
     },
     "execution_count": 16,
     "metadata": {},
     "output_type": "execute_result"
    }
   ],
   "source": [
    "res.best_split"
   ],
   "metadata": {
    "collapsed": false,
    "ExecuteTime": {
     "end_time": "2024-07-19T13:53:54.007259700Z",
     "start_time": "2024-07-19T13:53:53.935065800Z"
    }
   },
   "id": "e318afc40736069d",
   "execution_count": 16
  },
  {
   "cell_type": "code",
   "outputs": [
    {
     "data": {
      "text/plain": "       feature group TTest pass  TTest p-value KSTest pass  KSTest p-value\n0   pre_spends     0         OK       0.519864          OK        0.694583\n1  post_spends     0         OK       0.998020          OK        0.677788"
     },
     "execution_count": 17,
     "metadata": {},
     "output_type": "execute_result"
    }
   ],
   "source": [
    "res.best_split_statistic"
   ],
   "metadata": {
    "collapsed": false,
    "ExecuteTime": {
     "end_time": "2024-07-19T13:53:57.023678500Z",
     "start_time": "2024-07-19T13:53:56.984363400Z"
    }
   },
   "id": "bd1a332ab687cef",
   "execution_count": 17
  },
  {
   "cell_type": "code",
   "outputs": [
    {
     "data": {
      "text/plain": "         splitter_id  pre_spends GroupDifference control mean 0  \\\n0  AASplitter┴rs 56┴                                   487.3882   \n1  AASplitter┴rs 72┴                                   487.2152   \n2   AASplitter┴rs 2┴                                   487.1430   \n3  AASplitter┴rs 43┴                                   486.8269   \n\n   pre_spends GroupDifference test mean 0  \\\n0                                486.7993   \n1                                486.9723   \n2                                487.0445   \n3                                487.3606   \n\n   pre_spends GroupDifference difference 0  \\\n0                                  -0.5889   \n1                                  -0.2429   \n2                                  -0.0985   \n3                                   0.5337   \n\n   pre_spends GroupDifference difference % 0  \\\n0                                  -0.120828   \n1                                  -0.049855   \n2                                  -0.020220   \n3                                   0.109628   \n\n   post_spends GroupDifference control mean 0  \\\n0                                  451.845400   \n1                                  452.165533   \n2                                  451.504911   \n3                                  452.801000   \n\n   post_spends GroupDifference test mean 0  \\\n0                               452.483711   \n1                               452.163578   \n2                               452.824200   \n3                               451.528111   \n\n   post_spends GroupDifference difference 0  \\\n0                                  0.638311   \n1                                 -0.001956   \n2                                  1.319289   \n3                                 -1.272889   \n\n   post_spends GroupDifference difference % 0  GroupSizes control size 0  ...  \\\n0                                    0.141268                       5000  ...   \n1                                   -0.000432                       5000  ...   \n2                                    0.292198                       5000  ...   \n3                                   -0.281114                       5000  ...   \n\n   post_spends TTest pass 0  pre_spends KSTest p-value 0  \\\n0                     False                     0.002465   \n1                     False                     0.694583   \n2                     False                     0.727866   \n3                     False                     0.352691   \n\n   pre_spends KSTest pass 0  post_spends KSTest p-value 0  \\\n0                      True                      0.744274   \n1                     False                      0.677788   \n2                     False                      0.177727   \n3                     False                      0.465358   \n\n   post_spends KSTest pass 0  mean TTest p-value  mean TTest pass  \\\n0                      False            0.268336              0.0   \n1                      False            0.758942              0.0   \n2                      False            0.444120              0.0   \n3                      False            0.131809              0.0   \n\n   mean KSTest p-value  mean KSTest pass  mean test score  \n0             0.373370               0.5         0.338359  \n1             0.686186               0.0         0.710438  \n2             0.452796               0.0         0.449904  \n3             0.409024               0.0         0.316619  \n\n[4 rows x 26 columns]"
     },
     "execution_count": 18,
     "metadata": {},
     "output_type": "execute_result"
    }
   ],
   "source": [
    "res.experiments"
   ],
   "metadata": {
    "collapsed": false,
    "ExecuteTime": {
     "end_time": "2024-07-19T13:54:00.125435500Z",
     "start_time": "2024-07-19T13:54:00.054640400Z"
    }
   },
   "id": "96b29db891fa2462",
   "execution_count": 18
  },
  {
   "cell_type": "markdown",
   "source": [
    "# AA Test with stratification\n",
    "\n",
    "Depends on your needs it is possible to stratify data. You can set `stratification=True` and StratificationRole in Dataset to run it.  "
   ],
   "metadata": {
    "collapsed": false
   },
   "id": "1b37db00a1a4a49f"
  },
  {
   "cell_type": "code",
   "outputs": [],
   "source": [
    "aa = AATest(random_states=[56, 72, 2, 43], stratification=True)\n",
    "res = aa.execute(data)"
   ],
   "metadata": {
    "collapsed": false,
    "ExecuteTime": {
     "end_time": "2024-07-19T13:56:51.516957500Z",
     "start_time": "2024-07-19T13:56:46.873028400Z"
    }
   },
   "id": "da9ab2f374ce1273",
   "execution_count": 19
  },
  {
   "cell_type": "code",
   "outputs": [
    {
     "data": {
      "text/plain": "  TTest aa test KSTest aa test TTest best split KSTest best split  result  \\\n0        NOT OK         NOT OK               OK                OK  NOT OK   \n1        NOT OK         NOT OK               OK                OK  NOT OK   \n\n       feature group  \n0  post_spends     0  \n1   pre_spends     0  "
     },
     "execution_count": 20,
     "metadata": {},
     "output_type": "execute_result"
    }
   ],
   "source": [
    "res.resume"
   ],
   "metadata": {
    "collapsed": false,
    "ExecuteTime": {
     "end_time": "2024-07-19T13:56:55.455896300Z",
     "start_time": "2024-07-19T13:56:55.394388200Z"
    }
   },
   "id": "fb5bc9076cb36af9",
   "execution_count": 20
  },
  {
   "cell_type": "code",
   "outputs": [
    {
     "data": {
      "text/plain": "                       pass     score\npre_spends TTest 0    False  0.388191\npost_spends TTest 0   False  0.774438\npre_spends KSTest 0   False  0.728226\npost_spends KSTest 0  False  0.660354"
     },
     "execution_count": 21,
     "metadata": {},
     "output_type": "execute_result"
    }
   ],
   "source": [
    "res.aa_score"
   ],
   "metadata": {
    "collapsed": false,
    "ExecuteTime": {
     "end_time": "2024-07-19T13:56:59.642680200Z",
     "start_time": "2024-07-19T13:56:59.606312700Z"
    }
   },
   "id": "5eca1aebeb06da2",
   "execution_count": 21
  },
  {
   "cell_type": "code",
   "outputs": [
    {
     "data": {
      "text/plain": "      user_id  signup_month  treat  pre_spends  post_spends   age gender  \\\n0           0             0      0       488.0   414.444444   NaN      M   \n1           1             8      1       512.5   462.222222  26.0    NaN   \n2           2             7      1       483.0   479.444444  25.0      M   \n3           3             0      0       501.5   424.333333  39.0      M   \n4           4             1      1       543.0   514.555556  18.0      F   \n...       ...           ...    ...         ...          ...   ...    ...   \n9995     9995            10      1       538.5   450.444444  42.0      M   \n9996     9996             0      0       500.5   430.888889  26.0      F   \n9997     9997             3      1       473.0   534.111111  22.0      F   \n9998     9998             2      1       495.0   523.222222  67.0      F   \n9999     9999             7      1       508.0   475.888889  38.0      F   \n\n        industry    split  \n0     E-commerce  control  \n1     E-commerce     test  \n2      Logistics     test  \n3     E-commerce     test  \n4     E-commerce  control  \n...          ...      ...  \n9995   Logistics      NaN  \n9996   Logistics      NaN  \n9997  E-commerce      NaN  \n9998  E-commerce      NaN  \n9999  E-commerce      NaN  \n\n[10000 rows x 9 columns]"
     },
     "execution_count": 22,
     "metadata": {},
     "output_type": "execute_result"
    }
   ],
   "source": [
    "res.best_split"
   ],
   "metadata": {
    "collapsed": false,
    "ExecuteTime": {
     "end_time": "2024-07-19T13:57:03.627686200Z",
     "start_time": "2024-07-19T13:57:03.597058900Z"
    }
   },
   "id": "4e5730bdf7983f7d",
   "execution_count": 22
  },
  {
   "cell_type": "code",
   "outputs": [
    {
     "data": {
      "text/plain": "       feature group TTest pass  TTest p-value KSTest pass  KSTest p-value\n0   pre_spends     0         OK       0.384576          OK        0.129368\n1  post_spends     0         OK       0.801273          OK        0.952433"
     },
     "execution_count": 23,
     "metadata": {},
     "output_type": "execute_result"
    }
   ],
   "source": [
    "res.best_split_statistic"
   ],
   "metadata": {
    "collapsed": false,
    "ExecuteTime": {
     "end_time": "2024-07-19T13:57:08.677323Z",
     "start_time": "2024-07-19T13:57:08.647947600Z"
    }
   },
   "id": "7cdeba119b04476e",
   "execution_count": 23
  },
  {
   "cell_type": "code",
   "outputs": [
    {
     "data": {
      "text/plain": "                           splitter_id  \\\n0  AASplitterWithStratification┴rs 56┴   \n1  AASplitterWithStratification┴rs 72┴   \n2   AASplitterWithStratification┴rs 2┴   \n3  AASplitterWithStratification┴rs 43┴   \n\n   pre_spends GroupDifference control mean 0  \\\n0                                 487.082000   \n1                                 487.269778   \n2                                 486.928444   \n3                                 487.116556   \n\n   pre_spends GroupDifference test mean 0  \\\n0                              487.110444   \n1                              486.922667   \n2                              487.264000   \n3                              487.075889   \n\n   pre_spends GroupDifference difference 0  \\\n0                                 0.028444   \n1                                -0.347111   \n2                                 0.335556   \n3                                -0.040667   \n\n   pre_spends GroupDifference difference % 0  \\\n0                                   0.005840   \n1                                  -0.071236   \n2                                   0.068913   \n3                                  -0.008348   \n\n   post_spends GroupDifference control mean 0  \\\n0                                  451.633506   \n1                                  452.036765   \n2                                  452.910272   \n3                                  453.141012   \n\n   post_spends GroupDifference test mean 0  \\\n0                               452.648938   \n1                               452.245679   \n2                               451.372173   \n3                               451.141432   \n\n   post_spends GroupDifference difference 0  \\\n0                                  1.015432   \n1                                  0.208914   \n2                                 -1.538099   \n3                                 -1.999580   \n\n   post_spends GroupDifference difference % 0  GroupSizes control size 0  ...  \\\n0                                    0.224835                       4500  ...   \n1                                    0.046216                       4500  ...   \n2                                   -0.339603                       4500  ...   \n3                                   -0.441271                       4500  ...   \n\n   post_spends TTest pass 0  pre_spends KSTest p-value 0  \\\n0                     False                     0.612183   \n1                     False                     0.129368   \n2                     False                     0.085963   \n3                      True                     0.459584   \n\n   pre_spends KSTest pass 0  post_spends KSTest p-value 0  \\\n0                     False                      0.491962   \n1                     False                      0.952433   \n2                     False                      0.008355   \n3                     False                      0.105834   \n\n   post_spends KSTest pass 0  mean TTest p-value  mean TTest pass  \\\n0                      False            0.582179              0.0   \n1                      False            0.592924              0.0   \n2                       True            0.232221              0.0   \n3                      False            0.467419              0.5   \n\n   mean KSTest p-value  mean KSTest pass  mean test score  \n0             0.552072               0.0         0.562108  \n1             0.540900               0.0         0.558241  \n2             0.047159               0.5         0.108846  \n3             0.282709               0.0         0.344279  \n\n[4 rows x 26 columns]"
     },
     "execution_count": 24,
     "metadata": {},
     "output_type": "execute_result"
    }
   ],
   "source": [
    "res.experiments"
   ],
   "metadata": {
    "collapsed": false,
    "ExecuteTime": {
     "end_time": "2024-07-19T13:57:12.183053100Z",
     "start_time": "2024-07-19T13:57:12.077012Z"
    }
   },
   "id": "6a63a08bceb2f40a",
   "execution_count": 24
  }
 ],
 "metadata": {
  "kernelspec": {
   "display_name": "Python 3",
   "language": "python",
   "name": "python3"
  },
  "language_info": {
   "codemirror_mode": {
    "name": "ipython",
    "version": 3
   },
   "file_extension": ".py",
   "mimetype": "text/x-python",
   "name": "python",
   "nbconvert_exporter": "python",
   "pygments_lexer": "ipython3",
   "version": "3.10.11"
  }
 },
 "nbformat": 4,
 "nbformat_minor": 5
}

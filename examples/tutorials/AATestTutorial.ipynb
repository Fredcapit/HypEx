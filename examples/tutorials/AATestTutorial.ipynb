{
 "cells": [
  {
   "cell_type": "code",
   "execution_count": 1,
   "metadata": {
    "metadata": {},
    "ExecuteTime": {
     "end_time": "2024-06-21T14:44:09.254432900Z",
     "start_time": "2024-06-21T14:43:59.050173800Z"
    }
   },
   "outputs": [
    {
     "name": "stderr",
     "output_type": "stream",
     "text": [
      "C:\\Users\\User\\AppData\\Local\\Programs\\Python\\Python310\\lib\\site-packages\\tqdm\\auto.py:21: TqdmWarning: IProgress not found. Please update jupyter and ipywidgets. See https://ipywidgets.readthedocs.io/en/stable/user_install.html\n",
      "  from .autonotebook import tqdm as notebook_tqdm\n"
     ]
    }
   ],
   "source": [
    "from hypex.dataset import Dataset, ExperimentData, InfoRole, TreatmentRole, TargetRole\n",
    "from hypex.experiments.aa import ONE_AA_TEST\n",
    "from hypex.reporters import AADictReporter"
   ]
  },
  {
   "cell_type": "code",
   "execution_count": 2,
   "metadata": {
    "metadata": {},
    "ExecuteTime": {
     "end_time": "2024-06-21T14:44:09.449146800Z",
     "start_time": "2024-06-21T14:44:09.259463500Z"
    }
   },
   "outputs": [
    {
     "data": {
      "text/plain": "      user_id  signup_month  treat  pre_spends  post_spends   age gender  \\\n0         0.0             0      0       488.0   414.444444   NaN      M   \n1         1.0             8      1       512.5   462.222222  26.0    NaN   \n2         2.0             7      1       483.0   479.444444  25.0      M   \n3         3.0             0      0       501.5   424.333333  39.0      M   \n4         4.0             1      1       543.0   514.555556  18.0      F   \n...       ...           ...    ...         ...          ...   ...    ...   \n9995   9995.0            10      1       538.5   450.444444  42.0      M   \n9996   9996.0             0      0       500.5   430.888889  26.0      F   \n9997   9997.0             3      1       473.0   534.111111  22.0      F   \n9998   9998.0             2      1       495.0   523.222222  67.0      F   \n9999   9999.0             7      1       508.0   475.888889  38.0      F   \n\n        industry  \n0     E-commerce  \n1     E-commerce  \n2      Logistics  \n3     E-commerce  \n4     E-commerce  \n...          ...  \n9995   Logistics  \n9996   Logistics  \n9997  E-commerce  \n9998  E-commerce  \n9999  E-commerce  \n\n[10000 rows x 8 columns]"
     },
     "execution_count": 2,
     "metadata": {},
     "output_type": "execute_result"
    }
   ],
   "source": [
    "data = Dataset(\n",
    "    roles={\n",
    "        \"user_id\": InfoRole(float),\n",
    "        \"treat\": TreatmentRole(int),\n",
    "        \"pre_spends\": TargetRole(),\n",
    "        \"post_spends\": TargetRole()\n",
    "    }, data=\"data.csv\",\n",
    ")\n",
    "data"
   ]
  },
  {
   "cell_type": "code",
   "execution_count": 3,
   "metadata": {
    "metadata": {},
    "ExecuteTime": {
     "end_time": "2024-06-21T14:44:09.539960400Z",
     "start_time": "2024-06-21T14:44:09.447148600Z"
    }
   },
   "outputs": [
    {
     "data": {
      "text/plain": "user_id          float64\nsignup_month       int32\ntreat              int32\npre_spends       float64\npost_spends      float64\nage              float64\ngender            object\nindustry        category\ndtype: object"
     },
     "execution_count": 3,
     "metadata": {},
     "output_type": "execute_result"
    }
   ],
   "source": [
    "data.data.dtypes"
   ]
  },
  {
   "cell_type": "code",
   "execution_count": 4,
   "metadata": {
    "metadata": {},
    "ExecuteTime": {
     "end_time": "2024-06-21T14:44:09.844731900Z",
     "start_time": "2024-06-21T14:44:09.479317900Z"
    }
   },
   "outputs": [],
   "source": [
    "test = ONE_AA_TEST\n",
    "ed = ExperimentData(data)\n",
    "result = test.execute(ed)"
   ]
  },
  {
   "cell_type": "code",
   "execution_count": 5,
   "metadata": {
    "collapsed": false,
    "ExecuteTime": {
     "end_time": "2024-06-21T14:44:09.915286900Z",
     "start_time": "2024-06-21T14:44:09.844731900Z"
    }
   },
   "outputs": [
    {
     "data": {
      "text/plain": "{'GroupSizes┴┴':    control size  test size  control size %  test size %\n 0          5000       5000            50.0         50.0,\n 'GroupDifference┴┴pre_spends':    control mean  test mean  difference  difference %\n 0      487.0277   487.1598      0.1321      0.027124,\n 'TTest┴┴pre_spends':     p-value  statistic   pass\n 0  0.726345  -0.350001  False,\n 'KSTest┴┴pre_spends':     p-value  statistic   pass\n 0  0.677788     0.0144  False,\n 'GroupDifference┴┴post_spends':    control mean   test mean  difference  difference %\n 0      452.4788  451.850311   -0.628489     -0.138899,\n 'TTest┴┴post_spends':     p-value  statistic   pass\n 0  0.425194   0.797475  False,\n 'KSTest┴┴post_spends':     p-value  statistic   pass\n 0  0.627218      0.015  False,\n 'OneAAStatAnalyzer┴┴':    mean TTest p-value  mean TTest pass  mean KSTest p-value  mean KSTest pass  \\\n 0             0.57577              0.0             0.652503               0.0   \n \n    mean test score  \n 0         0.626925  }"
     },
     "execution_count": 5,
     "metadata": {},
     "output_type": "execute_result"
    }
   ],
   "source": [
    "result.analysis_tables"
   ]
  },
  {
   "cell_type": "code",
   "execution_count": 6,
   "metadata": {
    "collapsed": false,
    "ExecuteTime": {
     "end_time": "2024-06-21T14:44:09.986219100Z",
     "start_time": "2024-06-21T14:44:09.913285800Z"
    }
   },
   "outputs": [
    {
     "data": {
      "text/plain": "{'splitter_id': 'AASplitter┴None┴',\n 'pre_spends GroupDifference control mean 0': 487.0277,\n 'pre_spends GroupDifference test mean 0': 487.1598,\n 'pre_spends GroupDifference difference 0': 0.13210000000003674,\n 'pre_spends GroupDifference difference % 0': 0.027123713907850622,\n 'post_spends GroupDifference control mean 0': 452.4788,\n 'post_spends GroupDifference test mean 0': 451.8503111111112,\n 'post_spends GroupDifference difference 0': -0.6284888888887963,\n 'post_spends GroupDifference difference % 0': -0.13889907966710968,\n 'GroupSizes control size 0': 5000,\n 'GroupSizes test size 0': 5000,\n 'GroupSizes control size % 0': 50.0,\n 'GroupSizes test size % 0': 50.0,\n 'pre_spends TTest p-value 0': 0.726345178714652,\n 'pre_spends TTest pass 0': 'OK',\n 'post_spends TTest p-value 0': 0.4251942678027748,\n 'post_spends TTest pass 0': 'OK',\n 'pre_spends KSTest p-value 0': 0.6777877521935483,\n 'pre_spends KSTest pass 0': 'OK',\n 'post_spends KSTest p-value 0': 0.6272175062405767,\n 'post_spends KSTest pass 0': 'OK',\n 'mean TTest p-value': 0.5757697232587133,\n 'mean TTest pass': 'OK',\n 'mean KSTest p-value': 0.6525026292170625,\n 'mean KSTest pass': 'OK',\n 'mean test score': 0.6269249938976128}"
     },
     "execution_count": 6,
     "metadata": {},
     "output_type": "execute_result"
    }
   ],
   "source": [
    "AADictReporter().report(result)"
   ]
  }
 ],
 "metadata": {
  "kernelspec": {
   "display_name": "Python 3",
   "language": "python",
   "name": "python3"
  },
  "language_info": {
   "codemirror_mode": {
    "name": "ipython",
    "version": 3
   },
   "file_extension": ".py",
   "mimetype": "text/x-python",
   "name": "python",
   "nbconvert_exporter": "python",
   "pygments_lexer": "ipython3",
   "version": "3.10.13"
  }
 },
 "nbformat": 4,
 "nbformat_minor": 2
}

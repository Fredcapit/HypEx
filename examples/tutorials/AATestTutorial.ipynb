{
 "cells": [
  {
   "cell_type": "code",
   "execution_count": 1,
   "metadata": {
    "ExecuteTime": {
     "end_time": "2024-07-04T12:23:33.198280Z",
     "start_time": "2024-07-04T12:23:33.194200Z"
    },
    "metadata": {}
   },
   "outputs": [],
   "source": [
    "from hypex.dataset import Dataset, ExperimentData, InfoRole, TreatmentRole, TargetRole\n",
    "from hypex.experiments.aa import ONE_AA_TEST, AA_TEST, AA_TEST_WITH_STRATIFICATION\n",
    "from hypex.reporters.aa import AADatasetReporter, AAPassedReporter, AABestSplitReporter\n",
    "from hypex.splitters import AASplitter"
   ]
  },
  {
   "cell_type": "markdown",
   "metadata": {},
   "source": [
    "# Creation of a new test dataset with synthetic data. \n",
    "\n",
    "It is important to mark the data fields by assigning the appropriate roles:\n",
    "- FeatureRole: a role for columns that contain features or predictor variables. Our split will be based on them. Applied by default if the role is not specified for the column.\n",
    "- TreatmentRole: a role for columns that show the treatment or intervention.\n",
    "- TargetRole: a role for columns that show the target or outcome variable.\n",
    "- InfoRole: a role for columns that contain information about the data, such as user IDs. "
   ]
  },
  {
   "cell_type": "code",
   "execution_count": 2,
   "metadata": {
    "ExecuteTime": {
     "end_time": "2024-07-04T12:23:33.450885Z",
     "start_time": "2024-07-04T12:23:33.220302Z"
    },
    "metadata": {}
   },
   "outputs": [
    {
     "data": {
      "text/plain": [
       "      user_id  signup_month  treat  pre_spends  post_spends   age gender  \\\n",
       "0         0.0             0      0       488.0   414.444444   NaN      M   \n",
       "1         1.0             8      1       512.5   462.222222  26.0    NaN   \n",
       "2         2.0             7      1       483.0   479.444444  25.0      M   \n",
       "3         3.0             0      0       501.5   424.333333  39.0      M   \n",
       "4         4.0             1      1       543.0   514.555556  18.0      F   \n",
       "...       ...           ...    ...         ...          ...   ...    ...   \n",
       "9995   9995.0            10      1       538.5   450.444444  42.0      M   \n",
       "9996   9996.0             0      0       500.5   430.888889  26.0      F   \n",
       "9997   9997.0             3      1       473.0   534.111111  22.0      F   \n",
       "9998   9998.0             2      1       495.0   523.222222  67.0      F   \n",
       "9999   9999.0             7      1       508.0   475.888889  38.0      F   \n",
       "\n",
       "        industry  \n",
       "0     E-commerce  \n",
       "1     E-commerce  \n",
       "2      Logistics  \n",
       "3     E-commerce  \n",
       "4     E-commerce  \n",
       "...          ...  \n",
       "9995   Logistics  \n",
       "9996   Logistics  \n",
       "9997  E-commerce  \n",
       "9998  E-commerce  \n",
       "9999  E-commerce  \n",
       "\n",
       "[10000 rows x 8 columns]"
      ]
     },
     "execution_count": 2,
     "metadata": {},
     "output_type": "execute_result"
    }
   ],
   "source": [
    "data = Dataset(\n",
    "    roles={\n",
    "        \"user_id\": InfoRole(float),\n",
    "        \"treat\": TreatmentRole(int),\n",
    "        \"pre_spends\": TargetRole(),\n",
    "        \"post_spends\": TargetRole()\n",
    "    }, data=\"data.csv\",\n",
    ")\n",
    "data"
   ]
  },
  {
   "cell_type": "markdown",
   "metadata": {},
   "source": [
    "# AA test\n",
    "Then we create the test pipeline, experiment data, with which it will work and run it. We select one of the pre-assembled pipelines, in our case ONE_AA_TEST, or create a custom one, then we wrap our prepared dataset into ExperimentData to be able to run experiments on it and then execute the test:"
   ]
  },
  {
   "cell_type": "code",
   "execution_count": 3,
   "metadata": {
    "ExecuteTime": {
     "end_time": "2024-07-04T12:23:34.122145Z",
     "start_time": "2024-07-04T12:23:33.453499Z"
    },
    "metadata": {}
   },
   "outputs": [],
   "source": [
    "test = ONE_AA_TEST\n",
    "ed = ExperimentData(data)\n",
    "result = test.execute(ed)"
   ]
  },
  {
   "cell_type": "markdown",
   "metadata": {},
   "source": [
    "We can access the results of the experiment directly with the property analysis_tables of our ExperimentDara: "
   ]
  },
  {
   "cell_type": "code",
   "execution_count": 4,
   "metadata": {
    "ExecuteTime": {
     "end_time": "2024-07-04T12:23:34.158754Z",
     "start_time": "2024-07-04T12:23:34.124959Z"
    },
    "collapsed": false
   },
   "outputs": [
    {
     "data": {
      "text/plain": [
       "{'GroupSizes┴┴':    control size  test size  control size %  test size %\n",
       " 0          5000       5000            50.0         50.0,\n",
       " 'GroupDifference┴┴pre_spends':    control mean  test mean  difference  difference %\n",
       " 0      487.2024   486.9851     -0.2173     -0.044602,\n",
       " 'TTest┴┴pre_spends':    p-value  statistic   pass\n",
       " 0   0.5648   0.575746  False,\n",
       " 'KSTest┴┴pre_spends':     p-value  statistic   pass\n",
       " 0  0.877289     0.0118  False,\n",
       " 'GroupDifference┴┴post_spends':    control mean   test mean  difference  difference %\n",
       " 0    452.493178  451.835933   -0.657244      -0.14525,\n",
       " 'TTest┴┴post_spends':     p-value  statistic   pass\n",
       " 0  0.404321   0.833965  False,\n",
       " 'KSTest┴┴post_spends':     p-value  statistic   pass\n",
       " 0  0.544187      0.016  False,\n",
       " 'OneAAStatAnalyzer┴┴':    mean TTest p-value  mean TTest pass  mean KSTest p-value  mean KSTest pass  \\\n",
       " 0             0.48456              0.0             0.710738               0.0   \n",
       " \n",
       "    mean test score  \n",
       " 0         0.635346  }"
      ]
     },
     "execution_count": 4,
     "metadata": {},
     "output_type": "execute_result"
    }
   ],
   "source": [
    "result.analysis_tables"
   ]
  },
  {
   "cell_type": "markdown",
   "metadata": {},
   "source": [
    "# Experiment results\n",
    "To show the report with the summary of the test we run the report method of the reporter, associated with the respective test type, AA test in our case:"
   ]
  },
  {
   "cell_type": "code",
   "execution_count": 5,
   "metadata": {
    "ExecuteTime": {
     "end_time": "2024-07-04T12:23:34.188373Z",
     "start_time": "2024-07-04T12:23:34.162092Z"
    },
    "collapsed": false
   },
   "outputs": [
    {
     "data": {
      "text/plain": [
       "       feature group TTest pass  TTest p-value KSTest pass  KSTest p-value\n",
       "0   pre_spends     0         OK       0.564800          OK        0.877289\n",
       "1  post_spends     0         OK       0.404321          OK        0.544187"
      ]
     },
     "execution_count": 5,
     "metadata": {},
     "output_type": "execute_result"
    }
   ],
   "source": [
    "AADatasetReporter().report(result)"
   ]
  },
  {
   "cell_type": "markdown",
   "metadata": {},
   "source": [
    "# Cycled AA test\n",
    "Then we create the test pipeline, experiment data, with which it will work and run it. We select one of the pre-assembled pipelines, in our case AA_TEST, or create a custom one. We can also adjust some of the preset parameters of the experiment by assigning them to the respective params of the experiment. I.e. here we set the range of the random states we want to run our AA test for. Then we run the experiment on our prepared dataset, wrapped into ExperimentData. "
   ]
  },
  {
   "cell_type": "code",
   "execution_count": 6,
   "metadata": {},
   "outputs": [
    {
     "data": {
      "text/plain": [
       "<hypex.dataset.dataset.ExperimentData at 0x7f212da0f7f0>"
      ]
     },
     "execution_count": 6,
     "metadata": {},
     "output_type": "execute_result"
    }
   ],
   "source": [
    "aa = AA_TEST\n",
    "aa.executors[0].params[AASplitter]= {\"random_states\": range(10)}\n",
    "res = aa.execute(ExperimentData(data))\n",
    "res"
   ]
  },
  {
   "cell_type": "markdown",
   "metadata": {},
   "source": [
    "# Experiment results\n",
    "To show the report with the summary of the test, we run the report method of the reporter, associated with the respective test type, AA test in our case."
   ]
  },
  {
   "cell_type": "markdown",
   "metadata": {},
   "source": [
    "AAPassedReporter shows the results of the number of tests (OK / NOT OK) for the different random states."
   ]
  },
  {
   "cell_type": "code",
   "execution_count": 7,
   "metadata": {},
   "outputs": [
    {
     "name": "stderr",
     "output_type": "stream",
     "text": [
      "/home/tony_katkov/job/HypEx/hypex/dataset/backends/pandas_backend.py:476: FutureWarning: Downcasting behavior in `replace` is deprecated and will be removed in a future version. To retain the old behavior, explicitly call `result.infer_objects(copy=False)`. To opt-in to the future behavior, set `pd.set_option('future.no_silent_downcasting', True)`\n",
      "  return self.data.replace(to_replace=to_replace, value=value, regex=regex)\n",
      "/home/tony_katkov/job/HypEx/hypex/dataset/backends/pandas_backend.py:476: FutureWarning: The behavior of Series.replace (and DataFrame.replace) with CategoricalDtype is deprecated. In a future version, replace will only be used for cases that preserve the categories. To change the categories, use ser.cat.rename_categories instead.\n",
      "  return self.data.replace(to_replace=to_replace, value=value, regex=regex)\n",
      "/home/tony_katkov/job/HypEx/hypex/dataset/backends/pandas_backend.py:476: FutureWarning: Downcasting behavior in `replace` is deprecated and will be removed in a future version. To retain the old behavior, explicitly call `result.infer_objects(copy=False)`. To opt-in to the future behavior, set `pd.set_option('future.no_silent_downcasting', True)`\n",
      "  return self.data.replace(to_replace=to_replace, value=value, regex=regex)\n",
      "/home/tony_katkov/job/HypEx/hypex/dataset/backends/pandas_backend.py:476: FutureWarning: The behavior of Series.replace (and DataFrame.replace) with CategoricalDtype is deprecated. In a future version, replace will only be used for cases that preserve the categories. To change the categories, use ser.cat.rename_categories instead.\n",
      "  return self.data.replace(to_replace=to_replace, value=value, regex=regex)\n",
      "/home/tony_katkov/job/HypEx/hypex/dataset/backends/pandas_backend.py:476: FutureWarning: The behavior of Series.replace (and DataFrame.replace) with CategoricalDtype is deprecated. In a future version, replace will only be used for cases that preserve the categories. To change the categories, use ser.cat.rename_categories instead.\n",
      "  return self.data.replace(to_replace=to_replace, value=value, regex=regex)\n",
      "/home/tony_katkov/job/HypEx/hypex/dataset/backends/pandas_backend.py:476: FutureWarning: The behavior of Series.replace (and DataFrame.replace) with CategoricalDtype is deprecated. In a future version, replace will only be used for cases that preserve the categories. To change the categories, use ser.cat.rename_categories instead.\n",
      "  return self.data.replace(to_replace=to_replace, value=value, regex=regex)\n"
     ]
    },
    {
     "data": {
      "text/plain": [
       "  TTest aa test KSTest aa test TTest best split KSTest best split  result  \\\n",
       "0        NOT OK         NOT OK               OK                OK  NOT OK   \n",
       "1        NOT OK         NOT OK               OK                OK  NOT OK   \n",
       "\n",
       "       feature group  \n",
       "0  post_spends     0  \n",
       "1   pre_spends     0  "
      ]
     },
     "execution_count": 7,
     "metadata": {},
     "output_type": "execute_result"
    }
   ],
   "source": [
    "AAPassedReporter().report(res)"
   ]
  },
  {
   "cell_type": "markdown",
   "metadata": {},
   "source": [
    "AABestSplitReporter returns the dataset with the best split among the ones covered by the cycled AA test."
   ]
  },
  {
   "cell_type": "code",
   "execution_count": 8,
   "metadata": {},
   "outputs": [
    {
     "data": {
      "text/plain": [
       "      user_id  signup_month  treat  pre_spends  post_spends   age gender  \\\n",
       "0         0.0             0      0       488.0   414.444444   NaN      M   \n",
       "1         1.0             8      1       512.5   462.222222  26.0    NaN   \n",
       "2         2.0             7      1       483.0   479.444444  25.0      M   \n",
       "3         3.0             0      0       501.5   424.333333  39.0      M   \n",
       "4         4.0             1      1       543.0   514.555556  18.0      F   \n",
       "...       ...           ...    ...         ...          ...   ...    ...   \n",
       "9995   9995.0            10      1       538.5   450.444444  42.0      M   \n",
       "9996   9996.0             0      0       500.5   430.888889  26.0      F   \n",
       "9997   9997.0             3      1       473.0   534.111111  22.0      F   \n",
       "9998   9998.0             2      1       495.0   523.222222  67.0      F   \n",
       "9999   9999.0             7      1       508.0   475.888889  38.0      F   \n",
       "\n",
       "        industry    split  \n",
       "0     E-commerce  control  \n",
       "1     E-commerce  control  \n",
       "2      Logistics     test  \n",
       "3     E-commerce  control  \n",
       "4     E-commerce  control  \n",
       "...          ...      ...  \n",
       "9995   Logistics     test  \n",
       "9996   Logistics  control  \n",
       "9997  E-commerce     test  \n",
       "9998  E-commerce  control  \n",
       "9999  E-commerce  control  \n",
       "\n",
       "[10000 rows x 9 columns]"
      ]
     },
     "execution_count": 8,
     "metadata": {},
     "output_type": "execute_result"
    }
   ],
   "source": [
    "AABestSplitReporter().report(res)"
   ]
  },
  {
   "cell_type": "markdown",
   "metadata": {},
   "source": [
    "# AA test with stratification"
   ]
  },
  {
   "cell_type": "markdown",
   "metadata": {},
   "source": [
    "Then we repeat that for the AA test with stratification, also setting the share of the control group in the splits, we expect our test to generate."
   ]
  },
  {
   "cell_type": "code",
   "execution_count": 9,
   "metadata": {},
   "outputs": [
    {
     "data": {
      "text/plain": [
       "<hypex.dataset.dataset.ExperimentData at 0x7f212d8a2bc0>"
      ]
     },
     "execution_count": 9,
     "metadata": {},
     "output_type": "execute_result"
    }
   ],
   "source": [
    "aa = AA_TEST_WITH_STRATIFICATION\n",
    "aa.executors[0].params[AASplitter]= {\"random_states\": range(10), \"control_size\": [0.3]}\n",
    "res = aa.execute(ExperimentData(data))\n",
    "res"
   ]
  },
  {
   "cell_type": "code",
   "execution_count": 10,
   "metadata": {},
   "outputs": [
    {
     "name": "stderr",
     "output_type": "stream",
     "text": [
      "/home/tony_katkov/job/HypEx/hypex/dataset/backends/pandas_backend.py:476: FutureWarning: Downcasting behavior in `replace` is deprecated and will be removed in a future version. To retain the old behavior, explicitly call `result.infer_objects(copy=False)`. To opt-in to the future behavior, set `pd.set_option('future.no_silent_downcasting', True)`\n",
      "  return self.data.replace(to_replace=to_replace, value=value, regex=regex)\n",
      "/home/tony_katkov/job/HypEx/hypex/dataset/backends/pandas_backend.py:476: FutureWarning: The behavior of Series.replace (and DataFrame.replace) with CategoricalDtype is deprecated. In a future version, replace will only be used for cases that preserve the categories. To change the categories, use ser.cat.rename_categories instead.\n",
      "  return self.data.replace(to_replace=to_replace, value=value, regex=regex)\n",
      "/home/tony_katkov/job/HypEx/hypex/dataset/backends/pandas_backend.py:476: FutureWarning: Downcasting behavior in `replace` is deprecated and will be removed in a future version. To retain the old behavior, explicitly call `result.infer_objects(copy=False)`. To opt-in to the future behavior, set `pd.set_option('future.no_silent_downcasting', True)`\n",
      "  return self.data.replace(to_replace=to_replace, value=value, regex=regex)\n",
      "/home/tony_katkov/job/HypEx/hypex/dataset/backends/pandas_backend.py:476: FutureWarning: The behavior of Series.replace (and DataFrame.replace) with CategoricalDtype is deprecated. In a future version, replace will only be used for cases that preserve the categories. To change the categories, use ser.cat.rename_categories instead.\n",
      "  return self.data.replace(to_replace=to_replace, value=value, regex=regex)\n",
      "/home/tony_katkov/job/HypEx/hypex/dataset/backends/pandas_backend.py:476: FutureWarning: The behavior of Series.replace (and DataFrame.replace) with CategoricalDtype is deprecated. In a future version, replace will only be used for cases that preserve the categories. To change the categories, use ser.cat.rename_categories instead.\n",
      "  return self.data.replace(to_replace=to_replace, value=value, regex=regex)\n",
      "/home/tony_katkov/job/HypEx/hypex/dataset/backends/pandas_backend.py:476: FutureWarning: The behavior of Series.replace (and DataFrame.replace) with CategoricalDtype is deprecated. In a future version, replace will only be used for cases that preserve the categories. To change the categories, use ser.cat.rename_categories instead.\n",
      "  return self.data.replace(to_replace=to_replace, value=value, regex=regex)\n"
     ]
    },
    {
     "data": {
      "text/plain": [
       "  TTest aa test KSTest aa test TTest best split KSTest best split  result  \\\n",
       "0        NOT OK         NOT OK               OK                OK  NOT OK   \n",
       "1        NOT OK         NOT OK               OK                OK  NOT OK   \n",
       "\n",
       "       feature group  \n",
       "0  post_spends     0  \n",
       "1   pre_spends     0  "
      ]
     },
     "execution_count": 10,
     "metadata": {},
     "output_type": "execute_result"
    }
   ],
   "source": [
    "AAPassedReporter().report(res)"
   ]
  },
  {
   "cell_type": "code",
   "execution_count": 11,
   "metadata": {},
   "outputs": [
    {
     "data": {
      "text/plain": [
       "      user_id  signup_month  treat  pre_spends  post_spends   age gender  \\\n",
       "0         0.0             0      0       488.0   414.444444   NaN      M   \n",
       "1         1.0             8      1       512.5   462.222222  26.0    NaN   \n",
       "2         2.0             7      1       483.0   479.444444  25.0      M   \n",
       "3         3.0             0      0       501.5   424.333333  39.0      M   \n",
       "4         4.0             1      1       543.0   514.555556  18.0      F   \n",
       "...       ...           ...    ...         ...          ...   ...    ...   \n",
       "9995   9995.0            10      1       538.5   450.444444  42.0      M   \n",
       "9996   9996.0             0      0       500.5   430.888889  26.0      F   \n",
       "9997   9997.0             3      1       473.0   534.111111  22.0      F   \n",
       "9998   9998.0             2      1       495.0   523.222222  67.0      F   \n",
       "9999   9999.0             7      1       508.0   475.888889  38.0      F   \n",
       "\n",
       "        industry    split  \n",
       "0     E-commerce     test  \n",
       "1     E-commerce     test  \n",
       "2      Logistics  control  \n",
       "3     E-commerce     test  \n",
       "4     E-commerce     test  \n",
       "...          ...      ...  \n",
       "9995   Logistics     test  \n",
       "9996   Logistics     test  \n",
       "9997  E-commerce     test  \n",
       "9998  E-commerce     test  \n",
       "9999  E-commerce     test  \n",
       "\n",
       "[10000 rows x 9 columns]"
      ]
     },
     "execution_count": 11,
     "metadata": {},
     "output_type": "execute_result"
    }
   ],
   "source": [
    "AABestSplitReporter().report(res)"
   ]
  }
 ],
 "metadata": {
  "kernelspec": {
   "display_name": "Python 3",
   "language": "python",
   "name": "python3"
  },
  "language_info": {
   "codemirror_mode": {
    "name": "ipython",
    "version": 3
   },
   "file_extension": ".py",
   "mimetype": "text/x-python",
   "name": "python",
   "nbconvert_exporter": "python",
   "pygments_lexer": "ipython3",
   "version": "3.10.12"
  }
 },
 "nbformat": 4,
 "nbformat_minor": 2
}

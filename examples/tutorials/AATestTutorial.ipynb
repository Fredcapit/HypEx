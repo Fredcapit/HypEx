{
 "cells": [
  {
   "cell_type": "code",
   "execution_count": 1,
   "metadata": {
    "metadata": {},
    "ExecuteTime": {
     "end_time": "2024-06-03T12:40:41.307753700Z",
     "start_time": "2024-06-03T12:40:34.291314400Z"
    }
   },
   "outputs": [
    {
     "name": "stderr",
     "output_type": "stream",
     "text": [
      "C:\\Users\\User\\AppData\\Local\\Programs\\Python\\Python310\\lib\\site-packages\\tqdm\\auto.py:21: TqdmWarning: IProgress not found. Please update jupyter and ipywidgets. See https://ipywidgets.readthedocs.io/en/stable/user_install.html\n",
      "  from .autonotebook import tqdm as notebook_tqdm\n"
     ]
    }
   ],
   "source": [
    "from hypex.dataset import Dataset, ExperimentData, InfoRole, TreatmentRole, TargetRole\n",
    "from hypex.experiments.aa import AA_TEST\n",
    "from hypex.reporters import AADictReporter"
   ]
  },
  {
   "cell_type": "code",
   "execution_count": 2,
   "metadata": {
    "metadata": {},
    "ExecuteTime": {
     "end_time": "2024-06-03T12:40:41.426902300Z",
     "start_time": "2024-06-03T12:40:41.310985900Z"
    }
   },
   "outputs": [
    {
     "data": {
      "text/plain": "      user_id  signup_month  treat  pre_spends  post_spends   age gender  \\\n0           0             0      0       488.0   414.444444   NaN      M   \n1           1             8      1       512.5   462.222222  26.0    NaN   \n2           2             7      1       483.0   479.444444  25.0      M   \n3           3             0      0       501.5   424.333333  39.0      M   \n4           4             1      1       543.0   514.555556  18.0      F   \n...       ...           ...    ...         ...          ...   ...    ...   \n9995     9995            10      1       538.5   450.444444  42.0      M   \n9996     9996             0      0       500.5   430.888889  26.0      F   \n9997     9997             3      1       473.0   534.111111  22.0      F   \n9998     9998             2      1       495.0   523.222222  67.0      F   \n9999     9999             7      1       508.0   475.888889  38.0      F   \n\n        industry  \n0     E-commerce  \n1     E-commerce  \n2      Logistics  \n3     E-commerce  \n4     E-commerce  \n...          ...  \n9995   Logistics  \n9996   Logistics  \n9997  E-commerce  \n9998  E-commerce  \n9999  E-commerce  \n\n[10000 rows x 8 columns]"
     },
     "execution_count": 2,
     "metadata": {},
     "output_type": "execute_result"
    }
   ],
   "source": [
    "data = Dataset(\n",
    "    roles={\n",
    "        \"user_id\": InfoRole(int),\n",
    "        \"treat\": TreatmentRole(int),\n",
    "        \"pre_spends\": TargetRole(),\n",
    "        \"post_spends\": TargetRole()\n",
    "    }, data=\"data.csv\",\n",
    ")\n",
    "data"
   ]
  },
  {
   "cell_type": "code",
   "execution_count": 3,
   "metadata": {
    "metadata": {},
    "ExecuteTime": {
     "end_time": "2024-06-03T12:40:41.474424500Z",
     "start_time": "2024-06-03T12:40:41.422752900Z"
    }
   },
   "outputs": [
    {
     "data": {
      "text/plain": "user_id           int64\nsignup_month      int64\ntreat             int64\npre_spends      float64\npost_spends     float64\nage             float64\ngender           object\nindustry         object\ndtype: object"
     },
     "execution_count": 3,
     "metadata": {},
     "output_type": "execute_result"
    }
   ],
   "source": [
    "data.data.dtypes"
   ]
  },
  {
   "cell_type": "code",
   "execution_count": 4,
   "metadata": {
    "metadata": {},
    "ExecuteTime": {
     "end_time": "2024-06-03T12:40:41.679348600Z",
     "start_time": "2024-06-03T12:40:41.456422800Z"
    }
   },
   "outputs": [],
   "source": [
    "test = AA_TEST\n",
    "ed = ExperimentData(data)\n",
    "result = test.execute(ed)"
   ]
  },
  {
   "cell_type": "code",
   "execution_count": 5,
   "metadata": {
    "collapsed": false,
    "ExecuteTime": {
     "end_time": "2024-06-03T12:40:41.732025500Z",
     "start_time": "2024-06-03T12:40:41.682665700Z"
    }
   },
   "outputs": [
    {
     "data": {
      "text/plain": "{'GroupSizes┴┴':                      B\n control size    5000.0\n control size %    50.0\n test size       5000.0\n test size %       50.0,\n 'GroupDifference┴┴pre_spends':                                   B\n pre_spends control mean  487.121900\n pre_spends difference     -0.056300\n pre_spends difference %   -0.011558\n pre_spends test mean     487.065600,\n 'TTest┴┴pre_spends':     p-value  statistic   pass\n B  0.881425   0.149167  False,\n 'KSTest┴┴pre_spends':     p-value  statistic   pass\n B  0.776418     0.0132  False,\n 'GroupDifference┴┴post_spends':                                    B\n post_spends control mean  451.743778\n post_spends difference      0.841556\n post_spends difference %    0.186290\n post_spends test mean     452.585333,\n 'TTest┴┴post_spends':     p-value  statistic   pass\n B  0.285611  -1.067857  False,\n 'KSTest┴┴post_spends':     p-value  statistic   pass\n B  0.406718     0.0178  False,\n 'OneAAStatAnalyzer┴┴':    TTest p-value  TTest pass  KSTest p-value  KSTest pass  mean test score\n 0       0.583518         0.0        0.591568          0.0         0.588885}"
     },
     "execution_count": 5,
     "metadata": {},
     "output_type": "execute_result"
    }
   ],
   "source": [
    "result.analysis_tables"
   ]
  },
  {
   "cell_type": "code",
   "execution_count": 6,
   "metadata": {
    "collapsed": false,
    "ExecuteTime": {
     "end_time": "2024-06-03T12:40:41.760336800Z",
     "start_time": "2024-06-03T12:40:41.712314300Z"
    }
   },
   "outputs": [
    {
     "data": {
      "text/plain": "{'random_state': None,\n 'B pre_spends control mean': 487.1219,\n 'B pre_spends difference': -0.05629999999996471,\n 'B pre_spends difference %': -0.01155768196831053,\n 'B pre_spends test mean': 487.0656,\n 'B post_spends control mean': 451.7437777777778,\n 'B post_spends difference': 0.8415555555556011,\n 'B post_spends difference %': 0.1862904586523273,\n 'B post_spends test mean': 452.5853333333334,\n 'B control size': 5000.0,\n 'B control size %': 50.0,\n 'B test size': 5000.0,\n 'B test size %': 50.0,\n 'TTest p-value': 0.5835178065896072,\n 'TTest pass': 'OK',\n 'KSTest p-value': 0.5915678763064258,\n 'KSTest pass': 'OK',\n 'mean test score': 0.5888845197341529}"
     },
     "execution_count": 6,
     "metadata": {},
     "output_type": "execute_result"
    }
   ],
   "source": [
    "AADictReporter().report(result)"
   ]
  },
  {
   "cell_type": "code",
   "execution_count": 6,
   "metadata": {
    "ExecuteTime": {
     "end_time": "2024-06-03T12:40:41.761500Z",
     "start_time": "2024-06-03T12:40:41.745303600Z"
    }
   },
   "outputs": [],
   "source": []
  }
 ],
 "metadata": {
  "kernelspec": {
   "display_name": "Python 3",
   "language": "python",
   "name": "python3"
  },
  "language_info": {
   "codemirror_mode": {
    "name": "ipython",
    "version": 3
   },
   "file_extension": ".py",
   "mimetype": "text/x-python",
   "name": "python",
   "nbconvert_exporter": "python",
   "pygments_lexer": "ipython3",
   "version": "3.12.3"
  }
 },
 "nbformat": 4,
 "nbformat_minor": 2
}

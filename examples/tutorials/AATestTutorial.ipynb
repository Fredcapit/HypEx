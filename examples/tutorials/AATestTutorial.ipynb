{
 "cells": [
  {
   "cell_type": "code",
   "execution_count": 3,
   "metadata": {
    "ExecuteTime": {
     "end_time": "2024-06-18T15:13:21.111269800Z",
     "start_time": "2024-06-18T15:13:19.053055500Z"
    },
    "metadata": {}
   },
   "outputs": [],
   "source": [
    "from hypex.dataset import Dataset, ExperimentData, InfoRole, TreatmentRole, TargetRole\n",
    "from hypex.experiments.aa import ONE_AA_TEST\n",
    "from hypex.reporters import AADictReporter"
   ]
  },
  {
   "cell_type": "code",
   "execution_count": 4,
   "metadata": {
    "ExecuteTime": {
     "end_time": "2024-06-18T15:13:21.189481600Z",
     "start_time": "2024-06-18T15:13:21.117930700Z"
    },
    "metadata": {}
   },
   "outputs": [
    {
     "data": {
      "text/plain": [
       "      user_id  signup_month  treat  pre_spends  post_spends   age gender  \\\n",
       "0           0             0      0       488.0   414.444444   NaN      M   \n",
       "1           1             8      1       512.5   462.222222  26.0    NaN   \n",
       "2           2             7      1       483.0   479.444444  25.0      M   \n",
       "3           3             0      0       501.5   424.333333  39.0      M   \n",
       "4           4             1      1       543.0   514.555556  18.0      F   \n",
       "...       ...           ...    ...         ...          ...   ...    ...   \n",
       "9995     9995            10      1       538.5   450.444444  42.0      M   \n",
       "9996     9996             0      0       500.5   430.888889  26.0      F   \n",
       "9997     9997             3      1       473.0   534.111111  22.0      F   \n",
       "9998     9998             2      1       495.0   523.222222  67.0      F   \n",
       "9999     9999             7      1       508.0   475.888889  38.0      F   \n",
       "\n",
       "        industry  \n",
       "0     E-commerce  \n",
       "1     E-commerce  \n",
       "2      Logistics  \n",
       "3     E-commerce  \n",
       "4     E-commerce  \n",
       "...          ...  \n",
       "9995   Logistics  \n",
       "9996   Logistics  \n",
       "9997  E-commerce  \n",
       "9998  E-commerce  \n",
       "9999  E-commerce  \n",
       "\n",
       "[10000 rows x 8 columns]"
      ]
     },
     "execution_count": 4,
     "metadata": {},
     "output_type": "execute_result"
    }
   ],
   "source": [
    "data = Dataset(\n",
    "    roles={\n",
    "        \"user_id\": InfoRole(int),\n",
    "        \"treat\": TreatmentRole(int),\n",
    "        \"pre_spends\": TargetRole(),\n",
    "        \"post_spends\": TargetRole()\n",
    "    }, data=\"data.csv\",\n",
    ")\n",
    "data"
   ]
  },
  {
   "cell_type": "code",
   "execution_count": 5,
   "metadata": {
    "ExecuteTime": {
     "end_time": "2024-06-18T15:13:21.224064700Z",
     "start_time": "2024-06-18T15:13:21.195582Z"
    },
    "metadata": {}
   },
   "outputs": [
    {
     "data": {
      "text/plain": [
       "user_id           int64\n",
       "signup_month      int64\n",
       "treat             int64\n",
       "pre_spends      float64\n",
       "post_spends     float64\n",
       "age             float64\n",
       "gender           object\n",
       "industry         object\n",
       "dtype: object"
      ]
     },
     "execution_count": 5,
     "metadata": {},
     "output_type": "execute_result"
    }
   ],
   "source": [
    "data.data.dtypes"
   ]
  },
  {
   "cell_type": "code",
   "execution_count": 6,
   "metadata": {
    "ExecuteTime": {
     "end_time": "2024-06-18T15:13:21.407537900Z",
     "start_time": "2024-06-18T15:13:21.229594500Z"
    },
    "metadata": {}
   },
   "outputs": [
    {
     "name": "stderr",
     "output_type": "stream",
     "text": [
      "/workspaces/HypEx/hypex/dataset/backends/pandas_backend.py:196: FutureWarning: Setting an item of incompatible dtype is deprecated and will raise in a future error of pandas. Value '[0. 1.]' has dtype incompatible with bool, please explicitly cast to a compatible dtype first.\n",
      "  self.data.loc[:, column_name] = self.data[column_name].astype(type_name)\n",
      "/workspaces/HypEx/hypex/dataset/backends/pandas_backend.py:196: FutureWarning: Setting an item of incompatible dtype is deprecated and will raise in a future error of pandas. Value '[0. 1.]' has dtype incompatible with bool, please explicitly cast to a compatible dtype first.\n",
      "  self.data.loc[:, column_name] = self.data[column_name].astype(type_name)\n"
     ]
    }
   ],
   "source": [
    "test = ONE_AA_TEST\n",
    "ed = ExperimentData(data)\n",
    "result = test.execute(ed)"
   ]
  },
  {
   "cell_type": "code",
   "execution_count": 7,
   "metadata": {
    "ExecuteTime": {
     "end_time": "2024-06-18T15:13:21.463465800Z",
     "start_time": "2024-06-18T15:13:21.411766900Z"
    },
    "collapsed": false
   },
   "outputs": [
    {
     "data": {
      "text/plain": [
       "{'GroupSizes┴┴':    control size  test size  control size %  test size %\n",
       " 0          5000       5000            50.0         50.0,\n",
       " 'GroupDifference┴┴pre_spends':    control mean  test mean  difference  difference %\n",
       " 0      486.9903   487.1972      0.2069      0.042485,\n",
       " 'TTest┴┴pre_spends':     p-value  statistic   pass\n",
       " 0  0.583574   -0.54819  False,\n",
       " 'KSTest┴┴pre_spends':     p-value  statistic   pass\n",
       " 0  0.912466     0.0112  False,\n",
       " 'GroupDifference┴┴post_spends':    control mean   test mean  difference  difference %\n",
       " 0    450.940978  453.388133    2.447156      0.542678,\n",
       " 'TTest┴┴post_spends':     p-value  statistic  pass\n",
       " 0  0.001898  -3.106538  True,\n",
       " 'KSTest┴┴post_spends':     p-value  statistic  pass\n",
       " 0  0.002852     0.0362  True,\n",
       " 'OneAAStatAnalyzer┴┴':    mean TTest p-value  mean TTest pass  mean KSTest p-value  mean KSTest pass  \\\n",
       " 0            0.292736              0.5             0.457659               0.5   \n",
       " \n",
       "    mean test score  \n",
       " 0         0.402685  }"
      ]
     },
     "execution_count": 7,
     "metadata": {},
     "output_type": "execute_result"
    }
   ],
   "source": [
    "result.analysis_tables"
   ]
  },
  {
   "cell_type": "code",
   "execution_count": 8,
   "metadata": {
    "ExecuteTime": {
     "end_time": "2024-06-18T15:13:21.545100500Z",
     "start_time": "2024-06-18T15:13:21.457446Z"
    },
    "collapsed": false
   },
   "outputs": [
    {
     "data": {
      "text/plain": [
       "{'splitter_id': 'AASplitter┴None┴',\n",
       " 'pre_spends GroupDifference control mean 0': 486.9903,\n",
       " 'pre_spends GroupDifference test mean 0': 487.1972,\n",
       " 'pre_spends GroupDifference difference 0': 0.20690000000001874,\n",
       " 'pre_spends GroupDifference difference % 0': 0.042485445808670974,\n",
       " 'post_spends GroupDifference control mean 0': 450.9409777777778,\n",
       " 'post_spends GroupDifference test mean 0': 453.3881333333333,\n",
       " 'post_spends GroupDifference difference 0': 2.4471555555555256,\n",
       " 'post_spends GroupDifference difference % 0': 0.5426775733744726,\n",
       " 'GroupSizes control size 0': 5000,\n",
       " 'GroupSizes test size 0': 5000,\n",
       " 'GroupSizes control size % 0': 50.0,\n",
       " 'GroupSizes test size % 0': 50.0,\n",
       " 'pre_spends TTest p-value 0': 0.5835737314900233,\n",
       " 'pre_spends TTest pass 0': 'OK',\n",
       " 'post_spends TTest p-value 0': 0.0018982225385838747,\n",
       " 'post_spends TTest pass 0': 'NOT OK',\n",
       " 'pre_spends KSTest p-value 0': 0.9124660059809748,\n",
       " 'pre_spends KSTest pass 0': 'OK',\n",
       " 'post_spends KSTest p-value 0': 0.0028517312552505617,\n",
       " 'post_spends KSTest pass 0': 'NOT OK',\n",
       " 'mean TTest p-value': 0.2927359770143036,\n",
       " 'mean TTest pass': 'NOT OK',\n",
       " 'mean KSTest p-value': 0.45765886861811267,\n",
       " 'mean KSTest pass': 'NOT OK',\n",
       " 'mean test score': 0.402684571416843}"
      ]
     },
     "execution_count": 8,
     "metadata": {},
     "output_type": "execute_result"
    }
   ],
   "source": [
    "AADictReporter().report(result)"
   ]
  }
 ],
 "metadata": {
  "kernelspec": {
   "display_name": "Python 3",
   "language": "python",
   "name": "python3"
  },
  "language_info": {
   "codemirror_mode": {
    "name": "ipython",
    "version": 3
   },
   "file_extension": ".py",
   "mimetype": "text/x-python",
   "name": "python",
   "nbconvert_exporter": "python",
   "pygments_lexer": "ipython3",
   "version": "3.10.13"
  }
 },
 "nbformat": 4,
 "nbformat_minor": 2
}

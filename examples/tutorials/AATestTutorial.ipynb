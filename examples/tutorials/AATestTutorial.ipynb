{
 "cells": [
  {
   "cell_type": "code",
   "execution_count": 1,
   "metadata": {
    "metadata": {},
    "ExecuteTime": {
     "end_time": "2024-06-04T15:48:58.209705200Z",
     "start_time": "2024-06-04T15:48:55.872937600Z"
    }
   },
   "outputs": [
    {
     "name": "stderr",
     "output_type": "stream",
     "text": [
      "C:\\Users\\User\\AppData\\Local\\Programs\\Python\\Python310\\lib\\site-packages\\tqdm\\auto.py:21: TqdmWarning: IProgress not found. Please update jupyter and ipywidgets. See https://ipywidgets.readthedocs.io/en/stable/user_install.html\n",
      "  from .autonotebook import tqdm as notebook_tqdm\n"
     ]
    }
   ],
   "source": [
    "from hypex.dataset import Dataset, ExperimentData, InfoRole, TreatmentRole, TargetRole\n",
    "from hypex.experiments.aa import AA_TEST\n",
    "from hypex.reporters import AADictReporter"
   ]
  },
  {
   "cell_type": "code",
   "execution_count": 2,
   "metadata": {
    "metadata": {},
    "ExecuteTime": {
     "end_time": "2024-06-04T15:48:58.307419Z",
     "start_time": "2024-06-04T15:48:58.211719200Z"
    }
   },
   "outputs": [
    {
     "data": {
      "text/plain": "      user_id  signup_month  treat  pre_spends  post_spends   age gender  \\\n0           0             0      0       488.0   414.444444   NaN      M   \n1           1             8      1       512.5   462.222222  26.0    NaN   \n2           2             7      1       483.0   479.444444  25.0      M   \n3           3             0      0       501.5   424.333333  39.0      M   \n4           4             1      1       543.0   514.555556  18.0      F   \n...       ...           ...    ...         ...          ...   ...    ...   \n9995     9995            10      1       538.5   450.444444  42.0      M   \n9996     9996             0      0       500.5   430.888889  26.0      F   \n9997     9997             3      1       473.0   534.111111  22.0      F   \n9998     9998             2      1       495.0   523.222222  67.0      F   \n9999     9999             7      1       508.0   475.888889  38.0      F   \n\n        industry  \n0     E-commerce  \n1     E-commerce  \n2      Logistics  \n3     E-commerce  \n4     E-commerce  \n...          ...  \n9995   Logistics  \n9996   Logistics  \n9997  E-commerce  \n9998  E-commerce  \n9999  E-commerce  \n\n[10000 rows x 8 columns]"
     },
     "execution_count": 2,
     "metadata": {},
     "output_type": "execute_result"
    }
   ],
   "source": [
    "data = Dataset(\n",
    "    roles={\n",
    "        \"user_id\": InfoRole(int),\n",
    "        \"treat\": TreatmentRole(int),\n",
    "        \"pre_spends\": TargetRole(),\n",
    "        \"post_spends\": TargetRole()\n",
    "    }, data=\"data.csv\",\n",
    ")\n",
    "data"
   ]
  },
  {
   "cell_type": "code",
   "execution_count": 3,
   "metadata": {
    "metadata": {},
    "ExecuteTime": {
     "end_time": "2024-06-04T15:48:58.346942200Z",
     "start_time": "2024-06-04T15:48:58.313420500Z"
    }
   },
   "outputs": [
    {
     "data": {
      "text/plain": "user_id           int64\nsignup_month      int64\ntreat             int64\npre_spends      float64\npost_spends     float64\nage             float64\ngender           object\nindustry         object\ndtype: object"
     },
     "execution_count": 3,
     "metadata": {},
     "output_type": "execute_result"
    }
   ],
   "source": [
    "data.data.dtypes"
   ]
  },
  {
   "cell_type": "code",
   "execution_count": 4,
   "metadata": {
    "metadata": {},
    "ExecuteTime": {
     "end_time": "2024-06-04T15:48:58.960999200Z",
     "start_time": "2024-06-04T15:48:58.344927200Z"
    }
   },
   "outputs": [
    {
     "ename": "ValueError",
     "evalue": "No other dataset provided",
     "output_type": "error",
     "traceback": [
      "\u001B[1;31m---------------------------------------------------------------------------\u001B[0m",
      "\u001B[1;31mValueError\u001B[0m                                Traceback (most recent call last)",
      "Cell \u001B[1;32mIn[4], line 3\u001B[0m\n\u001B[0;32m      1\u001B[0m test \u001B[38;5;241m=\u001B[39m AA_TEST\n\u001B[0;32m      2\u001B[0m ed \u001B[38;5;241m=\u001B[39m ExperimentData(data)\n\u001B[1;32m----> 3\u001B[0m result \u001B[38;5;241m=\u001B[39m \u001B[43mtest\u001B[49m\u001B[38;5;241;43m.\u001B[39;49m\u001B[43mexecute\u001B[49m\u001B[43m(\u001B[49m\u001B[43med\u001B[49m\u001B[43m)\u001B[49m\n",
      "File \u001B[1;32m~\\PycharmProjects\\HypEx\\hypex\\experiments\\base.py:61\u001B[0m, in \u001B[0;36mExperiment.execute\u001B[1;34m(self, data)\u001B[0m\n\u001B[0;32m     59\u001B[0m     executor\u001B[38;5;241m.\u001B[39mkey \u001B[38;5;241m=\u001B[39m \u001B[38;5;28mself\u001B[39m\u001B[38;5;241m.\u001B[39mkey\n\u001B[0;32m     60\u001B[0m     executor\u001B[38;5;241m.\u001B[39mrandom_state \u001B[38;5;241m=\u001B[39m \u001B[38;5;28mself\u001B[39m\u001B[38;5;241m.\u001B[39mrandom_state\n\u001B[1;32m---> 61\u001B[0m     experiment_data \u001B[38;5;241m=\u001B[39m \u001B[43mexecutor\u001B[49m\u001B[38;5;241;43m.\u001B[39;49m\u001B[43mexecute\u001B[49m\u001B[43m(\u001B[49m\u001B[43mexperiment_data\u001B[49m\u001B[43m)\u001B[49m\n\u001B[0;32m     62\u001B[0m \u001B[38;5;28;01mreturn\u001B[39;00m experiment_data\n",
      "File \u001B[1;32m~\\PycharmProjects\\HypEx\\hypex\\experiments\\base.py:149\u001B[0m, in \u001B[0;36mOnRoleExperiment.execute\u001B[1;34m(self, data)\u001B[0m\n\u001B[0;32m    147\u001B[0m \u001B[38;5;28;01mfor\u001B[39;00m field \u001B[38;5;129;01min\u001B[39;00m data\u001B[38;5;241m.\u001B[39mds\u001B[38;5;241m.\u001B[39msearch_columns(\u001B[38;5;28mself\u001B[39m\u001B[38;5;241m.\u001B[39mrole):\n\u001B[0;32m    148\u001B[0m     data\u001B[38;5;241m.\u001B[39mds\u001B[38;5;241m.\u001B[39mtmp_roles \u001B[38;5;241m=\u001B[39m {field: TempTargetRole()}\n\u001B[1;32m--> 149\u001B[0m     data \u001B[38;5;241m=\u001B[39m \u001B[38;5;28;43msuper\u001B[39;49m\u001B[43m(\u001B[49m\u001B[43m)\u001B[49m\u001B[38;5;241;43m.\u001B[39;49m\u001B[43mexecute\u001B[49m\u001B[43m(\u001B[49m\u001B[43mdata\u001B[49m\u001B[43m)\u001B[49m\n\u001B[0;32m    150\u001B[0m     data\u001B[38;5;241m.\u001B[39mds\u001B[38;5;241m.\u001B[39mtmp_roles \u001B[38;5;241m=\u001B[39m {}\n\u001B[0;32m    151\u001B[0m \u001B[38;5;28;01mreturn\u001B[39;00m data\n",
      "File \u001B[1;32m~\\PycharmProjects\\HypEx\\hypex\\experiments\\base.py:61\u001B[0m, in \u001B[0;36mExperiment.execute\u001B[1;34m(self, data)\u001B[0m\n\u001B[0;32m     59\u001B[0m     executor\u001B[38;5;241m.\u001B[39mkey \u001B[38;5;241m=\u001B[39m \u001B[38;5;28mself\u001B[39m\u001B[38;5;241m.\u001B[39mkey\n\u001B[0;32m     60\u001B[0m     executor\u001B[38;5;241m.\u001B[39mrandom_state \u001B[38;5;241m=\u001B[39m \u001B[38;5;28mself\u001B[39m\u001B[38;5;241m.\u001B[39mrandom_state\n\u001B[1;32m---> 61\u001B[0m     experiment_data \u001B[38;5;241m=\u001B[39m \u001B[43mexecutor\u001B[49m\u001B[38;5;241;43m.\u001B[39;49m\u001B[43mexecute\u001B[49m\u001B[43m(\u001B[49m\u001B[43mexperiment_data\u001B[49m\u001B[43m)\u001B[49m\n\u001B[0;32m     62\u001B[0m \u001B[38;5;28;01mreturn\u001B[39;00m experiment_data\n",
      "File \u001B[1;32m~\\PycharmProjects\\HypEx\\hypex\\comparators\\abstract.py:185\u001B[0m, in \u001B[0;36mGroupComparator.execute\u001B[1;34m(self, data)\u001B[0m\n\u001B[0;32m    183\u001B[0m \u001B[38;5;28;01melse\u001B[39;00m:\n\u001B[0;32m    184\u001B[0m     grouping_data \u001B[38;5;241m=\u001B[39m \u001B[38;5;28;01mNone\u001B[39;00m\n\u001B[1;32m--> 185\u001B[0m compare_result \u001B[38;5;241m=\u001B[39m \u001B[38;5;28;43mself\u001B[39;49m\u001B[38;5;241;43m.\u001B[39;49m\u001B[43mcalc\u001B[49m\u001B[43m(\u001B[49m\n\u001B[0;32m    186\u001B[0m \u001B[43m    \u001B[49m\u001B[43mdata\u001B[49m\u001B[38;5;241;43m=\u001B[39;49m\u001B[43mdata\u001B[49m\u001B[38;5;241;43m.\u001B[39;49m\u001B[43mds\u001B[49m\u001B[43m,\u001B[49m\n\u001B[0;32m    187\u001B[0m \u001B[43m    \u001B[49m\u001B[43mgroup_field\u001B[49m\u001B[38;5;241;43m=\u001B[39;49m\u001B[43mgroup_field\u001B[49m\u001B[43m,\u001B[49m\n\u001B[0;32m    188\u001B[0m \u001B[43m    \u001B[49m\u001B[43mtarget_field\u001B[49m\u001B[38;5;241;43m=\u001B[39;49m\u001B[43mtarget_fields\u001B[49m\u001B[43m,\u001B[49m\n\u001B[0;32m    189\u001B[0m \u001B[43m    \u001B[49m\u001B[43mgrouping_data\u001B[49m\u001B[38;5;241;43m=\u001B[39;49m\u001B[43mgrouping_data\u001B[49m\u001B[43m,\u001B[49m\n\u001B[0;32m    190\u001B[0m \u001B[43m    \u001B[49m\u001B[43mcomparison_function\u001B[49m\u001B[38;5;241;43m=\u001B[39;49m\u001B[38;5;28;43mself\u001B[39;49m\u001B[38;5;241;43m.\u001B[39;49m\u001B[43m_inner_function\u001B[49m\u001B[43m,\u001B[49m\n\u001B[0;32m    191\u001B[0m \u001B[43m\u001B[49m\u001B[43m)\u001B[49m\n\u001B[0;32m    192\u001B[0m result_dataset \u001B[38;5;241m=\u001B[39m \u001B[38;5;28mself\u001B[39m\u001B[38;5;241m.\u001B[39m_local_extract_dataset(\n\u001B[0;32m    193\u001B[0m     compare_result, {key: StatisticRole() \u001B[38;5;28;01mfor\u001B[39;00m key \u001B[38;5;129;01min\u001B[39;00m compare_result}\n\u001B[0;32m    194\u001B[0m )\n\u001B[0;32m    195\u001B[0m \u001B[38;5;28;01mreturn\u001B[39;00m \u001B[38;5;28mself\u001B[39m\u001B[38;5;241m.\u001B[39m_set_value(data, result_dataset)\n",
      "File \u001B[1;32m~\\PycharmProjects\\HypEx\\hypex\\comparators\\abstract.py:125\u001B[0m, in \u001B[0;36mGroupComparator.calc\u001B[1;34m(cls, data, group_field, target_field, grouping_data, **kwargs)\u001B[0m\n\u001B[0;32m    118\u001B[0m         result_key \u001B[38;5;241m=\u001B[39m (\n\u001B[0;32m    119\u001B[0m             grouping_data[i][\u001B[38;5;241m0\u001B[39m]\n\u001B[0;32m    120\u001B[0m             \u001B[38;5;28;01mif\u001B[39;00m \u001B[38;5;28mlen\u001B[39m(grouping_data[i][\u001B[38;5;241m0\u001B[39m]) \u001B[38;5;241m>\u001B[39m \u001B[38;5;241m1\u001B[39m\n\u001B[0;32m    121\u001B[0m             \u001B[38;5;28;01melse\u001B[39;00m grouping_data[i][\u001B[38;5;241m0\u001B[39m][\u001B[38;5;241m0\u001B[39m]\n\u001B[0;32m    122\u001B[0m         )\n\u001B[0;32m    123\u001B[0m         grouping_data[i][\u001B[38;5;241m1\u001B[39m]\u001B[38;5;241m.\u001B[39mtmp_roles \u001B[38;5;241m=\u001B[39m data\u001B[38;5;241m.\u001B[39mtmp_roles\n\u001B[0;32m    124\u001B[0m         result[result_key] \u001B[38;5;241m=\u001B[39m \u001B[38;5;28mcls\u001B[39m\u001B[38;5;241m.\u001B[39m_to_dataset(\n\u001B[1;32m--> 125\u001B[0m             \u001B[38;5;28mcls\u001B[39m\u001B[38;5;241m.\u001B[39m_inner_function(\n\u001B[0;32m    126\u001B[0m                 data\u001B[38;5;241m=\u001B[39mgrouping_data[\u001B[38;5;241m0\u001B[39m][\u001B[38;5;241m1\u001B[39m][target_field],\n\u001B[0;32m    127\u001B[0m                 test_data\u001B[38;5;241m=\u001B[39mgrouping_data[i][\u001B[38;5;241m1\u001B[39m][target_field],\n\u001B[0;32m    128\u001B[0m                 \u001B[38;5;241m*\u001B[39m\u001B[38;5;241m*\u001B[39mkwargs,\n\u001B[0;32m    129\u001B[0m             )\n\u001B[0;32m    130\u001B[0m         )\n\u001B[0;32m    131\u001B[0m \u001B[38;5;28;01melse\u001B[39;00m:\n\u001B[0;32m    132\u001B[0m     \u001B[38;5;28;01mfor\u001B[39;00m i \u001B[38;5;129;01min\u001B[39;00m \u001B[38;5;28mrange\u001B[39m(\u001B[38;5;241m1\u001B[39m, \u001B[38;5;28mlen\u001B[39m(grouping_data)):\n",
      "File \u001B[1;32m~\\PycharmProjects\\HypEx\\hypex\\comparators\\hypothesis_testing.py:35\u001B[0m, in \u001B[0;36mTTest._inner_function\u001B[1;34m(cls, data, test_data, **kwargs)\u001B[0m\n\u001B[0;32m     31\u001B[0m \u001B[38;5;129m@classmethod\u001B[39m\n\u001B[0;32m     32\u001B[0m \u001B[38;5;28;01mdef\u001B[39;00m \u001B[38;5;21m_inner_function\u001B[39m(\n\u001B[0;32m     33\u001B[0m     \u001B[38;5;28mcls\u001B[39m, data: Dataset, test_data: Optional[Dataset] \u001B[38;5;241m=\u001B[39m \u001B[38;5;28;01mNone\u001B[39;00m, \u001B[38;5;241m*\u001B[39m\u001B[38;5;241m*\u001B[39mkwargs\n\u001B[0;32m     34\u001B[0m ) \u001B[38;5;241m-\u001B[39m\u001B[38;5;241m>\u001B[39m Dataset:\n\u001B[1;32m---> 35\u001B[0m     \u001B[38;5;28;01mreturn\u001B[39;00m TTestExtension(kwargs\u001B[38;5;241m.\u001B[39mget(\u001B[38;5;124m\"\u001B[39m\u001B[38;5;124mreliability\u001B[39m\u001B[38;5;124m\"\u001B[39m, \u001B[38;5;241m0.05\u001B[39m))\u001B[38;5;241m.\u001B[39mcalc(\n\u001B[0;32m     36\u001B[0m         data, test_data\u001B[38;5;241m=\u001B[39mtest_data, \u001B[38;5;241m*\u001B[39m\u001B[38;5;241m*\u001B[39mkwargs\n\u001B[0;32m     37\u001B[0m     )\n",
      "File \u001B[1;32m~\\PycharmProjects\\HypEx\\hypex\\extensions\\abstract.py:25\u001B[0m, in \u001B[0;36mCompareExtension.calc\u001B[1;34m(self, data, other, **kwargs)\u001B[0m\n\u001B[0;32m     24\u001B[0m \u001B[38;5;28;01mdef\u001B[39;00m \u001B[38;5;21mcalc\u001B[39m(\u001B[38;5;28mself\u001B[39m, data: Dataset, other: Union[Dataset, \u001B[38;5;28;01mNone\u001B[39;00m] \u001B[38;5;241m=\u001B[39m \u001B[38;5;28;01mNone\u001B[39;00m, \u001B[38;5;241m*\u001B[39m\u001B[38;5;241m*\u001B[39mkwargs):\n\u001B[1;32m---> 25\u001B[0m     \u001B[38;5;28;01mreturn\u001B[39;00m \u001B[38;5;28msuper\u001B[39m()\u001B[38;5;241m.\u001B[39mcalc(data\u001B[38;5;241m=\u001B[39mdata, other\u001B[38;5;241m=\u001B[39mother, \u001B[38;5;241m*\u001B[39m\u001B[38;5;241m*\u001B[39mkwargs)\n",
      "File \u001B[1;32m~\\PycharmProjects\\HypEx\\hypex\\extensions\\abstract.py:20\u001B[0m, in \u001B[0;36mExtension.calc\u001B[1;34m(self, data, **kwargs)\u001B[0m\n\u001B[0;32m     19\u001B[0m \u001B[38;5;28;01mdef\u001B[39;00m \u001B[38;5;21mcalc\u001B[39m(\u001B[38;5;28mself\u001B[39m, data: Dataset, \u001B[38;5;241m*\u001B[39m\u001B[38;5;241m*\u001B[39mkwargs):\n\u001B[1;32m---> 20\u001B[0m     \u001B[38;5;28;01mreturn\u001B[39;00m \u001B[38;5;28mself\u001B[39m\u001B[38;5;241m.\u001B[39mBACKEND_MAPPING[\u001B[38;5;28mtype\u001B[39m(data\u001B[38;5;241m.\u001B[39mbackend)](data\u001B[38;5;241m=\u001B[39mdata, \u001B[38;5;241m*\u001B[39m\u001B[38;5;241m*\u001B[39mkwargs)\n",
      "File \u001B[1;32m~\\PycharmProjects\\HypEx\\hypex\\extensions\\hypothesis_testing.py:57\u001B[0m, in \u001B[0;36mStatTest._calc_pandas\u001B[1;34m(self, data, other, **kwargs)\u001B[0m\n\u001B[0;32m     54\u001B[0m \u001B[38;5;28;01mdef\u001B[39;00m \u001B[38;5;21m_calc_pandas\u001B[39m(\n\u001B[0;32m     55\u001B[0m     \u001B[38;5;28mself\u001B[39m, data: Dataset, other: Union[Dataset, \u001B[38;5;28;01mNone\u001B[39;00m] \u001B[38;5;241m=\u001B[39m \u001B[38;5;28;01mNone\u001B[39;00m, \u001B[38;5;241m*\u001B[39m\u001B[38;5;241m*\u001B[39mkwargs\n\u001B[0;32m     56\u001B[0m ) \u001B[38;5;241m-\u001B[39m\u001B[38;5;241m>\u001B[39m Union[\u001B[38;5;28mfloat\u001B[39m, Dataset]:\n\u001B[1;32m---> 57\u001B[0m     other \u001B[38;5;241m=\u001B[39m \u001B[38;5;28;43mself\u001B[39;49m\u001B[38;5;241;43m.\u001B[39;49m\u001B[43mcheck_data\u001B[49m\u001B[43m(\u001B[49m\u001B[43mdata\u001B[49m\u001B[43m,\u001B[49m\u001B[43m \u001B[49m\u001B[43mother\u001B[49m\u001B[43m)\u001B[49m\n\u001B[0;32m     58\u001B[0m     one_result \u001B[38;5;241m=\u001B[39m \u001B[38;5;28mself\u001B[39m\u001B[38;5;241m.\u001B[39mtest_function(\n\u001B[0;32m     59\u001B[0m         data\u001B[38;5;241m.\u001B[39mbackend\u001B[38;5;241m.\u001B[39mdata\u001B[38;5;241m.\u001B[39mvalues\u001B[38;5;241m.\u001B[39mflatten(), other\u001B[38;5;241m.\u001B[39mbackend\u001B[38;5;241m.\u001B[39mdata\u001B[38;5;241m.\u001B[39mvalues\u001B[38;5;241m.\u001B[39mflatten()\n\u001B[0;32m     60\u001B[0m     )\n\u001B[0;32m     61\u001B[0m     one_result \u001B[38;5;241m=\u001B[39m \u001B[38;5;28mself\u001B[39m\u001B[38;5;241m.\u001B[39mconvert_scipy_to_dataset(one_result)\n",
      "File \u001B[1;32m~\\PycharmProjects\\HypEx\\hypex\\extensions\\hypothesis_testing.py:31\u001B[0m, in \u001B[0;36mStatTest.check_data\u001B[1;34m(self, data, other)\u001B[0m\n\u001B[0;32m     30\u001B[0m \u001B[38;5;28;01mdef\u001B[39;00m \u001B[38;5;21mcheck_data\u001B[39m(\u001B[38;5;28mself\u001B[39m, data: Dataset, other: Union[Dataset, \u001B[38;5;28;01mNone\u001B[39;00m]) \u001B[38;5;241m-\u001B[39m\u001B[38;5;241m>\u001B[39m Dataset:\n\u001B[1;32m---> 31\u001B[0m     other \u001B[38;5;241m=\u001B[39m \u001B[38;5;28;43mself\u001B[39;49m\u001B[38;5;241;43m.\u001B[39;49m\u001B[43mcheck_other\u001B[49m\u001B[43m(\u001B[49m\u001B[43mother\u001B[49m\u001B[43m)\u001B[49m\n\u001B[0;32m     33\u001B[0m     \u001B[38;5;28mself\u001B[39m\u001B[38;5;241m.\u001B[39mcheck_dataset(data)\n\u001B[0;32m     34\u001B[0m     \u001B[38;5;28mself\u001B[39m\u001B[38;5;241m.\u001B[39mcheck_dataset(other)\n",
      "File \u001B[1;32m~\\PycharmProjects\\HypEx\\hypex\\extensions\\hypothesis_testing.py:22\u001B[0m, in \u001B[0;36mStatTest.check_other\u001B[1;34m(other)\u001B[0m\n\u001B[0;32m     19\u001B[0m \u001B[38;5;129m@staticmethod\u001B[39m\n\u001B[0;32m     20\u001B[0m \u001B[38;5;28;01mdef\u001B[39;00m \u001B[38;5;21mcheck_other\u001B[39m(other: Union[Dataset, \u001B[38;5;28;01mNone\u001B[39;00m]) \u001B[38;5;241m-\u001B[39m\u001B[38;5;241m>\u001B[39m Dataset:\n\u001B[0;32m     21\u001B[0m     \u001B[38;5;28;01mif\u001B[39;00m other \u001B[38;5;129;01mis\u001B[39;00m \u001B[38;5;28;01mNone\u001B[39;00m:\n\u001B[1;32m---> 22\u001B[0m         \u001B[38;5;28;01mraise\u001B[39;00m \u001B[38;5;167;01mValueError\u001B[39;00m(\u001B[38;5;124m\"\u001B[39m\u001B[38;5;124mNo other dataset provided\u001B[39m\u001B[38;5;124m\"\u001B[39m)\n\u001B[0;32m     23\u001B[0m     \u001B[38;5;28;01mreturn\u001B[39;00m other\n",
      "\u001B[1;31mValueError\u001B[0m: No other dataset provided"
     ]
    }
   ],
   "source": [
    "test = AA_TEST\n",
    "ed = ExperimentData(data)\n",
    "result = test.execute(ed)"
   ]
  },
  {
   "cell_type": "code",
   "execution_count": null,
   "metadata": {
    "collapsed": false,
    "ExecuteTime": {
     "end_time": "2024-06-04T15:48:58.972547200Z",
     "start_time": "2024-06-04T15:48:58.963999400Z"
    }
   },
   "outputs": [],
   "source": [
    "result.analysis_tables"
   ]
  },
  {
   "cell_type": "code",
   "execution_count": null,
   "metadata": {
    "collapsed": false,
    "ExecuteTime": {
     "end_time": "2024-06-04T15:48:58.983891Z",
     "start_time": "2024-06-04T15:48:58.972547200Z"
    }
   },
   "outputs": [],
   "source": [
    "AADictReporter().report(result)"
   ]
  }
 ],
 "metadata": {
  "kernelspec": {
   "display_name": "Python 3",
   "language": "python",
   "name": "python3"
  },
  "language_info": {
   "codemirror_mode": {
    "name": "ipython",
    "version": 3
   },
   "file_extension": ".py",
   "mimetype": "text/x-python",
   "name": "python",
   "nbconvert_exporter": "python",
   "pygments_lexer": "ipython3",
   "version": "3.12.3"
  }
 },
 "nbformat": 4,
 "nbformat_minor": 2
}

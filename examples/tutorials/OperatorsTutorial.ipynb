{
 "cells": [
  {
   "cell_type": "code",
   "execution_count": 1,
   "id": "initial_id",
   "metadata": {
    "collapsed": true,
    "ExecuteTime": {
     "end_time": "2024-07-04T10:39:05.527937500Z",
     "start_time": "2024-07-04T10:39:03.971864400Z"
    }
   },
   "outputs": [],
   "source": [
    "from hypex.dataset import Dataset, ExperimentData, InfoRole, TreatmentRole, TargetRole, PreTargetRole  \n",
    "from hypex.operators.operators import SMD, MatchingMetrics"
   ]
  },
  {
   "cell_type": "code",
   "execution_count": 2,
   "id": "674de77707a77594",
   "metadata": {
    "collapsed": false,
    "ExecuteTime": {
     "end_time": "2024-07-04T10:39:05.678013600Z",
     "start_time": "2024-07-04T10:39:05.519893200Z"
    }
   },
   "outputs": [
    {
     "data": {
      "text/plain": "      user_id  signup_month  treat  pre_spends  post_spends   age gender  \\\n0           0             0      0       488.0   414.444444   NaN      M   \n1           1             8      1       512.5   462.222222  26.0    NaN   \n2           2             7      1       483.0   479.444444  25.0      M   \n3           3             0      0       501.5   424.333333  39.0      M   \n4           4             1      1       543.0   514.555556  18.0      F   \n...       ...           ...    ...         ...          ...   ...    ...   \n9995     9995            10      1       538.5   450.444444  42.0      M   \n9996     9996             0      0       500.5   430.888889  26.0      F   \n9997     9997             3      1       473.0   534.111111  22.0      F   \n9998     9998             2      1       495.0   523.222222  67.0      F   \n9999     9999             7      1       508.0   475.888889  38.0      F   \n\n        industry  \n0     E-commerce  \n1     E-commerce  \n2      Logistics  \n3     E-commerce  \n4     E-commerce  \n...          ...  \n9995   Logistics  \n9996   Logistics  \n9997  E-commerce  \n9998  E-commerce  \n9999  E-commerce  \n\n[10000 rows x 8 columns]"
     },
     "execution_count": 2,
     "metadata": {},
     "output_type": "execute_result"
    }
   ],
   "source": [
    "data = Dataset(\n",
    "    roles={\n",
    "        \"user_id\": InfoRole(int),\n",
    "        \"treat\": TreatmentRole(int),\n",
    "        \"pre_spends\": PreTargetRole(),\n",
    "        \"post_spends\": TargetRole()\n",
    "    }, data=\"data.csv\",\n",
    ")\n",
    "data"
   ]
  },
  {
   "cell_type": "code",
   "outputs": [
    {
     "data": {
      "text/plain": "{'ATT': 64.86535431298397}"
     },
     "execution_count": 11,
     "metadata": {},
     "output_type": "execute_result"
    }
   ],
   "source": [
    "MatchingMetrics.calc(data, \"treat\", target_fields=['pre_spends', 'post_spends'], metric=\"att\")"
   ],
   "metadata": {
    "collapsed": false,
    "ExecuteTime": {
     "end_time": "2024-07-04T10:39:38.787998200Z",
     "start_time": "2024-07-04T10:39:38.379744Z"
    }
   },
   "id": "c41638984764fe07",
   "execution_count": 11
  },
  {
   "cell_type": "code",
   "execution_count": 4,
   "id": "69cde4a83934577f",
   "metadata": {
    "collapsed": false,
    "ExecuteTime": {
     "end_time": "2024-07-04T10:39:06.223905600Z",
     "start_time": "2024-07-04T10:39:05.933246100Z"
    }
   },
   "outputs": [
    {
     "data": {
      "text/plain": "{0: 57.327859227475734, 1: 45.791559330898124}"
     },
     "execution_count": 4,
     "metadata": {},
     "output_type": "execute_result"
    }
   ],
   "source": [
    "SMD.calc(data, 'treat', target_fields=['pre_spends', 'post_spends'])"
   ]
  },
  {
   "cell_type": "code",
   "outputs": [],
   "source": [
    "test = MatchingMetrics(target_roles=[PreTargetRole(), TargetRole()], grouping_role=TreatmentRole(), metric=\"ate\")\n",
    "ed = ExperimentData(data)\n",
    "result = test.execute(ed)"
   ],
   "metadata": {
    "collapsed": false,
    "ExecuteTime": {
     "end_time": "2024-07-04T10:39:06.468060700Z",
     "start_time": "2024-07-04T10:39:06.229920500Z"
    }
   },
   "id": "f4d2bd13bfdaff5e",
   "execution_count": 5
  },
  {
   "cell_type": "code",
   "outputs": [
    {
     "data": {
      "text/plain": "{\"MatchingMetrics┴┴['pre_spends', 'post_spends']\": {'ATT': 64.86535431298397,\n  'ATC': 5.74971476215552,\n  'ATE': 34.92919444444444}}"
     },
     "execution_count": 6,
     "metadata": {},
     "output_type": "execute_result"
    }
   ],
   "source": [
    "result.variables"
   ],
   "metadata": {
    "collapsed": false,
    "ExecuteTime": {
     "end_time": "2024-07-04T10:39:06.560665400Z",
     "start_time": "2024-07-04T10:39:06.472577700Z"
    }
   },
   "id": "8f106d71ad9eb92",
   "execution_count": 6
  },
  {
   "cell_type": "code",
   "execution_count": 7,
   "id": "6bd89387a158c78",
   "metadata": {
    "collapsed": false,
    "ExecuteTime": {
     "end_time": "2024-07-04T10:39:06.775781500Z",
     "start_time": "2024-07-04T10:39:06.522612300Z"
    }
   },
   "outputs": [],
   "source": [
    "test = SMD(target_roles=[TargetRole(), PreTargetRole()], grouping_role=TreatmentRole())\n",
    "ed = ExperimentData(data)\n",
    "result = test.execute(ed)"
   ]
  },
  {
   "cell_type": "code",
   "execution_count": 8,
   "id": "92c781b50a135be",
   "metadata": {
    "collapsed": false,
    "ExecuteTime": {
     "end_time": "2024-07-04T10:39:06.832747400Z",
     "start_time": "2024-07-04T10:39:06.765718500Z"
    }
   },
   "outputs": [
    {
     "data": {
      "text/plain": "{\"SMD┴┴['pre_spends', 'post_spends']\": {0: 57.327859227475734,\n  1: 45.791559330898124}}"
     },
     "execution_count": 8,
     "metadata": {},
     "output_type": "execute_result"
    }
   ],
   "source": [
    "result.variables"
   ]
  },
  {
   "cell_type": "code",
   "outputs": [],
   "source": [],
   "metadata": {
    "collapsed": false,
    "ExecuteTime": {
     "end_time": "2024-07-04T10:39:06.896571100Z",
     "start_time": "2024-07-04T10:39:06.795489700Z"
    }
   },
   "id": "9ce29b09584d5781",
   "execution_count": 8
  }
 ],
 "metadata": {
  "kernelspec": {
   "display_name": "Python 3",
   "language": "python",
   "name": "python3"
  },
  "language_info": {
   "codemirror_mode": {
    "name": "ipython",
    "version": 3
   },
   "file_extension": ".py",
   "mimetype": "text/x-python",
   "name": "python",
   "nbconvert_exporter": "python",
   "pygments_lexer": "ipython3",
   "version": "3.10.13"
  }
 },
 "nbformat": 4,
 "nbformat_minor": 5
}

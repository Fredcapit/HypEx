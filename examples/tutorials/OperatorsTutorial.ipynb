{
 "cells": [
  {
   "cell_type": "code",
   "execution_count": 5,
   "id": "initial_id",
   "metadata": {
    "collapsed": true,
    "ExecuteTime": {
     "end_time": "2024-06-18T15:29:50.919825500Z",
     "start_time": "2024-06-18T15:29:50.864266200Z"
    }
   },
   "outputs": [],
   "source": [
    "from hypex.dataset import Dataset, ExperimentData, InfoRole, TreatmentRole, TargetRole, PreTargetRole  \n",
    "from hypex.operators.operators import SMD "
   ]
  },
  {
   "cell_type": "code",
   "outputs": [
    {
     "data": {
      "text/plain": "      user_id  signup_month  treat  pre_spends  post_spends   age gender  \\\n0           0             0      0       488.0   414.444444   NaN      M   \n1           1             8      1       512.5   462.222222  26.0    NaN   \n2           2             7      1       483.0   479.444444  25.0      M   \n3           3             0      0       501.5   424.333333  39.0      M   \n4           4             1      1       543.0   514.555556  18.0      F   \n...       ...           ...    ...         ...          ...   ...    ...   \n9995     9995            10      1       538.5   450.444444  42.0      M   \n9996     9996             0      0       500.5   430.888889  26.0      F   \n9997     9997             3      1       473.0   534.111111  22.0      F   \n9998     9998             2      1       495.0   523.222222  67.0      F   \n9999     9999             7      1       508.0   475.888889  38.0      F   \n\n        industry  \n0     E-commerce  \n1     E-commerce  \n2      Logistics  \n3     E-commerce  \n4     E-commerce  \n...          ...  \n9995   Logistics  \n9996   Logistics  \n9997  E-commerce  \n9998  E-commerce  \n9999  E-commerce  \n\n[10000 rows x 8 columns]"
     },
     "execution_count": 6,
     "metadata": {},
     "output_type": "execute_result"
    }
   ],
   "source": [
    "data = Dataset(\n",
    "    roles={\n",
    "        \"user_id\": InfoRole(int),\n",
    "        \"treat\": TreatmentRole(int),\n",
    "        \"pre_spends\": PreTargetRole(),\n",
    "        \"post_spends\": TargetRole()\n",
    "    }, data=\"data.csv\",\n",
    ")\n",
    "data"
   ],
   "metadata": {
    "collapsed": false,
    "ExecuteTime": {
     "end_time": "2024-06-18T15:29:50.935016100Z",
     "start_time": "2024-06-18T15:29:50.884909200Z"
    }
   },
   "id": "674de77707a77594",
   "execution_count": 6
  },
  {
   "cell_type": "code",
   "outputs": [
    {
     "data": {
      "text/plain": "{0: 57.327859227475734, 1: 45.791559330898124}"
     },
     "execution_count": 7,
     "metadata": {},
     "output_type": "execute_result"
    }
   ],
   "source": [
    "SMD.calc(data, 'treat', target_fields=['pre_spends', 'post_spends'])"
   ],
   "metadata": {
    "collapsed": false,
    "ExecuteTime": {
     "end_time": "2024-06-18T15:29:50.993453900Z",
     "start_time": "2024-06-18T15:29:50.931017300Z"
    }
   },
   "id": "69cde4a83934577f",
   "execution_count": 7
  },
  {
   "cell_type": "code",
   "outputs": [
    {
     "ename": "AbstractMethodError",
     "evalue": "This method is abstract and will be overridden in derived class.",
     "output_type": "error",
     "traceback": [
      "\u001B[1;31m---------------------------------------------------------------------------\u001B[0m",
      "\u001B[1;31mAbstractMethodError\u001B[0m                       Traceback (most recent call last)",
      "Cell \u001B[1;32mIn[8], line 3\u001B[0m\n\u001B[0;32m      1\u001B[0m test \u001B[38;5;241m=\u001B[39m SMD(target_roles\u001B[38;5;241m=\u001B[39m[TargetRole(), PreTargetRole()], grouping_role\u001B[38;5;241m=\u001B[39mTreatmentRole())\n\u001B[0;32m      2\u001B[0m ed \u001B[38;5;241m=\u001B[39m ExperimentData(data)\n\u001B[1;32m----> 3\u001B[0m result \u001B[38;5;241m=\u001B[39m \u001B[43mtest\u001B[49m\u001B[38;5;241;43m.\u001B[39;49m\u001B[43mexecute\u001B[49m\u001B[43m(\u001B[49m\u001B[43med\u001B[49m\u001B[43m)\u001B[49m\n",
      "File \u001B[1;32m~\\PycharmProjects\\HypEx\\hypex\\executor\\executor.py:226\u001B[0m, in \u001B[0;36mGroupCalculator.execute\u001B[1;34m(self, data)\u001B[0m\n\u001B[0;32m    223\u001B[0m \u001B[38;5;28;01mdef\u001B[39;00m \u001B[38;5;21mexecute\u001B[39m(\u001B[38;5;28mself\u001B[39m, data: ExperimentData) \u001B[38;5;241m-\u001B[39m\u001B[38;5;241m>\u001B[39m ExperimentData:\n\u001B[0;32m    224\u001B[0m     group_field \u001B[38;5;241m=\u001B[39m \u001B[38;5;28mself\u001B[39m\u001B[38;5;241m.\u001B[39m_field_searching(data, \u001B[38;5;28mself\u001B[39m\u001B[38;5;241m.\u001B[39mgrouping_role)\n\u001B[0;32m    225\u001B[0m     target_fields \u001B[38;5;241m=\u001B[39m \u001B[38;5;28mself\u001B[39m\u001B[38;5;241m.\u001B[39m_field_searching(\n\u001B[1;32m--> 226\u001B[0m         data, TempTargetRole(), tmp_role\u001B[38;5;241m=\u001B[39m\u001B[38;5;28;01mTrue\u001B[39;00m, search_types\u001B[38;5;241m=\u001B[39m\u001B[38;5;28;43mself\u001B[39;49m\u001B[38;5;241;43m.\u001B[39;49m\u001B[43msearch_types\u001B[49m\n\u001B[0;32m    227\u001B[0m     )\n\u001B[0;32m    228\u001B[0m     \u001B[38;5;28mself\u001B[39m\u001B[38;5;241m.\u001B[39mkey \u001B[38;5;241m=\u001B[39m \u001B[38;5;28mstr\u001B[39m(\n\u001B[0;32m    229\u001B[0m         target_fields[\u001B[38;5;241m0\u001B[39m] \u001B[38;5;28;01mif\u001B[39;00m \u001B[38;5;28mlen\u001B[39m(target_fields) \u001B[38;5;241m==\u001B[39m \u001B[38;5;241m1\u001B[39m \u001B[38;5;28;01melse\u001B[39;00m (target_fields \u001B[38;5;129;01mor\u001B[39;00m \u001B[38;5;124m\"\u001B[39m\u001B[38;5;124m\"\u001B[39m)\n\u001B[0;32m    230\u001B[0m     )\n\u001B[0;32m    231\u001B[0m     \u001B[38;5;28;01mif\u001B[39;00m (\n\u001B[0;32m    232\u001B[0m         \u001B[38;5;129;01mnot\u001B[39;00m target_fields \u001B[38;5;129;01mand\u001B[39;00m data\u001B[38;5;241m.\u001B[39mds\u001B[38;5;241m.\u001B[39mtmp_roles\n\u001B[0;32m    233\u001B[0m     ):  \u001B[38;5;66;03m# если колонка не подходит для теста, то тагет будет пустой, но если есть темп роли, то это нормальное поведение\u001B[39;00m\n",
      "File \u001B[1;32m~\\PycharmProjects\\HypEx\\hypex\\executor\\executor.py:128\u001B[0m, in \u001B[0;36mGroupCalculator.search_types\u001B[1;34m(self)\u001B[0m\n\u001B[0;32m    126\u001B[0m \u001B[38;5;129m@property\u001B[39m\n\u001B[0;32m    127\u001B[0m \u001B[38;5;28;01mdef\u001B[39;00m \u001B[38;5;21msearch_types\u001B[39m(\u001B[38;5;28mself\u001B[39m):\n\u001B[1;32m--> 128\u001B[0m     \u001B[38;5;28;01mraise\u001B[39;00m AbstractMethodError\n",
      "\u001B[1;31mAbstractMethodError\u001B[0m: This method is abstract and will be overridden in derived class."
     ]
    }
   ],
   "source": [
    "test = SMD(target_roles=[TargetRole(), PreTargetRole()], grouping_role=TreatmentRole())\n",
    "ed = ExperimentData(data)\n",
    "result = test.execute(ed)"
   ],
   "metadata": {
    "collapsed": false,
    "ExecuteTime": {
     "end_time": "2024-06-18T15:29:51.057730200Z",
     "start_time": "2024-06-18T15:29:50.993453900Z"
    }
   },
   "id": "6bd89387a158c78",
   "execution_count": 8
  },
  {
   "cell_type": "code",
   "outputs": [],
   "source": [
    "result.variables"
   ],
   "metadata": {
    "collapsed": false,
    "ExecuteTime": {
     "start_time": "2024-06-18T15:29:51.054729700Z"
    }
   },
   "id": "92c781b50a135be",
   "execution_count": null
  }
 ],
 "metadata": {
  "kernelspec": {
   "display_name": "Python 3",
   "language": "python",
   "name": "python3"
  },
  "language_info": {
   "codemirror_mode": {
    "name": "ipython",
    "version": 2
   },
   "file_extension": ".py",
   "mimetype": "text/x-python",
   "name": "python",
   "nbconvert_exporter": "python",
   "pygments_lexer": "ipython2",
   "version": "2.7.6"
  }
 },
 "nbformat": 4,
 "nbformat_minor": 5
}

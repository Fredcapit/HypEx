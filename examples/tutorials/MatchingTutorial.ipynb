{
 "cells": [
  {
   "cell_type": "markdown",
   "id": "54278f8bd9a4bb39",
   "metadata": {
    "collapsed": false
   },
   "source": [
    "# Matching pipline"
   ]
  },
  {
   "cell_type": "markdown",
   "id": "de103cc6",
   "metadata": {},
   "source": [
    "The comparison method is used in statistical analysis to eliminate distortions caused by differences in the basic characteristics of the studied groups. Simply put, matching helps to make sure that the results of the experiment are really caused by the studied effect, and not by external factors.\n",
    "\n",
    "Matching is most often performed in cases where the use of a standard AB test is impossible."
   ]
  },
  {
   "cell_type": "code",
   "id": "initial_id",
   "metadata": {
    "collapsed": true,
    "ExecuteTime": {
     "end_time": "2024-07-29T12:15:22.563456600Z",
     "start_time": "2024-07-29T12:15:20.025576800Z"
    }
   },
   "source": [
    "import copy\n",
    "\n",
    "from hypex.dataset import Dataset, InfoRole, TreatmentRole, TargetRole \n",
    "from hypex.experiments.matching import Matching"
   ],
   "outputs": [
    {
     "name": "stderr",
     "output_type": "stream",
     "text": [
      "C:\\Users\\User\\AppData\\Local\\Programs\\Python\\Python310\\lib\\site-packages\\tqdm\\auto.py:21: TqdmWarning: IProgress not found. Please update jupyter and ipywidgets. See https://ipywidgets.readthedocs.io/en/stable/user_install.html\n",
      "  from .autonotebook import tqdm as notebook_tqdm\n"
     ]
    }
   ],
   "execution_count": 1
  },
  {
   "cell_type": "markdown",
   "id": "7e41355993e9e59f",
   "metadata": {
    "collapsed": false
   },
   "source": [
    "## Data preparation \n",
    "\n",
    "It is important to mark the data fields by assigning the appropriate roles:\n",
    "\n",
    "* FeatureRole: a role for columns that contain features or predictor variables. Our split will be based on them. Applied by default if the role is not specified for the column.\n",
    "* TreatmentRole: a role for columns that show the treatment or intervention.\n",
    "* TargetRole: a role for columns that show the target or outcome variable.\n",
    "* InfoRole: a role for columns that contain information about the data, such as user IDs."
   ]
  },
  {
   "cell_type": "code",
   "id": "8abf891fc6804315",
   "metadata": {
    "collapsed": false,
    "ExecuteTime": {
     "end_time": "2024-07-29T12:15:22.653750400Z",
     "start_time": "2024-07-29T12:15:22.565468300Z"
    }
   },
   "source": [
    "data = Dataset(\n",
    "    roles={\n",
    "        \"user_id\": InfoRole(int),\n",
    "        \"treat\": TreatmentRole(int), \n",
    "        \"post_spends\": TargetRole(float)\n",
    "    }, data=\"data.csv\",\n",
    ")\n",
    "data"
   ],
   "outputs": [
    {
     "data": {
      "text/plain": "      user_id  signup_month  treat  pre_spends  post_spends   age gender  \\\n0           0             0      0       488.0   414.444444   NaN      M   \n1           1             8      1       512.5   462.222222  26.0    NaN   \n2           2             7      1       483.0   479.444444  25.0      M   \n3           3             0      0       501.5   424.333333  39.0      M   \n4           4             1      1       543.0   514.555556  18.0      F   \n...       ...           ...    ...         ...          ...   ...    ...   \n9995     9995            10      1       538.5   450.444444  42.0      M   \n9996     9996             0      0       500.5   430.888889  26.0      F   \n9997     9997             3      1       473.0   534.111111  22.0      F   \n9998     9998             2      1       495.0   523.222222  67.0      F   \n9999     9999             7      1       508.0   475.888889  38.0      F   \n\n        industry  \n0     E-commerce  \n1     E-commerce  \n2      Logistics  \n3     E-commerce  \n4     E-commerce  \n...          ...  \n9995   Logistics  \n9996   Logistics  \n9997  E-commerce  \n9998  E-commerce  \n9999  E-commerce  \n\n[10000 rows x 8 columns]"
     },
     "execution_count": 2,
     "metadata": {},
     "output_type": "execute_result"
    }
   ],
   "execution_count": 2
  },
  {
   "cell_type": "code",
   "id": "4ae8c654db6f5f85",
   "metadata": {
    "collapsed": false,
    "ExecuteTime": {
     "end_time": "2024-07-29T12:15:22.702606400Z",
     "start_time": "2024-07-29T12:15:22.655907800Z"
    }
   },
   "source": [
    "data.roles"
   ],
   "outputs": [
    {
     "data": {
      "text/plain": "{'user_id': Info(<class 'int'>),\n 'treat': Treatment(<class 'int'>),\n 'post_spends': Target(<class 'float'>),\n 'signup_month': Feature(<class 'int'>),\n 'pre_spends': Feature(<class 'float'>),\n 'age': Feature(<class 'float'>),\n 'gender': Feature(<class 'str'>),\n 'industry': Feature(<class 'str'>)}"
     },
     "execution_count": 3,
     "metadata": {},
     "output_type": "execute_result"
    }
   ],
   "execution_count": 3
  },
  {
   "cell_type": "markdown",
   "id": "8848fdfc6e8c0f45",
   "metadata": {
    "collapsed": false
   },
   "source": [
    "## Simple Matching  \n",
    "Now matching has 4 steps: \n",
    "1. Dummy Encoder \n",
    "2. Process Mahalanobis distance \n",
    "3. Two sides pairs searching by faiss \n",
    "4. Metrics (ATT, ATC, ATE) estimation depends on your data "
   ]
  },
  {
   "cell_type": "code",
   "id": "bc7e472bbb7c2a5d",
   "metadata": {
    "collapsed": false,
    "is_executing": true,
    "ExecuteTime": {
     "start_time": "2024-07-29T12:33:07.424244600Z"
    }
   },
   "source": [
    "c_data = copy.deepcopy(data)\n",
    "test = Matching()\n",
    "result = test.execute(c_data)"
   ],
   "outputs": [],
   "execution_count": null
  },
  {
   "cell_type": "code",
   "id": "d98c94a8b8a763e9",
   "metadata": {
    "collapsed": false,
    "ExecuteTime": {
     "end_time": "2024-07-29T12:28:50.016573900Z",
     "start_time": "2024-07-29T12:28:49.967465100Z"
    }
   },
   "source": [
    "result.full_data[\"user_id_matched\"].value_counts()"
   ],
   "outputs": [
    {
     "data": {
      "text/plain": "    user_id_matched  count\n0                -1   5393\n1              5020    706\n2              4969    482\n3              4737    338\n4              4861    320\n5              4995    297\n6              4743    288\n7              4810    280\n8              4902    274\n9              4924    270\n10             4912    227\n11             4931    207\n12             5032    167\n13             5007    165\n14             5053    156\n15             5042    141\n16             4974    130\n17                1     52\n18                8     52\n19             5048     11\n20             5014      7\n21             4913      4\n22             4869      3\n23             4791      3\n24             5046      2\n25             4897      2\n26             4857      2\n27             4887      2\n28             4850      2\n29             5062      2\n30             4918      1\n31             4929      1\n32             4879      1\n33             4866      1\n34             4863      1\n35             4910      1\n36             4914      1\n37             4839      1\n38             4823      1\n39             4818      1\n40             4799      1\n41             4793      1\n42             4759      1\n43             4745      1\n44             4911      1"
     },
     "execution_count": 8,
     "metadata": {},
     "output_type": "execute_result"
    }
   ],
   "execution_count": 8
  },
  {
   "cell_type": "markdown",
   "id": "f149fb84",
   "metadata": {},
   "source": [
    "**ATT** shows the difference in treated group.   \n",
    "**ATC** shows the difference in untreated group.   \n",
    "**ATE** shows the weighted average difference between ATT and ATC.   "
   ]
  },
  {
   "cell_type": "code",
   "id": "8bc40d37",
   "metadata": {
    "ExecuteTime": {
     "end_time": "2024-07-29T07:53:17.275806Z",
     "start_time": "2024-07-29T07:53:17.182106600Z"
    }
   },
   "source": [
    "result.resume"
   ],
   "outputs": [
    {
     "data": {
      "text/plain": "{'ATT': 209.65793264901853, 'ATC': 268.1156310338775, 'ATE': 239.2609111111111}"
     },
     "execution_count": 41,
     "metadata": {},
     "output_type": "execute_result"
    }
   ],
   "execution_count": 41
  },
  {
   "cell_type": "markdown",
   "id": "3ad7a444",
   "metadata": {},
   "source": [
    "We can change **metric** and do estimation again."
   ]
  },
  {
   "cell_type": "code",
   "id": "e22f6e1d",
   "metadata": {
    "ExecuteTime": {
     "end_time": "2024-07-29T07:29:36.964686700Z",
     "start_time": "2024-07-29T07:29:36.057275500Z"
    }
   },
   "source": [
    "c_data = copy.deepcopy(data)\n",
    "test = Matching(metric=\"atc\")\n",
    "result = test.execute(c_data)"
   ],
   "outputs": [],
   "execution_count": 22
  },
  {
   "cell_type": "code",
   "id": "60424009",
   "metadata": {
    "ExecuteTime": {
     "end_time": "2024-07-29T07:29:37.031967300Z",
     "start_time": "2024-07-29T07:29:36.969219400Z"
    }
   },
   "source": [
    "result.resume"
   ],
   "outputs": [
    {
     "data": {
      "text/plain": "{'ATC': 268.1156310338775}"
     },
     "execution_count": 23,
     "metadata": {},
     "output_type": "execute_result"
    }
   ],
   "execution_count": 23
  },
  {
   "cell_type": "code",
   "id": "3d9045c0",
   "metadata": {
    "ExecuteTime": {
     "end_time": "2024-07-29T07:29:37.087045100Z",
     "start_time": "2024-07-29T07:29:37.003100200Z"
    }
   },
   "source": [
    "result.full_data"
   ],
   "outputs": [
    {
     "data": {
      "text/plain": "      user_id  signup_month  treat  pre_spends  post_spends   age gender  \\\n0           0             0      0       488.0   414.444444   NaN      M   \n1           1             8      1       512.5   462.222222  26.0    NaN   \n2           2             7      1       483.0   479.444444  25.0      M   \n3           3             0      0       501.5   424.333333  39.0      M   \n4           4             1      1       543.0   514.555556  18.0      F   \n...       ...           ...    ...         ...          ...   ...    ...   \n9995     9995            10      1       538.5   450.444444  42.0      M   \n9996     9996             0      0       500.5   430.888889  26.0      F   \n9997     9997             3      1       473.0   534.111111  22.0      F   \n9998     9998             2      1       495.0   523.222222  67.0      F   \n9999     9999             7      1       508.0   475.888889  38.0      F   \n\n      industry  user_id_matched  signup_month_matched  treat_matched  \\\n0         True             4861                     0              0   \n1         True             5032                    10              1   \n2         True                0                     0              0   \n3         True             4810                     8              1   \n4         True             5020                     7              1   \n...        ...              ...                   ...            ...   \n9995      True                0                     0              0   \n9996      True                0                     0              0   \n9997      True                0                     0              0   \n9998      True                0                     0              0   \n9999      True                0                     0              0   \n\n      pre_spends_matched  post_spends_matched  age_matched gender_matched  \\\n0                  495.0           417.333333         61.0            NaN   \n1                  500.0           447.666667         20.0           True   \n2                    0.0             0.000000          0.0          False   \n3                  481.0           480.444444          NaN              M   \n4                  479.0           469.333333          NaN           True   \n...                  ...                  ...          ...            ...   \n9995                 0.0             0.000000          0.0          False   \n9996                 0.0             0.000000          0.0              0   \n9997                 0.0             0.000000          0.0          False   \n9998                 0.0             0.000000          0.0          False   \n9999                 0.0             0.000000          0.0          False   \n\n      industry_matched  \n0                 True  \n1                 True  \n2                False  \n3                 True  \n4                 True  \n...                ...  \n9995             False  \n9996             False  \n9997             False  \n9998             False  \n9999             False  \n\n[10000 rows x 16 columns]"
     },
     "execution_count": 24,
     "metadata": {},
     "output_type": "execute_result"
    }
   ],
   "execution_count": 24
  },
  {
   "cell_type": "markdown",
   "id": "96a52742",
   "metadata": {},
   "source": [
    "Also it is possible to search pairs only in **test group**. This way we have metric \"auto\" and **ATT** will be estimated. "
   ]
  },
  {
   "cell_type": "code",
   "id": "b67abd5d",
   "metadata": {
    "ExecuteTime": {
     "end_time": "2024-07-29T07:29:37.757159100Z",
     "start_time": "2024-07-29T07:29:37.049865100Z"
    }
   },
   "source": [
    "c_data = copy.deepcopy(data)\n",
    "test = Matching(two_sides=False)\n",
    "result = test.execute(c_data)"
   ],
   "outputs": [],
   "execution_count": 25
  },
  {
   "cell_type": "code",
   "id": "cc54c8f3",
   "metadata": {
    "ExecuteTime": {
     "end_time": "2024-07-29T07:29:37.793884400Z",
     "start_time": "2024-07-29T07:29:37.759172300Z"
    }
   },
   "source": [
    "result.resume"
   ],
   "outputs": [
    {
     "data": {
      "text/plain": "{'ATT': 209.90982351881865}"
     },
     "execution_count": 26,
     "metadata": {},
     "output_type": "execute_result"
    }
   ],
   "execution_count": 26
  },
  {
   "cell_type": "code",
   "id": "e061a49b",
   "metadata": {
    "ExecuteTime": {
     "end_time": "2024-07-29T07:29:37.823203100Z",
     "start_time": "2024-07-29T07:29:37.779092300Z"
    }
   },
   "source": [
    "result.full_data"
   ],
   "outputs": [
    {
     "data": {
      "text/plain": "      user_id  signup_month  treat  pre_spends  post_spends   age gender  \\\n0           0             0      0       488.0   414.444444   NaN      M   \n1           1             8      1       512.5   462.222222  26.0    NaN   \n2           2             7      1       483.0   479.444444  25.0      M   \n3           3             0      0       501.5   424.333333  39.0      M   \n4           4             1      1       543.0   514.555556  18.0      F   \n...       ...           ...    ...         ...          ...   ...    ...   \n9995     9995            10      1       538.5   450.444444  42.0      M   \n9996     9996             0      0       500.5   430.888889  26.0      F   \n9997     9997             3      1       473.0   534.111111  22.0      F   \n9998     9998             2      1       495.0   523.222222  67.0      F   \n9999     9999             7      1       508.0   475.888889  38.0      F   \n\n      industry  user_id_matched  signup_month_matched  treat_matched  \\\n0         True             4861                     0              0   \n1         True                0                     0              0   \n2         True                0                     0              0   \n3         True             4810                     8              1   \n4         True                0                     0              0   \n...        ...              ...                   ...            ...   \n9995      True                0                     0              0   \n9996      True                0                     0              0   \n9997      True                0                     0              0   \n9998      True                0                     0              0   \n9999      True                0                     0              0   \n\n      pre_spends_matched  post_spends_matched  age_matched gender_matched  \\\n0                  495.0           417.333333         61.0            NaN   \n1                    0.0             0.000000          0.0              0   \n2                    0.0             0.000000          0.0              0   \n3                  481.0           480.444444          NaN              M   \n4                    0.0             0.000000          0.0              0   \n...                  ...                  ...          ...            ...   \n9995                 0.0             0.000000          0.0              0   \n9996                 0.0             0.000000          0.0              0   \n9997                 0.0             0.000000          0.0              0   \n9998                 0.0             0.000000          0.0              0   \n9999                 0.0             0.000000          0.0              0   \n\n      industry_matched  \n0                 True  \n1                False  \n2                False  \n3                 True  \n4                False  \n...                ...  \n9995             False  \n9996             False  \n9997             False  \n9998             False  \n9999             False  \n\n[10000 rows x 16 columns]"
     },
     "execution_count": 27,
     "metadata": {},
     "output_type": "execute_result"
    }
   ],
   "execution_count": 27
  },
  {
   "cell_type": "markdown",
   "id": "a60205ca",
   "metadata": {},
   "source": [
    "Finally, we may search pairs in L2 distance. "
   ]
  },
  {
   "cell_type": "code",
   "id": "5ac83bea",
   "metadata": {
    "ExecuteTime": {
     "end_time": "2024-07-29T07:29:38.338131400Z",
     "start_time": "2024-07-29T07:29:37.834840200Z"
    }
   },
   "source": [
    "c_data = copy.deepcopy(data)\n",
    "test = Matching(distance=\"l2\", two_sides=False)\n",
    "result = test.execute(c_data)"
   ],
   "outputs": [],
   "execution_count": 28
  },
  {
   "cell_type": "code",
   "id": "4bf5a651",
   "metadata": {
    "ExecuteTime": {
     "end_time": "2024-07-29T07:29:38.339608600Z",
     "start_time": "2024-07-29T07:29:38.316952500Z"
    }
   },
   "source": [
    "result.resume"
   ],
   "outputs": [
    {
     "data": {
      "text/plain": "{'ATT': 184.87801638753825}"
     },
     "execution_count": 29,
     "metadata": {},
     "output_type": "execute_result"
    }
   ],
   "execution_count": 29
  },
  {
   "cell_type": "code",
   "id": "06a90f00",
   "metadata": {
    "ExecuteTime": {
     "end_time": "2024-07-29T07:29:38.386398400Z",
     "start_time": "2024-07-29T07:29:38.339608600Z"
    }
   },
   "source": [
    "result.full_data"
   ],
   "outputs": [
    {
     "data": {
      "text/plain": "      user_id  signup_month  treat  pre_spends  post_spends   age gender  \\\n0           0             0      0       488.0   414.444444   NaN      M   \n1           1             8      1       512.5   462.222222  26.0    NaN   \n2           2             7      1       483.0   479.444444  25.0      M   \n3           3             0      0       501.5   424.333333  39.0      M   \n4           4             1      1       543.0   514.555556  18.0      F   \n...       ...           ...    ...         ...          ...   ...    ...   \n9995     9995            10      1       538.5   450.444444  42.0      M   \n9996     9996             0      0       500.5   430.888889  26.0      F   \n9997     9997             3      1       473.0   534.111111  22.0      F   \n9998     9998             2      1       495.0   523.222222  67.0      F   \n9999     9999             7      1       508.0   475.888889  38.0      F   \n\n      industry  user_id_matched  signup_month_matched  treat_matched  \\\n0         True             4737                     1              1   \n1         True                0                     0              0   \n2         True                0                     0              0   \n3         True             4810                     8              1   \n4         True                0                     0              0   \n...        ...              ...                   ...            ...   \n9995      True                0                     0              0   \n9996      True                0                     0              0   \n9997      True                0                     0              0   \n9998      True                0                     0              0   \n9999      True                0                     0              0   \n\n      pre_spends_matched  post_spends_matched  age_matched gender_matched  \\\n0                  526.5           533.111111         24.0              F   \n1                    0.0             0.000000          0.0              0   \n2                    0.0             0.000000          0.0              0   \n3                  481.0           480.444444          NaN              M   \n4                    0.0             0.000000          0.0              0   \n...                  ...                  ...          ...            ...   \n9995                 0.0             0.000000          0.0              0   \n9996                 0.0             0.000000          0.0              0   \n9997                 0.0             0.000000          0.0              0   \n9998                 0.0             0.000000          0.0              0   \n9999                 0.0             0.000000          0.0              0   \n\n      industry_matched  \n0                 True  \n1                False  \n2                False  \n3                 True  \n4                False  \n...                ...  \n9995             False  \n9996             False  \n9997             False  \n9998             False  \n9999             False  \n\n[10000 rows x 16 columns]"
     },
     "execution_count": 30,
     "metadata": {},
     "output_type": "execute_result"
    }
   ],
   "execution_count": 30
  }
 ],
 "metadata": {
  "kernelspec": {
   "display_name": "Python 3",
   "language": "python",
   "name": "python3"
  },
  "language_info": {
   "codemirror_mode": {
    "name": "ipython",
    "version": 3
   },
   "file_extension": ".py",
   "mimetype": "text/x-python",
   "name": "python",
   "nbconvert_exporter": "python",
   "pygments_lexer": "ipython3",
   "version": "3.10.13"
  }
 },
 "nbformat": 4,
 "nbformat_minor": 5
}

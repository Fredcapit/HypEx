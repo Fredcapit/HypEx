{
 "cells": [
  {
   "cell_type": "markdown",
   "id": "54278f8bd9a4bb39",
   "metadata": {
    "collapsed": false
   },
   "source": [
    "# Matching pipline"
   ]
  },
  {
   "cell_type": "markdown",
   "id": "de103cc6",
   "metadata": {},
   "source": [
    "The comparison method is used in statistical analysis to eliminate distortions caused by differences in the basic characteristics of the studied groups. Simply put, matching helps to make sure that the results of the experiment are really caused by the studied effect, and not by external factors.\n",
    "\n",
    "Matching is most often performed in cases where the use of a standard AB test is impossible."
   ]
  },
  {
   "cell_type": "code",
   "id": "initial_id",
   "metadata": {
    "collapsed": true,
    "ExecuteTime": {
     "end_time": "2024-07-31T08:31:12.103273400Z",
     "start_time": "2024-07-31T08:31:05.261912100Z"
    }
   },
   "source": [
    "import copy\n",
    "\n",
    "from hypex.dataset import Dataset, InfoRole, TreatmentRole, TargetRole \n",
    "from hypex.experiments.matching import Matching"
   ],
   "outputs": [
    {
     "name": "stderr",
     "output_type": "stream",
     "text": [
      "C:\\Users\\User\\AppData\\Local\\Programs\\Python\\Python310\\lib\\site-packages\\tqdm\\auto.py:21: TqdmWarning: IProgress not found. Please update jupyter and ipywidgets. See https://ipywidgets.readthedocs.io/en/stable/user_install.html\n",
      "  from .autonotebook import tqdm as notebook_tqdm\n"
     ]
    }
   ],
   "execution_count": 1
  },
  {
   "cell_type": "markdown",
   "id": "7e41355993e9e59f",
   "metadata": {
    "collapsed": false
   },
   "source": [
    "## Data preparation \n",
    "\n",
    "It is important to mark the data fields by assigning the appropriate roles:\n",
    "\n",
    "* FeatureRole: a role for columns that contain features or predictor variables. Our split will be based on them. Applied by default if the role is not specified for the column.\n",
    "* TreatmentRole: a role for columns that show the treatment or intervention.\n",
    "* TargetRole: a role for columns that show the target or outcome variable.\n",
    "* InfoRole: a role for columns that contain information about the data, such as user IDs."
   ]
  },
  {
   "cell_type": "code",
   "id": "8abf891fc6804315",
   "metadata": {
    "collapsed": false,
    "ExecuteTime": {
     "end_time": "2024-07-31T08:31:12.227171600Z",
     "start_time": "2024-07-31T08:31:12.104381300Z"
    }
   },
   "source": [
    "data = Dataset(\n",
    "    roles={\n",
    "        \"user_id\": InfoRole(int),\n",
    "        \"treat\": TreatmentRole(int), \n",
    "        \"post_spends\": TargetRole(float)\n",
    "    }, data=\"data.csv\",\n",
    ")\n",
    "data"
   ],
   "outputs": [
    {
     "data": {
      "text/plain": "      user_id  signup_month  treat  pre_spends  post_spends   age gender  \\\n0           0             0      0       488.0   414.444444   NaN      M   \n1           1             8      1       512.5   462.222222  26.0    NaN   \n2           2             7      1       483.0   479.444444  25.0      M   \n3           3             0      0       501.5   424.333333  39.0      M   \n4           4             1      1       543.0   514.555556  18.0      F   \n...       ...           ...    ...         ...          ...   ...    ...   \n9995     9995            10      1       538.5   450.444444  42.0      M   \n9996     9996             0      0       500.5   430.888889  26.0      F   \n9997     9997             3      1       473.0   534.111111  22.0      F   \n9998     9998             2      1       495.0   523.222222  67.0      F   \n9999     9999             7      1       508.0   475.888889  38.0      F   \n\n        industry  \n0     E-commerce  \n1     E-commerce  \n2      Logistics  \n3     E-commerce  \n4     E-commerce  \n...          ...  \n9995   Logistics  \n9996   Logistics  \n9997  E-commerce  \n9998  E-commerce  \n9999  E-commerce  \n\n[10000 rows x 8 columns]"
     },
     "execution_count": 2,
     "metadata": {},
     "output_type": "execute_result"
    }
   ],
   "execution_count": 2
  },
  {
   "cell_type": "code",
   "id": "4ae8c654db6f5f85",
   "metadata": {
    "collapsed": false,
    "ExecuteTime": {
     "end_time": "2024-07-31T08:31:12.228181200Z",
     "start_time": "2024-07-31T08:31:12.214514900Z"
    }
   },
   "source": [
    "data.roles"
   ],
   "outputs": [
    {
     "data": {
      "text/plain": "{'user_id': Info(<class 'int'>),\n 'treat': Treatment(<class 'int'>),\n 'post_spends': Target(<class 'float'>),\n 'signup_month': Feature(<class 'int'>),\n 'pre_spends': Feature(<class 'float'>),\n 'age': Feature(<class 'float'>),\n 'gender': Feature(<class 'str'>),\n 'industry': Feature(<class 'str'>)}"
     },
     "execution_count": 3,
     "metadata": {},
     "output_type": "execute_result"
    }
   ],
   "execution_count": 3
  },
  {
   "cell_type": "markdown",
   "id": "8848fdfc6e8c0f45",
   "metadata": {
    "collapsed": false
   },
   "source": [
    "## Simple Matching  \n",
    "Now matching has 4 steps: \n",
    "1. Dummy Encoder \n",
    "2. Process Mahalanobis distance \n",
    "3. Two sides pairs searching by faiss \n",
    "4. Metrics (ATT, ATC, ATE) estimation depends on your data "
   ]
  },
  {
   "cell_type": "code",
   "id": "bc7e472bbb7c2a5d",
   "metadata": {
    "collapsed": false,
    "ExecuteTime": {
     "end_time": "2024-07-31T08:38:54.033177500Z",
     "start_time": "2024-07-31T08:32:02.624795200Z"
    }
   },
   "source": [
    "c_data = copy.deepcopy(data)\n",
    "test = Matching()\n",
    "result = test.execute(c_data)"
   ],
   "outputs": [
    {
     "ename": "KeyboardInterrupt",
     "evalue": "",
     "output_type": "error",
     "traceback": [
      "\u001B[1;31m---------------------------------------------------------------------------\u001B[0m",
      "\u001B[1;31mKeyboardInterrupt\u001B[0m                         Traceback (most recent call last)",
      "Cell \u001B[1;32mIn[16], line 3\u001B[0m\n\u001B[0;32m      1\u001B[0m c_data \u001B[38;5;241m=\u001B[39m copy\u001B[38;5;241m.\u001B[39mdeepcopy(data)\n\u001B[0;32m      2\u001B[0m test \u001B[38;5;241m=\u001B[39m Matching()\n\u001B[1;32m----> 3\u001B[0m result \u001B[38;5;241m=\u001B[39m \u001B[43mtest\u001B[49m\u001B[38;5;241;43m.\u001B[39;49m\u001B[43mexecute\u001B[49m\u001B[43m(\u001B[49m\u001B[43mc_data\u001B[49m\u001B[43m)\u001B[49m\n",
      "File \u001B[1;32m~\\PycharmProjects\\HypEx\\hypex\\ui\\base.py:62\u001B[0m, in \u001B[0;36mExperimentShell.execute\u001B[1;34m(self, data)\u001B[0m\n\u001B[0;32m     60\u001B[0m \u001B[38;5;28;01mif\u001B[39;00m \u001B[38;5;28misinstance\u001B[39m(data, Dataset):\n\u001B[0;32m     61\u001B[0m     data \u001B[38;5;241m=\u001B[39m ExperimentData(data)\n\u001B[1;32m---> 62\u001B[0m result_experiment_data \u001B[38;5;241m=\u001B[39m \u001B[38;5;28;43mself\u001B[39;49m\u001B[38;5;241;43m.\u001B[39;49m\u001B[43m_experiment\u001B[49m\u001B[38;5;241;43m.\u001B[39;49m\u001B[43mexecute\u001B[49m\u001B[43m(\u001B[49m\u001B[43mdata\u001B[49m\u001B[43m)\u001B[49m\n\u001B[0;32m     63\u001B[0m \u001B[38;5;28mself\u001B[39m\u001B[38;5;241m.\u001B[39m_out\u001B[38;5;241m.\u001B[39mextract(result_experiment_data)\n\u001B[0;32m     64\u001B[0m \u001B[38;5;28;01mreturn\u001B[39;00m \u001B[38;5;28mself\u001B[39m\u001B[38;5;241m.\u001B[39m_out\n",
      "File \u001B[1;32m~\\PycharmProjects\\HypEx\\hypex\\experiments\\base.py:69\u001B[0m, in \u001B[0;36mExperiment.execute\u001B[1;34m(self, data)\u001B[0m\n\u001B[0;32m     67\u001B[0m \u001B[38;5;28;01mfor\u001B[39;00m executor \u001B[38;5;129;01min\u001B[39;00m \u001B[38;5;28mself\u001B[39m\u001B[38;5;241m.\u001B[39mexecutors:\n\u001B[0;32m     68\u001B[0m     executor\u001B[38;5;241m.\u001B[39mkey \u001B[38;5;241m=\u001B[39m \u001B[38;5;28mself\u001B[39m\u001B[38;5;241m.\u001B[39mkey\n\u001B[1;32m---> 69\u001B[0m     experiment_data \u001B[38;5;241m=\u001B[39m \u001B[43mexecutor\u001B[49m\u001B[38;5;241;43m.\u001B[39;49m\u001B[43mexecute\u001B[49m\u001B[43m(\u001B[49m\u001B[43mexperiment_data\u001B[49m\u001B[43m)\u001B[49m\n\u001B[0;32m     70\u001B[0m \u001B[38;5;28;01mreturn\u001B[39;00m experiment_data\n",
      "File \u001B[1;32m~\\PycharmProjects\\HypEx\\hypex\\ml\\faiss.py:80\u001B[0m, in \u001B[0;36mFaissNearestNeighbors.execute\u001B[1;34m(self, data)\u001B[0m\n\u001B[0;32m     76\u001B[0m \u001B[38;5;28;01mif\u001B[39;00m \u001B[38;5;28mlen\u001B[39m(distances_keys[\u001B[38;5;124m\"\u001B[39m\u001B[38;5;124mMahalanobisDistance\u001B[39m\u001B[38;5;124m\"\u001B[39m][\u001B[38;5;124m\"\u001B[39m\u001B[38;5;124mgroups\u001B[39m\u001B[38;5;124m\"\u001B[39m]) \u001B[38;5;241m>\u001B[39m \u001B[38;5;241m0\u001B[39m:\n\u001B[0;32m     77\u001B[0m     grouping_data \u001B[38;5;241m=\u001B[39m \u001B[38;5;28mlist\u001B[39m(\n\u001B[0;32m     78\u001B[0m         data\u001B[38;5;241m.\u001B[39mgroups[distances_keys[\u001B[38;5;124m\"\u001B[39m\u001B[38;5;124mMahalanobisDistance\u001B[39m\u001B[38;5;124m\"\u001B[39m][\u001B[38;5;124m\"\u001B[39m\u001B[38;5;124mgroups\u001B[39m\u001B[38;5;124m\"\u001B[39m][\u001B[38;5;241m0\u001B[39m]]\u001B[38;5;241m.\u001B[39mitems()\n\u001B[0;32m     79\u001B[0m     )\n\u001B[1;32m---> 80\u001B[0m compare_result \u001B[38;5;241m=\u001B[39m \u001B[38;5;28;43mself\u001B[39;49m\u001B[38;5;241;43m.\u001B[39;49m\u001B[43mcalc\u001B[49m\u001B[43m(\u001B[49m\n\u001B[0;32m     81\u001B[0m \u001B[43m    \u001B[49m\u001B[43mdata\u001B[49m\u001B[38;5;241;43m=\u001B[39;49m\u001B[43mdata\u001B[49m\u001B[38;5;241;43m.\u001B[39;49m\u001B[43mds\u001B[49m\u001B[43m,\u001B[49m\n\u001B[0;32m     82\u001B[0m \u001B[43m    \u001B[49m\u001B[43mgroup_field\u001B[49m\u001B[38;5;241;43m=\u001B[39;49m\u001B[43mgroup_field\u001B[49m\u001B[43m,\u001B[49m\n\u001B[0;32m     83\u001B[0m \u001B[43m    \u001B[49m\u001B[43mgrouping_data\u001B[49m\u001B[38;5;241;43m=\u001B[39;49m\u001B[43mgrouping_data\u001B[49m\u001B[43m,\u001B[49m\n\u001B[0;32m     84\u001B[0m \u001B[43m    \u001B[49m\u001B[43mfeatures_fields\u001B[49m\u001B[38;5;241;43m=\u001B[39;49m\u001B[43mfeatures_fields\u001B[49m\u001B[43m,\u001B[49m\n\u001B[0;32m     85\u001B[0m \u001B[43m    \u001B[49m\u001B[43mn_neighbors\u001B[49m\u001B[38;5;241;43m=\u001B[39;49m\u001B[38;5;28;43mself\u001B[39;49m\u001B[38;5;241;43m.\u001B[39;49m\u001B[43mn_neighbors\u001B[49m\u001B[43m,\u001B[49m\n\u001B[0;32m     86\u001B[0m \u001B[43m    \u001B[49m\u001B[43mtwo_sides\u001B[49m\u001B[38;5;241;43m=\u001B[39;49m\u001B[38;5;28;43mself\u001B[39;49m\u001B[38;5;241;43m.\u001B[39;49m\u001B[43mtwo_sides\u001B[49m\u001B[43m,\u001B[49m\n\u001B[0;32m     87\u001B[0m \u001B[43m\u001B[49m\u001B[43m)\u001B[49m\n\u001B[0;32m     88\u001B[0m matched_df \u001B[38;5;241m=\u001B[39m Dataset\u001B[38;5;241m.\u001B[39mcreate_empty()\n\u001B[0;32m     90\u001B[0m index_field \u001B[38;5;241m=\u001B[39m compare_result\u001B[38;5;241m.\u001B[39mfillna(\u001B[38;5;241m-\u001B[39m\u001B[38;5;241m1\u001B[39m)\n",
      "File \u001B[1;32m~\\PycharmProjects\\HypEx\\hypex\\executor\\executor.py:367\u001B[0m, in \u001B[0;36mMLExecutor.calc\u001B[1;34m(cls, data, group_field, grouping_data, target_field, features_fields, **kwargs)\u001B[0m\n\u001B[0;32m    365\u001B[0m \u001B[38;5;28;01melse\u001B[39;00m:\n\u001B[0;32m    366\u001B[0m     \u001B[38;5;28;01mraise\u001B[39;00m ComparisonNotSuitableFieldError(group_field)\n\u001B[1;32m--> 367\u001B[0m result \u001B[38;5;241m=\u001B[39m \u001B[38;5;28mcls\u001B[39m\u001B[38;5;241m.\u001B[39m_execute_inner_function(\n\u001B[0;32m    368\u001B[0m     grouping_data, target_field\u001B[38;5;241m=\u001B[39mtarget_field, \u001B[38;5;241m*\u001B[39m\u001B[38;5;241m*\u001B[39mkwargs\n\u001B[0;32m    369\u001B[0m )\n\u001B[0;32m    370\u001B[0m \u001B[38;5;28;01mreturn\u001B[39;00m DatasetAdapter\u001B[38;5;241m.\u001B[39mto_dataset(\n\u001B[0;32m    371\u001B[0m     result,\n\u001B[0;32m    372\u001B[0m     {i: MatchingRole() \u001B[38;5;28;01mfor\u001B[39;00m i \u001B[38;5;129;01min\u001B[39;00m \u001B[38;5;28mlist\u001B[39m(result\u001B[38;5;241m.\u001B[39mkeys())},\n\u001B[0;32m    373\u001B[0m )\n",
      "File \u001B[1;32m~\\PycharmProjects\\HypEx\\hypex\\ml\\faiss.py:39\u001B[0m, in \u001B[0;36mFaissNearestNeighbors._execute_inner_function\u001B[1;34m(cls, grouping_data, n_neighbors, two_sides, **kwargs)\u001B[0m\n\u001B[0;32m     25\u001B[0m \u001B[38;5;129m@classmethod\u001B[39m\n\u001B[0;32m     26\u001B[0m \u001B[38;5;28;01mdef\u001B[39;00m \u001B[38;5;21m_execute_inner_function\u001B[39m(\n\u001B[0;32m     27\u001B[0m     \u001B[38;5;28mcls\u001B[39m,\n\u001B[1;32m   (...)\u001B[0m\n\u001B[0;32m     31\u001B[0m     \u001B[38;5;241m*\u001B[39m\u001B[38;5;241m*\u001B[39mkwargs,\n\u001B[0;32m     32\u001B[0m ) \u001B[38;5;241m-\u001B[39m\u001B[38;5;241m>\u001B[39m Dict:\n\u001B[0;32m     33\u001B[0m     data \u001B[38;5;241m=\u001B[39m \u001B[38;5;28mcls\u001B[39m\u001B[38;5;241m.\u001B[39m_inner_function(\n\u001B[0;32m     34\u001B[0m         data\u001B[38;5;241m=\u001B[39mgrouping_data[\u001B[38;5;241m0\u001B[39m][\u001B[38;5;241m1\u001B[39m],\n\u001B[0;32m     35\u001B[0m         test_data\u001B[38;5;241m=\u001B[39mgrouping_data[\u001B[38;5;241m1\u001B[39m][\u001B[38;5;241m1\u001B[39m],\n\u001B[0;32m     36\u001B[0m         n_neighbors\u001B[38;5;241m=\u001B[39mn_neighbors \u001B[38;5;129;01mor\u001B[39;00m \u001B[38;5;241m1\u001B[39m,\n\u001B[0;32m     37\u001B[0m         \u001B[38;5;241m*\u001B[39m\u001B[38;5;241m*\u001B[39mkwargs,\n\u001B[0;32m     38\u001B[0m     )\n\u001B[1;32m---> 39\u001B[0m     \u001B[38;5;28;01mif\u001B[39;00m \u001B[43mtwo_sides\u001B[49m \u001B[38;5;129;01mis\u001B[39;00m \u001B[38;5;28;01mNone\u001B[39;00m \u001B[38;5;129;01mor\u001B[39;00m two_sides \u001B[38;5;241m==\u001B[39m \u001B[38;5;28;01mFalse\u001B[39;00m:\n\u001B[0;32m     40\u001B[0m         \u001B[38;5;28;01mreturn\u001B[39;00m {\u001B[38;5;124m\"\u001B[39m\u001B[38;5;124mtest\u001B[39m\u001B[38;5;124m\"\u001B[39m: data}\n\u001B[0;32m     41\u001B[0m     \u001B[38;5;28;01mreturn\u001B[39;00m {\n\u001B[0;32m     42\u001B[0m         \u001B[38;5;124m\"\u001B[39m\u001B[38;5;124mtest\u001B[39m\u001B[38;5;124m\"\u001B[39m: data,\n\u001B[0;32m     43\u001B[0m         \u001B[38;5;124m\"\u001B[39m\u001B[38;5;124mcontrol\u001B[39m\u001B[38;5;124m\"\u001B[39m: \u001B[38;5;28mcls\u001B[39m\u001B[38;5;241m.\u001B[39m_inner_function(\n\u001B[1;32m   (...)\u001B[0m\n\u001B[0;32m     48\u001B[0m         ),\n\u001B[0;32m     49\u001B[0m     }\n",
      "File \u001B[1;32m~\\PycharmProjects\\HypEx\\hypex\\ml\\faiss.py:39\u001B[0m, in \u001B[0;36mFaissNearestNeighbors._execute_inner_function\u001B[1;34m(cls, grouping_data, n_neighbors, two_sides, **kwargs)\u001B[0m\n\u001B[0;32m     25\u001B[0m \u001B[38;5;129m@classmethod\u001B[39m\n\u001B[0;32m     26\u001B[0m \u001B[38;5;28;01mdef\u001B[39;00m \u001B[38;5;21m_execute_inner_function\u001B[39m(\n\u001B[0;32m     27\u001B[0m     \u001B[38;5;28mcls\u001B[39m,\n\u001B[1;32m   (...)\u001B[0m\n\u001B[0;32m     31\u001B[0m     \u001B[38;5;241m*\u001B[39m\u001B[38;5;241m*\u001B[39mkwargs,\n\u001B[0;32m     32\u001B[0m ) \u001B[38;5;241m-\u001B[39m\u001B[38;5;241m>\u001B[39m Dict:\n\u001B[0;32m     33\u001B[0m     data \u001B[38;5;241m=\u001B[39m \u001B[38;5;28mcls\u001B[39m\u001B[38;5;241m.\u001B[39m_inner_function(\n\u001B[0;32m     34\u001B[0m         data\u001B[38;5;241m=\u001B[39mgrouping_data[\u001B[38;5;241m0\u001B[39m][\u001B[38;5;241m1\u001B[39m],\n\u001B[0;32m     35\u001B[0m         test_data\u001B[38;5;241m=\u001B[39mgrouping_data[\u001B[38;5;241m1\u001B[39m][\u001B[38;5;241m1\u001B[39m],\n\u001B[0;32m     36\u001B[0m         n_neighbors\u001B[38;5;241m=\u001B[39mn_neighbors \u001B[38;5;129;01mor\u001B[39;00m \u001B[38;5;241m1\u001B[39m,\n\u001B[0;32m     37\u001B[0m         \u001B[38;5;241m*\u001B[39m\u001B[38;5;241m*\u001B[39mkwargs,\n\u001B[0;32m     38\u001B[0m     )\n\u001B[1;32m---> 39\u001B[0m     \u001B[38;5;28;01mif\u001B[39;00m \u001B[43mtwo_sides\u001B[49m \u001B[38;5;129;01mis\u001B[39;00m \u001B[38;5;28;01mNone\u001B[39;00m \u001B[38;5;129;01mor\u001B[39;00m two_sides \u001B[38;5;241m==\u001B[39m \u001B[38;5;28;01mFalse\u001B[39;00m:\n\u001B[0;32m     40\u001B[0m         \u001B[38;5;28;01mreturn\u001B[39;00m {\u001B[38;5;124m\"\u001B[39m\u001B[38;5;124mtest\u001B[39m\u001B[38;5;124m\"\u001B[39m: data}\n\u001B[0;32m     41\u001B[0m     \u001B[38;5;28;01mreturn\u001B[39;00m {\n\u001B[0;32m     42\u001B[0m         \u001B[38;5;124m\"\u001B[39m\u001B[38;5;124mtest\u001B[39m\u001B[38;5;124m\"\u001B[39m: data,\n\u001B[0;32m     43\u001B[0m         \u001B[38;5;124m\"\u001B[39m\u001B[38;5;124mcontrol\u001B[39m\u001B[38;5;124m\"\u001B[39m: \u001B[38;5;28mcls\u001B[39m\u001B[38;5;241m.\u001B[39m_inner_function(\n\u001B[1;32m   (...)\u001B[0m\n\u001B[0;32m     48\u001B[0m         ),\n\u001B[0;32m     49\u001B[0m     }\n",
      "File \u001B[1;32mC:\\Program Files\\JetBrains\\PyCharm 2023.3.3\\plugins\\python\\helpers\\pydev\\_pydevd_bundle\\pydevd_trace_dispatch.py:92\u001B[0m, in \u001B[0;36mtrace_dispatch\u001B[1;34m(py_db, frame, event, arg)\u001B[0m\n\u001B[0;32m     90\u001B[0m \u001B[38;5;28;01mif\u001B[39;00m _trace_dispatch \u001B[38;5;129;01mis\u001B[39;00m \u001B[38;5;28;01mNone\u001B[39;00m:\n\u001B[0;32m     91\u001B[0m     \u001B[38;5;28;01mreturn\u001B[39;00m \u001B[38;5;28;01mNone\u001B[39;00m\n\u001B[1;32m---> 92\u001B[0m \u001B[38;5;28;01mreturn\u001B[39;00m \u001B[43m_trace_dispatch\u001B[49m\u001B[43m(\u001B[49m\u001B[43mpy_db\u001B[49m\u001B[43m,\u001B[49m\u001B[43m \u001B[49m\u001B[43mframe\u001B[49m\u001B[43m,\u001B[49m\u001B[43m \u001B[49m\u001B[43mevent\u001B[49m\u001B[43m,\u001B[49m\u001B[43m \u001B[49m\u001B[43marg\u001B[49m\u001B[43m)\u001B[49m\n",
      "File \u001B[1;32m_pydevd_bundle\\pydevd_cython_win32_310_64.pyx:1337\u001B[0m, in \u001B[0;36m_pydevd_bundle.pydevd_cython_win32_310_64.trace_dispatch\u001B[1;34m()\u001B[0m\n",
      "File \u001B[1;32m_pydevd_bundle\\pydevd_cython_win32_310_64.pyx:1597\u001B[0m, in \u001B[0;36m_pydevd_bundle.pydevd_cython_win32_310_64.ThreadTracer.__call__\u001B[1;34m()\u001B[0m\n",
      "File \u001B[1;32m_pydevd_bundle\\pydevd_cython_win32_310_64.pyx:1103\u001B[0m, in \u001B[0;36m_pydevd_bundle.pydevd_cython_win32_310_64.PyDBFrame.trace_dispatch\u001B[1;34m()\u001B[0m\n",
      "File \u001B[1;32m_pydevd_bundle\\pydevd_cython_win32_310_64.pyx:1065\u001B[0m, in \u001B[0;36m_pydevd_bundle.pydevd_cython_win32_310_64.PyDBFrame.trace_dispatch\u001B[1;34m()\u001B[0m\n",
      "File \u001B[1;32m_pydevd_bundle\\pydevd_cython_win32_310_64.pyx:585\u001B[0m, in \u001B[0;36m_pydevd_bundle.pydevd_cython_win32_310_64.PyDBFrame.do_wait_suspend\u001B[1;34m()\u001B[0m\n",
      "File \u001B[1;32mC:\\Program Files\\JetBrains\\PyCharm 2023.3.3\\plugins\\python\\helpers\\pydev\\pydevd.py:1184\u001B[0m, in \u001B[0;36mPyDB.do_wait_suspend\u001B[1;34m(self, thread, frame, event, arg, send_suspend_message, is_unhandled_exception)\u001B[0m\n\u001B[0;32m   1181\u001B[0m         from_this_thread\u001B[38;5;241m.\u001B[39mappend(frame_id)\n\u001B[0;32m   1183\u001B[0m \u001B[38;5;28;01mwith\u001B[39;00m \u001B[38;5;28mself\u001B[39m\u001B[38;5;241m.\u001B[39m_threads_suspended_single_notification\u001B[38;5;241m.\u001B[39mnotify_thread_suspended(thread_id, stop_reason):\n\u001B[1;32m-> 1184\u001B[0m     \u001B[38;5;28;43mself\u001B[39;49m\u001B[38;5;241;43m.\u001B[39;49m\u001B[43m_do_wait_suspend\u001B[49m\u001B[43m(\u001B[49m\u001B[43mthread\u001B[49m\u001B[43m,\u001B[49m\u001B[43m \u001B[49m\u001B[43mframe\u001B[49m\u001B[43m,\u001B[49m\u001B[43m \u001B[49m\u001B[43mevent\u001B[49m\u001B[43m,\u001B[49m\u001B[43m \u001B[49m\u001B[43marg\u001B[49m\u001B[43m,\u001B[49m\u001B[43m \u001B[49m\u001B[43msuspend_type\u001B[49m\u001B[43m,\u001B[49m\u001B[43m \u001B[49m\u001B[43mfrom_this_thread\u001B[49m\u001B[43m)\u001B[49m\n",
      "File \u001B[1;32mC:\\Program Files\\JetBrains\\PyCharm 2023.3.3\\plugins\\python\\helpers\\pydev\\pydevd.py:1199\u001B[0m, in \u001B[0;36mPyDB._do_wait_suspend\u001B[1;34m(self, thread, frame, event, arg, suspend_type, from_this_thread)\u001B[0m\n\u001B[0;32m   1196\u001B[0m             \u001B[38;5;28mself\u001B[39m\u001B[38;5;241m.\u001B[39m_call_mpl_hook()\n\u001B[0;32m   1198\u001B[0m         \u001B[38;5;28mself\u001B[39m\u001B[38;5;241m.\u001B[39mprocess_internal_commands()\n\u001B[1;32m-> 1199\u001B[0m         \u001B[43mtime\u001B[49m\u001B[38;5;241;43m.\u001B[39;49m\u001B[43msleep\u001B[49m\u001B[43m(\u001B[49m\u001B[38;5;241;43m0.01\u001B[39;49m\u001B[43m)\u001B[49m\n\u001B[0;32m   1201\u001B[0m \u001B[38;5;28mself\u001B[39m\u001B[38;5;241m.\u001B[39mcancel_async_evaluation(get_current_thread_id(thread), \u001B[38;5;28mstr\u001B[39m(\u001B[38;5;28mid\u001B[39m(frame)))\n\u001B[0;32m   1203\u001B[0m \u001B[38;5;66;03m# process any stepping instructions\u001B[39;00m\n",
      "\u001B[1;31mKeyboardInterrupt\u001B[0m: "
     ]
    }
   ],
   "execution_count": 16
  },
  {
   "cell_type": "code",
   "id": "d98c94a8b8a763e9",
   "metadata": {
    "collapsed": false,
    "ExecuteTime": {
     "end_time": "2024-07-31T08:31:12.850602500Z",
     "start_time": "2024-07-31T08:31:12.806418300Z"
    }
   },
   "source": [
    "result.full_data[[\"treat\", 'treat_matched']].value_counts()"
   ],
   "outputs": [
    {
     "data": {
      "text/plain": "   treat  treat_matched  count\n0      0              1   4140\n1      1              1   2391\n2      1              0   2153\n3      1             -1    520\n4      0             -1    480\n5      0              0    316"
     },
     "execution_count": 5,
     "metadata": {},
     "output_type": "execute_result"
    }
   ],
   "execution_count": 5
  },
  {
   "cell_type": "markdown",
   "id": "f149fb84",
   "metadata": {},
   "source": [
    "**ATT** shows the difference in treated group.   \n",
    "**ATC** shows the difference in untreated group.   \n",
    "**ATE** shows the weighted average difference between ATT and ATC.   "
   ]
  },
  {
   "cell_type": "code",
   "id": "8bc40d37",
   "metadata": {
    "ExecuteTime": {
     "end_time": "2024-07-31T08:31:12.928319300Z",
     "start_time": "2024-07-31T08:31:12.851598600Z"
    }
   },
   "source": [
    "result.resume"
   ],
   "outputs": [
    {
     "data": {
      "text/plain": "{'ATT': -14.30512785881504, 'ATC': 67.51353782692647, 'ATE': 27.12784444444446}"
     },
     "execution_count": 6,
     "metadata": {},
     "output_type": "execute_result"
    }
   ],
   "execution_count": 6
  },
  {
   "cell_type": "markdown",
   "id": "3ad7a444",
   "metadata": {},
   "source": [
    "We can change **metric** and do estimation again."
   ]
  },
  {
   "cell_type": "code",
   "id": "e22f6e1d",
   "metadata": {
    "ExecuteTime": {
     "end_time": "2024-07-31T08:31:13.499585200Z",
     "start_time": "2024-07-31T08:31:12.877006300Z"
    }
   },
   "source": [
    "c_data = copy.deepcopy(data)\n",
    "test = Matching(metric=\"atc\")\n",
    "result = test.execute(c_data)"
   ],
   "outputs": [],
   "execution_count": 7
  },
  {
   "cell_type": "code",
   "id": "60424009",
   "metadata": {
    "ExecuteTime": {
     "end_time": "2024-07-31T08:31:13.532127100Z",
     "start_time": "2024-07-31T08:31:13.503777600Z"
    }
   },
   "source": [
    "result.resume"
   ],
   "outputs": [
    {
     "data": {
      "text/plain": "{'ATC': 67.51353782692647}"
     },
     "execution_count": 8,
     "metadata": {},
     "output_type": "execute_result"
    }
   ],
   "execution_count": 8
  },
  {
   "cell_type": "code",
   "id": "3d9045c0",
   "metadata": {
    "ExecuteTime": {
     "end_time": "2024-07-31T08:31:13.575910200Z",
     "start_time": "2024-07-31T08:31:13.520314700Z"
    }
   },
   "source": [
    "result.full_data"
   ],
   "outputs": [
    {
     "data": {
      "text/plain": "      user_id  signup_month  treat  pre_spends  post_spends   age gender  \\\n0           0             0      0       488.0   414.444444   NaN      M   \n1           1             8      1       512.5   462.222222  26.0    NaN   \n2           2             7      1       483.0   479.444444  25.0      M   \n3           3             0      0       501.5   424.333333  39.0      M   \n4           4             1      1       543.0   514.555556  18.0      F   \n...       ...           ...    ...         ...          ...   ...    ...   \n9995     9995            10      1       538.5   450.444444  42.0      M   \n9996     9996             0      0       500.5   430.888889  26.0      F   \n9997     9997             3      1       473.0   534.111111  22.0      F   \n9998     9998             2      1       495.0   523.222222  67.0      F   \n9999     9999             7      1       508.0   475.888889  38.0      F   \n\n      industry  user_id_matched  signup_month_matched  treat_matched  \\\n0         True               -1                    -1             -1   \n1         True             4861                     0              0   \n2         True             4743                     0              0   \n3         True             5032                    10              1   \n4         True             4810                     8              1   \n...        ...              ...                   ...            ...   \n9995      True             4861                     0              0   \n9996      True             4995                     5              1   \n9997      True             4861                     0              0   \n9998      True             4924                     6              1   \n9999      True             4931                     0              0   \n\n      pre_spends_matched  post_spends_matched  age_matched gender_matched  \\\n0                   -1.0            -1.000000         -1.0           True   \n1                  495.0           417.333333         61.0            NaN   \n2                  471.0           410.111111         24.0              M   \n3                  500.0           447.666667         20.0           True   \n4                  481.0           480.444444          NaN              M   \n...                  ...                  ...          ...            ...   \n9995               495.0           417.333333         61.0            NaN   \n9996               504.0           506.333333         27.0           True   \n9997               495.0           417.333333         61.0            NaN   \n9998               477.0           477.888889         32.0              F   \n9999               480.5           426.777778         48.0            NaN   \n\n      industry_matched  \n0                 True  \n1                 True  \n2                 True  \n3                 True  \n4                 True  \n...                ...  \n9995              True  \n9996              True  \n9997              True  \n9998              True  \n9999              True  \n\n[10000 rows x 16 columns]"
     },
     "execution_count": 9,
     "metadata": {},
     "output_type": "execute_result"
    }
   ],
   "execution_count": 9
  },
  {
   "cell_type": "markdown",
   "id": "96a52742",
   "metadata": {},
   "source": [
    "Also it is possible to search pairs only in **test group**. This way we have metric \"auto\" and **ATT** will be estimated. "
   ]
  },
  {
   "cell_type": "code",
   "id": "b67abd5d",
   "metadata": {
    "ExecuteTime": {
     "end_time": "2024-07-31T08:31:14.040413500Z",
     "start_time": "2024-07-31T08:31:13.551629800Z"
    }
   },
   "source": [
    "c_data = copy.deepcopy(data)\n",
    "test = Matching(two_sides=False)\n",
    "result = test.execute(c_data)"
   ],
   "outputs": [],
   "execution_count": 10
  },
  {
   "cell_type": "code",
   "id": "cc54c8f3",
   "metadata": {
    "ExecuteTime": {
     "end_time": "2024-07-31T08:31:14.058737500Z",
     "start_time": "2024-07-31T08:31:14.042438800Z"
    }
   },
   "source": [
    "result.resume"
   ],
   "outputs": [
    {
     "data": {
      "text/plain": "{'ATC': 67.51353782692647}"
     },
     "execution_count": 11,
     "metadata": {},
     "output_type": "execute_result"
    }
   ],
   "execution_count": 11
  },
  {
   "cell_type": "code",
   "id": "e061a49b",
   "metadata": {
    "ExecuteTime": {
     "end_time": "2024-07-31T08:31:14.105374900Z",
     "start_time": "2024-07-31T08:31:14.060248100Z"
    }
   },
   "source": [
    "result.full_data"
   ],
   "outputs": [
    {
     "data": {
      "text/plain": "      user_id  signup_month  treat  pre_spends  post_spends   age gender  \\\n0           0             0      0       488.0   414.444444   NaN      M   \n1           1             8      1       512.5   462.222222  26.0    NaN   \n2           2             7      1       483.0   479.444444  25.0      M   \n3           3             0      0       501.5   424.333333  39.0      M   \n4           4             1      1       543.0   514.555556  18.0      F   \n...       ...           ...    ...         ...          ...   ...    ...   \n9995     9995            10      1       538.5   450.444444  42.0      M   \n9996     9996             0      0       500.5   430.888889  26.0      F   \n9997     9997             3      1       473.0   534.111111  22.0      F   \n9998     9998             2      1       495.0   523.222222  67.0      F   \n9999     9999             7      1       508.0   475.888889  38.0      F   \n\n      industry  user_id_matched  signup_month_matched  treat_matched  \\\n0         True               -1                    -1             -1   \n1         True             4861                     0              0   \n2         True             4743                     0              0   \n3         True               -1                    -1             -1   \n4         True             4810                     8              1   \n...        ...              ...                   ...            ...   \n9995      True             4861                     0              0   \n9996      True               -1                    -1             -1   \n9997      True             4861                     0              0   \n9998      True             4924                     6              1   \n9999      True             4931                     0              0   \n\n      pre_spends_matched  post_spends_matched  age_matched gender_matched  \\\n0                   -1.0            -1.000000         -1.0             -1   \n1                  495.0           417.333333         61.0            NaN   \n2                  471.0           410.111111         24.0              M   \n3                   -1.0            -1.000000         -1.0             -1   \n4                  481.0           480.444444          NaN              M   \n...                  ...                  ...          ...            ...   \n9995               495.0           417.333333         61.0            NaN   \n9996                -1.0            -1.000000         -1.0             -1   \n9997               495.0           417.333333         61.0            NaN   \n9998               477.0           477.888889         32.0              F   \n9999               480.5           426.777778         48.0            NaN   \n\n      industry_matched  \n0                 True  \n1                 True  \n2                 True  \n3                 True  \n4                 True  \n...                ...  \n9995              True  \n9996              True  \n9997              True  \n9998              True  \n9999              True  \n\n[10000 rows x 16 columns]"
     },
     "execution_count": 12,
     "metadata": {},
     "output_type": "execute_result"
    }
   ],
   "execution_count": 12
  },
  {
   "cell_type": "markdown",
   "id": "a60205ca",
   "metadata": {},
   "source": [
    "Finally, we may search pairs in L2 distance. "
   ]
  },
  {
   "cell_type": "code",
   "id": "5ac83bea",
   "metadata": {
    "ExecuteTime": {
     "end_time": "2024-07-31T08:31:14.541090300Z",
     "start_time": "2024-07-31T08:31:14.093068100Z"
    }
   },
   "source": [
    "c_data = copy.deepcopy(data)\n",
    "test = Matching(distance=\"l2\", two_sides=False)\n",
    "result = test.execute(c_data)"
   ],
   "outputs": [],
   "execution_count": 13
  },
  {
   "cell_type": "code",
   "id": "4bf5a651",
   "metadata": {
    "ExecuteTime": {
     "end_time": "2024-07-31T08:31:14.594677700Z",
     "start_time": "2024-07-31T08:31:14.547284300Z"
    }
   },
   "source": [
    "result.resume"
   ],
   "outputs": [
    {
     "data": {
      "text/plain": "{'ATC': 18.42531156749166}"
     },
     "execution_count": 14,
     "metadata": {},
     "output_type": "execute_result"
    }
   ],
   "execution_count": 14
  },
  {
   "cell_type": "code",
   "id": "06a90f00",
   "metadata": {
    "ExecuteTime": {
     "end_time": "2024-07-31T08:31:14.640843300Z",
     "start_time": "2024-07-31T08:31:14.576791500Z"
    }
   },
   "source": [
    "result.full_data"
   ],
   "outputs": [
    {
     "data": {
      "text/plain": "      user_id  signup_month  treat  pre_spends  post_spends   age gender  \\\n0           0             0      0       488.0   414.444444   NaN      M   \n1           1             8      1       512.5   462.222222  26.0    NaN   \n2           2             7      1       483.0   479.444444  25.0      M   \n3           3             0      0       501.5   424.333333  39.0      M   \n4           4             1      1       543.0   514.555556  18.0      F   \n...       ...           ...    ...         ...          ...   ...    ...   \n9995     9995            10      1       538.5   450.444444  42.0      M   \n9996     9996             0      0       500.5   430.888889  26.0      F   \n9997     9997             3      1       473.0   534.111111  22.0      F   \n9998     9998             2      1       495.0   523.222222  67.0      F   \n9999     9999             7      1       508.0   475.888889  38.0      F   \n\n      industry  user_id_matched  signup_month_matched  treat_matched  \\\n0         True               -1                    -1             -1   \n1         True             4737                     1              1   \n2         True             4931                     0              0   \n3         True               -1                    -1             -1   \n4         True             4924                     6              1   \n...        ...              ...                   ...            ...   \n9995      True             4861                     0              0   \n9996      True               -1                    -1             -1   \n9997      True             4912                     0              0   \n9998      True             4931                     0              0   \n9999      True             4861                     0              0   \n\n      pre_spends_matched  post_spends_matched  age_matched gender_matched  \\\n0                   -1.0            -1.000000         -1.0             -1   \n1                  526.5           533.111111         24.0              F   \n2                  480.5           426.777778         48.0            NaN   \n3                   -1.0            -1.000000         -1.0             -1   \n4                  477.0           477.888889         32.0              F   \n...                  ...                  ...          ...            ...   \n9995               495.0           417.333333         61.0            NaN   \n9996                -1.0            -1.000000         -1.0             -1   \n9997               489.5           417.222222         63.0              F   \n9998               480.5           426.777778         48.0            NaN   \n9999               495.0           417.333333         61.0            NaN   \n\n      industry_matched  \n0                 True  \n1                 True  \n2                 True  \n3                 True  \n4                 True  \n...                ...  \n9995              True  \n9996              True  \n9997              True  \n9998              True  \n9999              True  \n\n[10000 rows x 16 columns]"
     },
     "execution_count": 15,
     "metadata": {},
     "output_type": "execute_result"
    }
   ],
   "execution_count": 15
  }
 ],
 "metadata": {
  "kernelspec": {
   "display_name": "Python 3",
   "language": "python",
   "name": "python3"
  },
  "language_info": {
   "codemirror_mode": {
    "name": "ipython",
    "version": 3
   },
   "file_extension": ".py",
   "mimetype": "text/x-python",
   "name": "python",
   "nbconvert_exporter": "python",
   "pygments_lexer": "ipython3",
   "version": "3.10.13"
  }
 },
 "nbformat": 4,
 "nbformat_minor": 5
}

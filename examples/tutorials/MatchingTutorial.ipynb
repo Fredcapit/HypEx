{
 "cells": [
  {
   "cell_type": "markdown",
   "id": "54278f8bd9a4bb39",
   "metadata": {
    "collapsed": false
   },
   "source": [
    "# Matching pipline"
   ]
  },
  {
   "cell_type": "markdown",
   "id": "de103cc6",
   "metadata": {},
   "source": [
    "The comparison method is used in statistical analysis to eliminate distortions caused by differences in the basic characteristics of the studied groups. Simply put, matching helps to make sure that the results of the experiment are really caused by the studied effect, and not by external factors.\n",
    "\n",
    "Matching is most often performed in cases where the use of a standard AB test is impossible."
   ]
  },
  {
   "cell_type": "code",
   "id": "initial_id",
   "metadata": {
    "collapsed": true,
    "ExecuteTime": {
     "end_time": "2024-08-05T12:10:33.531993300Z",
     "start_time": "2024-08-05T12:10:31.271720900Z"
    }
   },
   "source": [
    "import copy\n",
    "\n",
    "from hypex.dataset import Dataset, InfoRole, TreatmentRole, TargetRole \n",
    "from hypex import Matching"
   ],
   "outputs": [
    {
     "name": "stderr",
     "output_type": "stream",
     "text": [
      "C:\\Users\\User\\AppData\\Local\\Programs\\Python\\Python310\\lib\\site-packages\\tqdm\\auto.py:21: TqdmWarning: IProgress not found. Please update jupyter and ipywidgets. See https://ipywidgets.readthedocs.io/en/stable/user_install.html\n",
      "  from .autonotebook import tqdm as notebook_tqdm\n"
     ]
    }
   ],
   "execution_count": 1
  },
  {
   "cell_type": "markdown",
   "id": "7e41355993e9e59f",
   "metadata": {
    "collapsed": false
   },
   "source": [
    "## Data preparation \n",
    "\n",
    "It is important to mark the data fields by assigning the appropriate roles:\n",
    "\n",
    "* FeatureRole: a role for columns that contain features or predictor variables. Our split will be based on them. Applied by default if the role is not specified for the column.\n",
    "* TreatmentRole: a role for columns that show the treatment or intervention.\n",
    "* TargetRole: a role for columns that show the target or outcome variable.\n",
    "* InfoRole: a role for columns that contain information about the data, such as user IDs."
   ]
  },
  {
   "cell_type": "code",
   "id": "8abf891fc6804315",
   "metadata": {
    "collapsed": false,
    "ExecuteTime": {
     "end_time": "2024-08-05T12:10:33.604102500Z",
     "start_time": "2024-08-05T12:10:33.535521400Z"
    }
   },
   "source": [
    "data = Dataset(\n",
    "    roles={\n",
    "        \"user_id\": InfoRole(int),\n",
    "        \"treat\": TreatmentRole(int), \n",
    "        \"post_spends\": TargetRole(float)\n",
    "    }, data=\"data.csv\",\n",
    ")\n",
    "data"
   ],
   "outputs": [
    {
     "data": {
      "text/plain": "      user_id  signup_month  treat  pre_spends  post_spends   age gender  \\\n0           0             0      0       488.0   414.444444   NaN      M   \n1           1             8      1       512.5   462.222222  26.0    NaN   \n2           2             7      1       483.0   479.444444  25.0      M   \n3           3             0      0       501.5   424.333333  39.0      M   \n4           4             1      1       543.0   514.555556  18.0      F   \n...       ...           ...    ...         ...          ...   ...    ...   \n9995     9995            10      1       538.5   450.444444  42.0      M   \n9996     9996             0      0       500.5   430.888889  26.0      F   \n9997     9997             3      1       473.0   534.111111  22.0      F   \n9998     9998             2      1       495.0   523.222222  67.0      F   \n9999     9999             7      1       508.0   475.888889  38.0      F   \n\n        industry  \n0     E-commerce  \n1     E-commerce  \n2      Logistics  \n3     E-commerce  \n4     E-commerce  \n...          ...  \n9995   Logistics  \n9996   Logistics  \n9997  E-commerce  \n9998  E-commerce  \n9999  E-commerce  \n\n[10000 rows x 8 columns]"
     },
     "execution_count": 2,
     "metadata": {},
     "output_type": "execute_result"
    }
   ],
   "execution_count": 2
  },
  {
   "cell_type": "code",
   "id": "4ae8c654db6f5f85",
   "metadata": {
    "collapsed": false,
    "ExecuteTime": {
     "end_time": "2024-08-05T12:10:33.623607300Z",
     "start_time": "2024-08-05T12:10:33.600654300Z"
    }
   },
   "source": [
    "data.roles"
   ],
   "outputs": [
    {
     "data": {
      "text/plain": "{'user_id': Info(<class 'int'>),\n 'treat': Treatment(<class 'int'>),\n 'post_spends': Target(<class 'float'>),\n 'signup_month': Feature(<class 'int'>),\n 'pre_spends': Feature(<class 'float'>),\n 'age': Feature(<class 'float'>),\n 'gender': Feature(<class 'str'>),\n 'industry': Feature(<class 'str'>)}"
     },
     "execution_count": 3,
     "metadata": {},
     "output_type": "execute_result"
    }
   ],
   "execution_count": 3
  },
  {
   "cell_type": "markdown",
   "id": "8848fdfc6e8c0f45",
   "metadata": {
    "collapsed": false
   },
   "source": [
    "## Simple Matching  \n",
    "Now matching has 4 steps: \n",
    "1. Dummy Encoder \n",
    "2. Process Mahalanobis distance \n",
    "3. Two sides pairs searching by faiss \n",
    "4. Metrics (ATT, ATC, ATE) estimation depends on your data "
   ]
  },
  {
   "cell_type": "code",
   "outputs": [
    {
     "name": "stderr",
     "output_type": "stream",
     "text": [
      "C:\\Users\\User\\PycharmProjects\\HypEx\\hypex\\dataset\\backends\\pandas_backend.py:385: FutureWarning: DataFrame.fillna with 'method' is deprecated and will raise in a future version. Use obj.ffill() or obj.bfill() instead.\n",
      "  return self.data.fillna(values, method=method, **kwargs)\n"
     ]
    }
   ],
   "source": [
    "data = data.fillna(method=\"backfill\")"
   ],
   "metadata": {
    "collapsed": false,
    "ExecuteTime": {
     "end_time": "2024-08-05T12:10:33.684363600Z",
     "start_time": "2024-08-05T12:10:33.615190700Z"
    }
   },
   "id": "26f4415157952f06",
   "execution_count": 4
  },
  {
   "cell_type": "code",
   "id": "bc7e472bbb7c2a5d",
   "metadata": {
    "collapsed": false,
    "ExecuteTime": {
     "end_time": "2024-08-05T12:10:34.559516Z",
     "start_time": "2024-08-05T12:10:33.660890100Z"
    }
   },
   "source": [
    "c_data = copy.deepcopy(data)\n",
    "test = Matching()\n",
    "result = test.execute(c_data)"
   ],
   "outputs": [],
   "execution_count": 5
  },
  {
   "cell_type": "code",
   "outputs": [
    {
     "data": {
      "text/plain": "      user_id  signup_month  treat  pre_spends  post_spends   age  gender  \\\n0           0             0      0       488.0   414.444444  26.0    True   \n1           1             8      1       512.5   462.222222  26.0    True   \n2           2             7      1       483.0   479.444444  25.0    True   \n3           3             0      0       501.5   424.333333  39.0    True   \n4           4             1      1       543.0   514.555556  18.0    True   \n...       ...           ...    ...         ...          ...   ...     ...   \n9995     9995            10      1       538.5   450.444444  42.0    True   \n9996     9996             0      0       500.5   430.888889  26.0    True   \n9997     9997             3      1       473.0   534.111111  22.0    True   \n9998     9998             2      1       495.0   523.222222  67.0    True   \n9999     9999             7      1       508.0   475.888889  38.0    True   \n\n      industry  user_id_matched  signup_month_matched  treat_matched  \\\n0         True             9433                     1              1   \n1         True             5438                     0              0   \n2         True             5165                     0              0   \n3         True             1735                     1              1   \n4         True              539                     0              0   \n...        ...              ...                   ...            ...   \n9995      True             5893                     0              0   \n9996      True             7731                     1              1   \n9997      True             7066                     0              0   \n9998      True             1885                     0              0   \n9999      True             5748                     0              0   \n\n      pre_spends_matched  post_spends_matched  age_matched  gender_matched  \\\n0                  488.5           518.444444         37.0            True   \n1                  529.0           417.111111         23.0            True   \n2                  498.5           412.222222         25.0            True   \n3                  504.0           516.333333         33.0            True   \n4                  531.0           414.000000         20.0            True   \n...                  ...                  ...          ...             ...   \n9995               535.0           414.555556         40.0            True   \n9996               500.0           515.888889         25.0            True   \n9997               480.0           423.222222         22.0            True   \n9998               499.0           423.000000         67.0            True   \n9999               522.0           424.444444         36.0            True   \n\n      industry_matched  \n0                 True  \n1                 True  \n2                 True  \n3                 True  \n4                 True  \n...                ...  \n9995              True  \n9996              True  \n9997              True  \n9998              True  \n9999              True  \n\n[10000 rows x 16 columns]"
     },
     "execution_count": 6,
     "metadata": {},
     "output_type": "execute_result"
    }
   ],
   "source": [
    "result.full_data"
   ],
   "metadata": {
    "collapsed": false,
    "ExecuteTime": {
     "end_time": "2024-08-05T12:10:34.604224800Z",
     "start_time": "2024-08-05T12:10:34.562548Z"
    }
   },
   "id": "e2abb5c978183955",
   "execution_count": 6
  },
  {
   "cell_type": "code",
   "id": "d98c94a8b8a763e9",
   "metadata": {
    "collapsed": false,
    "ExecuteTime": {
     "end_time": "2024-08-05T12:10:34.669637100Z",
     "start_time": "2024-08-05T12:10:34.592337600Z"
    }
   },
   "source": [
    "result.full_data[[\"treat\", 'treat_matched']].value_counts()"
   ],
   "outputs": [
    {
     "data": {
      "text/plain": "   treat  treat_matched  count\n0      1              0   5064\n1      0              1   4936"
     },
     "execution_count": 7,
     "metadata": {},
     "output_type": "execute_result"
    }
   ],
   "execution_count": 7
  },
  {
   "cell_type": "markdown",
   "id": "f149fb84",
   "metadata": {},
   "source": [
    "**ATT** shows the difference in treated group.   \n",
    "**ATC** shows the difference in untreated group.   \n",
    "**ATE** shows the weighted average difference between ATT and ATC.   "
   ]
  },
  {
   "cell_type": "code",
   "id": "8bc40d37",
   "metadata": {
    "ExecuteTime": {
     "end_time": "2024-08-05T12:10:34.671638700Z",
     "start_time": "2024-08-05T12:10:34.623750800Z"
    }
   },
   "source": [
    "result.resume"
   ],
   "outputs": [
    {
     "data": {
      "text/plain": "{'ATT': 64.66510817376057, 'ATC': 88.11308010797696, 'ATE': 76.53916116124775}"
     },
     "execution_count": 8,
     "metadata": {},
     "output_type": "execute_result"
    }
   ],
   "execution_count": 8
  },
  {
   "cell_type": "markdown",
   "id": "3ad7a444",
   "metadata": {},
   "source": [
    "We can change **metric** and do estimation again."
   ]
  },
  {
   "cell_type": "code",
   "id": "e22f6e1d",
   "metadata": {
    "ExecuteTime": {
     "end_time": "2024-08-05T12:10:35.804773100Z",
     "start_time": "2024-08-05T12:10:34.654315700Z"
    }
   },
   "source": [
    "c_data = copy.deepcopy(data)\n",
    "test = Matching(metric=\"atc\")\n",
    "result = test.execute(c_data)"
   ],
   "outputs": [],
   "execution_count": 9
  },
  {
   "cell_type": "code",
   "id": "60424009",
   "metadata": {
    "ExecuteTime": {
     "end_time": "2024-08-05T12:10:35.822777100Z",
     "start_time": "2024-08-05T12:10:35.805771800Z"
    }
   },
   "source": [
    "result.resume"
   ],
   "outputs": [
    {
     "data": {
      "text/plain": "{'ATC': 88.11308010797696}"
     },
     "execution_count": 10,
     "metadata": {},
     "output_type": "execute_result"
    }
   ],
   "execution_count": 10
  },
  {
   "cell_type": "code",
   "id": "3d9045c0",
   "metadata": {
    "ExecuteTime": {
     "end_time": "2024-08-05T12:10:36.094356200Z",
     "start_time": "2024-08-05T12:10:35.822777100Z"
    }
   },
   "source": [
    "result.full_data"
   ],
   "outputs": [
    {
     "data": {
      "text/plain": "      user_id  signup_month  treat  pre_spends  post_spends   age  gender  \\\n0           0             0      0       488.0   414.444444  26.0    True   \n1           1             8      1       512.5   462.222222  26.0    True   \n2           2             7      1       483.0   479.444444  25.0    True   \n3           3             0      0       501.5   424.333333  39.0    True   \n4           4             1      1       543.0   514.555556  18.0    True   \n...       ...           ...    ...         ...          ...   ...     ...   \n9995     9995            10      1       538.5   450.444444  42.0    True   \n9996     9996             0      0       500.5   430.888889  26.0    True   \n9997     9997             3      1       473.0   534.111111  22.0    True   \n9998     9998             2      1       495.0   523.222222  67.0    True   \n9999     9999             7      1       508.0   475.888889  38.0    True   \n\n      industry  user_id_matched  signup_month_matched  treat_matched  \\\n0         True             9433                     1              1   \n1         True             5438                     0              0   \n2         True             5165                     0              0   \n3         True             1735                     1              1   \n4         True              539                     0              0   \n...        ...              ...                   ...            ...   \n9995      True             5893                     0              0   \n9996      True             7731                     1              1   \n9997      True             7066                     0              0   \n9998      True             1885                     0              0   \n9999      True             5748                     0              0   \n\n      pre_spends_matched  post_spends_matched  age_matched  gender_matched  \\\n0                  488.5           518.444444         37.0            True   \n1                  529.0           417.111111         23.0            True   \n2                  498.5           412.222222         25.0            True   \n3                  504.0           516.333333         33.0            True   \n4                  531.0           414.000000         20.0            True   \n...                  ...                  ...          ...             ...   \n9995               535.0           414.555556         40.0            True   \n9996               500.0           515.888889         25.0            True   \n9997               480.0           423.222222         22.0            True   \n9998               499.0           423.000000         67.0            True   \n9999               522.0           424.444444         36.0            True   \n\n      industry_matched  \n0                 True  \n1                 True  \n2                 True  \n3                 True  \n4                 True  \n...                ...  \n9995              True  \n9996              True  \n9997              True  \n9998              True  \n9999              True  \n\n[10000 rows x 16 columns]"
     },
     "execution_count": 11,
     "metadata": {},
     "output_type": "execute_result"
    }
   ],
   "execution_count": 11
  },
  {
   "cell_type": "markdown",
   "id": "96a52742",
   "metadata": {},
   "source": [
    "Also it is possible to search pairs only in **test group**. This way we have metric \"auto\" and **ATT** will be estimated. "
   ]
  },
  {
   "cell_type": "code",
   "id": "b67abd5d",
   "metadata": {
    "ExecuteTime": {
     "end_time": "2024-08-05T12:10:37.008443Z",
     "start_time": "2024-08-05T12:10:36.081357300Z"
    }
   },
   "source": [
    "c_data = copy.deepcopy(data)\n",
    "test = Matching(two_sides=False)\n",
    "result = test.execute(c_data)"
   ],
   "outputs": [],
   "execution_count": 12
  },
  {
   "cell_type": "code",
   "id": "cc54c8f3",
   "metadata": {
    "ExecuteTime": {
     "end_time": "2024-08-05T12:10:37.039079500Z",
     "start_time": "2024-08-05T12:10:37.009445400Z"
    }
   },
   "source": [
    "result.resume"
   ],
   "outputs": [
    {
     "data": {
      "text/plain": "{'ATC': 55.042228894129074}"
     },
     "execution_count": 13,
     "metadata": {},
     "output_type": "execute_result"
    }
   ],
   "execution_count": 13
  },
  {
   "cell_type": "code",
   "outputs": [
    {
     "data": {
      "text/plain": "   treat  treat_matched  count\n0      1              0   5064\n1      0             -1   4936"
     },
     "execution_count": 14,
     "metadata": {},
     "output_type": "execute_result"
    }
   ],
   "source": [
    "result.full_data[[\"treat\", 'treat_matched']].value_counts()"
   ],
   "metadata": {
    "collapsed": false,
    "ExecuteTime": {
     "end_time": "2024-08-05T12:10:37.077827800Z",
     "start_time": "2024-08-05T12:10:37.033985300Z"
    }
   },
   "id": "1487ec082fbe8dfb",
   "execution_count": 14
  },
  {
   "cell_type": "markdown",
   "id": "a60205ca",
   "metadata": {},
   "source": [
    "Finally, we may search pairs in L2 distance. "
   ]
  },
  {
   "cell_type": "code",
   "id": "5ac83bea",
   "metadata": {
    "ExecuteTime": {
     "end_time": "2024-08-05T12:10:37.693043700Z",
     "start_time": "2024-08-05T12:10:37.071484200Z"
    }
   },
   "source": [
    "c_data = copy.deepcopy(data)\n",
    "test = Matching(distance=\"l2\", two_sides=False)\n",
    "result = test.execute(c_data)"
   ],
   "outputs": [],
   "execution_count": 15
  },
  {
   "cell_type": "code",
   "id": "4bf5a651",
   "metadata": {
    "ExecuteTime": {
     "end_time": "2024-08-05T12:10:37.717321400Z",
     "start_time": "2024-08-05T12:10:37.694042600Z"
    }
   },
   "source": [
    "result.resume"
   ],
   "outputs": [
    {
     "data": {
      "text/plain": "{'ATC': 50.65008881228363}"
     },
     "execution_count": 16,
     "metadata": {},
     "output_type": "execute_result"
    }
   ],
   "execution_count": 16
  },
  {
   "cell_type": "code",
   "id": "06a90f00",
   "metadata": {
    "ExecuteTime": {
     "end_time": "2024-08-05T12:10:37.750979900Z",
     "start_time": "2024-08-05T12:10:37.714041100Z"
    }
   },
   "source": [
    "result.full_data"
   ],
   "outputs": [
    {
     "data": {
      "text/plain": "      user_id  signup_month  treat  pre_spends  post_spends   age  gender  \\\n0           0             0      0       488.0   414.444444  26.0    True   \n1           1             8      1       512.5   462.222222  26.0    True   \n2           2             7      1       483.0   479.444444  25.0    True   \n3           3             0      0       501.5   424.333333  39.0    True   \n4           4             1      1       543.0   514.555556  18.0    True   \n...       ...           ...    ...         ...          ...   ...     ...   \n9995     9995            10      1       538.5   450.444444  42.0    True   \n9996     9996             0      0       500.5   430.888889  26.0    True   \n9997     9997             3      1       473.0   534.111111  22.0    True   \n9998     9998             2      1       495.0   523.222222  67.0    True   \n9999     9999             7      1       508.0   475.888889  38.0    True   \n\n      industry  user_id_matched  signup_month_matched  treat_matched  \\\n0         True               -1                    -1             -1   \n1         True             2490                     0              0   \n2         True             5493                     0              0   \n3         True               -1                    -1             -1   \n4         True              321                     0              0   \n...        ...              ...                   ...            ...   \n9995      True             5893                     0              0   \n9996      True               -1                    -1             -1   \n9997      True             8670                     0              0   \n9998      True              507                     0              0   \n9999      True             7155                     0              0   \n\n      pre_spends_matched  post_spends_matched  age_matched  gender_matched  \\\n0                   -1.0            -1.000000         -1.0            True   \n1                  511.5           417.444444         27.0            True   \n2                  483.0           408.000000         25.0            True   \n3                   -1.0            -1.000000         -1.0            True   \n4                  538.0           421.444444         29.0            True   \n...                  ...                  ...          ...             ...   \n9995               535.0           414.555556         40.0            True   \n9996                -1.0            -1.000000         -1.0            True   \n9997               473.0           415.777778         22.0            True   \n9998               495.0           429.777778         67.0            True   \n9999               509.5           415.000000         38.0            True   \n\n      industry_matched  \n0                 True  \n1                 True  \n2                 True  \n3                 True  \n4                 True  \n...                ...  \n9995              True  \n9996              True  \n9997              True  \n9998              True  \n9999              True  \n\n[10000 rows x 16 columns]"
     },
     "execution_count": 17,
     "metadata": {},
     "output_type": "execute_result"
    }
   ],
   "execution_count": 17
  }
 ],
 "metadata": {
  "kernelspec": {
   "display_name": "Python 3",
   "language": "python",
   "name": "python3"
  },
  "language_info": {
   "codemirror_mode": {
    "name": "ipython",
    "version": 3
   },
   "file_extension": ".py",
   "mimetype": "text/x-python",
   "name": "python",
   "nbconvert_exporter": "python",
   "pygments_lexer": "ipython3",
   "version": "3.10.13"
  }
 },
 "nbformat": 4,
 "nbformat_minor": 5
}

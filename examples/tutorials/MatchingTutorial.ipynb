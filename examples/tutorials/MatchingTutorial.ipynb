{
 "cells": [
  {
   "cell_type": "markdown",
   "id": "54278f8bd9a4bb39",
   "metadata": {
    "collapsed": false
   },
   "source": [
    "# Matching pipline"
   ]
  },
  {
   "cell_type": "markdown",
   "id": "de103cc6",
   "metadata": {},
   "source": [
    "The comparison method is used in statistical analysis to eliminate distortions caused by differences in the basic characteristics of the studied groups. Simply put, matching helps to make sure that the results of the experiment are really caused by the studied effect, and not by external factors.\n",
    "\n",
    "Matching is most often performed in cases where the use of a standard AB test is impossible."
   ]
  },
  {
   "cell_type": "code",
   "id": "initial_id",
   "metadata": {
    "collapsed": true,
    "ExecuteTime": {
     "end_time": "2024-08-01T12:49:14.615033300Z",
     "start_time": "2024-08-01T12:49:12.516736800Z"
    }
   },
   "source": [
    "import copy\n",
    "\n",
    "from hypex.dataset import Dataset, InfoRole, TreatmentRole, TargetRole \n",
    "from hypex import Matching"
   ],
   "outputs": [
    {
     "name": "stderr",
     "output_type": "stream",
     "text": [
      "C:\\Users\\User\\AppData\\Local\\Programs\\Python\\Python310\\lib\\site-packages\\tqdm\\auto.py:21: TqdmWarning: IProgress not found. Please update jupyter and ipywidgets. See https://ipywidgets.readthedocs.io/en/stable/user_install.html\n",
      "  from .autonotebook import tqdm as notebook_tqdm\n"
     ]
    }
   ],
   "execution_count": 1
  },
  {
   "cell_type": "markdown",
   "id": "7e41355993e9e59f",
   "metadata": {
    "collapsed": false
   },
   "source": [
    "## Data preparation \n",
    "\n",
    "It is important to mark the data fields by assigning the appropriate roles:\n",
    "\n",
    "* FeatureRole: a role for columns that contain features or predictor variables. Our split will be based on them. Applied by default if the role is not specified for the column.\n",
    "* TreatmentRole: a role for columns that show the treatment or intervention.\n",
    "* TargetRole: a role for columns that show the target or outcome variable.\n",
    "* InfoRole: a role for columns that contain information about the data, such as user IDs."
   ]
  },
  {
   "cell_type": "code",
   "id": "8abf891fc6804315",
   "metadata": {
    "collapsed": false,
    "ExecuteTime": {
     "end_time": "2024-08-01T12:49:14.691341700Z",
     "start_time": "2024-08-01T12:49:14.616036700Z"
    }
   },
   "source": [
    "data = Dataset(\n",
    "    roles={\n",
    "        \"user_id\": InfoRole(int),\n",
    "        \"treat\": TreatmentRole(int), \n",
    "        \"post_spends\": TargetRole(float)\n",
    "    }, data=\"data.csv\",\n",
    ")\n",
    "data"
   ],
   "outputs": [
    {
     "data": {
      "text/plain": "      user_id  signup_month  treat  pre_spends  post_spends   age gender  \\\n0           0             0      0       488.0   414.444444   NaN      M   \n1           1             8      1       512.5   462.222222  26.0    NaN   \n2           2             7      1       483.0   479.444444  25.0      M   \n3           3             0      0       501.5   424.333333  39.0      M   \n4           4             1      1       543.0   514.555556  18.0      F   \n...       ...           ...    ...         ...          ...   ...    ...   \n9995     9995            10      1       538.5   450.444444  42.0      M   \n9996     9996             0      0       500.5   430.888889  26.0      F   \n9997     9997             3      1       473.0   534.111111  22.0      F   \n9998     9998             2      1       495.0   523.222222  67.0      F   \n9999     9999             7      1       508.0   475.888889  38.0      F   \n\n        industry  \n0     E-commerce  \n1     E-commerce  \n2      Logistics  \n3     E-commerce  \n4     E-commerce  \n...          ...  \n9995   Logistics  \n9996   Logistics  \n9997  E-commerce  \n9998  E-commerce  \n9999  E-commerce  \n\n[10000 rows x 8 columns]"
     },
     "execution_count": 2,
     "metadata": {},
     "output_type": "execute_result"
    }
   ],
   "execution_count": 2
  },
  {
   "cell_type": "code",
   "id": "4ae8c654db6f5f85",
   "metadata": {
    "collapsed": false,
    "ExecuteTime": {
     "end_time": "2024-08-01T12:49:14.738100800Z",
     "start_time": "2024-08-01T12:49:14.694362900Z"
    }
   },
   "source": [
    "data.roles"
   ],
   "outputs": [
    {
     "data": {
      "text/plain": "{'user_id': Info(<class 'int'>),\n 'treat': Treatment(<class 'int'>),\n 'post_spends': Target(<class 'float'>),\n 'signup_month': Feature(<class 'int'>),\n 'pre_spends': Feature(<class 'float'>),\n 'age': Feature(<class 'float'>),\n 'gender': Feature(<class 'str'>),\n 'industry': Feature(<class 'str'>)}"
     },
     "execution_count": 3,
     "metadata": {},
     "output_type": "execute_result"
    }
   ],
   "execution_count": 3
  },
  {
   "cell_type": "markdown",
   "id": "8848fdfc6e8c0f45",
   "metadata": {
    "collapsed": false
   },
   "source": [
    "## Simple Matching  \n",
    "Now matching has 4 steps: \n",
    "1. Dummy Encoder \n",
    "2. Process Mahalanobis distance \n",
    "3. Two sides pairs searching by faiss \n",
    "4. Metrics (ATT, ATC, ATE) estimation depends on your data "
   ]
  },
  {
   "cell_type": "code",
   "outputs": [
    {
     "name": "stderr",
     "output_type": "stream",
     "text": [
      "C:\\Users\\User\\PycharmProjects\\HypEx\\hypex\\dataset\\backends\\pandas_backend.py:385: FutureWarning: DataFrame.fillna with 'method' is deprecated and will raise in a future version. Use obj.ffill() or obj.bfill() instead.\n",
      "  return self.data.fillna(values, method=method, **kwargs)\n"
     ]
    }
   ],
   "source": [
    "data = data.fillna(method=\"backfill\")"
   ],
   "metadata": {
    "collapsed": false,
    "ExecuteTime": {
     "end_time": "2024-08-01T12:49:14.779257100Z",
     "start_time": "2024-08-01T12:49:14.712951500Z"
    }
   },
   "id": "26f4415157952f06",
   "execution_count": 4
  },
  {
   "cell_type": "code",
   "id": "bc7e472bbb7c2a5d",
   "metadata": {
    "collapsed": false,
    "ExecuteTime": {
     "end_time": "2024-08-01T12:49:30.079647700Z",
     "start_time": "2024-08-01T12:49:25.169503900Z"
    }
   },
   "source": [
    "c_data = copy.deepcopy(data)\n",
    "test = Matching(bias_estimation=False)\n",
    "result = test.execute(c_data)"
   ],
   "outputs": [],
   "execution_count": 17
  },
  {
   "cell_type": "code",
   "id": "d98c94a8b8a763e9",
   "metadata": {
    "collapsed": false,
    "ExecuteTime": {
     "end_time": "2024-08-01T12:49:30.192560200Z",
     "start_time": "2024-08-01T12:49:30.047459600Z"
    }
   },
   "source": [
    "result.full_data[[\"treat\", 'treat_matched']].value_counts()"
   ],
   "outputs": [
    {
     "data": {
      "text/plain": "   treat  treat_matched  count\n0      0              0   2744\n1      1              0   2557\n2      1              1   2507\n3      0              1   2192"
     },
     "execution_count": 18,
     "metadata": {},
     "output_type": "execute_result"
    }
   ],
   "execution_count": 18
  },
  {
   "cell_type": "markdown",
   "id": "f149fb84",
   "metadata": {},
   "source": [
    "**ATT** shows the difference in treated group.   \n",
    "**ATC** shows the difference in untreated group.   \n",
    "**ATE** shows the weighted average difference between ATT and ATC.   "
   ]
  },
  {
   "cell_type": "code",
   "id": "8bc40d37",
   "metadata": {
    "ExecuteTime": {
     "end_time": "2024-08-01T12:49:30.242960800Z",
     "start_time": "2024-08-01T12:49:30.175455500Z"
    }
   },
   "source": [
    "result.resume"
   ],
   "outputs": [
    {
     "data": {
      "text/plain": "{'ATT': 32.784733192908554,\n 'ATC': -35.964141004862235,\n 'ATE': -2.0296967008425737}"
     },
     "execution_count": 19,
     "metadata": {},
     "output_type": "execute_result"
    }
   ],
   "execution_count": 19
  },
  {
   "cell_type": "markdown",
   "id": "3ad7a444",
   "metadata": {},
   "source": [
    "We can change **metric** and do estimation again."
   ]
  },
  {
   "cell_type": "code",
   "id": "e22f6e1d",
   "metadata": {
    "ExecuteTime": {
     "end_time": "2024-08-01T12:49:16.587056Z",
     "start_time": "2024-08-01T12:49:15.735389200Z"
    }
   },
   "source": [
    "c_data = copy.deepcopy(data)\n",
    "test = Matching(metric=\"atc\")\n",
    "result = test.execute(c_data)"
   ],
   "outputs": [],
   "execution_count": 8
  },
  {
   "cell_type": "code",
   "id": "60424009",
   "metadata": {
    "ExecuteTime": {
     "end_time": "2024-08-01T12:49:16.614625400Z",
     "start_time": "2024-08-01T12:49:16.588057200Z"
    }
   },
   "source": [
    "result.resume"
   ],
   "outputs": [
    {
     "data": {
      "text/plain": "{'ATC': -31.600748055935718}"
     },
     "execution_count": 9,
     "metadata": {},
     "output_type": "execute_result"
    }
   ],
   "execution_count": 9
  },
  {
   "cell_type": "code",
   "id": "3d9045c0",
   "metadata": {
    "ExecuteTime": {
     "end_time": "2024-08-01T12:49:16.639080800Z",
     "start_time": "2024-08-01T12:49:16.607984700Z"
    }
   },
   "source": [
    "result.full_data"
   ],
   "outputs": [
    {
     "data": {
      "text/plain": "      user_id  signup_month  treat  pre_spends  post_spends   age  gender  \\\n0           0             0      0       488.0   414.444444  26.0    True   \n1           1             8      1       512.5   462.222222  26.0    True   \n2           2             7      1       483.0   479.444444  25.0    True   \n3           3             0      0       501.5   424.333333  39.0    True   \n4           4             1      1       543.0   514.555556  18.0    True   \n...       ...           ...    ...         ...          ...   ...     ...   \n9995     9995            10      1       538.5   450.444444  42.0    True   \n9996     9996             0      0       500.5   430.888889  26.0    True   \n9997     9997             3      1       473.0   534.111111  22.0    True   \n9998     9998             2      1       495.0   523.222222  67.0    True   \n9999     9999             7      1       508.0   475.888889  38.0    True   \n\n      industry  user_id_matched  signup_month_matched  treat_matched  \\\n0         True             4769                     0              0   \n1         True             2669                    10              1   \n2         True             2543                     7              1   \n3         True              880                     0              0   \n4         True              258                     4              1   \n...        ...              ...                   ...            ...   \n9995      True             2901                     0              0   \n9996      True             3939                     0              0   \n9997      True             3469                     1              1   \n9998      True              924                     1              1   \n9999      True             2819                     3              1   \n\n      pre_spends_matched  post_spends_matched  age_matched  gender_matched  \\\n0                  491.0           437.888889         52.0            True   \n1                  476.0           448.555556         37.0            True   \n2                  492.0           476.555556         21.0            True   \n3                  507.0           416.222222         25.0            True   \n4                  486.5           508.777778         69.0            True   \n...                  ...                  ...          ...             ...   \n9995               476.0           420.444444         29.0            True   \n9996               491.5           439.111111         38.0            True   \n9997               563.0           529.222222         47.0            True   \n9998               503.0           531.555556         27.0            True   \n9999               509.0           512.555556         30.0            True   \n\n      industry_matched  \n0                 True  \n1                 True  \n2                 True  \n3                 True  \n4                 True  \n...                ...  \n9995              True  \n9996              True  \n9997              True  \n9998              True  \n9999              True  \n\n[10000 rows x 16 columns]"
     },
     "execution_count": 10,
     "metadata": {},
     "output_type": "execute_result"
    }
   ],
   "execution_count": 10
  },
  {
   "cell_type": "markdown",
   "id": "96a52742",
   "metadata": {},
   "source": [
    "Also it is possible to search pairs only in **test group**. This way we have metric \"auto\" and **ATT** will be estimated. "
   ]
  },
  {
   "cell_type": "code",
   "id": "b67abd5d",
   "metadata": {
    "ExecuteTime": {
     "end_time": "2024-08-01T12:49:17.484657500Z",
     "start_time": "2024-08-01T12:49:16.637078400Z"
    }
   },
   "source": [
    "c_data = copy.deepcopy(data)\n",
    "test = Matching(two_sides=False)\n",
    "result = test.execute(c_data)"
   ],
   "outputs": [],
   "execution_count": 11
  },
  {
   "cell_type": "code",
   "id": "cc54c8f3",
   "metadata": {
    "ExecuteTime": {
     "end_time": "2024-08-01T12:49:17.514470300Z",
     "start_time": "2024-08-01T12:49:17.482645700Z"
    }
   },
   "source": [
    "result.resume"
   ],
   "outputs": [
    {
     "data": {
      "text/plain": "{'ATC': 173.9774951154092}"
     },
     "execution_count": 12,
     "metadata": {},
     "output_type": "execute_result"
    }
   ],
   "execution_count": 12
  },
  {
   "cell_type": "code",
   "id": "e061a49b",
   "metadata": {
    "ExecuteTime": {
     "end_time": "2024-08-01T12:49:17.568407800Z",
     "start_time": "2024-08-01T12:49:17.509894Z"
    }
   },
   "source": [
    "result.full_data"
   ],
   "outputs": [
    {
     "data": {
      "text/plain": "      user_id  signup_month  treat  pre_spends  post_spends   age  gender  \\\n0           0             0      0       488.0   414.444444  26.0    True   \n1           1             8      1       512.5   462.222222  26.0    True   \n2           2             7      1       483.0   479.444444  25.0    True   \n3           3             0      0       501.5   424.333333  39.0    True   \n4           4             1      1       543.0   514.555556  18.0    True   \n...       ...           ...    ...         ...          ...   ...     ...   \n9995     9995            10      1       538.5   450.444444  42.0    True   \n9996     9996             0      0       500.5   430.888889  26.0    True   \n9997     9997             3      1       473.0   534.111111  22.0    True   \n9998     9998             2      1       495.0   523.222222  67.0    True   \n9999     9999             7      1       508.0   475.888889  38.0    True   \n\n      industry  user_id_matched  signup_month_matched  treat_matched  \\\n0         True               -1                    -1             -1   \n1         True             2669                    10              1   \n2         True             2543                     7              1   \n3         True               -1                    -1             -1   \n4         True              258                     4              1   \n...        ...              ...                   ...            ...   \n9995      True             2901                     0              0   \n9996      True               -1                    -1             -1   \n9997      True             3469                     1              1   \n9998      True              924                     1              1   \n9999      True             2819                     3              1   \n\n      pre_spends_matched  post_spends_matched  age_matched  gender_matched  \\\n0                   -1.0            -1.000000         -1.0            True   \n1                  476.0           448.555556         37.0            True   \n2                  492.0           476.555556         21.0            True   \n3                   -1.0            -1.000000         -1.0            True   \n4                  486.5           508.777778         69.0            True   \n...                  ...                  ...          ...             ...   \n9995               476.0           420.444444         29.0            True   \n9996                -1.0            -1.000000         -1.0            True   \n9997               563.0           529.222222         47.0            True   \n9998               503.0           531.555556         27.0            True   \n9999               509.0           512.555556         30.0            True   \n\n      industry_matched  \n0                 True  \n1                 True  \n2                 True  \n3                 True  \n4                 True  \n...                ...  \n9995              True  \n9996              True  \n9997              True  \n9998              True  \n9999              True  \n\n[10000 rows x 16 columns]"
     },
     "execution_count": 13,
     "metadata": {},
     "output_type": "execute_result"
    }
   ],
   "execution_count": 13
  },
  {
   "cell_type": "markdown",
   "id": "a60205ca",
   "metadata": {},
   "source": [
    "Finally, we may search pairs in L2 distance. "
   ]
  },
  {
   "cell_type": "code",
   "id": "5ac83bea",
   "metadata": {
    "ExecuteTime": {
     "end_time": "2024-08-01T12:49:18.547818600Z",
     "start_time": "2024-08-01T12:49:17.570905200Z"
    }
   },
   "source": [
    "c_data = copy.deepcopy(data)\n",
    "test = Matching(distance=\"l2\", two_sides=False)\n",
    "result = test.execute(c_data)"
   ],
   "outputs": [],
   "execution_count": 14
  },
  {
   "cell_type": "code",
   "id": "4bf5a651",
   "metadata": {
    "ExecuteTime": {
     "end_time": "2024-08-01T12:49:18.601501400Z",
     "start_time": "2024-08-01T12:49:18.549816400Z"
    }
   },
   "source": [
    "result.resume"
   ],
   "outputs": [
    {
     "data": {
      "text/plain": "{'ATC': 202.06190052799212}"
     },
     "execution_count": 15,
     "metadata": {},
     "output_type": "execute_result"
    }
   ],
   "execution_count": 15
  },
  {
   "cell_type": "code",
   "id": "06a90f00",
   "metadata": {
    "ExecuteTime": {
     "end_time": "2024-08-01T12:49:18.645491500Z",
     "start_time": "2024-08-01T12:49:18.584597700Z"
    }
   },
   "source": [
    "result.full_data"
   ],
   "outputs": [
    {
     "data": {
      "text/plain": "      user_id  signup_month  treat  pre_spends  post_spends   age  gender  \\\n0           0             0      0       488.0   414.444444  26.0    True   \n1           1             8      1       512.5   462.222222  26.0    True   \n2           2             7      1       483.0   479.444444  25.0    True   \n3           3             0      0       501.5   424.333333  39.0    True   \n4           4             1      1       543.0   514.555556  18.0    True   \n...       ...           ...    ...         ...          ...   ...     ...   \n9995     9995            10      1       538.5   450.444444  42.0    True   \n9996     9996             0      0       500.5   430.888889  26.0    True   \n9997     9997             3      1       473.0   534.111111  22.0    True   \n9998     9998             2      1       495.0   523.222222  67.0    True   \n9999     9999             7      1       508.0   475.888889  38.0    True   \n\n      industry  user_id_matched  signup_month_matched  treat_matched  \\\n0         True               -1                    -1             -1   \n1         True             1255                     0              0   \n2         True             2691                    11              1   \n3         True               -1                    -1             -1   \n4         True              156                     0              0   \n...        ...              ...                   ...            ...   \n9995      True             2901                     0              0   \n9996      True               -1                    -1             -1   \n9997      True             4264                     1              1   \n9998      True              243                     0              0   \n9999      True             3509                    10              1   \n\n      pre_spends_matched  post_spends_matched  age_matched  gender_matched  \\\n0                   -1.0            -1.000000         -1.0            True   \n1                  473.5           416.111111         48.0            True   \n2                  506.5           427.111111         19.0            True   \n3                   -1.0            -1.000000         -1.0            True   \n4                  474.0           425.000000         29.0            True   \n...                  ...                  ...          ...             ...   \n9995               476.0           420.444444         29.0            True   \n9996                -1.0            -1.000000         -1.0            True   \n9997               534.5           515.222222         59.0            True   \n9998               482.5           426.888889         60.0            True   \n9999               479.5           437.444444         32.0            True   \n\n      industry_matched  \n0                 True  \n1                 True  \n2                 True  \n3                 True  \n4                 True  \n...                ...  \n9995              True  \n9996              True  \n9997              True  \n9998              True  \n9999              True  \n\n[10000 rows x 16 columns]"
     },
     "execution_count": 16,
     "metadata": {},
     "output_type": "execute_result"
    }
   ],
   "execution_count": 16
  }
 ],
 "metadata": {
  "kernelspec": {
   "display_name": "Python 3",
   "language": "python",
   "name": "python3"
  },
  "language_info": {
   "codemirror_mode": {
    "name": "ipython",
    "version": 3
   },
   "file_extension": ".py",
   "mimetype": "text/x-python",
   "name": "python",
   "nbconvert_exporter": "python",
   "pygments_lexer": "ipython3",
   "version": "3.10.13"
  }
 },
 "nbformat": 4,
 "nbformat_minor": 5
}

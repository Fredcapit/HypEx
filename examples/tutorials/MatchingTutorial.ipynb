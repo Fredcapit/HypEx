{
 "cells": [
  {
   "cell_type": "markdown",
   "id": "54278f8bd9a4bb39",
   "metadata": {
    "collapsed": false
   },
   "source": [
    "# Matching pipline"
   ]
  },
  {
   "cell_type": "markdown",
   "id": "de103cc6",
   "metadata": {},
   "source": [
    "The comparison method is used in statistical analysis to eliminate distortions caused by differences in the basic characteristics of the studied groups. Simply put, matching helps to make sure that the results of the experiment are really caused by the studied effect, and not by external factors.\n",
    "\n",
    "Matching is most often performed in cases where the use of a standard AB test is impossible."
   ]
  },
  {
   "cell_type": "code",
   "id": "initial_id",
   "metadata": {
    "collapsed": true,
    "ExecuteTime": {
     "end_time": "2024-08-12T11:41:03.205230200Z",
     "start_time": "2024-08-12T11:41:01.700291700Z"
    }
   },
   "source": [
    "import copy\n",
    "\n",
    "from hypex.dataset import Dataset, InfoRole, TreatmentRole, TargetRole \n",
    "from hypex import Matching"
   ],
   "outputs": [
    {
     "name": "stderr",
     "output_type": "stream",
     "text": [
      "C:\\Users\\User\\AppData\\Local\\Programs\\Python\\Python310\\lib\\site-packages\\tqdm\\auto.py:21: TqdmWarning: IProgress not found. Please update jupyter and ipywidgets. See https://ipywidgets.readthedocs.io/en/stable/user_install.html\n",
      "  from .autonotebook import tqdm as notebook_tqdm\n"
     ]
    }
   ],
   "execution_count": 1
  },
  {
   "cell_type": "markdown",
   "id": "7e41355993e9e59f",
   "metadata": {
    "collapsed": false
   },
   "source": [
    "## Data preparation \n",
    "\n",
    "It is important to mark the data fields by assigning the appropriate roles:\n",
    "\n",
    "* FeatureRole: a role for columns that contain features or predictor variables. Our split will be based on them. Applied by default if the role is not specified for the column.\n",
    "* TreatmentRole: a role for columns that show the treatment or intervention.\n",
    "* TargetRole: a role for columns that show the target or outcome variable.\n",
    "* InfoRole: a role for columns that contain information about the data, such as user IDs."
   ]
  },
  {
   "cell_type": "code",
   "id": "8abf891fc6804315",
   "metadata": {
    "collapsed": false,
    "ExecuteTime": {
     "end_time": "2024-08-12T11:41:03.289394300Z",
     "start_time": "2024-08-12T11:41:03.208312700Z"
    }
   },
   "source": [
    "data = Dataset(\n",
    "    roles={\n",
    "        \"user_id\": InfoRole(int),\n",
    "        \"treat\": TreatmentRole(int), \n",
    "        \"post_spends\": TargetRole(float), \n",
    "        \"gender\": InfoRole(), \n",
    "        \"industry\": InfoRole()\n",
    "    }, data=\"data.csv\",\n",
    ")\n",
    "data"
   ],
   "outputs": [
    {
     "data": {
      "text/plain": "      user_id  signup_month  treat  pre_spends  post_spends   age gender  \\\n0           0             0      0       488.0   414.444444   NaN      M   \n1           1             8      1       512.5   462.222222  26.0    NaN   \n2           2             7      1       483.0   479.444444  25.0      M   \n3           3             0      0       501.5   424.333333  39.0      M   \n4           4             1      1       543.0   514.555556  18.0      F   \n...       ...           ...    ...         ...          ...   ...    ...   \n9995     9995            10      1       538.5   450.444444  42.0      M   \n9996     9996             0      0       500.5   430.888889  26.0      F   \n9997     9997             3      1       473.0   534.111111  22.0      F   \n9998     9998             2      1       495.0   523.222222  67.0      F   \n9999     9999             7      1       508.0   475.888889  38.0      F   \n\n        industry  \n0     E-commerce  \n1     E-commerce  \n2      Logistics  \n3     E-commerce  \n4     E-commerce  \n...          ...  \n9995   Logistics  \n9996   Logistics  \n9997  E-commerce  \n9998  E-commerce  \n9999  E-commerce  \n\n[10000 rows x 8 columns]"
     },
     "execution_count": 2,
     "metadata": {},
     "output_type": "execute_result"
    }
   ],
   "execution_count": 2
  },
  {
   "cell_type": "code",
   "id": "4ae8c654db6f5f85",
   "metadata": {
    "collapsed": false,
    "ExecuteTime": {
     "end_time": "2024-08-12T11:41:03.367343900Z",
     "start_time": "2024-08-12T11:41:03.285382600Z"
    }
   },
   "source": [
    "data.roles"
   ],
   "outputs": [
    {
     "data": {
      "text/plain": "{'user_id': Info(<class 'int'>),\n 'treat': Treatment(<class 'int'>),\n 'post_spends': Target(<class 'float'>),\n 'gender': Info(<class 'str'>),\n 'industry': Info(<class 'str'>),\n 'signup_month': Feature(<class 'int'>),\n 'pre_spends': Feature(<class 'float'>),\n 'age': Feature(<class 'float'>)}"
     },
     "execution_count": 3,
     "metadata": {},
     "output_type": "execute_result"
    }
   ],
   "execution_count": 3
  },
  {
   "cell_type": "markdown",
   "id": "8848fdfc6e8c0f45",
   "metadata": {
    "collapsed": false
   },
   "source": [
    "## Simple Matching  \n",
    "Now matching has 4 steps: \n",
    "1. Dummy Encoder \n",
    "2. Process Mahalanobis distance \n",
    "3. Two sides pairs searching by faiss \n",
    "4. Metrics (ATT, ATC, ATE) estimation depends on your data "
   ]
  },
  {
   "cell_type": "code",
   "outputs": [
    {
     "name": "stderr",
     "output_type": "stream",
     "text": [
      "C:\\Users\\User\\PycharmProjects\\HypEx\\hypex\\dataset\\backends\\pandas_backend.py:385: FutureWarning: DataFrame.fillna with 'method' is deprecated and will raise in a future version. Use obj.ffill() or obj.bfill() instead.\n",
      "  return self.data.fillna(values, method=method, **kwargs)\n"
     ]
    }
   ],
   "source": [
    "data = data.fillna(method=\"backfill\")"
   ],
   "metadata": {
    "collapsed": false,
    "ExecuteTime": {
     "end_time": "2024-08-12T11:41:03.401417200Z",
     "start_time": "2024-08-12T11:41:03.321066200Z"
    }
   },
   "id": "26f4415157952f06",
   "execution_count": 4
  },
  {
   "cell_type": "code",
   "id": "bc7e472bbb7c2a5d",
   "metadata": {
    "collapsed": false,
    "ExecuteTime": {
     "end_time": "2024-08-12T11:41:04.248926Z",
     "start_time": "2024-08-12T11:41:03.389812400Z"
    }
   },
   "source": [
    "c_data = copy.deepcopy(data)\n",
    "test = Matching()\n",
    "result = test.execute(c_data)"
   ],
   "outputs": [],
   "execution_count": 5
  },
  {
   "cell_type": "code",
   "outputs": [
    {
     "data": {
      "text/plain": "      user_id  signup_month  treat  pre_spends  post_spends   age gender  \\\n0           0             0      0       488.0   414.444444  26.0      M   \n1           1             8      1       512.5   462.222222  26.0      M   \n2           2             7      1       483.0   479.444444  25.0      M   \n3           3             0      0       501.5   424.333333  39.0      M   \n4           4             1      1       543.0   514.555556  18.0      F   \n...       ...           ...    ...         ...          ...   ...    ...   \n9995     9995            10      1       538.5   450.444444  42.0      M   \n9996     9996             0      0       500.5   430.888889  26.0      F   \n9997     9997             3      1       473.0   534.111111  22.0      F   \n9998     9998             2      1       495.0   523.222222  67.0      F   \n9999     9999             7      1       508.0   475.888889  38.0      F   \n\n        industry  user_id_matched  signup_month_matched  treat_matched  \\\n0     E-commerce             9433                     1              1   \n1     E-commerce             5438                     0              0   \n2      Logistics             5165                     0              0   \n3     E-commerce             1735                     1              1   \n4     E-commerce              539                     0              0   \n...          ...              ...                   ...            ...   \n9995   Logistics             5893                     0              0   \n9996   Logistics             7731                     1              1   \n9997  E-commerce             7066                     0              0   \n9998  E-commerce             1885                     0              0   \n9999  E-commerce             5748                     0              0   \n\n      pre_spends_matched  post_spends_matched  age_matched gender_matched  \\\n0                  488.5           518.444444         37.0              F   \n1                  529.0           417.111111         23.0              F   \n2                  498.5           412.222222         25.0              F   \n3                  504.0           516.333333         33.0              M   \n4                  531.0           414.000000         20.0              F   \n...                  ...                  ...          ...            ...   \n9995               535.0           414.555556         40.0              M   \n9996               500.0           515.888889         25.0              M   \n9997               480.0           423.222222         22.0              F   \n9998               499.0           423.000000         67.0              F   \n9999               522.0           424.444444         36.0              M   \n\n     industry_matched  \n0           Logistics  \n1          E-commerce  \n2           Logistics  \n3           Logistics  \n4          E-commerce  \n...               ...  \n9995       E-commerce  \n9996        Logistics  \n9997        Logistics  \n9998        Logistics  \n9999       E-commerce  \n\n[10000 rows x 16 columns]"
     },
     "execution_count": 6,
     "metadata": {},
     "output_type": "execute_result"
    }
   ],
   "source": [
    "result.full_data"
   ],
   "metadata": {
    "collapsed": false,
    "ExecuteTime": {
     "end_time": "2024-08-12T11:41:04.289028600Z",
     "start_time": "2024-08-12T11:41:04.250466400Z"
    }
   },
   "id": "e2abb5c978183955",
   "execution_count": 6
  },
  {
   "cell_type": "code",
   "id": "d98c94a8b8a763e9",
   "metadata": {
    "collapsed": false,
    "ExecuteTime": {
     "end_time": "2024-08-12T11:41:04.330647Z",
     "start_time": "2024-08-12T11:41:04.283784900Z"
    }
   },
   "source": [
    "result.full_data[[\"treat\", 'treat_matched']].value_counts()"
   ],
   "outputs": [
    {
     "data": {
      "text/plain": "   treat  treat_matched  count\n0      1              0   5064\n1      0              1   4936"
     },
     "execution_count": 7,
     "metadata": {},
     "output_type": "execute_result"
    }
   ],
   "execution_count": 7
  },
  {
   "cell_type": "markdown",
   "id": "f149fb84",
   "metadata": {},
   "source": [
    "**ATT** shows the difference in treated group.   \n",
    "**ATC** shows the difference in untreated group.   \n",
    "**ATE** shows the weighted average difference between ATT and ATC.   "
   ]
  },
  {
   "cell_type": "code",
   "id": "8bc40d37",
   "metadata": {
    "ExecuteTime": {
     "end_time": "2024-08-12T11:41:04.346686Z",
     "start_time": "2024-08-12T11:41:04.331649300Z"
    }
   },
   "source": [
    "result.resume"
   ],
   "outputs": [
    {
     "data": {
      "text/plain": "         ATT        ATC        ATE\n0  64.343019  96.354156  80.553459"
     },
     "execution_count": 8,
     "metadata": {},
     "output_type": "execute_result"
    }
   ],
   "execution_count": 8
  },
  {
   "cell_type": "code",
   "outputs": [
    {
     "data": {
      "text/plain": "      FaissNearestNeighbors┴┴\n0                        9433\n1                        5438\n2                        5165\n3                        1735\n4                         539\n...                       ...\n9995                     5893\n9996                     7731\n9997                     7066\n9998                     1885\n9999                     5748\n\n[10000 rows x 1 columns]"
     },
     "execution_count": 9,
     "metadata": {},
     "output_type": "execute_result"
    }
   ],
   "source": [
    "result.indexes"
   ],
   "metadata": {
    "collapsed": false,
    "ExecuteTime": {
     "end_time": "2024-08-12T11:41:04.418761300Z",
     "start_time": "2024-08-12T11:41:04.345683Z"
    }
   },
   "id": "103478c4d6855abc",
   "execution_count": 9
  },
  {
   "cell_type": "markdown",
   "id": "3ad7a444",
   "metadata": {},
   "source": [
    "We can change **metric** and do estimation again."
   ]
  },
  {
   "cell_type": "code",
   "id": "e22f6e1d",
   "metadata": {
    "ExecuteTime": {
     "end_time": "2024-08-12T11:41:05.804502100Z",
     "start_time": "2024-08-12T11:41:04.382230200Z"
    }
   },
   "source": [
    "c_data = copy.deepcopy(data)\n",
    "test = Matching(metric=\"atc\")\n",
    "result = test.execute(c_data)"
   ],
   "outputs": [],
   "execution_count": 10
  },
  {
   "cell_type": "code",
   "id": "60424009",
   "metadata": {
    "ExecuteTime": {
     "end_time": "2024-08-12T11:41:05.829180Z",
     "start_time": "2024-08-12T11:41:05.807528400Z"
    }
   },
   "source": [
    "result.resume"
   ],
   "outputs": [
    {
     "data": {
      "text/plain": "         ATC\n0  96.354156"
     },
     "execution_count": 11,
     "metadata": {},
     "output_type": "execute_result"
    }
   ],
   "execution_count": 11
  },
  {
   "cell_type": "code",
   "id": "3d9045c0",
   "metadata": {
    "ExecuteTime": {
     "end_time": "2024-08-12T11:41:05.950145400Z",
     "start_time": "2024-08-12T11:41:05.826181600Z"
    }
   },
   "source": [
    "result.full_data"
   ],
   "outputs": [
    {
     "data": {
      "text/plain": "      user_id  signup_month  treat  pre_spends  post_spends   age gender  \\\n0           0             0      0       488.0   414.444444  26.0      M   \n1           1             8      1       512.5   462.222222  26.0      M   \n2           2             7      1       483.0   479.444444  25.0      M   \n3           3             0      0       501.5   424.333333  39.0      M   \n4           4             1      1       543.0   514.555556  18.0      F   \n...       ...           ...    ...         ...          ...   ...    ...   \n9995     9995            10      1       538.5   450.444444  42.0      M   \n9996     9996             0      0       500.5   430.888889  26.0      F   \n9997     9997             3      1       473.0   534.111111  22.0      F   \n9998     9998             2      1       495.0   523.222222  67.0      F   \n9999     9999             7      1       508.0   475.888889  38.0      F   \n\n        industry  user_id_matched  signup_month_matched  treat_matched  \\\n0     E-commerce             9433                     1              1   \n1     E-commerce             5438                     0              0   \n2      Logistics             5165                     0              0   \n3     E-commerce             1735                     1              1   \n4     E-commerce              539                     0              0   \n...          ...              ...                   ...            ...   \n9995   Logistics             5893                     0              0   \n9996   Logistics             7731                     1              1   \n9997  E-commerce             7066                     0              0   \n9998  E-commerce             1885                     0              0   \n9999  E-commerce             5748                     0              0   \n\n      pre_spends_matched  post_spends_matched  age_matched gender_matched  \\\n0                  488.5           518.444444         37.0              F   \n1                  529.0           417.111111         23.0              F   \n2                  498.5           412.222222         25.0              F   \n3                  504.0           516.333333         33.0              M   \n4                  531.0           414.000000         20.0              F   \n...                  ...                  ...          ...            ...   \n9995               535.0           414.555556         40.0              M   \n9996               500.0           515.888889         25.0              M   \n9997               480.0           423.222222         22.0              F   \n9998               499.0           423.000000         67.0              F   \n9999               522.0           424.444444         36.0              M   \n\n     industry_matched  \n0           Logistics  \n1          E-commerce  \n2           Logistics  \n3           Logistics  \n4          E-commerce  \n...               ...  \n9995       E-commerce  \n9996        Logistics  \n9997        Logistics  \n9998        Logistics  \n9999       E-commerce  \n\n[10000 rows x 16 columns]"
     },
     "execution_count": 12,
     "metadata": {},
     "output_type": "execute_result"
    }
   ],
   "execution_count": 12
  },
  {
   "cell_type": "markdown",
   "id": "96a52742",
   "metadata": {},
   "source": [
    "Also, it is possible to search pairs only in **test group**. This way we have metric \"auto\" and **ATT** will be estimated. "
   ]
  },
  {
   "cell_type": "code",
   "id": "b67abd5d",
   "metadata": {
    "ExecuteTime": {
     "end_time": "2024-08-12T11:41:06.614432100Z",
     "start_time": "2024-08-12T11:41:05.928939500Z"
    }
   },
   "source": [
    "c_data = copy.deepcopy(data)\n",
    "test = Matching(two_sides=False)\n",
    "result = test.execute(c_data)"
   ],
   "outputs": [],
   "execution_count": 13
  },
  {
   "cell_type": "code",
   "id": "cc54c8f3",
   "metadata": {
    "ExecuteTime": {
     "end_time": "2024-08-12T11:41:06.638093300Z",
     "start_time": "2024-08-12T11:41:06.615512500Z"
    }
   },
   "source": [
    "result.resume"
   ],
   "outputs": [
    {
     "data": {
      "text/plain": "         ATT\n0  64.343019"
     },
     "execution_count": 14,
     "metadata": {},
     "output_type": "execute_result"
    }
   ],
   "execution_count": 14
  },
  {
   "cell_type": "code",
   "outputs": [
    {
     "data": {
      "text/plain": "   treat  treat_matched  count\n0      1              0   5064"
     },
     "execution_count": 15,
     "metadata": {},
     "output_type": "execute_result"
    }
   ],
   "source": [
    "result.full_data[[\"treat\", 'treat_matched']].value_counts()"
   ],
   "metadata": {
    "collapsed": false,
    "ExecuteTime": {
     "end_time": "2024-08-12T11:41:06.676080200Z",
     "start_time": "2024-08-12T11:41:06.636097100Z"
    }
   },
   "id": "1487ec082fbe8dfb",
   "execution_count": 15
  },
  {
   "cell_type": "code",
   "outputs": [
    {
     "data": {
      "text/plain": "      FaissNearestNeighbors┴┴\n0                          -1\n1                        5438\n2                        5165\n3                          -1\n4                         539\n...                       ...\n9995                     5893\n9996                       -1\n9997                     7066\n9998                     1885\n9999                     5748\n\n[10000 rows x 1 columns]"
     },
     "execution_count": 16,
     "metadata": {},
     "output_type": "execute_result"
    }
   ],
   "source": [
    "result.indexes"
   ],
   "metadata": {
    "collapsed": false,
    "ExecuteTime": {
     "end_time": "2024-08-12T11:41:06.768146900Z",
     "start_time": "2024-08-12T11:41:06.678071900Z"
    }
   },
   "id": "508f62229848e470",
   "execution_count": 16
  },
  {
   "cell_type": "markdown",
   "id": "a60205ca",
   "metadata": {},
   "source": [
    "Finally, we may search pairs in L2 distance. "
   ]
  },
  {
   "cell_type": "code",
   "id": "5ac83bea",
   "metadata": {
    "ExecuteTime": {
     "end_time": "2024-08-12T11:41:15.888999Z",
     "start_time": "2024-08-12T11:41:13.789875700Z"
    }
   },
   "source": [
    "c_data = copy.deepcopy(data)\n",
    "test = Matching(distance=\"l2\", two_sides=False)\n",
    "result = test.execute(c_data)"
   ],
   "outputs": [],
   "execution_count": 18
  },
  {
   "cell_type": "code",
   "id": "4bf5a651",
   "metadata": {
    "ExecuteTime": {
     "end_time": "2024-08-12T11:41:15.982008Z",
     "start_time": "2024-08-12T11:41:15.898002400Z"
    }
   },
   "source": [
    "result.resume"
   ],
   "outputs": [
    {
     "data": {
      "text/plain": "         ATT\n0  64.182315"
     },
     "execution_count": 19,
     "metadata": {},
     "output_type": "execute_result"
    }
   ],
   "execution_count": 19
  },
  {
   "cell_type": "code",
   "id": "06a90f00",
   "metadata": {
    "ExecuteTime": {
     "end_time": "2024-08-12T11:41:16.038789500Z",
     "start_time": "2024-08-12T11:41:15.918226200Z"
    }
   },
   "source": [
    "result.full_data"
   ],
   "outputs": [
    {
     "data": {
      "text/plain": "      user_id  signup_month  treat  pre_spends  post_spends   age gender  \\\n0           0             0      0       488.0   414.444444  26.0      M   \n1           1             8      1       512.5   462.222222  26.0      M   \n2           2             7      1       483.0   479.444444  25.0      M   \n3           3             0      0       501.5   424.333333  39.0      M   \n4           4             1      1       543.0   514.555556  18.0      F   \n...       ...           ...    ...         ...          ...   ...    ...   \n9995     9995            10      1       538.5   450.444444  42.0      M   \n9996     9996             0      0       500.5   430.888889  26.0      F   \n9997     9997             3      1       473.0   534.111111  22.0      F   \n9998     9998             2      1       495.0   523.222222  67.0      F   \n9999     9999             7      1       508.0   475.888889  38.0      F   \n\n        industry  user_id_matched  signup_month_matched  treat_matched  \\\n0     E-commerce              NaN                   NaN            NaN   \n1     E-commerce           2490.0                   0.0            0.0   \n2      Logistics           5493.0                   0.0            0.0   \n3     E-commerce              NaN                   NaN            NaN   \n4     E-commerce            321.0                   0.0            0.0   \n...          ...              ...                   ...            ...   \n9995   Logistics           5893.0                   0.0            0.0   \n9996   Logistics              NaN                   NaN            NaN   \n9997  E-commerce           8670.0                   0.0            0.0   \n9998  E-commerce            507.0                   0.0            0.0   \n9999  E-commerce           7155.0                   0.0            0.0   \n\n      pre_spends_matched  post_spends_matched  age_matched gender_matched  \\\n0                    NaN                  NaN          NaN            NaN   \n1                  511.5           417.444444         27.0              F   \n2                  483.0           408.000000         25.0              M   \n3                    NaN                  NaN          NaN            NaN   \n4                  538.0           421.444444         29.0              M   \n...                  ...                  ...          ...            ...   \n9995               535.0           414.555556         40.0              M   \n9996                 NaN                  NaN          NaN            NaN   \n9997               473.0           415.777778         22.0              F   \n9998               495.0           429.777778         67.0              F   \n9999               509.5           415.000000         38.0              M   \n\n     industry_matched  \n0                 NaN  \n1          E-commerce  \n2          E-commerce  \n3                 NaN  \n4          E-commerce  \n...               ...  \n9995       E-commerce  \n9996              NaN  \n9997        Logistics  \n9998        Logistics  \n9999       E-commerce  \n\n[10000 rows x 16 columns]"
     },
     "execution_count": 20,
     "metadata": {},
     "output_type": "execute_result"
    }
   ],
   "execution_count": 20
  },
  {
   "cell_type": "code",
   "outputs": [
    {
     "data": {
      "text/plain": "      FaissNearestNeighbors┴┴\n0                          -1\n1                        2490\n2                        5493\n3                          -1\n4                         321\n...                       ...\n9995                     5893\n9996                       -1\n9997                     8670\n9998                      507\n9999                     7155\n\n[10000 rows x 1 columns]"
     },
     "execution_count": 21,
     "metadata": {},
     "output_type": "execute_result"
    }
   ],
   "source": [
    "result.indexes"
   ],
   "metadata": {
    "collapsed": false,
    "ExecuteTime": {
     "end_time": "2024-08-12T11:41:16.137344Z",
     "start_time": "2024-08-12T11:41:16.027849Z"
    }
   },
   "id": "c7699f843e9d1c8",
   "execution_count": 21
  }
 ],
 "metadata": {
  "kernelspec": {
   "display_name": "Python 3",
   "language": "python",
   "name": "python3"
  },
  "language_info": {
   "codemirror_mode": {
    "name": "ipython",
    "version": 3
   },
   "file_extension": ".py",
   "mimetype": "text/x-python",
   "name": "python",
   "nbconvert_exporter": "python",
   "pygments_lexer": "ipython3",
   "version": "3.10.13"
  }
 },
 "nbformat": 4,
 "nbformat_minor": 5
}

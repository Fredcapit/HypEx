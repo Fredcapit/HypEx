{
 "cells": [
  {
   "cell_type": "markdown",
   "id": "54278f8bd9a4bb39",
   "metadata": {
    "collapsed": false
   },
   "source": [
    "# Matching pipline"
   ]
  },
  {
   "cell_type": "markdown",
   "id": "de103cc6",
   "metadata": {},
   "source": [
    "The comparison method is used in statistical analysis to eliminate distortions caused by differences in the basic characteristics of the studied groups. Simply put, matching helps to make sure that the results of the experiment are really caused by the studied effect, and not by external factors.\n",
    "\n",
    "Matching is most often performed in cases where the use of a standard AB test is impossible."
   ]
  },
  {
   "cell_type": "code",
   "id": "initial_id",
   "metadata": {
    "collapsed": true,
    "ExecuteTime": {
     "end_time": "2024-07-30T15:45:48.811408300Z",
     "start_time": "2024-07-30T15:45:47.377902500Z"
    }
   },
   "source": [
    "import copy\n",
    "\n",
    "from hypex.dataset import Dataset, InfoRole, TreatmentRole, TargetRole \n",
    "from hypex.experiments.matching import Matching"
   ],
   "outputs": [
    {
     "name": "stderr",
     "output_type": "stream",
     "text": [
      "C:\\Users\\User\\AppData\\Local\\Programs\\Python\\Python310\\lib\\site-packages\\tqdm\\auto.py:21: TqdmWarning: IProgress not found. Please update jupyter and ipywidgets. See https://ipywidgets.readthedocs.io/en/stable/user_install.html\n",
      "  from .autonotebook import tqdm as notebook_tqdm\n"
     ]
    }
   ],
   "execution_count": 1
  },
  {
   "cell_type": "markdown",
   "id": "7e41355993e9e59f",
   "metadata": {
    "collapsed": false
   },
   "source": [
    "## Data preparation \n",
    "\n",
    "It is important to mark the data fields by assigning the appropriate roles:\n",
    "\n",
    "* FeatureRole: a role for columns that contain features or predictor variables. Our split will be based on them. Applied by default if the role is not specified for the column.\n",
    "* TreatmentRole: a role for columns that show the treatment or intervention.\n",
    "* TargetRole: a role for columns that show the target or outcome variable.\n",
    "* InfoRole: a role for columns that contain information about the data, such as user IDs."
   ]
  },
  {
   "cell_type": "code",
   "id": "8abf891fc6804315",
   "metadata": {
    "collapsed": false,
    "ExecuteTime": {
     "end_time": "2024-07-30T15:45:48.877003Z",
     "start_time": "2024-07-30T15:45:48.813636500Z"
    }
   },
   "source": [
    "data = Dataset(\n",
    "    roles={\n",
    "        \"user_id\": InfoRole(int),\n",
    "        \"treat\": TreatmentRole(int), \n",
    "        \"post_spends\": TargetRole(float)\n",
    "    }, data=\"data.csv\",\n",
    ")\n",
    "data"
   ],
   "outputs": [
    {
     "data": {
      "text/plain": "      user_id  signup_month  treat  pre_spends  post_spends   age gender  \\\n0           0             0      0       488.0   414.444444   NaN      M   \n1           1             8      1       512.5   462.222222  26.0    NaN   \n2           2             7      1       483.0   479.444444  25.0      M   \n3           3             0      0       501.5   424.333333  39.0      M   \n4           4             1      1       543.0   514.555556  18.0      F   \n...       ...           ...    ...         ...          ...   ...    ...   \n9995     9995            10      1       538.5   450.444444  42.0      M   \n9996     9996             0      0       500.5   430.888889  26.0      F   \n9997     9997             3      1       473.0   534.111111  22.0      F   \n9998     9998             2      1       495.0   523.222222  67.0      F   \n9999     9999             7      1       508.0   475.888889  38.0      F   \n\n        industry  \n0     E-commerce  \n1     E-commerce  \n2      Logistics  \n3     E-commerce  \n4     E-commerce  \n...          ...  \n9995   Logistics  \n9996   Logistics  \n9997  E-commerce  \n9998  E-commerce  \n9999  E-commerce  \n\n[10000 rows x 8 columns]"
     },
     "execution_count": 2,
     "metadata": {},
     "output_type": "execute_result"
    }
   ],
   "execution_count": 2
  },
  {
   "cell_type": "code",
   "id": "4ae8c654db6f5f85",
   "metadata": {
    "collapsed": false,
    "ExecuteTime": {
     "end_time": "2024-07-30T15:45:48.917393500Z",
     "start_time": "2024-07-30T15:45:48.878073400Z"
    }
   },
   "source": [
    "data.roles"
   ],
   "outputs": [
    {
     "data": {
      "text/plain": "{'user_id': Info(<class 'int'>),\n 'treat': Treatment(<class 'int'>),\n 'post_spends': Target(<class 'float'>),\n 'signup_month': Feature(<class 'int'>),\n 'pre_spends': Feature(<class 'float'>),\n 'age': Feature(<class 'float'>),\n 'gender': Feature(<class 'str'>),\n 'industry': Feature(<class 'str'>)}"
     },
     "execution_count": 3,
     "metadata": {},
     "output_type": "execute_result"
    }
   ],
   "execution_count": 3
  },
  {
   "cell_type": "markdown",
   "id": "8848fdfc6e8c0f45",
   "metadata": {
    "collapsed": false
   },
   "source": [
    "## Simple Matching  \n",
    "Now matching has 4 steps: \n",
    "1. Dummy Encoder \n",
    "2. Process Mahalanobis distance \n",
    "3. Two sides pairs searching by faiss \n",
    "4. Metrics (ATT, ATC, ATE) estimation depends on your data "
   ]
  },
  {
   "cell_type": "code",
   "id": "bc7e472bbb7c2a5d",
   "metadata": {
    "collapsed": false,
    "ExecuteTime": {
     "end_time": "2024-07-30T15:45:49.344393500Z",
     "start_time": "2024-07-30T15:45:48.895977300Z"
    }
   },
   "source": [
    "c_data = copy.deepcopy(data)\n",
    "test = Matching()\n",
    "result = test.execute(c_data)"
   ],
   "outputs": [],
   "execution_count": 4
  },
  {
   "cell_type": "code",
   "id": "d98c94a8b8a763e9",
   "metadata": {
    "collapsed": false,
    "ExecuteTime": {
     "end_time": "2024-07-30T15:45:49.397475900Z",
     "start_time": "2024-07-30T15:45:49.349174900Z"
    }
   },
   "source": [
    "result.full_data[\"user_id_matched\"].value_counts()"
   ],
   "outputs": [
    {
     "data": {
      "text/plain": "    user_id_matched  count\n0                -1   5336\n1              5020    706\n2              4969    482\n3              4737    338\n4              4861    320\n5              4995    297\n6              4743    288\n7              4810    280\n8              4902    274\n9              4924    270\n10             4912    227\n11             4931    207\n12             5032    167\n13             5007    165\n14             5053    156\n15             5042    141\n16             4974    130\n17                1     58\n18                8     54\n19                0     37\n20             5048     11\n21             5014      7\n22             4913      4\n23             4791      3\n24             4869      3\n25             5046      2\n26             4897      2\n27             4887      2\n28             5062      2\n29             4850      2\n30              863      2\n31             1116      2\n32             4857      2\n33             4866      1\n34             4745      1\n35                2      1\n36               13      1\n37              721      1\n38              834      1\n39             1115      1\n40             1131      1\n41             1135      1\n42             1136      1\n43             4929      1\n44             4759      1\n45             4793      1\n46             4918      1\n47             4914      1\n48             4799      1\n49             4818      1\n50             4911      1\n51             4910      1\n52             4823      1\n53             4839      1\n54             4879      1\n55             4863      1"
     },
     "execution_count": 5,
     "metadata": {},
     "output_type": "execute_result"
    }
   ],
   "execution_count": 5
  },
  {
   "cell_type": "markdown",
   "id": "f149fb84",
   "metadata": {},
   "source": [
    "**ATT** shows the difference in treated group.   \n",
    "**ATC** shows the difference in untreated group.   \n",
    "**ATE** shows the weighted average difference between ATT and ATC.   "
   ]
  },
  {
   "cell_type": "code",
   "id": "8bc40d37",
   "metadata": {
    "ExecuteTime": {
     "end_time": "2024-07-30T15:45:49.399701600Z",
     "start_time": "2024-07-30T15:45:49.376726100Z"
    }
   },
   "source": [
    "result.resume"
   ],
   "outputs": [
    {
     "data": {
      "text/plain": "{'ATT': 210.45662254637134,\n 'ATC': 253.84537914691947,\n 'ATE': 232.4286888888889}"
     },
     "execution_count": 6,
     "metadata": {},
     "output_type": "execute_result"
    }
   ],
   "execution_count": 6
  },
  {
   "cell_type": "markdown",
   "id": "3ad7a444",
   "metadata": {},
   "source": [
    "We can change **metric** and do estimation again."
   ]
  },
  {
   "cell_type": "code",
   "id": "e22f6e1d",
   "metadata": {
    "ExecuteTime": {
     "end_time": "2024-07-30T15:45:49.803524400Z",
     "start_time": "2024-07-30T15:45:49.397475900Z"
    }
   },
   "source": [
    "c_data = copy.deepcopy(data)\n",
    "test = Matching(metric=\"atc\")\n",
    "result = test.execute(c_data)"
   ],
   "outputs": [],
   "execution_count": 7
  },
  {
   "cell_type": "code",
   "id": "60424009",
   "metadata": {
    "ExecuteTime": {
     "end_time": "2024-07-30T15:45:49.828123700Z",
     "start_time": "2024-07-30T15:45:49.809466700Z"
    }
   },
   "source": [
    "result.resume"
   ],
   "outputs": [
    {
     "data": {
      "text/plain": "{'ATC': 268.6681586800071}"
     },
     "execution_count": 8,
     "metadata": {},
     "output_type": "execute_result"
    }
   ],
   "execution_count": 8
  },
  {
   "cell_type": "code",
   "id": "3d9045c0",
   "metadata": {
    "ExecuteTime": {
     "end_time": "2024-07-30T15:45:49.859851400Z",
     "start_time": "2024-07-30T15:45:49.824925500Z"
    }
   },
   "source": [
    "result.full_data"
   ],
   "outputs": [
    {
     "data": {
      "text/plain": "      user_id  signup_month  treat  pre_spends  post_spends   age gender  \\\n0           0             0      0       488.0   414.444444   NaN      M   \n1           1             8      1       512.5   462.222222  26.0    NaN   \n2           2             7      1       483.0   479.444444  25.0      M   \n3           3             0      0       501.5   424.333333  39.0      M   \n4           4             1      1       543.0   514.555556  18.0      F   \n...       ...           ...    ...         ...          ...   ...    ...   \n9995     9995            10      1       538.5   450.444444  42.0      M   \n9996     9996             0      0       500.5   430.888889  26.0      F   \n9997     9997             3      1       473.0   534.111111  22.0      F   \n9998     9998             2      1       495.0   523.222222  67.0      F   \n9999     9999             7      1       508.0   475.888889  38.0      F   \n\n      industry  user_id_matched  signup_month_matched  treat_matched  \\\n0         True             4861                     0              0   \n1         True             5032                    10              1   \n2         True               -1                    -1             -1   \n3         True             4810                     8              1   \n4         True             5020                     7              1   \n...        ...              ...                   ...            ...   \n9995      True               -1                    -1             -1   \n9996      True               -1                    -1             -1   \n9997      True               -1                    -1             -1   \n9998      True               -1                    -1             -1   \n9999      True               -1                    -1             -1   \n\n      pre_spends_matched  post_spends_matched  age_matched gender_matched  \\\n0                  495.0           417.333333         61.0            NaN   \n1                  500.0           447.666667         20.0           True   \n2                   -1.0            -1.000000         -1.0           True   \n3                  481.0           480.444444          NaN              M   \n4                  479.0           469.333333          NaN           True   \n...                  ...                  ...          ...            ...   \n9995                -1.0            -1.000000         -1.0           True   \n9996                -1.0            -1.000000         -1.0             -1   \n9997                -1.0            -1.000000         -1.0           True   \n9998                -1.0            -1.000000         -1.0           True   \n9999                -1.0            -1.000000         -1.0           True   \n\n      industry_matched  \n0                 True  \n1                 True  \n2                 True  \n3                 True  \n4                 True  \n...                ...  \n9995              True  \n9996              True  \n9997              True  \n9998              True  \n9999              True  \n\n[10000 rows x 16 columns]"
     },
     "execution_count": 9,
     "metadata": {},
     "output_type": "execute_result"
    }
   ],
   "execution_count": 9
  },
  {
   "cell_type": "markdown",
   "id": "96a52742",
   "metadata": {},
   "source": [
    "Also it is possible to search pairs only in **test group**. This way we have metric \"auto\" and **ATT** will be estimated. "
   ]
  },
  {
   "cell_type": "code",
   "id": "b67abd5d",
   "metadata": {
    "ExecuteTime": {
     "end_time": "2024-07-30T15:45:50.288225500Z",
     "start_time": "2024-07-30T15:45:49.856314300Z"
    }
   },
   "source": [
    "c_data = copy.deepcopy(data)\n",
    "test = Matching(two_sides=False)\n",
    "result = test.execute(c_data)"
   ],
   "outputs": [],
   "execution_count": 10
  },
  {
   "cell_type": "code",
   "id": "cc54c8f3",
   "metadata": {
    "ExecuteTime": {
     "end_time": "2024-07-30T15:45:50.305808300Z",
     "start_time": "2024-07-30T15:45:50.289435400Z"
    }
   },
   "source": [
    "result.resume"
   ],
   "outputs": [
    {
     "data": {
      "text/plain": "{'ATC': 210.45662254637134}"
     },
     "execution_count": 11,
     "metadata": {},
     "output_type": "execute_result"
    }
   ],
   "execution_count": 11
  },
  {
   "cell_type": "code",
   "id": "e061a49b",
   "metadata": {
    "ExecuteTime": {
     "end_time": "2024-07-30T15:45:50.353796500Z",
     "start_time": "2024-07-30T15:45:50.306858900Z"
    }
   },
   "source": [
    "result.full_data"
   ],
   "outputs": [
    {
     "data": {
      "text/plain": "      user_id  signup_month  treat  pre_spends  post_spends   age gender  \\\n0           0             0      0       488.0   414.444444   NaN      M   \n1           1             8      1       512.5   462.222222  26.0    NaN   \n2           2             7      1       483.0   479.444444  25.0      M   \n3           3             0      0       501.5   424.333333  39.0      M   \n4           4             1      1       543.0   514.555556  18.0      F   \n...       ...           ...    ...         ...          ...   ...    ...   \n9995     9995            10      1       538.5   450.444444  42.0      M   \n9996     9996             0      0       500.5   430.888889  26.0      F   \n9997     9997             3      1       473.0   534.111111  22.0      F   \n9998     9998             2      1       495.0   523.222222  67.0      F   \n9999     9999             7      1       508.0   475.888889  38.0      F   \n\n      industry  user_id_matched  signup_month_matched  treat_matched  \\\n0         True             4861                     0              0   \n1         True               -1                    -1             -1   \n2         True               -1                    -1             -1   \n3         True             4810                     8              1   \n4         True               -1                    -1             -1   \n...        ...              ...                   ...            ...   \n9995      True               -1                    -1             -1   \n9996      True               -1                    -1             -1   \n9997      True               -1                    -1             -1   \n9998      True               -1                    -1             -1   \n9999      True               -1                    -1             -1   \n\n      pre_spends_matched  post_spends_matched  age_matched gender_matched  \\\n0                  495.0           417.333333         61.0            NaN   \n1                   -1.0            -1.000000         -1.0             -1   \n2                   -1.0            -1.000000         -1.0             -1   \n3                  481.0           480.444444          NaN              M   \n4                   -1.0            -1.000000         -1.0             -1   \n...                  ...                  ...          ...            ...   \n9995                -1.0            -1.000000         -1.0             -1   \n9996                -1.0            -1.000000         -1.0             -1   \n9997                -1.0            -1.000000         -1.0             -1   \n9998                -1.0            -1.000000         -1.0             -1   \n9999                -1.0            -1.000000         -1.0             -1   \n\n      industry_matched  \n0                 True  \n1                 True  \n2                 True  \n3                 True  \n4                 True  \n...                ...  \n9995              True  \n9996              True  \n9997              True  \n9998              True  \n9999              True  \n\n[10000 rows x 16 columns]"
     },
     "execution_count": 12,
     "metadata": {},
     "output_type": "execute_result"
    }
   ],
   "execution_count": 12
  },
  {
   "cell_type": "markdown",
   "id": "a60205ca",
   "metadata": {},
   "source": [
    "Finally, we may search pairs in L2 distance. "
   ]
  },
  {
   "cell_type": "code",
   "id": "5ac83bea",
   "metadata": {
    "ExecuteTime": {
     "end_time": "2024-07-30T15:45:50.762719600Z",
     "start_time": "2024-07-30T15:45:50.337787200Z"
    }
   },
   "source": [
    "c_data = copy.deepcopy(data)\n",
    "test = Matching(distance=\"l2\", two_sides=False)\n",
    "result = test.execute(c_data)"
   ],
   "outputs": [],
   "execution_count": 13
  },
  {
   "cell_type": "code",
   "id": "4bf5a651",
   "metadata": {
    "ExecuteTime": {
     "end_time": "2024-07-30T15:45:50.777889Z",
     "start_time": "2024-07-30T15:45:50.764886600Z"
    }
   },
   "source": [
    "result.resume"
   ],
   "outputs": [
    {
     "data": {
      "text/plain": "{'ATC': 185.3725463713308}"
     },
     "execution_count": 14,
     "metadata": {},
     "output_type": "execute_result"
    }
   ],
   "execution_count": 14
  },
  {
   "cell_type": "code",
   "id": "06a90f00",
   "metadata": {
    "ExecuteTime": {
     "end_time": "2024-07-30T15:45:50.830654600Z",
     "start_time": "2024-07-30T15:45:50.779514200Z"
    }
   },
   "source": [
    "result.full_data"
   ],
   "outputs": [
    {
     "data": {
      "text/plain": "      user_id  signup_month  treat  pre_spends  post_spends   age gender  \\\n0           0             0      0       488.0   414.444444   NaN      M   \n1           1             8      1       512.5   462.222222  26.0    NaN   \n2           2             7      1       483.0   479.444444  25.0      M   \n3           3             0      0       501.5   424.333333  39.0      M   \n4           4             1      1       543.0   514.555556  18.0      F   \n...       ...           ...    ...         ...          ...   ...    ...   \n9995     9995            10      1       538.5   450.444444  42.0      M   \n9996     9996             0      0       500.5   430.888889  26.0      F   \n9997     9997             3      1       473.0   534.111111  22.0      F   \n9998     9998             2      1       495.0   523.222222  67.0      F   \n9999     9999             7      1       508.0   475.888889  38.0      F   \n\n      industry  user_id_matched  signup_month_matched  treat_matched  \\\n0         True             4737                     1              1   \n1         True               -1                    -1             -1   \n2         True               -1                    -1             -1   \n3         True             4810                     8              1   \n4         True               -1                    -1             -1   \n...        ...              ...                   ...            ...   \n9995      True               -1                    -1             -1   \n9996      True               -1                    -1             -1   \n9997      True               -1                    -1             -1   \n9998      True               -1                    -1             -1   \n9999      True               -1                    -1             -1   \n\n      pre_spends_matched  post_spends_matched  age_matched gender_matched  \\\n0                  526.5           533.111111         24.0              F   \n1                   -1.0            -1.000000         -1.0             -1   \n2                   -1.0            -1.000000         -1.0             -1   \n3                  481.0           480.444444          NaN              M   \n4                   -1.0            -1.000000         -1.0             -1   \n...                  ...                  ...          ...            ...   \n9995                -1.0            -1.000000         -1.0             -1   \n9996                -1.0            -1.000000         -1.0             -1   \n9997                -1.0            -1.000000         -1.0             -1   \n9998                -1.0            -1.000000         -1.0             -1   \n9999                -1.0            -1.000000         -1.0             -1   \n\n      industry_matched  \n0                 True  \n1                 True  \n2                 True  \n3                 True  \n4                 True  \n...                ...  \n9995              True  \n9996              True  \n9997              True  \n9998              True  \n9999              True  \n\n[10000 rows x 16 columns]"
     },
     "execution_count": 15,
     "metadata": {},
     "output_type": "execute_result"
    }
   ],
   "execution_count": 15
  }
 ],
 "metadata": {
  "kernelspec": {
   "display_name": "Python 3",
   "language": "python",
   "name": "python3"
  },
  "language_info": {
   "codemirror_mode": {
    "name": "ipython",
    "version": 3
   },
   "file_extension": ".py",
   "mimetype": "text/x-python",
   "name": "python",
   "nbconvert_exporter": "python",
   "pygments_lexer": "ipython3",
   "version": "3.10.13"
  }
 },
 "nbformat": 4,
 "nbformat_minor": 5
}

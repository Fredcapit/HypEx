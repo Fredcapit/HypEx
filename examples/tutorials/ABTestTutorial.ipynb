{
 "cells": [
  {
   "cell_type": "code",
   "execution_count": 1,
   "id": "initial_id",
   "metadata": {
    "collapsed": true,
    "ExecuteTime": {
     "end_time": "2024-07-15T14:35:15.210594600Z",
     "start_time": "2024-07-15T14:35:13.819704700Z"
    }
   },
   "outputs": [
    {
     "name": "stderr",
     "output_type": "stream",
     "text": [
      "C:\\Users\\User\\AppData\\Local\\Programs\\Python\\Python310\\lib\\site-packages\\tqdm\\auto.py:21: TqdmWarning: IProgress not found. Please update jupyter and ipywidgets. See https://ipywidgets.readthedocs.io/en/stable/user_install.html\n",
      "  from .autonotebook import tqdm as notebook_tqdm\n"
     ]
    }
   ],
   "source": [
    "from hypex.dataset import Dataset, InfoRole, TreatmentRole, TargetRole\n",
    "from hypex.experiments.ab import ABTest"
   ]
  },
  {
   "cell_type": "code",
   "execution_count": 2,
   "id": "904175ab484d1690",
   "metadata": {
    "collapsed": false,
    "ExecuteTime": {
     "end_time": "2024-07-15T14:35:15.289611900Z",
     "start_time": "2024-07-15T14:35:15.216598700Z"
    }
   },
   "outputs": [
    {
     "data": {
      "text/plain": "      user_id  signup_month  treat  pre_spends  post_spends   age gender  \\\n0           0             0      0       488.0   414.444444   NaN      M   \n1           1             8      1       512.5   462.222222  26.0    NaN   \n2           2             7      1       483.0   479.444444  25.0      M   \n3           3             0      0       501.5   424.333333  39.0      M   \n4           4             1      1       543.0   514.555556  18.0      F   \n...       ...           ...    ...         ...          ...   ...    ...   \n9995     9995            10      1       538.5   450.444444  42.0      M   \n9996     9996             0      0       500.5   430.888889  26.0      F   \n9997     9997             3      1       473.0   534.111111  22.0      F   \n9998     9998             2      1       495.0   523.222222  67.0      F   \n9999     9999             7      1       508.0   475.888889  38.0      F   \n\n        industry  \n0     E-commerce  \n1     E-commerce  \n2      Logistics  \n3     E-commerce  \n4     E-commerce  \n...          ...  \n9995   Logistics  \n9996   Logistics  \n9997  E-commerce  \n9998  E-commerce  \n9999  E-commerce  \n\n[10000 rows x 8 columns]"
     },
     "execution_count": 2,
     "metadata": {},
     "output_type": "execute_result"
    }
   ],
   "source": [
    "data = Dataset(\n",
    "    roles={\n",
    "        \"user_id\": InfoRole(int),\n",
    "        \"treat\": TreatmentRole(),\n",
    "        \"pre_spends\": TargetRole(),\n",
    "        \"post_spends\": TargetRole(), \n",
    "        \"gender\": TargetRole()\n",
    "    }, data=\"data.csv\",\n",
    ")\n",
    "data"
   ]
  },
  {
   "cell_type": "code",
   "execution_count": 3,
   "id": "a78151eca524b974",
   "metadata": {
    "collapsed": false,
    "ExecuteTime": {
     "end_time": "2024-07-15T14:35:15.316251100Z",
     "start_time": "2024-07-15T14:35:15.291860100Z"
    }
   },
   "outputs": [
    {
     "data": {
      "text/plain": "{'user_id': Info(<class 'int'>),\n 'treat': Treatment(<class 'int'>),\n 'pre_spends': Target(<class 'float'>),\n 'post_spends': Target(<class 'float'>),\n 'gender': Target(<class 'str'>),\n 'signup_month': Feature(<class 'int'>),\n 'age': Feature(<class 'float'>),\n 'industry': Feature(<class 'str'>)}"
     },
     "execution_count": 3,
     "metadata": {},
     "output_type": "execute_result"
    }
   ],
   "source": [
    "data.roles"
   ]
  },
  {
   "cell_type": "code",
   "execution_count": 8,
   "id": "a40f5762f0b37a0a",
   "metadata": {
    "collapsed": false,
    "ExecuteTime": {
     "end_time": "2024-07-15T14:55:46.771174100Z",
     "start_time": "2024-07-15T14:55:46.050699700Z"
    }
   },
   "outputs": [],
   "source": [
    "test = ABTest(additional_tests=['t-test', 'u-test', 'chi2-test'], multitest_method=\"bonferroni\")\n",
    "result = test.execute(data)"
   ]
  },
  {
   "cell_type": "code",
   "execution_count": 9,
   "id": "89a8898c35681e97",
   "metadata": {
    "collapsed": false,
    "ExecuteTime": {
     "end_time": "2024-07-15T14:55:47.653090400Z",
     "start_time": "2024-07-15T14:55:47.610406400Z"
    }
   },
   "outputs": [
    {
     "data": {
      "text/plain": "       feature group TTest pass  TTest p-value UTest pass  UTest p-value  \\\n0   pre_spends     0     NOT OK   2.315047e-30     NOT OK   7.624263e-12   \n1  post_spends     0     NOT OK   0.000000e+00     NOT OK   0.000000e+00   \n2       gender     0        NaN            NaN        NaN            NaN   \n\n  Chi2Test pass  Chi2Test p-value  \n0           NaN               NaN  \n1           NaN               NaN  \n2            OK          0.351553  "
     },
     "execution_count": 9,
     "metadata": {},
     "output_type": "execute_result"
    }
   ],
   "source": [
    "result.resume"
   ]
  },
  {
   "cell_type": "code",
   "outputs": [
    {
     "data": {
      "text/plain": "   correction   new p-value   old p-value  rejected\n0         2.0  4.630095e-30  2.315047e-30      True\n1         0.0  0.000000e+00  0.000000e+00      True"
     },
     "execution_count": 10,
     "metadata": {},
     "output_type": "execute_result"
    }
   ],
   "source": [
    "result.multitest"
   ],
   "metadata": {
    "collapsed": false,
    "ExecuteTime": {
     "end_time": "2024-07-15T14:55:49.403741900Z",
     "start_time": "2024-07-15T14:55:49.369719700Z"
    }
   },
   "id": "1da993761313d8d8",
   "execution_count": 10
  },
  {
   "cell_type": "code",
   "outputs": [
    {
     "data": {
      "text/plain": "                                    0\ncontrol size              4936.000000\ntest size                 5064.000000\ncontrol size %              49.360000\ntest size %                 50.640000\npre_spends control mean    484.911973\npre_spends test mean       489.220379\npre_spends difference        4.308406\npre_spends difference %      0.888492\npost_spends control mean   420.046619\npost_spends test mean      483.470664\npost_spends difference      63.424045\npost_spends difference %    15.099287"
     },
     "execution_count": 11,
     "metadata": {},
     "output_type": "execute_result"
    }
   ],
   "source": [
    "result.difference"
   ],
   "metadata": {
    "collapsed": false,
    "ExecuteTime": {
     "end_time": "2024-07-15T14:55:52.247012Z",
     "start_time": "2024-07-15T14:55:52.227011400Z"
    }
   },
   "id": "b00ce69047322b24",
   "execution_count": 11
  }
 ],
 "metadata": {
  "kernelspec": {
   "display_name": "Python 3",
   "language": "python",
   "name": "python3"
  },
  "language_info": {
   "codemirror_mode": {
    "name": "ipython",
    "version": 3
   },
   "file_extension": ".py",
   "mimetype": "text/x-python",
   "name": "python",
   "nbconvert_exporter": "python",
   "pygments_lexer": "ipython3",
   "version": "3.10.13"
  }
 },
 "nbformat": 4,
 "nbformat_minor": 5
}

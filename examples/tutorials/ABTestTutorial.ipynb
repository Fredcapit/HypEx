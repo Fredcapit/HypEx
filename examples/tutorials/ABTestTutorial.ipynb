{
 "cells": [
  {
   "cell_type": "markdown",
   "id": "50ff2e6b",
   "metadata": {},
   "source": [
    "# AB test \n",
    "\n",
    "A/B testing is the research method that allows you to find out the effect of a particular change in the product. The study shows which of the two versions of the product or offer gives greater effect on the selected metrics and if it is statistically significant.  "
   ]
  },
  {
   "metadata": {},
   "cell_type": "markdown",
   "source": [
    "<ul>\n",
    "  <li><a href=\"#creation-of-a-new-test-dataset-with-synthetic-data\">Creation of a new test dataset with synthetic data.\n",
    "  <li><a href=\"#ab-test\">AB test.\n",
    "  <li><a href=\"#additional-tests-in-ab-test\">Additional tests in AB Test.\n",
    "  <li><a href=\"#abn-test\">ABn Test.\n",
    "</ul>"
   ],
   "id": "ab8ebd06f7131e18"
  },
  {
   "cell_type": "code",
   "id": "initial_id",
   "metadata": {
    "collapsed": true,
    "ExecuteTime": {
     "end_time": "2024-08-30T12:48:52.244194Z",
     "start_time": "2024-08-30T12:48:52.155931Z"
    }
   },
   "source": [
    "import random\n",
    "\n",
    "from hypex.dataset import Dataset, InfoRole, TreatmentRole, TargetRole\n",
    "from hypex import ABTest"
   ],
   "outputs": [],
   "execution_count": 17
  },
  {
   "cell_type": "markdown",
   "id": "494ea582",
   "metadata": {},
   "source": [
    "## Creation of a new test dataset with synthetic data. \n",
    "\n",
    "In order to be able to work with our data in HypEx, first we need to convert it into `dataset`. It is important to mark the data fields by assigning the appropriate `roles`:\n",
    "- FeatureRole: a role for columns that contain features or predictor variables. Our split will be based on them. Applied by default if the role is not specified for the column.\n",
    "- TreatmentRole: a role for columns that show the treatment or intervention.\n",
    "- TargetRole: a role for columns that show the target or outcome variable.\n",
    "- InfoRole: a role for columns that contain information about the data, such as user IDs. "
   ]
  },
  {
   "cell_type": "code",
   "id": "904175ab484d1690",
   "metadata": {
    "collapsed": false,
    "ExecuteTime": {
     "end_time": "2024-08-30T12:48:52.604174Z",
     "start_time": "2024-08-30T12:48:52.326044Z"
    }
   },
   "source": [
    "data = Dataset(\n",
    "    roles={\n",
    "        \"user_id\": InfoRole(int),\n",
    "        \"treat\": TreatmentRole(),\n",
    "        \"pre_spends\": TargetRole(),\n",
    "        \"post_spends\": TargetRole(), \n",
    "        \"gender\": TargetRole()\n",
    "    }, data=\"data.csv\",\n",
    ")\n",
    "data"
   ],
   "outputs": [
    {
     "data": {
      "text/plain": [
       "      user_id  signup_month  treat  pre_spends  post_spends   age gender  \\\n",
       "0           0             0      0       488.0   414.444444   NaN      M   \n",
       "1           1             8      1       512.5   462.222222  26.0    NaN   \n",
       "2           2             7      1       483.0   479.444444  25.0      M   \n",
       "3           3             0      0       501.5   424.333333  39.0      M   \n",
       "4           4             1      1       543.0   514.555556  18.0      F   \n",
       "...       ...           ...    ...         ...          ...   ...    ...   \n",
       "9995     9995            10      1       538.5   450.444444  42.0      M   \n",
       "9996     9996             0      0       500.5   430.888889  26.0      F   \n",
       "9997     9997             3      1       473.0   534.111111  22.0      F   \n",
       "9998     9998             2      1       495.0   523.222222  67.0      F   \n",
       "9999     9999             7      1       508.0   475.888889  38.0      F   \n",
       "\n",
       "        industry  \n",
       "0     E-commerce  \n",
       "1     E-commerce  \n",
       "2      Logistics  \n",
       "3     E-commerce  \n",
       "4     E-commerce  \n",
       "...          ...  \n",
       "9995   Logistics  \n",
       "9996   Logistics  \n",
       "9997  E-commerce  \n",
       "9998  E-commerce  \n",
       "9999  E-commerce  \n",
       "\n",
       "[10000 rows x 8 columns]"
      ]
     },
     "execution_count": 18,
     "metadata": {},
     "output_type": "execute_result"
    }
   ],
   "execution_count": 18
  },
  {
   "metadata": {
    "ExecuteTime": {
     "end_time": "2024-08-30T12:48:53.776771Z",
     "start_time": "2024-08-30T12:48:52.611810Z"
    }
   },
   "cell_type": "code",
   "source": [
    "data[\"treat\"] = [random.choice([0, 1, 2]) for _ in range(len(data))]\n",
    "data"
   ],
   "id": "ec0659f2c8de40d9",
   "outputs": [
    {
     "data": {
      "text/plain": [
       "      user_id  signup_month  treat  pre_spends  post_spends   age gender  \\\n",
       "0           0             0      0       488.0   414.444444   NaN      M   \n",
       "1           1             8      1       512.5   462.222222  26.0    NaN   \n",
       "2           2             7      0       483.0   479.444444  25.0      M   \n",
       "3           3             0      1       501.5   424.333333  39.0      M   \n",
       "4           4             1      1       543.0   514.555556  18.0      F   \n",
       "...       ...           ...    ...         ...          ...   ...    ...   \n",
       "9995     9995            10      0       538.5   450.444444  42.0      M   \n",
       "9996     9996             0      1       500.5   430.888889  26.0      F   \n",
       "9997     9997             3      1       473.0   534.111111  22.0      F   \n",
       "9998     9998             2      2       495.0   523.222222  67.0      F   \n",
       "9999     9999             7      2       508.0   475.888889  38.0      F   \n",
       "\n",
       "        industry  \n",
       "0     E-commerce  \n",
       "1     E-commerce  \n",
       "2      Logistics  \n",
       "3     E-commerce  \n",
       "4     E-commerce  \n",
       "...          ...  \n",
       "9995   Logistics  \n",
       "9996   Logistics  \n",
       "9997  E-commerce  \n",
       "9998  E-commerce  \n",
       "9999  E-commerce  \n",
       "\n",
       "[10000 rows x 8 columns]"
      ]
     },
     "execution_count": 19,
     "metadata": {},
     "output_type": "execute_result"
    }
   ],
   "execution_count": 19
  },
  {
   "metadata": {},
   "cell_type": "markdown",
   "source": "The roles' data types can be assigned automatically as shown below. Also, the fields, which were not marked, receive Feature role by default.",
   "id": "534aa48fa0686e28"
  },
  {
   "cell_type": "code",
   "id": "a78151eca524b974",
   "metadata": {
    "collapsed": false,
    "ExecuteTime": {
     "end_time": "2024-08-30T12:48:54.164264Z",
     "start_time": "2024-08-30T12:48:53.781117Z"
    }
   },
   "source": "data.roles",
   "outputs": [
    {
     "data": {
      "text/plain": [
       "{'user_id': Info(<class 'int'>),\n",
       " 'treat': Treatment(<class 'int'>),\n",
       " 'pre_spends': Target(<class 'float'>),\n",
       " 'post_spends': Target(<class 'float'>),\n",
       " 'gender': Target(<class 'str'>),\n",
       " 'signup_month': Default(<class 'int'>),\n",
       " 'age': Default(<class 'float'>),\n",
       " 'industry': Default(<class 'str'>)}"
      ]
     },
     "execution_count": 20,
     "metadata": {},
     "output_type": "execute_result"
    }
   ],
   "execution_count": 20
  },
  {
   "cell_type": "markdown",
   "id": "b019412e",
   "metadata": {},
   "source": [
    "## AB test\n",
    "Then we select one of the pre-assembled pipelines, in our case `ABTest`. Also, a custom pipline can be created based on your specific needs and requirements with custom executors.\n",
    "After that we wrap our prepared `dataset` into `ExperimentData` to be able to run experiments on it and then execute the test with this data passed as the argument."
   ]
  },
  {
   "cell_type": "code",
   "id": "28f08947",
   "metadata": {
    "ExecuteTime": {
     "end_time": "2024-08-30T12:48:54.914609Z",
     "start_time": "2024-08-30T12:48:54.171832Z"
    }
   },
   "source": [
    "test = ABTest()\n",
    "result = test.execute(data)"
   ],
   "outputs": [],
   "execution_count": 21
  },
  {
   "metadata": {},
   "cell_type": "markdown",
   "source": [
    "### Experiment results\n",
    "To show the report with summary of the test we run the `resume` method of the output of the experiment.\n",
    "\n",
    "It displays the results of the test in the form of a table with the following columns:\n",
    "- `feature`: name of the target feature, change of which we want to analyze.\n",
    "- `group`: name of the test group we compare with the control group.\n",
    "- `TTest pass`: result of the TTest, if it is significant or not.\n",
    "- `TTest p-value`: p-value of the TTest shows the probability of obtaining the result when the null hypothesis is true. The lower the value the more significant the result is.\n",
    "- `control mean`: the mean of the feature value across the control group.\n",
    "- `test mean`: the mean of the feature value across the test group.\n",
    "- `difference`: the difference between the mean of the test group and the mean of the control group.\n",
    "- `difference %`: the normalized difference between the mean of the test group and the mean of the control group."
   ],
   "id": "42f1e26f1725cd11"
  },
  {
   "cell_type": "code",
   "id": "89f9b9fe",
   "metadata": {
    "ExecuteTime": {
     "end_time": "2024-08-30T12:48:55.694617Z",
     "start_time": "2024-08-30T12:48:54.920041Z"
    }
   },
   "source": [
    "result.resume"
   ],
   "outputs": [
    {
     "data": {
      "text/plain": [
       "       feature group TTest pass  TTest p-value  control mean   test mean  \\\n",
       "0   pre_spends     1     NOT OK       0.576411    487.613588  486.325171   \n",
       "1  post_spends     1     NOT OK       0.783023    487.613588  487.354620   \n",
       "\n",
       "   difference  difference %  \n",
       "0   -1.288418     -0.264229  \n",
       "1   -0.258969     -0.053109  "
      ]
     },
     "execution_count": 22,
     "metadata": {},
     "output_type": "execute_result"
    }
   ],
   "execution_count": 22
  },
  {
   "metadata": {},
   "cell_type": "markdown",
   "source": [
    "The method sizes shows the statistics on the groups of the data.\n",
    "\n",
    "The columns are:\n",
    "- `control size`: the size of the control group.\n",
    "- `test size`: the size of the test group.\n",
    "- `control size %`: the share of the control group in the whole dataset.\n",
    "- `test size %`: the share of the test group in the whole dataset.\n",
    "- `group`: name of the test group."
   ],
   "id": "2e226d84456a869b"
  },
  {
   "cell_type": "code",
   "id": "4227dbff",
   "metadata": {
    "ExecuteTime": {
     "end_time": "2024-08-30T12:48:56.474329Z",
     "start_time": "2024-08-30T12:48:55.699888Z"
    }
   },
   "source": [
    "result.sizes "
   ],
   "outputs": [
    {
     "data": {
      "text/plain": [
       "         control size  test size  control size %  test size % group\n",
       "1┆treat          3369       3312              50           49     1\n",
       "2┆treat          3369       3319              50           49     2"
      ]
     },
     "execution_count": 23,
     "metadata": {},
     "output_type": "execute_result"
    }
   ],
   "execution_count": 23
  },
  {
   "cell_type": "code",
   "id": "b735d944",
   "metadata": {
    "ExecuteTime": {
     "end_time": "2024-08-30T12:48:56.894326Z",
     "start_time": "2024-08-30T12:48:56.479145Z"
    }
   },
   "source": [
    "result.multitest"
   ],
   "outputs": [
    {
     "data": {
      "text/plain": [
       "\"There was less than three groups or multitest method wasn't provided\""
      ]
     },
     "execution_count": 24,
     "metadata": {},
     "output_type": "execute_result"
    }
   ],
   "execution_count": 24
  },
  {
   "cell_type": "markdown",
   "id": "ff2808fb",
   "metadata": {},
   "source": [
    "## Additional tests in AB Test \n",
    "\n",
    "It is possible to add u-test and chi2-test in pipline. "
   ]
  },
  {
   "cell_type": "code",
   "id": "a40f5762f0b37a0a",
   "metadata": {
    "collapsed": false,
    "ExecuteTime": {
     "end_time": "2024-08-30T12:48:58.034711Z",
     "start_time": "2024-08-30T12:48:56.899702Z"
    }
   },
   "source": [
    "test = ABTest(additional_tests=['t-test', 'u-test', 'chi2-test'])\n",
    "result = test.execute(data)"
   ],
   "outputs": [],
   "execution_count": 25
  },
  {
   "metadata": {},
   "cell_type": "markdown",
   "source": [
    "The additional columns are:\n",
    "- `UTest pass`: result of the UTest, if it is significant or not.\n",
    "- `UTest p-value`: p-value of the UTest shows the probability of obtaining the result when the null hypothesis is true. The lower the value the more significant the result is.\n",
    "- `Chi2Test pass`: result of the Chi2Test, if it is significant or not.\n",
    "- `Chi2Test p-value`: p-value of the Chi2Test shows the probability of obtaining the result when the null hypothesis is true. The lower the value the more significant the result is."
   ],
   "id": "6e7bc5567108e810"
  },
  {
   "cell_type": "code",
   "id": "89a8898c35681e97",
   "metadata": {
    "collapsed": false,
    "ExecuteTime": {
     "end_time": "2024-08-30T12:48:58.454442Z",
     "start_time": "2024-08-30T12:48:58.039199Z"
    }
   },
   "source": [
    "result.resume"
   ],
   "outputs": [
    {
     "data": {
      "text/plain": [
       "       feature group TTest pass  TTest p-value UTest pass  UTest p-value  \\\n",
       "0   pre_spends     1     NOT OK       0.576411     NOT OK       0.615054   \n",
       "1  post_spends     1     NOT OK       0.783023     NOT OK       0.883306   \n",
       "\n",
       "  Chi2Test pass  Chi2Test p-value  control mean   test mean  difference  \\\n",
       "0           NaN               NaN    487.613588  486.325171   -1.288418   \n",
       "1           NaN               NaN    487.613588  487.354620   -0.258969   \n",
       "\n",
       "   difference %  \n",
       "0     -0.264229  \n",
       "1     -0.053109  "
      ]
     },
     "execution_count": 26,
     "metadata": {},
     "output_type": "execute_result"
    }
   ],
   "execution_count": 26
  },
  {
   "cell_type": "code",
   "id": "1da993761313d8d8",
   "metadata": {
    "collapsed": false,
    "ExecuteTime": {
     "end_time": "2024-08-30T12:48:58.846231Z",
     "start_time": "2024-08-30T12:48:58.464737Z"
    }
   },
   "source": [
    "result.multitest"
   ],
   "outputs": [
    {
     "data": {
      "text/plain": [
       "\"There was less than three groups or multitest method wasn't provided\""
      ]
     },
     "execution_count": 27,
     "metadata": {},
     "output_type": "execute_result"
    }
   ],
   "execution_count": 27
  },
  {
   "cell_type": "code",
   "id": "c11137e6c10eb0dc",
   "metadata": {
    "collapsed": false,
    "ExecuteTime": {
     "end_time": "2024-08-30T12:48:59.124527Z",
     "start_time": "2024-08-30T12:48:58.854819Z"
    }
   },
   "source": [
    "result.sizes"
   ],
   "outputs": [
    {
     "data": {
      "text/plain": [
       "          control size  test size  control size %  test size % group\n",
       "1┆gender          3369       3312              50           49     1\n",
       "2┆gender          3369       3319              50           49     2"
      ]
     },
     "execution_count": 28,
     "metadata": {},
     "output_type": "execute_result"
    }
   ],
   "execution_count": 28
  },
  {
   "cell_type": "markdown",
   "id": "ec0a7734",
   "metadata": {},
   "source": [
    "## ABn Test \n",
    "\n",
    "Finally, we may run multiple ab tests with different methods."
   ]
  },
  {
   "cell_type": "code",
   "id": "5921c9e2",
   "metadata": {
    "ExecuteTime": {
     "end_time": "2024-08-30T12:48:59.628861Z",
     "start_time": "2024-08-30T12:48:59.129773Z"
    }
   },
   "source": [
    "test = ABTest(multitest_method=\"bonferroni\")\n",
    "result = test.execute(data)"
   ],
   "outputs": [],
   "execution_count": 29
  },
  {
   "cell_type": "code",
   "id": "952d21c6",
   "metadata": {
    "ExecuteTime": {
     "end_time": "2024-08-30T12:48:59.965596Z",
     "start_time": "2024-08-30T12:48:59.633542Z"
    }
   },
   "source": [
    "result.resume"
   ],
   "outputs": [
    {
     "data": {
      "text/plain": [
       "       feature group TTest pass  TTest p-value  control mean   test mean  \\\n",
       "0   pre_spends     1     NOT OK       0.576411    487.613588  486.325171   \n",
       "1  post_spends     1     NOT OK       0.783023    487.613588  487.354620   \n",
       "\n",
       "   difference  difference %  \n",
       "0   -1.288418     -0.264229  \n",
       "1   -0.258969     -0.053109  "
      ]
     },
     "execution_count": 30,
     "metadata": {},
     "output_type": "execute_result"
    }
   ],
   "execution_count": 30
  },
  {
   "cell_type": "code",
   "id": "ad59dec9",
   "metadata": {
    "ExecuteTime": {
     "end_time": "2024-08-30T12:49:00.399444Z",
     "start_time": "2024-08-30T12:48:59.971084Z"
    }
   },
   "source": [
    "result.sizes"
   ],
   "outputs": [
    {
     "data": {
      "text/plain": [
       "          control size  test size  control size %  test size % group\n",
       "1┆gender          3369       3312              50           49     1\n",
       "2┆gender          3369       3319              50           49     2"
      ]
     },
     "execution_count": 31,
     "metadata": {},
     "output_type": "execute_result"
    }
   ],
   "execution_count": 31
  },
  {
   "cell_type": "code",
   "id": "7849230a",
   "metadata": {
    "ExecuteTime": {
     "end_time": "2024-08-30T12:49:00.744383Z",
     "start_time": "2024-08-30T12:49:00.404195Z"
    }
   },
   "source": [
    "result.multitest"
   ],
   "outputs": [
    {
     "data": {
      "text/plain": [
       "   correction        field  new p-value  old p-value  rejected   test group\n",
       "0    0.250000   pre_spends     0.021479     0.005370      True  TTest     1\n",
       "1    0.576411  post_spends     1.000000     0.576411     False  TTest     1\n",
       "2    0.910593   pre_spends     1.000000     0.910593     False  TTest     2\n",
       "3    0.783023  post_spends     1.000000     0.783023     False  TTest     2"
      ]
     },
     "execution_count": 32,
     "metadata": {},
     "output_type": "execute_result"
    }
   ],
   "execution_count": 32
  }
 ],
 "metadata": {
  "kernelspec": {
   "display_name": "Python 3",
   "language": "python",
   "name": "python3"
  },
  "language_info": {
   "codemirror_mode": {
    "name": "ipython",
    "version": 3
   },
   "file_extension": ".py",
   "mimetype": "text/x-python",
   "name": "python",
   "nbconvert_exporter": "python",
   "pygments_lexer": "ipython3",
   "version": "3.10.13"
  }
 },
 "nbformat": 4,
 "nbformat_minor": 5
}

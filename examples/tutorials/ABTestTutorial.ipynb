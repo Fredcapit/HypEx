{
 "cells": [
  {
   "cell_type": "code",
   "execution_count": 17,
   "id": "initial_id",
   "metadata": {
    "collapsed": true,
    "ExecuteTime": {
     "end_time": "2024-07-16T15:17:43.051373900Z",
     "start_time": "2024-07-16T15:17:42.992492800Z"
    }
   },
   "outputs": [],
   "source": [
    "from hypex.dataset import Dataset, InfoRole, TreatmentRole, TargetRole\n",
    "from hypex.experiments.ab import ABTest"
   ]
  },
  {
   "cell_type": "code",
   "execution_count": 18,
   "id": "904175ab484d1690",
   "metadata": {
    "collapsed": false,
    "ExecuteTime": {
     "end_time": "2024-07-16T15:17:43.179214700Z",
     "start_time": "2024-07-16T15:17:43.062414200Z"
    }
   },
   "outputs": [
    {
     "data": {
      "text/plain": "      user_id  signup_month  treat  pre_spends  post_spends   age gender  \\\n0           0             0    0.0       488.0   414.444444   NaN      M   \n1           1             8    1.0       512.5   462.222222  26.0    NaN   \n2           2             7    1.0       483.0   479.444444  25.0      M   \n3           3             0    1.0       501.5   424.333333  39.0      M   \n4           4             1    2.0       543.0   514.555556  18.0      F   \n...       ...           ...    ...         ...          ...   ...    ...   \n9995     9995            10    1.0       538.5   450.444444  42.0      M   \n9996     9996             0    0.0       500.5   430.888889  26.0      F   \n9997     9997             3    1.0       473.0   534.111111  22.0      F   \n9998     9998             2    1.0       495.0   523.222222  67.0      F   \n9999     9999             7    1.0       508.0   475.888889  38.0      F   \n\n        industry  \n0     E-commerce  \n1     E-commerce  \n2      Logistics  \n3     E-commerce  \n4     E-commerce  \n...          ...  \n9995   Logistics  \n9996   Logistics  \n9997  E-commerce  \n9998  E-commerce  \n9999  E-commerce  \n\n[10000 rows x 8 columns]"
     },
     "execution_count": 18,
     "metadata": {},
     "output_type": "execute_result"
    }
   ],
   "source": [
    "data = Dataset(\n",
    "    roles={\n",
    "        \"user_id\": InfoRole(int),\n",
    "        \"treat\": TreatmentRole(),\n",
    "        \"pre_spends\": TargetRole(),\n",
    "        \"post_spends\": TargetRole(), \n",
    "        \"gender\": TargetRole()\n",
    "    }, data=\"data1.csv\",\n",
    ")\n",
    "data"
   ]
  },
  {
   "cell_type": "code",
   "execution_count": 19,
   "id": "a78151eca524b974",
   "metadata": {
    "collapsed": false,
    "ExecuteTime": {
     "end_time": "2024-07-16T15:17:43.197527300Z",
     "start_time": "2024-07-16T15:17:43.176218500Z"
    }
   },
   "outputs": [
    {
     "data": {
      "text/plain": "{'user_id': Info(<class 'int'>),\n 'treat': Treatment(<class 'float'>),\n 'pre_spends': Target(<class 'float'>),\n 'post_spends': Target(<class 'float'>),\n 'gender': Target(<class 'str'>),\n 'signup_month': Feature(<class 'int'>),\n 'age': Feature(<class 'float'>),\n 'industry': Feature(<class 'str'>)}"
     },
     "execution_count": 19,
     "metadata": {},
     "output_type": "execute_result"
    }
   ],
   "source": [
    "data.roles"
   ]
  },
  {
   "cell_type": "code",
   "execution_count": 25,
   "id": "a40f5762f0b37a0a",
   "metadata": {
    "collapsed": false,
    "ExecuteTime": {
     "end_time": "2024-07-16T15:18:51.400780200Z",
     "start_time": "2024-07-16T15:18:49.697653200Z"
    }
   },
   "outputs": [],
   "source": [
    "test = ABTest(additional_tests=['t-test', 'u-test', 'chi2-test'], multitest_method=\"quantile\")\n",
    "result = test.execute(data)"
   ]
  },
  {
   "cell_type": "code",
   "execution_count": 26,
   "id": "89a8898c35681e97",
   "metadata": {
    "collapsed": false,
    "ExecuteTime": {
     "end_time": "2024-07-16T15:18:52.809051400Z",
     "start_time": "2024-07-16T15:18:52.774007900Z"
    }
   },
   "outputs": [
    {
     "data": {
      "text/plain": "       feature group TTest pass  TTest p-value UTest pass  UTest p-value  \\\n0   pre_spends     0     NOT OK   7.053045e-03         OK       0.070003   \n1  post_spends     0     NOT OK   6.358305e-13         OK       0.109575   \n2       gender     0        NaN            NaN        NaN            NaN   \n\n  Chi2Test pass  Chi2Test p-value  \n0           NaN               NaN  \n1           NaN               NaN  \n2            OK          0.828765  "
     },
     "execution_count": 26,
     "metadata": {},
     "output_type": "execute_result"
    }
   ],
   "source": [
    "result.resume"
   ]
  },
  {
   "cell_type": "code",
   "outputs": [
    {
     "data": {
      "text/plain": "         field accepted hypothesis\n0   pre_spends                   3\n0  post_spends                   2"
     },
     "execution_count": 27,
     "metadata": {},
     "output_type": "execute_result"
    }
   ],
   "source": [
    "result.multitest"
   ],
   "metadata": {
    "collapsed": false,
    "ExecuteTime": {
     "end_time": "2024-07-16T15:18:53.404215100Z",
     "start_time": "2024-07-16T15:18:53.380585700Z"
    }
   },
   "id": "1da993761313d8d8",
   "execution_count": 27
  },
  {
   "cell_type": "code",
   "outputs": [
    {
     "data": {
      "text/plain": "   control mean   test mean  difference  difference % group        field\n0    484.898499  489.220115    4.321615      0.891241     1   pre_spends\n0    484.898499  501.000000   16.101501      3.320592     1  post_spends\n0    420.046779  483.463479   63.416700     15.097533     2   pre_spends\n0    420.046779  440.571429   20.524650      4.886277     2  post_spends"
     },
     "execution_count": 28,
     "metadata": {},
     "output_type": "execute_result"
    }
   ],
   "source": [
    "result.difference"
   ],
   "metadata": {
    "collapsed": false,
    "ExecuteTime": {
     "end_time": "2024-07-16T15:19:06.942463Z",
     "start_time": "2024-07-16T15:19:06.915625100Z"
    }
   },
   "id": "b00ce69047322b24",
   "execution_count": 28
  },
  {
   "cell_type": "code",
   "outputs": [
    {
     "data": {
      "text/plain": "   control size  test size  control size %  test size % group\n0          4931       5061              49           50     1\n0          4931          7              99            0     2"
     },
     "execution_count": 24,
     "metadata": {},
     "output_type": "execute_result"
    }
   ],
   "source": [
    "result.sizes"
   ],
   "metadata": {
    "collapsed": false,
    "ExecuteTime": {
     "end_time": "2024-07-16T15:17:44.448994Z",
     "start_time": "2024-07-16T15:17:44.408569600Z"
    }
   },
   "id": "c11137e6c10eb0dc",
   "execution_count": 24
  }
 ],
 "metadata": {
  "kernelspec": {
   "display_name": "Python 3",
   "language": "python",
   "name": "python3"
  },
  "language_info": {
   "codemirror_mode": {
    "name": "ipython",
    "version": 3
   },
   "file_extension": ".py",
   "mimetype": "text/x-python",
   "name": "python",
   "nbconvert_exporter": "python",
   "pygments_lexer": "ipython3",
   "version": "3.10.13"
  }
 },
 "nbformat": 4,
 "nbformat_minor": 5
}

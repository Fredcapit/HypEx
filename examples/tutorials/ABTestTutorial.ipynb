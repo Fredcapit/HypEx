{
 "cells": [
  {
   "cell_type": "code",
   "execution_count": 3,
   "id": "initial_id",
   "metadata": {
    "ExecuteTime": {
     "end_time": "2024-07-16T15:17:43.051373900Z",
     "start_time": "2024-07-16T15:17:42.992492800Z"
    },
    "collapsed": true
   },
   "outputs": [],
   "source": [
    "from hypex.dataset import Dataset, InfoRole, TreatmentRole, TargetRole\n",
    "from hypex.experiments.ab import ABTest"
   ]
  },
  {
   "cell_type": "code",
   "execution_count": 4,
   "id": "904175ab484d1690",
   "metadata": {
    "ExecuteTime": {
     "end_time": "2024-07-16T15:17:43.179214700Z",
     "start_time": "2024-07-16T15:17:43.062414200Z"
    },
    "collapsed": false
   },
   "outputs": [
    {
     "data": {
      "text/plain": [
       "      user_id  signup_month  treat  pre_spends  post_spends   age gender  \\\n",
       "0           0             0      0       488.0   414.444444   NaN      M   \n",
       "1           1             8      1       512.5   462.222222  26.0    NaN   \n",
       "2           2             7      1       483.0   479.444444  25.0      M   \n",
       "3           3             0      0       501.5   424.333333  39.0      M   \n",
       "4           4             1      1       543.0   514.555556  18.0      F   \n",
       "...       ...           ...    ...         ...          ...   ...    ...   \n",
       "9995     9995            10      1       538.5   450.444444  42.0      M   \n",
       "9996     9996             0      0       500.5   430.888889  26.0      F   \n",
       "9997     9997             3      1       473.0   534.111111  22.0      F   \n",
       "9998     9998             2      1       495.0   523.222222  67.0      F   \n",
       "9999     9999             7      1       508.0   475.888889  38.0      F   \n",
       "\n",
       "        industry  \n",
       "0     E-commerce  \n",
       "1     E-commerce  \n",
       "2      Logistics  \n",
       "3     E-commerce  \n",
       "4     E-commerce  \n",
       "...          ...  \n",
       "9995   Logistics  \n",
       "9996   Logistics  \n",
       "9997  E-commerce  \n",
       "9998  E-commerce  \n",
       "9999  E-commerce  \n",
       "\n",
       "[10000 rows x 8 columns]"
      ]
     },
     "execution_count": 4,
     "metadata": {},
     "output_type": "execute_result"
    }
   ],
   "source": [
    "data = Dataset(\n",
    "    roles={\n",
    "        \"user_id\": InfoRole(int),\n",
    "        \"treat\": TreatmentRole(),\n",
    "        \"pre_spends\": TargetRole(),\n",
    "        \"post_spends\": TargetRole(), \n",
    "        \"gender\": TargetRole()\n",
    "    }, data=\"data.csv\",\n",
    ")\n",
    "data"
   ]
  },
  {
   "cell_type": "code",
   "execution_count": 5,
   "id": "a78151eca524b974",
   "metadata": {
    "ExecuteTime": {
     "end_time": "2024-07-16T15:17:43.197527300Z",
     "start_time": "2024-07-16T15:17:43.176218500Z"
    },
    "collapsed": false
   },
   "outputs": [
    {
     "data": {
      "text/plain": [
       "{'user_id': Info(<class 'int'>),\n",
       " 'treat': Treatment(<class 'int'>),\n",
       " 'pre_spends': Target(<class 'float'>),\n",
       " 'post_spends': Target(<class 'float'>),\n",
       " 'gender': Target(<class 'str'>),\n",
       " 'signup_month': Feature(<class 'int'>),\n",
       " 'age': Feature(<class 'float'>),\n",
       " 'industry': Feature(<class 'str'>)}"
      ]
     },
     "execution_count": 5,
     "metadata": {},
     "output_type": "execute_result"
    }
   ],
   "source": [
    "data.roles"
   ]
  },
  {
   "cell_type": "code",
   "execution_count": 6,
   "id": "a40f5762f0b37a0a",
   "metadata": {
    "ExecuteTime": {
     "end_time": "2024-07-16T15:18:51.400780200Z",
     "start_time": "2024-07-16T15:18:49.697653200Z"
    },
    "collapsed": false
   },
   "outputs": [],
   "source": [
    "test = ABTest(additional_tests=['t-test', 'u-test', 'chi2-test'])\n",
    "result = test.execute(data)"
   ]
  },
  {
   "cell_type": "code",
   "execution_count": 7,
   "id": "89a8898c35681e97",
   "metadata": {
    "ExecuteTime": {
     "end_time": "2024-07-16T15:18:52.809051400Z",
     "start_time": "2024-07-16T15:18:52.774007900Z"
    },
    "collapsed": false
   },
   "outputs": [
    {
     "data": {
      "text/plain": [
       "       feature group TTest pass  TTest p-value UTest pass  UTest p-value  \\\n",
       "0   pre_spends     0         OK       0.117942         OK       0.116867   \n",
       "1  post_spends     0         OK       0.956834         OK       0.949912   \n",
       "2       gender     0        NaN            NaN        NaN            NaN   \n",
       "\n",
       "  Chi2Test pass  Chi2Test p-value  \n",
       "0           NaN               NaN  \n",
       "1           NaN               NaN  \n",
       "2            OK               1.0  "
      ]
     },
     "execution_count": 7,
     "metadata": {},
     "output_type": "execute_result"
    }
   ],
   "source": [
    "result.resume"
   ]
  },
  {
   "cell_type": "code",
   "execution_count": 8,
   "id": "1da993761313d8d8",
   "metadata": {
    "ExecuteTime": {
     "end_time": "2024-07-16T15:18:53.404215100Z",
     "start_time": "2024-07-16T15:18:53.380585700Z"
    },
    "collapsed": false
   },
   "outputs": [
    {
     "data": {
      "text/plain": [
       "\"There was less than three groups or multitest mathod wasn't provided\""
      ]
     },
     "execution_count": 8,
     "metadata": {},
     "output_type": "execute_result"
    }
   ],
   "source": [
    "result.multitest"
   ]
  },
  {
   "cell_type": "code",
   "execution_count": 9,
   "id": "b00ce69047322b24",
   "metadata": {
    "ExecuteTime": {
     "end_time": "2024-07-16T15:19:06.942463Z",
     "start_time": "2024-07-16T15:19:06.915625100Z"
    },
    "collapsed": false
   },
   "outputs": [
    {
     "data": {
      "text/plain": [
       "   control mean   test mean  difference  difference % group        field\n",
       "0    484.920637  489.220379    4.299743      0.886690     1   pre_spends\n",
       "0    484.920637  470.666667  -14.253970     -2.939444     1  post_spends\n",
       "0    420.046760  483.470664   63.423904     15.099249     2   pre_spends\n",
       "0    420.046760  419.814815   -0.231945     -0.055219     2  post_spends"
      ]
     },
     "execution_count": 9,
     "metadata": {},
     "output_type": "execute_result"
    }
   ],
   "source": [
    "result.difference"
   ]
  },
  {
   "cell_type": "code",
   "execution_count": 10,
   "id": "c11137e6c10eb0dc",
   "metadata": {
    "ExecuteTime": {
     "end_time": "2024-07-16T15:17:44.448994Z",
     "start_time": "2024-07-16T15:17:44.408569600Z"
    },
    "collapsed": false
   },
   "outputs": [
    {
     "data": {
      "text/plain": [
       "   control size  test size  control size %  test size % group\n",
       "0          4933       5064              49           50     1\n",
       "0          4933          3              99            0     2"
      ]
     },
     "execution_count": 10,
     "metadata": {},
     "output_type": "execute_result"
    }
   ],
   "source": [
    "result.sizes"
   ]
  },
  {
   "cell_type": "code",
   "execution_count": 11,
   "id": "5921c9e2",
   "metadata": {},
   "outputs": [],
   "source": [
    "test = ABTest(multitest_method=\"bonferroni\")\n",
    "result = test.execute(data)"
   ]
  },
  {
   "cell_type": "code",
   "execution_count": 12,
   "id": "952d21c6",
   "metadata": {},
   "outputs": [
    {
     "data": {
      "text/plain": [
       "       feature group TTest pass  TTest p-value\n",
       "0   pre_spends     0         OK       0.117942\n",
       "1  post_spends     0         OK       0.956834"
      ]
     },
     "execution_count": 12,
     "metadata": {},
     "output_type": "execute_result"
    }
   ],
   "source": [
    "result.resume"
   ]
  },
  {
   "cell_type": "code",
   "execution_count": 13,
   "id": "ad59dec9",
   "metadata": {},
   "outputs": [
    {
     "data": {
      "text/plain": [
       "   control size  test size  control size %  test size % group\n",
       "0          4933       5064              49           50     1\n",
       "0          4933          3              99            0     2"
      ]
     },
     "execution_count": 13,
     "metadata": {},
     "output_type": "execute_result"
    }
   ],
   "source": [
    "result.sizes"
   ]
  },
  {
   "cell_type": "code",
   "execution_count": 14,
   "id": "24b8194f",
   "metadata": {},
   "outputs": [
    {
     "data": {
      "text/plain": [
       "   control mean   test mean  difference  difference % group        field\n",
       "0    484.920637  489.220379    4.299743      0.886690     1   pre_spends\n",
       "0    484.920637  470.666667  -14.253970     -2.939444     1  post_spends\n",
       "0    420.046760  483.470664   63.423904     15.099249     2   pre_spends\n",
       "0    420.046760  419.814815   -0.231945     -0.055219     2  post_spends"
      ]
     },
     "execution_count": 14,
     "metadata": {},
     "output_type": "execute_result"
    }
   ],
   "source": [
    "result.difference"
   ]
  },
  {
   "cell_type": "code",
   "execution_count": 15,
   "id": "7849230a",
   "metadata": {},
   "outputs": [
    {
     "data": {
      "text/plain": [
       "   correction        field   new p-value   old p-value  rejected   test group\n",
       "0    0.250000   pre_spends  1.230538e-29  3.076345e-30      True  TTest     1\n",
       "1    0.250000  post_spends  4.717694e-01  1.179423e-01     False  TTest     1\n",
       "2    0.000000   pre_spends  0.000000e+00  0.000000e+00      True  TTest     2\n",
       "3    0.956834  post_spends  1.000000e+00  9.568340e-01     False  TTest     2"
      ]
     },
     "execution_count": 15,
     "metadata": {},
     "output_type": "execute_result"
    }
   ],
   "source": [
    "result.multitest"
   ]
  }
 ],
 "metadata": {
  "kernelspec": {
   "display_name": "Python 3",
   "language": "python",
   "name": "python3"
  },
  "language_info": {
   "codemirror_mode": {
    "name": "ipython",
    "version": 3
   },
   "file_extension": ".py",
   "mimetype": "text/x-python",
   "name": "python",
   "nbconvert_exporter": "python",
   "pygments_lexer": "ipython3",
   "version": "3.10.13"
  }
 },
 "nbformat": 4,
 "nbformat_minor": 5
}

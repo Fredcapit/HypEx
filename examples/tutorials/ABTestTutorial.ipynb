{
 "cells": [
  {
   "cell_type": "code",
   "execution_count": 12,
   "id": "initial_id",
   "metadata": {
    "collapsed": true,
    "ExecuteTime": {
     "end_time": "2024-07-15T11:56:42.913187600Z",
     "start_time": "2024-07-15T11:56:42.823711500Z"
    }
   },
   "outputs": [],
   "source": [
    "from hypex.dataset import Dataset, ExperimentData, InfoRole, TreatmentRole, TargetRole\n",
    "from hypex.experiments.ab import ABTest, AB_TEST"
   ]
  },
  {
   "cell_type": "code",
   "execution_count": 13,
   "id": "904175ab484d1690",
   "metadata": {
    "collapsed": false,
    "ExecuteTime": {
     "end_time": "2024-07-15T11:56:42.936920700Z",
     "start_time": "2024-07-15T11:56:42.850517300Z"
    }
   },
   "outputs": [
    {
     "data": {
      "text/plain": "      user_id  signup_month  treat  pre_spends  post_spends   age gender  \\\n0           0             0      0       488.0   414.444444   NaN      M   \n1           1             8      1       512.5   462.222222  26.0    NaN   \n2           2             7      1       483.0   479.444444  25.0      M   \n3           3             0      0       501.5   424.333333  39.0      M   \n4           4             1      1       543.0   514.555556  18.0      F   \n...       ...           ...    ...         ...          ...   ...    ...   \n9995     9995            10      1       538.5   450.444444  42.0      M   \n9996     9996             0      0       500.5   430.888889  26.0      F   \n9997     9997             3      1       473.0   534.111111  22.0      F   \n9998     9998             2      1       495.0   523.222222  67.0      F   \n9999     9999             7      1       508.0   475.888889  38.0      F   \n\n        industry  \n0     E-commerce  \n1     E-commerce  \n2      Logistics  \n3     E-commerce  \n4     E-commerce  \n...          ...  \n9995   Logistics  \n9996   Logistics  \n9997  E-commerce  \n9998  E-commerce  \n9999  E-commerce  \n\n[10000 rows x 8 columns]"
     },
     "execution_count": 13,
     "metadata": {},
     "output_type": "execute_result"
    }
   ],
   "source": [
    "data = Dataset(\n",
    "    roles={\n",
    "        \"user_id\": InfoRole(int),\n",
    "        \"treat\": TreatmentRole(),\n",
    "        \"pre_spends\": TargetRole(),\n",
    "        \"post_spends\": TargetRole(), \n",
    "    }, data=\"data.csv\",\n",
    ")\n",
    "data"
   ]
  },
  {
   "cell_type": "code",
   "execution_count": 14,
   "id": "a78151eca524b974",
   "metadata": {
    "collapsed": false,
    "ExecuteTime": {
     "end_time": "2024-07-15T11:56:42.938929100Z",
     "start_time": "2024-07-15T11:56:42.927337400Z"
    }
   },
   "outputs": [
    {
     "data": {
      "text/plain": "{'user_id': Info(<class 'int'>),\n 'treat': Treatment(<class 'int'>),\n 'pre_spends': Target(<class 'float'>),\n 'post_spends': Target(<class 'float'>),\n 'signup_month': Feature(<class 'int'>),\n 'age': Feature(<class 'float'>),\n 'gender': Feature(<class 'str'>),\n 'industry': Feature(<class 'str'>)}"
     },
     "execution_count": 14,
     "metadata": {},
     "output_type": "execute_result"
    }
   ],
   "source": [
    "data.roles"
   ]
  },
  {
   "cell_type": "code",
   "execution_count": 19,
   "id": "a40f5762f0b37a0a",
   "metadata": {
    "collapsed": false,
    "ExecuteTime": {
     "end_time": "2024-07-15T11:57:04.643197200Z",
     "start_time": "2024-07-15T11:57:04.268819700Z"
    }
   },
   "outputs": [],
   "source": [
    "test = ABTest(multitest_method=\"bonferroni\")\n",
    "result = test.execute(data)"
   ]
  },
  {
   "cell_type": "code",
   "execution_count": 20,
   "id": "89a8898c35681e97",
   "metadata": {
    "collapsed": false,
    "ExecuteTime": {
     "end_time": "2024-07-15T11:57:05.180767400Z",
     "start_time": "2024-07-15T11:57:05.137861100Z"
    }
   },
   "outputs": [
    {
     "data": {
      "text/plain": "       feature group TTest pass  TTest p-value UTest pass  UTest p-value\n0   pre_spends     0     NOT OK   2.315047e-30     NOT OK   7.624263e-12\n1  post_spends     0     NOT OK   0.000000e+00     NOT OK   0.000000e+00"
     },
     "execution_count": 20,
     "metadata": {},
     "output_type": "execute_result"
    }
   ],
   "source": [
    "result.resume"
   ]
  },
  {
   "cell_type": "code",
   "outputs": [
    {
     "data": {
      "text/plain": "   new p-values  rejected\n0  4.630095e-30      True\n1  0.000000e+00      True"
     },
     "execution_count": 21,
     "metadata": {},
     "output_type": "execute_result"
    }
   ],
   "source": [
    "result.multitest"
   ],
   "metadata": {
    "collapsed": false,
    "ExecuteTime": {
     "end_time": "2024-07-15T11:57:05.960747600Z",
     "start_time": "2024-07-15T11:57:05.939049800Z"
    }
   },
   "id": "1da993761313d8d8",
   "execution_count": 21
  },
  {
   "cell_type": "code",
   "outputs": [
    {
     "data": {
      "text/plain": "{'GroupSizes┴┴':    control size  test size  control size %  test size %\n 0          4936       5064           49.36        50.64,\n 'GroupDifference┴┴pre_spends':    control mean   test mean  difference  difference %\n 0    484.911973  489.220379    4.308406      0.888492,\n 'TTest┴┴pre_spends':         p-value  statistic  pass\n 0  2.315047e-30 -11.489293  True,\n 'UTest┴┴pre_spends':         p-value   statistic  pass\n 0  7.624263e-12  11509971.0  True,\n 'GroupDifference┴┴post_spends':    control mean   test mean  difference  difference %\n 0    420.046619  483.470664   63.424045     15.099287,\n 'TTest┴┴post_spends':    p-value   statistic  pass\n 0      0.0 -135.560001  True,\n 'UTest┴┴post_spends':    p-value  statistic  pass\n 0      0.0   408754.5  True,\n 'ABAnalyzer┴┴MultiTest':    new p-values  rejected\n 0  4.630095e-30      True\n 1  0.000000e+00      True,\n 'ABAnalyzer┴┴':    TTest p-value  TTest pass  UTest p-value  UTest pass\n 0   1.157524e-30         1.0   3.812131e-12         1.0}"
     },
     "execution_count": 22,
     "metadata": {},
     "output_type": "execute_result"
    }
   ],
   "source": [
    "result.all_analysis_results"
   ],
   "metadata": {
    "collapsed": false,
    "ExecuteTime": {
     "end_time": "2024-07-15T11:57:59.446963100Z",
     "start_time": "2024-07-15T11:57:59.416178100Z"
    }
   },
   "id": "b00ce69047322b24",
   "execution_count": 22
  }
 ],
 "metadata": {
  "kernelspec": {
   "display_name": "Python 3",
   "language": "python",
   "name": "python3"
  },
  "language_info": {
   "codemirror_mode": {
    "name": "ipython",
    "version": 3
   },
   "file_extension": ".py",
   "mimetype": "text/x-python",
   "name": "python",
   "nbconvert_exporter": "python",
   "pygments_lexer": "ipython3",
   "version": "3.10.13"
  }
 },
 "nbformat": 4,
 "nbformat_minor": 5
}

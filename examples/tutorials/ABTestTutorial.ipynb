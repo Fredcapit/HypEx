{
 "cells": [
  {
   "cell_type": "markdown",
   "id": "50ff2e6b",
   "metadata": {},
   "source": [
    "# AB test \n",
    "\n",
    "A/B testing is a research method that allows you to find out people's reaction to any changes. The study shows which of the two versions of the product or offer is better and gives greater effect."
   ]
  },
  {
   "cell_type": "code",
   "execution_count": 2,
   "id": "initial_id",
   "metadata": {
    "collapsed": true,
    "ExecuteTime": {
     "end_time": "2024-07-19T14:01:50.783961500Z",
     "start_time": "2024-07-19T14:01:46.720221900Z"
    }
   },
   "outputs": [
    {
     "name": "stderr",
     "output_type": "stream",
     "text": [
      "C:\\Users\\User\\AppData\\Local\\Programs\\Python\\Python310\\lib\\site-packages\\tqdm\\auto.py:21: TqdmWarning: IProgress not found. Please update jupyter and ipywidgets. See https://ipywidgets.readthedocs.io/en/stable/user_install.html\n",
      "  from .autonotebook import tqdm as notebook_tqdm\n"
     ]
    }
   ],
   "source": [
    "from hypex.dataset import Dataset, InfoRole, TreatmentRole, TargetRole\n",
    "from hypex.experiments.ab import ABTest"
   ]
  },
  {
   "cell_type": "markdown",
   "id": "494ea582",
   "metadata": {},
   "source": [
    "## Creation of a new test dataset with synthetic data.\n",
    "It is important to mark the data fields by assigning the appropriate roles:\n",
    "\n",
    "* FeatureRole: a role for columns that contain features or predictor variables. Our split will be based on them. Applied by default if the role is not specified for the column.\n",
    "* TreatmentRole: a role for columns that show the treatment or intervention.\n",
    "* TargetRole: a role for columns that show the target or outcome variable.\n",
    "* InfoRole: a role for columns that contain information about the data, such as user IDs."
   ]
  },
  {
   "cell_type": "code",
   "execution_count": 3,
   "id": "904175ab484d1690",
   "metadata": {
    "collapsed": false,
    "ExecuteTime": {
     "end_time": "2024-07-19T14:01:50.959678800Z",
     "start_time": "2024-07-19T14:01:50.780951500Z"
    }
   },
   "outputs": [
    {
     "data": {
      "text/plain": "      user_id  signup_month  treat  pre_spends  post_spends   age gender  \\\n0           0             0    0.0       488.0   414.444444   NaN      M   \n1           1             8    1.0       512.5   462.222222  26.0    NaN   \n2           2             7    1.0       483.0   479.444444  25.0      M   \n3           3             0    1.0       501.5   424.333333  39.0      M   \n4           4             1    2.0       543.0   514.555556  18.0      F   \n...       ...           ...    ...         ...          ...   ...    ...   \n9995     9995            10    1.0       538.5   450.444444  42.0      M   \n9996     9996             0    0.0       500.5   430.888889  26.0      F   \n9997     9997             3    1.0       473.0   534.111111  22.0      F   \n9998     9998             2    1.0       495.0   523.222222  67.0      F   \n9999     9999             7    1.0       508.0   475.888889  38.0      F   \n\n        industry  \n0     E-commerce  \n1     E-commerce  \n2      Logistics  \n3     E-commerce  \n4     E-commerce  \n...          ...  \n9995   Logistics  \n9996   Logistics  \n9997  E-commerce  \n9998  E-commerce  \n9999  E-commerce  \n\n[10000 rows x 8 columns]"
     },
     "execution_count": 3,
     "metadata": {},
     "output_type": "execute_result"
    }
   ],
   "source": [
    "data = Dataset(\n",
    "    roles={\n",
    "        \"user_id\": InfoRole(int),\n",
    "        \"treat\": TreatmentRole(),\n",
    "        \"pre_spends\": TargetRole(),\n",
    "        \"post_spends\": TargetRole(), \n",
    "        \"gender\": TargetRole()\n",
    "    }, data=\"data1.csv\",\n",
    ")\n",
    "data"
   ]
  },
  {
   "cell_type": "code",
   "execution_count": 4,
   "id": "a78151eca524b974",
   "metadata": {
    "collapsed": false,
    "ExecuteTime": {
     "end_time": "2024-07-19T14:01:50.989810400Z",
     "start_time": "2024-07-19T14:01:50.957676900Z"
    }
   },
   "outputs": [
    {
     "data": {
      "text/plain": "{'user_id': Info(<class 'int'>),\n 'treat': Treatment(<class 'float'>),\n 'pre_spends': Target(<class 'float'>),\n 'post_spends': Target(<class 'float'>),\n 'gender': Target(<class 'str'>),\n 'signup_month': Feature(<class 'int'>),\n 'age': Feature(<class 'float'>),\n 'industry': Feature(<class 'str'>)}"
     },
     "execution_count": 4,
     "metadata": {},
     "output_type": "execute_result"
    }
   ],
   "source": [
    "data.roles"
   ]
  },
  {
   "cell_type": "markdown",
   "id": "b019412e",
   "metadata": {},
   "source": [
    "## Simple AB Test \n",
    "\n",
    "Simple pipline contains group sizes, group differences and TTest estimation. "
   ]
  },
  {
   "cell_type": "code",
   "execution_count": 5,
   "id": "28f08947",
   "metadata": {
    "ExecuteTime": {
     "end_time": "2024-07-19T14:01:51.585920700Z",
     "start_time": "2024-07-19T14:01:50.990807800Z"
    }
   },
   "outputs": [],
   "source": [
    "test = ABTest()\n",
    "result = test.execute(data)"
   ]
  },
  {
   "cell_type": "code",
   "execution_count": 6,
   "id": "89f9b9fe",
   "metadata": {
    "ExecuteTime": {
     "end_time": "2024-07-19T14:01:51.640610Z",
     "start_time": "2024-07-19T14:01:51.587920100Z"
    }
   },
   "outputs": [
    {
     "data": {
      "text/plain": "       feature group TTest pass  TTest p-value\n0   pre_spends     0     NOT OK   7.053045e-03\n1  post_spends     0     NOT OK   6.358305e-13"
     },
     "execution_count": 6,
     "metadata": {},
     "output_type": "execute_result"
    }
   ],
   "source": [
    "result.resume"
   ]
  },
  {
   "cell_type": "code",
   "execution_count": 7,
   "id": "4227dbff",
   "metadata": {
    "ExecuteTime": {
     "end_time": "2024-07-19T14:01:51.705464400Z",
     "start_time": "2024-07-19T14:01:51.620443Z"
    }
   },
   "outputs": [
    {
     "data": {
      "text/plain": "   control size  test size  control size %  test size % group\n0          4931       5061              49           50     1\n0          4931          7              99            0     2"
     },
     "execution_count": 7,
     "metadata": {},
     "output_type": "execute_result"
    }
   ],
   "source": [
    "result.sizes "
   ]
  },
  {
   "cell_type": "code",
   "execution_count": 8,
   "id": "e9f7c7e3",
   "metadata": {
    "ExecuteTime": {
     "end_time": "2024-07-19T14:01:51.708469100Z",
     "start_time": "2024-07-19T14:01:51.656850600Z"
    }
   },
   "outputs": [
    {
     "data": {
      "text/plain": "   control mean   test mean  difference  difference % group        field\n0    484.898499  489.220115    4.321615      0.891241     1   pre_spends\n0    484.898499  501.000000   16.101501      3.320592     1  post_spends\n0    420.046779  483.463479   63.416700     15.097533     2   pre_spends\n0    420.046779  440.571429   20.524650      4.886277     2  post_spends"
     },
     "execution_count": 8,
     "metadata": {},
     "output_type": "execute_result"
    }
   ],
   "source": [
    "result.difference"
   ]
  },
  {
   "cell_type": "code",
   "execution_count": 9,
   "id": "b735d944",
   "metadata": {
    "ExecuteTime": {
     "end_time": "2024-07-19T14:01:51.831024200Z",
     "start_time": "2024-07-19T14:01:51.688979800Z"
    }
   },
   "outputs": [
    {
     "data": {
      "text/plain": "\"There was less than three groups or multitest method wasn't provided\""
     },
     "execution_count": 9,
     "metadata": {},
     "output_type": "execute_result"
    }
   ],
   "source": [
    "result.multitest"
   ]
  },
  {
   "cell_type": "markdown",
   "id": "ff2808fb",
   "metadata": {},
   "source": [
    "## Additional tests in AB Test \n",
    "\n",
    "It is possible to add u-test and chi2-test in pipline. "
   ]
  },
  {
   "cell_type": "code",
   "execution_count": 10,
   "id": "a40f5762f0b37a0a",
   "metadata": {
    "collapsed": false,
    "ExecuteTime": {
     "end_time": "2024-07-19T14:01:53.100371300Z",
     "start_time": "2024-07-19T14:01:51.719227Z"
    }
   },
   "outputs": [],
   "source": [
    "test = ABTest(additional_tests=['t-test', 'u-test', 'chi2-test'])\n",
    "result = test.execute(data)"
   ]
  },
  {
   "cell_type": "code",
   "execution_count": 11,
   "id": "89a8898c35681e97",
   "metadata": {
    "collapsed": false,
    "ExecuteTime": {
     "end_time": "2024-07-19T14:01:53.192409300Z",
     "start_time": "2024-07-19T14:01:53.117385900Z"
    }
   },
   "outputs": [
    {
     "data": {
      "text/plain": "       feature group TTest pass  TTest p-value UTest pass  UTest p-value  \\\n0   pre_spends     0     NOT OK   7.053045e-03         OK       0.070003   \n1  post_spends     0     NOT OK   6.358305e-13         OK       0.109575   \n2       gender     0        NaN            NaN        NaN            NaN   \n\n  Chi2Test pass  Chi2Test p-value  \n0           NaN               NaN  \n1           NaN               NaN  \n2            OK          0.828765  "
     },
     "execution_count": 11,
     "metadata": {},
     "output_type": "execute_result"
    }
   ],
   "source": [
    "result.resume"
   ]
  },
  {
   "cell_type": "code",
   "execution_count": 12,
   "id": "1da993761313d8d8",
   "metadata": {
    "collapsed": false,
    "ExecuteTime": {
     "end_time": "2024-07-19T14:01:53.288924400Z",
     "start_time": "2024-07-19T14:01:53.191406800Z"
    }
   },
   "outputs": [
    {
     "data": {
      "text/plain": "\"There was less than three groups or multitest method wasn't provided\""
     },
     "execution_count": 12,
     "metadata": {},
     "output_type": "execute_result"
    }
   ],
   "source": [
    "result.multitest"
   ]
  },
  {
   "cell_type": "code",
   "execution_count": 13,
   "id": "b00ce69047322b24",
   "metadata": {
    "collapsed": false,
    "ExecuteTime": {
     "end_time": "2024-07-19T14:01:53.358631200Z",
     "start_time": "2024-07-19T14:01:53.268918100Z"
    }
   },
   "outputs": [
    {
     "data": {
      "text/plain": "   control mean   test mean  difference  difference % group        field\n0    484.898499  489.220115    4.321615      0.891241     1   pre_spends\n0    484.898499  501.000000   16.101501      3.320592     1  post_spends\n0    420.046779  483.463479   63.416700     15.097533     2   pre_spends\n0    420.046779  440.571429   20.524650      4.886277     2  post_spends"
     },
     "execution_count": 13,
     "metadata": {},
     "output_type": "execute_result"
    }
   ],
   "source": [
    "result.difference"
   ]
  },
  {
   "cell_type": "code",
   "execution_count": 14,
   "id": "c11137e6c10eb0dc",
   "metadata": {
    "collapsed": false,
    "ExecuteTime": {
     "end_time": "2024-07-19T14:01:53.504420400Z",
     "start_time": "2024-07-19T14:01:53.361645500Z"
    }
   },
   "outputs": [
    {
     "data": {
      "text/plain": "   control size  test size  control size %  test size % group\n0          4931       5061              49           50     1\n0          4931          7              99            0     2"
     },
     "execution_count": 14,
     "metadata": {},
     "output_type": "execute_result"
    }
   ],
   "source": [
    "result.sizes"
   ]
  },
  {
   "cell_type": "markdown",
   "id": "ec0a7734",
   "metadata": {},
   "source": [
    "## ABn Test \n",
    "\n",
    "Finally, we may estimate multiple ab test with different methods."
   ]
  },
  {
   "cell_type": "code",
   "execution_count": 15,
   "id": "5921c9e2",
   "metadata": {
    "ExecuteTime": {
     "end_time": "2024-07-19T14:01:54.076993500Z",
     "start_time": "2024-07-19T14:01:53.427147800Z"
    }
   },
   "outputs": [],
   "source": [
    "test = ABTest(multitest_method=\"bonferroni\")\n",
    "result = test.execute(data)"
   ]
  },
  {
   "cell_type": "code",
   "execution_count": 16,
   "id": "952d21c6",
   "metadata": {
    "ExecuteTime": {
     "end_time": "2024-07-19T14:01:54.146926700Z",
     "start_time": "2024-07-19T14:01:54.083999700Z"
    }
   },
   "outputs": [
    {
     "data": {
      "text/plain": "       feature group TTest pass  TTest p-value\n0   pre_spends     0     NOT OK   7.053045e-03\n1  post_spends     0     NOT OK   6.358305e-13"
     },
     "execution_count": 16,
     "metadata": {},
     "output_type": "execute_result"
    }
   ],
   "source": [
    "result.resume"
   ]
  },
  {
   "cell_type": "code",
   "execution_count": 17,
   "id": "ad59dec9",
   "metadata": {
    "ExecuteTime": {
     "end_time": "2024-07-19T14:01:54.148922400Z",
     "start_time": "2024-07-19T14:01:54.111744600Z"
    }
   },
   "outputs": [
    {
     "data": {
      "text/plain": "   control size  test size  control size %  test size % group\n0          4931       5061              49           50     1\n0          4931          7              99            0     2"
     },
     "execution_count": 17,
     "metadata": {},
     "output_type": "execute_result"
    }
   ],
   "source": [
    "result.sizes"
   ]
  },
  {
   "cell_type": "code",
   "execution_count": 18,
   "id": "24b8194f",
   "metadata": {
    "ExecuteTime": {
     "end_time": "2024-07-19T14:01:54.231815500Z",
     "start_time": "2024-07-19T14:01:54.142936400Z"
    }
   },
   "outputs": [
    {
     "data": {
      "text/plain": "   control mean   test mean  difference  difference % group        field\n0    484.898499  489.220115    4.321615      0.891241     1   pre_spends\n0    484.898499  501.000000   16.101501      3.320592     1  post_spends\n0    420.046779  483.463479   63.416700     15.097533     2   pre_spends\n0    420.046779  440.571429   20.524650      4.886277     2  post_spends"
     },
     "execution_count": 18,
     "metadata": {},
     "output_type": "execute_result"
    }
   ],
   "source": [
    "result.difference"
   ]
  },
  {
   "cell_type": "code",
   "execution_count": 19,
   "id": "7849230a",
   "metadata": {
    "ExecuteTime": {
     "end_time": "2024-07-19T14:01:54.235030300Z",
     "start_time": "2024-07-19T14:01:54.176570700Z"
    }
   },
   "outputs": [
    {
     "data": {
      "text/plain": "   correction        field   new p-value   old p-value  rejected   test group\n0        0.25   pre_spends  6.104311e-30  1.526078e-30      True  TTest     1\n1        0.25  post_spends  2.821218e-02  7.053045e-03      True  TTest     1\n2        0.00   pre_spends  0.000000e+00  0.000000e+00      True  TTest     2\n3        0.25  post_spends  2.543322e-12  6.358305e-13      True  TTest     2"
     },
     "execution_count": 19,
     "metadata": {},
     "output_type": "execute_result"
    }
   ],
   "source": [
    "result.multitest"
   ]
  }
 ],
 "metadata": {
  "kernelspec": {
   "display_name": "Python 3",
   "language": "python",
   "name": "python3"
  },
  "language_info": {
   "codemirror_mode": {
    "name": "ipython",
    "version": 3
   },
   "file_extension": ".py",
   "mimetype": "text/x-python",
   "name": "python",
   "nbconvert_exporter": "python",
   "pygments_lexer": "ipython3",
   "version": "3.10.13"
  }
 },
 "nbformat": 4,
 "nbformat_minor": 5
}

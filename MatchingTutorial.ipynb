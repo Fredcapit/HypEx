{
 "cells": [
  {
   "cell_type": "markdown",
   "id": "54278f8bd9a4bb39",
   "metadata": {
    "collapsed": false
   },
   "source": [
    "# Matching pipline"
   ]
  },
  {
   "cell_type": "code",
   "execution_count": 1,
   "id": "initial_id",
   "metadata": {
    "ExecuteTime": {
     "end_time": "2024-07-08T08:20:37.337769200Z",
     "start_time": "2024-07-08T08:20:37.287865900Z"
    },
    "collapsed": true
   },
   "outputs": [
    {
     "name": "stderr",
     "output_type": "stream",
     "text": [
      "/home/codespace/.python/current/lib/python3.10/site-packages/tqdm/auto.py:21: TqdmWarning: IProgress not found. Please update jupyter and ipywidgets. See https://ipywidgets.readthedocs.io/en/stable/user_install.html\n",
      "  from .autonotebook import tqdm as notebook_tqdm\n"
     ]
    }
   ],
   "source": [
    "from hypex.dataset import Dataset, ExperimentData, InfoRole, TreatmentRole, TargetRole \n",
    "from hypex.experiments.matching import MATCHING"
   ]
  },
  {
   "cell_type": "markdown",
   "id": "7e41355993e9e59f",
   "metadata": {
    "collapsed": false
   },
   "source": [
    "## Data preparation \n",
    "\n",
    "It is important to mark the data fields by assigning the appropriate roles:\n",
    "\n",
    "* FeatureRole: a role for columns that contain features or predictor variables. Our split will be based on them. Applied by default if the role is not specified for the column.\n",
    "* TreatmentRole: a role for columns that show the treatment or intervention.\n",
    "* TargetRole: a role for columns that show the target or outcome variable.\n",
    "* InfoRole: a role for columns that contain information about the data, such as user IDs."
   ]
  },
  {
   "cell_type": "code",
   "execution_count": 2,
   "id": "8abf891fc6804315",
   "metadata": {
    "ExecuteTime": {
     "end_time": "2024-07-08T08:20:37.401180500Z",
     "start_time": "2024-07-08T08:20:37.302120Z"
    },
    "collapsed": false
   },
   "outputs": [
    {
     "data": {
      "text/plain": [
       "      user_id  signup_month  treat  pre_spends  post_spends   age gender  \\\n",
       "0           0             0      0       488.0   414.444444   NaN      M   \n",
       "1           1             8      1       512.5   462.222222  26.0    NaN   \n",
       "2           2             7      1       483.0   479.444444  25.0      M   \n",
       "3           3             0      0       501.5   424.333333  39.0      M   \n",
       "4           4             1      1       543.0   514.555556  18.0      F   \n",
       "...       ...           ...    ...         ...          ...   ...    ...   \n",
       "9995     9995            10      1       538.5   450.444444  42.0      M   \n",
       "9996     9996             0      0       500.5   430.888889  26.0      F   \n",
       "9997     9997             3      1       473.0   534.111111  22.0      F   \n",
       "9998     9998             2      1       495.0   523.222222  67.0      F   \n",
       "9999     9999             7      1       508.0   475.888889  38.0      F   \n",
       "\n",
       "        industry  \n",
       "0     E-commerce  \n",
       "1     E-commerce  \n",
       "2      Logistics  \n",
       "3     E-commerce  \n",
       "4     E-commerce  \n",
       "...          ...  \n",
       "9995   Logistics  \n",
       "9996   Logistics  \n",
       "9997  E-commerce  \n",
       "9998  E-commerce  \n",
       "9999  E-commerce  \n",
       "\n",
       "[10000 rows x 8 columns]"
      ]
     },
     "execution_count": 2,
     "metadata": {},
     "output_type": "execute_result"
    }
   ],
   "source": [
    "data = Dataset(\n",
    "    roles={\n",
    "        \"user_id\": InfoRole(int),\n",
    "        \"treat\": TreatmentRole(int), \n",
    "        \"post_spends\": TargetRole(float)\n",
    "    }, data=\"data.csv\",\n",
    ")\n",
    "data"
   ]
  },
  {
   "cell_type": "code",
   "execution_count": 3,
   "id": "4ae8c654db6f5f85",
   "metadata": {
    "ExecuteTime": {
     "end_time": "2024-07-08T08:20:37.403410300Z",
     "start_time": "2024-07-08T08:20:37.381996300Z"
    },
    "collapsed": false
   },
   "outputs": [
    {
     "data": {
      "text/plain": [
       "{'user_id': Info(<class 'int'>),\n",
       " 'treat': Treatment(<class 'int'>),\n",
       " 'post_spends': Target(<class 'float'>),\n",
       " 'signup_month': Feature(<class 'int'>),\n",
       " 'pre_spends': Feature(<class 'float'>),\n",
       " 'age': Feature(<class 'float'>),\n",
       " 'gender': Feature(<class 'str'>),\n",
       " 'industry': Feature(<class 'str'>)}"
      ]
     },
     "execution_count": 3,
     "metadata": {},
     "output_type": "execute_result"
    }
   ],
   "source": [
    "data.roles"
   ]
  },
  {
   "cell_type": "markdown",
   "id": "8848fdfc6e8c0f45",
   "metadata": {
    "collapsed": false
   },
   "source": [
    "## Matching process  \n",
    "Now matching has 3 steps: \n",
    "1. Process Mahalanobis distance \n",
    "2. Pair search by Faiss (it is possible to find pairs for test group only)\n",
    "3. ATT, ATC, ATE estimation  \n",
    "\n",
    "**be careful: it doesn't have preprocessing**"
   ]
  },
  {
   "cell_type": "code",
   "execution_count": 4,
   "id": "bc7e472bbb7c2a5d",
   "metadata": {
    "ExecuteTime": {
     "end_time": "2024-07-08T08:20:38.161008600Z",
     "start_time": "2024-07-08T08:20:37.396528900Z"
    },
    "collapsed": false
   },
   "outputs": [],
   "source": [
    "test = MATCHING\n",
    "result = test.execute(ExperimentData(data))"
   ]
  },
  {
   "cell_type": "code",
   "execution_count": 5,
   "id": "d98c94a8b8a763e9",
   "metadata": {
    "ExecuteTime": {
     "end_time": "2024-07-08T08:20:38.228920400Z",
     "start_time": "2024-07-08T08:20:38.162020100Z"
    },
    "collapsed": false
   },
   "outputs": [
    {
     "data": {
      "text/plain": [
       "{\"MatchingMetrics┴┴['post_spends', 'post_spends_matched']\": {'ATC': 483.470664384764}}"
      ]
     },
     "execution_count": 5,
     "metadata": {},
     "output_type": "execute_result"
    }
   ],
   "source": [
    "result.variables"
   ]
  },
  {
   "cell_type": "code",
   "execution_count": 6,
   "id": "143e4292",
   "metadata": {},
   "outputs": [
    {
     "data": {
      "text/plain": [
       "{'matched_df':       user_id_matched  signup_month_matched  treat_matched  \\\n",
       " 0                4861                     0              0   \n",
       " 1                   0                     0              0   \n",
       " 2                   0                     0              0   \n",
       " 3                4810                     8              1   \n",
       " 4                   0                     0              0   \n",
       " ...               ...                   ...            ...   \n",
       " 9995                0                     0              0   \n",
       " 9996                0                     0              0   \n",
       " 9997                0                     0              0   \n",
       " 9998                0                     0              0   \n",
       " 9999                0                     0              0   \n",
       " \n",
       "       pre_spends_matched  post_spends_matched  age_matched gender_matched  \\\n",
       " 0                  495.0           417.333333         61.0            NaN   \n",
       " 1                    0.0             0.000000          0.0              0   \n",
       " 2                    0.0             0.000000          0.0              0   \n",
       " 3                  481.0           480.444444          NaN              M   \n",
       " 4                    0.0             0.000000          0.0              0   \n",
       " ...                  ...                  ...          ...            ...   \n",
       " 9995                 0.0             0.000000          0.0              0   \n",
       " 9996                 0.0             0.000000          0.0              0   \n",
       " 9997                 0.0             0.000000          0.0              0   \n",
       " 9998                 0.0             0.000000          0.0              0   \n",
       " 9999                 0.0             0.000000          0.0              0   \n",
       " \n",
       "       industry_matched  \n",
       " 0                 True  \n",
       " 1                False  \n",
       " 2                False  \n",
       " 3                 True  \n",
       " 4                False  \n",
       " ...                ...  \n",
       " 9995             False  \n",
       " 9996             False  \n",
       " 9997             False  \n",
       " 9998             False  \n",
       " 9999             False  \n",
       " \n",
       " [10000 rows x 8 columns]}"
      ]
     },
     "execution_count": 6,
     "metadata": {},
     "output_type": "execute_result"
    }
   ],
   "source": [
    "result.groups['FaissNearestNeighbors┴┴']"
   ]
  }
 ],
 "metadata": {
  "kernelspec": {
   "display_name": "Python 3",
   "language": "python",
   "name": "python3"
  },
  "language_info": {
   "codemirror_mode": {
    "name": "ipython",
    "version": 3
   },
   "file_extension": ".py",
   "mimetype": "text/x-python",
   "name": "python",
   "nbconvert_exporter": "python",
   "pygments_lexer": "ipython3",
   "version": "3.10.13"
  }
 },
 "nbformat": 4,
 "nbformat_minor": 5
}

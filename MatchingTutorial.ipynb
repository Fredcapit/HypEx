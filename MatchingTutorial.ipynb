{
 "cells": [
  {
   "cell_type": "markdown",
   "id": "54278f8bd9a4bb39",
   "metadata": {
    "collapsed": false
   },
   "source": [
    "# Matching pipline"
   ]
  },
  {
   "cell_type": "markdown",
   "id": "de103cc6",
   "metadata": {},
   "source": [
    "The comparison method is used in statistical analysis to eliminate distortions caused by differences in the basic characteristics of the studied groups. Simply put, matching helps to make sure that the results of the experiment are really caused by the studied effect, and not by external factors.\n",
    "\n",
    "Matching is most often performed in cases where the use of a standard AB test is impossible."
   ]
  },
  {
   "cell_type": "code",
   "execution_count": 1,
   "id": "initial_id",
   "metadata": {
    "ExecuteTime": {
     "end_time": "2024-08-16T18:51:29.297105Z",
     "start_time": "2024-08-16T18:51:28.145858Z"
    },
    "collapsed": true
   },
   "outputs": [],
   "source": [
    "import copy\n",
    "\n",
    "from hypex.dataset import Dataset, InfoRole, TreatmentRole, TargetRole, DefaultRole, FeatureRole\n",
    "from hypex import Matching"
   ]
  },
  {
   "cell_type": "markdown",
   "id": "7e41355993e9e59f",
   "metadata": {
    "collapsed": false
   },
   "source": [
    "## Data preparation \n",
    "\n",
    "It is important to mark the data fields by assigning the appropriate roles:\n",
    "\n",
    "* FeatureRole: a role for columns that contain features or predictor variables. Our split will be based on them. Applied by default if the role is not specified for the column.\n",
    "* TreatmentRole: a role for columns that show the treatment or intervention.\n",
    "* TargetRole: a role for columns that show the target or outcome variable.\n",
    "* InfoRole: a role for columns that contain information about the data, such as user IDs."
   ]
  },
  {
   "cell_type": "code",
   "execution_count": 2,
   "id": "8abf891fc6804315",
   "metadata": {
    "ExecuteTime": {
     "end_time": "2024-08-16T18:51:29.356226Z",
     "start_time": "2024-08-16T18:51:29.299852Z"
    },
    "collapsed": false
   },
   "outputs": [
    {
     "data": {
      "text/plain": [
       "      user_id  signup_month  treat  pre_spends  post_spends   age gender  \\\n",
       "0           0             0      0       488.0   414.444444   NaN      M   \n",
       "1           1             8      1       512.5   462.222222  26.0    NaN   \n",
       "2           2             7      1       483.0   479.444444  25.0      M   \n",
       "3           3             0      0       501.5   424.333333  39.0      M   \n",
       "4           4             1      1       543.0   514.555556  18.0      F   \n",
       "...       ...           ...    ...         ...          ...   ...    ...   \n",
       "9995     9995            10      1       538.5   450.444444  42.0      M   \n",
       "9996     9996             0      0       500.5   430.888889  26.0      F   \n",
       "9997     9997             3      1       473.0   534.111111  22.0      F   \n",
       "9998     9998             2      1       495.0   523.222222  67.0      F   \n",
       "9999     9999             7      1       508.0   475.888889  38.0      F   \n",
       "\n",
       "        industry  \n",
       "0     E-commerce  \n",
       "1     E-commerce  \n",
       "2      Logistics  \n",
       "3     E-commerce  \n",
       "4     E-commerce  \n",
       "...          ...  \n",
       "9995   Logistics  \n",
       "9996   Logistics  \n",
       "9997  E-commerce  \n",
       "9998  E-commerce  \n",
       "9999  E-commerce  \n",
       "\n",
       "[10000 rows x 8 columns]"
      ]
     },
     "execution_count": 2,
     "metadata": {},
     "output_type": "execute_result"
    }
   ],
   "source": [
    "data = Dataset(\n",
    "    roles={\n",
    "        \"user_id\": InfoRole(int),\n",
    "        \"treat\": TreatmentRole(int), \n",
    "        \"post_spends\": TargetRole(float)\n",
    "    },\n",
    "    data=\"data.csv\",\n",
    "    default_role=FeatureRole(),\n",
    ")\n",
    "data"
   ]
  },
  {
   "cell_type": "code",
   "execution_count": 3,
   "id": "4ae8c654db6f5f85",
   "metadata": {
    "ExecuteTime": {
     "end_time": "2024-08-16T18:51:29.367244Z",
     "start_time": "2024-08-16T18:51:29.358253Z"
    },
    "collapsed": false
   },
   "outputs": [
    {
     "data": {
      "text/plain": [
       "{'user_id': Info(<class 'int'>),\n",
       " 'treat': Treatment(<class 'int'>),\n",
       " 'post_spends': Target(<class 'float'>),\n",
       " 'signup_month': Feature(<class 'int'>),\n",
       " 'pre_spends': Feature(<class 'float'>),\n",
       " 'age': Feature(<class 'float'>),\n",
       " 'gender': Feature(<class 'str'>),\n",
       " 'industry': Feature(<class 'str'>)}"
      ]
     },
     "execution_count": 3,
     "metadata": {},
     "output_type": "execute_result"
    }
   ],
   "source": [
    "data.roles"
   ]
  },
  {
   "cell_type": "markdown",
   "id": "8848fdfc6e8c0f45",
   "metadata": {
    "collapsed": false
   },
   "source": [
    "## Simple Matching  \n",
    "Now matching has 4 steps: \n",
    "1. Dummy Encoder \n",
    "2. Process Mahalanobis distance \n",
    "3. Two sides pairs searching by faiss \n",
    "4. Metrics (ATT, ATC, ATE) estimation depends on your data "
   ]
  },
  {
   "cell_type": "code",
   "execution_count": 4,
   "id": "20e64ee990f83d47",
   "metadata": {
    "ExecuteTime": {
     "end_time": "2024-08-16T18:51:29.418594Z",
     "start_time": "2024-08-16T18:51:29.370416Z"
    },
    "collapsed": false
   },
   "outputs": [
    {
     "name": "stderr",
     "output_type": "stream",
     "text": [
      "/home/anathema/HypEx/hypex/dataset/backends/pandas_backend.py:390: FutureWarning: DataFrame.fillna with 'method' is deprecated and will raise in a future version. Use obj.ffill() or obj.bfill() instead.\n",
      "  return self.data.fillna(value=values, method=method, **kwargs)\n"
     ]
    }
   ],
   "source": [
    "data = data.fillna(method=\"bfill\")"
   ]
  },
  {
   "cell_type": "code",
   "execution_count": 5,
   "id": "bc7e472bbb7c2a5d",
   "metadata": {
    "ExecuteTime": {
     "end_time": "2024-08-16T18:51:30.324602Z",
     "start_time": "2024-08-16T18:51:29.421300Z"
    },
    "collapsed": false
   },
   "outputs": [],
   "source": [
    "test = Matching()\n",
    "result = test.execute(data)"
   ]
  },
  {
   "cell_type": "markdown",
   "id": "d8a47b848e13e745",
   "metadata": {
    "collapsed": false
   },
   "source": [
    "**ATT** shows the difference in treated group.   \n",
    "**ATC** shows the difference in untreated group.   \n",
    "**ATE** shows the weighted average difference between ATT and ATC.  "
   ]
  },
  {
   "cell_type": "code",
   "execution_count": 6,
   "id": "24cb598e7fbd81fd",
   "metadata": {
    "ExecuteTime": {
     "end_time": "2024-08-16T18:51:30.328127Z",
     "start_time": "2024-08-16T18:51:30.327830Z"
    },
    "collapsed": false
   },
   "outputs": [
    {
     "data": {
      "text/plain": [
       "      CI Lower   CI Upper  Effect Size  P-value  Standard Error\n",
       "ATC  93.448279  99.607710    96.527995      0.0        1.571283\n",
       "ATE  77.336831  82.987145    80.161988      0.0        1.441407\n",
       "ATT  58.574470  68.168687    63.371579      0.0        2.447505"
      ]
     },
     "execution_count": 6,
     "metadata": {},
     "output_type": "execute_result"
    }
   ],
   "source": [
    "result.resume"
   ]
  },
  {
   "cell_type": "code",
   "execution_count": 7,
   "id": "f01b67ab0e1b369d",
   "metadata": {
    "ExecuteTime": {
     "end_time": "2024-08-16T18:51:30.330185Z",
     "start_time": "2024-08-16T18:51:30.329857Z"
    },
    "collapsed": false
   },
   "outputs": [
    {
     "data": {
      "text/plain": [
       "      indexes\n",
       "0        9433\n",
       "1        5438\n",
       "2        5165\n",
       "3        1735\n",
       "4         539\n",
       "...       ...\n",
       "9995     5893\n",
       "9996     7731\n",
       "9997     7066\n",
       "9998     1885\n",
       "9999     5748\n",
       "\n",
       "[10000 rows x 1 columns]"
      ]
     },
     "execution_count": 7,
     "metadata": {},
     "output_type": "execute_result"
    }
   ],
   "source": [
    "result.indexes"
   ]
  },
  {
   "cell_type": "code",
   "execution_count": 8,
   "id": "d98c94a8b8a763e9",
   "metadata": {
    "collapsed": false
   },
   "outputs": [
    {
     "data": {
      "text/plain": [
       "      user_id  signup_month  treat  pre_spends  post_spends   age gender  \\\n",
       "0           0             0      0       488.0   414.444444  26.0      M   \n",
       "1           1             8      1       512.5   462.222222  26.0      M   \n",
       "2           2             7      1       483.0   479.444444  25.0      M   \n",
       "3           3             0      0       501.5   424.333333  39.0      M   \n",
       "4           4             1      1       543.0   514.555556  18.0      F   \n",
       "...       ...           ...    ...         ...          ...   ...    ...   \n",
       "9995     9995            10      1       538.5   450.444444  42.0      M   \n",
       "9996     9996             0      0       500.5   430.888889  26.0      F   \n",
       "9997     9997             3      1       473.0   534.111111  22.0      F   \n",
       "9998     9998             2      1       495.0   523.222222  67.0      F   \n",
       "9999     9999             7      1       508.0   475.888889  38.0      F   \n",
       "\n",
       "        industry  user_id_matched  signup_month_matched  treat_matched  \\\n",
       "0     E-commerce             9433                     1              1   \n",
       "1     E-commerce             5438                     0              0   \n",
       "2      Logistics             5165                     0              0   \n",
       "3     E-commerce             1735                     1              1   \n",
       "4     E-commerce              539                     0              0   \n",
       "...          ...              ...                   ...            ...   \n",
       "9995   Logistics             5893                     0              0   \n",
       "9996   Logistics             7731                     1              1   \n",
       "9997  E-commerce             7066                     0              0   \n",
       "9998  E-commerce             1885                     0              0   \n",
       "9999  E-commerce             5748                     0              0   \n",
       "\n",
       "      pre_spends_matched  post_spends_matched  age_matched gender_matched  \\\n",
       "0                  488.5           518.444444         37.0              F   \n",
       "1                  529.0           417.111111         23.0              F   \n",
       "2                  498.5           412.222222         25.0              F   \n",
       "3                  504.0           516.333333         33.0              M   \n",
       "4                  531.0           414.000000         20.0              F   \n",
       "...                  ...                  ...          ...            ...   \n",
       "9995               535.0           414.555556         40.0              M   \n",
       "9996               500.0           515.888889         25.0              M   \n",
       "9997               480.0           423.222222         22.0              F   \n",
       "9998               499.0           423.000000         67.0              F   \n",
       "9999               522.0           424.444444         36.0              M   \n",
       "\n",
       "     industry_matched  \n",
       "0           Logistics  \n",
       "1          E-commerce  \n",
       "2           Logistics  \n",
       "3           Logistics  \n",
       "4          E-commerce  \n",
       "...               ...  \n",
       "9995       E-commerce  \n",
       "9996        Logistics  \n",
       "9997        Logistics  \n",
       "9998        Logistics  \n",
       "9999       E-commerce  \n",
       "\n",
       "[10000 rows x 16 columns]"
      ]
     },
     "execution_count": 8,
     "metadata": {},
     "output_type": "execute_result"
    }
   ],
   "source": [
    "result.full_data"
   ]
  },
  {
   "cell_type": "markdown",
   "id": "3ad7a444",
   "metadata": {},
   "source": [
    "We can change **metric** and do estimation again."
   ]
  },
  {
   "cell_type": "code",
   "execution_count": 9,
   "id": "e22f6e1d",
   "metadata": {},
   "outputs": [],
   "source": [
    "test = Matching(metric=\"atc\")\n",
    "result = test.execute(data)"
   ]
  },
  {
   "cell_type": "code",
   "execution_count": 10,
   "id": "60424009",
   "metadata": {},
   "outputs": [
    {
     "data": {
      "text/plain": [
       "      CI Lower   CI Upper  Effect Size  P-value  Standard Error\n",
       "ATC  96.261599  96.794391    96.527995      0.0        0.135916"
      ]
     },
     "execution_count": 10,
     "metadata": {},
     "output_type": "execute_result"
    }
   ],
   "source": [
    "result.resume"
   ]
  },
  {
   "cell_type": "code",
   "execution_count": 11,
   "id": "25b5f585b9cb0776",
   "metadata": {
    "collapsed": false
   },
   "outputs": [
    {
     "data": {
      "text/plain": [
       "      indexes\n",
       "0        9433\n",
       "1          -1\n",
       "2          -1\n",
       "3        1735\n",
       "4          -1\n",
       "...       ...\n",
       "9995       -1\n",
       "9996     7731\n",
       "9997       -1\n",
       "9998       -1\n",
       "9999       -1\n",
       "\n",
       "[10000 rows x 1 columns]"
      ]
     },
     "execution_count": 11,
     "metadata": {},
     "output_type": "execute_result"
    }
   ],
   "source": [
    "result.indexes"
   ]
  },
  {
   "cell_type": "code",
   "execution_count": 12,
   "id": "3d9045c0",
   "metadata": {},
   "outputs": [
    {
     "data": {
      "text/plain": [
       "      user_id  signup_month  treat  pre_spends  post_spends   age gender  \\\n",
       "0           0             0      0       488.0   414.444444  26.0      M   \n",
       "1           1             8      1       512.5   462.222222  26.0      M   \n",
       "2           2             7      1       483.0   479.444444  25.0      M   \n",
       "3           3             0      0       501.5   424.333333  39.0      M   \n",
       "4           4             1      1       543.0   514.555556  18.0      F   \n",
       "...       ...           ...    ...         ...          ...   ...    ...   \n",
       "9995     9995            10      1       538.5   450.444444  42.0      M   \n",
       "9996     9996             0      0       500.5   430.888889  26.0      F   \n",
       "9997     9997             3      1       473.0   534.111111  22.0      F   \n",
       "9998     9998             2      1       495.0   523.222222  67.0      F   \n",
       "9999     9999             7      1       508.0   475.888889  38.0      F   \n",
       "\n",
       "        industry  user_id_matched  signup_month_matched  treat_matched  \\\n",
       "0     E-commerce           9433.0                   1.0            1.0   \n",
       "1     E-commerce              NaN                   NaN            NaN   \n",
       "2      Logistics              NaN                   NaN            NaN   \n",
       "3     E-commerce           1735.0                   1.0            1.0   \n",
       "4     E-commerce              NaN                   NaN            NaN   \n",
       "...          ...              ...                   ...            ...   \n",
       "9995   Logistics              NaN                   NaN            NaN   \n",
       "9996   Logistics           7731.0                   1.0            1.0   \n",
       "9997  E-commerce              NaN                   NaN            NaN   \n",
       "9998  E-commerce              NaN                   NaN            NaN   \n",
       "9999  E-commerce              NaN                   NaN            NaN   \n",
       "\n",
       "      pre_spends_matched  post_spends_matched  age_matched gender_matched  \\\n",
       "0                  488.5           518.444444         37.0              F   \n",
       "1                    NaN                  NaN          NaN            NaN   \n",
       "2                    NaN                  NaN          NaN            NaN   \n",
       "3                  504.0           516.333333         33.0              M   \n",
       "4                    NaN                  NaN          NaN            NaN   \n",
       "...                  ...                  ...          ...            ...   \n",
       "9995                 NaN                  NaN          NaN            NaN   \n",
       "9996               500.0           515.888889         25.0              M   \n",
       "9997                 NaN                  NaN          NaN            NaN   \n",
       "9998                 NaN                  NaN          NaN            NaN   \n",
       "9999                 NaN                  NaN          NaN            NaN   \n",
       "\n",
       "     industry_matched  \n",
       "0           Logistics  \n",
       "1                 NaN  \n",
       "2                 NaN  \n",
       "3           Logistics  \n",
       "4                 NaN  \n",
       "...               ...  \n",
       "9995              NaN  \n",
       "9996        Logistics  \n",
       "9997              NaN  \n",
       "9998              NaN  \n",
       "9999              NaN  \n",
       "\n",
       "[10000 rows x 16 columns]"
      ]
     },
     "execution_count": 12,
     "metadata": {},
     "output_type": "execute_result"
    }
   ],
   "source": [
    "result.full_data"
   ]
  },
  {
   "cell_type": "markdown",
   "id": "96a52742",
   "metadata": {},
   "source": [
    "Also it is possible to search pairs only in **test group**. This way we have metric \"auto\" and **ATT** will be estimated. "
   ]
  },
  {
   "cell_type": "code",
   "execution_count": 13,
   "id": "b67abd5d",
   "metadata": {},
   "outputs": [
    {
     "ename": "TypeError",
     "evalue": "Matching.__init__() got an unexpected keyword argument 'two_sides'",
     "output_type": "error",
     "traceback": [
      "\u001b[0;31m---------------------------------------------------------------------------\u001b[0m",
      "\u001b[0;31mTypeError\u001b[0m                                 Traceback (most recent call last)",
      "Cell \u001b[0;32mIn[13], line 1\u001b[0m\n\u001b[0;32m----> 1\u001b[0m test \u001b[38;5;241m=\u001b[39m \u001b[43mMatching\u001b[49m\u001b[43m(\u001b[49m\u001b[43mtwo_sides\u001b[49m\u001b[38;5;241;43m=\u001b[39;49m\u001b[38;5;28;43;01mFalse\u001b[39;49;00m\u001b[43m)\u001b[49m\n\u001b[1;32m      2\u001b[0m result \u001b[38;5;241m=\u001b[39m test\u001b[38;5;241m.\u001b[39mexecute(data)\n",
      "\u001b[0;31mTypeError\u001b[0m: Matching.__init__() got an unexpected keyword argument 'two_sides'"
     ]
    }
   ],
   "source": [
    "test = Matching(two_sides=False)\n",
    "result = test.execute(data)"
   ]
  },
  {
   "cell_type": "code",
   "execution_count": null,
   "id": "cc54c8f3",
   "metadata": {},
   "outputs": [],
   "source": [
    "result.resume"
   ]
  },
  {
   "cell_type": "code",
   "execution_count": null,
   "id": "501ffee15042d3ea",
   "metadata": {
    "collapsed": false
   },
   "outputs": [],
   "source": [
    "result.indexes"
   ]
  },
  {
   "cell_type": "code",
   "execution_count": null,
   "id": "e061a49b",
   "metadata": {},
   "outputs": [],
   "source": [
    "result.full_data"
   ]
  },
  {
   "cell_type": "markdown",
   "id": "a60205ca",
   "metadata": {},
   "source": [
    "Finally, we may search pairs in L2 distance. "
   ]
  },
  {
   "cell_type": "code",
   "execution_count": null,
   "id": "5ac83bea",
   "metadata": {},
   "outputs": [],
   "source": [
    "test = Matching(distance=\"l2\", two_sides=False)\n",
    "result = test.execute(data)"
   ]
  },
  {
   "cell_type": "code",
   "execution_count": null,
   "id": "4bf5a651",
   "metadata": {},
   "outputs": [],
   "source": [
    "result.resume"
   ]
  },
  {
   "cell_type": "code",
   "execution_count": null,
   "id": "c2b000183546bd56",
   "metadata": {
    "collapsed": false
   },
   "outputs": [],
   "source": [
    "result.indexes"
   ]
  },
  {
   "cell_type": "code",
   "execution_count": null,
   "id": "06a90f00",
   "metadata": {},
   "outputs": [],
   "source": [
    "result.full_data"
   ]
  }
 ],
 "metadata": {
  "kernelspec": {
   "display_name": "Python 3",
   "language": "python",
   "name": "python3"
  },
  "language_info": {
   "codemirror_mode": {
    "name": "ipython",
    "version": 3
   },
   "file_extension": ".py",
   "mimetype": "text/x-python",
   "name": "python",
   "nbconvert_exporter": "python",
   "pygments_lexer": "ipython3",
   "version": "3.10.12"
  }
 },
 "nbformat": 4,
 "nbformat_minor": 5
}

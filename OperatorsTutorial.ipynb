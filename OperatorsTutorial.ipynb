{
 "cells": [
  {
   "cell_type": "code",
   "execution_count": 1,
   "id": "initial_id",
   "metadata": {
    "ExecuteTime": {
     "end_time": "2024-06-18T15:29:50.919825500Z",
     "start_time": "2024-06-18T15:29:50.864266200Z"
    },
    "collapsed": true
   },
   "outputs": [],
   "source": [
    "from hypex.dataset import Dataset, ExperimentData, InfoRole, TreatmentRole, TargetRole, PreTargetRole  \n",
    "from hypex.operators.operators import SMD "
   ]
  },
  {
   "cell_type": "code",
   "execution_count": 2,
   "id": "674de77707a77594",
   "metadata": {
    "ExecuteTime": {
     "end_time": "2024-06-18T15:29:50.935016100Z",
     "start_time": "2024-06-18T15:29:50.884909200Z"
    },
    "collapsed": false
   },
   "outputs": [
    {
     "data": {
      "text/plain": [
       "      user_id  signup_month  treat  pre_spends  post_spends   age gender  \\\n",
       "0           0             0      0       488.0   414.444444   NaN      M   \n",
       "1           1             8      1       512.5   462.222222  26.0    NaN   \n",
       "2           2             7      1       483.0   479.444444  25.0      M   \n",
       "3           3             0      0       501.5   424.333333  39.0      M   \n",
       "4           4             1      1       543.0   514.555556  18.0      F   \n",
       "...       ...           ...    ...         ...          ...   ...    ...   \n",
       "9995     9995            10      1       538.5   450.444444  42.0      M   \n",
       "9996     9996             0      0       500.5   430.888889  26.0      F   \n",
       "9997     9997             3      1       473.0   534.111111  22.0      F   \n",
       "9998     9998             2      1       495.0   523.222222  67.0      F   \n",
       "9999     9999             7      1       508.0   475.888889  38.0      F   \n",
       "\n",
       "        industry  \n",
       "0     E-commerce  \n",
       "1     E-commerce  \n",
       "2      Logistics  \n",
       "3     E-commerce  \n",
       "4     E-commerce  \n",
       "...          ...  \n",
       "9995   Logistics  \n",
       "9996   Logistics  \n",
       "9997  E-commerce  \n",
       "9998  E-commerce  \n",
       "9999  E-commerce  \n",
       "\n",
       "[10000 rows x 8 columns]"
      ]
     },
     "execution_count": 2,
     "metadata": {},
     "output_type": "execute_result"
    }
   ],
   "source": [
    "data = Dataset(\n",
    "    roles={\n",
    "        \"user_id\": InfoRole(int),\n",
    "        \"treat\": TreatmentRole(int),\n",
    "        \"pre_spends\": PreTargetRole(),\n",
    "        \"post_spends\": TargetRole()\n",
    "    }, data=\"data.csv\",\n",
    ")\n",
    "data"
   ]
  },
  {
   "cell_type": "code",
   "execution_count": 3,
   "id": "69cde4a83934577f",
   "metadata": {
    "ExecuteTime": {
     "end_time": "2024-06-18T15:29:50.993453900Z",
     "start_time": "2024-06-18T15:29:50.931017300Z"
    },
    "collapsed": false
   },
   "outputs": [
    {
     "data": {
      "text/plain": [
       "{0: 57.327859227475734, 1: 45.791559330898124}"
      ]
     },
     "execution_count": 3,
     "metadata": {},
     "output_type": "execute_result"
    }
   ],
   "source": [
    "SMD.calc(data, 'treat', target_fields=['pre_spends', 'post_spends'])"
   ]
  },
  {
   "cell_type": "code",
   "execution_count": 9,
   "id": "6bd89387a158c78",
   "metadata": {
    "ExecuteTime": {
     "end_time": "2024-06-18T15:29:51.057730200Z",
     "start_time": "2024-06-18T15:29:50.993453900Z"
    },
    "collapsed": false
   },
   "outputs": [],
   "source": [
    "test = SMD(target_roles=[TargetRole(), PreTargetRole()], grouping_role=TreatmentRole())\n",
    "ed = ExperimentData(data)\n",
    "result = test.execute(ed)"
   ]
  },
  {
   "cell_type": "code",
   "execution_count": 8,
   "id": "92c781b50a135be",
   "metadata": {
    "ExecuteTime": {
     "start_time": "2024-06-18T15:29:51.054729700Z"
    },
    "collapsed": false
   },
   "outputs": [
    {
     "data": {
      "text/plain": [
       "{\"SMD┴┴['pre_spends', 'post_spends']\": {None: {0: 57.327859227475734,\n",
       "   1: 45.791559330898124}}}"
      ]
     },
     "execution_count": 8,
     "metadata": {},
     "output_type": "execute_result"
    }
   ],
   "source": [
    "result.variables"
   ]
  }
 ],
 "metadata": {
  "kernelspec": {
   "display_name": "Python 3",
   "language": "python",
   "name": "python3"
  },
  "language_info": {
   "codemirror_mode": {
    "name": "ipython",
    "version": 3
   },
   "file_extension": ".py",
   "mimetype": "text/x-python",
   "name": "python",
   "nbconvert_exporter": "python",
   "pygments_lexer": "ipython3",
   "version": "3.10.13"
  }
 },
 "nbformat": 4,
 "nbformat_minor": 5
}

{
 "cells": [
  {
   "cell_type": "code",
   "execution_count": 1,
   "id": "f890151fc64fd3fa",
   "metadata": {
    "ExecuteTime": {
     "end_time": "2024-05-02T14:26:19.428383900Z",
     "start_time": "2024-05-02T14:26:16.425481900Z"
    },
    "collapsed": false
   },
   "outputs": [],
   "source": [
    "import pandas as pd\n",
    "import warnings\n",
    "\n",
    "warnings.simplefilter(action='ignore', category=pd.errors.PerformanceWarning)\n",
    "\n",
    "from hypex.dataset import Dataset, ExperimentData, InfoRole, TreatmentRole, TargetRole\n",
    "from hypex.comparators.abstract import GroupComparator\n",
    "from hypex.comparators import TTest, KSTest, GroupSizes, GroupDifference\n",
    "from hypex.utils import SpaceEnum\n",
    "from hypex.splitters import AASplitter\n",
    "from hypex.analyzers import OneAAStatAnalyzer\n",
    "from hypex.experiments import Experiment, OnRoleExperiment\n",
    "from hypex.experiments.base_complex import ParamsExperiment\n",
    "from hypex.reporters import DatasetReporter, AADictReporter"
   ]
  },
  {
   "cell_type": "code",
   "execution_count": 2,
   "id": "70e663c02efb6980",
   "metadata": {
    "ExecuteTime": {
     "end_time": "2024-05-02T14:26:19.547779900Z",
     "start_time": "2024-05-02T14:26:19.429298500Z"
    },
    "collapsed": false
   },
   "outputs": [
    {
     "data": {
      "text/plain": [
       "      user_id  signup_month  treat  pre_spends  post_spends   age gender  \\\n",
       "0           0             0      0       488.0   414.444444   NaN      M   \n",
       "1           1             8      1       512.5   462.222222  26.0    NaN   \n",
       "2           2             7      1       483.0   479.444444  25.0      M   \n",
       "3           3             0      0       501.5   424.333333  39.0      M   \n",
       "4           4             1      1       543.0   514.555556  18.0      F   \n",
       "...       ...           ...    ...         ...          ...   ...    ...   \n",
       "9995     9995            10      1       538.5   450.444444  42.0      M   \n",
       "9996     9996             0      0       500.5   430.888889  26.0      F   \n",
       "9997     9997             3      1       473.0   534.111111  22.0      F   \n",
       "9998     9998             2      1       495.0   523.222222  67.0      F   \n",
       "9999     9999             7      1       508.0   475.888889  38.0      F   \n",
       "\n",
       "        industry  \n",
       "0     E-commerce  \n",
       "1     E-commerce  \n",
       "2      Logistics  \n",
       "3     E-commerce  \n",
       "4     E-commerce  \n",
       "...          ...  \n",
       "9995   Logistics  \n",
       "9996   Logistics  \n",
       "9997  E-commerce  \n",
       "9998  E-commerce  \n",
       "9999  E-commerce  \n",
       "\n",
       "[10000 rows x 8 columns]"
      ]
     },
     "execution_count": 2,
     "metadata": {},
     "output_type": "execute_result"
    }
   ],
   "source": [
    "data = Dataset(\n",
    "    roles={\n",
    "        \"user_id\": InfoRole(int),\n",
    "        \"treat\": TreatmentRole(int),\n",
    "        \"pre_spends\": TargetRole(),\n",
    "        \"post_spends\": TargetRole()\n",
    "    }, data=\"data.csv\",\n",
    ")\n",
    "data"
   ]
  },
  {
   "cell_type": "code",
   "execution_count": 3,
   "id": "initial_id",
   "metadata": {
    "ExecuteTime": {
     "end_time": "2024-05-02T14:26:33.369983300Z",
     "start_time": "2024-05-02T14:26:19.554040200Z"
    },
    "collapsed": true
   },
   "outputs": [],
   "source": [
    "aa = ParamsExperiment(\n",
    "    executors=[\n",
    "        AASplitter(),\n",
    "        OnRoleExperiment(\n",
    "            executors=[\n",
    "                GroupSizes(),\n",
    "                GroupDifference(),\n",
    "                TTest(),\n",
    "                KSTest(),\n",
    "            ],\n",
    "            role=TargetRole(),\n",
    "        ),\n",
    "        OneAAStatAnalyzer()\n",
    "    ],\n",
    "    parameters = {\n",
    "        AASplitter: {\n",
    "            \"random_state\": range(10)\n",
    "        },\n",
    "        GroupComparator: {\n",
    "            \"grouping_role\": [TreatmentRole()],\n",
    "            \"space\": [SpaceEnum.additional]\n",
    "        }\n",
    "    },\n",
    "    reporter=DatasetReporter(AADictReporter(front=False))\n",
    ")"
   ]
  },
  {
   "cell_type": "code",
   "execution_count": 4,
   "id": "0b2fa18e",
   "metadata": {},
   "outputs": [],
   "source": [
    "ed = ExperimentData(data)\n",
    "res = aa.execute(ed)"
   ]
  },
  {
   "cell_type": "code",
   "execution_count": 5,
   "id": "1267bdee26db390c",
   "metadata": {
    "ExecuteTime": {
     "end_time": "2024-05-02T14:26:33.426084800Z",
     "start_time": "2024-05-02T14:26:33.374272900Z"
    },
    "collapsed": false
   },
   "outputs": [
    {
     "data": {
      "text/plain": [
       "{'ParamsExperiment┴┴':    random_state  pre_spends┴control mean┴test  pre_spends┴test mean┴test  \\\n",
       " 0             0                      486.9940                   487.1935   \n",
       " 0             1                      486.8745                   487.3130   \n",
       " 0             2                      487.0467                   487.1408   \n",
       " 0             3                      486.8456                   487.3419   \n",
       " 0             4                      486.8927                   487.2948   \n",
       " 0             5                      487.0975                   487.0900   \n",
       " 0             6                      487.1112                   487.0763   \n",
       " 0             7                      487.1000                   487.0875   \n",
       " 0             8                      487.1599                   487.0276   \n",
       " 0             9                      487.4289                   486.7586   \n",
       " \n",
       "    pre_spends┴difference┴test  pre_spends┴difference %┴test  \\\n",
       " 0                      0.1995                      0.040966   \n",
       " 0                      0.4385                      0.090064   \n",
       " 0                      0.0941                      0.019321   \n",
       " 0                      0.4963                      0.101942   \n",
       " 0                      0.4021                      0.082585   \n",
       " 0                     -0.0075                     -0.001540   \n",
       " 0                     -0.0349                     -0.007165   \n",
       " 0                     -0.0125                     -0.002566   \n",
       " 0                     -0.1323                     -0.027157   \n",
       " 0                     -0.6703                     -0.137517   \n",
       " \n",
       "    post_spends┴control mean┴test  post_spends┴test mean┴test  \\\n",
       " 0                     452.146778                  452.182333   \n",
       " 0                     452.030533                  452.298578   \n",
       " 0                     452.501400                  451.827711   \n",
       " 0                     452.298644                  452.030467   \n",
       " 0                     452.084600                  452.244511   \n",
       " 0                     451.931000                  452.398111   \n",
       " 0                     452.112467                  452.216644   \n",
       " 0                     452.613978                  451.715133   \n",
       " 0                     451.820156                  452.508956   \n",
       " 0                     452.434867                  451.894244   \n",
       " \n",
       "    post_spends┴difference┴test  post_spends┴difference %┴test  \\\n",
       " 0                     0.035556                       0.007864   \n",
       " 0                     0.268044                       0.059298   \n",
       " 0                    -0.673689                      -0.148881   \n",
       " 0                    -0.268178                      -0.059292   \n",
       " 0                     0.159911                       0.035372   \n",
       " 0                     0.467111                       0.103359   \n",
       " 0                     0.104178                       0.023042   \n",
       " 0                    -0.898844                      -0.198590   \n",
       " 0                     0.688800                       0.152450   \n",
       " 0                    -0.540622                      -0.119492   \n",
       " \n",
       "    pre_spends┴control size┴test  pre_spends┴test size┴test  \\\n",
       " 0                          5000                       5000   \n",
       " 0                          5000                       5000   \n",
       " 0                          5000                       5000   \n",
       " 0                          5000                       5000   \n",
       " 0                          5000                       5000   \n",
       " 0                          5000                       5000   \n",
       " 0                          5000                       5000   \n",
       " 0                          5000                       5000   \n",
       " 0                          5000                       5000   \n",
       " 0                          5000                       5000   \n",
       " \n",
       "    pre_spends┴control size %┴test  pre_spends┴test size %┴test  TTest p-value  \\\n",
       " 0                            50.0                         50.0       0.780562   \n",
       " 0                            50.0                         50.0       0.489547   \n",
       " 0                            50.0                         50.0       0.597892   \n",
       " 0                            50.0                         50.0       0.461088   \n",
       " 0                            50.0                         50.0       0.562963   \n",
       " 0                            50.0                         50.0       0.768772   \n",
       " 0                            50.0                         50.0       0.910585   \n",
       " 0                            50.0                         50.0       0.613830   \n",
       " 0                            50.0                         50.0       0.554041   \n",
       " 0                            50.0                         50.0       0.284234   \n",
       " \n",
       "    TTest pass  KSTest p-value  KSTest pass  mean test score  \n",
       " 0         0.0        0.489505          0.5         0.586524  \n",
       " 0         0.0        0.571573          0.0         0.544231  \n",
       " 0         0.0        0.677761          0.0         0.651138  \n",
       " 0         0.0        0.457825          0.0         0.458913  \n",
       " 0         0.0        0.564304          0.0         0.563857  \n",
       " 0         0.0        0.482406          0.5         0.577861  \n",
       " 0         0.0        0.948240          0.0         0.935688  \n",
       " 0         0.0        0.546805          0.0         0.569147  \n",
       " 0         0.0        0.449889          0.0         0.484606  \n",
       " 0         0.0        0.173659          0.0         0.210517  }"
      ]
     },
     "execution_count": 5,
     "metadata": {},
     "output_type": "execute_result"
    }
   ],
   "source": [
    "res.analysis_tables"
   ]
  },
  {
   "cell_type": "code",
   "execution_count": null,
   "id": "d04bae6250621c19",
   "metadata": {
    "collapsed": false
   },
   "outputs": [],
   "source": [
    "res.analysis_tables"
   ]
  },
  {
   "cell_type": "code",
   "execution_count": 5,
   "id": "eb9c92e677df78c0",
   "metadata": {
    "ExecuteTime": {
     "end_time": "2024-05-02T14:26:43.365365Z",
     "start_time": "2024-05-02T14:26:43.144083Z"
    },
    "collapsed": false
   },
   "outputs": [
    {
     "data": {
      "text/plain": [
       "   TTest p-value  TTest pass  KSTest p-value  KSTest pass  mean test score\n",
       "0       0.399466        0.05        0.501559          0.0         0.467528"
      ]
     },
     "execution_count": 5,
     "metadata": {},
     "output_type": "execute_result"
    }
   ],
   "source": [
    "res_analyzer = OneAAStatAnalyzer().execute(res)\n",
    "res_analyzer.analysis_tables['OneAAStatAnalyzer╰╰']"
   ]
  }
 ],
 "metadata": {
  "kernelspec": {
   "display_name": "Python 3",
   "language": "python",
   "name": "python3"
  },
  "language_info": {
   "codemirror_mode": {
    "name": "ipython",
    "version": 3
   },
   "file_extension": ".py",
   "mimetype": "text/x-python",
   "name": "python",
   "nbconvert_exporter": "python",
   "pygments_lexer": "ipython3",
   "version": "3.10.11"
  }
 },
 "nbformat": 4,
 "nbformat_minor": 5
}

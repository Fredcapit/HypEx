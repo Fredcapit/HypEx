{
 "cells": [
  {
   "cell_type": "code",
   "execution_count": 1,
   "id": "f890151fc64fd3fa",
   "metadata": {
    "collapsed": false,
    "ExecuteTime": {
     "end_time": "2024-07-08T07:36:15.841764800Z",
     "start_time": "2024-07-08T07:36:13.949512900Z"
    }
   },
   "outputs": [
    {
     "name": "stderr",
     "output_type": "stream",
     "text": [
      "C:\\Users\\User\\AppData\\Local\\Programs\\Python\\Python310\\lib\\site-packages\\tqdm\\auto.py:21: TqdmWarning: IProgress not found. Please update jupyter and ipywidgets. See https://ipywidgets.readthedocs.io/en/stable/user_install.html\n",
      "  from .autonotebook import tqdm as notebook_tqdm\n"
     ]
    }
   ],
   "source": [
    "from hypex.dataset import Dataset, InfoRole, TreatmentRole, TargetRole, StratificationRole\n",
    "from hypex.experiments.aa import AATest"
   ]
  },
  {
   "cell_type": "code",
   "execution_count": 2,
   "id": "70e663c02efb6980",
   "metadata": {
    "collapsed": false,
    "ExecuteTime": {
     "end_time": "2024-07-08T07:36:16.013989600Z",
     "start_time": "2024-07-08T07:36:15.847771200Z"
    }
   },
   "outputs": [],
   "source": [
    "data = Dataset(\n",
    "    roles={\n",
    "        \"user_id\": InfoRole(int),\n",
    "        \"treat\": TreatmentRole(int),\n",
    "        \"pre_spends\": TargetRole(),\n",
    "        \"post_spends\": TargetRole(),\n",
    "        \"gender\": StratificationRole(str)\n",
    "    }, data=\"data.csv\",\n",
    ")\n",
    "# data"
   ]
  },
  {
   "cell_type": "code",
   "execution_count": 3,
   "id": "initial_id",
   "metadata": {
    "collapsed": true,
    "ExecuteTime": {
     "end_time": "2024-07-08T07:55:51.952300700Z",
     "start_time": "2024-07-08T07:36:16.020385500Z"
    }
   },
   "outputs": [],
   "source": [
    "aa = AATest(n_iterations=2000)\n",
    "res = aa.execute(data)"
   ]
  },
  {
   "cell_type": "code",
   "execution_count": 4,
   "id": "41e9963a",
   "metadata": {
    "ExecuteTime": {
     "end_time": "2024-07-08T07:55:52.020547100Z",
     "start_time": "2024-07-08T07:55:51.955866400Z"
    }
   },
   "outputs": [
    {
     "data": {
      "text/plain": "  TTest aa test KSTest aa test TTest best split KSTest best split  result  \\\n0        NOT OK         NOT OK               OK                OK  NOT OK   \n1        NOT OK         NOT OK               OK                OK  NOT OK   \n\n       feature group  \n0  post_spends     0  \n1   pre_spends     0  "
     },
     "execution_count": 4,
     "metadata": {},
     "output_type": "execute_result"
    }
   ],
   "source": [
    "res.resume"
   ]
  },
  {
   "cell_type": "code",
   "execution_count": 5,
   "id": "50ae28a8",
   "metadata": {
    "ExecuteTime": {
     "end_time": "2024-07-08T07:55:52.021560100Z",
     "start_time": "2024-07-08T07:55:51.984595200Z"
    }
   },
   "outputs": [
    {
     "data": {
      "text/plain": "                       pass     score\npre_spends TTest 0    False  0.550274\npost_spends TTest 0   False  0.551360\npre_spends KSTest 0   False  0.493654\npost_spends KSTest 0  False  0.517096"
     },
     "execution_count": 5,
     "metadata": {},
     "output_type": "execute_result"
    }
   ],
   "source": [
    "res.aa_score"
   ]
  },
  {
   "cell_type": "code",
   "execution_count": 6,
   "id": "cc42c534",
   "metadata": {
    "ExecuteTime": {
     "end_time": "2024-07-08T07:55:52.054346700Z",
     "start_time": "2024-07-08T07:55:52.001123500Z"
    }
   },
   "outputs": [
    {
     "data": {
      "text/plain": "      user_id  signup_month  treat  pre_spends  post_spends   age gender  \\\n0           0             0      0       488.0   414.444444   NaN      M   \n1           1             8      1       512.5   462.222222  26.0    NaN   \n2           2             7      1       483.0   479.444444  25.0      M   \n3           3             0      0       501.5   424.333333  39.0      M   \n4           4             1      1       543.0   514.555556  18.0      F   \n...       ...           ...    ...         ...          ...   ...    ...   \n9995     9995            10      1       538.5   450.444444  42.0      M   \n9996     9996             0      0       500.5   430.888889  26.0      F   \n9997     9997             3      1       473.0   534.111111  22.0      F   \n9998     9998             2      1       495.0   523.222222  67.0      F   \n9999     9999             7      1       508.0   475.888889  38.0      F   \n\n        industry    split  \n0     E-commerce  control  \n1     E-commerce  control  \n2      Logistics     test  \n3     E-commerce     test  \n4     E-commerce  control  \n...          ...      ...  \n9995   Logistics  control  \n9996   Logistics     test  \n9997  E-commerce     test  \n9998  E-commerce     test  \n9999  E-commerce  control  \n\n[10000 rows x 9 columns]"
     },
     "execution_count": 6,
     "metadata": {},
     "output_type": "execute_result"
    }
   ],
   "source": [
    "res.best_split"
   ]
  },
  {
   "cell_type": "code",
   "execution_count": 7,
   "id": "18351884",
   "metadata": {
    "ExecuteTime": {
     "end_time": "2024-07-08T07:55:52.055862500Z",
     "start_time": "2024-07-08T07:55:52.032275800Z"
    }
   },
   "outputs": [
    {
     "data": {
      "text/plain": "       feature group TTest pass  TTest p-value KSTest pass  KSTest p-value\n0   pre_spends     0         OK       0.993447          OK        0.999954\n1  post_spends     0         OK       0.891229          OK        0.996035"
     },
     "execution_count": 7,
     "metadata": {},
     "output_type": "execute_result"
    }
   ],
   "source": [
    "res.best_split_statistic"
   ]
  },
  {
   "cell_type": "code",
   "execution_count": 8,
   "id": "0da18405",
   "metadata": {
    "ExecuteTime": {
     "end_time": "2024-07-08T07:55:52.110485300Z",
     "start_time": "2024-07-08T07:55:52.048775900Z"
    }
   },
   "outputs": [
    {
     "data": {
      "text/plain": "              splitter_id  pre_spends GroupDifference control mean 0  \\\n0        AASplitter┴rs 0┴                                   486.8074   \n1        AASplitter┴rs 1┴                                   486.8542   \n2        AASplitter┴rs 2┴                                   487.1430   \n3        AASplitter┴rs 3┴                                   487.5133   \n4        AASplitter┴rs 4┴                                   486.9905   \n...                   ...                                        ...   \n1995  AASplitter┴rs 1995┴                                   487.2524   \n1996  AASplitter┴rs 1996┴                                   486.8883   \n1997  AASplitter┴rs 1997┴                                   487.0833   \n1998  AASplitter┴rs 1998┴                                   487.4588   \n1999  AASplitter┴rs 1999┴                                   487.4373   \n\n      pre_spends GroupDifference test mean 0  \\\n0                                   487.3801   \n1                                   487.3333   \n2                                   487.0445   \n3                                   486.6742   \n4                                   487.1970   \n...                                      ...   \n1995                                486.9351   \n1996                                487.2992   \n1997                                487.1042   \n1998                                486.7287   \n1999                                486.7502   \n\n      pre_spends GroupDifference difference 0  \\\n0                                      0.5727   \n1                                      0.4791   \n2                                     -0.0985   \n3                                     -0.8391   \n4                                      0.2065   \n...                                       ...   \n1995                                  -0.3173   \n1996                                   0.4109   \n1997                                   0.0209   \n1998                                  -0.7301   \n1999                                  -0.6871   \n\n      pre_spends GroupDifference difference % 0  \\\n0                                      0.117644   \n1                                      0.098407   \n2                                     -0.020220   \n3                                     -0.172118   \n4                                      0.042403   \n...                                         ...   \n1995                                  -0.065120   \n1996                                   0.084393   \n1997                                   0.004291   \n1998                                  -0.149777   \n1999                                  -0.140962   \n\n      post_spends GroupDifference control mean 0  \\\n0                                     451.724200   \n1                                     452.151400   \n2                                     451.504911   \n3                                     453.078778   \n4                                     451.916489   \n...                                          ...   \n1995                                  452.032178   \n1996                                  452.440867   \n1997                                  451.813067   \n1998                                  452.061600   \n1999                                  452.855600   \n\n      post_spends GroupDifference test mean 0  \\\n0                                  452.604911   \n1                                  452.177711   \n2                                  452.824200   \n3                                  451.250333   \n4                                  452.412622   \n...                                       ...   \n1995                               452.296933   \n1996                               451.888244   \n1997                               452.516044   \n1998                               452.267511   \n1999                               451.473511   \n\n      post_spends GroupDifference difference 0  \\\n0                                     0.880711   \n1                                     0.026311   \n2                                     1.319289   \n3                                    -1.828444   \n4                                     0.496133   \n...                                        ...   \n1995                                  0.264756   \n1996                                 -0.552622   \n1997                                  0.702978   \n1998                                  0.205911   \n1999                                 -1.382089   \n\n      post_spends GroupDifference difference % 0  GroupSizes control size 0  \\\n0                                       0.194967                       5000   \n1                                       0.005819                       5000   \n2                                       0.292198                       5000   \n3                                      -0.403560                       5000   \n4                                       0.109784                       5000   \n...                                          ...                        ...   \n1995                                    0.058570                       5000   \n1996                                   -0.122142                       5000   \n1997                                    0.155590                       5000   \n1998                                    0.045549                       5000   \n1999                                   -0.305194                       5000   \n\n      ...  post_spends TTest pass 0  pre_spends KSTest p-value 0  \\\n0     ...                     False                     0.023582   \n1     ...                     False                     0.420964   \n2     ...                     False                     0.727866   \n3     ...                      True                     0.177727   \n4     ...                     False                     0.660939   \n...   ...                       ...                          ...   \n1995  ...                     False                     0.877289   \n1996  ...                     False                     0.949728   \n1997  ...                     False                     0.694583   \n1998  ...                     False                     0.044345   \n1999  ...                     False                     0.694583   \n\n      pre_spends KSTest pass 0  post_spends KSTest p-value 0  \\\n0                         True                      0.480675   \n1                        False                      0.560541   \n2                        False                      0.177727   \n3                        False                      0.083564   \n4                        False                      0.064626   \n...                        ...                           ...   \n1995                     False                      0.912466   \n1996                     False                      0.776418   \n1997                     False                      0.101898   \n1998                      True                      0.864333   \n1999                     False                      0.020915   \n\n      post_spends KSTest pass 0  mean TTest p-value  mean TTest pass  \\\n0                         False            0.196474              0.0   \n1                         False            0.588834              0.0   \n2                         False            0.444120              0.0   \n3                         False            0.023258              1.0   \n4                         False            0.556661              0.0   \n...                         ...                 ...              ...   \n1995                      False            0.568728              0.0   \n1996                      False            0.379742              0.0   \n1997                      False            0.664128              0.0   \n1998                      False            0.423469              0.0   \n1999                       True            0.074073              0.0   \n\n      mean KSTest p-value  mean KSTest pass  mean test score  \n0                0.252129               0.5         0.233577  \n1                0.490752               0.0         0.523446  \n2                0.452796               0.0         0.449904  \n3                0.130645               0.0         0.094849  \n4                0.362782               0.0         0.427409  \n...                   ...               ...              ...  \n1995             0.894877               0.0         0.786161  \n1996             0.863073               0.0         0.701963  \n1997             0.398241               0.0         0.486870  \n1998             0.454339               0.5         0.444049  \n1999             0.357749               0.5         0.263191  \n\n[2000 rows x 26 columns]"
     },
     "execution_count": 8,
     "metadata": {},
     "output_type": "execute_result"
    }
   ],
   "source": [
    "res.experiments"
   ]
  },
  {
   "cell_type": "code",
   "execution_count": 8,
   "id": "a6038ed8",
   "metadata": {
    "ExecuteTime": {
     "end_time": "2024-07-08T07:55:52.110485300Z",
     "start_time": "2024-07-08T07:55:52.094847Z"
    }
   },
   "outputs": [],
   "source": []
  }
 ],
 "metadata": {
  "kernelspec": {
   "display_name": "Python 3",
   "language": "python",
   "name": "python3"
  },
  "language_info": {
   "codemirror_mode": {
    "name": "ipython",
    "version": 3
   },
   "file_extension": ".py",
   "mimetype": "text/x-python",
   "name": "python",
   "nbconvert_exporter": "python",
   "pygments_lexer": "ipython3",
   "version": "3.10.11"
  }
 },
 "nbformat": 4,
 "nbformat_minor": 5
}

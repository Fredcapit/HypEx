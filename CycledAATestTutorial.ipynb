{
 "cells": [
  {
   "cell_type": "code",
   "execution_count": 1,
   "id": "f890151fc64fd3fa",
   "metadata": {
    "collapsed": false,
    "ExecuteTime": {
     "end_time": "2024-07-04T13:21:43.798785800Z",
     "start_time": "2024-07-04T13:21:42.268335300Z"
    }
   },
   "outputs": [
    {
     "name": "stderr",
     "output_type": "stream",
     "text": [
      "C:\\Users\\User\\AppData\\Local\\Programs\\Python\\Python310\\lib\\site-packages\\tqdm\\auto.py:21: TqdmWarning: IProgress not found. Please update jupyter and ipywidgets. See https://ipywidgets.readthedocs.io/en/stable/user_install.html\n",
      "  from .autonotebook import tqdm as notebook_tqdm\n"
     ]
    }
   ],
   "source": [
    "from hypex.dataset import Dataset, InfoRole, TreatmentRole, TargetRole, StratificationRole\n",
    "from hypex.experiments.aa import AATest"
   ]
  },
  {
   "cell_type": "code",
   "execution_count": 2,
   "id": "70e663c02efb6980",
   "metadata": {
    "collapsed": false,
    "ExecuteTime": {
     "end_time": "2024-07-04T13:21:43.861366800Z",
     "start_time": "2024-07-04T13:21:43.799796500Z"
    }
   },
   "outputs": [],
   "source": [
    "data = Dataset(\n",
    "    roles={\n",
    "        \"user_id\": InfoRole(int),\n",
    "        \"treat\": TreatmentRole(int),\n",
    "        \"pre_spends\": TargetRole(),\n",
    "        \"post_spends\": TargetRole(),\n",
    "        \"gender\": StratificationRole(str)\n",
    "    }, data=\"data.csv\",\n",
    ")\n",
    "# data"
   ]
  },
  {
   "cell_type": "code",
   "execution_count": 3,
   "id": "initial_id",
   "metadata": {
    "collapsed": true,
    "ExecuteTime": {
     "end_time": "2024-07-04T13:21:52.617871400Z",
     "start_time": "2024-07-04T13:21:43.865385Z"
    }
   },
   "outputs": [],
   "source": [
    "aa = AATest(n_iterations=10)\n",
    "res = aa.execute(data)"
   ]
  },
  {
   "cell_type": "code",
   "execution_count": 4,
   "id": "41e9963a",
   "metadata": {
    "ExecuteTime": {
     "end_time": "2024-07-04T13:21:52.720416800Z",
     "start_time": "2024-07-04T13:21:52.622645700Z"
    }
   },
   "outputs": [
    {
     "data": {
      "text/plain": "  TTest aa test KSTest aa test TTest best split KSTest best split  result  \\\n0        NOT OK         NOT OK               OK                OK  NOT OK   \n1        NOT OK         NOT OK               OK                OK  NOT OK   \n\n       feature group  \n0  post_spends     0  \n1   pre_spends     0  "
     },
     "execution_count": 4,
     "metadata": {},
     "output_type": "execute_result"
    }
   ],
   "source": [
    "res.resume"
   ]
  },
  {
   "cell_type": "code",
   "execution_count": 5,
   "id": "50ae28a8",
   "metadata": {
    "ExecuteTime": {
     "end_time": "2024-07-04T13:21:52.741359Z",
     "start_time": "2024-07-04T13:21:52.716916700Z"
    }
   },
   "outputs": [
    {
     "data": {
      "text/plain": "                       pass     score\npre_spends TTest 0    False  0.653814\npost_spends TTest 0   False  0.664092\npre_spends KSTest 0   False  0.639293\npost_spends KSTest 0  False  0.637995"
     },
     "execution_count": 5,
     "metadata": {},
     "output_type": "execute_result"
    }
   ],
   "source": [
    "res.aa_score"
   ]
  },
  {
   "cell_type": "code",
   "execution_count": 6,
   "id": "cc42c534",
   "metadata": {
    "ExecuteTime": {
     "end_time": "2024-07-04T13:21:52.779450400Z",
     "start_time": "2024-07-04T13:21:52.734443400Z"
    }
   },
   "outputs": [
    {
     "data": {
      "text/plain": "      user_id  signup_month  treat  pre_spends  post_spends   age gender  \\\n0           0             0      0       488.0   414.444444   NaN      M   \n1           1             8      1       512.5   462.222222  26.0    NaN   \n2           2             7      1       483.0   479.444444  25.0      M   \n3           3             0      0       501.5   424.333333  39.0      M   \n4           4             1      1       543.0   514.555556  18.0      F   \n...       ...           ...    ...         ...          ...   ...    ...   \n9995     9995            10      1       538.5   450.444444  42.0      M   \n9996     9996             0      0       500.5   430.888889  26.0      F   \n9997     9997             3      1       473.0   534.111111  22.0      F   \n9998     9998             2      1       495.0   523.222222  67.0      F   \n9999     9999             7      1       508.0   475.888889  38.0      F   \n\n        industry    split  \n0     E-commerce  control  \n1     E-commerce     test  \n2      Logistics     test  \n3     E-commerce  control  \n4     E-commerce  control  \n...          ...      ...  \n9995   Logistics  control  \n9996   Logistics  control  \n9997  E-commerce     test  \n9998  E-commerce     test  \n9999  E-commerce  control  \n\n[10000 rows x 9 columns]"
     },
     "execution_count": 6,
     "metadata": {},
     "output_type": "execute_result"
    }
   ],
   "source": [
    "res.best_split"
   ]
  },
  {
   "cell_type": "code",
   "execution_count": 7,
   "id": "18351884",
   "metadata": {
    "ExecuteTime": {
     "end_time": "2024-07-04T13:21:52.837148200Z",
     "start_time": "2024-07-04T13:21:52.760631700Z"
    }
   },
   "outputs": [
    {
     "data": {
      "text/plain": "       feature group TTest pass  TTest p-value KSTest pass  KSTest p-value\n0   pre_spends     0         OK       0.645746          OK        0.932542\n1  post_spends     0         OK       0.357727          OK        0.577046"
     },
     "execution_count": 7,
     "metadata": {},
     "output_type": "execute_result"
    }
   ],
   "source": [
    "res.best_split_statistic"
   ]
  },
  {
   "cell_type": "code",
   "execution_count": 8,
   "id": "0da18405",
   "metadata": {
    "ExecuteTime": {
     "end_time": "2024-07-04T13:21:52.864559900Z",
     "start_time": "2024-07-04T13:21:52.793283900Z"
    }
   },
   "outputs": [
    {
     "data": {
      "text/plain": "        splitter_id  pre_spends GroupDifference control mean 0  \\\n0  AASplitter┴rs 0┴                                   486.8074   \n1  AASplitter┴rs 1┴                                   486.8542   \n2  AASplitter┴rs 2┴                                   487.1430   \n3  AASplitter┴rs 3┴                                   487.5133   \n4  AASplitter┴rs 4┴                                   486.9905   \n5  AASplitter┴rs 5┴                                   487.2922   \n6  AASplitter┴rs 6┴                                   486.8775   \n7  AASplitter┴rs 7┴                                   487.0070   \n8  AASplitter┴rs 8┴                                   486.7993   \n9  AASplitter┴rs 9┴                                   487.1140   \n\n   pre_spends GroupDifference test mean 0  \\\n0                                487.3801   \n1                                487.3333   \n2                                487.0445   \n3                                486.6742   \n4                                487.1970   \n5                                486.8953   \n6                                487.3100   \n7                                487.1805   \n8                                487.3882   \n9                                487.0735   \n\n   pre_spends GroupDifference difference 0  \\\n0                                   0.5727   \n1                                   0.4791   \n2                                  -0.0985   \n3                                  -0.8391   \n4                                   0.2065   \n5                                  -0.3969   \n6                                   0.4325   \n7                                   0.1735   \n8                                   0.5889   \n9                                  -0.0405   \n\n   pre_spends GroupDifference difference % 0  \\\n0                                   0.117644   \n1                                   0.098407   \n2                                  -0.020220   \n3                                  -0.172118   \n4                                   0.042403   \n5                                  -0.081450   \n6                                   0.088831   \n7                                   0.035626   \n8                                   0.120974   \n9                                  -0.008314   \n\n   post_spends GroupDifference control mean 0  \\\n0                                  451.724200   \n1                                  452.151400   \n2                                  451.504911   \n3                                  453.078778   \n4                                  451.916489   \n5                                  451.686889   \n6                                  451.627689   \n7                                  452.526978   \n8                                  451.924844   \n9                                  452.327511   \n\n   post_spends GroupDifference test mean 0  \\\n0                               452.604911   \n1                               452.177711   \n2                               452.824200   \n3                               451.250333   \n4                               452.412622   \n5                               452.642222   \n6                               452.701422   \n7                               451.802133   \n8                               452.404267   \n9                               452.001600   \n\n   post_spends GroupDifference difference 0  \\\n0                                  0.880711   \n1                                  0.026311   \n2                                  1.319289   \n3                                 -1.828444   \n4                                  0.496133   \n5                                  0.955333   \n6                                  1.073733   \n7                                 -0.724844   \n8                                  0.479422   \n9                                 -0.325911   \n\n   post_spends GroupDifference difference % 0  GroupSizes control size 0  ...  \\\n0                                    0.194967                       5000  ...   \n1                                    0.005819                       5000  ...   \n2                                    0.292198                       5000  ...   \n3                                   -0.403560                       5000  ...   \n4                                    0.109784                       5000  ...   \n5                                    0.211503                       5000  ...   \n6                                    0.237747                       5000  ...   \n7                                   -0.160177                       5000  ...   \n8                                    0.106085                       5000  ...   \n9                                   -0.072052                       5000  ...   \n\n   post_spends TTest pass 0  pre_spends KSTest p-value 0  \\\n0                     False                     0.023582   \n1                     False                     0.420964   \n2                     False                     0.727866   \n3                      True                     0.177727   \n4                     False                     0.660939   \n5                     False                     0.392763   \n6                     False                     0.170057   \n7                     False                     0.932542   \n8                     False                     0.023582   \n9                     False                     0.577046   \n\n   pre_spends KSTest pass 0  post_spends KSTest p-value 0  \\\n0                      True                      0.480675   \n1                     False                      0.560541   \n2                     False                      0.177727   \n3                     False                      0.083564   \n4                     False                      0.064626   \n5                     False                      0.406718   \n6                     False                      0.528005   \n7                     False                      0.577046   \n8                      True                      0.760472   \n9                     False                      0.480675   \n\n   post_spends KSTest pass 0  mean TTest p-value  mean TTest pass  \\\n0                      False            0.196474              0.0   \n1                      False            0.588834              0.0   \n2                      False            0.444120              0.0   \n3                      False            0.023258              1.0   \n4                      False            0.556661              0.0   \n5                      False            0.259216              0.0   \n6                      False            0.212447              0.0   \n7                      False            0.501737              0.0   \n8                      False            0.330834              0.0   \n9                      False            0.796888              0.0   \n\n   mean KSTest p-value  mean KSTest pass  mean test score  \n0             0.252129               0.5         0.233577  \n1             0.490752               0.0         0.523446  \n2             0.452796               0.0         0.449904  \n3             0.130645               0.0         0.094849  \n4             0.362782               0.0         0.427409  \n5             0.399740               0.0         0.352899  \n6             0.349031               0.0         0.303503  \n7             0.754794               0.0         0.670441  \n8             0.392027               0.5         0.371629  \n9             0.528860               0.0         0.618203  \n\n[10 rows x 26 columns]"
     },
     "execution_count": 8,
     "metadata": {},
     "output_type": "execute_result"
    }
   ],
   "source": [
    "res.experiments"
   ]
  },
  {
   "cell_type": "code",
   "execution_count": 8,
   "id": "a6038ed8",
   "metadata": {
    "ExecuteTime": {
     "end_time": "2024-07-04T13:21:52.864559900Z",
     "start_time": "2024-07-04T13:21:52.822561400Z"
    }
   },
   "outputs": [],
   "source": []
  }
 ],
 "metadata": {
  "kernelspec": {
   "display_name": "Python 3",
   "language": "python",
   "name": "python3"
  },
  "language_info": {
   "codemirror_mode": {
    "name": "ipython",
    "version": 3
   },
   "file_extension": ".py",
   "mimetype": "text/x-python",
   "name": "python",
   "nbconvert_exporter": "python",
   "pygments_lexer": "ipython3",
   "version": "3.10.11"
  }
 },
 "nbformat": 4,
 "nbformat_minor": 5
}

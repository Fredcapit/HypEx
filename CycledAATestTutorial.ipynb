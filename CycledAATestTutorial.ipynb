{
 "cells": [
  {
   "cell_type": "code",
   "execution_count": 1,
   "id": "f890151fc64fd3fa",
   "metadata": {
    "collapsed": false,
    "ExecuteTime": {
     "end_time": "2024-07-02T13:53:13.804684600Z",
     "start_time": "2024-07-02T13:53:11.519177700Z"
    }
   },
   "outputs": [
    {
     "name": "stderr",
     "output_type": "stream",
     "text": [
      "C:\\Users\\User\\AppData\\Local\\Programs\\Python\\Python310\\lib\\site-packages\\tqdm\\auto.py:21: TqdmWarning: IProgress not found. Please update jupyter and ipywidgets. See https://ipywidgets.readthedocs.io/en/stable/user_install.html\n",
      "  from .autonotebook import tqdm as notebook_tqdm\n"
     ]
    }
   ],
   "source": [
    "from hypex.dataset import Dataset, InfoRole, TreatmentRole, TargetRole, StratificationRole\n",
    "from hypex.experiments.aa import AATest"
   ]
  },
  {
   "cell_type": "code",
   "execution_count": 3,
   "id": "70e663c02efb6980",
   "metadata": {
    "collapsed": false,
    "ExecuteTime": {
     "end_time": "2024-07-02T13:53:36.532507100Z",
     "start_time": "2024-07-02T13:53:36.465891200Z"
    }
   },
   "outputs": [],
   "source": [
    "data = Dataset(\n",
    "    roles={\n",
    "        \"user_id\": InfoRole(int),\n",
    "        \"treat\": TreatmentRole(int),\n",
    "        \"pre_spends\": TargetRole(),\n",
    "        \"post_spends\": TargetRole(),\n",
    "        \"gender\": StratificationRole(str)\n",
    "    }, data=\"data.csv\",\n",
    ")\n",
    "# data"
   ]
  },
  {
   "cell_type": "code",
   "execution_count": 4,
   "id": "initial_id",
   "metadata": {
    "collapsed": true,
    "ExecuteTime": {
     "end_time": "2024-07-02T13:53:40.741030900Z",
     "start_time": "2024-07-02T13:53:37.588957300Z"
    }
   },
   "outputs": [],
   "source": [
    "aa = AATest(n_iterations=10)\n",
    "res = aa.execute(data)"
   ]
  },
  {
   "cell_type": "code",
   "execution_count": 5,
   "id": "41e9963a",
   "metadata": {
    "ExecuteTime": {
     "end_time": "2024-07-02T13:53:42.047146300Z",
     "start_time": "2024-07-02T13:53:41.984668600Z"
    }
   },
   "outputs": [
    {
     "data": {
      "text/plain": "  TTest aa test KSTest aa test TTest best split KSTest best split  result  \\\n0        NOT OK         NOT OK               OK                OK  NOT OK   \n1        NOT OK         NOT OK               OK                OK  NOT OK   \n\n       feature group  \n0  post_spends     0  \n1   pre_spends     0  "
     },
     "execution_count": 5,
     "metadata": {},
     "output_type": "execute_result"
    }
   ],
   "source": [
    "res.resume"
   ]
  },
  {
   "cell_type": "code",
   "execution_count": 6,
   "id": "50ae28a8",
   "metadata": {
    "ExecuteTime": {
     "end_time": "2024-07-02T13:53:43.506256800Z",
     "start_time": "2024-07-02T13:53:43.446602700Z"
    }
   },
   "outputs": [
    {
     "data": {
      "text/plain": "                       pass     score\npre_spends TTest 0    False  0.862724\npost_spends TTest 0   False  0.890264\npre_spends KSTest 0   False  0.829781\npost_spends KSTest 0  False  0.838848"
     },
     "execution_count": 6,
     "metadata": {},
     "output_type": "execute_result"
    }
   ],
   "source": [
    "res.aa_score"
   ]
  },
  {
   "cell_type": "code",
   "execution_count": 7,
   "id": "cc42c534",
   "metadata": {
    "ExecuteTime": {
     "end_time": "2024-07-02T13:53:45.728218200Z",
     "start_time": "2024-07-02T13:53:45.648806100Z"
    }
   },
   "outputs": [
    {
     "data": {
      "text/plain": "      user_id  signup_month  treat  pre_spends  post_spends   age gender  \\\n0           0             0      0       488.0   414.444444   NaN      M   \n1           1             8      1       512.5   462.222222  26.0    NaN   \n2           2             7      1       483.0   479.444444  25.0      M   \n3           3             0      0       501.5   424.333333  39.0      M   \n4           4             1      1       543.0   514.555556  18.0      F   \n...       ...           ...    ...         ...          ...   ...    ...   \n9995     9995            10      1       538.5   450.444444  42.0      M   \n9996     9996             0      0       500.5   430.888889  26.0      F   \n9997     9997             3      1       473.0   534.111111  22.0      F   \n9998     9998             2      1       495.0   523.222222  67.0      F   \n9999     9999             7      1       508.0   475.888889  38.0      F   \n\n        industry    split  \n0     E-commerce  control  \n1     E-commerce  control  \n2      Logistics  control  \n3     E-commerce  control  \n4     E-commerce  control  \n...          ...      ...  \n9995   Logistics     test  \n9996   Logistics     test  \n9997  E-commerce     test  \n9998  E-commerce     test  \n9999  E-commerce     test  \n\n[10000 rows x 9 columns]"
     },
     "execution_count": 7,
     "metadata": {},
     "output_type": "execute_result"
    }
   ],
   "source": [
    "res.best_split"
   ]
  },
  {
   "cell_type": "code",
   "execution_count": 8,
   "id": "18351884",
   "metadata": {
    "ExecuteTime": {
     "end_time": "2024-07-02T13:53:46.684335700Z",
     "start_time": "2024-07-02T13:53:46.624224900Z"
    }
   },
   "outputs": [
    {
     "data": {
      "text/plain": "       feature group TTest pass  TTest p-value KSTest pass  KSTest p-value\n0   pre_spends     0         OK       0.187276          OK        0.220219\n1  post_spends     0         OK       0.159736          OK        0.211152"
     },
     "execution_count": 8,
     "metadata": {},
     "output_type": "execute_result"
    }
   ],
   "source": [
    "res.best_split_statistic"
   ]
  },
  {
   "cell_type": "code",
   "execution_count": 9,
   "id": "0da18405",
   "metadata": {
    "ExecuteTime": {
     "end_time": "2024-07-02T13:53:47.459582200Z",
     "start_time": "2024-07-02T13:53:47.394039900Z"
    }
   },
   "outputs": [
    {
     "data": {
      "text/plain": "        splitter_id  pre_spends GroupDifference control mean 0  \\\n0  AASplitter┴rs 0┴                                   487.3426   \n1  AASplitter┴rs 1┴                                   487.3426   \n2  AASplitter┴rs 2┴                                   487.3426   \n3  AASplitter┴rs 3┴                                   487.3426   \n4  AASplitter┴rs 4┴                                   487.3426   \n5  AASplitter┴rs 5┴                                   487.3426   \n6  AASplitter┴rs 6┴                                   487.3426   \n7  AASplitter┴rs 7┴                                   487.3426   \n8  AASplitter┴rs 8┴                                   487.3426   \n9  AASplitter┴rs 9┴                                   487.3426   \n\n   pre_spends GroupDifference test mean 0  \\\n0                                486.8449   \n1                                486.8449   \n2                                486.8449   \n3                                486.8449   \n4                                486.8449   \n5                                486.8449   \n6                                486.8449   \n7                                486.8449   \n8                                486.8449   \n9                                486.8449   \n\n   pre_spends GroupDifference difference 0  \\\n0                                  -0.4977   \n1                                  -0.4977   \n2                                  -0.4977   \n3                                  -0.4977   \n4                                  -0.4977   \n5                                  -0.4977   \n6                                  -0.4977   \n7                                  -0.4977   \n8                                  -0.4977   \n9                                  -0.4977   \n\n   pre_spends GroupDifference difference % 0  \\\n0                                  -0.102125   \n1                                  -0.102125   \n2                                  -0.102125   \n3                                  -0.102125   \n4                                  -0.102125   \n5                                  -0.102125   \n6                                  -0.102125   \n7                                  -0.102125   \n8                                  -0.102125   \n9                                  -0.102125   \n\n   post_spends GroupDifference control mean 0  \\\n0                                  452.718578   \n1                                  452.718578   \n2                                  452.718578   \n3                                  452.718578   \n4                                  452.718578   \n5                                  452.718578   \n6                                  452.718578   \n7                                  452.718578   \n8                                  452.718578   \n9                                  452.718578   \n\n   post_spends GroupDifference test mean 0  \\\n0                               451.610533   \n1                               451.610533   \n2                               451.610533   \n3                               451.610533   \n4                               451.610533   \n5                               451.610533   \n6                               451.610533   \n7                               451.610533   \n8                               451.610533   \n9                               451.610533   \n\n   post_spends GroupDifference difference 0  \\\n0                                 -1.108044   \n1                                 -1.108044   \n2                                 -1.108044   \n3                                 -1.108044   \n4                                 -1.108044   \n5                                 -1.108044   \n6                                 -1.108044   \n7                                 -1.108044   \n8                                 -1.108044   \n9                                 -1.108044   \n\n   post_spends GroupDifference difference % 0  GroupSizes control size 0  ...  \\\n0                                   -0.244753                       5000  ...   \n1                                   -0.244753                       5000  ...   \n2                                   -0.244753                       5000  ...   \n3                                   -0.244753                       5000  ...   \n4                                   -0.244753                       5000  ...   \n5                                   -0.244753                       5000  ...   \n6                                   -0.244753                       5000  ...   \n7                                   -0.244753                       5000  ...   \n8                                   -0.244753                       5000  ...   \n9                                   -0.244753                       5000  ...   \n\n   post_spends TTest pass 0  pre_spends KSTest p-value 0  \\\n0                     False                     0.220219   \n1                     False                     0.220219   \n2                     False                     0.220219   \n3                     False                     0.220219   \n4                     False                     0.220219   \n5                     False                     0.220219   \n6                     False                     0.220219   \n7                     False                     0.220219   \n8                     False                     0.220219   \n9                     False                     0.220219   \n\n   pre_spends KSTest pass 0  post_spends KSTest p-value 0  \\\n0                     False                      0.211152   \n1                     False                      0.211152   \n2                     False                      0.211152   \n3                     False                      0.211152   \n4                     False                      0.211152   \n5                     False                      0.211152   \n6                     False                      0.211152   \n7                     False                      0.211152   \n8                     False                      0.211152   \n9                     False                      0.211152   \n\n   post_spends KSTest pass 0  mean TTest p-value  mean TTest pass  \\\n0                      False            0.173506              0.0   \n1                      False            0.173506              0.0   \n2                      False            0.173506              0.0   \n3                      False            0.173506              0.0   \n4                      False            0.173506              0.0   \n5                      False            0.173506              0.0   \n6                      False            0.173506              0.0   \n7                      False            0.173506              0.0   \n8                      False            0.173506              0.0   \n9                      False            0.173506              0.0   \n\n   mean KSTest p-value  mean KSTest pass  mean test score  \n0             0.215686               0.0         0.201626  \n1             0.215686               0.0         0.201626  \n2             0.215686               0.0         0.201626  \n3             0.215686               0.0         0.201626  \n4             0.215686               0.0         0.201626  \n5             0.215686               0.0         0.201626  \n6             0.215686               0.0         0.201626  \n7             0.215686               0.0         0.201626  \n8             0.215686               0.0         0.201626  \n9             0.215686               0.0         0.201626  \n\n[10 rows x 26 columns]"
     },
     "execution_count": 9,
     "metadata": {},
     "output_type": "execute_result"
    }
   ],
   "source": [
    "res.experiments"
   ]
  }
 ],
 "metadata": {
  "kernelspec": {
   "display_name": "Python 3",
   "language": "python",
   "name": "python3"
  },
  "language_info": {
   "codemirror_mode": {
    "name": "ipython",
    "version": 3
   },
   "file_extension": ".py",
   "mimetype": "text/x-python",
   "name": "python",
   "nbconvert_exporter": "python",
   "pygments_lexer": "ipython3",
   "version": "3.8.10"
  }
 },
 "nbformat": 4,
 "nbformat_minor": 5
}

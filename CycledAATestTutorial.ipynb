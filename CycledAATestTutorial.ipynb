{
 "cells": [
  {
   "cell_type": "code",
   "execution_count": 1,
   "id": "f890151fc64fd3fa",
   "metadata": {
    "ExecuteTime": {
     "end_time": "2024-06-18T15:28:40.020190Z",
     "start_time": "2024-06-18T15:28:38.498975500Z"
    },
    "collapsed": false
   },
   "outputs": [],
   "source": [
    "import pandas as pd\n",
    "import warnings\n",
    "\n",
    "warnings.simplefilter(action='ignore')\n",
    "\n",
    "from hypex.dataset import Dataset, ExperimentData, InfoRole, TreatmentRole, TargetRole, StratificationRole\n",
    "from hypex.analyzers.aa import AAScoreAnalyzer\n",
    "from hypex.experiments.aa import AATest"
   ]
  },
  {
   "cell_type": "code",
   "execution_count": 2,
   "id": "70e663c02efb6980",
   "metadata": {
    "ExecuteTime": {
     "end_time": "2024-06-18T15:28:40.066408200Z",
     "start_time": "2024-06-18T15:28:40.023760900Z"
    },
    "collapsed": false
   },
   "outputs": [],
   "source": [
    "data = Dataset(\n",
    "    roles={\n",
    "        \"user_id\": InfoRole(int),\n",
    "        \"treat\": TreatmentRole(int),\n",
    "        \"pre_spends\": TargetRole(),\n",
    "        \"post_spends\": TargetRole(),\n",
    "        \"gender\": StratificationRole(str)\n",
    "    }, data=\"data.csv\",\n",
    ")\n",
    "# data"
   ]
  },
  {
   "cell_type": "code",
   "execution_count": 3,
   "id": "initial_id",
   "metadata": {
    "ExecuteTime": {
     "start_time": "2024-06-18T15:28:40.028638200Z"
    },
    "collapsed": true
   },
   "outputs": [],
   "source": [
    "aa = AATest(n_iterations=10)\n",
    "res = aa.execute(data)"
   ]
  },
  {
   "cell_type": "code",
   "execution_count": 4,
   "id": "41e9963a",
   "metadata": {},
   "outputs": [
    {
     "data": {
      "text/plain": [
       "  TTest aa test KSTest aa test TTest best split KSTest best split  result  \\\n",
       "0        NOT OK         NOT OK               OK                OK  NOT OK   \n",
       "1        NOT OK         NOT OK               OK                OK  NOT OK   \n",
       "\n",
       "       feature group  \n",
       "0  post_spends     0  \n",
       "1   pre_spends     0  "
      ]
     },
     "execution_count": 4,
     "metadata": {},
     "output_type": "execute_result"
    }
   ],
   "source": [
    "res.resume"
   ]
  },
  {
   "cell_type": "code",
   "execution_count": 5,
   "id": "50ae28a8",
   "metadata": {},
   "outputs": [
    {
     "data": {
      "text/plain": [
       "                       pass     score\n",
       "pre_spends TTest 0    False  0.862724\n",
       "post_spends TTest 0   False  0.890264\n",
       "pre_spends KSTest 0   False  0.829781\n",
       "post_spends KSTest 0  False  0.838848"
      ]
     },
     "execution_count": 5,
     "metadata": {},
     "output_type": "execute_result"
    }
   ],
   "source": [
    "res.aa_score"
   ]
  },
  {
   "cell_type": "code",
   "execution_count": 6,
   "id": "cc42c534",
   "metadata": {},
   "outputs": [
    {
     "data": {
      "text/plain": [
       "      user_id  signup_month  treat  pre_spends  post_spends   age gender  \\\n",
       "0           0             0      0       488.0   414.444444   NaN      M   \n",
       "1           1             8      1       512.5   462.222222  26.0    NaN   \n",
       "2           2             7      1       483.0   479.444444  25.0      M   \n",
       "3           3             0      0       501.5   424.333333  39.0      M   \n",
       "4           4             1      1       543.0   514.555556  18.0      F   \n",
       "...       ...           ...    ...         ...          ...   ...    ...   \n",
       "9995     9995            10      1       538.5   450.444444  42.0      M   \n",
       "9996     9996             0      0       500.5   430.888889  26.0      F   \n",
       "9997     9997             3      1       473.0   534.111111  22.0      F   \n",
       "9998     9998             2      1       495.0   523.222222  67.0      F   \n",
       "9999     9999             7      1       508.0   475.888889  38.0      F   \n",
       "\n",
       "        industry    split  \n",
       "0     E-commerce  control  \n",
       "1     E-commerce  control  \n",
       "2      Logistics  control  \n",
       "3     E-commerce  control  \n",
       "4     E-commerce  control  \n",
       "...          ...      ...  \n",
       "9995   Logistics     test  \n",
       "9996   Logistics     test  \n",
       "9997  E-commerce     test  \n",
       "9998  E-commerce     test  \n",
       "9999  E-commerce     test  \n",
       "\n",
       "[10000 rows x 9 columns]"
      ]
     },
     "execution_count": 6,
     "metadata": {},
     "output_type": "execute_result"
    }
   ],
   "source": [
    "res.best_split"
   ]
  },
  {
   "cell_type": "code",
   "execution_count": 7,
   "id": "18351884",
   "metadata": {},
   "outputs": [
    {
     "data": {
      "text/plain": [
       "       feature group TTest pass  TTest p-value KSTest pass  KSTest p-value\n",
       "0   pre_spends     0         OK       0.187276          OK        0.220219\n",
       "1  post_spends     0         OK       0.159736          OK        0.211152"
      ]
     },
     "execution_count": 7,
     "metadata": {},
     "output_type": "execute_result"
    }
   ],
   "source": [
    "res.best_split_statistic"
   ]
  },
  {
   "cell_type": "code",
   "execution_count": 8,
   "id": "0da18405",
   "metadata": {},
   "outputs": [
    {
     "data": {
      "text/plain": [
       "        splitter_id  pre_spends GroupDifference control mean 0  \\\n",
       "0  AASplitter┴rs 0┴                                   487.3426   \n",
       "1  AASplitter┴rs 1┴                                   487.3426   \n",
       "2  AASplitter┴rs 2┴                                   487.3426   \n",
       "3  AASplitter┴rs 3┴                                   487.3426   \n",
       "4  AASplitter┴rs 4┴                                   487.3426   \n",
       "5  AASplitter┴rs 5┴                                   487.3426   \n",
       "6  AASplitter┴rs 6┴                                   487.3426   \n",
       "7  AASplitter┴rs 7┴                                   487.3426   \n",
       "8  AASplitter┴rs 8┴                                   487.3426   \n",
       "9  AASplitter┴rs 9┴                                   487.3426   \n",
       "\n",
       "   pre_spends GroupDifference test mean 0  \\\n",
       "0                                486.8449   \n",
       "1                                486.8449   \n",
       "2                                486.8449   \n",
       "3                                486.8449   \n",
       "4                                486.8449   \n",
       "5                                486.8449   \n",
       "6                                486.8449   \n",
       "7                                486.8449   \n",
       "8                                486.8449   \n",
       "9                                486.8449   \n",
       "\n",
       "   pre_spends GroupDifference difference 0  \\\n",
       "0                                  -0.4977   \n",
       "1                                  -0.4977   \n",
       "2                                  -0.4977   \n",
       "3                                  -0.4977   \n",
       "4                                  -0.4977   \n",
       "5                                  -0.4977   \n",
       "6                                  -0.4977   \n",
       "7                                  -0.4977   \n",
       "8                                  -0.4977   \n",
       "9                                  -0.4977   \n",
       "\n",
       "   pre_spends GroupDifference difference % 0  \\\n",
       "0                                  -0.102125   \n",
       "1                                  -0.102125   \n",
       "2                                  -0.102125   \n",
       "3                                  -0.102125   \n",
       "4                                  -0.102125   \n",
       "5                                  -0.102125   \n",
       "6                                  -0.102125   \n",
       "7                                  -0.102125   \n",
       "8                                  -0.102125   \n",
       "9                                  -0.102125   \n",
       "\n",
       "   post_spends GroupDifference control mean 0  \\\n",
       "0                                  452.718578   \n",
       "1                                  452.718578   \n",
       "2                                  452.718578   \n",
       "3                                  452.718578   \n",
       "4                                  452.718578   \n",
       "5                                  452.718578   \n",
       "6                                  452.718578   \n",
       "7                                  452.718578   \n",
       "8                                  452.718578   \n",
       "9                                  452.718578   \n",
       "\n",
       "   post_spends GroupDifference test mean 0  \\\n",
       "0                               451.610533   \n",
       "1                               451.610533   \n",
       "2                               451.610533   \n",
       "3                               451.610533   \n",
       "4                               451.610533   \n",
       "5                               451.610533   \n",
       "6                               451.610533   \n",
       "7                               451.610533   \n",
       "8                               451.610533   \n",
       "9                               451.610533   \n",
       "\n",
       "   post_spends GroupDifference difference 0  \\\n",
       "0                                 -1.108044   \n",
       "1                                 -1.108044   \n",
       "2                                 -1.108044   \n",
       "3                                 -1.108044   \n",
       "4                                 -1.108044   \n",
       "5                                 -1.108044   \n",
       "6                                 -1.108044   \n",
       "7                                 -1.108044   \n",
       "8                                 -1.108044   \n",
       "9                                 -1.108044   \n",
       "\n",
       "   post_spends GroupDifference difference % 0  GroupSizes control size 0  ...  \\\n",
       "0                                   -0.244753                       5000  ...   \n",
       "1                                   -0.244753                       5000  ...   \n",
       "2                                   -0.244753                       5000  ...   \n",
       "3                                   -0.244753                       5000  ...   \n",
       "4                                   -0.244753                       5000  ...   \n",
       "5                                   -0.244753                       5000  ...   \n",
       "6                                   -0.244753                       5000  ...   \n",
       "7                                   -0.244753                       5000  ...   \n",
       "8                                   -0.244753                       5000  ...   \n",
       "9                                   -0.244753                       5000  ...   \n",
       "\n",
       "   post_spends TTest pass 0  pre_spends KSTest p-value 0  \\\n",
       "0                     False                     0.220219   \n",
       "1                     False                     0.220219   \n",
       "2                     False                     0.220219   \n",
       "3                     False                     0.220219   \n",
       "4                     False                     0.220219   \n",
       "5                     False                     0.220219   \n",
       "6                     False                     0.220219   \n",
       "7                     False                     0.220219   \n",
       "8                     False                     0.220219   \n",
       "9                     False                     0.220219   \n",
       "\n",
       "   pre_spends KSTest pass 0  post_spends KSTest p-value 0  \\\n",
       "0                     False                      0.211152   \n",
       "1                     False                      0.211152   \n",
       "2                     False                      0.211152   \n",
       "3                     False                      0.211152   \n",
       "4                     False                      0.211152   \n",
       "5                     False                      0.211152   \n",
       "6                     False                      0.211152   \n",
       "7                     False                      0.211152   \n",
       "8                     False                      0.211152   \n",
       "9                     False                      0.211152   \n",
       "\n",
       "   post_spends KSTest pass 0  mean TTest p-value  mean TTest pass  \\\n",
       "0                      False            0.173506              0.0   \n",
       "1                      False            0.173506              0.0   \n",
       "2                      False            0.173506              0.0   \n",
       "3                      False            0.173506              0.0   \n",
       "4                      False            0.173506              0.0   \n",
       "5                      False            0.173506              0.0   \n",
       "6                      False            0.173506              0.0   \n",
       "7                      False            0.173506              0.0   \n",
       "8                      False            0.173506              0.0   \n",
       "9                      False            0.173506              0.0   \n",
       "\n",
       "   mean KSTest p-value  mean KSTest pass  mean test score  \n",
       "0             0.215686               0.0         0.201626  \n",
       "1             0.215686               0.0         0.201626  \n",
       "2             0.215686               0.0         0.201626  \n",
       "3             0.215686               0.0         0.201626  \n",
       "4             0.215686               0.0         0.201626  \n",
       "5             0.215686               0.0         0.201626  \n",
       "6             0.215686               0.0         0.201626  \n",
       "7             0.215686               0.0         0.201626  \n",
       "8             0.215686               0.0         0.201626  \n",
       "9             0.215686               0.0         0.201626  \n",
       "\n",
       "[10 rows x 26 columns]"
      ]
     },
     "execution_count": 8,
     "metadata": {},
     "output_type": "execute_result"
    }
   ],
   "source": [
    "res.experiments"
   ]
  }
 ],
 "metadata": {
  "kernelspec": {
   "display_name": "Python 3",
   "language": "python",
   "name": "python3"
  },
  "language_info": {
   "codemirror_mode": {
    "name": "ipython",
    "version": 3
   },
   "file_extension": ".py",
   "mimetype": "text/x-python",
   "name": "python",
   "nbconvert_exporter": "python",
   "pygments_lexer": "ipython3",
   "version": "3.8.10"
  }
 },
 "nbformat": 4,
 "nbformat_minor": 5
}

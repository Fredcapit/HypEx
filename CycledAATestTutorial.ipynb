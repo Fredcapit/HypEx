{
 "cells": [
  {
   "cell_type": "code",
   "execution_count": 1,
   "id": "f890151fc64fd3fa",
   "metadata": {
    "ExecuteTime": {
     "end_time": "2024-07-02T13:53:13.804684600Z",
     "start_time": "2024-07-02T13:53:11.519177700Z"
    },
    "collapsed": false
   },
   "outputs": [],
   "source": [
    "from hypex.dataset import Dataset, InfoRole, TreatmentRole, TargetRole, StratificationRole\n",
    "from hypex.experiments.aa import AATest"
   ]
  },
  {
   "cell_type": "code",
   "execution_count": 2,
   "id": "70e663c02efb6980",
   "metadata": {
    "ExecuteTime": {
     "end_time": "2024-07-02T13:53:36.532507100Z",
     "start_time": "2024-07-02T13:53:36.465891200Z"
    },
    "collapsed": false
   },
   "outputs": [],
   "source": [
    "data = Dataset(\n",
    "    roles={\n",
    "        \"user_id\": InfoRole(int),\n",
    "        \"treat\": TreatmentRole(int),\n",
    "        \"pre_spends\": TargetRole(),\n",
    "        \"post_spends\": TargetRole(),\n",
    "        \"gender\": StratificationRole(str)\n",
    "    }, data=\"data.csv\",\n",
    ")\n",
    "# data"
   ]
  },
  {
   "cell_type": "code",
   "execution_count": 3,
   "id": "initial_id",
   "metadata": {
    "ExecuteTime": {
     "end_time": "2024-07-02T13:53:40.741030900Z",
     "start_time": "2024-07-02T13:53:37.588957300Z"
    },
    "collapsed": true
   },
   "outputs": [],
   "source": [
    "aa = AATest(n_iterations=10)\n",
    "res = aa.execute(data)"
   ]
  },
  {
   "cell_type": "code",
   "execution_count": 4,
   "id": "41e9963a",
   "metadata": {
    "ExecuteTime": {
     "end_time": "2024-07-02T13:53:42.047146300Z",
     "start_time": "2024-07-02T13:53:41.984668600Z"
    }
   },
   "outputs": [
    {
     "data": {
      "text/plain": [
       "  TTest aa test KSTest aa test TTest best split KSTest best split  result  \\\n",
       "0        NOT OK         NOT OK               OK                OK  NOT OK   \n",
       "1        NOT OK         NOT OK               OK                OK  NOT OK   \n",
       "\n",
       "       feature group  \n",
       "0  post_spends     0  \n",
       "1   pre_spends     0  "
      ]
     },
     "execution_count": 4,
     "metadata": {},
     "output_type": "execute_result"
    }
   ],
   "source": [
    "res.resume"
   ]
  },
  {
   "cell_type": "code",
   "execution_count": 5,
   "id": "50ae28a8",
   "metadata": {
    "ExecuteTime": {
     "end_time": "2024-07-02T13:53:43.506256800Z",
     "start_time": "2024-07-02T13:53:43.446602700Z"
    }
   },
   "outputs": [
    {
     "data": {
      "text/plain": [
       "                       pass     score\n",
       "pre_spends TTest 0    False  0.653814\n",
       "post_spends TTest 0   False  0.664092\n",
       "pre_spends KSTest 0   False  0.639293\n",
       "post_spends KSTest 0  False  0.637995"
      ]
     },
     "execution_count": 5,
     "metadata": {},
     "output_type": "execute_result"
    }
   ],
   "source": [
    "res.aa_score"
   ]
  },
  {
   "cell_type": "code",
   "execution_count": 6,
   "id": "cc42c534",
   "metadata": {
    "ExecuteTime": {
     "end_time": "2024-07-02T13:53:45.728218200Z",
     "start_time": "2024-07-02T13:53:45.648806100Z"
    }
   },
   "outputs": [
    {
     "data": {
      "text/plain": [
       "      user_id  signup_month  treat  pre_spends  post_spends   age gender  \\\n",
       "0           0             0      0       488.0   414.444444   NaN      M   \n",
       "1           1             8      1       512.5   462.222222  26.0    NaN   \n",
       "2           2             7      1       483.0   479.444444  25.0      M   \n",
       "3           3             0      0       501.5   424.333333  39.0      M   \n",
       "4           4             1      1       543.0   514.555556  18.0      F   \n",
       "...       ...           ...    ...         ...          ...   ...    ...   \n",
       "9995     9995            10      1       538.5   450.444444  42.0      M   \n",
       "9996     9996             0      0       500.5   430.888889  26.0      F   \n",
       "9997     9997             3      1       473.0   534.111111  22.0      F   \n",
       "9998     9998             2      1       495.0   523.222222  67.0      F   \n",
       "9999     9999             7      1       508.0   475.888889  38.0      F   \n",
       "\n",
       "        industry    split  \n",
       "0     E-commerce  control  \n",
       "1     E-commerce     test  \n",
       "2      Logistics     test  \n",
       "3     E-commerce  control  \n",
       "4     E-commerce  control  \n",
       "...          ...      ...  \n",
       "9995   Logistics  control  \n",
       "9996   Logistics  control  \n",
       "9997  E-commerce     test  \n",
       "9998  E-commerce     test  \n",
       "9999  E-commerce  control  \n",
       "\n",
       "[10000 rows x 9 columns]"
      ]
     },
     "execution_count": 6,
     "metadata": {},
     "output_type": "execute_result"
    }
   ],
   "source": [
    "res.best_split"
   ]
  },
  {
   "cell_type": "code",
   "execution_count": 7,
   "id": "18351884",
   "metadata": {
    "ExecuteTime": {
     "end_time": "2024-07-02T13:53:46.684335700Z",
     "start_time": "2024-07-02T13:53:46.624224900Z"
    }
   },
   "outputs": [
    {
     "data": {
      "text/plain": [
       "       feature group TTest pass  TTest p-value KSTest pass  KSTest p-value\n",
       "0   pre_spends     0         OK       0.645746          OK        0.932542\n",
       "1  post_spends     0         OK       0.357727          OK        0.577046"
      ]
     },
     "execution_count": 7,
     "metadata": {},
     "output_type": "execute_result"
    }
   ],
   "source": [
    "res.best_split_statistic"
   ]
  },
  {
   "cell_type": "code",
   "execution_count": 8,
   "id": "0da18405",
   "metadata": {
    "ExecuteTime": {
     "end_time": "2024-07-02T13:53:47.459582200Z",
     "start_time": "2024-07-02T13:53:47.394039900Z"
    }
   },
   "outputs": [
    {
     "data": {
      "text/plain": [
       "        splitter_id  pre_spends GroupDifference control mean 0  \\\n",
       "0  AASplitter┴rs 0┴                                   486.8074   \n",
       "1  AASplitter┴rs 1┴                                   486.8542   \n",
       "2  AASplitter┴rs 2┴                                   487.1430   \n",
       "3  AASplitter┴rs 3┴                                   487.5133   \n",
       "4  AASplitter┴rs 4┴                                   486.9905   \n",
       "5  AASplitter┴rs 5┴                                   487.2922   \n",
       "6  AASplitter┴rs 6┴                                   486.8775   \n",
       "7  AASplitter┴rs 7┴                                   487.0070   \n",
       "8  AASplitter┴rs 8┴                                   486.7993   \n",
       "9  AASplitter┴rs 9┴                                   487.1140   \n",
       "\n",
       "   pre_spends GroupDifference test mean 0  \\\n",
       "0                                487.3801   \n",
       "1                                487.3333   \n",
       "2                                487.0445   \n",
       "3                                486.6742   \n",
       "4                                487.1970   \n",
       "5                                486.8953   \n",
       "6                                487.3100   \n",
       "7                                487.1805   \n",
       "8                                487.3882   \n",
       "9                                487.0735   \n",
       "\n",
       "   pre_spends GroupDifference difference 0  \\\n",
       "0                                   0.5727   \n",
       "1                                   0.4791   \n",
       "2                                  -0.0985   \n",
       "3                                  -0.8391   \n",
       "4                                   0.2065   \n",
       "5                                  -0.3969   \n",
       "6                                   0.4325   \n",
       "7                                   0.1735   \n",
       "8                                   0.5889   \n",
       "9                                  -0.0405   \n",
       "\n",
       "   pre_spends GroupDifference difference % 0  \\\n",
       "0                                   0.117644   \n",
       "1                                   0.098407   \n",
       "2                                  -0.020220   \n",
       "3                                  -0.172118   \n",
       "4                                   0.042403   \n",
       "5                                  -0.081450   \n",
       "6                                   0.088831   \n",
       "7                                   0.035626   \n",
       "8                                   0.120974   \n",
       "9                                  -0.008314   \n",
       "\n",
       "   post_spends GroupDifference control mean 0  \\\n",
       "0                                  451.724200   \n",
       "1                                  452.151400   \n",
       "2                                  451.504911   \n",
       "3                                  453.078778   \n",
       "4                                  451.916489   \n",
       "5                                  451.686889   \n",
       "6                                  451.627689   \n",
       "7                                  452.526978   \n",
       "8                                  451.924844   \n",
       "9                                  452.327511   \n",
       "\n",
       "   post_spends GroupDifference test mean 0  \\\n",
       "0                               452.604911   \n",
       "1                               452.177711   \n",
       "2                               452.824200   \n",
       "3                               451.250333   \n",
       "4                               452.412622   \n",
       "5                               452.642222   \n",
       "6                               452.701422   \n",
       "7                               451.802133   \n",
       "8                               452.404267   \n",
       "9                               452.001600   \n",
       "\n",
       "   post_spends GroupDifference difference 0  \\\n",
       "0                                  0.880711   \n",
       "1                                  0.026311   \n",
       "2                                  1.319289   \n",
       "3                                 -1.828444   \n",
       "4                                  0.496133   \n",
       "5                                  0.955333   \n",
       "6                                  1.073733   \n",
       "7                                 -0.724844   \n",
       "8                                  0.479422   \n",
       "9                                 -0.325911   \n",
       "\n",
       "   post_spends GroupDifference difference % 0  GroupSizes control size 0  ...  \\\n",
       "0                                    0.194967                       5000  ...   \n",
       "1                                    0.005819                       5000  ...   \n",
       "2                                    0.292198                       5000  ...   \n",
       "3                                   -0.403560                       5000  ...   \n",
       "4                                    0.109784                       5000  ...   \n",
       "5                                    0.211503                       5000  ...   \n",
       "6                                    0.237747                       5000  ...   \n",
       "7                                   -0.160177                       5000  ...   \n",
       "8                                    0.106085                       5000  ...   \n",
       "9                                   -0.072052                       5000  ...   \n",
       "\n",
       "   post_spends TTest pass 0  pre_spends KSTest p-value 0  \\\n",
       "0                     False                     0.023582   \n",
       "1                     False                     0.420964   \n",
       "2                     False                     0.727866   \n",
       "3                      True                     0.177727   \n",
       "4                     False                     0.660939   \n",
       "5                     False                     0.392763   \n",
       "6                     False                     0.170057   \n",
       "7                     False                     0.932542   \n",
       "8                     False                     0.023582   \n",
       "9                     False                     0.577046   \n",
       "\n",
       "   pre_spends KSTest pass 0  post_spends KSTest p-value 0  \\\n",
       "0                      True                      0.480675   \n",
       "1                     False                      0.560541   \n",
       "2                     False                      0.177727   \n",
       "3                     False                      0.083564   \n",
       "4                     False                      0.064626   \n",
       "5                     False                      0.406718   \n",
       "6                     False                      0.528005   \n",
       "7                     False                      0.577046   \n",
       "8                      True                      0.760472   \n",
       "9                     False                      0.480675   \n",
       "\n",
       "   post_spends KSTest pass 0  mean TTest p-value  mean TTest pass  \\\n",
       "0                      False            0.196474              0.0   \n",
       "1                      False            0.588834              0.0   \n",
       "2                      False            0.444120              0.0   \n",
       "3                      False            0.023258              1.0   \n",
       "4                      False            0.556661              0.0   \n",
       "5                      False            0.259216              0.0   \n",
       "6                      False            0.212447              0.0   \n",
       "7                      False            0.501737              0.0   \n",
       "8                      False            0.330834              0.0   \n",
       "9                      False            0.796888              0.0   \n",
       "\n",
       "   mean KSTest p-value  mean KSTest pass  mean test score  \n",
       "0             0.252129               0.5         0.233577  \n",
       "1             0.490752               0.0         0.523446  \n",
       "2             0.452796               0.0         0.449904  \n",
       "3             0.130645               0.0         0.094849  \n",
       "4             0.362782               0.0         0.427409  \n",
       "5             0.399740               0.0         0.352899  \n",
       "6             0.349031               0.0         0.303503  \n",
       "7             0.754794               0.0         0.670441  \n",
       "8             0.392027               0.5         0.371629  \n",
       "9             0.528860               0.0         0.618203  \n",
       "\n",
       "[10 rows x 26 columns]"
      ]
     },
     "execution_count": 8,
     "metadata": {},
     "output_type": "execute_result"
    }
   ],
   "source": [
    "res.experiments"
   ]
  },
  {
   "cell_type": "code",
   "execution_count": null,
   "id": "a6038ed8",
   "metadata": {},
   "outputs": [],
   "source": []
  }
 ],
 "metadata": {
  "kernelspec": {
   "display_name": "Python 3",
   "language": "python",
   "name": "python3"
  },
  "language_info": {
   "codemirror_mode": {
    "name": "ipython",
    "version": 3
   },
   "file_extension": ".py",
   "mimetype": "text/x-python",
   "name": "python",
   "nbconvert_exporter": "python",
   "pygments_lexer": "ipython3",
   "version": "3.10.11"
  }
 },
 "nbformat": 4,
 "nbformat_minor": 5
}

{
 "cells": [
  {
   "cell_type": "code",
   "execution_count": 1,
   "id": "f890151fc64fd3fa",
   "metadata": {
    "ExecuteTime": {
     "end_time": "2024-05-02T14:26:19.428383900Z",
     "start_time": "2024-05-02T14:26:16.425481900Z"
    },
    "collapsed": false
   },
   "outputs": [
    {
     "name": "stderr",
     "output_type": "stream",
     "text": [
      "c:\\Python312\\Lib\\site-packages\\tqdm\\auto.py:21: TqdmWarning: IProgress not found. Please update jupyter and ipywidgets. See https://ipywidgets.readthedocs.io/en/stable/user_install.html\n",
      "  from .autonotebook import tqdm as notebook_tqdm\n"
     ]
    }
   ],
   "source": [
    "import pandas as pd\n",
    "import warnings\n",
    "\n",
    "warnings.simplefilter(action='ignore', category=pd.errors.PerformanceWarning)\n",
    "\n",
    "from hypex.dataset import Dataset, ExperimentData, InfoRole, TreatmentRole, TargetRole\n",
    "from hypex.comparators import TTest, KSTest, GroupSizes, GroupDifference\n",
    "from hypex.utils import SpaceEnum\n",
    "from hypex.splitters import AASplitter\n",
    "from hypex.analyzers import OneAAStatAnalyzer\n",
    "from hypex.experiments.aa2 import AATest"
   ]
  },
  {
   "cell_type": "code",
   "execution_count": 2,
   "id": "70e663c02efb6980",
   "metadata": {
    "ExecuteTime": {
     "end_time": "2024-05-02T14:26:19.547779900Z",
     "start_time": "2024-05-02T14:26:19.429298500Z"
    },
    "collapsed": false
   },
   "outputs": [
    {
     "data": {
      "text/plain": [
       "      user_id  signup_month  treat  pre_spends  post_spends   age gender  \\\n",
       "0           0             0      0       488.0   414.444444   NaN      M   \n",
       "1           1             8      1       512.5   462.222222  26.0    NaN   \n",
       "2           2             7      1       483.0   479.444444  25.0      M   \n",
       "3           3             0      0       501.5   424.333333  39.0      M   \n",
       "4           4             1      1       543.0   514.555556  18.0      F   \n",
       "...       ...           ...    ...         ...          ...   ...    ...   \n",
       "9995     9995            10      1       538.5   450.444444  42.0      M   \n",
       "9996     9996             0      0       500.5   430.888889  26.0      F   \n",
       "9997     9997             3      1       473.0   534.111111  22.0      F   \n",
       "9998     9998             2      1       495.0   523.222222  67.0      F   \n",
       "9999     9999             7      1       508.0   475.888889  38.0      F   \n",
       "\n",
       "        industry  \n",
       "0     E-commerce  \n",
       "1     E-commerce  \n",
       "2      Logistics  \n",
       "3     E-commerce  \n",
       "4     E-commerce  \n",
       "...          ...  \n",
       "9995   Logistics  \n",
       "9996   Logistics  \n",
       "9997  E-commerce  \n",
       "9998  E-commerce  \n",
       "9999  E-commerce  \n",
       "\n",
       "[10000 rows x 8 columns]"
      ]
     },
     "execution_count": 2,
     "metadata": {},
     "output_type": "execute_result"
    }
   ],
   "source": [
    "data = Dataset(\n",
    "    roles={\n",
    "        \"user_id\": InfoRole(int),\n",
    "        \"treat\": TreatmentRole(int),\n",
    "        \"pre_spends\": TargetRole(),\n",
    "        \"post_spends\": TargetRole()\n",
    "    }, data=\"data.csv\",\n",
    ")\n",
    "data"
   ]
  },
  {
   "cell_type": "code",
   "execution_count": 3,
   "id": "initial_id",
   "metadata": {
    "ExecuteTime": {
     "end_time": "2024-05-02T14:26:33.369983300Z",
     "start_time": "2024-05-02T14:26:19.554040200Z"
    },
    "collapsed": true
   },
   "outputs": [
    {
     "data": {
      "text/plain": [
       "<hypex.dataset.dataset.ExperimentData at 0x1379b04ac00>"
      ]
     },
     "execution_count": 3,
     "metadata": {},
     "output_type": "execute_result"
    }
   ],
   "source": [
    "aa = AATest(range(10))\n",
    "res = aa.execute(ExperimentData(data))\n",
    "res"
   ]
  },
  {
   "cell_type": "code",
   "execution_count": 4,
   "id": "1267bdee26db390c",
   "metadata": {
    "ExecuteTime": {
     "end_time": "2024-05-02T14:26:33.426084800Z",
     "start_time": "2024-05-02T14:26:33.374272900Z"
    },
    "collapsed": false
   },
   "outputs": [
    {
     "data": {
      "text/plain": [
       "{'AATest┴┴':    index    splitter_id  pre_spends┴control mean┴test  \\\n",
       " 0      0  AASplitter┴0┴                      486.9940   \n",
       " 1      0  AASplitter┴1┴                      486.8745   \n",
       " 2      0  AASplitter┴2┴                      487.0467   \n",
       " 3      0  AASplitter┴3┴                      486.8456   \n",
       " 4      0  AASplitter┴4┴                      486.8927   \n",
       " 5      0  AASplitter┴5┴                      487.0975   \n",
       " 6      0  AASplitter┴6┴                      487.1112   \n",
       " 7      0  AASplitter┴7┴                      487.1000   \n",
       " 8      0  AASplitter┴8┴                      487.1599   \n",
       " 9      0  AASplitter┴9┴                      487.4289   \n",
       " \n",
       "    pre_spends┴test mean┴test  pre_spends┴difference┴test  \\\n",
       " 0                   487.1935                      0.1995   \n",
       " 1                   487.3130                      0.4385   \n",
       " 2                   487.1408                      0.0941   \n",
       " 3                   487.3419                      0.4963   \n",
       " 4                   487.2948                      0.4021   \n",
       " 5                   487.0900                     -0.0075   \n",
       " 6                   487.0763                     -0.0349   \n",
       " 7                   487.0875                     -0.0125   \n",
       " 8                   487.0276                     -0.1323   \n",
       " 9                   486.7586                     -0.6703   \n",
       " \n",
       "    pre_spends┴difference %┴test  post_spends┴control mean┴test  \\\n",
       " 0                      0.040966                     452.146778   \n",
       " 1                      0.090064                     452.030533   \n",
       " 2                      0.019321                     452.501400   \n",
       " 3                      0.101942                     452.298644   \n",
       " 4                      0.082585                     452.084600   \n",
       " 5                     -0.001540                     451.931000   \n",
       " 6                     -0.007165                     452.112467   \n",
       " 7                     -0.002566                     452.613978   \n",
       " 8                     -0.027157                     451.820156   \n",
       " 9                     -0.137517                     452.434867   \n",
       " \n",
       "    post_spends┴test mean┴test  post_spends┴difference┴test  \\\n",
       " 0                  452.182333                     0.035556   \n",
       " 1                  452.298578                     0.268044   \n",
       " 2                  451.827711                    -0.673689   \n",
       " 3                  452.030467                    -0.268178   \n",
       " 4                  452.244511                     0.159911   \n",
       " 5                  452.398111                     0.467111   \n",
       " 6                  452.216644                     0.104178   \n",
       " 7                  451.715133                    -0.898844   \n",
       " 8                  452.508956                     0.688800   \n",
       " 9                  451.894244                    -0.540622   \n",
       " \n",
       "    post_spends┴difference %┴test  ...  test size %┴test  \\\n",
       " 0                       0.007864  ...              50.0   \n",
       " 1                       0.059298  ...              50.0   \n",
       " 2                      -0.148881  ...              50.0   \n",
       " 3                      -0.059292  ...              50.0   \n",
       " 4                       0.035372  ...              50.0   \n",
       " 5                       0.103359  ...              50.0   \n",
       " 6                       0.023042  ...              50.0   \n",
       " 7                      -0.198590  ...              50.0   \n",
       " 8                       0.152450  ...              50.0   \n",
       " 9                      -0.119492  ...              50.0   \n",
       " \n",
       "    pre_spends┴p-value┴test  pre_spends┴pass┴test  post_spends┴p-value┴test  \\\n",
       " 0                 0.037508                  True                  0.941502   \n",
       " 1                 0.465358                 False                  0.677788   \n",
       " 2                 0.694583                 False                  0.660939   \n",
       " 3                 0.465358                 False                  0.450293   \n",
       " 4                 0.148610                 False                  0.979998   \n",
       " 5                 0.922858                 False                  0.041954   \n",
       " 6                 0.984013                 False                  0.912466   \n",
       " 7                 0.727866                 False                  0.365744   \n",
       " 8                 0.744274                 False                  0.155504   \n",
       " 9                 0.087865                 False                  0.259452   \n",
       " \n",
       "    post_spends┴pass┴test  mean TTest p-value  mean TTest pass  \\\n",
       " 0                  False            0.780562              0.0   \n",
       " 1                  False            0.489547              0.0   \n",
       " 2                  False            0.597892              0.0   \n",
       " 3                  False            0.461088              0.0   \n",
       " 4                  False            0.562963              0.0   \n",
       " 5                   True            0.768772              0.0   \n",
       " 6                  False            0.910585              0.0   \n",
       " 7                  False            0.613830              0.0   \n",
       " 8                  False            0.554041              0.0   \n",
       " 9                  False            0.284234              0.0   \n",
       " \n",
       "    mean KSTest p-value  mean KSTest pass  mean test score  \n",
       " 0             0.489505               0.5         0.586524  \n",
       " 1             0.571573               0.0         0.544231  \n",
       " 2             0.677761               0.0         0.651138  \n",
       " 3             0.457825               0.0         0.458913  \n",
       " 4             0.564304               0.0         0.563857  \n",
       " 5             0.482406               0.5         0.577861  \n",
       " 6             0.948240               0.0         0.935688  \n",
       " 7             0.546805               0.0         0.569147  \n",
       " 8             0.449889               0.0         0.484606  \n",
       " 9             0.173659               0.0         0.210517  \n",
       " \n",
       " [10 rows x 23 columns]}"
      ]
     },
     "execution_count": 4,
     "metadata": {},
     "output_type": "execute_result"
    }
   ],
   "source": [
    "res.analysis_tables"
   ]
  },
  {
   "cell_type": "code",
   "execution_count": null,
   "id": "d04bae6250621c19",
   "metadata": {
    "collapsed": false
   },
   "outputs": [],
   "source": [
    "res.analysis_tables"
   ]
  },
  {
   "cell_type": "code",
   "execution_count": 5,
   "id": "eb9c92e677df78c0",
   "metadata": {
    "ExecuteTime": {
     "end_time": "2024-05-02T14:26:43.365365Z",
     "start_time": "2024-05-02T14:26:43.144083Z"
    },
    "collapsed": false
   },
   "outputs": [
    {
     "data": {
      "text/plain": [
       "   TTest p-value  TTest pass  KSTest p-value  KSTest pass  mean test score\n",
       "0       0.399466        0.05        0.501559          0.0         0.467528"
      ]
     },
     "execution_count": 5,
     "metadata": {},
     "output_type": "execute_result"
    }
   ],
   "source": [
    "res_analyzer = OneAAStatAnalyzer().execute(res)\n",
    "res_analyzer.analysis_tables['OneAAStatAnalyzer╰╰']"
   ]
  }
 ],
 "metadata": {
  "kernelspec": {
   "display_name": "Python 3",
   "language": "python",
   "name": "python3"
  },
  "language_info": {
   "codemirror_mode": {
    "name": "ipython",
    "version": 3
   },
   "file_extension": ".py",
   "mimetype": "text/x-python",
   "name": "python",
   "nbconvert_exporter": "python",
   "pygments_lexer": "ipython3",
   "version": "3.12.3"
  }
 },
 "nbformat": 4,
 "nbformat_minor": 5
}

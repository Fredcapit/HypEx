{
 "cells": [
  {
   "cell_type": "code",
   "metadata": {
    "ExecuteTime": {
     "end_time": "2024-06-10T08:58:04.963329Z",
     "start_time": "2024-06-10T08:58:04.297177Z"
    }
   },
   "source": [
    "from hypex.dataset import Dataset, ExperimentData, InfoRole, TreatmentRole, TargetRole, FeatureRole\n",
    "from hypex.experiments.aa import AA_TEST\n",
    "from hypex.reporters import AADictReporter"
   ],
   "outputs": [],
   "execution_count": 1
  },
  {
   "cell_type": "code",
   "metadata": {
    "ExecuteTime": {
     "end_time": "2024-06-10T08:58:04.992294Z",
     "start_time": "2024-06-10T08:58:04.965406Z"
    }
   },
   "source": [
    "data = Dataset(\n",
    "    roles={\n",
    "        \"user_id\": InfoRole(),\n",
    "        \"signup_month\": FeatureRole(),\n",
    "        \"treat\": TreatmentRole(),\n",
    "        \"pre_spends\": TargetRole(),\n",
    "        \"post_spends\": TargetRole(),\n",
    "        \"age\": FeatureRole(),\n",
    "        \"gender\": FeatureRole(),\n",
    "        \"industry\": FeatureRole(),\n",
    "        \"spend_for_candies\": FeatureRole(),\n",
    "    }, data=\"test_datafarame_with_corelation.csv\",\n",
    ")\n",
    "data"
   ],
   "outputs": [
    {
     "data": {
      "text/plain": [
       "      user_id  signup_month  treat  pre_spends  post_spends   age gender  \\\n",
       "0           0             0      0       488.0   414.444444   NaN      M   \n",
       "1           1             8      1       512.5   462.222222  26.0    NaN   \n",
       "2           2             7      1       483.0   479.444444  25.0      M   \n",
       "3           3             0      0       501.5   424.333333  39.0      M   \n",
       "4           4             1      1       543.0   514.555556  18.0      F   \n",
       "...       ...           ...    ...         ...          ...   ...    ...   \n",
       "9995     9995            10      1       538.5   450.444444  42.0      M   \n",
       "9996     9996             0      0       500.5   430.888889  26.0      F   \n",
       "9997     9997             3      1       473.0   534.111111  22.0      F   \n",
       "9998     9998             2      1       495.0   523.222222  67.0      F   \n",
       "9999     9999             7      1       508.0   475.888889  38.0      F   \n",
       "\n",
       "        industry  spend_for_candies  \n",
       "0     E-commerce         412.444444  \n",
       "1     E-commerce         460.222222  \n",
       "2      Logistics         477.444444  \n",
       "3     E-commerce         422.333333  \n",
       "4     E-commerce         512.555556  \n",
       "...          ...                ...  \n",
       "9995   Logistics         448.444444  \n",
       "9996   Logistics         428.888889  \n",
       "9997  E-commerce         532.111111  \n",
       "9998  E-commerce         521.222222  \n",
       "9999  E-commerce         473.888889  \n",
       "\n",
       "[10000 rows x 9 columns]"
      ]
     },
     "execution_count": 2,
     "metadata": {},
     "output_type": "execute_result"
    }
   ],
   "execution_count": 2
  },
  {
   "cell_type": "code",
   "metadata": {
    "ExecuteTime": {
     "end_time": "2024-06-10T08:58:05.013300Z",
     "start_time": "2024-06-10T08:58:04.994890Z"
    }
   },
   "source": [
    "data.data"
   ],
   "outputs": [
    {
     "data": {
      "text/plain": [
       "      user_id  signup_month  treat  pre_spends  post_spends   age gender  \\\n",
       "0           0             0      0       488.0   414.444444   NaN      M   \n",
       "1           1             8      1       512.5   462.222222  26.0    NaN   \n",
       "2           2             7      1       483.0   479.444444  25.0      M   \n",
       "3           3             0      0       501.5   424.333333  39.0      M   \n",
       "4           4             1      1       543.0   514.555556  18.0      F   \n",
       "...       ...           ...    ...         ...          ...   ...    ...   \n",
       "9995     9995            10      1       538.5   450.444444  42.0      M   \n",
       "9996     9996             0      0       500.5   430.888889  26.0      F   \n",
       "9997     9997             3      1       473.0   534.111111  22.0      F   \n",
       "9998     9998             2      1       495.0   523.222222  67.0      F   \n",
       "9999     9999             7      1       508.0   475.888889  38.0      F   \n",
       "\n",
       "        industry  spend_for_candies  \n",
       "0     E-commerce         412.444444  \n",
       "1     E-commerce         460.222222  \n",
       "2      Logistics         477.444444  \n",
       "3     E-commerce         422.333333  \n",
       "4     E-commerce         512.555556  \n",
       "...          ...                ...  \n",
       "9995   Logistics         448.444444  \n",
       "9996   Logistics         428.888889  \n",
       "9997  E-commerce         532.111111  \n",
       "9998  E-commerce         521.222222  \n",
       "9999  E-commerce         473.888889  \n",
       "\n",
       "[10000 rows x 9 columns]"
      ],
      "text/html": [
       "<div>\n",
       "<style scoped>\n",
       "    .dataframe tbody tr th:only-of-type {\n",
       "        vertical-align: middle;\n",
       "    }\n",
       "\n",
       "    .dataframe tbody tr th {\n",
       "        vertical-align: top;\n",
       "    }\n",
       "\n",
       "    .dataframe thead th {\n",
       "        text-align: right;\n",
       "    }\n",
       "</style>\n",
       "<table border=\"1\" class=\"dataframe\">\n",
       "  <thead>\n",
       "    <tr style=\"text-align: right;\">\n",
       "      <th></th>\n",
       "      <th>user_id</th>\n",
       "      <th>signup_month</th>\n",
       "      <th>treat</th>\n",
       "      <th>pre_spends</th>\n",
       "      <th>post_spends</th>\n",
       "      <th>age</th>\n",
       "      <th>gender</th>\n",
       "      <th>industry</th>\n",
       "      <th>spend_for_candies</th>\n",
       "    </tr>\n",
       "  </thead>\n",
       "  <tbody>\n",
       "    <tr>\n",
       "      <th>0</th>\n",
       "      <td>0</td>\n",
       "      <td>0</td>\n",
       "      <td>0</td>\n",
       "      <td>488.0</td>\n",
       "      <td>414.444444</td>\n",
       "      <td>NaN</td>\n",
       "      <td>M</td>\n",
       "      <td>E-commerce</td>\n",
       "      <td>412.444444</td>\n",
       "    </tr>\n",
       "    <tr>\n",
       "      <th>1</th>\n",
       "      <td>1</td>\n",
       "      <td>8</td>\n",
       "      <td>1</td>\n",
       "      <td>512.5</td>\n",
       "      <td>462.222222</td>\n",
       "      <td>26.0</td>\n",
       "      <td>NaN</td>\n",
       "      <td>E-commerce</td>\n",
       "      <td>460.222222</td>\n",
       "    </tr>\n",
       "    <tr>\n",
       "      <th>2</th>\n",
       "      <td>2</td>\n",
       "      <td>7</td>\n",
       "      <td>1</td>\n",
       "      <td>483.0</td>\n",
       "      <td>479.444444</td>\n",
       "      <td>25.0</td>\n",
       "      <td>M</td>\n",
       "      <td>Logistics</td>\n",
       "      <td>477.444444</td>\n",
       "    </tr>\n",
       "    <tr>\n",
       "      <th>3</th>\n",
       "      <td>3</td>\n",
       "      <td>0</td>\n",
       "      <td>0</td>\n",
       "      <td>501.5</td>\n",
       "      <td>424.333333</td>\n",
       "      <td>39.0</td>\n",
       "      <td>M</td>\n",
       "      <td>E-commerce</td>\n",
       "      <td>422.333333</td>\n",
       "    </tr>\n",
       "    <tr>\n",
       "      <th>4</th>\n",
       "      <td>4</td>\n",
       "      <td>1</td>\n",
       "      <td>1</td>\n",
       "      <td>543.0</td>\n",
       "      <td>514.555556</td>\n",
       "      <td>18.0</td>\n",
       "      <td>F</td>\n",
       "      <td>E-commerce</td>\n",
       "      <td>512.555556</td>\n",
       "    </tr>\n",
       "    <tr>\n",
       "      <th>...</th>\n",
       "      <td>...</td>\n",
       "      <td>...</td>\n",
       "      <td>...</td>\n",
       "      <td>...</td>\n",
       "      <td>...</td>\n",
       "      <td>...</td>\n",
       "      <td>...</td>\n",
       "      <td>...</td>\n",
       "      <td>...</td>\n",
       "    </tr>\n",
       "    <tr>\n",
       "      <th>9995</th>\n",
       "      <td>9995</td>\n",
       "      <td>10</td>\n",
       "      <td>1</td>\n",
       "      <td>538.5</td>\n",
       "      <td>450.444444</td>\n",
       "      <td>42.0</td>\n",
       "      <td>M</td>\n",
       "      <td>Logistics</td>\n",
       "      <td>448.444444</td>\n",
       "    </tr>\n",
       "    <tr>\n",
       "      <th>9996</th>\n",
       "      <td>9996</td>\n",
       "      <td>0</td>\n",
       "      <td>0</td>\n",
       "      <td>500.5</td>\n",
       "      <td>430.888889</td>\n",
       "      <td>26.0</td>\n",
       "      <td>F</td>\n",
       "      <td>Logistics</td>\n",
       "      <td>428.888889</td>\n",
       "    </tr>\n",
       "    <tr>\n",
       "      <th>9997</th>\n",
       "      <td>9997</td>\n",
       "      <td>3</td>\n",
       "      <td>1</td>\n",
       "      <td>473.0</td>\n",
       "      <td>534.111111</td>\n",
       "      <td>22.0</td>\n",
       "      <td>F</td>\n",
       "      <td>E-commerce</td>\n",
       "      <td>532.111111</td>\n",
       "    </tr>\n",
       "    <tr>\n",
       "      <th>9998</th>\n",
       "      <td>9998</td>\n",
       "      <td>2</td>\n",
       "      <td>1</td>\n",
       "      <td>495.0</td>\n",
       "      <td>523.222222</td>\n",
       "      <td>67.0</td>\n",
       "      <td>F</td>\n",
       "      <td>E-commerce</td>\n",
       "      <td>521.222222</td>\n",
       "    </tr>\n",
       "    <tr>\n",
       "      <th>9999</th>\n",
       "      <td>9999</td>\n",
       "      <td>7</td>\n",
       "      <td>1</td>\n",
       "      <td>508.0</td>\n",
       "      <td>475.888889</td>\n",
       "      <td>38.0</td>\n",
       "      <td>F</td>\n",
       "      <td>E-commerce</td>\n",
       "      <td>473.888889</td>\n",
       "    </tr>\n",
       "  </tbody>\n",
       "</table>\n",
       "<p>10000 rows × 9 columns</p>\n",
       "</div>"
      ]
     },
     "execution_count": 3,
     "metadata": {},
     "output_type": "execute_result"
    }
   ],
   "execution_count": 3
  },
  {
   "cell_type": "code",
   "metadata": {
    "ExecuteTime": {
     "end_time": "2024-06-10T08:58:05.023469Z",
     "start_time": "2024-06-10T08:58:05.016196Z"
    }
   },
   "source": [
    "data.roles"
   ],
   "outputs": [
    {
     "data": {
      "text/plain": [
       "{'user_id': Info(<class 'int'>),\n",
       " 'signup_month': Feature(<class 'int'>),\n",
       " 'treat': Treatment(<class 'int'>),\n",
       " 'pre_spends': Target(<class 'float'>),\n",
       " 'post_spends': Target(<class 'float'>),\n",
       " 'age': Feature(<class 'float'>),\n",
       " 'gender': Feature(<class 'str'>),\n",
       " 'industry': Feature(<class 'str'>),\n",
       " 'spend_for_candies': Feature(<class 'float'>)}"
      ]
     },
     "execution_count": 4,
     "metadata": {},
     "output_type": "execute_result"
    }
   ],
   "execution_count": 4
  },
  {
   "cell_type": "code",
   "metadata": {
    "ExecuteTime": {
     "end_time": "2024-06-10T08:58:06.195130Z",
     "start_time": "2024-06-10T08:58:05.028044Z"
    }
   },
   "source": [
    "test = AA_TEST\n",
    "ed = ExperimentData(data)\n",
    "result = test.execute(ed)"
   ],
   "outputs": [
    {
     "ename": "KeyError",
     "evalue": "'gender'",
     "output_type": "error",
     "traceback": [
      "\u001B[0;31m---------------------------------------------------------------------------\u001B[0m",
      "\u001B[0;31mKeyError\u001B[0m                                  Traceback (most recent call last)",
      "File \u001B[0;32m~/.local/lib/python3.10/site-packages/pandas/core/indexes/base.py:3805\u001B[0m, in \u001B[0;36mIndex.get_loc\u001B[0;34m(self, key)\u001B[0m\n\u001B[1;32m   3804\u001B[0m \u001B[38;5;28;01mtry\u001B[39;00m:\n\u001B[0;32m-> 3805\u001B[0m     \u001B[38;5;28;01mreturn\u001B[39;00m \u001B[38;5;28;43mself\u001B[39;49m\u001B[38;5;241;43m.\u001B[39;49m\u001B[43m_engine\u001B[49m\u001B[38;5;241;43m.\u001B[39;49m\u001B[43mget_loc\u001B[49m\u001B[43m(\u001B[49m\u001B[43mcasted_key\u001B[49m\u001B[43m)\u001B[49m\n\u001B[1;32m   3806\u001B[0m \u001B[38;5;28;01mexcept\u001B[39;00m \u001B[38;5;167;01mKeyError\u001B[39;00m \u001B[38;5;28;01mas\u001B[39;00m err:\n",
      "File \u001B[0;32mindex.pyx:167\u001B[0m, in \u001B[0;36mpandas._libs.index.IndexEngine.get_loc\u001B[0;34m()\u001B[0m\n",
      "File \u001B[0;32mindex.pyx:196\u001B[0m, in \u001B[0;36mpandas._libs.index.IndexEngine.get_loc\u001B[0;34m()\u001B[0m\n",
      "File \u001B[0;32mpandas/_libs/hashtable_class_helper.pxi:7081\u001B[0m, in \u001B[0;36mpandas._libs.hashtable.PyObjectHashTable.get_item\u001B[0;34m()\u001B[0m\n",
      "File \u001B[0;32mpandas/_libs/hashtable_class_helper.pxi:7089\u001B[0m, in \u001B[0;36mpandas._libs.hashtable.PyObjectHashTable.get_item\u001B[0;34m()\u001B[0m\n",
      "\u001B[0;31mKeyError\u001B[0m: 'gender'",
      "\nThe above exception was the direct cause of the following exception:\n",
      "\u001B[0;31mKeyError\u001B[0m                                  Traceback (most recent call last)",
      "Cell \u001B[0;32mIn[5], line 3\u001B[0m\n\u001B[1;32m      1\u001B[0m test \u001B[38;5;241m=\u001B[39m AA_TEST\n\u001B[1;32m      2\u001B[0m ed \u001B[38;5;241m=\u001B[39m ExperimentData(data)\n\u001B[0;32m----> 3\u001B[0m result \u001B[38;5;241m=\u001B[39m \u001B[43mtest\u001B[49m\u001B[38;5;241;43m.\u001B[39;49m\u001B[43mexecute\u001B[49m\u001B[43m(\u001B[49m\u001B[43med\u001B[49m\u001B[43m)\u001B[49m\n",
      "File \u001B[0;32m~/job/HypEx/hypex/experiments/base.py:61\u001B[0m, in \u001B[0;36mExperiment.execute\u001B[0;34m(self, data)\u001B[0m\n\u001B[1;32m     59\u001B[0m     executor\u001B[38;5;241m.\u001B[39mkey \u001B[38;5;241m=\u001B[39m \u001B[38;5;28mself\u001B[39m\u001B[38;5;241m.\u001B[39mkey\n\u001B[1;32m     60\u001B[0m     executor\u001B[38;5;241m.\u001B[39mrandom_state \u001B[38;5;241m=\u001B[39m \u001B[38;5;28mself\u001B[39m\u001B[38;5;241m.\u001B[39mrandom_state\n\u001B[0;32m---> 61\u001B[0m     experiment_data \u001B[38;5;241m=\u001B[39m \u001B[43mexecutor\u001B[49m\u001B[38;5;241;43m.\u001B[39;49m\u001B[43mexecute\u001B[49m\u001B[43m(\u001B[49m\u001B[43mexperiment_data\u001B[49m\u001B[43m)\u001B[49m\n\u001B[1;32m     62\u001B[0m \u001B[38;5;28;01mreturn\u001B[39;00m experiment_data\n",
      "File \u001B[0;32m~/job/HypEx/hypex/transformers/filters.py:205\u001B[0m, in \u001B[0;36mCorrFilter.execute\u001B[0;34m(self, data)\u001B[0m\n\u001B[1;32m    202\u001B[0m target_cols \u001B[38;5;241m=\u001B[39m data\u001B[38;5;241m.\u001B[39mds\u001B[38;5;241m.\u001B[39msearch_columns(roles\u001B[38;5;241m=\u001B[39mFeatureRole())\n\u001B[1;32m    203\u001B[0m corr_space_cols \u001B[38;5;241m=\u001B[39m data\u001B[38;5;241m.\u001B[39mds\u001B[38;5;241m.\u001B[39msearch_columns(roles\u001B[38;5;241m=\u001B[39m[FeatureRole(), TargetRole()])\n\u001B[1;32m    204\u001B[0m result \u001B[38;5;241m=\u001B[39m data\u001B[38;5;241m.\u001B[39mcopy(\n\u001B[0;32m--> 205\u001B[0m     data\u001B[38;5;241m=\u001B[39m\u001B[38;5;28;43mself\u001B[39;49m\u001B[38;5;241;43m.\u001B[39;49m\u001B[43mcalc\u001B[49m\u001B[43m(\u001B[49m\n\u001B[1;32m    206\u001B[0m \u001B[43m        \u001B[49m\u001B[43mdata\u001B[49m\u001B[38;5;241;43m=\u001B[39;49m\u001B[43mdata\u001B[49m\u001B[38;5;241;43m.\u001B[39;49m\u001B[43mds\u001B[49m\u001B[43m,\u001B[49m\n\u001B[1;32m    207\u001B[0m \u001B[43m        \u001B[49m\u001B[43mtarget_cols\u001B[49m\u001B[38;5;241;43m=\u001B[39;49m\u001B[43mtarget_cols\u001B[49m\u001B[43m,\u001B[49m\n\u001B[1;32m    208\u001B[0m \u001B[43m        \u001B[49m\u001B[43mthreshold\u001B[49m\u001B[38;5;241;43m=\u001B[39;49m\u001B[38;5;28;43mself\u001B[39;49m\u001B[38;5;241;43m.\u001B[39;49m\u001B[43mthreshold\u001B[49m\u001B[43m,\u001B[49m\n\u001B[1;32m    209\u001B[0m \u001B[43m        \u001B[49m\u001B[43mmethod\u001B[49m\u001B[38;5;241;43m=\u001B[39;49m\u001B[38;5;28;43mself\u001B[39;49m\u001B[38;5;241;43m.\u001B[39;49m\u001B[43mmethod\u001B[49m\u001B[43m,\u001B[49m\n\u001B[1;32m    210\u001B[0m \u001B[43m        \u001B[49m\u001B[43mnumeric_only\u001B[49m\u001B[38;5;241;43m=\u001B[39;49m\u001B[38;5;28;43mself\u001B[39;49m\u001B[38;5;241;43m.\u001B[39;49m\u001B[43mnumeric_only\u001B[49m\u001B[43m,\u001B[49m\n\u001B[1;32m    211\u001B[0m \u001B[43m        \u001B[49m\u001B[43mcorr_space_cols\u001B[49m\u001B[38;5;241;43m=\u001B[39;49m\u001B[43mcorr_space_cols\u001B[49m\u001B[43m,\u001B[49m\n\u001B[1;32m    212\u001B[0m \u001B[43m    \u001B[49m\u001B[43m)\u001B[49m\n\u001B[1;32m    213\u001B[0m )\n\u001B[1;32m    214\u001B[0m \u001B[38;5;28;01mreturn\u001B[39;00m result\n",
      "File \u001B[0;32m~/job/HypEx/hypex/transformers/abstract.py:21\u001B[0m, in \u001B[0;36mTransformer.calc\u001B[0;34m(cls, data, **kwargs)\u001B[0m\n\u001B[1;32m     19\u001B[0m \u001B[38;5;129m@classmethod\u001B[39m\n\u001B[1;32m     20\u001B[0m \u001B[38;5;28;01mdef\u001B[39;00m \u001B[38;5;21mcalc\u001B[39m(\u001B[38;5;28mcls\u001B[39m, data: Dataset, \u001B[38;5;241m*\u001B[39m\u001B[38;5;241m*\u001B[39mkwargs):\n\u001B[0;32m---> 21\u001B[0m     \u001B[38;5;28;01mreturn\u001B[39;00m \u001B[38;5;28;43mcls\u001B[39;49m\u001B[38;5;241;43m.\u001B[39;49m\u001B[43m_inner_function\u001B[49m\u001B[43m(\u001B[49m\u001B[43mdata\u001B[49m\u001B[43m,\u001B[49m\u001B[43m \u001B[49m\u001B[38;5;241;43m*\u001B[39;49m\u001B[38;5;241;43m*\u001B[39;49m\u001B[43mkwargs\u001B[49m\u001B[43m)\u001B[49m\n",
      "File \u001B[0;32m~/job/HypEx/hypex/transformers/filters.py:180\u001B[0m, in \u001B[0;36mCorrFilter._inner_function\u001B[0;34m(data, target_cols, threshold, method, numeric_only, corr_space_cols, drop_policy)\u001B[0m\n\u001B[1;32m    177\u001B[0m \u001B[38;5;28;01mfor\u001B[39;00m target \u001B[38;5;129;01min\u001B[39;00m target_cols:\n\u001B[1;32m    178\u001B[0m     \u001B[38;5;28;01mfor\u001B[39;00m column \u001B[38;5;129;01min\u001B[39;00m corr_matrix\u001B[38;5;241m.\u001B[39mcolumns:\n\u001B[1;32m    179\u001B[0m         \u001B[38;5;28;01mif\u001B[39;00m (target \u001B[38;5;241m!=\u001B[39m column) \u001B[38;5;129;01mand\u001B[39;00m (\n\u001B[0;32m--> 180\u001B[0m             \u001B[38;5;28mabs\u001B[39m(\u001B[43mcorr_matrix\u001B[49m\u001B[38;5;241;43m.\u001B[39;49m\u001B[43mget_values\u001B[49m\u001B[43m(\u001B[49m\u001B[43mtarget\u001B[49m\u001B[43m,\u001B[49m\u001B[43m \u001B[49m\u001B[43mcolumn\u001B[49m\u001B[43m)\u001B[49m) \u001B[38;5;241m>\u001B[39m threshold\n\u001B[1;32m    181\u001B[0m         ):\n\u001B[1;32m    182\u001B[0m             drop \u001B[38;5;241m=\u001B[39m target\n\u001B[1;32m    183\u001B[0m             \u001B[38;5;28;01mif\u001B[39;00m data\u001B[38;5;241m.\u001B[39mroles[column] \u001B[38;5;129;01min\u001B[39;00m target_cols:\n",
      "File \u001B[0;32m~/job/HypEx/hypex/dataset/abstract.py:166\u001B[0m, in \u001B[0;36mDatasetBase.get_values\u001B[0;34m(self, row, column)\u001B[0m\n\u001B[1;32m    165\u001B[0m \u001B[38;5;28;01mdef\u001B[39;00m \u001B[38;5;21mget_values\u001B[39m(\u001B[38;5;28mself\u001B[39m, row: FieldKeyTypes \u001B[38;5;241m=\u001B[39m \u001B[38;5;28;01mNone\u001B[39;00m, column: FieldKeyTypes \u001B[38;5;241m=\u001B[39m \u001B[38;5;28;01mNone\u001B[39;00m) \u001B[38;5;241m-\u001B[39m\u001B[38;5;241m>\u001B[39m Any:\n\u001B[0;32m--> 166\u001B[0m     \u001B[38;5;28;01mreturn\u001B[39;00m \u001B[38;5;28;43mself\u001B[39;49m\u001B[38;5;241;43m.\u001B[39;49m\u001B[43m_backend\u001B[49m\u001B[38;5;241;43m.\u001B[39;49m\u001B[43mget_values\u001B[49m\u001B[43m(\u001B[49m\u001B[43mrow\u001B[49m\u001B[38;5;241;43m=\u001B[39;49m\u001B[43mrow\u001B[49m\u001B[43m,\u001B[49m\u001B[43m \u001B[49m\u001B[43mcolumn\u001B[49m\u001B[38;5;241;43m=\u001B[39;49m\u001B[43mcolumn\u001B[49m\u001B[43m)\u001B[49m\n",
      "File \u001B[0;32m~/job/HypEx/hypex/dataset/backends/pandas_backend.py:242\u001B[0m, in \u001B[0;36mPandasDataset.get_values\u001B[0;34m(self, row, column)\u001B[0m\n\u001B[1;32m    240\u001B[0m \u001B[38;5;28;01mdef\u001B[39;00m \u001B[38;5;21mget_values\u001B[39m(\u001B[38;5;28mself\u001B[39m, row: FieldKeyTypes \u001B[38;5;241m=\u001B[39m \u001B[38;5;28;01mNone\u001B[39;00m, column: FieldKeyTypes \u001B[38;5;241m=\u001B[39m \u001B[38;5;28;01mNone\u001B[39;00m) \u001B[38;5;241m-\u001B[39m\u001B[38;5;241m>\u001B[39m Any:\n\u001B[1;32m    241\u001B[0m     \u001B[38;5;28;01mif\u001B[39;00m (column \u001B[38;5;129;01mis\u001B[39;00m \u001B[38;5;129;01mnot\u001B[39;00m \u001B[38;5;28;01mNone\u001B[39;00m) \u001B[38;5;129;01mand\u001B[39;00m (row \u001B[38;5;129;01mis\u001B[39;00m \u001B[38;5;129;01mnot\u001B[39;00m \u001B[38;5;28;01mNone\u001B[39;00m):\n\u001B[0;32m--> 242\u001B[0m         \u001B[38;5;28;01mreturn\u001B[39;00m \u001B[38;5;28;43mself\u001B[39;49m\u001B[38;5;241;43m.\u001B[39;49m\u001B[43mdata\u001B[49m\u001B[38;5;241;43m.\u001B[39;49m\u001B[43mloc\u001B[49m\u001B[43m[\u001B[49m\u001B[43mrow\u001B[49m\u001B[43m,\u001B[49m\u001B[43m \u001B[49m\u001B[43mcolumn\u001B[49m\u001B[43m]\u001B[49m\n\u001B[1;32m    243\u001B[0m     \u001B[38;5;28;01melif\u001B[39;00m column \u001B[38;5;129;01mis\u001B[39;00m \u001B[38;5;129;01mnot\u001B[39;00m \u001B[38;5;28;01mNone\u001B[39;00m:\n\u001B[1;32m    244\u001B[0m         result \u001B[38;5;241m=\u001B[39m \u001B[38;5;28mself\u001B[39m\u001B[38;5;241m.\u001B[39mdata\u001B[38;5;241m.\u001B[39mloc[:, column]\n",
      "File \u001B[0;32m~/.local/lib/python3.10/site-packages/pandas/core/indexing.py:1183\u001B[0m, in \u001B[0;36m_LocationIndexer.__getitem__\u001B[0;34m(self, key)\u001B[0m\n\u001B[1;32m   1181\u001B[0m     key \u001B[38;5;241m=\u001B[39m \u001B[38;5;28mtuple\u001B[39m(com\u001B[38;5;241m.\u001B[39mapply_if_callable(x, \u001B[38;5;28mself\u001B[39m\u001B[38;5;241m.\u001B[39mobj) \u001B[38;5;28;01mfor\u001B[39;00m x \u001B[38;5;129;01min\u001B[39;00m key)\n\u001B[1;32m   1182\u001B[0m     \u001B[38;5;28;01mif\u001B[39;00m \u001B[38;5;28mself\u001B[39m\u001B[38;5;241m.\u001B[39m_is_scalar_access(key):\n\u001B[0;32m-> 1183\u001B[0m         \u001B[38;5;28;01mreturn\u001B[39;00m \u001B[38;5;28;43mself\u001B[39;49m\u001B[38;5;241;43m.\u001B[39;49m\u001B[43mobj\u001B[49m\u001B[38;5;241;43m.\u001B[39;49m\u001B[43m_get_value\u001B[49m\u001B[43m(\u001B[49m\u001B[38;5;241;43m*\u001B[39;49m\u001B[43mkey\u001B[49m\u001B[43m,\u001B[49m\u001B[43m \u001B[49m\u001B[43mtakeable\u001B[49m\u001B[38;5;241;43m=\u001B[39;49m\u001B[38;5;28;43mself\u001B[39;49m\u001B[38;5;241;43m.\u001B[39;49m\u001B[43m_takeable\u001B[49m\u001B[43m)\u001B[49m\n\u001B[1;32m   1184\u001B[0m     \u001B[38;5;28;01mreturn\u001B[39;00m \u001B[38;5;28mself\u001B[39m\u001B[38;5;241m.\u001B[39m_getitem_tuple(key)\n\u001B[1;32m   1185\u001B[0m \u001B[38;5;28;01melse\u001B[39;00m:\n\u001B[1;32m   1186\u001B[0m     \u001B[38;5;66;03m# we by definition only have the 0th axis\u001B[39;00m\n",
      "File \u001B[0;32m~/.local/lib/python3.10/site-packages/pandas/core/frame.py:4209\u001B[0m, in \u001B[0;36mDataFrame._get_value\u001B[0;34m(self, index, col, takeable)\u001B[0m\n\u001B[1;32m   4203\u001B[0m engine \u001B[38;5;241m=\u001B[39m \u001B[38;5;28mself\u001B[39m\u001B[38;5;241m.\u001B[39mindex\u001B[38;5;241m.\u001B[39m_engine\n\u001B[1;32m   4205\u001B[0m \u001B[38;5;28;01mif\u001B[39;00m \u001B[38;5;129;01mnot\u001B[39;00m \u001B[38;5;28misinstance\u001B[39m(\u001B[38;5;28mself\u001B[39m\u001B[38;5;241m.\u001B[39mindex, MultiIndex):\n\u001B[1;32m   4206\u001B[0m     \u001B[38;5;66;03m# CategoricalIndex: Trying to use the engine fastpath may give incorrect\u001B[39;00m\n\u001B[1;32m   4207\u001B[0m     \u001B[38;5;66;03m#  results if our categories are integers that dont match our codes\u001B[39;00m\n\u001B[1;32m   4208\u001B[0m     \u001B[38;5;66;03m# IntervalIndex: IntervalTree has no get_loc\u001B[39;00m\n\u001B[0;32m-> 4209\u001B[0m     row \u001B[38;5;241m=\u001B[39m \u001B[38;5;28;43mself\u001B[39;49m\u001B[38;5;241;43m.\u001B[39;49m\u001B[43mindex\u001B[49m\u001B[38;5;241;43m.\u001B[39;49m\u001B[43mget_loc\u001B[49m\u001B[43m(\u001B[49m\u001B[43mindex\u001B[49m\u001B[43m)\u001B[49m\n\u001B[1;32m   4210\u001B[0m     \u001B[38;5;28;01mreturn\u001B[39;00m series\u001B[38;5;241m.\u001B[39m_values[row]\n\u001B[1;32m   4212\u001B[0m \u001B[38;5;66;03m# For MultiIndex going through engine effectively restricts us to\u001B[39;00m\n\u001B[1;32m   4213\u001B[0m \u001B[38;5;66;03m#  same-length tuples; see test_get_set_value_no_partial_indexing\u001B[39;00m\n",
      "File \u001B[0;32m~/.local/lib/python3.10/site-packages/pandas/core/indexes/base.py:3812\u001B[0m, in \u001B[0;36mIndex.get_loc\u001B[0;34m(self, key)\u001B[0m\n\u001B[1;32m   3807\u001B[0m     \u001B[38;5;28;01mif\u001B[39;00m \u001B[38;5;28misinstance\u001B[39m(casted_key, \u001B[38;5;28mslice\u001B[39m) \u001B[38;5;129;01mor\u001B[39;00m (\n\u001B[1;32m   3808\u001B[0m         \u001B[38;5;28misinstance\u001B[39m(casted_key, abc\u001B[38;5;241m.\u001B[39mIterable)\n\u001B[1;32m   3809\u001B[0m         \u001B[38;5;129;01mand\u001B[39;00m \u001B[38;5;28many\u001B[39m(\u001B[38;5;28misinstance\u001B[39m(x, \u001B[38;5;28mslice\u001B[39m) \u001B[38;5;28;01mfor\u001B[39;00m x \u001B[38;5;129;01min\u001B[39;00m casted_key)\n\u001B[1;32m   3810\u001B[0m     ):\n\u001B[1;32m   3811\u001B[0m         \u001B[38;5;28;01mraise\u001B[39;00m InvalidIndexError(key)\n\u001B[0;32m-> 3812\u001B[0m     \u001B[38;5;28;01mraise\u001B[39;00m \u001B[38;5;167;01mKeyError\u001B[39;00m(key) \u001B[38;5;28;01mfrom\u001B[39;00m \u001B[38;5;21;01merr\u001B[39;00m\n\u001B[1;32m   3813\u001B[0m \u001B[38;5;28;01mexcept\u001B[39;00m \u001B[38;5;167;01mTypeError\u001B[39;00m:\n\u001B[1;32m   3814\u001B[0m     \u001B[38;5;66;03m# If we have a listlike key, _check_indexing_error will raise\u001B[39;00m\n\u001B[1;32m   3815\u001B[0m     \u001B[38;5;66;03m#  InvalidIndexError. Otherwise we fall through and re-raise\u001B[39;00m\n\u001B[1;32m   3816\u001B[0m     \u001B[38;5;66;03m#  the TypeError.\u001B[39;00m\n\u001B[1;32m   3817\u001B[0m     \u001B[38;5;28mself\u001B[39m\u001B[38;5;241m.\u001B[39m_check_indexing_error(key)\n",
      "\u001B[0;31mKeyError\u001B[0m: 'gender'"
     ]
    }
   ],
   "execution_count": 5
  },
  {
   "cell_type": "code",
   "metadata": {},
   "source": "result.ds.data",
   "outputs": [],
   "execution_count": null
  }
 ],
 "metadata": {
  "kernelspec": {
   "display_name": "Python 3",
   "language": "python",
   "name": "python3"
  },
  "language_info": {
   "codemirror_mode": {
    "name": "ipython",
    "version": 3
   },
   "file_extension": ".py",
   "mimetype": "text/x-python",
   "name": "python",
   "nbconvert_exporter": "python",
   "pygments_lexer": "ipython3",
   "version": "3.12.0"
  }
 },
 "nbformat": 4,
 "nbformat_minor": 2
}

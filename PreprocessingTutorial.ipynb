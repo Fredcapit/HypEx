{
 "cells": [
  {
   "cell_type": "code",
   "metadata": {
    "metadata": {},
    "ExecuteTime": {
     "end_time": "2024-08-08T12:15:19.159486Z",
     "start_time": "2024-08-08T12:15:17.712542Z"
    }
   },
   "source": [
    "import copy\n",
    "\n",
    "from hypex.experiments.preprocessing import PREPROCESSING_DATA\n",
    "from hypex.dataset import Dataset, ExperimentData, InfoRole, TreatmentRole, TargetRole, FeatureRole"
   ],
   "outputs": [],
   "execution_count": 1
  },
  {
   "cell_type": "markdown",
   "metadata": {},
   "source": [
    "# Test dataset creation "
   ]
  },
  {
   "cell_type": "code",
   "metadata": {
    "metadata": {},
    "ExecuteTime": {
     "end_time": "2024-08-08T12:15:19.243099Z",
     "start_time": "2024-08-08T12:15:19.161409Z"
    }
   },
   "source": [
    "from hypex.dataset import PreTargetRole\n",
    "\n",
    "data = Dataset(\n",
    "    roles={\n",
    "        \"user_id\": InfoRole(),\n",
    "        \"signup_month\": FeatureRole(),\n",
    "        \"treat\": TreatmentRole(),\n",
    "        \"pre_spends\": PreTargetRole(),\n",
    "        \"post_spends\": TargetRole(),\n",
    "        \"age\": FeatureRole(),\n",
    "        \"gender\": FeatureRole(),\n",
    "        \"industry\": FeatureRole(),\n",
    "    }, data=\"data.csv\",\n",
    ")\n",
    "data = data.add_column(data[\"post_spends\"], {\"poust_spends\": TargetRole(float)})\n",
    "data"
   ],
   "outputs": [
    {
     "data": {
      "text/plain": [
       "      user_id  signup_month  treat  pre_spends  post_spends   age gender  \\\n",
       "0           0             0      0       488.0   414.444444   NaN      M   \n",
       "1           1             8      1       512.5   462.222222  26.0    NaN   \n",
       "2           2             7      1       483.0   479.444444  25.0      M   \n",
       "3           3             0      0       501.5   424.333333  39.0      M   \n",
       "4           4             1      1       543.0   514.555556  18.0      F   \n",
       "...       ...           ...    ...         ...          ...   ...    ...   \n",
       "9995     9995            10      1       538.5   450.444444  42.0      M   \n",
       "9996     9996             0      0       500.5   430.888889  26.0      F   \n",
       "9997     9997             3      1       473.0   534.111111  22.0      F   \n",
       "9998     9998             2      1       495.0   523.222222  67.0      F   \n",
       "9999     9999             7      1       508.0   475.888889  38.0      F   \n",
       "\n",
       "        industry  poust_spends  \n",
       "0     E-commerce    414.444444  \n",
       "1     E-commerce    462.222222  \n",
       "2      Logistics    479.444444  \n",
       "3     E-commerce    424.333333  \n",
       "4     E-commerce    514.555556  \n",
       "...          ...           ...  \n",
       "9995   Logistics    450.444444  \n",
       "9996   Logistics    430.888889  \n",
       "9997  E-commerce    534.111111  \n",
       "9998  E-commerce    523.222222  \n",
       "9999  E-commerce    475.888889  \n",
       "\n",
       "[10000 rows x 9 columns]"
      ]
     },
     "execution_count": 2,
     "metadata": {},
     "output_type": "execute_result"
    }
   ],
   "execution_count": 2
  },
  {
   "metadata": {
    "ExecuteTime": {
     "end_time": "2024-08-08T12:15:19.250775Z",
     "start_time": "2024-08-08T12:15:19.245135Z"
    }
   },
   "cell_type": "code",
   "source": "data.roles",
   "outputs": [
    {
     "data": {
      "text/plain": [
       "{'user_id': Info(<class 'int'>),\n",
       " 'signup_month': Feature(<class 'int'>),\n",
       " 'treat': Treatment(<class 'int'>),\n",
       " 'pre_spends': PreTarget(<class 'float'>),\n",
       " 'post_spends': Target(<class 'float'>),\n",
       " 'age': Feature(<class 'float'>),\n",
       " 'gender': Feature(<class 'str'>),\n",
       " 'industry': Feature(<class 'str'>),\n",
       " 'poust_spends': Target(<class 'float'>)}"
      ]
     },
     "execution_count": 3,
     "metadata": {},
     "output_type": "execute_result"
    }
   ],
   "execution_count": 3
  },
  {
   "cell_type": "markdown",
   "metadata": {},
   "source": [
    "## Preprocessing"
   ]
  },
  {
   "cell_type": "code",
   "metadata": {
    "ExecuteTime": {
     "end_time": "2024-08-08T12:15:19.304806Z",
     "start_time": "2024-08-08T12:15:19.252677Z"
    }
   },
   "source": [
    "from hypex.comparators import GroupDifference, KSTest\n",
    "\n",
    "pl_data = copy.deepcopy(data)\n",
    "test = KSTest(compare_by=\"columns\", grouping_role=TreatmentRole())\n",
    "ed = ExperimentData(pl_data)\n",
    "result = test.execute(ed)"
   ],
   "outputs": [],
   "execution_count": 4
  },
  {
   "cell_type": "code",
   "metadata": {
    "ExecuteTime": {
     "end_time": "2024-08-08T12:15:19.324915Z",
     "start_time": "2024-08-08T12:15:19.306949Z"
    }
   },
   "source": [
    "result.ds"
   ],
   "outputs": [
    {
     "data": {
      "text/plain": [
       "      user_id  signup_month  treat  pre_spends  post_spends   age gender  \\\n",
       "0           0             0      0       488.0   414.444444   NaN      M   \n",
       "1           1             8      1       512.5   462.222222  26.0    NaN   \n",
       "2           2             7      1       483.0   479.444444  25.0      M   \n",
       "3           3             0      0       501.5   424.333333  39.0      M   \n",
       "4           4             1      1       543.0   514.555556  18.0      F   \n",
       "...       ...           ...    ...         ...          ...   ...    ...   \n",
       "9995     9995            10      1       538.5   450.444444  42.0      M   \n",
       "9996     9996             0      0       500.5   430.888889  26.0      F   \n",
       "9997     9997             3      1       473.0   534.111111  22.0      F   \n",
       "9998     9998             2      1       495.0   523.222222  67.0      F   \n",
       "9999     9999             7      1       508.0   475.888889  38.0      F   \n",
       "\n",
       "        industry  poust_spends  \n",
       "0     E-commerce    414.444444  \n",
       "1     E-commerce    462.222222  \n",
       "2      Logistics    479.444444  \n",
       "3     E-commerce    424.333333  \n",
       "4     E-commerce    514.555556  \n",
       "...          ...           ...  \n",
       "9995   Logistics    450.444444  \n",
       "9996   Logistics    430.888889  \n",
       "9997  E-commerce    534.111111  \n",
       "9998  E-commerce    523.222222  \n",
       "9999  E-commerce    475.888889  \n",
       "\n",
       "[10000 rows x 9 columns]"
      ]
     },
     "execution_count": 5,
     "metadata": {},
     "output_type": "execute_result"
    }
   ],
   "execution_count": 5
  },
  {
   "cell_type": "code",
   "metadata": {
    "ExecuteTime": {
     "end_time": "2024-08-08T12:15:19.338495Z",
     "start_time": "2024-08-08T12:15:19.327065Z"
    }
   },
   "source": "result.analysis_tables",
   "outputs": [
    {
     "data": {
      "text/plain": [
       "{\"KSTest┴┴['post_spends', 'poust_spends']\":               p-value  statistic  pass\n",
       " post_spends       0.0     0.5913   1.0\n",
       " poust_spends      0.0     0.5913   1.0}"
      ]
     },
     "execution_count": 6,
     "metadata": {},
     "output_type": "execute_result"
    }
   ],
   "execution_count": 6
  }
 ],
 "metadata": {
  "kernelspec": {
   "display_name": "Python 3",
   "language": "python",
   "name": "python3"
  },
  "language_info": {
   "codemirror_mode": {
    "name": "ipython",
    "version": 3
   },
   "file_extension": ".py",
   "mimetype": "text/x-python",
   "name": "python",
   "nbconvert_exporter": "python",
   "pygments_lexer": "ipython3",
   "version": "3.10.12"
  }
 },
 "nbformat": 4,
 "nbformat_minor": 2
}

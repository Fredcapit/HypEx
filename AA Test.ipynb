{
 "cells": [
  {
   "cell_type": "markdown",
   "id": "64e2de80",
   "metadata": {},
   "source": [
    "# AA test    \n",
    "\n",
    "_An A/A test is a variation of an A/B test, the peculiarity of which is that the original is compared with itself, as opposed to an A/B test, which compares samples before and after exposure._"
   ]
  },
  {
   "cell_type": "markdown",
   "id": "9f52ff79",
   "metadata": {},
   "source": [
    "## 0. Import Libraries"
   ]
  },
  {
   "cell_type": "code",
   "id": "6c2c62f0",
   "metadata": {
    "ExecuteTime": {
     "end_time": "2024-08-21T13:49:47.927993Z",
     "start_time": "2024-08-21T13:49:47.924341Z"
    }
   },
   "source": [
    "import numpy as np\n",
    "import pandas as pd\n",
    "\n",
    "from hypex import AATest\n",
    "from hypex.utils.tutorial_data_creation import create_test_data\n",
    "\n",
    "pd.options.display.float_format = '{:,.2f}'.format\n",
    "\n",
    "np.random.seed(42)  # needed to create example data"
   ],
   "outputs": [],
   "execution_count": 55
  },
  {
   "cell_type": "code",
   "id": "dfdea8117d160056",
   "metadata": {
    "collapsed": false,
    "ExecuteTime": {
     "end_time": "2024-08-21T13:49:48.354905Z",
     "start_time": "2024-08-21T13:49:48.351229Z"
    }
   },
   "source": [
    "def show_result(result):\n",
    "    for k, v in result.items():\n",
    "        print(k)\n",
    "        display(v)\n",
    "        print()"
   ],
   "outputs": [],
   "execution_count": 56
  },
  {
   "cell_type": "markdown",
   "id": "2dca3eaa",
   "metadata": {},
   "source": [
    "## 1. Create or upload your dataset\n",
    "In this case we will create random dataset with known effect size  \n",
    "If you have your own dataset, go to the part 2 "
   ]
  },
  {
   "cell_type": "code",
   "id": "7b655d2d",
   "metadata": {
    "ExecuteTime": {
     "end_time": "2024-08-21T13:49:56.069273Z",
     "start_time": "2024-08-21T13:49:48.404335Z"
    }
   },
   "source": [
    "data = create_test_data(rs=52, na_step=10, nan_cols=['age', 'gender'])\n",
    "data"
   ],
   "outputs": [
    {
     "data": {
      "text/plain": [
       "      user_id  signup_month  treat  pre_spends  post_spends   age gender  \\\n",
       "0           0             0      0      488.00       414.44   NaN      M   \n",
       "1           1             8      1      512.50       462.22 26.00    NaN   \n",
       "2           2             7      1      483.00       479.44 25.00      M   \n",
       "3           3             0      0      501.50       424.33 39.00      M   \n",
       "4           4             1      1      543.00       514.56 18.00      F   \n",
       "...       ...           ...    ...         ...          ...   ...    ...   \n",
       "9995     9995            10      1      538.50       450.44 42.00      M   \n",
       "9996     9996             0      0      500.50       430.89 26.00      F   \n",
       "9997     9997             3      1      473.00       534.11 22.00      F   \n",
       "9998     9998             2      1      495.00       523.22 67.00      F   \n",
       "9999     9999             7      1      508.00       475.89 38.00      F   \n",
       "\n",
       "        industry  \n",
       "0     E-commerce  \n",
       "1     E-commerce  \n",
       "2      Logistics  \n",
       "3     E-commerce  \n",
       "4     E-commerce  \n",
       "...          ...  \n",
       "9995   Logistics  \n",
       "9996   Logistics  \n",
       "9997  E-commerce  \n",
       "9998  E-commerce  \n",
       "9999  E-commerce  \n",
       "\n",
       "[10000 rows x 8 columns]"
      ],
      "text/html": [
       "<div>\n",
       "<style scoped>\n",
       "    .dataframe tbody tr th:only-of-type {\n",
       "        vertical-align: middle;\n",
       "    }\n",
       "\n",
       "    .dataframe tbody tr th {\n",
       "        vertical-align: top;\n",
       "    }\n",
       "\n",
       "    .dataframe thead th {\n",
       "        text-align: right;\n",
       "    }\n",
       "</style>\n",
       "<table border=\"1\" class=\"dataframe\">\n",
       "  <thead>\n",
       "    <tr style=\"text-align: right;\">\n",
       "      <th></th>\n",
       "      <th>user_id</th>\n",
       "      <th>signup_month</th>\n",
       "      <th>treat</th>\n",
       "      <th>pre_spends</th>\n",
       "      <th>post_spends</th>\n",
       "      <th>age</th>\n",
       "      <th>gender</th>\n",
       "      <th>industry</th>\n",
       "    </tr>\n",
       "  </thead>\n",
       "  <tbody>\n",
       "    <tr>\n",
       "      <th>0</th>\n",
       "      <td>0</td>\n",
       "      <td>0</td>\n",
       "      <td>0</td>\n",
       "      <td>488.00</td>\n",
       "      <td>414.44</td>\n",
       "      <td>NaN</td>\n",
       "      <td>M</td>\n",
       "      <td>E-commerce</td>\n",
       "    </tr>\n",
       "    <tr>\n",
       "      <th>1</th>\n",
       "      <td>1</td>\n",
       "      <td>8</td>\n",
       "      <td>1</td>\n",
       "      <td>512.50</td>\n",
       "      <td>462.22</td>\n",
       "      <td>26.00</td>\n",
       "      <td>NaN</td>\n",
       "      <td>E-commerce</td>\n",
       "    </tr>\n",
       "    <tr>\n",
       "      <th>2</th>\n",
       "      <td>2</td>\n",
       "      <td>7</td>\n",
       "      <td>1</td>\n",
       "      <td>483.00</td>\n",
       "      <td>479.44</td>\n",
       "      <td>25.00</td>\n",
       "      <td>M</td>\n",
       "      <td>Logistics</td>\n",
       "    </tr>\n",
       "    <tr>\n",
       "      <th>3</th>\n",
       "      <td>3</td>\n",
       "      <td>0</td>\n",
       "      <td>0</td>\n",
       "      <td>501.50</td>\n",
       "      <td>424.33</td>\n",
       "      <td>39.00</td>\n",
       "      <td>M</td>\n",
       "      <td>E-commerce</td>\n",
       "    </tr>\n",
       "    <tr>\n",
       "      <th>4</th>\n",
       "      <td>4</td>\n",
       "      <td>1</td>\n",
       "      <td>1</td>\n",
       "      <td>543.00</td>\n",
       "      <td>514.56</td>\n",
       "      <td>18.00</td>\n",
       "      <td>F</td>\n",
       "      <td>E-commerce</td>\n",
       "    </tr>\n",
       "    <tr>\n",
       "      <th>...</th>\n",
       "      <td>...</td>\n",
       "      <td>...</td>\n",
       "      <td>...</td>\n",
       "      <td>...</td>\n",
       "      <td>...</td>\n",
       "      <td>...</td>\n",
       "      <td>...</td>\n",
       "      <td>...</td>\n",
       "    </tr>\n",
       "    <tr>\n",
       "      <th>9995</th>\n",
       "      <td>9995</td>\n",
       "      <td>10</td>\n",
       "      <td>1</td>\n",
       "      <td>538.50</td>\n",
       "      <td>450.44</td>\n",
       "      <td>42.00</td>\n",
       "      <td>M</td>\n",
       "      <td>Logistics</td>\n",
       "    </tr>\n",
       "    <tr>\n",
       "      <th>9996</th>\n",
       "      <td>9996</td>\n",
       "      <td>0</td>\n",
       "      <td>0</td>\n",
       "      <td>500.50</td>\n",
       "      <td>430.89</td>\n",
       "      <td>26.00</td>\n",
       "      <td>F</td>\n",
       "      <td>Logistics</td>\n",
       "    </tr>\n",
       "    <tr>\n",
       "      <th>9997</th>\n",
       "      <td>9997</td>\n",
       "      <td>3</td>\n",
       "      <td>1</td>\n",
       "      <td>473.00</td>\n",
       "      <td>534.11</td>\n",
       "      <td>22.00</td>\n",
       "      <td>F</td>\n",
       "      <td>E-commerce</td>\n",
       "    </tr>\n",
       "    <tr>\n",
       "      <th>9998</th>\n",
       "      <td>9998</td>\n",
       "      <td>2</td>\n",
       "      <td>1</td>\n",
       "      <td>495.00</td>\n",
       "      <td>523.22</td>\n",
       "      <td>67.00</td>\n",
       "      <td>F</td>\n",
       "      <td>E-commerce</td>\n",
       "    </tr>\n",
       "    <tr>\n",
       "      <th>9999</th>\n",
       "      <td>9999</td>\n",
       "      <td>7</td>\n",
       "      <td>1</td>\n",
       "      <td>508.00</td>\n",
       "      <td>475.89</td>\n",
       "      <td>38.00</td>\n",
       "      <td>F</td>\n",
       "      <td>E-commerce</td>\n",
       "    </tr>\n",
       "  </tbody>\n",
       "</table>\n",
       "<p>10000 rows × 8 columns</p>\n",
       "</div>"
      ]
     },
     "execution_count": 57,
     "metadata": {},
     "output_type": "execute_result"
    }
   ],
   "execution_count": 57
  },
  {
   "cell_type": "markdown",
   "id": "a0402e83",
   "metadata": {},
   "source": [
    "## 2. AATest "
   ]
  },
  {
   "cell_type": "markdown",
   "id": "b3733f84",
   "metadata": {},
   "source": [
    "### 2.0 Initialize parameters\n",
    "`info_col` used to define informative attributes that should NOT be part of testing, such as user_id and signup_month <br>"
   ]
  },
  {
   "cell_type": "code",
   "id": "bc8e4ac0",
   "metadata": {
    "ExecuteTime": {
     "end_time": "2024-08-21T13:49:56.076307Z",
     "start_time": "2024-08-21T13:49:56.071412Z"
    }
   },
   "source": [
    "info_cols = ['user_id', 'signup_month']\n",
    "target = ['post_spends', 'pre_spends']"
   ],
   "outputs": [],
   "execution_count": 58
  },
  {
   "cell_type": "markdown",
   "id": "75c196ea",
   "metadata": {},
   "source": [
    "### 2.1 Simple AA-test\n",
    "This is the easiest way to initialize and calculate metrics on a AA-test (default - on 2000 iterations)<br>Use it when you are clear about each attribute or if you don't have any additional task conditions (like grouping)    \n",
    "\n",
    "You can also add some extra arguments to the process(): \n",
    "* plot_set - types of plot, that you want to show (\"hist\", \"cumulative\", \"percentile\")\n",
    "* figsize - size of figure for plots \n",
    "* alpha - value to change the transparency of the histogram plot \n",
    "* bins - generic bin parameter that can be the name of a reference rule, the number of bins, or the breaks of the bins \n",
    "* title_size - size of title for plots"
   ]
  },
  {
   "cell_type": "code",
   "id": "701d20c0",
   "metadata": {
    "ExecuteTime": {
     "end_time": "2024-08-21T13:49:56.093194Z",
     "start_time": "2024-08-21T13:49:56.077811Z"
    }
   },
   "source": [
    "experiment = AATest(info_cols=info_cols, target_fields=target)"
   ],
   "outputs": [],
   "execution_count": 59
  },
  {
   "cell_type": "code",
   "id": "a3d70bf6",
   "metadata": {
    "scrolled": true,
    "ExecuteTime": {
     "end_time": "2024-08-21T13:49:56.131843Z",
     "start_time": "2024-08-21T13:49:56.095428Z"
    }
   },
   "source": "results = experiment.process(data, iterations=2000, split_write_mode=\"all\")",
   "outputs": [
    {
     "ename": "TypeError",
     "evalue": "hypex.ab_test.aa_tester.AATest.calc_uniform_tests() got multiple values for keyword argument 'experiment_write_mode'",
     "output_type": "error",
     "traceback": [
      "\u001B[0;31m---------------------------------------------------------------------------\u001B[0m",
      "\u001B[0;31mTypeError\u001B[0m                                 Traceback (most recent call last)",
      "Cell \u001B[0;32mIn[60], line 1\u001B[0m\n\u001B[0;32m----> 1\u001B[0m results \u001B[38;5;241m=\u001B[39m \u001B[43mexperiment\u001B[49m\u001B[38;5;241;43m.\u001B[39;49m\u001B[43mprocess\u001B[49m\u001B[43m(\u001B[49m\u001B[43mdata\u001B[49m\u001B[43m,\u001B[49m\u001B[43m \u001B[49m\u001B[43miterations\u001B[49m\u001B[38;5;241;43m=\u001B[39;49m\u001B[38;5;241;43m2000\u001B[39;49m\u001B[43m,\u001B[49m\u001B[43m \u001B[49m\u001B[43mexperiment_write_mode\u001B[49m\u001B[38;5;241;43m=\u001B[39;49m\u001B[38;5;124;43m\"\u001B[39;49m\u001B[38;5;124;43mall\u001B[39;49m\u001B[38;5;124;43m\"\u001B[39;49m\u001B[43m)\u001B[49m\n",
      "File \u001B[0;32m~/job/HypEx/hypex/ab_test/aa_tester.py:1296\u001B[0m, in \u001B[0;36mAATest.process\u001B[0;34m(self, data, optimize_groups, iterations, show_plots, test_size, pbar, group_field, **kwargs)\u001B[0m\n\u001B[1;32m   1293\u001B[0m                 max_score \u001B[38;5;241m=\u001B[39m group_score\n\u001B[1;32m   1295\u001B[0m \u001B[38;5;28;01melse\u001B[39;00m:\n\u001B[0;32m-> 1296\u001B[0m     best_results, best_split \u001B[38;5;241m=\u001B[39m \u001B[38;5;28mself\u001B[39m\u001B[38;5;241m.\u001B[39mcalc_uniform_tests(\n\u001B[1;32m   1297\u001B[0m         data,\n\u001B[1;32m   1298\u001B[0m         experiment_write_mode\u001B[38;5;241m=\u001B[39m\u001B[38;5;124m\"\u001B[39m\u001B[38;5;124mfull\u001B[39m\u001B[38;5;124m\"\u001B[39m,\n\u001B[1;32m   1299\u001B[0m         split_write_mode\u001B[38;5;241m=\u001B[39m\u001B[38;5;124m\"\u001B[39m\u001B[38;5;124many\u001B[39m\u001B[38;5;124m\"\u001B[39m,\n\u001B[1;32m   1300\u001B[0m         iterations\u001B[38;5;241m=\u001B[39miterations,\n\u001B[1;32m   1301\u001B[0m         test_size\u001B[38;5;241m=\u001B[39mtest_size,\n\u001B[1;32m   1302\u001B[0m         pbar\u001B[38;5;241m=\u001B[39mpbar,\n\u001B[1;32m   1303\u001B[0m         \u001B[38;5;241m*\u001B[39m\u001B[38;5;241m*\u001B[39mkwargs,\n\u001B[1;32m   1304\u001B[0m     )\n\u001B[1;32m   1306\u001B[0m \u001B[38;5;28;01mif\u001B[39;00m \u001B[38;5;28mlen\u001B[39m(best_results) \u001B[38;5;241m==\u001B[39m \u001B[38;5;241m0\u001B[39m:\n\u001B[1;32m   1307\u001B[0m     \u001B[38;5;28;01mreturn\u001B[39;00m best_results, best_split\n",
      "\u001B[0;31mTypeError\u001B[0m: hypex.ab_test.aa_tester.AATest.calc_uniform_tests() got multiple values for keyword argument 'experiment_write_mode'"
     ]
    }
   ],
   "execution_count": 60
  },
  {
   "cell_type": "code",
   "id": "2adb8cdd",
   "metadata": {},
   "source": [
    "results.keys()"
   ],
   "outputs": [],
   "execution_count": null
  },
  {
   "cell_type": "markdown",
   "id": "d9f415c2",
   "metadata": {},
   "source": [
    "`results` is a dictionary with dataframes as values.<br>\n",
    "* 'split' - result of separation, column 'group' contains values 'test' and 'control'  \n",
    "* 'resume' - summary of all results   \n",
    "* 'aa_score' - score of T-test and Kolmogorov-Smirnov test \n",
    "* 'experiments' - is a table of results of experiments, which includes \n",
    "    - means of all targets in a and b samples, \n",
    "    - p_values of Student t-test and test Kolmogorova-Smirnova, \n",
    "    - and results of tests (did data on the random_state passes the uniform test)\n",
    "* 'best_experiment_stat' - like previous point but only for the best experiment \n",
    "* 'split_stat' - metrics and statistics tests for result of split\n",
    "\n"
   ]
  },
  {
   "cell_type": "code",
   "id": "ea319b3762723578",
   "metadata": {
    "collapsed": false
   },
   "source": [
    "results['aa_score']"
   ],
   "outputs": [],
   "execution_count": null
  },
  {
   "cell_type": "code",
   "id": "9743659416932461",
   "metadata": {
    "collapsed": false
   },
   "source": [
    "results['resume']"
   ],
   "outputs": [],
   "execution_count": null
  },
  {
   "cell_type": "markdown",
   "id": "c277b0b9",
   "metadata": {},
   "source": [
    "### 2.2 Single experiment\n",
    "To get stable results lets fix `random_state`"
   ]
  },
  {
   "cell_type": "code",
   "id": "01265e9e",
   "metadata": {},
   "source": [
    "random_state = 11"
   ],
   "outputs": [],
   "execution_count": null
  },
  {
   "cell_type": "markdown",
   "id": "c4a1cd70",
   "metadata": {},
   "source": [
    "To perform single experiment you can use `sampling_metrics()`"
   ]
  },
  {
   "cell_type": "code",
   "id": "6f1a8cf6",
   "metadata": {},
   "source": [
    "experiment = AATest(info_cols=info_cols, target_fields=target)\n",
    "metrics, dict_of_datas = experiment.sampling_metrics(data=data, random_state=random_state).values()"
   ],
   "outputs": [],
   "execution_count": null
  },
  {
   "cell_type": "markdown",
   "id": "4971e2e8",
   "metadata": {},
   "source": [
    "The results contains the same info as in multisampling, but on one experiment"
   ]
  },
  {
   "cell_type": "code",
   "id": "bad5e42e",
   "metadata": {
    "scrolled": true
   },
   "source": [
    "metrics"
   ],
   "outputs": [],
   "execution_count": null
  },
  {
   "cell_type": "code",
   "id": "a9c3c513",
   "metadata": {},
   "source": [
    "dict_of_datas[random_state]"
   ],
   "outputs": [],
   "execution_count": null
  },
  {
   "cell_type": "code",
   "id": "bc1297497a9c63f7",
   "metadata": {
    "collapsed": false
   },
   "source": [
    "results = experiment.experiment_result_transform(pd.Series(metrics))"
   ],
   "outputs": [],
   "execution_count": null
  },
  {
   "cell_type": "code",
   "id": "8b70cf64c1d013a9",
   "metadata": {
    "collapsed": false
   },
   "source": [
    "results.keys()"
   ],
   "outputs": [],
   "execution_count": null
  },
  {
   "cell_type": "code",
   "id": "82a3bf8a9bdca25",
   "metadata": {
    "collapsed": false
   },
   "source": [
    "results['best_experiment_stat']"
   ],
   "outputs": [],
   "execution_count": null
  },
  {
   "cell_type": "code",
   "id": "d168c3717090854a",
   "metadata": {
    "collapsed": false
   },
   "source": [
    "results['best_split_stat']"
   ],
   "outputs": [],
   "execution_count": null
  },
  {
   "cell_type": "markdown",
   "id": "5017639b",
   "metadata": {},
   "source": [
    "### 2.3 AA-test with grouping"
   ]
  },
  {
   "cell_type": "markdown",
   "id": "e3a32245",
   "metadata": {},
   "source": [
    "To perform experiment that separates samples by groups `group_col` can be used"
   ]
  },
  {
   "cell_type": "code",
   "id": "2fba205a",
   "metadata": {},
   "source": [
    "info_cols = ['user_id', 'signup_month']\n",
    "target = ['post_spends', 'pre_spends']\n",
    "\n",
    "group_cols = 'industry'"
   ],
   "outputs": [],
   "execution_count": null
  },
  {
   "cell_type": "code",
   "id": "b5896bf8",
   "metadata": {},
   "source": [
    "experiment = AATest(info_cols=info_cols, target_fields=target, group_cols=group_cols)"
   ],
   "outputs": [],
   "execution_count": null
  },
  {
   "cell_type": "code",
   "id": "6155253f",
   "metadata": {},
   "source": [
    "results = experiment.process(data=data, iterations=2000)"
   ],
   "outputs": [],
   "execution_count": null
  },
  {
   "cell_type": "markdown",
   "id": "45f18b03",
   "metadata": {},
   "source": [
    "The result is in the same format as without groups\n",
    "\n",
    "In this regime groups equally divided on each sample (test and control):"
   ]
  },
  {
   "cell_type": "code",
   "id": "451022e7ea12f453",
   "metadata": {
    "collapsed": false
   },
   "source": [
    "results['split']['industry'].value_counts(normalize=True) * 100"
   ],
   "outputs": [],
   "execution_count": null
  },
  {
   "cell_type": "code",
   "id": "520ed05c",
   "metadata": {},
   "source": [
    "results['split'].groupby(['industry', 'group'])[['user_id']].count()"
   ],
   "outputs": [],
   "execution_count": null
  },
  {
   "cell_type": "code",
   "id": "726f57af0084ff72",
   "metadata": {
    "collapsed": false
   },
   "source": [
    "show_result(results)"
   ],
   "outputs": [],
   "execution_count": null
  },
  {
   "cell_type": "markdown",
   "id": "ef48eafa-6c17-4d40-a647-6d00d6b52a39",
   "metadata": {},
   "source": [
    "### 2.4 AA with optimize group \n",
    "\n",
    "_If you have many columns for grouping and don't know which colun or columns will make best result, you can use parametr `optimize_group=True`.\n",
    "AA-Test will choose optimal number and names of group columns._"
   ]
  },
  {
   "cell_type": "markdown",
   "id": "803a2ebca97c85d3",
   "metadata": {
    "collapsed": false
   },
   "source": [
    "You can use `columns_labeling` to automatically name columns as target and group."
   ]
  },
  {
   "cell_type": "code",
   "id": "77227253-2569-4a54-9d11-77c53e6a69eb",
   "metadata": {},
   "source": [
    "experiment.columns_labeling(data)"
   ],
   "outputs": [],
   "execution_count": null
  },
  {
   "cell_type": "code",
   "id": "b6c733e6-8518-48bf-b24d-2c392a788889",
   "metadata": {},
   "source": [
    "results = experiment.process(data=data, optimize_groups=True, iterations=2000)"
   ],
   "outputs": [],
   "execution_count": null
  },
  {
   "cell_type": "code",
   "id": "e6c4eb05-0acd-4148-a1df-04e232ef290d",
   "metadata": {},
   "source": [
    "experiment.group_cols"
   ],
   "outputs": [],
   "execution_count": null
  },
  {
   "cell_type": "code",
   "id": "86f940251f22929a",
   "metadata": {
    "collapsed": false
   },
   "source": [
    "show_result(results)"
   ],
   "outputs": [],
   "execution_count": null
  },
  {
   "cell_type": "markdown",
   "id": "6adf0fc69f8fb0a5",
   "metadata": {
    "collapsed": false
   },
   "source": [
    "### 2.5 AA test with quantization \n",
    "\n",
    "_If you want make one column as parameter for quantization, you may use `quant_field`._"
   ]
  },
  {
   "cell_type": "code",
   "id": "477b674bba35639d",
   "metadata": {
    "collapsed": false
   },
   "source": [
    "info_cols = ['user_id', 'signup_month']\n",
    "target = ['post_spends', 'pre_spends']\n",
    "\n",
    "group_cols = 'industry'\n",
    "quant_field = 'gender'"
   ],
   "outputs": [],
   "execution_count": null
  },
  {
   "cell_type": "code",
   "id": "8d2de96c1680ec35",
   "metadata": {
    "collapsed": false
   },
   "source": [
    "experiment = AATest(info_cols=info_cols, target_fields=target, group_cols=group_cols, quant_field=quant_field)"
   ],
   "outputs": [],
   "execution_count": null
  },
  {
   "cell_type": "code",
   "id": "319e1e677e4d3b1",
   "metadata": {
    "collapsed": false
   },
   "source": [
    "result = experiment.process(data=data, iterations=2000)"
   ],
   "outputs": [],
   "execution_count": null
  },
  {
   "cell_type": "code",
   "id": "6ffeaefb9285e2a1",
   "metadata": {
    "collapsed": false
   },
   "source": [
    "result['split'].groupby(['gender', 'industry', 'group'])['user_id'].count()\n"
   ],
   "outputs": [],
   "execution_count": null
  },
  {
   "cell_type": "code",
   "id": "6411dc57079f1316",
   "metadata": {
    "collapsed": false
   },
   "source": [
    "show_result(result)"
   ],
   "outputs": [],
   "execution_count": null
  },
  {
   "cell_type": "markdown",
   "id": "cffcad06fd42968",
   "metadata": {
    "collapsed": false
   },
   "source": [
    "### 2.6 Unbalanced AA test\n",
    "\n",
    "_If you want to perform AA test with unbalanced groups, you can use parametr `test_size` to define sizes of test group and control group_"
   ]
  },
  {
   "cell_type": "code",
   "id": "ec010ddeab79c96a",
   "metadata": {
    "collapsed": false
   },
   "source": [
    "info_cols = ['user_id', 'signup_month']\n",
    "target = ['post_spends', 'pre_spends']\n",
    "\n",
    "group_cols = 'industry'"
   ],
   "outputs": [],
   "execution_count": null
  },
  {
   "cell_type": "code",
   "id": "91943d71e588c78",
   "metadata": {
    "collapsed": false
   },
   "source": [
    "experiment = AATest(info_cols=info_cols, target_fields=target, group_cols=group_cols)"
   ],
   "outputs": [],
   "execution_count": null
  },
  {
   "cell_type": "code",
   "id": "8e177ae5712350f4",
   "metadata": {
    "collapsed": false
   },
   "source": [
    "result = experiment.process(data=data, test_size=0.3, iterations=2000)"
   ],
   "outputs": [],
   "execution_count": null
  },
  {
   "cell_type": "code",
   "id": "166b6a3a05f173c4",
   "metadata": {
    "collapsed": false
   },
   "source": [
    "result['split']['group'].value_counts(normalize=True)"
   ],
   "outputs": [],
   "execution_count": null
  },
  {
   "cell_type": "code",
   "id": "52f1f22bd39ecfa1",
   "metadata": {
    "collapsed": false
   },
   "source": [
    "show_result(result)"
   ],
   "outputs": [],
   "execution_count": null
  },
  {
   "cell_type": "markdown",
   "id": "906d845f",
   "metadata": {},
   "source": [
    "## MDE    \n",
    "this is the boundary value of the effect, for which it makes sense to introduce some changes. "
   ]
  },
  {
   "cell_type": "code",
   "id": "33cf7c57",
   "metadata": {},
   "source": [
    "info_cols = ['user_id', 'signup_month']\n",
    "target = ['post_spends', 'pre_spends']\n",
    "\n",
    "group_cols = 'industry'\n",
    "mde_target = 'post_spends'"
   ],
   "outputs": [],
   "execution_count": null
  },
  {
   "cell_type": "code",
   "id": "24bc3a9e",
   "metadata": {},
   "source": [
    "experiment = AATest(info_cols=info_cols, target_fields=target, group_cols=group_cols)"
   ],
   "outputs": [],
   "execution_count": null
  },
  {
   "cell_type": "markdown",
   "id": "820a55cd",
   "metadata": {},
   "source": [
    "Single experiment of data splitting for MDE calculation. \n",
    "\n",
    "_P.s. [None] is the number of random state. You can change it like sampling_metrics(data, random_state=42) and get result with [42] instead of [None]_ "
   ]
  },
  {
   "cell_type": "code",
   "id": "14352eba",
   "metadata": {},
   "source": [
    "splitted_data = experiment.sampling_metrics(data)['data_from_experiment'][None]\n",
    "splitted_data"
   ],
   "outputs": [],
   "execution_count": null
  },
  {
   "cell_type": "code",
   "id": "e6b66b61",
   "metadata": {},
   "source": [
    "splitted_data[mde_target].hist()"
   ],
   "outputs": [],
   "execution_count": null
  },
  {
   "cell_type": "markdown",
   "id": "b71fd1b4b45f9fd5",
   "metadata": {},
   "source": [
    "You can evaluate minimum detectable effect for your data. This will be the smallest true effect obtained from the changes, which the statistical criterion will be able to detect with confidence "
   ]
  },
  {
   "cell_type": "code",
   "id": "4f6fc4aa",
   "metadata": {},
   "source": [
    "mde = experiment.calc_mde(data=splitted_data, group_field=\"group\", target_field=mde_target)\n",
    "mde"
   ],
   "outputs": [],
   "execution_count": null
  },
  {
   "cell_type": "markdown",
   "id": "5306416f71359a5a",
   "metadata": {},
   "source": [
    "You can also calculate the amount of data you need to have in order to determine the minimum effect of the test."
   ]
  },
  {
   "cell_type": "code",
   "id": "2b541941",
   "metadata": {},
   "source": [
    "experiment.calc_sample_size(data=splitted_data, target_field=mde_target, mde=5)"
   ],
   "outputs": [],
   "execution_count": null
  },
  {
   "cell_type": "markdown",
   "id": "1a794b76b1b997d9",
   "metadata": {
    "collapsed": false
   },
   "source": [
    "## Chi2 Test"
   ]
  },
  {
   "cell_type": "code",
   "id": "20a71bf1bc0501f2",
   "metadata": {
    "collapsed": false
   },
   "source": [
    "target = ['post_spends', 'pre_spends'] \n",
    "treated_field = 'treat'"
   ],
   "outputs": [],
   "execution_count": null
  },
  {
   "cell_type": "code",
   "id": "2e0c0b4550bed569",
   "metadata": {
    "collapsed": false
   },
   "source": [
    "experiment = AATest(target_fields=target)"
   ],
   "outputs": [],
   "execution_count": null
  },
  {
   "cell_type": "code",
   "id": "c7d27ccbc0f9fbd0",
   "metadata": {
    "collapsed": false
   },
   "source": [
    "experiment.calc_chi2(data, treated_field)"
   ],
   "outputs": [],
   "execution_count": null
  }
 ],
 "metadata": {
  "kernelspec": {
   "display_name": "Python 3 (ipykernel)",
   "language": "python",
   "name": "python3"
  },
  "language_info": {
   "codemirror_mode": {
    "name": "ipython",
    "version": 3
   },
   "file_extension": ".py",
   "mimetype": "text/x-python",
   "name": "python",
   "nbconvert_exporter": "python",
   "pygments_lexer": "ipython3",
   "version": "3.10.13"
  }
 },
 "nbformat": 4,
 "nbformat_minor": 5
}
